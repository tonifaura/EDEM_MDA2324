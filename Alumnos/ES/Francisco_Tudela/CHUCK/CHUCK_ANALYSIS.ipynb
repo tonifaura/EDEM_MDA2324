{
  "cells": [
    {
      "cell_type": "code",
      "execution_count": 1,
      "metadata": {
        "colab": {
          "base_uri": "https://localhost:8080/"
        },
        "id": "aSrFvwCWE5ME",
        "outputId": "88e0d7ef-ae62-43e7-d552-a9f8ba5f0ed8"
      },
      "outputs": [
        {
          "name": "stderr",
          "output_type": "stream",
          "text": [
            "[nltk_data] Downloading package punkt to /root/nltk_data...\n",
            "[nltk_data]   Unzipping tokenizers/punkt.zip.\n",
            "[nltk_data] Downloading package stopwords to /root/nltk_data...\n",
            "[nltk_data]   Unzipping corpora/stopwords.zip.\n"
          ]
        },
        {
          "name": "stdout",
          "output_type": "stream",
          "text": [
            "Requirement already satisfied: matplotlib in /usr/local/lib/python3.10/dist-packages (3.7.1)\n",
            "Requirement already satisfied: nltk in /usr/local/lib/python3.10/dist-packages (3.8.1)\n",
            "Requirement already satisfied: contourpy>=1.0.1 in /usr/local/lib/python3.10/dist-packages (from matplotlib) (1.2.0)\n",
            "Requirement already satisfied: cycler>=0.10 in /usr/local/lib/python3.10/dist-packages (from matplotlib) (0.12.1)\n",
            "Requirement already satisfied: fonttools>=4.22.0 in /usr/local/lib/python3.10/dist-packages (from matplotlib) (4.44.3)\n",
            "Requirement already satisfied: kiwisolver>=1.0.1 in /usr/local/lib/python3.10/dist-packages (from matplotlib) (1.4.5)\n",
            "Requirement already satisfied: numpy>=1.20 in /usr/local/lib/python3.10/dist-packages (from matplotlib) (1.23.5)\n",
            "Requirement already satisfied: packaging>=20.0 in /usr/local/lib/python3.10/dist-packages (from matplotlib) (23.2)\n",
            "Requirement already satisfied: pillow>=6.2.0 in /usr/local/lib/python3.10/dist-packages (from matplotlib) (9.4.0)\n",
            "Requirement already satisfied: pyparsing>=2.3.1 in /usr/local/lib/python3.10/dist-packages (from matplotlib) (3.1.1)\n",
            "Requirement already satisfied: python-dateutil>=2.7 in /usr/local/lib/python3.10/dist-packages (from matplotlib) (2.8.2)\n",
            "Requirement already satisfied: click in /usr/local/lib/python3.10/dist-packages (from nltk) (8.1.7)\n",
            "Requirement already satisfied: joblib in /usr/local/lib/python3.10/dist-packages (from nltk) (1.3.2)\n",
            "Requirement already satisfied: regex>=2021.8.3 in /usr/local/lib/python3.10/dist-packages (from nltk) (2023.6.3)\n",
            "Requirement already satisfied: tqdm in /usr/local/lib/python3.10/dist-packages (from nltk) (4.66.1)\n",
            "Requirement already satisfied: six>=1.5 in /usr/local/lib/python3.10/dist-packages (from python-dateutil>=2.7->matplotlib) (1.16.0)\n"
          ]
        }
      ],
      "source": [
        "import nltk\n",
        "from nltk import FreqDist\n",
        "from nltk.tokenize import word_tokenize\n",
        "from nltk.corpus import stopwords\n",
        "import matplotlib.pyplot as plt\n",
        "nltk.download('punkt')\n",
        "nltk.download('stopwords')\n",
        "!pip install matplotlib nltk"
      ]
    },
    {
      "cell_type": "code",
      "execution_count": 2,
      "metadata": {
        "colab": {
          "base_uri": "https://localhost:8080/"
        },
        "id": "z7HqY8mFTXXX",
        "outputId": "1b2a8b67-d57e-4791-d319-b8beda772b52"
      },
      "outputs": [
        {
          "name": "stdout",
          "output_type": "stream",
          "text": [
            "Descargando bromas de Chuck Norris...\n"
          ]
        }
      ],
      "source": [
        "import requests\n",
        "import json\n",
        "import time\n",
        "print(\"Descargando bromas de Chuck Norris...\")\n",
        "\n",
        "url = \"https://api.chucknorris.io/jokes/random\"\n",
        "\n",
        "with open(\"results.txt\",\"a\") as f:\n",
        "    for i in range(10):\n",
        "        time.sleep(3)\n",
        "        response = requests.get(url)\n",
        "        la_broma = response.json()[\"value\"]\n",
        "        f.write(la_broma + \"\\n\")"
      ]
    },
    {
      "cell_type": "code",
      "execution_count": 3,
      "metadata": {
        "colab": {
          "base_uri": "https://localhost:8080/"
        },
        "id": "QcFN2QrlR6Ur",
        "outputId": "85144ee3-a7bf-46d1-8072-b358ac03c8bc"
      },
      "outputs": [
        {
          "name": "stdout",
          "output_type": "stream",
          "text": [
            "Chuck Norris can push himself in a wheelbarrow.\n",
            "When Chuck Norris first laid eyes on you, you were already dead\n",
            "Chuck Norris can curdle water just by looking at it.\n",
            "Listen. Understand. Chuck Norris is out there. He can't be reasoned with, he can't be bargained with...he doesn't feel pity of remorse or fear... and he absolutely will not stop. Ever. Until you are dead.\n",
            "Chuck Norris organised a weekend trip .... for 5 days\n",
            "Chuck Norris went on deal or no deal... the banker offered him 100 billion when he got all the top numbers on his fisrt round. he then raised it by 10 times when Chuck Norris said no.... the banker was then killed by picking up the rong phone\n",
            "Chuck Norris can eat a Big Mac with his lips tied behind his back.\n",
            "Chuck Norris is so awesome when he touches your house it burns down.\n",
            "Chuck Norris' sperm can be seen with the naked eye. Each one is the size of a quarter.\n",
            "If you ever insinuate that bearded men are insecure, the last thing you will ever see is Chuck Norris sprinting toward you.\n",
            "\n"
          ]
        }
      ],
      "source": [
        "file_path = \"/content/results.txt\"\n",
        "\n",
        "with open(file_path, \"r\") as file:\n",
        "  bromas = file.read()\n",
        "  print(bromas)"
      ]
    },
    {
      "cell_type": "code",
      "execution_count": 4,
      "metadata": {
        "id": "NY5UMg9dTA0t"
      },
      "outputs": [],
      "source": [
        "palabras = word_tokenize(bromas)"
      ]
    },
    {
      "cell_type": "code",
      "execution_count": 5,
      "metadata": {
        "id": "nkpEfup5TA9f"
      },
      "outputs": [],
      "source": [
        "stop_words = set(stopwords.words('english'))\n",
        "palabras_filtradas = [palabra.lower() for palabra in palabras if palabra.isalpha() and palabra.lower() not in stop_words]"
      ]
    },
    {
      "cell_type": "code",
      "execution_count": 6,
      "metadata": {
        "id": "_VOSBX7ETBC_"
      },
      "outputs": [],
      "source": [
        "frecuencia = FreqDist(palabras_filtradas)"
      ]
    },
    {
      "cell_type": "code",
      "execution_count": 20,
      "metadata": {
        "colab": {
          "base_uri": "https://localhost:8080/",
          "height": 386
        },
        "id": "FF-3o6eFXO34",
        "outputId": "39fa2571-3330-4431-9587-f8411ca77ac7"
      },
      "outputs": [
        {
          "data": {
            "image/png": "[encoded data removed]",
            "text/plain": [
              "<Figure size 600x300 with 1 Axes>"
            ]
          },
          "metadata": {},
          "output_type": "display_data"
        }
      ],
      "source": [
        "plt.figure(figsize=(6, 3))\n",
        "frecuencia.plot(10, cumulative=False)\n",
        "plt.show()"
      ]
    }
  ],
  "metadata": {
    "colab": {
      "provenance": []
    },
    "kernelspec": {
      "display_name": "Python 3",
      "name": "python3"
    },
    "language_info": {
      "name": "python"
    }
  },
  "nbformat": 4,
  "nbformat_minor": 0
}
