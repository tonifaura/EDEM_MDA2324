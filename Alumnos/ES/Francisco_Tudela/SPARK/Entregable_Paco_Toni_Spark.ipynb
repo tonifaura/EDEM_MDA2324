{
  "nbformat": 4,
  "nbformat_minor": 0,
  "metadata": {
    "colab": {
      "provenance": []
    },
    "kernelspec": {
      "name": "python3",
      "display_name": "Python 3"
    },
    "language_info": {
      "name": "python"
    }
  },
  "cells": [
    {
      "cell_type": "code",
      "execution_count": null,
      "metadata": {
        "id": "KstOcS0Mp0Fi"
      },
      "outputs": [],
      "source": [
        "# install Java8\n",
        "!apt-get install openjdk-8-jdk-headless -qq > /dev/null\n",
        "# download spark 3.5.0\n",
        "!wget -q https://apache.osuosl.org/spark/spark-3.5.0/spark-3.5.0-bin-hadoop3.tgz"
      ]
    },
    {
      "cell_type": "code",
      "source": [
        "ls -l # check the .tgz is there"
      ],
      "metadata": {
        "colab": {
          "base_uri": "https://localhost:8080/"
        },
        "id": "wWkZThSWqdUE",
        "outputId": "ac3b05fe-32e8-46d8-85cc-31aa8ddb002f"
      },
      "execution_count": null,
      "outputs": [
        {
          "output_type": "stream",
          "name": "stdout",
          "text": [
            "total 391016\n",
            "drwxr-xr-x 1 root root      4096 Jan 11 17:02 \u001b[0m\u001b[01;34msample_data\u001b[0m/\n",
            "-rw-r--r-- 1 root root 400395283 Sep  9 02:10 spark-3.5.0-bin-hadoop3.tgz\n"
          ]
        }
      ]
    },
    {
      "cell_type": "code",
      "source": [
        "# unzip it\n",
        "!tar xf spark-3.5.0-bin-hadoop3.tgz"
      ],
      "metadata": {
        "id": "JRSeuRelqdcp"
      },
      "execution_count": null,
      "outputs": []
    },
    {
      "cell_type": "code",
      "source": [
        "!pip install -q findspark"
      ],
      "metadata": {
        "id": "do_ZkvDVqdjT"
      },
      "execution_count": null,
      "outputs": []
    },
    {
      "cell_type": "code",
      "source": [
        "\n",
        "!pip install py4j\n",
        "\n",
        "# For maps\n",
        "!pip install folium\n",
        "!pip install plotly"
      ],
      "metadata": {
        "colab": {
          "base_uri": "https://localhost:8080/"
        },
        "id": "rwnsxVmTqdtu",
        "outputId": "1d4293f2-1728-4c41-fa9c-f6b068c475d9"
      },
      "execution_count": null,
      "outputs": [
        {
          "output_type": "stream",
          "name": "stdout",
          "text": [
            "Requirement already satisfied: py4j in /usr/local/lib/python3.10/dist-packages (0.10.9.7)\n",
            "Requirement already satisfied: folium in /usr/local/lib/python3.10/dist-packages (0.14.0)\n",
            "Requirement already satisfied: branca>=0.6.0 in /usr/local/lib/python3.10/dist-packages (from folium) (0.7.0)\n",
            "Requirement already satisfied: jinja2>=2.9 in /usr/local/lib/python3.10/dist-packages (from folium) (3.1.2)\n",
            "Requirement already satisfied: numpy in /usr/local/lib/python3.10/dist-packages (from folium) (1.23.5)\n",
            "Requirement already satisfied: requests in /usr/local/lib/python3.10/dist-packages (from folium) (2.31.0)\n",
            "Requirement already satisfied: MarkupSafe>=2.0 in /usr/local/lib/python3.10/dist-packages (from jinja2>=2.9->folium) (2.1.3)\n",
            "Requirement already satisfied: charset-normalizer<4,>=2 in /usr/local/lib/python3.10/dist-packages (from requests->folium) (3.3.2)\n",
            "Requirement already satisfied: idna<4,>=2.5 in /usr/local/lib/python3.10/dist-packages (from requests->folium) (3.6)\n",
            "Requirement already satisfied: urllib3<3,>=1.21.1 in /usr/local/lib/python3.10/dist-packages (from requests->folium) (2.0.7)\n",
            "Requirement already satisfied: certifi>=2017.4.17 in /usr/local/lib/python3.10/dist-packages (from requests->folium) (2023.11.17)\n",
            "Requirement already satisfied: plotly in /usr/local/lib/python3.10/dist-packages (5.15.0)\n",
            "Requirement already satisfied: tenacity>=6.2.0 in /usr/local/lib/python3.10/dist-packages (from plotly) (8.2.3)\n",
            "Requirement already satisfied: packaging in /usr/local/lib/python3.10/dist-packages (from plotly) (23.2)\n"
          ]
        }
      ]
    },
    {
      "cell_type": "code",
      "source": [
        "import os\n",
        "os.environ[\"JAVA_HOME\"] = \"/usr/lib/jvm/java-8-openjdk-amd64\"\n",
        "os.environ[\"SPARK_HOME\"] = \"/content/spark-3.5.0-bin-hadoop3\"\n",
        "os.environ[\"PYSPARK_SUBMIT_ARGS\"] = \"--master local[*] pyspark-shell\""
      ],
      "metadata": {
        "id": "738fcxv1qdwp"
      },
      "execution_count": null,
      "outputs": []
    },
    {
      "cell_type": "code",
      "source": [
        "import findspark\n",
        "findspark.init(\"spark-3.5.0-bin-hadoop3\")# SPARK_HOME\n",
        "\n",
        "from pyspark.sql import SparkSession\n",
        "\n",
        "# create the session\n",
        "spark = SparkSession \\\n",
        "        .builder \\\n",
        "        .appName(\"DataFrames Basics\") \\\n",
        "        .master(\"local[*]\") \\\n",
        "        .getOrCreate()\n",
        "\n",
        "spark.version"
      ],
      "metadata": {
        "colab": {
          "base_uri": "https://localhost:8080/",
          "height": 35
        },
        "id": "rcT_56BPrpaQ",
        "outputId": "82556b4d-b8f3-450a-90b3-7004218b9ab5"
      },
      "execution_count": null,
      "outputs": [
        {
          "output_type": "execute_result",
          "data": {
            "text/plain": [
              "'3.5.0'"
            ],
            "application/vnd.google.colaboratory.intrinsic+json": {
              "type": "string"
            }
          },
          "metadata": {},
          "execution_count": 7
        }
      ]
    },
    {
      "cell_type": "code",
      "source": [
        "spark"
      ],
      "metadata": {
        "colab": {
          "base_uri": "https://localhost:8080/",
          "height": 219
        },
        "id": "VHsCkl04rpfJ",
        "outputId": "50c4c7ff-a5be-46b5-939b-e7287fddfe7d"
      },
      "execution_count": null,
      "outputs": [
        {
          "output_type": "execute_result",
          "data": {
            "text/plain": [
              "<pyspark.sql.session.SparkSession at 0x7d7a10773460>"
            ],
            "text/html": [
              "\n",
              "            <div>\n",
              "                <p><b>SparkSession - in-memory</b></p>\n",
              "                \n",
              "        <div>\n",
              "            <p><b>SparkContext</b></p>\n",
              "\n",
              "            <p><a href=\"http://4d263241720b:4040\">Spark UI</a></p>\n",
              "\n",
              "            <dl>\n",
              "              <dt>Version</dt>\n",
              "                <dd><code>v3.5.0</code></dd>\n",
              "              <dt>Master</dt>\n",
              "                <dd><code>local[*]</code></dd>\n",
              "              <dt>AppName</dt>\n",
              "                <dd><code>DataFrames Basics</code></dd>\n",
              "            </dl>\n",
              "        </div>\n",
              "        \n",
              "            </div>\n",
              "        "
            ]
          },
          "metadata": {},
          "execution_count": 8
        }
      ]
    },
    {
      "cell_type": "code",
      "source": [
        "# For Pandas conversion optimization\n",
        "spark.conf.set(\"spark.sql.execution.arrow.enabled\", \"true\")"
      ],
      "metadata": {
        "id": "-_9BIgCvrpiw"
      },
      "execution_count": null,
      "outputs": []
    },
    {
      "cell_type": "code",
      "source": [
        "# Import sql functions\n",
        "from pyspark.sql.functions import *"
      ],
      "metadata": {
        "id": "GYLvYBsRrplq"
      },
      "execution_count": null,
      "outputs": []
    },
    {
      "cell_type": "code",
      "source": [
        "ls"
      ],
      "metadata": {
        "colab": {
          "base_uri": "https://localhost:8080/"
        },
        "id": "8eovnzDarpsa",
        "outputId": "91dd8bb2-5a79-4e74-f732-16bff708f00e"
      },
      "execution_count": null,
      "outputs": [
        {
          "output_type": "stream",
          "name": "stdout",
          "text": [
            "\u001b[0m\u001b[01;34msample_data\u001b[0m/  \u001b[01;34mspark-3.5.0-bin-hadoop3\u001b[0m/  spark-3.5.0-bin-hadoop3.tgz\n"
          ]
        }
      ]
    },
    {
      "cell_type": "code",
      "source": [
        "CarsDF = spark.read.option(\"inferSchema\", True).option(\"header\", True).csv(\"./RoadAccidentData.csv\")\n",
        "CarsDF.show()"
      ],
      "metadata": {
        "colab": {
          "base_uri": "https://localhost:8080/"
        },
        "id": "2DFme40Us1hR",
        "outputId": "df3113ef-76a0-46b8-f7d9-c8ebc9437a0a"
      },
      "execution_count": null,
      "outputs": [
        {
          "output_type": "stream",
          "name": "stdout",
          "text": [
            "+--------------+-------------+-----------+--------------------+--------------------+-----------------+---------+--------------------+--------------------------+-------------------+---------+--------------------+------------------+-------------------+-----------------------+------------------+-----------+-------------------+-------------------+--------------------+--------------------+\n",
            "|Accident_Index|Accident Date|Day_of_Week|    Junction_Control|     Junction_Detail|Accident_Severity| Latitude|    Light_Conditions|Local_Authority_(District)|Carriageway_Hazards|Longitude|Number_of_Casualties|Number_of_Vehicles|       Police_Force|Road_Surface_Conditions|         Road_Type|Speed_limit|               Time|Urban_or_Rural_Area|  Weather_Conditions|        Vehicle_Type|\n",
            "+--------------+-------------+-----------+--------------------+--------------------+-----------------+---------+--------------------+--------------------------+-------------------+---------+--------------------+------------------+-------------------+-----------------------+------------------+-----------+-------------------+-------------------+--------------------+--------------------+\n",
            "| 200901BS70001|     1/1/2021|   Thursday|Give way or uncon...|T or staggered ju...|          Serious|51.512273|            Daylight|      Kensington and Ch...|               None|-0.201349|                   1|                 2|Metropolitan Police|                    Dry|    One way street|         30|2024-01-15 15:11:00|              Urban|  Fine no high winds|                 Car|\n",
            "| 200901BS70002|     1/5/2021|     Monday|Give way or uncon...|          Crossroads|          Serious|51.514399|            Daylight|      Kensington and Ch...|               None|-0.199248|                  11|                 2|Metropolitan Police|            Wet or damp|Single carriageway|         30|2024-01-15 10:59:00|              Urban|  Fine no high winds|Taxi/Private hire...|\n",
            "| 200901BS70003|     1/4/2021|     Sunday|Give way or uncon...|T or staggered ju...|           Slight|51.486668|            Daylight|      Kensington and Ch...|               None|-0.179599|                   1|                 2|Metropolitan Police|                    Dry|Single carriageway|         30|2024-01-15 14:19:00|              Urban|  Fine no high winds|Taxi/Private hire...|\n",
            "| 200901BS70004|     1/5/2021|     Monday| Auto traffic signal|T or staggered ju...|          Serious|51.507804|            Daylight|      Kensington and Ch...|               None| -0.20311|                   1|                 2|Metropolitan Police|           Frost or ice|Single carriageway|         30|2024-01-15 08:10:00|              Urban|               Other|Motorcycle over 5...|\n",
            "| 200901BS70005|     1/6/2021|    Tuesday| Auto traffic signal|          Crossroads|          Serious|51.482076|Darkness - lights...|      Kensington and Ch...|               None|-0.173445|                   1|                 2|Metropolitan Police|                    Dry|Single carriageway|         30|2024-01-15 17:25:00|              Urban|  Fine no high winds|                 Car|\n",
            "| 200901BS70006|     1/1/2021|   Thursday|Give way or uncon...|T or staggered ju...|           Slight|51.493415|            Daylight|      Kensington and Ch...|               None|-0.185525|                   3|                 2|Metropolitan Police|                    Dry|Single carriageway|         30|2024-01-15 11:48:00|              Urban|  Fine no high winds|                 Car|\n",
            "| 200901BS70007|     1/8/2021|   Thursday|Give way or uncon...|T or staggered ju...|          Serious|51.480177|            Daylight|      Kensington and Ch...|               None|-0.178561|                   1|                 2|Metropolitan Police|                    Dry|Single carriageway|         30|2024-01-15 13:58:00|              Urban|  Fine no high winds|Motorcycle over 5...|\n",
            "| 200901BS70008|     1/2/2021|     Friday| Auto traffic signal|          Crossroads|           Slight|51.491957|            Daylight|      Kensington and Ch...|               None|-0.178524|                   1|                 1|Metropolitan Police|                    Dry|  Dual carriageway|         30|2024-01-15 13:18:00|              Urban|  Fine no high winds|                 Car|\n",
            "| 200901BS70009|     1/7/2021|  Wednesday|Give way or uncon...|T or staggered ju...|           Slight| 51.49646|            Daylight|      Kensington and Ch...|               None|-0.167395|                   2|                 1|Metropolitan Police|                    Dry|Single carriageway|         30|2024-01-15 12:15:00|              Urban|  Fine no high winds|Van / Goods 3.5 t...|\n",
            "| 200901BS70010|    1/10/2021|   Saturday| Auto traffic signal|          Crossroads|           Slight| 51.48115|            Daylight|      Kensington and Ch...|               None|-0.183275|                   1|                 1|Metropolitan Police|            Wet or damp|Single carriageway|         30|2024-01-15 09:52:00|              Urban|               Other|                 Car|\n",
            "| 200901BS70011|     1/7/2021|  Wednesday| Auto traffic signal|          Crossroads|           Slight|51.482076|Darkness - lights...|      Kensington and Ch...|               None|-0.173445|                   1|                 2|Metropolitan Police|                    Dry|Single carriageway|         30|2024-01-15 00:09:00|              Urban|  Fine no high winds|                 Car|\n",
            "| 200901BS70012|    1/16/2021|     Friday| Auto traffic signal|          Crossroads|           Slight|51.494995|Darkness - lights...|      Kensington and Ch...|               None|-0.183013|                   1|                 1|Metropolitan Police|                    Dry|Single carriageway|         30|2024-01-15 17:49:00|              Urban|  Fine no high winds|                 Car|\n",
            "| 200901BS70015|    1/12/2021|     Monday|Data missing or o...|Not at junction o...|           Slight|51.498778|            Daylight|      Kensington and Ch...|               None|-0.206779|                   1|                 2|Metropolitan Police|            Wet or damp|Single carriageway|         30|2024-01-15 14:00:00|              Urban|Raining no high w...|                 Car|\n",
            "| 200901BS70016|     1/9/2021|     Friday|Give way or uncon...|T or staggered ju...|           Slight|51.506187|            Daylight|      Kensington and Ch...|               None|-0.209082|                   1|                 2|Metropolitan Police|            Wet or damp|Single carriageway|         30|2024-01-15 08:15:00|              Urban|Raining no high w...|                 Car|\n",
            "| 200901BS70017|    1/17/2021|   Saturday|Give way or uncon...|T or staggered ju...|           Slight|51.493077|            Daylight|      Kensington and Ch...|               None|-0.169548|                   1|                 2|Metropolitan Police|                    Dry|Single carriageway|         30|2024-01-15 12:15:00|              Urban|  Fine no high winds|                 Car|\n",
            "| 200901BS70019|    1/25/2021|     Sunday| Auto traffic signal|          Crossroads|          Serious|51.482076|Darkness - lights...|      Kensington and Ch...|               None|-0.173445|                   1|                 2|Metropolitan Police|                    Dry|Single carriageway|         30|2024-01-15 22:05:00|              Urban|  Fine no high winds|                 Car|\n",
            "| 200901BS70020|    1/26/2021|     Monday|Give way or uncon...|          Crossroads|           Slight|51.488673|Darkness - lights...|      Kensington and Ch...|               None|-0.169724|                   1|                 2|Metropolitan Police|                    Dry|Single carriageway|         30|2024-01-15 17:30:00|              Urban|  Fine no high winds|Van / Goods 3.5 t...|\n",
            "| 200901BS70021|    1/26/2021|     Monday|Data missing or o...|Not at junction o...|           Slight|51.482363|Darkness - lights...|      Kensington and Ch...|               None|-0.186108|                   1|                 1|Metropolitan Police|                    Dry|Single carriageway|         30|2024-01-15 17:05:00|              Urban|  Fine no high winds|                 Car|\n",
            "| 200901BS70023|    1/19/2021|     Monday|Give way or uncon...|T or staggered ju...|           Slight| 51.49391|            Daylight|      Kensington and Ch...|               None|-0.176861|                   1|                 2|Metropolitan Police|            Wet or damp|Single carriageway|         30|2024-01-15 14:27:00|              Urban|  Fine no high winds|                 Car|\n",
            "| 200901BS70024|    1/27/2021|    Tuesday|Data missing or o...|Not at junction o...|           Slight|51.509296|Darkness - lights...|      Kensington and Ch...|               None|-0.194837|                   1|                 1|Metropolitan Police|                    Dry|Single carriageway|         30|2024-01-15 00:28:00|              Urban|  Fine no high winds|                 Car|\n",
            "+--------------+-------------+-----------+--------------------+--------------------+-----------------+---------+--------------------+--------------------------+-------------------+---------+--------------------+------------------+-------------------+-----------------------+------------------+-----------+-------------------+-------------------+--------------------+--------------------+\n",
            "only showing top 20 rows\n",
            "\n"
          ]
        }
      ]
    },
    {
      "cell_type": "code",
      "source": [
        "CarsDF.printSchema()"
      ],
      "metadata": {
        "colab": {
          "base_uri": "https://localhost:8080/"
        },
        "id": "YIAOtErot66v",
        "outputId": "3001a078-4291-4459-c348-de6c2af0c2b2"
      },
      "execution_count": null,
      "outputs": [
        {
          "output_type": "stream",
          "name": "stdout",
          "text": [
            "root\n",
            " |-- Accident_Index: string (nullable = true)\n",
            " |-- Accident Date: string (nullable = true)\n",
            " |-- Day_of_Week: string (nullable = true)\n",
            " |-- Junction_Control: string (nullable = true)\n",
            " |-- Junction_Detail: string (nullable = true)\n",
            " |-- Accident_Severity: string (nullable = true)\n",
            " |-- Latitude: double (nullable = true)\n",
            " |-- Light_Conditions: string (nullable = true)\n",
            " |-- Local_Authority_(District): string (nullable = true)\n",
            " |-- Carriageway_Hazards: string (nullable = true)\n",
            " |-- Longitude: double (nullable = true)\n",
            " |-- Number_of_Casualties: integer (nullable = true)\n",
            " |-- Number_of_Vehicles: integer (nullable = true)\n",
            " |-- Police_Force: string (nullable = true)\n",
            " |-- Road_Surface_Conditions: string (nullable = true)\n",
            " |-- Road_Type: string (nullable = true)\n",
            " |-- Speed_limit: integer (nullable = true)\n",
            " |-- Time: timestamp (nullable = true)\n",
            " |-- Urban_or_Rural_Area: string (nullable = true)\n",
            " |-- Weather_Conditions: string (nullable = true)\n",
            " |-- Vehicle_Type: string (nullable = true)\n",
            "\n"
          ]
        }
      ]
    },
    {
      "cell_type": "code",
      "source": [
        "CarsDF.show(2)"
      ],
      "metadata": {
        "colab": {
          "base_uri": "https://localhost:8080/"
        },
        "id": "9s12xpiyu9xr",
        "outputId": "434f33c4-6dec-43f7-f0fa-301ac6d5dd59"
      },
      "execution_count": null,
      "outputs": [
        {
          "output_type": "stream",
          "name": "stdout",
          "text": [
            "+--------------+-------------+-----------+--------------------+--------------------+-----------------+---------+----------------+--------------------------+-------------------+---------+--------------------+------------------+-------------------+-----------------------+------------------+-----------+-------------------+-------------------+------------------+--------------------+\n",
            "|Accident_Index|Accident Date|Day_of_Week|    Junction_Control|     Junction_Detail|Accident_Severity| Latitude|Light_Conditions|Local_Authority_(District)|Carriageway_Hazards|Longitude|Number_of_Casualties|Number_of_Vehicles|       Police_Force|Road_Surface_Conditions|         Road_Type|Speed_limit|               Time|Urban_or_Rural_Area|Weather_Conditions|        Vehicle_Type|\n",
            "+--------------+-------------+-----------+--------------------+--------------------+-----------------+---------+----------------+--------------------------+-------------------+---------+--------------------+------------------+-------------------+-----------------------+------------------+-----------+-------------------+-------------------+------------------+--------------------+\n",
            "| 200901BS70001|     1/1/2021|   Thursday|Give way or uncon...|T or staggered ju...|          Serious|51.512273|        Daylight|      Kensington and Ch...|               None|-0.201349|                   1|                 2|Metropolitan Police|                    Dry|    One way street|         30|2024-01-15 15:11:00|              Urban|Fine no high winds|                 Car|\n",
            "| 200901BS70002|     1/5/2021|     Monday|Give way or uncon...|          Crossroads|          Serious|51.514399|        Daylight|      Kensington and Ch...|               None|-0.199248|                  11|                 2|Metropolitan Police|            Wet or damp|Single carriageway|         30|2024-01-15 10:59:00|              Urban|Fine no high winds|Taxi/Private hire...|\n",
            "+--------------+-------------+-----------+--------------------+--------------------+-----------------+---------+----------------+--------------------------+-------------------+---------+--------------------+------------------+-------------------+-----------------------+------------------+-----------+-------------------+-------------------+------------------+--------------------+\n",
            "only showing top 2 rows\n",
            "\n"
          ]
        }
      ]
    },
    {
      "cell_type": "code",
      "source": [
        "MoredayaccidentDF = CarsDF.groupBy(\"Light_Conditions\").agg(count(\"Accident_Index\").alias(\"Accident_Count\")).show()\n"
      ],
      "metadata": {
        "colab": {
          "base_uri": "https://localhost:8080/"
        },
        "id": "-SpHmEKyuD_K",
        "outputId": "0e083fc4-6cfa-4192-d374-d1f502807c10"
      },
      "execution_count": null,
      "outputs": [
        {
          "output_type": "stream",
          "name": "stdout",
          "text": [
            "+--------------------+--------------+\n",
            "|    Light_Conditions|Accident_Count|\n",
            "+--------------------+--------------+\n",
            "|Darkness - lights...|            49|\n",
            "|Darkness - lighti...|            70|\n",
            "|            Daylight|         19842|\n",
            "|Darkness - lights...|          7401|\n",
            "|Darkness - no lig...|           306|\n",
            "|                NULL|             1|\n",
            "+--------------------+--------------+\n",
            "\n"
          ]
        }
      ]
    },
    {
      "cell_type": "markdown",
      "source": [
        "Accidente con mas coches implicados"
      ],
      "metadata": {
        "id": "cpLHM6dZ0__l"
      }
    },
    {
      "cell_type": "code",
      "source": [
        "MorecarsDF = CarsDF.groupBy(\"Accident_Index\").agg(max(\"Number_of_Vehicles\").alias(\"Max_Number_of_Vehicles\"))\n",
        "MaxCarsAccident = MorecarsDF.orderBy(\"Max_Number_of_Vehicles\", ascending=False).limit(1)\n",
        "MaxCarsAccident.show()"
      ],
      "metadata": {
        "colab": {
          "base_uri": "https://localhost:8080/"
        },
        "id": "q-KiRcmG0pqr",
        "outputId": "5255ebf1-df60-4797-93bf-e51fd32128d1"
      },
      "execution_count": null,
      "outputs": [
        {
          "output_type": "stream",
          "name": "stdout",
          "text": [
            "+--------------+----------------------+\n",
            "|Accident_Index|Max_Number_of_Vehicles|\n",
            "+--------------+----------------------+\n",
            "| 200901BS70611|                     9|\n",
            "+--------------+----------------------+\n",
            "\n"
          ]
        }
      ]
    },
    {
      "cell_type": "code",
      "source": [
        "resultDF = carsDF.groupBy(\"Day_of_Week\").count()\n",
        "resultDF = resultDF.orderBy(col(\"count\").desc())\n",
        "resultDF = resultDF.withColumnRenamed(\"count\", \"Numero_de_Accidentes\")\n",
        "resultDF.show()"
      ],
      "metadata": {
        "colab": {
          "base_uri": "https://localhost:8080/",
          "height": 227
        },
        "id": "Wcv3hAmnwO6b",
        "outputId": "d28b4179-cb4e-4531-ab01-0793660cebb3"
      },
      "execution_count": null,
      "outputs": [
        {
          "output_type": "error",
          "ename": "NameError",
          "evalue": "name 'carsDF' is not defined",
          "traceback": [
            "\u001b[0;31m---------------------------------------------------------------------------\u001b[0m",
            "\u001b[0;31mNameError\u001b[0m                                 Traceback (most recent call last)",
            "\u001b[0;32m<ipython-input-20-bfb70e40c552>\u001b[0m in \u001b[0;36m<cell line: 1>\u001b[0;34m()\u001b[0m\n\u001b[0;32m----> 1\u001b[0;31m \u001b[0mresultDF\u001b[0m \u001b[0;34m=\u001b[0m \u001b[0mcarsDF\u001b[0m\u001b[0;34m.\u001b[0m\u001b[0mgroupBy\u001b[0m\u001b[0;34m(\u001b[0m\u001b[0;34m\"Day_of_Week\"\u001b[0m\u001b[0;34m)\u001b[0m\u001b[0;34m.\u001b[0m\u001b[0mcount\u001b[0m\u001b[0;34m(\u001b[0m\u001b[0;34m)\u001b[0m\u001b[0;34m\u001b[0m\u001b[0;34m\u001b[0m\u001b[0m\n\u001b[0m\u001b[1;32m      2\u001b[0m \u001b[0mresultDF\u001b[0m \u001b[0;34m=\u001b[0m \u001b[0mresultDF\u001b[0m\u001b[0;34m.\u001b[0m\u001b[0morderBy\u001b[0m\u001b[0;34m(\u001b[0m\u001b[0mcol\u001b[0m\u001b[0;34m(\u001b[0m\u001b[0;34m\"count\"\u001b[0m\u001b[0;34m)\u001b[0m\u001b[0;34m.\u001b[0m\u001b[0mdesc\u001b[0m\u001b[0;34m(\u001b[0m\u001b[0;34m)\u001b[0m\u001b[0;34m)\u001b[0m\u001b[0;34m\u001b[0m\u001b[0;34m\u001b[0m\u001b[0m\n\u001b[1;32m      3\u001b[0m \u001b[0mresultDF\u001b[0m \u001b[0;34m=\u001b[0m \u001b[0mresultDF\u001b[0m\u001b[0;34m.\u001b[0m\u001b[0mwithColumnRenamed\u001b[0m\u001b[0;34m(\u001b[0m\u001b[0;34m\"count\"\u001b[0m\u001b[0;34m,\u001b[0m \u001b[0;34m\"Numero_de_Accidentes\"\u001b[0m\u001b[0;34m)\u001b[0m\u001b[0;34m\u001b[0m\u001b[0;34m\u001b[0m\u001b[0m\n\u001b[1;32m      4\u001b[0m \u001b[0mresultDF\u001b[0m\u001b[0;34m.\u001b[0m\u001b[0mshow\u001b[0m\u001b[0;34m(\u001b[0m\u001b[0;34m)\u001b[0m\u001b[0;34m\u001b[0m\u001b[0;34m\u001b[0m\u001b[0m\n",
            "\u001b[0;31mNameError\u001b[0m: name 'carsDF' is not defined"
          ]
        }
      ]
    },
    {
      "cell_type": "code",
      "source": [
        "result2DF = CarsDF.groupBy(\"Junction_Control\").count()\n",
        "result2DF = result2DF.orderBy(col(\"count\").desc())\n",
        "result2DF = result2DF.withColumnRenamed(\"Junction_Control\", \"Lugar_del_Accidente\")\n",
        "result2DF = result2DF.withColumnRenamed(\"count\", \"Numero_de_Veces\")\n",
        "result2DF.show()"
      ],
      "metadata": {
        "colab": {
          "base_uri": "https://localhost:8080/"
        },
        "id": "mboFFf0HwPCN",
        "outputId": "e79211df-f267-4024-b6fc-722306f981db"
      },
      "execution_count": null,
      "outputs": [
        {
          "output_type": "stream",
          "name": "stdout",
          "text": [
            "+--------------------+---------------+\n",
            "| Lugar_del_Accidente|Numero_de_Veces|\n",
            "+--------------------+---------------+\n",
            "|Give way or uncon...|          14647|\n",
            "|Data missing or o...|           7865|\n",
            "| Auto traffic signal|           5068|\n",
            "|           Stop sign|             70|\n",
            "|   Authorised person|             19|\n",
            "+--------------------+---------------+\n",
            "\n"
          ]
        }
      ]
    },
    {
      "cell_type": "code",
      "source": [
        "result3DF = CarsDF.groupBy(\"Day_of_Week\").pivot(\"Accident_Severity\").count()\n",
        "result3DF = result3DF.withColumn(\"Total_Severity\", expr(\"coalesce(Fatal, 0) + coalesce(Serious, 0) + coalesce(Slight, 0) + coalesce(Fetal, 0)\"))\n",
        "result3DF = result3DF.drop(\"Total_Severity\")\n",
        "result3DF = result3DF.select(col(\"Day_of_Week\"), col(\"Fatal\").alias(\"Fatal\"), col(\"Fetal\").alias(\"Fatal\"), col(\"Serious\").alias(\"Serio\"), col(\"Slight\").alias(\"Leve\"))\n",
        "result3DF = result3DF.orderBy(col(\"Fatal\").desc())\n",
        "result3DF.show()"
      ],
      "metadata": {
        "colab": {
          "base_uri": "https://localhost:8080/"
        },
        "id": "9QniADijwPGw",
        "outputId": "f21a89c5-2d22-4899-f598-86e140f516f7"
      },
      "execution_count": null,
      "outputs": [
        {
          "output_type": "stream",
          "name": "stdout",
          "text": [
            "+-----------+-----+-----+-----+----+\n",
            "|Day_of_Week|Fatal|Fatal|Serio|Leve|\n",
            "+-----------+-----+-----+-----+----+\n",
            "|   Saturday|   89|    6|  490|3050|\n",
            "|     Friday|   87|    7|  556|3939|\n",
            "|     Monday|   69|    6|  453|3300|\n",
            "|  Wednesday|   67|    7|  520|3640|\n",
            "|   Thursday|   67|    9|  502|3581|\n",
            "|    Tuesday|   65|   12|  505|3624|\n",
            "|     Sunday|   56|    2|  438|2522|\n",
            "+-----------+-----+-----+-----+----+\n",
            "\n"
          ]
        }
      ]
    },
    {
      "cell_type": "code",
      "source": [
        "result3DF = CarsDF.groupBy(\"Day_of_Week\").pivot(\"Accident_Severity\").count()\n",
        "result3DF = result3DF.withColumn(\"Total_Severity\", expr(\"coalesce(Fatal, 0) + coalesce(Serious, 0) + coalesce(Slight, 0) + coalesce(Fetal, 0)\"))\n",
        "result3DF = result3DF.withColumn(\"Porcentaje_Mortalidad\", (col(\"Fatal\") / col(\"Total_Severity\")) * 100)\n",
        "result3DF = result3DF.orderBy(col(\"Porcentaje_Mortalidad\").desc()).select(\"Day_of_Week\", \"Porcentaje_Mortalidad\")\n",
        "result3DF.show()"
      ],
      "metadata": {
        "colab": {
          "base_uri": "https://localhost:8080/"
        },
        "id": "v1wJonxewPJ5",
        "outputId": "de4ca245-62ca-407d-ff23-d308fe2291d1"
      },
      "execution_count": null,
      "outputs": [
        {
          "output_type": "stream",
          "name": "stdout",
          "text": [
            "+-----------+---------------------+\n",
            "|Day_of_Week|Porcentaje_Mortalidad|\n",
            "+-----------+---------------------+\n",
            "|   Saturday|    2.448418156808803|\n",
            "|     Friday|   1.8958378731749836|\n",
            "|     Sunday|   1.8555334658714382|\n",
            "|     Monday|   1.8025078369905956|\n",
            "|   Thursday|   1.6109641740803076|\n",
            "|  Wednesday|    1.582427964100142|\n",
            "|    Tuesday|   1.5454113171659534|\n",
            "+-----------+---------------------+\n",
            "\n"
          ]
        }
      ]
    },
    {
      "cell_type": "code",
      "source": [],
      "metadata": {
        "id": "3-n6kCguwPMf"
      },
      "execution_count": null,
      "outputs": []
    },
    {
      "cell_type": "code",
      "source": [],
      "metadata": {
        "id": "G6C5SIDZwPQW"
      },
      "execution_count": null,
      "outputs": []
    }
  ]
}