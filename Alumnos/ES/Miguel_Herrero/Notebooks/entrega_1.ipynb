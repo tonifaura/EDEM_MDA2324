{
  "cells": [
    {
      "cell_type": "code",
      "execution_count": 31,
      "metadata": {
        "id": "XGCmdeBsURC6"
      },
      "outputs": [],
      "source": [
        "# Descarga del archivo CSV\n",
        "\n",
        "# Puedes descargar el archivo CSV desde el siguiente enlace:\n",
        "\n",
        "#(https://www.kaggle.com/datasets/mohamedhanyyy/top-football-leagues-scorers)"
      ]
    },
    {
      "cell_type": "code",
      "execution_count": null,
      "metadata": {
        "id": "DJrn2N8RLj2g"
      },
      "outputs": [],
      "source": [
        "from google.colab import files\n",
        "\n",
        "# Cargar archivos CSV desde el ordenador\n",
        "uploaded = files.upload()"
      ]
    },
    {
      "cell_type": "code",
      "execution_count": 2,
      "metadata": {
        "id": "k7qa4EsQMDkT"
      },
      "outputs": [],
      "source": [
        "import pandas as pd\n",
        "\n",
        "# Cargar los archivos CSV en DataFrames\n",
        "df1 = pd.read_csv('Data.csv')"
      ]
    },
    {
      "cell_type": "code",
      "execution_count": null,
      "metadata": {
        "id": "4ZF5HvkXOPx1"
      },
      "outputs": [],
      "source": [
        "# Vemos el contenido completo del DataFrame\n",
        "print(\"Máximos goleadores de las diferentes ligas\")\n",
        "df1"
      ]
    },
    {
      "cell_type": "code",
      "execution_count": null,
      "metadata": {
        "id": "AsXh9MHnMhqI"
      },
      "outputs": [],
      "source": [
        "# Vemos las primeras filas del DataFrame\n",
        "print(\"Primeras filas de df1:\")\n",
        "df1.head()"
      ]
    },
    {
      "cell_type": "code",
      "execution_count": null,
      "metadata": {
        "id": "tZMGDY56O-Z8"
      },
      "outputs": [],
      "source": [
        "# Vemos las últimas filas del DataFrame\n",
        "print(\"Últimas filas de df1:\")\n",
        "df1.tail()"
      ]
    },
    {
      "cell_type": "code",
      "execution_count": null,
      "metadata": {
        "id": "DlB6FOPcNunB"
      },
      "outputs": [],
      "source": [
        "# Realizar una descripción estadística básica del DataFrame\n",
        "print(\"Descripción de df1:\")\n",
        "df1.describe()"
      ]
    },
    {
      "cell_type": "code",
      "execution_count": null,
      "metadata": {
        "id": "jO0TYHQgRCYd"
      },
      "outputs": [],
      "source": [
        "# Buscamos los jugadores que han marcado más de 25 goles\n",
        "jugadores_mas_de_20_goles = df1[df1['Goals'] > 25][['Player Names', 'Goals']]\n",
        "print(jugadores_mas_de_20_goles)"
      ]
    },
    {
      "cell_type": "code",
      "execution_count": null,
      "metadata": {
        "id": "wipgk7dbRZg2"
      },
      "outputs": [],
      "source": [
        "# Buscamos los jugadores por un país específico y sus goles (España)\n",
        "jugadores_espanoles = df1[df1['Country'] == 'Spain'][['Player Names', 'Goals']]\n",
        "print(jugadores_espanoles)"
      ]
    },
    {
      "cell_type": "code",
      "execution_count": null,
      "metadata": {
        "id": "vmjflIFrSfwR"
      },
      "outputs": [],
      "source": [
        "# Buscamos los 10 jugadores que tienen la estadística de gol por partido más alta\n",
        "top_goles_por_partido = df1.sort_values(by='xG Per Avg Match', ascending=False).head(10)\n",
        "print(top_goles_por_partido[['Player Names', 'xG Per Avg Match']])"
      ]
    }
  ],
  "metadata": {
    "colab": {
      "provenance": []
    },
    "kernelspec": {
      "display_name": "Python 3",
      "name": "python3"
    },
    "language_info": {
      "name": "python"
    }
  },
  "nbformat": 4,
  "nbformat_minor": 0
}
