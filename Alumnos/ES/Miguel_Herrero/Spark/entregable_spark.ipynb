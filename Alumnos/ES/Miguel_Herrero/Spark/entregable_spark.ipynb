{
  "cells": [
    {
      "cell_type": "markdown",
      "metadata": {
        "id": "BNkZfzfxGZ0z"
      },
      "source": [
        "# Windows Partitioning"
      ]
    },
    {
      "cell_type": "markdown",
      "metadata": {
        "id": "AQieQ5pkGfNm"
      },
      "source": [
        "## Prerrequisites"
      ]
    },
    {
      "cell_type": "markdown",
      "metadata": {
        "id": "HelxRmCPGpql"
      },
      "source": [
        "Install Spark and Java in VM"
      ]
    },
    {
      "cell_type": "code",
      "execution_count": 3,
      "metadata": {
        "id": "9Cn3c-ywGtDV"
      },
      "outputs": [],
      "source": [
        "# install Java8\n",
        "!apt-get install openjdk-8-jdk-headless -qq > /dev/null\n",
        "# download spark 3.5.0\n",
        "!wget -q https://apache.osuosl.org/spark/spark-3.5.0/spark-3.5.0-bin-hadoop3.tgz"
      ]
    },
    {
      "cell_type": "code",
      "execution_count": 4,
      "metadata": {
        "id": "D95sNcJfGvyV",
        "colab": {
          "base_uri": "https://localhost:8080/"
        },
        "outputId": "c5bdba4f-8af0-4fbb-9d80-0f33a8c0b8f0"
      },
      "outputs": [
        {
          "output_type": "stream",
          "name": "stdout",
          "text": [
            "total 391016\n",
            "drwxr-xr-x 1 root root      4096 Jan 11 17:02 \u001b[0m\u001b[01;34msample_data\u001b[0m/\n",
            "-rw-r--r-- 1 root root 400395283 Sep  9 02:10 spark-3.5.0-bin-hadoop3.tgz\n"
          ]
        }
      ],
      "source": [
        "ls -l # check the .tgz is there"
      ]
    },
    {
      "cell_type": "code",
      "execution_count": 5,
      "metadata": {
        "id": "qtBMGi7EGvwN"
      },
      "outputs": [],
      "source": [
        "# unzip it\n",
        "!tar xf spark-3.5.0-bin-hadoop3.tgz"
      ]
    },
    {
      "cell_type": "code",
      "execution_count": 6,
      "metadata": {
        "id": "6JO331NrGvtt"
      },
      "outputs": [],
      "source": [
        "!pip install -q findspark"
      ]
    },
    {
      "cell_type": "markdown",
      "metadata": {
        "id": "02epIDkbG24d"
      },
      "source": [
        "Defining the environment"
      ]
    },
    {
      "cell_type": "code",
      "execution_count": 7,
      "metadata": {
        "id": "qmON5zHJG4-m"
      },
      "outputs": [],
      "source": [
        "import os\n",
        "os.environ[\"JAVA_HOME\"] = \"/usr/lib/jvm/java-8-openjdk-amd64\"\n",
        "os.environ[\"SPARK_HOME\"] = \"/content/spark-3.5.0-bin-hadoop3\"\n",
        "os.environ[\"PYSPARK_SUBMIT_ARGS\"] = \"--master local[*] pyspark-shell\""
      ]
    },
    {
      "cell_type": "markdown",
      "metadata": {
        "id": "WgvNJQOAGZ00"
      },
      "source": [
        "Start Spark Session\n",
        "\n",
        "---"
      ]
    },
    {
      "cell_type": "code",
      "execution_count": 37,
      "metadata": {
        "id": "siaPZq4XGZ00",
        "colab": {
          "base_uri": "https://localhost:8080/",
          "height": 37
        },
        "outputId": "c49ce21c-6b27-4af8-c370-6d23f845ee19"
      },
      "outputs": [
        {
          "output_type": "execute_result",
          "data": {
            "text/plain": [
              "'3.5.0'"
            ],
            "application/vnd.google.colaboratory.intrinsic+json": {
              "type": "string"
            }
          },
          "metadata": {},
          "execution_count": 37
        }
      ],
      "source": [
        "import findspark\n",
        "findspark.init(\"spark-3.5.0-bin-hadoop3\")# SPARK_HOME\n",
        "\n",
        "from pyspark.sql import SparkSession\n",
        "from pyspark.sql import Window\n",
        "from pyspark.sql.types import IntegerType\n",
        "\n",
        "# create the session\n",
        "spark = SparkSession \\\n",
        "        .builder \\\n",
        "        .appName(\"Window Partitioning\") \\\n",
        "        .master(\"local[*]\") \\\n",
        "        .getOrCreate()\n",
        "\n",
        "spark.version"
      ]
    },
    {
      "cell_type": "code",
      "execution_count": 23,
      "metadata": {
        "colab": {
          "base_uri": "https://localhost:8080/",
          "height": 216
        },
        "id": "nsBkpLh6GZ01",
        "outputId": "8881d167-9775-492d-cdd2-6590e86d7fe5"
      },
      "outputs": [
        {
          "output_type": "execute_result",
          "data": {
            "text/plain": [
              "<pyspark.sql.session.SparkSession at 0x7aeb24121a80>"
            ],
            "text/html": [
              "\n",
              "            <div>\n",
              "                <p><b>SparkSession - in-memory</b></p>\n",
              "                \n",
              "        <div>\n",
              "            <p><b>SparkContext</b></p>\n",
              "\n",
              "            <p><a href=\"http://4a9526f9fa9a:4040\">Spark UI</a></p>\n",
              "\n",
              "            <dl>\n",
              "              <dt>Version</dt>\n",
              "                <dd><code>v3.5.0</code></dd>\n",
              "              <dt>Master</dt>\n",
              "                <dd><code>local[*]</code></dd>\n",
              "              <dt>AppName</dt>\n",
              "                <dd><code>Window Partitioning</code></dd>\n",
              "            </dl>\n",
              "        </div>\n",
              "        \n",
              "            </div>\n",
              "        "
            ]
          },
          "metadata": {},
          "execution_count": 23
        }
      ],
      "source": [
        "spark"
      ]
    },
    {
      "cell_type": "code",
      "execution_count": 24,
      "metadata": {
        "id": "Bqu4fQnNGZ02"
      },
      "outputs": [],
      "source": [
        "# For Pandas conversion optimization\n",
        "spark.conf.set(\"spark.sql.execution.arrow.enabled\", \"true\")"
      ]
    },
    {
      "cell_type": "code",
      "execution_count": 11,
      "metadata": {
        "id": "-9DDmYQKGZ02"
      },
      "outputs": [],
      "source": [
        "# Import sql functions\n",
        "from pyspark.sql.functions import *"
      ]
    },
    {
      "cell_type": "markdown",
      "source": [
        "##Exercise Fooball Players"
      ],
      "metadata": {
        "id": "jT7KbZNniBIT"
      }
    },
    {
      "cell_type": "markdown",
      "source": [
        "Mostramos el DataFrame original"
      ],
      "metadata": {
        "id": "_AQOcq2iWuit"
      }
    },
    {
      "cell_type": "code",
      "source": [
        "# Cargamos el DataFrame desde un archivo CSV usando Spark\n",
        "football_df = spark.read.option(\"header\", \"true\").csv(\"./Data.csv\")\n",
        "\n",
        "# Imprimimos el esquema del DataFrame para mostrar la estructura de las columnas y sus tipos de datos\n",
        "football_df.printSchema()\n",
        "\n",
        "# Mostramos los resultados\n",
        "football_df.show(5, truncate=False)"
      ],
      "metadata": {
        "colab": {
          "base_uri": "https://localhost:8080/"
        },
        "id": "S3X8pcpBiPe_",
        "outputId": "a787024f-daa6-4284-db78-b0b81ccf76aa"
      },
      "execution_count": 41,
      "outputs": [
        {
          "output_type": "stream",
          "name": "stdout",
          "text": [
            "root\n",
            " |-- Country: string (nullable = true)\n",
            " |-- League: string (nullable = true)\n",
            " |-- Club: string (nullable = true)\n",
            " |-- Player Names: string (nullable = true)\n",
            " |-- Matches_Played: string (nullable = true)\n",
            " |-- Substitution : string (nullable = true)\n",
            " |-- Mins: string (nullable = true)\n",
            " |-- Goals: string (nullable = true)\n",
            " |-- xG: string (nullable = true)\n",
            " |-- xG Per Avg Match: string (nullable = true)\n",
            " |-- Shots: string (nullable = true)\n",
            " |-- OnTarget: string (nullable = true)\n",
            " |-- Shots Per Avg Match: string (nullable = true)\n",
            " |-- On Target Per Avg Match: string (nullable = true)\n",
            " |-- Year: string (nullable = true)\n",
            "\n",
            "+-------+-------+-----+-----------------+--------------+-------------+----+-----+-----+----------------+-----+--------+-------------------+-----------------------+----+\n",
            "|Country|League |Club |Player Names     |Matches_Played|Substitution |Mins|Goals|xG   |xG Per Avg Match|Shots|OnTarget|Shots Per Avg Match|On Target Per Avg Match|Year|\n",
            "+-------+-------+-----+-----------------+--------------+-------------+----+-----+-----+----------------+-----+--------+-------------------+-----------------------+----+\n",
            "|Spain  |La Liga|(BET)|Juanmi Callejon  |19            |16           |1849|11   |6.62 |0.34            |48   |20      |2.47               |1.03                   |2016|\n",
            "|Spain  |La Liga|(BAR)|Antoine Griezmann|36            |0            |3129|16   |11.86|0.36            |88   |41      |2.67               |1.24                   |2016|\n",
            "|Spain  |La Liga|(ATL)|Luis Suarez      |34            |1            |2940|28   |23.21|0.75            |120  |57      |3.88               |1.84                   |2016|\n",
            "|Spain  |La Liga|(CAR)|Ruben Castro     |32            |3            |2842|13   |14.06|0.47            |117  |42      |3.91               |1.4                    |2016|\n",
            "|Spain  |La Liga|(VAL)|Kevin Gameiro    |21            |10           |1745|13   |10.65|0.58            |50   |23      |2.72               |1.25                   |2016|\n",
            "+-------+-------+-----+-----------------+--------------+-------------+----+-----+-----+----------------+-----+--------+-------------------+-----------------------+----+\n",
            "only showing top 5 rows\n",
            "\n"
          ]
        }
      ]
    },
    {
      "cell_type": "markdown",
      "source": [
        "Hacemos uso de la funciones select y join"
      ],
      "metadata": {
        "id": "KvaxQLs1W2Ix"
      }
    },
    {
      "cell_type": "code",
      "source": [
        "# Dividimos el DataFrame original en dos para demostrar el uso de la función Join\n",
        "# Usamos la variable \"Player Names\" para poder unirlas\n",
        "\n",
        "# Hacemos un el df1\n",
        "first_part_df = football_df.select(\n",
        "    \"Player Names\",\n",
        "    \"Country\",\n",
        "    \"League\",\n",
        "    \"Club\",\n",
        "    \"Matches_Played\",\n",
        "    \"Substitution \",\n",
        "    \"Mins\",\n",
        "    \"Goals\"\n",
        ")\n",
        "\n",
        "# Hacemos un el df2\n",
        "second_part_df = football_df.select(\n",
        "    \"Player Names\",\n",
        "    \"xG\",\n",
        "    \"xG Per Avg Match\",\n",
        "    \"Shots\",\n",
        "    \"OnTarget\",\n",
        "    \"Shots Per Avg Match\",\n",
        "    \"On Target Per Avg Match\",\n",
        "    \"Year\"\n",
        ")\n",
        "\n",
        "# Mostramos los DataFrames creados\n",
        "first_part_df.show(truncate=False)\n",
        "second_part_df.show(truncate=False)\n",
        "\n",
        "# Usamos la función Join para juntar los DataFrames creados en uno solo\n",
        "joined_df = first_part_df.join(second_part_df, \"Player Names\", \"inner\")\n",
        "\n",
        "# Mostramos el resultado del join\n",
        "joined_df.show(truncate=False)"
      ],
      "metadata": {
        "colab": {
          "base_uri": "https://localhost:8080/"
        },
        "id": "t1kIIRK_iWFK",
        "outputId": "a4efc9a7-38b7-4399-f276-5748af1c96da"
      },
      "execution_count": 42,
      "outputs": [
        {
          "output_type": "stream",
          "name": "stdout",
          "text": [
            "+-----------------+-------+-------+------+--------------+-------------+----+-----+\n",
            "|Player Names     |Country|League |Club  |Matches_Played|Substitution |Mins|Goals|\n",
            "+-----------------+-------+-------+------+--------------+-------------+----+-----+\n",
            "|Juanmi Callejon  |Spain  |La Liga|(BET) |19            |16           |1849|11   |\n",
            "|Antoine Griezmann|Spain  |La Liga|(BAR) |36            |0            |3129|16   |\n",
            "|Luis Suarez      |Spain  |La Liga|(ATL) |34            |1            |2940|28   |\n",
            "|Ruben Castro     |Spain  |La Liga|(CAR) |32            |3            |2842|13   |\n",
            "|Kevin Gameiro    |Spain  |La Liga|(VAL) |21            |10           |1745|13   |\n",
            "|Cristiano Ronaldo|Spain  |La Liga|(JUV) |29            |0            |2634|25   |\n",
            "|Karim Benzema    |Spain  |La Liga|(RMA) |23            |6            |1967|11   |\n",
            "|Neymar           |Spain  |La Liga|(PSG) |30            |0            |2694|13   |\n",
            "|Iago Aspas       |Spain  |La Liga|(CEL) |25            |7            |2354|19   |\n",
            "|Sergi Enrich     |Spain  |La Liga|(EIB) |31            |7            |2904|11   |\n",
            "|Aduriz           |Spain  |La Liga|None  |27            |5            |2480|16   |\n",
            "|Sandro Ramlrez   |Spain  |La Liga|(HUE) |28            |2            |2340|14   |\n",
            "|Lionel Messi     |Spain  |La Liga|(BAR) |32            |2            |2910|37   |\n",
            "|Gerard Moreno    |Spain  |La Liga|(VIL) |37            |0            |3361|13   |\n",
            "|Morata           |Spain  |La Liga|(JUV) |14            |12           |1392|15   |\n",
            "|Wissam Ben Yedder|Spain  |La Liga|(MON) |20            |11           |1735|11   |\n",
            "|Willian Jose     |Spain  |La Liga|(SOC) |27            |1            |2102|12   |\n",
            "|Andone           |Spain  |La Liga|Florin|32            |5            |2984|12   |\n",
            "|Cedric Bakambu   |Spain  |La Liga|(SOC) |17            |9            |1633|10   |\n",
            "|Isco             |Spain  |La Liga|(RMA) |18            |12           |1690|10   |\n",
            "+-----------------+-------+-------+------+--------------+-------------+----+-----+\n",
            "only showing top 20 rows\n",
            "\n",
            "+-----------------+-----+----------------+-----+--------+-------------------+-----------------------+----+\n",
            "|Player Names     |xG   |xG Per Avg Match|Shots|OnTarget|Shots Per Avg Match|On Target Per Avg Match|Year|\n",
            "+-----------------+-----+----------------+-----+--------+-------------------+-----------------------+----+\n",
            "|Juanmi Callejon  |6.62 |0.34            |48   |20      |2.47               |1.03                   |2016|\n",
            "|Antoine Griezmann|11.86|0.36            |88   |41      |2.67               |1.24                   |2016|\n",
            "|Luis Suarez      |23.21|0.75            |120  |57      |3.88               |1.84                   |2016|\n",
            "|Ruben Castro     |14.06|0.47            |117  |42      |3.91               |1.4                    |2016|\n",
            "|Kevin Gameiro    |10.65|0.58            |50   |23      |2.72               |1.25                   |2016|\n",
            "|Cristiano Ronaldo|24.68|0.89            |162  |60      |5.84               |2.16                   |2016|\n",
            "|Karim Benzema    |13.25|0.64            |69   |34      |3.33               |1.64                   |2016|\n",
            "|Neymar           |13.33|0.47            |105  |42      |3.7                |1.48                   |2016|\n",
            "|Iago Aspas       |13.88|0.56            |78   |37      |3.15               |1.49                   |2016|\n",
            "|Sergi Enrich     |8.25 |0.27            |64   |26      |2.09               |0.85                   |2016|\n",
            "|Aduriz           |15.92|0.61            |85   |45      |3.26               |1.72                   |2016|\n",
            "|Sandro Ramlrez   |7.14 |0.29            |93   |38      |3.78               |1.54                   |2016|\n",
            "|Lionel Messi     |26.65|0.87            |179  |76      |5.84               |2.48                   |2016|\n",
            "|Gerard Moreno    |8.49 |0.24            |82   |32      |2.32               |0.9                    |2016|\n",
            "|Morata           |9.67 |0.66            |55   |30      |3.75               |2.05                   |2016|\n",
            "|Wissam Ben Yedder|7.85 |0.43            |44   |23      |2.41               |1.26                   |2016|\n",
            "|Willian Jose     |8.41 |0.38            |69   |29      |3.12               |1.31                   |2016|\n",
            "|Andone           |11.62|0.37            |99   |42      |3.15               |1.34                   |2016|\n",
            "|Cedric Bakambu   |8.08 |0.47            |50   |26      |2.91               |1.51                   |2016|\n",
            "|Isco             |3.91 |0.22            |32   |15      |1.8                |0.84                   |2016|\n",
            "+-----------------+-----+----------------+-----+--------+-------------------+-----------------------+----+\n",
            "only showing top 20 rows\n",
            "\n",
            "+-----------------+-------+-------+-----+--------------+-------------+----+-----+-----+----------------+-----+--------+-------------------+-----------------------+----+\n",
            "|Player Names     |Country|League |Club |Matches_Played|Substitution |Mins|Goals|xG   |xG Per Avg Match|Shots|OnTarget|Shots Per Avg Match|On Target Per Avg Match|Year|\n",
            "+-----------------+-------+-------+-----+--------------+-------------+----+-----+-----+----------------+-----+--------+-------------------+-----------------------+----+\n",
            "|Juanmi Callejon  |Spain  |La Liga|(BET)|19            |16           |1849|11   |6.62 |0.34            |48   |20      |2.47               |1.03                   |2016|\n",
            "|Antoine Griezmann|Spain  |La Liga|(BAR)|36            |0            |3129|16   |3.67 |0.55            |18   |8       |2.7                |1.2                    |2020|\n",
            "|Antoine Griezmann|Spain  |La Liga|(BAR)|36            |0            |3129|16   |14.45|0.41            |113  |45      |3.21               |1.28                   |2018|\n",
            "|Antoine Griezmann|Spain  |La Liga|(BAR)|36            |0            |3129|16   |15.58|0.57            |72   |40      |2.63               |1.46                   |2017|\n",
            "|Antoine Griezmann|Spain  |La Liga|(BAR)|36            |0            |3129|16   |11.86|0.36            |88   |41      |2.67               |1.24                   |2016|\n",
            "|Luis Suarez      |Spain  |La Liga|(ATL)|34            |1            |2940|28   |3.3  |0.81            |22   |8       |5.4                |1.96                   |2020|\n",
            "|Luis Suarez      |Spain  |La Liga|(ATL)|34            |1            |2940|28   |14.32|0.64            |79   |42      |3.53               |1.88                   |2019|\n",
            "|Luis Suarez      |Spain  |La Liga|(ATL)|34            |1            |2940|28   |24.88|0.8             |112  |58      |3.6                |1.87                   |2018|\n",
            "|Luis Suarez      |Spain  |La Liga|(ATL)|34            |1            |2940|28   |25.65|0.81            |121  |55      |3.82               |1.74                   |2017|\n",
            "|Luis Suarez      |Spain  |La Liga|(ATL)|34            |1            |2940|28   |23.21|0.75            |120  |57      |3.88               |1.84                   |2016|\n",
            "|Ruben Castro     |Spain  |La Liga|(CAR)|32            |3            |2842|13   |14.06|0.47            |117  |42      |3.91               |1.4                    |2016|\n",
            "|Kevin Gameiro    |Spain  |La Liga|(VAL)|21            |10           |1745|13   |10.65|0.58            |50   |23      |2.72               |1.25                   |2016|\n",
            "|Cristiano Ronaldo|Spain  |La Liga|(JUV)|29            |0            |2634|25   |5.31 |1.27            |26   |13      |6.22               |3.11                   |2020|\n",
            "|Cristiano Ronaldo|Spain  |La Liga|(JUV)|29            |0            |2634|25   |27.32|0.83            |208  |79      |6.32               |2.4                    |2019|\n",
            "|Cristiano Ronaldo|Spain  |La Liga|(JUV)|29            |0            |2634|25   |21.65|0.72            |177  |68      |5.89               |2.26                   |2018|\n",
            "|Cristiano Ronaldo|Spain  |La Liga|(JUV)|29            |0            |2634|25   |29   |1.16            |178  |76      |7.12               |3.04                   |2017|\n",
            "|Cristiano Ronaldo|Spain  |La Liga|(JUV)|29            |0            |2634|25   |24.68|0.89            |162  |60      |5.84               |2.16                   |2016|\n",
            "|Karim Benzema    |Spain  |La Liga|(RMA)|23            |6            |1967|11   |4.91 |0.63            |27   |12      |3.46               |1.54                   |2020|\n",
            "|Karim Benzema    |Spain  |La Liga|(RMA)|23            |6            |1967|11   |21.61|0.64            |124  |59      |3.67               |1.75                   |2019|\n",
            "|Karim Benzema    |Spain  |La Liga|(RMA)|23            |6            |1967|11   |17.46|0.54            |104  |44      |3.22               |1.36                   |2018|\n",
            "+-----------------+-------+-------+-----+--------------+-------------+----+-----+-----+----------------+-----+--------+-------------------+-----------------------+----+\n",
            "only showing top 20 rows\n",
            "\n"
          ]
        }
      ]
    },
    {
      "cell_type": "markdown",
      "source": [
        "Hacemos uso de las funciones withColumn, groupBy y orderBy"
      ],
      "metadata": {
        "id": "nQz9GtMZW8N-"
      }
    },
    {
      "cell_type": "code",
      "source": [
        "# Convertimos la columna \"Goals\" a IntegerType\n",
        "football_df = football_df.withColumn(\"Goals\", football_df[\"Goals\"].cast(IntegerType()))\n",
        "\n",
        "# Agrupamos por nombre del jugador y sumamos los goles\n",
        "goleadores_por_jugador_df = football_df.groupBy(\"Player Names\").agg(sum(\"Goals\").alias(\"Total_Goals\"))\n",
        "\n",
        "# Ordenamos el DataFrame en orden descendente por la columna \"Total_Goals\"\n",
        "top_goleadores_por_jugador_df = goleadores_por_jugador_df.orderBy(desc(\"Total_Goals\")).limit(10)\n",
        "\n",
        "# Mostramos los resultados\n",
        "print(\"Jugadores con más goles marcados:\")\n",
        "top_goleadores_por_jugador_df.show(truncate=False)"
      ],
      "metadata": {
        "colab": {
          "base_uri": "https://localhost:8080/"
        },
        "id": "n4RLZ3PTtUlw",
        "outputId": "14ff3b19-6598-4a6d-ebe5-932a55f6015c"
      },
      "execution_count": 43,
      "outputs": [
        {
          "output_type": "stream",
          "name": "stdout",
          "text": [
            "Jugadores con más goles marcados:\n",
            "+-------------------------+-----------+\n",
            "|Player Names             |Total_Goals|\n",
            "+-------------------------+-----------+\n",
            "|Lionel Messi             |135        |\n",
            "|Robert Lewandowski       |127        |\n",
            "|Cristiano Ronaldo        |111        |\n",
            "|Ciro Immobile            |107        |\n",
            "|Luis Suarez              |95         |\n",
            "|Pierre-Emerick Aubameyang|88         |\n",
            "|Timo Werner              |82         |\n",
            "|Iago Aspas               |80         |\n",
            "|Mauro Icardi             |76         |\n",
            "|Andrea Belotti           |74         |\n",
            "+-------------------------+-----------+\n",
            "\n"
          ]
        }
      ]
    },
    {
      "cell_type": "markdown",
      "source": [
        "Hacemos uso de la función Window"
      ],
      "metadata": {
        "id": "5i6RpDnuW7Sf"
      }
    },
    {
      "cell_type": "code",
      "source": [
        "# Convertimos la columna \"Mins\" a IntegerType\n",
        "football_df = football_df.withColumn(\"Mins\", football_df[\"Mins\"].cast(IntegerType()))\n",
        "\n",
        "# Definimos la especificación de la ventana sobre la columna 'Player Names'\n",
        "player_window = Window.partitionBy(\"Player Names\")\n",
        "\n",
        "# Calculamos el total de minutos por jugador utilizando la función de ventana\n",
        "total_mins_per_player = sum(\"Mins\").over(player_window)\n",
        "\n",
        "# Agregamos una nueva columna 'Last Years Total Mins' al DataFrame original\n",
        "total_mins_football_df = football_df.withColumn(\"Last Years Total Mins\", total_mins_per_player)\n",
        "\n",
        "# Ordenar el DataFrame según los minutos jugados en los últimos años, de más a menos\n",
        "total_mins_football_df2 = total_mins_football_df.orderBy(desc(\"Last Years Total Mins\"))\n",
        "\n",
        "# Mostramos el resultado\n",
        "total_mins_football_df2.show(truncate=False)"
      ],
      "metadata": {
        "colab": {
          "base_uri": "https://localhost:8080/"
        },
        "id": "tuf0zfZqTQ9Q",
        "outputId": "bf5a4dcd-9f6f-4803-d7e7-bea05494092c"
      },
      "execution_count": 44,
      "outputs": [
        {
          "output_type": "stream",
          "name": "stdout",
          "text": [
            "+-------+-------+-----+--------------+--------------+-------------+----+-----+-----+----------------+-----+--------+-------------------+-----------------------+----+---------------------+\n",
            "|Country|League |Club |Player Names  |Matches_Played|Substitution |Mins|Goals|xG   |xG Per Avg Match|Shots|OnTarget|Shots Per Avg Match|On Target Per Avg Match|Year|Last Years Total Mins|\n",
            "+-------+-------+-----+--------------+--------------+-------------+----+-----+-----+----------------+-----+--------+-------------------+-----------------------+----+---------------------+\n",
            "|Italy  |Serie A|(TOR)|Andrea Belotti|29            |3            |2854|10   |11.72|0.39            |86   |28      |2.86               |0.93                   |2017|13596                |\n",
            "|Italy  |Serie A|(TOR)|Andrea Belotti|34            |1            |3241|26   |19.45|0.57            |130  |78      |3.81               |2.29                   |2016|13596                |\n",
            "|Italy  |Serie A|(TOR)|Andrea Belotti|37            |0            |3533|15   |15.99|0.43            |125  |47      |3.36               |1.26                   |2018|13596                |\n",
            "|Italy  |Serie A|(TOR)|Andrea Belotti|34            |2            |3214|16   |16.58|0.49            |104  |41      |3.07               |1.21                   |2019|13596                |\n",
            "|Italy  |Serie A|(TOR)|Andrea Belotti|8             |0            |754 |7    |3.49 |0.44            |24   |11      |3.02               |1.39                   |2020|13596                |\n",
            "|Italy  |Serie A|(LAZ)|Ciro Immobile |31            |5            |3046|15   |15.71|0.49            |124  |49      |3.87               |1.53                   |2018|13081                |\n",
            "|Italy  |Serie A|(LAZ)|Ciro Immobile |36            |1            |3371|36   |26.61|0.75            |142  |71      |4                  |2                      |2019|13081                |\n",
            "|Italy  |Serie A|(LAZ)|Ciro Immobile |35            |1            |3294|22   |19.76|0.57            |136  |98      |3.92               |2.83                   |2016|13081                |\n",
            "|Italy  |Serie A|(LAZ)|Ciro Immobile |6             |1            |571 |5    |3.73 |0.62            |22   |8       |3.66               |1.33                   |2020|13081                |\n",
            "|Italy  |Serie A|(LAZ)|Ciro Immobile |33            |0            |2799|29   |19.15|0.65            |110  |53      |3.73               |1.8                    |2017|13081                |\n",
            "|Spain  |La Liga|(BAR)|Lionel Messi  |32            |2            |2910|37   |26.65|0.87            |179  |76      |5.84               |2.48                   |2016|12773                |\n",
            "|Spain  |La Liga|(BAR)|Lionel Messi  |32            |4            |3123|33   |32.54|0.99            |197  |95      |5.99               |2.89                   |2017|12773                |\n",
            "|Spain  |La Liga|(BAR)|Lionel Messi  |29            |5            |2849|36   |25.49|0.85            |170  |87      |5.67               |2.9                    |2018|12773                |\n",
            "|Spain  |La Liga|(BAR)|Lionel Messi  |32            |1            |3067|25   |21.63|0.67            |159  |68      |4.93               |2.11                   |2019|12773                |\n",
            "|Spain  |La Liga|(BAR)|Lionel Messi  |8             |1            |824 |4    |5.46 |0.63            |39   |19      |4.5                |2.19                   |2020|12773                |\n",
            "|Spain  |La Liga|(CEL)|Iago Aspas    |11            |0            |1056|5    |4.89 |0.44            |21   |12      |1.89               |1.08                   |2020|12306                |\n",
            "|Spain  |La Liga|(CEL)|Iago Aspas    |25            |7            |2354|19   |13.88|0.56            |78   |37      |3.15               |1.49                   |2016|12306                |\n",
            "|Spain  |La Liga|(CEL)|Iago Aspas    |33            |1            |3053|22   |19.92|0.62            |94   |43      |2.92               |1.34                   |2017|12306                |\n",
            "|Spain  |La Liga|(CEL)|Iago Aspas    |26            |1            |2369|20   |12.47|0.5             |69   |32      |2.77               |1.28                   |2018|12306                |\n",
            "|Spain  |La Liga|(CEL)|Iago Aspas    |37            |0            |3474|14   |15.72|0.43            |84   |39      |2.3                |1.07                   |2019|12306                |\n",
            "+-------+-------+-----+--------------+--------------+-------------+----+-----+-----+----------------+-----+--------+-------------------+-----------------------+----+---------------------+\n",
            "only showing top 20 rows\n",
            "\n"
          ]
        }
      ]
    }
  ],
  "metadata": {
    "colab": {
      "provenance": []
    },
    "kernelspec": {
      "display_name": "Python 3.10.0 64-bit",
      "language": "python",
      "name": "python3"
    },
    "language_info": {
      "codemirror_mode": {
        "name": "ipython",
        "version": 3
      },
      "file_extension": ".py",
      "mimetype": "text/x-python",
      "name": "python",
      "nbconvert_exporter": "python",
      "pygments_lexer": "ipython3",
      "version": "3.10.0"
    },
    "vscode": {
      "interpreter": {
        "hash": "ff1af5cda0bea4fe5c4ebc1f94ab9f13d8998f98d08e16d8aba48673b9d00116"
      }
    }
  },
  "nbformat": 4,
  "nbformat_minor": 0
}