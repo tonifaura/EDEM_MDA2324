{
  "cells": [
    {
      "cell_type": "markdown",
      "metadata": {
        "id": "BNkZfzfxGZ0z"
      },
      "source": [
        "# Windows Partitioning"
      ]
    },
    {
      "cell_type": "markdown",
      "metadata": {
        "id": "AQieQ5pkGfNm"
      },
      "source": [
        "## Prerrequisites"
      ]
    },
    {
      "cell_type": "markdown",
      "metadata": {
        "id": "HelxRmCPGpql"
      },
      "source": [
        "Install Spark and Java in VM"
      ]
    },
    {
      "cell_type": "code",
      "execution_count": null,
      "metadata": {
        "id": "9Cn3c-ywGtDV"
      },
      "outputs": [],
      "source": [
        "# install Java8\n",
        "!apt-get install openjdk-8-jdk-headless -qq > /dev/null\n",
        "# download spark 3.5.0\n",
        "!wget -q https://apache.osuosl.org/spark/spark-3.5.0/spark-3.5.0-bin-hadoop3.tgz"
      ]
    },
    {
      "cell_type": "code",
      "execution_count": null,
      "metadata": {
        "id": "D95sNcJfGvyV",
        "colab": {
          "base_uri": "https://localhost:8080/"
        },
        "outputId": "06fc38f8-34ef-4bde-cf3a-4c616b84b09b"
      },
      "outputs": [
        {
          "output_type": "stream",
          "name": "stdout",
          "text": [
            "total 1173056\n",
            "drwx------  5 root root      4096 Jan 22 11:23 \u001b[0m\u001b[01;34mdrive\u001b[0m/\n",
            "drwxr-xr-x  1 root root      4096 Jan 18 14:21 \u001b[01;34msample_data\u001b[0m/\n",
            "drwxr-xr-x 13 1000 1000      4096 Sep  9 02:08 \u001b[01;34mspark-3.5.0-bin-hadoop3\u001b[0m/\n",
            "-rw-r--r--  1 root root 400395283 Sep  9 02:10 spark-3.5.0-bin-hadoop3.tgz\n",
            "-rw-r--r--  1 root root 400395283 Sep  9 02:10 spark-3.5.0-bin-hadoop3.tgz.1\n",
            "-rw-r--r--  1 root root 400395283 Sep  9 02:10 spark-3.5.0-bin-hadoop3.tgz.2\n"
          ]
        }
      ],
      "source": [
        "ls -l # check the .tgz is there"
      ]
    },
    {
      "cell_type": "code",
      "execution_count": null,
      "metadata": {
        "id": "qtBMGi7EGvwN"
      },
      "outputs": [],
      "source": [
        "# unzip it\n",
        "!tar xf spark-3.5.0-bin-hadoop3.tgz"
      ]
    },
    {
      "cell_type": "code",
      "execution_count": null,
      "metadata": {
        "id": "6JO331NrGvtt"
      },
      "outputs": [],
      "source": [
        "!pip install -q findspark"
      ]
    },
    {
      "cell_type": "markdown",
      "metadata": {
        "id": "02epIDkbG24d"
      },
      "source": [
        "Defining the environment"
      ]
    },
    {
      "cell_type": "code",
      "execution_count": null,
      "metadata": {
        "id": "qmON5zHJG4-m"
      },
      "outputs": [],
      "source": [
        "import os\n",
        "os.environ[\"JAVA_HOME\"] = \"/usr/lib/jvm/java-8-openjdk-amd64\"\n",
        "os.environ[\"SPARK_HOME\"] = \"/content/spark-3.5.0-bin-hadoop3\"\n",
        "os.environ[\"PYSPARK_SUBMIT_ARGS\"] = \"--master local[*] pyspark-shell\""
      ]
    },
    {
      "cell_type": "markdown",
      "metadata": {
        "id": "WgvNJQOAGZ00"
      },
      "source": [
        "Start Spark Session\n",
        "\n",
        "---"
      ]
    },
    {
      "cell_type": "code",
      "execution_count": null,
      "metadata": {
        "id": "siaPZq4XGZ00",
        "colab": {
          "base_uri": "https://localhost:8080/",
          "height": 35
        },
        "outputId": "9ea5f3d6-97d0-4f6a-fd6e-cd22ac26735c"
      },
      "outputs": [
        {
          "output_type": "execute_result",
          "data": {
            "text/plain": [
              "'3.5.0'"
            ],
            "application/vnd.google.colaboratory.intrinsic+json": {
              "type": "string"
            }
          },
          "metadata": {},
          "execution_count": 26
        }
      ],
      "source": [
        "import findspark\n",
        "findspark.init(\"spark-3.5.0-bin-hadoop3\")# SPARK_HOME\n",
        "\n",
        "from pyspark.sql import SparkSession\n",
        "\n",
        "# create the session\n",
        "spark = SparkSession \\\n",
        "        .builder \\\n",
        "        .appName(\"Window Partitioning\") \\\n",
        "        .master(\"local[*]\") \\\n",
        "        .getOrCreate()\n",
        "\n",
        "spark.version"
      ]
    },
    {
      "cell_type": "code",
      "execution_count": null,
      "metadata": {
        "id": "nsBkpLh6GZ01",
        "colab": {
          "base_uri": "https://localhost:8080/",
          "height": 219
        },
        "outputId": "3e69ad40-70e0-48c7-dfe9-4e29d8f54212"
      },
      "outputs": [
        {
          "output_type": "execute_result",
          "data": {
            "text/plain": [
              "<pyspark.sql.session.SparkSession at 0x7bab200055a0>"
            ],
            "text/html": [
              "\n",
              "            <div>\n",
              "                <p><b>SparkSession - in-memory</b></p>\n",
              "                \n",
              "        <div>\n",
              "            <p><b>SparkContext</b></p>\n",
              "\n",
              "            <p><a href=\"http://c3316b55fec1:4040\">Spark UI</a></p>\n",
              "\n",
              "            <dl>\n",
              "              <dt>Version</dt>\n",
              "                <dd><code>v3.5.0</code></dd>\n",
              "              <dt>Master</dt>\n",
              "                <dd><code>local[*]</code></dd>\n",
              "              <dt>AppName</dt>\n",
              "                <dd><code>Window Partitioning</code></dd>\n",
              "            </dl>\n",
              "        </div>\n",
              "        \n",
              "            </div>\n",
              "        "
            ]
          },
          "metadata": {},
          "execution_count": 27
        }
      ],
      "source": [
        "spark"
      ]
    },
    {
      "cell_type": "code",
      "execution_count": null,
      "metadata": {
        "id": "Bqu4fQnNGZ02"
      },
      "outputs": [],
      "source": [
        "# For Pandas conversion optimization\n",
        "spark.conf.set(\"spark.sql.execution.arrow.enabled\", \"true\")"
      ]
    },
    {
      "cell_type": "code",
      "execution_count": null,
      "metadata": {
        "id": "-9DDmYQKGZ02"
      },
      "outputs": [],
      "source": [
        "# Import sql functions\n",
        "from pyspark.sql.functions import *"
      ]
    },
    {
      "cell_type": "code",
      "source": [
        "from google.colab import drive\n",
        "drive.mount('/content/drive')"
      ],
      "metadata": {
        "id": "sC_MTPKjETda",
        "colab": {
          "base_uri": "https://localhost:8080/"
        },
        "outputId": "7cae69e7-d599-46f5-fe01-e089c487d6cb"
      },
      "execution_count": null,
      "outputs": [
        {
          "output_type": "stream",
          "name": "stdout",
          "text": [
            "Drive already mounted at /content/drive; to attempt to forcibly remount, call drive.mount(\"/content/drive\", force_remount=True).\n"
          ]
        }
      ]
    },
    {
      "cell_type": "markdown",
      "metadata": {
        "id": "NYrtXWZIHKMt"
      },
      "source": [
        "Cargo el csv en la variable realStateDF, lo muestro y veo el esquema."
      ]
    },
    {
      "cell_type": "code",
      "source": [
        "realStateDF= spark.read.option(\"header\", \"true\").option(\"delimiter\", \";\").csv(\"/content/drive/MyDrive/Real Estate Dataset.csv\")\n",
        "realStateDF.show(3)\n",
        "realStateDF.printSchema()"
      ],
      "metadata": {
        "id": "hX9hiq7IsEuB",
        "colab": {
          "base_uri": "https://localhost:8080/"
        },
        "outputId": "bb7f3e8f-cf0a-4967-e3fd-d0b01724e7c6"
      },
      "execution_count": null,
      "outputs": [
        {
          "output_type": "stream",
          "name": "stdout",
          "text": [
            "+--------+------+-----+-----------+-----------------+------+---------+--------+-----+--------------------+----+------------+---------+-----------+-----------------+-----------+----------+-------------------+------------+-----+----+---------+------+------+----------------+-----+----------+\n",
            "|name_nsi| price|index|environment|quality_of_living|safety|transport|services|relax|           condition|area|energy_costs|provision|certificate|construction_type|orientation|year_built|last_reconstruction|total_floors|floor|lift|balkonies|loggia|cellar|            type|rooms|  district|\n",
            "+--------+------+-----+-----------+-----------------+------+---------+--------+-----+--------------------+----+------------+---------+-----------+-----------------+-----------+----------+-------------------+------------+-----+----+---------+------+------+----------------+-----+----------+\n",
            "|Semerovo| 42000|   NA|         NA|               NA|    NA|       NA|      NA|   NA|  Original condition|  58|          NA|        0|         NA|               NA|         NA|        NA|                 NA|          NA|   NA|   0|       NA|    NA|     0|3-room apartment|    3|Nové Zámky|\n",
            "|Semerovo| 42000|   NA|         NA|               NA|    NA|       NA|      NA|   NA|  Original condition|  58|          NA|        0|       none|            Brick|         NA|        NA|                 NA|           2|   NA|   0|       NA|    NA|     0|3-room apartment|    3|Nové Zámky|\n",
            "| Štúrovo|107000|  8,3|         NA|               NA|    NA|       NA|      NA|   NA|Partial reconstru...|  40|          NA|        0|         NA|               NA|         NA|        NA|                 NA|           5|    3|   0|       NA|    NA|     0|1-room apartment|    1|Nové Zámky|\n",
            "+--------+------+-----+-----------+-----------------+------+---------+--------+-----+--------------------+----+------------+---------+-----------+-----------------+-----------+----------+-------------------+------------+-----+----+---------+------+------+----------------+-----+----------+\n",
            "only showing top 3 rows\n",
            "\n",
            "root\n",
            " |-- name_nsi: string (nullable = true)\n",
            " |-- price: string (nullable = true)\n",
            " |-- index: string (nullable = true)\n",
            " |-- environment: string (nullable = true)\n",
            " |-- quality_of_living: string (nullable = true)\n",
            " |-- safety: string (nullable = true)\n",
            " |-- transport: string (nullable = true)\n",
            " |-- services: string (nullable = true)\n",
            " |-- relax: string (nullable = true)\n",
            " |-- condition: string (nullable = true)\n",
            " |-- area: string (nullable = true)\n",
            " |-- energy_costs: string (nullable = true)\n",
            " |-- provision: string (nullable = true)\n",
            " |-- certificate: string (nullable = true)\n",
            " |-- construction_type: string (nullable = true)\n",
            " |-- orientation: string (nullable = true)\n",
            " |-- year_built: string (nullable = true)\n",
            " |-- last_reconstruction: string (nullable = true)\n",
            " |-- total_floors: string (nullable = true)\n",
            " |-- floor: string (nullable = true)\n",
            " |-- lift: string (nullable = true)\n",
            " |-- balkonies: string (nullable = true)\n",
            " |-- loggia: string (nullable = true)\n",
            " |-- cellar: string (nullable = true)\n",
            " |-- type: string (nullable = true)\n",
            " |-- rooms: string (nullable = true)\n",
            " |-- district: string (nullable = true)\n",
            "\n"
          ]
        }
      ]
    },
    {
      "cell_type": "markdown",
      "source": [
        "Muestro la media y la desviación típica del precio de las viviendas de la muestra:"
      ],
      "metadata": {
        "id": "n1iXFWATWygv"
      }
    },
    {
      "cell_type": "code",
      "source": [
        "realStateDF.select(avg(realStateDF.price)).show()\n",
        "realStateDF.select(stddev(realStateDF.price)).show()\n"
      ],
      "metadata": {
        "id": "khS_fK75W2t0",
        "colab": {
          "base_uri": "https://localhost:8080/"
        },
        "outputId": "242e6679-0de9-4aba-fcb5-29957708dacf"
      },
      "execution_count": null,
      "outputs": [
        {
          "output_type": "stream",
          "name": "stdout",
          "text": [
            "+------------------+\n",
            "|        avg(price)|\n",
            "+------------------+\n",
            "|165205.66818152307|\n",
            "+------------------+\n",
            "\n",
            "+-----------------+\n",
            "|    stddev(price)|\n",
            "+-----------------+\n",
            "|162973.6312769864|\n",
            "+-----------------+\n",
            "\n"
          ]
        }
      ]
    },
    {
      "cell_type": "markdown",
      "source": [
        "Filtro las viviendas del dataset que estan en 'Original condition'"
      ],
      "metadata": {
        "id": "Zq3pcTddRCE3"
      }
    },
    {
      "cell_type": "code",
      "source": [
        "realStatefiltradoDF=realStateDF.filter(col(\"condition\")==\"Original condition\")\n",
        "realStatefiltradoDF.show(3)"
      ],
      "metadata": {
        "id": "qWhkEr6rRD8U",
        "colab": {
          "base_uri": "https://localhost:8080/"
        },
        "outputId": "30be547d-6e1b-4378-8559-eee61fccc9fd"
      },
      "execution_count": null,
      "outputs": [
        {
          "output_type": "stream",
          "name": "stdout",
          "text": [
            "+--------+-----+-----+-----------+-----------------+------+---------+--------+-----+------------------+-----+------------+---------+-----------+-----------------+-----------+----------+-------------------+------------+-----+----+---------+------+------+----------------+-----+----------+---------+\n",
            "|name_nsi|price|index|environment|quality_of_living|safety|transport|services|relax|         condition| area|energy_costs|provision|certificate|construction_type|orientation|year_built|last_reconstruction|total_floors|floor|lift|balkonies|loggia|cellar|            type|rooms|  district|fila_enum|\n",
            "+--------+-----+-----+-----------+-----------------+------+---------+--------+-----+------------------+-----+------------+---------+-----------+-----------------+-----------+----------+-------------------+------------+-----+----+---------+------+------+----------------+-----+----------+---------+\n",
            "|Semerovo|42000|   NA|         NA|               NA|    NA|       NA|      NA|   NA|Original condition|   58|          NA|        0|         NA|               NA|         NA|        NA|                 NA|          NA|   NA|   0|       NA|    NA|     0|3-room apartment|    3|Nové Zámky|        0|\n",
            "|Semerovo|42000|   NA|         NA|               NA|    NA|       NA|      NA|   NA|Original condition|   58|          NA|        0|       none|            Brick|         NA|        NA|                 NA|           2|   NA|   0|       NA|    NA|     0|3-room apartment|    3|Nové Zámky|        1|\n",
            "| Štúrovo|82000|   NA|         NA|               NA|    NA|       NA|      NA|   NA|Original condition|63,45|          NA|        0|         NA|            Panel|  Southwest|        NA|                 NA|          NA|   NA|   1|       NA|    NA|     0|2-room apartment|    2|Nové Zámky|        8|\n",
            "+--------+-----+-----+-----------+-----------------+------+---------+--------+-----+------------------+-----+------------+---------+-----------+-----------------+-----------+----------+-------------------+------------+-----+----+---------+------+------+----------------+-----+----------+---------+\n",
            "only showing top 3 rows\n",
            "\n"
          ]
        }
      ]
    },
    {
      "cell_type": "markdown",
      "source": [
        "Numero de inmuebles por condición de estado:\n",
        "\n"
      ],
      "metadata": {
        "id": "mzH7zt6Cud_x"
      }
    },
    {
      "cell_type": "code",
      "source": [
        "realStateareasDF = realStateDF.groupBy(realStateDF.condition).count().orderBy(\"count\")\n",
        "realStateareasDF.show()"
      ],
      "metadata": {
        "id": "2LZ2kFEdZnaf",
        "colab": {
          "base_uri": "https://localhost:8080/"
        },
        "outputId": "82aa3591-3798-46dc-aa9e-338728c12e33"
      },
      "execution_count": null,
      "outputs": [
        {
          "output_type": "stream",
          "name": "stdout",
          "text": [
            "+--------------------+-----+\n",
            "|           condition|count|\n",
            "+--------------------+-----+\n",
            "| Development project|   71|\n",
            "|                  NA|  327|\n",
            "|  Under construction|  441|\n",
            "|  Original condition| 2148|\n",
            "|Partial reconstru...| 3953|\n",
            "|        New building| 4074|\n",
            "|Complete reconstr...| 4389|\n",
            "+--------------------+-----+\n",
            "\n"
          ]
        }
      ]
    },
    {
      "cell_type": "markdown",
      "source": [
        "Numero inmuebles por numero de habitaciones"
      ],
      "metadata": {
        "id": "T7ICoYvAasWV"
      }
    },
    {
      "cell_type": "code",
      "source": [
        "realStateroomsDF = realStateDF.groupBy(realStateDF.rooms).count().orderBy(\"count\")\n",
        "realStateroomsDF.show()"
      ],
      "metadata": {
        "id": "ir7dseh3bTbd",
        "colab": {
          "base_uri": "https://localhost:8080/"
        },
        "outputId": "06e52e4b-7fdb-4169-91a1-e5f351c453bd"
      },
      "execution_count": null,
      "outputs": [
        {
          "output_type": "stream",
          "name": "stdout",
          "text": [
            "+-----+-----+\n",
            "|rooms|count|\n",
            "+-----+-----+\n",
            "|    5|  147|\n",
            "|    4| 1529|\n",
            "|    1| 2247|\n",
            "|    2| 5309|\n",
            "|    3| 6171|\n",
            "+-----+-----+\n",
            "\n"
          ]
        }
      ]
    },
    {
      "cell_type": "markdown",
      "source": [
        "Creo la columna fila_enum para poder crear otro dataset a partir del original y poder hacer un left-join"
      ],
      "metadata": {
        "id": "XYShKyFsE56V"
      }
    },
    {
      "cell_type": "code",
      "source": [
        "realStateDF.printSchema()\n",
        "\n",
        "realStateDF = realStateDF.withColumn(\"fila_enum\", monotonically_increasing_id())\n",
        "realStateDF.show(3)"
      ],
      "metadata": {
        "id": "d9RKRaV4gtDZ",
        "colab": {
          "base_uri": "https://localhost:8080/"
        },
        "outputId": "ac5eca4c-a668-4f33-8ea4-563624fc0904"
      },
      "execution_count": null,
      "outputs": [
        {
          "output_type": "stream",
          "name": "stdout",
          "text": [
            "root\n",
            " |-- name_nsi: string (nullable = true)\n",
            " |-- price: string (nullable = true)\n",
            " |-- index: string (nullable = true)\n",
            " |-- environment: string (nullable = true)\n",
            " |-- quality_of_living: string (nullable = true)\n",
            " |-- safety: string (nullable = true)\n",
            " |-- transport: string (nullable = true)\n",
            " |-- services: string (nullable = true)\n",
            " |-- relax: string (nullable = true)\n",
            " |-- condition: string (nullable = true)\n",
            " |-- area: string (nullable = true)\n",
            " |-- energy_costs: string (nullable = true)\n",
            " |-- provision: string (nullable = true)\n",
            " |-- certificate: string (nullable = true)\n",
            " |-- construction_type: string (nullable = true)\n",
            " |-- orientation: string (nullable = true)\n",
            " |-- year_built: string (nullable = true)\n",
            " |-- last_reconstruction: string (nullable = true)\n",
            " |-- total_floors: string (nullable = true)\n",
            " |-- floor: string (nullable = true)\n",
            " |-- lift: string (nullable = true)\n",
            " |-- balkonies: string (nullable = true)\n",
            " |-- loggia: string (nullable = true)\n",
            " |-- cellar: string (nullable = true)\n",
            " |-- type: string (nullable = true)\n",
            " |-- rooms: string (nullable = true)\n",
            " |-- district: string (nullable = true)\n",
            "\n",
            "+--------+------+-----+-----------+-----------------+------+---------+--------+-----+--------------------+----+------------+---------+-----------+-----------------+-----------+----------+-------------------+------------+-----+----+---------+------+------+----------------+-----+----------+---------+\n",
            "|name_nsi| price|index|environment|quality_of_living|safety|transport|services|relax|           condition|area|energy_costs|provision|certificate|construction_type|orientation|year_built|last_reconstruction|total_floors|floor|lift|balkonies|loggia|cellar|            type|rooms|  district|fila_enum|\n",
            "+--------+------+-----+-----------+-----------------+------+---------+--------+-----+--------------------+----+------------+---------+-----------+-----------------+-----------+----------+-------------------+------------+-----+----+---------+------+------+----------------+-----+----------+---------+\n",
            "|Semerovo| 42000|   NA|         NA|               NA|    NA|       NA|      NA|   NA|  Original condition|  58|          NA|        0|         NA|               NA|         NA|        NA|                 NA|          NA|   NA|   0|       NA|    NA|     0|3-room apartment|    3|Nové Zámky|        0|\n",
            "|Semerovo| 42000|   NA|         NA|               NA|    NA|       NA|      NA|   NA|  Original condition|  58|          NA|        0|       none|            Brick|         NA|        NA|                 NA|           2|   NA|   0|       NA|    NA|     0|3-room apartment|    3|Nové Zámky|        1|\n",
            "| Štúrovo|107000|  8,3|         NA|               NA|    NA|       NA|      NA|   NA|Partial reconstru...|  40|          NA|        0|         NA|               NA|         NA|        NA|                 NA|           5|    3|   0|       NA|    NA|     0|1-room apartment|    1|Nové Zámky|        2|\n",
            "+--------+------+-----+-----------+-----------------+------+---------+--------+-----+--------------------+----+------------+---------+-----------+-----------------+-----------+----------+-------------------+------------+-----+----+---------+------+------+----------------+-----+----------+---------+\n",
            "only showing top 3 rows\n",
            "\n"
          ]
        }
      ]
    },
    {
      "cell_type": "markdown",
      "source": [
        "Creo otro dataset ficticio a partir del primero para poder hacer join. Agrego a ambos datasets el fila_enum para poder hacer el join por la coincidencia. Solo he multiplicado la columna 'rooms' y 'price' por dos."
      ],
      "metadata": {
        "id": "QhzwKWPRv-X7"
      }
    },
    {
      "cell_type": "code",
      "source": [
        "\n",
        "realStateCopiaDF=realStateDF.withColumn(\"segundoPrecio\", expr(\"price * 2\")).withColumn(\"segundosRooms\", expr(\"rooms * 2\"))\n",
        "realStateCopiaDF.show(3)\n",
        "columnasAeliminar= ['name_nsi','price','index','environment','quality_of_living','safety','transport','services','relax','condition','area','energy_costs','provision','certificate','construction_type','orientation','year_built','last_reconstruction','total_floors','floor','lift','balkonies','loggia','cellar','type','rooms','district']\n",
        "realStateCopiaDF=realStateCopiaDF.drop(*columnasAeliminar)\n",
        "realStateCopiaDF = realStateCopiaDF.withColumn(\"fila_enum\", monotonically_increasing_id())\n",
        "\n",
        "realStateCopiaDF.show()\n"
      ],
      "metadata": {
        "id": "PaP4vyRZcF8p",
        "colab": {
          "base_uri": "https://localhost:8080/"
        },
        "outputId": "be08ef0e-d9e9-4cd1-fc9a-2770449420d9"
      },
      "execution_count": null,
      "outputs": [
        {
          "output_type": "stream",
          "name": "stdout",
          "text": [
            "+--------+------+-----+-----------+-----------------+------+---------+--------+-----+--------------------+----+------------+---------+-----------+-----------------+-----------+----------+-------------------+------------+-----+----+---------+------+------+----------------+-----+----------+---------+-------------+-------------+\n",
            "|name_nsi| price|index|environment|quality_of_living|safety|transport|services|relax|           condition|area|energy_costs|provision|certificate|construction_type|orientation|year_built|last_reconstruction|total_floors|floor|lift|balkonies|loggia|cellar|            type|rooms|  district|fila_enum|segundoPrecio|segundosRooms|\n",
            "+--------+------+-----+-----------+-----------------+------+---------+--------+-----+--------------------+----+------------+---------+-----------+-----------------+-----------+----------+-------------------+------------+-----+----+---------+------+------+----------------+-----+----------+---------+-------------+-------------+\n",
            "|Semerovo| 42000|   NA|         NA|               NA|    NA|       NA|      NA|   NA|  Original condition|  58|          NA|        0|         NA|               NA|         NA|        NA|                 NA|          NA|   NA|   0|       NA|    NA|     0|3-room apartment|    3|Nové Zámky|        0|      84000.0|          6.0|\n",
            "|Semerovo| 42000|   NA|         NA|               NA|    NA|       NA|      NA|   NA|  Original condition|  58|          NA|        0|       none|            Brick|         NA|        NA|                 NA|           2|   NA|   0|       NA|    NA|     0|3-room apartment|    3|Nové Zámky|        1|      84000.0|          6.0|\n",
            "| Štúrovo|107000|  8,3|         NA|               NA|    NA|       NA|      NA|   NA|Partial reconstru...|  40|          NA|        0|         NA|               NA|         NA|        NA|                 NA|           5|    3|   0|       NA|    NA|     0|1-room apartment|    1|Nové Zámky|        2|     214000.0|          2.0|\n",
            "+--------+------+-----+-----------+-----------------+------+---------+--------+-----+--------------------+----+------------+---------+-----------+-----------------+-----------+----------+-------------------+------------+-----+----+---------+------+------+----------------+-----+----------+---------+-------------+-------------+\n",
            "only showing top 3 rows\n",
            "\n",
            "+---------+-------------+-------------+\n",
            "|fila_enum|segundoPrecio|segundosRooms|\n",
            "+---------+-------------+-------------+\n",
            "|        0|      84000.0|          6.0|\n",
            "|        1|      84000.0|          6.0|\n",
            "|        2|     214000.0|          2.0|\n",
            "|        3|     210000.0|          6.0|\n",
            "|        4|     164000.0|          4.0|\n",
            "|        5|     204000.0|          6.0|\n",
            "|        6|     258000.0|          6.0|\n",
            "|        7|     190000.0|          4.0|\n",
            "|        8|     164000.0|          4.0|\n",
            "|        9|     149800.0|          4.0|\n",
            "|       10|     129800.0|          4.0|\n",
            "|       11|     166000.0|          4.0|\n",
            "|       12|     193000.0|          6.0|\n",
            "|       13|     165800.0|          6.0|\n",
            "|       14|     134000.0|          4.0|\n",
            "|       15|      96000.0|          2.0|\n",
            "|       16|     159800.0|          6.0|\n",
            "|       17|     131000.0|          4.0|\n",
            "|       18|     218000.0|          6.0|\n",
            "|       19|     136000.0|          6.0|\n",
            "+---------+-------------+-------------+\n",
            "only showing top 20 rows\n",
            "\n"
          ]
        }
      ]
    },
    {
      "cell_type": "markdown",
      "source": [
        "Uno ambos datasets, el original y el creado por la columna fila_enum"
      ],
      "metadata": {
        "id": "_Rlf31vTkKHz"
      }
    },
    {
      "cell_type": "code",
      "source": [
        "# joinCondition = realStateDF.fila_enum == realStateCopiaDF.fila_enum\n",
        "nuevorealStateDF= realStateDF.join(realStateCopiaDF, 'fila_enum', \"left_outer\").orderBy(\"fila_enum\").show(3)"
      ],
      "metadata": {
        "id": "pOmvXykTcnDP",
        "colab": {
          "base_uri": "https://localhost:8080/"
        },
        "outputId": "422a034b-fa9a-4129-9e58-be22e760e369"
      },
      "execution_count": null,
      "outputs": [
        {
          "output_type": "stream",
          "name": "stdout",
          "text": [
            "+---------+--------+------+-----+-----------+-----------------+------+---------+--------+-----+--------------------+----+------------+---------+-----------+-----------------+-----------+----------+-------------------+------------+-----+----+---------+------+------+----------------+-----+----------+-------------+-------------+\n",
            "|fila_enum|name_nsi| price|index|environment|quality_of_living|safety|transport|services|relax|           condition|area|energy_costs|provision|certificate|construction_type|orientation|year_built|last_reconstruction|total_floors|floor|lift|balkonies|loggia|cellar|            type|rooms|  district|segundoPrecio|segundosRooms|\n",
            "+---------+--------+------+-----+-----------+-----------------+------+---------+--------+-----+--------------------+----+------------+---------+-----------+-----------------+-----------+----------+-------------------+------------+-----+----+---------+------+------+----------------+-----+----------+-------------+-------------+\n",
            "|        0|Semerovo| 42000|   NA|         NA|               NA|    NA|       NA|      NA|   NA|  Original condition|  58|          NA|        0|         NA|               NA|         NA|        NA|                 NA|          NA|   NA|   0|       NA|    NA|     0|3-room apartment|    3|Nové Zámky|      84000.0|          6.0|\n",
            "|        1|Semerovo| 42000|   NA|         NA|               NA|    NA|       NA|      NA|   NA|  Original condition|  58|          NA|        0|       none|            Brick|         NA|        NA|                 NA|           2|   NA|   0|       NA|    NA|     0|3-room apartment|    3|Nové Zámky|      84000.0|          6.0|\n",
            "|        2| Štúrovo|107000|  8,3|         NA|               NA|    NA|       NA|      NA|   NA|Partial reconstru...|  40|          NA|        0|         NA|               NA|         NA|        NA|                 NA|           5|    3|   0|       NA|    NA|     0|1-room apartment|    1|Nové Zámky|     214000.0|          2.0|\n",
            "+---------+--------+------+-----+-----------+-----------------+------+---------+--------+-----+--------------------+----+------------+---------+-----------+-----------------+-----------+----------+-------------------+------------+-----+----+---------+------+------+----------------+-----+----------+-------------+-------------+\n",
            "only showing top 3 rows\n",
            "\n"
          ]
        }
      ]
    },
    {
      "cell_type": "markdown",
      "source": [
        "Importo las funciones de pyspark como F y la función Window."
      ],
      "metadata": {
        "id": "b9I7Iad5FY8S"
      }
    },
    {
      "cell_type": "code",
      "source": [
        "from pyspark.sql import functions as F\n",
        "from pyspark.sql.window import Window\n"
      ],
      "metadata": {
        "id": "8r4Uj8za_BiO"
      },
      "execution_count": null,
      "outputs": []
    },
    {
      "cell_type": "markdown",
      "source": [
        "Creo tres columnas gracias a la funcion window donde se muestra por cada elemento del DF el precio medio de ese tipo de vivienda en concreto, la media de habitaciones de ese tipo de vivienda y el total de inmuebles."
      ],
      "metadata": {
        "id": "OeVlFz8CSLE3"
      }
    },
    {
      "cell_type": "code",
      "source": [
        "\n",
        "realStateareasDF = realStateDF.groupBy(\"condition\").count().orderBy(\"count\")\n",
        "realStateareasDF.show()\n",
        "\n",
        "win = Window().partitionBy(\"condition\").orderBy(\"price\")\n",
        "\n",
        "windowDF = realStateDF.withColumn('precio_medio', F.avg((\"price\")).over(win)).withColumn('Media_de_habitaciones',F.avg(\"rooms\").over(win)).withColumn('Total_Inbuebles_de_este_tipo',F.count(\"condition\").over(win))\n",
        "windowDF.show()\n"
      ],
      "metadata": {
        "id": "iXcvvCntSYIJ",
        "colab": {
          "base_uri": "https://localhost:8080/"
        },
        "outputId": "de4e000e-7bfb-472f-9ca2-842f36c56342"
      },
      "execution_count": null,
      "outputs": [
        {
          "output_type": "stream",
          "name": "stdout",
          "text": [
            "+--------------------+-----+\n",
            "|           condition|count|\n",
            "+--------------------+-----+\n",
            "| Development project|   71|\n",
            "|                  NA|  327|\n",
            "|  Under construction|  441|\n",
            "|  Original condition| 2148|\n",
            "|Partial reconstru...| 3953|\n",
            "|        New building| 4074|\n",
            "|Complete reconstr...| 4389|\n",
            "+--------------------+-----+\n",
            "\n",
            "+--------------------+------+-----+-----------+-----------------+------+---------+--------+-----+--------------------+-----+------------+---------+-----------+-----------------+-----------+----------+-------------------+------------+-----+----+---------+------+------+----------------+-----+--------------------+---------+------------------+---------------------+----------------------------+\n",
            "|            name_nsi| price|index|environment|quality_of_living|safety|transport|services|relax|           condition| area|energy_costs|provision|certificate|construction_type|orientation|year_built|last_reconstruction|total_floors|floor|lift|balkonies|loggia|cellar|            type|rooms|            district|fila_enum|      precio_medio|Media_de_habitaciones|Total_Inbuebles_de_este_tipo|\n",
            "+--------------------+------+-----+-----------+-----------------+------+---------+--------+-----+--------------------+-----+------------+---------+-----------+-----------------+-----------+----------+-------------------+------------+-----+----+---------+------+------+----------------+-----+--------------------+---------+------------------+---------------------+----------------------------+\n",
            "|             Oponice|100000|   NA|         NA|               NA|    NA|       NA|      NA|   NA|Complete reconstr...|   72|          NA|        0|       none|               NA|         NA|        NA|                 NA|          NA|   NA|   0|       NA|    NA|     0|3-room apartment|    3|           Topoľčany|      479|          100000.0|   2.5714285714285716|                           7|\n",
            "|              Trnava|100000|   NA|         NA|               NA|    NA|       NA|      NA|   NA|Complete reconstr...|   36|          NA|        0|         NA|               NA|         NA|        NA|                 NA|          NA|   NA|   0|       NA|    NA|     0|1-room apartment|    1|              Trnava|      824|          100000.0|   2.5714285714285716|                           7|\n",
            "|   Považská Bystrica|100000|   NA|         NA|               NA|    NA|       NA|      NA|   NA|Complete reconstr...|   60|          NA|        0|         NA|               NA|         NA|        NA|                 NA|          NA|    3|   0|        1|    NA|     0|2-room apartment|    2|   Považská Bystrica|     1570|          100000.0|   2.5714285714285716|                           7|\n",
            "|              Levice|100000|   NA|         NA|               NA|    NA|       NA|      NA|   NA|Complete reconstr...|   69|          NA|        0|         NA|               NA|         NA|        NA|                 NA|          NA|   NA|   0|       NA|    NA|     0|3-room apartment|    3|              Levice|     8122|          100000.0|   2.5714285714285716|                           7|\n",
            "|             Humenné|100000|   NA|         NA|               NA|    NA|       NA|      NA|   NA|Complete reconstr...|   87|          NA|        0|         NA|            Panel|         NA|        NA|                 NA|          NA|    4|   0|        1|    NA|     0|4-room apartment|    4|             Humenné|    10529|          100000.0|   2.5714285714285716|                           7|\n",
            "|          Michalovce|100000|  8,6|        8,9|                9|    10|       10|     8,6|  4,4|Complete reconstr...|   72|          NA|        0|         NA|               NA|         NA|        NA|                 NA|          12|   12|   1|        1|    NA|     0|3-room apartment|    3|          Michalovce|    11762|          100000.0|   2.5714285714285716|                           7|\n",
            "|              Martin|100000|   NA|         NA|               NA|    NA|       NA|      NA|   NA|Complete reconstr...|   53|          NA|        0|       none|               NA|         NA|      1970|                 NA|           3|    1|   0|       NA|    NA|     0|2-room apartment|    2|              Martin|    13370|          100000.0|   2.5714285714285716|                           7|\n",
            "|           Prievidza|101000|  7,6|        5,4|              8,7|   7,2|       10|     8,8|  6,6|Complete reconstr...|   NA|          NA|        0|         NA|               NA|         NA|        NA|                 NA|          NA|   NA|   0|       NA|    NA|     0|3-room apartment|    3|           Prievidza|     1808|          100300.0|                  2.7|                          10|\n",
            "|              Levice|101000|   NA|         NA|               NA|    NA|       NA|      NA|   NA|Complete reconstr...|82,89|          NA|        0|       none|               NA|         NA|      1980|                 NA|           1|   NA|   0|        1|    NA|     0|3-room apartment|    3|              Levice|     7977|          100300.0|                  2.7|                          10|\n",
            "|     Dunajská Streda|101000|   NA|         NA|               NA|    NA|       NA|      NA|   NA|Complete reconstr...|   60|          NA|        0|         NA|               NA|         NA|        NA|                 NA|          NA|   NA|   0|       NA|    NA|     0|3-room apartment|    3|     Dunajská Streda|     8423|          100300.0|                  2.7|                          10|\n",
            "|     Dunajská Streda|101500|   NA|         NA|               NA|    NA|       NA|      NA|   NA|Complete reconstr...|   60|          NA|        0|         NA|               NA|         NA|        NA|                 NA|          NA|   NA|   0|       NA|    NA|     0|3-room apartment|    3|     Dunajská Streda|     8393|100409.09090909091|    2.727272727272727|                          11|\n",
            "|          Michalovce|101700|  8,1|          8|              8,9|     9|      9,3|     8,3|  4,6|Complete reconstr...|   57|          NA|        0|         NA|               NA|         NA|        NA|               2018|           6|    2|   0|        2|    NA|     0|2-room apartment|    2|          Michalovce|    11815|100516.66666666667|   2.6666666666666665|                          12|\n",
            "|          Nové Zámky|101900|   NA|         NA|               NA|    NA|       NA|      NA|   NA|Complete reconstr...|   85|          NA|        0|         NA|               NA|         NA|        NA|                 NA|           8|    1|   0|       NA|     1|     0|3-room apartment|    3|          Nové Zámky|    10024|100793.33333333333|                  2.6|                          15|\n",
            "|Košice - mestská ...|101900|  8,7|         NA|               NA|    NA|       NA|      NA|   NA|Complete reconstr...|   31|          NA|        0|         NA|               NA|         NA|        NA|                 NA|          NA|   NA|   0|       NA|    NA|     0|1-room apartment|    1|            Košice I|    10642|100793.33333333333|                  2.6|                          15|\n",
            "|   Vranov nad Topľou|101900|   NA|         NA|               NA|    NA|       NA|      NA|   NA|Complete reconstr...|   75|          40|        0|          B|               NA|         NA|        NA|                 NA|           8|    1|   1|       NA|    NA|     0|3-room apartment|    3|   Vranov nad Topľou|    15369|100793.33333333333|                  2.6|                          15|\n",
            "|              Zvolen|101990|  6,2|        9,1|              7,8|   4,3|      5,7|     6,1|  2,5|Complete reconstr...|   39|          NA|        0|         NA|            Panel|       West|        NA|                 NA|          NA|    5|   1|       NA|    NA|     0|1-room apartment|    1|              Zvolen|    14478|        100868.125|                  2.5|                          16|\n",
            "|             Štúrovo|102000|   NA|         NA|               NA|    NA|       NA|      NA|   NA|Complete reconstr...| 76,5|          NA|        0|       none|               NA|         NA|         1|                 NA|           7|    2|   0|       NA|    NA|     0|3-room apartment|    3|          Nové Zámky|        5|101353.21428571429|   2.4642857142857144|                          28|\n",
            "|              Trnava|102000|  8,3|          8|                9|   9,3|      8,6|     8,2|  6,4|Complete reconstr...|   30|          NA|        1|          C|               NA|  Southeast|        NA|                 NA|          NA|   NA|   0|       NA|    NA|     0|1-room apartment|    1|              Trnava|      662|101353.21428571429|   2.4642857142857144|                          28|\n",
            "|Bánovce nad Bebravou|102000|   NA|         NA|               NA|    NA|       NA|      NA|   NA|Complete reconstr...|   82|          NA|        0|         NA|               NA|         NA|        NA|                 NA|          NA|   NA|   1|       NA|     1|     0|4-room apartment|    4|Bánovce nad Bebravou|     1431|101353.21428571429|   2.4642857142857144|                          28|\n",
            "|Bánovce nad Bebravou|102000|   NA|         NA|               NA|    NA|       NA|      NA|   NA|Complete reconstr...|   63|          NA|        0|         NA|            Panel|         NA|        NA|                 NA|          NA|    7|   1|       NA|    NA|     0|3-room apartment|    3|Bánovce nad Bebravou|     1453|101353.21428571429|   2.4642857142857144|                          28|\n",
            "+--------------------+------+-----+-----------+-----------------+------+---------+--------+-----+--------------------+-----+------------+---------+-----------+-----------------+-----------+----------+-------------------+------------+-----+----+---------+------+------+----------------+-----+--------------------+---------+------------------+---------------------+----------------------------+\n",
            "only showing top 20 rows\n",
            "\n"
          ]
        }
      ]
    }
  ],
  "metadata": {
    "colab": {
      "provenance": []
    },
    "kernelspec": {
      "display_name": "Python 3.10.0 64-bit",
      "language": "python",
      "name": "python3"
    },
    "language_info": {
      "codemirror_mode": {
        "name": "ipython",
        "version": 3
      },
      "file_extension": ".py",
      "mimetype": "text/x-python",
      "name": "python",
      "nbconvert_exporter": "python",
      "pygments_lexer": "ipython3",
      "version": "3.10.0"
    },
    "orig_nbformat": 4,
    "vscode": {
      "interpreter": {
        "hash": "ff1af5cda0bea4fe5c4ebc1f94ab9f13d8998f98d08e16d8aba48673b9d00116"
      }
    }
  },
  "nbformat": 4,
  "nbformat_minor": 0
}