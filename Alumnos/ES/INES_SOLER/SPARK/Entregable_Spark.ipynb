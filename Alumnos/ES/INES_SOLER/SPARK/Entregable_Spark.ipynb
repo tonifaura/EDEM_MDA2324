{
  "nbformat": 4,
  "nbformat_minor": 0,
  "metadata": {
    "colab": {
      "provenance": []
    },
    "kernelspec": {
      "name": "python3",
      "display_name": "Python 3"
    },
    "language_info": {
      "name": "python"
    }
  },
  "cells": [
    {
      "cell_type": "code",
      "execution_count": 1,
      "metadata": {
        "id": "KaEdnj7dqvJk"
      },
      "outputs": [],
      "source": [
        "# install Java8\n",
        "!apt-get install openjdk-8-jdk-headless -qq > /dev/null\n",
        "# download spark 3.5.0\n",
        "!wget -q https://apache.osuosl.org/spark/spark-3.5.0/spark-3.5.0-bin-hadoop3.tgz"
      ]
    },
    {
      "cell_type": "code",
      "source": [
        "ls -l # check the .tgz is there"
      ],
      "metadata": {
        "colab": {
          "base_uri": "https://localhost:8080/"
        },
        "id": "ko26Z8mTq5l-",
        "outputId": "6e5c5a02-8fd1-4385-a714-89fdcdee2078"
      },
      "execution_count": 2,
      "outputs": [
        {
          "output_type": "stream",
          "name": "stdout",
          "text": [
            "total 391120\n",
            "drwxr-xr-x 1 root root      4096 Jan 11 17:02 \u001b[0m\u001b[01;34msample_data\u001b[0m/\n",
            "-rw-r--r-- 1 root root 400395283 Sep  9 02:10 spark-3.5.0-bin-hadoop3.tgz\n",
            "-rw-r--r-- 1 root root    106270 Jan 16 07:51 spotify-2023.csv\n"
          ]
        }
      ]
    },
    {
      "cell_type": "code",
      "source": [
        "# unzip it\n",
        "!tar xf spark-3.5.0-bin-hadoop3.tgz"
      ],
      "metadata": {
        "id": "G6Nl-35uq5cW"
      },
      "execution_count": 3,
      "outputs": []
    },
    {
      "cell_type": "code",
      "source": [
        "!pip install -q findspark"
      ],
      "metadata": {
        "id": "-q3rXSxFq5Sc"
      },
      "execution_count": 4,
      "outputs": []
    },
    {
      "cell_type": "code",
      "source": [
        "import os\n",
        "os.environ[\"JAVA_HOME\"] = \"/usr/lib/jvm/java-8-openjdk-amd64\"\n",
        "os.environ[\"SPARK_HOME\"] = \"/content/spark-3.5.0-bin-hadoop3\"\n",
        "os.environ[\"PYSPARK_SUBMIT_ARGS\"] = \"--master local[*] pyspark-shell\""
      ],
      "metadata": {
        "id": "ZKxPaF01q5C2"
      },
      "execution_count": 5,
      "outputs": []
    },
    {
      "cell_type": "code",
      "source": [
        "import findspark\n",
        "findspark.init(\"spark-3.5.0-bin-hadoop3\")# SPARK_HOME\n",
        "\n",
        "from pyspark.sql import SparkSession\n",
        "\n",
        "# create the session\n",
        "spark = SparkSession \\\n",
        "        .builder \\\n",
        "        .appName(\"Window Partitioning\") \\\n",
        "        .master(\"local[*]\") \\\n",
        "        .getOrCreate()\n",
        "\n",
        "spark.version"
      ],
      "metadata": {
        "colab": {
          "base_uri": "https://localhost:8080/",
          "height": 37
        },
        "id": "tZJvzQ7TrAhG",
        "outputId": "5ef7a09c-c906-4489-ae47-a48b48db4723"
      },
      "execution_count": 6,
      "outputs": [
        {
          "output_type": "execute_result",
          "data": {
            "text/plain": [
              "'3.5.0'"
            ],
            "application/vnd.google.colaboratory.intrinsic+json": {
              "type": "string"
            }
          },
          "metadata": {},
          "execution_count": 6
        }
      ]
    },
    {
      "cell_type": "code",
      "source": [
        "spark"
      ],
      "metadata": {
        "colab": {
          "base_uri": "https://localhost:8080/",
          "height": 216
        },
        "id": "Harl-dJgrAde",
        "outputId": "665ff270-f68d-4db7-e172-c6424874ea5d"
      },
      "execution_count": 7,
      "outputs": [
        {
          "output_type": "execute_result",
          "data": {
            "text/plain": [
              "<pyspark.sql.session.SparkSession at 0x7bfccda4f1f0>"
            ],
            "text/html": [
              "\n",
              "            <div>\n",
              "                <p><b>SparkSession - in-memory</b></p>\n",
              "                \n",
              "        <div>\n",
              "            <p><b>SparkContext</b></p>\n",
              "\n",
              "            <p><a href=\"http://b09cc90c99ab:4040\">Spark UI</a></p>\n",
              "\n",
              "            <dl>\n",
              "              <dt>Version</dt>\n",
              "                <dd><code>v3.5.0</code></dd>\n",
              "              <dt>Master</dt>\n",
              "                <dd><code>local[*]</code></dd>\n",
              "              <dt>AppName</dt>\n",
              "                <dd><code>Window Partitioning</code></dd>\n",
              "            </dl>\n",
              "        </div>\n",
              "        \n",
              "            </div>\n",
              "        "
            ]
          },
          "metadata": {},
          "execution_count": 7
        }
      ]
    },
    {
      "cell_type": "code",
      "source": [
        "# For Pandas conversion optimization\n",
        "spark.conf.set(\"spark.sql.execution.arrow.enabled\", \"true\")"
      ],
      "metadata": {
        "id": "Qp2cfov_rAZa"
      },
      "execution_count": 8,
      "outputs": []
    },
    {
      "cell_type": "code",
      "source": [
        "# Import sql functions\n",
        "from pyspark.sql.functions import *"
      ],
      "metadata": {
        "id": "8zNeezjtrAWE"
      },
      "execution_count": 9,
      "outputs": []
    },
    {
      "cell_type": "code",
      "source": [
        "dataset_df = spark.read.option(\"header\", \"true\").option(\"delimiter\", \",\").csv(\"/content/spotify-2023.csv\")\n",
        "spotify_df = dataset_df.withColumn(\"id\", monotonically_increasing_id())\n",
        "spotify_df.show(10)"
      ],
      "metadata": {
        "colab": {
          "base_uri": "https://localhost:8080/"
        },
        "id": "ngnkGcJ9rARY",
        "outputId": "5b2b7947-7c37-4dce-9e38-608ae08abe17"
      },
      "execution_count": 57,
      "outputs": [
        {
          "output_type": "stream",
          "name": "stdout",
          "text": [
            "+--------------------+--------------------+------------+-------------+--------------+------------+--------------------+-----------------+---------+------------------+---------------+-------------------+----------------+----------------+---+---+-----+--------------+---------+--------+--------------+------------------+----------+-------------+---+\n",
            "|          track_name|      artist(s)_name|artist_count|released_year|released_month|released_day|in_spotify_playlists|in_spotify_charts|  streams|in_apple_playlists|in_apple_charts|in_deezer_playlists|in_deezer_charts|in_shazam_charts|bpm|key| mode|danceability_%|valence_%|energy_%|acousticness_%|instrumentalness_%|liveness_%|speechiness_%| id|\n",
            "+--------------------+--------------------+------------+-------------+--------------+------------+--------------------+-----------------+---------+------------------+---------------+-------------------+----------------+----------------+---+---+-----+--------------+---------+--------+--------------+------------------+----------+-------------+---+\n",
            "|Seven (feat. Latt...|    Latto, Jung Kook|           2|         2023|             7|          14|                 553|              147|141381703|                43|            263|                 45|              10|             826|125|  B|Major|            80|       89|      83|            31|                 0|         8|            4|  0|\n",
            "|                LALA|         Myke Towers|           1|         2023|             3|          23|                1474|               48|133716286|                48|            126|                 58|              14|             382| 92| C#|Major|            71|       61|      74|             7|                 0|        10|            4|  1|\n",
            "|             vampire|      Olivia Rodrigo|           1|         2023|             6|          30|                1397|              113|140003974|                94|            207|                 91|              14|             949|138|  F|Major|            51|       32|      53|            17|                 0|        31|            6|  2|\n",
            "|        Cruel Summer|        Taylor Swift|           1|         2019|             8|          23|                7858|              100|800840817|               116|            207|                125|              12|             548|170|  A|Major|            55|       58|      72|            11|                 0|        11|           15|  3|\n",
            "|      WHERE SHE GOES|           Bad Bunny|           1|         2023|             5|          18|                3133|               50|303236322|                84|            133|                 87|              15|             425|144|  A|Minor|            65|       23|      80|            14|                63|        11|            6|  4|\n",
            "|            Sprinter|   Dave, Central Cee|           2|         2023|             6|           1|                2186|               91|183706234|                67|            213|                 88|              17|             946|141| C#|Major|            92|       66|      58|            19|                 0|         8|           24|  5|\n",
            "|     Ella Baila Sola|Eslabon Armado, P...|           2|         2023|             3|          16|                3090|               50|725980112|                34|            222|                 43|              13|             418|148|  F|Minor|            67|       83|      76|            48|                 0|         8|            3|  6|\n",
            "|            Columbia|             Quevedo|           1|         2023|             7|           7|                 714|               43| 58149378|                25|             89|                 30|              13|             194|100|  F|Major|            67|       26|      71|            37|                 0|        11|            4|  7|\n",
            "|            fukumean|               Gunna|           1|         2023|             5|          15|                1096|               83| 95217315|                60|            210|                 48|              11|             953|130| C#|Minor|            85|       22|      62|            12|                 0|        28|            9|  8|\n",
            "|     La Bebe - Remix|Peso Pluma, Yng L...|           2|         2023|             3|          17|                2953|               44|553634067|                49|            110|                 66|              13|             339|170|  D|Minor|            81|       56|      48|            21|                 0|         8|           33|  9|\n",
            "+--------------------+--------------------+------------+-------------+--------------+------------+--------------------+-----------------+---------+------------------+---------------+-------------------+----------------+----------------+---+---+-----+--------------+---------+--------+--------------+------------------+----------+-------------+---+\n",
            "only showing top 10 rows\n",
            "\n"
          ]
        }
      ]
    },
    {
      "cell_type": "code",
      "source": [
        "spotify_df.printSchema()"
      ],
      "metadata": {
        "id": "JGpA-h2BwozC"
      },
      "execution_count": null,
      "outputs": []
    },
    {
      "cell_type": "code",
      "source": [
        "songs_df = spotify_df.select('id', 'track_name', 'artist(s)_name', col('artist_count').cast('int'), col('released_year').cast('long'))\n",
        "platforms_df = spotify_df.select('id', col('streams').cast('long'), col('in_spotify_playlists').cast('long'), col('in_spotify_charts').cast('long'), col('in_apple_playlists').cast('long'), col('in_apple_charts').cast('long'), col('in_deezer_playlists').cast('long'), col('in_deezer_charts').cast('long'), col('in_shazam_charts').cast('long'))\n",
        "characteristics_df = spotify_df.select('id', col('bpm').cast('int'), 'key', 'mode', col('danceability_%').cast('int'), col('valence_%').cast('int'), col('energy_%').cast('int'), col('acousticness_%').cast('int'), col('instrumentalness_%').cast('int'), col('liveness_%').cast('int'), col('speechiness_%').cast('int'))"
      ],
      "metadata": {
        "id": "Ve5MimF6WZ3d"
      },
      "execution_count": 56,
      "outputs": []
    },
    {
      "cell_type": "code",
      "source": [
        "songs_df.show(10)"
      ],
      "metadata": {
        "colab": {
          "base_uri": "https://localhost:8080/"
        },
        "id": "BzV5DXNkvCFR",
        "outputId": "d42d1133-31ae-4a84-8c4c-1faf5f1ed591"
      },
      "execution_count": 58,
      "outputs": [
        {
          "output_type": "stream",
          "name": "stdout",
          "text": [
            "+---+--------------------+--------------------+------------+-------------+\n",
            "| id|          track_name|      artist(s)_name|artist_count|released_year|\n",
            "+---+--------------------+--------------------+------------+-------------+\n",
            "|  0|Seven (feat. Latt...|    Latto, Jung Kook|           2|         2023|\n",
            "|  1|                LALA|         Myke Towers|           1|         2023|\n",
            "|  2|             vampire|      Olivia Rodrigo|           1|         2023|\n",
            "|  3|        Cruel Summer|        Taylor Swift|           1|         2019|\n",
            "|  4|      WHERE SHE GOES|           Bad Bunny|           1|         2023|\n",
            "|  5|            Sprinter|   Dave, Central Cee|           2|         2023|\n",
            "|  6|     Ella Baila Sola|Eslabon Armado, P...|           2|         2023|\n",
            "|  7|            Columbia|             Quevedo|           1|         2023|\n",
            "|  8|            fukumean|               Gunna|           1|         2023|\n",
            "|  9|     La Bebe - Remix|Peso Pluma, Yng L...|           2|         2023|\n",
            "+---+--------------------+--------------------+------------+-------------+\n",
            "only showing top 10 rows\n",
            "\n"
          ]
        }
      ]
    },
    {
      "cell_type": "code",
      "source": [
        "platforms_df.show(10)"
      ],
      "metadata": {
        "colab": {
          "base_uri": "https://localhost:8080/"
        },
        "id": "eCHkzW9lvB6Q",
        "outputId": "654f9cea-1c91-4feb-e1a1-c57b1f00a827"
      },
      "execution_count": 59,
      "outputs": [
        {
          "output_type": "stream",
          "name": "stdout",
          "text": [
            "+---+---------+--------------------+-----------------+------------------+---------------+-------------------+----------------+----------------+\n",
            "| id|  streams|in_spotify_playlists|in_spotify_charts|in_apple_playlists|in_apple_charts|in_deezer_playlists|in_deezer_charts|in_shazam_charts|\n",
            "+---+---------+--------------------+-----------------+------------------+---------------+-------------------+----------------+----------------+\n",
            "|  0|141381703|                 553|              147|                43|            263|                 45|              10|             826|\n",
            "|  1|133716286|                1474|               48|                48|            126|                 58|              14|             382|\n",
            "|  2|140003974|                1397|              113|                94|            207|                 91|              14|             949|\n",
            "|  3|800840817|                7858|              100|               116|            207|                125|              12|             548|\n",
            "|  4|303236322|                3133|               50|                84|            133|                 87|              15|             425|\n",
            "|  5|183706234|                2186|               91|                67|            213|                 88|              17|             946|\n",
            "|  6|725980112|                3090|               50|                34|            222|                 43|              13|             418|\n",
            "|  7| 58149378|                 714|               43|                25|             89|                 30|              13|             194|\n",
            "|  8| 95217315|                1096|               83|                60|            210|                 48|              11|             953|\n",
            "|  9|553634067|                2953|               44|                49|            110|                 66|              13|             339|\n",
            "+---+---------+--------------------+-----------------+------------------+---------------+-------------------+----------------+----------------+\n",
            "only showing top 10 rows\n",
            "\n"
          ]
        }
      ]
    },
    {
      "cell_type": "code",
      "source": [
        "characteristics_df.show(10)"
      ],
      "metadata": {
        "colab": {
          "base_uri": "https://localhost:8080/"
        },
        "id": "GmLWYUgxvBvE",
        "outputId": "f82602a9-a497-4a73-9576-460438e750c8"
      },
      "execution_count": 60,
      "outputs": [
        {
          "output_type": "stream",
          "name": "stdout",
          "text": [
            "+---+---+---+-----+--------------+---------+--------+--------------+------------------+----------+-------------+\n",
            "| id|bpm|key| mode|danceability_%|valence_%|energy_%|acousticness_%|instrumentalness_%|liveness_%|speechiness_%|\n",
            "+---+---+---+-----+--------------+---------+--------+--------------+------------------+----------+-------------+\n",
            "|  0|125|  B|Major|            80|       89|      83|            31|                 0|         8|            4|\n",
            "|  1| 92| C#|Major|            71|       61|      74|             7|                 0|        10|            4|\n",
            "|  2|138|  F|Major|            51|       32|      53|            17|                 0|        31|            6|\n",
            "|  3|170|  A|Major|            55|       58|      72|            11|                 0|        11|           15|\n",
            "|  4|144|  A|Minor|            65|       23|      80|            14|                63|        11|            6|\n",
            "|  5|141| C#|Major|            92|       66|      58|            19|                 0|         8|           24|\n",
            "|  6|148|  F|Minor|            67|       83|      76|            48|                 0|         8|            3|\n",
            "|  7|100|  F|Major|            67|       26|      71|            37|                 0|        11|            4|\n",
            "|  8|130| C#|Minor|            85|       22|      62|            12|                 0|        28|            9|\n",
            "|  9|170|  D|Minor|            81|       56|      48|            21|                 0|         8|           33|\n",
            "+---+---+---+-----+--------------+---------+--------+--------------+------------------+----------+-------------+\n",
            "only showing top 10 rows\n",
            "\n"
          ]
        }
      ]
    },
    {
      "cell_type": "code",
      "source": [
        "# Number of songs released in 2023\n",
        "songs_2023 = songs_df.filter(col('released_year') == 2023)\n",
        "songs_2023.show()"
      ],
      "metadata": {
        "id": "ooOtcnILyg2U"
      },
      "execution_count": null,
      "outputs": []
    },
    {
      "cell_type": "code",
      "source": [
        "# Number of songs not released in 2023\n",
        "songs_Not2023 = songs_df.filter(col('released_year') != 2023).count()\n",
        "print(songs_Not2023)"
      ],
      "metadata": {
        "id": "mb_dZqGUzck5"
      },
      "execution_count": null,
      "outputs": []
    },
    {
      "cell_type": "code",
      "source": [
        "# Top 20 songs with + streams\n",
        "highest_streams_df = songs_df.join(platforms_df, 'id', \"left\").select('id', 'track_name', 'artist(s)_name', 'released_year', 'streams').orderBy((col('streams')), ascending = False)\n",
        "\n",
        "highest_streams_df.limit(20).show()"
      ],
      "metadata": {
        "id": "-NXjwqyk0QUF"
      },
      "execution_count": null,
      "outputs": []
    },
    {
      "cell_type": "code",
      "source": [
        "# Top 20 songs with + streams in 2023\n",
        "highest_streams2023_df = highest_streams_df.filter(col('released_year') == 2023)\n",
        "TOP20_2023 = highest_streams2023_df.limit(20)\n",
        "TOP20_2023.show()"
      ],
      "metadata": {
        "id": "V4aeogn3o-Qx"
      },
      "execution_count": null,
      "outputs": []
    },
    {
      "cell_type": "code",
      "source": [
        "# Max and min number of streams\n",
        "max_min_df = platforms_df.agg((max('streams').alias('Max_streams')), (min('streams').alias('Min_streams')))\n",
        "max_min_df.show()"
      ],
      "metadata": {
        "id": "yXmzhOZhp4yn"
      },
      "execution_count": null,
      "outputs": []
    },
    {
      "cell_type": "code",
      "source": [
        "# Range of 'released_year' available in dataset\n",
        "range_year_df = songs_df.agg((max('released_year').alias('Year_newest')), (min('released_year').alias('Year_oldest')))\n",
        "range_year_df.show()"
      ],
      "metadata": {
        "id": "GlO_AG3nShXr"
      },
      "execution_count": null,
      "outputs": []
    },
    {
      "cell_type": "code",
      "source": [
        "# Number of songs per artist\n",
        "songs_artist_df = songs_df.groupBy('artist(s)_name').agg(countDistinct(col('track_name')).alias(\"songs_published\"))\n",
        "songs_artist_df.show()"
      ],
      "metadata": {
        "id": "inJC4xBWTX4b"
      },
      "execution_count": null,
      "outputs": []
    },
    {
      "cell_type": "code",
      "source": [
        "max_songs = songs_artist_df.orderBy((col('songs_published')), ascending = False).limit(5).withColumnRenamed('artist(s)_name', 'more_songs')\n",
        "min_songs = songs_artist_df.orderBy((col('songs_published')), ascending = True).limit(5).withColumnRenamed('artist(s)_name', 'fewer_songs')\n",
        "max_songs.show()\n",
        "min_songs.show()\n"
      ],
      "metadata": {
        "id": "zii1Eoz8US_E"
      },
      "execution_count": null,
      "outputs": []
    },
    {
      "cell_type": "code",
      "source": [
        "# import library\n",
        "from pyspark.sql.window import Window"
      ],
      "metadata": {
        "id": "cafhizcaaCny"
      },
      "execution_count": 54,
      "outputs": []
    },
    {
      "cell_type": "code",
      "source": [
        "# Number of years that each artist has published a song\n",
        "# byTitle = Window.partitionBy(\"title\").orderBy(col(\"salary\").desc())\n",
        "#bestPaidPerTitleDF = bestPaidPerTitlerawDF.withColumn(\"rank_salary\", row_number().over(byTitle)).filter(col(\"rank_salary\") <= 3)\n",
        "\n",
        "byArtist = Window.partitionBy('artist(s)_name').orderBy(col('released_year').desc())\n",
        "historic_year_df = songs_df.withColumn('rank_years', row_number().over(byArtist))\n",
        "historic_year_df.show()\n"
      ],
      "metadata": {
        "id": "P2AGUIYPY9QB"
      },
      "execution_count": null,
      "outputs": []
    }
  ]
}