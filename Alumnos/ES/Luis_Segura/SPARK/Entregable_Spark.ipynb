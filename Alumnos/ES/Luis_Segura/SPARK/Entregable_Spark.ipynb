{
  "cells": [
    {
      "cell_type": "markdown",
      "metadata": {
        "id": "BNkZfzfxGZ0z"
      },
      "source": [
        "# Windows Partitioning"
      ]
    },
    {
      "cell_type": "code",
      "execution_count": 26,
      "metadata": {
        "colab": {
          "base_uri": "https://localhost:8080/"
        },
        "id": "gJuq0D5o6bmn",
        "outputId": "a8869b6f-01b9-42c8-a4fa-5b4c7c7d0c47"
      },
      "outputs": [
        {
          "name": "stdout",
          "output_type": "stream",
          "text": [
            "Drive already mounted at /content/drive; to attempt to forcibly remount, call drive.mount(\"/content/drive\", force_remount=True).\n"
          ]
        }
      ],
      "source": [
        "from google.colab import drive\n",
        "drive.mount('/content/drive')"
      ]
    },
    {
      "cell_type": "markdown",
      "metadata": {
        "id": "sr-Hj7L7t6oD"
      },
      "source": [
        "## Requisitos"
      ]
    },
    {
      "cell_type": "markdown",
      "metadata": {
        "id": "rKY4cDzIt_iJ"
      },
      "source": [
        "Se instalan Spark y Java"
      ]
    },
    {
      "cell_type": "code",
      "execution_count": 27,
      "metadata": {
        "id": "NtW47Ygeqrfm"
      },
      "outputs": [],
      "source": [
        "# install Java8\n",
        "!apt-get install openjdk-8-jdk-headless -qq > /dev/null\n",
        "# download spark 3.5.0\n",
        "!wget -q https://apache.osuosl.org/spark/spark-3.5.0/spark-3.5.0-bin-hadoop3.tgz"
      ]
    },
    {
      "cell_type": "code",
      "execution_count": 28,
      "metadata": {
        "colab": {
          "base_uri": "https://localhost:8080/"
        },
        "id": "ihGL8rr6q-f_",
        "outputId": "7d011956-d72c-45d3-85b9-20e1795078a5"
      },
      "outputs": [
        {
          "name": "stdout",
          "output_type": "stream",
          "text": [
            "total 1173060\n",
            "drwx------  5 root root      4096 Jan 26 16:28 \u001b[0m\u001b[01;34mdrive\u001b[0m/\n",
            "drwxr-xr-x  1 root root      4096 Jan 24 18:27 \u001b[01;34msample_data\u001b[0m/\n",
            "drwxr-xr-x 13 1000 1000      4096 Sep  9 02:08 \u001b[01;34mspark-3.5.0-bin-hadoop3\u001b[0m/\n",
            "-rw-r--r--  1 root root 400395283 Sep  9 02:10 spark-3.5.0-bin-hadoop3.tgz\n",
            "-rw-r--r--  1 root root 400395283 Sep  9 02:10 spark-3.5.0-bin-hadoop3.tgz.1\n",
            "-rw-r--r--  1 root root 400395283 Sep  9 02:10 spark-3.5.0-bin-hadoop3.tgz.2\n"
          ]
        }
      ],
      "source": [
        "ls -l # check the .tgz is there"
      ]
    },
    {
      "cell_type": "code",
      "execution_count": 29,
      "metadata": {
        "id": "s5-s7GkErA6-"
      },
      "outputs": [],
      "source": [
        "# unzip it\n",
        "!tar xf spark-3.5.0-bin-hadoop3.tgz"
      ]
    },
    {
      "cell_type": "code",
      "execution_count": 30,
      "metadata": {
        "id": "M6q8IXFYrDWs"
      },
      "outputs": [],
      "source": [
        "!pip install -q findspark"
      ]
    },
    {
      "cell_type": "markdown",
      "metadata": {
        "id": "gG0cXTliuDUP"
      },
      "source": [
        "Se define el entorno"
      ]
    },
    {
      "cell_type": "code",
      "execution_count": 31,
      "metadata": {
        "id": "N6y3IBIGrHVY"
      },
      "outputs": [],
      "source": [
        "import os\n",
        "os.environ[\"JAVA_HOME\"] = \"/usr/lib/jvm/java-8-openjdk-amd64\"\n",
        "os.environ[\"SPARK_HOME\"] = \"/content/spark-3.5.0-bin-hadoop3\"\n",
        "os.environ[\"PYSPARK_SUBMIT_ARGS\"] = \"--master local[*] pyspark-shell\""
      ]
    },
    {
      "cell_type": "markdown",
      "metadata": {
        "id": "dP5v0aZwuIif"
      },
      "source": [
        "Se inicia Spark\n"
      ]
    },
    {
      "cell_type": "code",
      "execution_count": 32,
      "metadata": {
        "colab": {
          "base_uri": "https://localhost:8080/",
          "height": 36
        },
        "id": "guLQn3GPrLJA",
        "outputId": "1591d5ef-a71c-4779-b9ae-d96ee0a3ded2"
      },
      "outputs": [
        {
          "data": {
            "application/vnd.google.colaboratory.intrinsic+json": {
              "type": "string"
            },
            "text/plain": [
              "'3.5.0'"
            ]
          },
          "execution_count": 32,
          "metadata": {},
          "output_type": "execute_result"
        }
      ],
      "source": [
        "import findspark\n",
        "findspark.init(\"spark-3.5.0-bin-hadoop3\")# SPARK_HOME\n",
        "\n",
        "from pyspark.sql import SparkSession\n",
        "\n",
        "# create the session\n",
        "spark = SparkSession \\\n",
        "        .builder \\\n",
        "        .appName(\"Window Partitioning\") \\\n",
        "        .master(\"local[*]\") \\\n",
        "        .getOrCreate()\n",
        "\n",
        "spark.version"
      ]
    },
    {
      "cell_type": "code",
      "execution_count": 33,
      "metadata": {
        "colab": {
          "base_uri": "https://localhost:8080/",
          "height": 219
        },
        "id": "Ie34e_0crRj5",
        "outputId": "96192b7c-c171-4e87-baab-3bcfe614655a"
      },
      "outputs": [
        {
          "data": {
            "text/html": [
              "\n",
              "            <div>\n",
              "                <p><b>SparkSession - in-memory</b></p>\n",
              "                \n",
              "        <div>\n",
              "            <p><b>SparkContext</b></p>\n",
              "\n",
              "            <p><a href=\"http://69f350a73b11:4040\">Spark UI</a></p>\n",
              "\n",
              "            <dl>\n",
              "              <dt>Version</dt>\n",
              "                <dd><code>v3.5.0</code></dd>\n",
              "              <dt>Master</dt>\n",
              "                <dd><code>local[*]</code></dd>\n",
              "              <dt>AppName</dt>\n",
              "                <dd><code>Window Partitioning</code></dd>\n",
              "            </dl>\n",
              "        </div>\n",
              "        \n",
              "            </div>\n",
              "        "
            ],
            "text/plain": [
              "<pyspark.sql.session.SparkSession at 0x7f561ef2b220>"
            ]
          },
          "execution_count": 33,
          "metadata": {},
          "output_type": "execute_result"
        }
      ],
      "source": [
        "spark"
      ]
    },
    {
      "cell_type": "code",
      "execution_count": 34,
      "metadata": {
        "id": "IZedyAClrWNY"
      },
      "outputs": [],
      "source": [
        "# For Pandas conversion optimization\n",
        "spark.conf.set(\"spark.sql.execution.arrow.enabled\", \"true\")"
      ]
    },
    {
      "cell_type": "code",
      "execution_count": 35,
      "metadata": {
        "id": "wfEgN2ZGrYVs"
      },
      "outputs": [],
      "source": [
        "# Import sql functions\n",
        "from pyspark.sql.functions import *"
      ]
    },
    {
      "cell_type": "markdown",
      "metadata": {
        "id": "w-j5FcR6uPH-"
      },
      "source": [
        "##Descarga de los datasets a usar y correcta visualización"
      ]
    },
    {
      "cell_type": "markdown",
      "metadata": {
        "id": "Jm1zjOyLUCbL"
      },
      "source": [
        "El Notebook busca realizar un análisis, mediante Spark, de diferentes datos de la historia de los mundiales de Fórmula 1 en los últimos 70 años."
      ]
    },
    {
      "cell_type": "code",
      "execution_count": 36,
      "metadata": {
        "colab": {
          "base_uri": "https://localhost:8080/"
        },
        "id": "w2IK1tmjvcYz",
        "outputId": "206c5522-aec2-4f70-af0c-e356a103d479"
      },
      "outputs": [
        {
          "name": "stdout",
          "output_type": "stream",
          "text": [
            "+---------+-----------+--------------------+------------+---------+--------+-------+---+--------------------+\n",
            "|circuitId| circuitRef|                name|    location|  country|     lat|    lng|alt|                 url|\n",
            "+---------+-----------+--------------------+------------+---------+--------+-------+---+--------------------+\n",
            "|        1|albert_park|Albert Park Grand...|   Melbourne|Australia|-37.8497|144.968| 10|http://en.wikiped...|\n",
            "|        2|     sepang|Sepang Internatio...|Kuala Lumpur| Malaysia| 2.76083|101.738| 18|http://en.wikiped...|\n",
            "+---------+-----------+--------------------+------------+---------+--------+-------+---+--------------------+\n",
            "only showing top 2 rows\n",
            "\n",
            "+--------------------+------+-------------+------+------+\n",
            "|constructorResultsId|raceId|constructorId|points|status|\n",
            "+--------------------+------+-------------+------+------+\n",
            "|                   1|    18|            1|    14|    \\N|\n",
            "|                   2|    18|            2|     8|    \\N|\n",
            "+--------------------+------+-------------+------+------+\n",
            "only showing top 2 rows\n",
            "\n",
            "+----------------------+------+-------------+------+--------+------------+----+\n",
            "|constructorStandingsId|raceId|constructorId|points|position|positionText|wins|\n",
            "+----------------------+------+-------------+------+--------+------------+----+\n",
            "|                     1|    18|            1|    14|       1|           1|   1|\n",
            "|                     2|    18|            2|     8|       3|           3|   0|\n",
            "+----------------------+------+-------------+------+--------+------------+----+\n",
            "only showing top 2 rows\n",
            "\n",
            "+-------------+--------------+----------+-----------+--------------------+\n",
            "|constructorId|constructorRef|      name|nationality|                 url|\n",
            "+-------------+--------------+----------+-----------+--------------------+\n",
            "|            1|       mclaren|   McLaren|    British|http://en.wikiped...|\n",
            "|            2|    bmw_sauber|BMW Sauber|     German|http://en.wikiped...|\n",
            "+-------------+--------------+----------+-----------+--------------------+\n",
            "only showing top 2 rows\n",
            "\n",
            "+-----------------+------+--------+------+--------+------------+----+\n",
            "|driverStandingsId|raceId|driverId|points|position|positionText|wins|\n",
            "+-----------------+------+--------+------+--------+------------+----+\n",
            "|                1|    18|       1|    10|       1|           1|   1|\n",
            "|                2|    18|       2|     8|       2|           2|   0|\n",
            "+-----------------+------+--------+------+--------+------------+----+\n",
            "only showing top 2 rows\n",
            "\n",
            "+--------+---------+------+----+--------+--------+----------+-----------+--------------------+\n",
            "|driverId|driverRef|number|code|forename| surname|       dob|nationality|                 url|\n",
            "+--------+---------+------+----+--------+--------+----------+-----------+--------------------+\n",
            "|       1| hamilton|    44| HAM|   Lewis|Hamilton|1985-01-07|    British|http://en.wikiped...|\n",
            "|       2| heidfeld|    \\N| HEI|    Nick|Heidfeld|1977-05-10|     German|http://en.wikiped...|\n",
            "+--------+---------+------+----+--------+--------+----------+-----------+--------------------+\n",
            "only showing top 2 rows\n",
            "\n",
            "+---------+------+--------+-------------+------+--------+--------+--------+--------+\n",
            "|qualifyId|raceId|driverId|constructorId|number|position|      q1|      q2|      q3|\n",
            "+---------+------+--------+-------------+------+--------+--------+--------+--------+\n",
            "|        1|    18|       1|            1|    22|       1|1:26.572|1:25.187|1:26.714|\n",
            "|        2|    18|       9|            2|     4|       2|1:26.103|1:25.315|1:26.869|\n",
            "+---------+------+--------+-------------+------+--------+--------+--------+--------+\n",
            "only showing top 2 rows\n",
            "\n",
            "+------+----+-----+---------+--------------------+----------+--------+--------------------+--------+--------+--------+--------+--------+--------+----------+----------+-----------+-----------+\n",
            "|raceId|year|round|circuitId|                name|      date|    time|                 url|fp1_date|fp1_time|fp2_date|fp2_time|fp3_date|fp3_time|quali_date|quali_time|sprint_date|sprint_time|\n",
            "+------+----+-----+---------+--------------------+----------+--------+--------------------+--------+--------+--------+--------+--------+--------+----------+----------+-----------+-----------+\n",
            "|     1|2009|    1|        1|Australian Grand ...|2009-03-29|06:00:00|http://en.wikiped...|      \\N|      \\N|      \\N|      \\N|      \\N|      \\N|        \\N|        \\N|         \\N|         \\N|\n",
            "|     2|2009|    2|        2|Malaysian Grand Prix|2009-04-05|09:00:00|http://en.wikiped...|      \\N|      \\N|      \\N|      \\N|      \\N|      \\N|        \\N|        \\N|         \\N|         \\N|\n",
            "+------+----+-----+---------+--------------------+----------+--------+--------------------+--------+--------+--------+--------+--------+--------+----------+----------+-----------+-----------+\n",
            "only showing top 2 rows\n",
            "\n",
            "+--------+------------+\n",
            "|statusId|      status|\n",
            "+--------+------------+\n",
            "|       1|    Finished|\n",
            "|       2|Disqualified|\n",
            "+--------+------------+\n",
            "only showing top 2 rows\n",
            "\n",
            "+--------+------+--------+-------------+------+----+--------+------------+-------------+------+----+-----------+------------+----------+----+--------------+---------------+--------+\n",
            "|resultId|raceId|driverId|constructorId|number|grid|position|positionText|positionOrder|points|laps|       time|milliseconds|fastestLap|rank|fastestLapTime|fastestLapSpeed|statusId|\n",
            "+--------+------+--------+-------------+------+----+--------+------------+-------------+------+----+-----------+------------+----------+----+--------------+---------------+--------+\n",
            "|       1|    18|       1|            1|    22|   1|       1|           1|            1|    10|  58|1:34:50.616|     5690616|        39|   2|      1:27.452|        218.300|       1|\n",
            "|       2|    18|       2|            2|     3|   5|       2|           2|            2|     8|  58|     +5.478|     5696094|        41|   3|      1:27.739|        217.586|       1|\n",
            "+--------+------+--------+-------------+------+----+--------+------------+-------------+------+----+-----------+------------+----------+----+--------------+---------------+--------+\n",
            "only showing top 2 rows\n",
            "\n"
          ]
        }
      ],
      "source": [
        "# Carga de los datasets utilizados para el ejercicio.\n",
        "circuitsDF = spark.read.option(\"header\", \"true\").csv(\"/content/drive/MyDrive/Spark/notebooks/Datasets/Formula 1/circuits.csv\")\n",
        "circuitsDF.show(2)\n",
        "cons_resultsDF = spark.read.option(\"header\", \"true\").csv(\"/content/drive/MyDrive/Spark/notebooks/Datasets/Formula 1/constructor_results.csv\")\n",
        "cons_resultsDF.show(2)\n",
        "cons_standingsDF = spark.read.option(\"header\", \"true\").csv(\"/content/drive/MyDrive/Spark/notebooks/Datasets/Formula 1/constructor_standings.csv\")\n",
        "cons_standingsDF.show(2)\n",
        "constructorsDF = spark.read.option(\"header\", \"true\").csv(\"/content/drive/MyDrive/Spark/notebooks/Datasets/Formula 1/constructors.csv\")\n",
        "constructorsDF.show(2)\n",
        "driver_standingsDF = spark.read.option(\"header\", \"true\").csv(\"/content/drive/MyDrive/Spark/notebooks/Datasets/Formula 1/driver_standings.csv\")\n",
        "driver_standingsDF.show(2)\n",
        "driversDF = spark.read.option(\"header\", \"true\").csv(\"/content/drive/MyDrive/Spark/notebooks/Datasets/Formula 1/drivers.csv\")\n",
        "driversDF.show(2)\n",
        "qualyDF = spark.read.option(\"header\", \"true\").csv(\"/content/drive/MyDrive/Spark/notebooks/Datasets/Formula 1/qualifying.csv\")\n",
        "qualyDF.show(2)\n",
        "racesDF = spark.read.option(\"header\", \"true\").csv(\"/content/drive/MyDrive/Spark/notebooks/Datasets/Formula 1/races.csv\")\n",
        "racesDF.show(2)\n",
        "statusDF = spark.read.option(\"header\", \"true\").csv(\"/content/drive/MyDrive/Spark/notebooks/Datasets/Formula 1/status.csv\")\n",
        "statusDF.show(2)\n",
        "resultsDF = spark.read.option(\"header\", \"true\").csv(\"/content/drive/MyDrive/Spark/notebooks/Datasets/Formula 1/results.csv\")\n",
        "resultsDF.show(2)"
      ]
    },
    {
      "cell_type": "code",
      "execution_count": 42,
      "metadata": {
        "colab": {
          "base_uri": "https://localhost:8080/"
        },
        "id": "gnufTF0-WyNd",
        "outputId": "2cbb6f96-5740-4c39-d57d-07ac682e985b"
      },
      "outputs": [
        {
          "name": "stdout",
          "output_type": "stream",
          "text": [
            "+--------+-----------------+------+------+--------+------------+----+----------+------+----+---------+----------+----------+-----------+--------------------+\n",
            "|driverId|driverStandingsId|raceId|points|position|positionText|wins| driverRef|number|code| forename|   surname|       dob|nationality|                 url|\n",
            "+--------+-----------------+------+------+--------+------------+----+----------+------+----+---------+----------+----------+-----------+--------------------+\n",
            "|       1|                1|    18|    10|       1|           1|   1|  hamilton|    44| HAM|    Lewis|  Hamilton|1985-01-07|    British|http://en.wikiped...|\n",
            "|       2|                2|    18|     8|       2|           2|   0|  heidfeld|    \\N| HEI|     Nick|  Heidfeld|1977-05-10|     German|http://en.wikiped...|\n",
            "|       3|                3|    18|     6|       3|           3|   0|   rosberg|     6| ROS|     Nico|   Rosberg|1985-06-27|     German|http://en.wikiped...|\n",
            "|       4|                4|    18|     5|       4|           4|   0|    alonso|    14| ALO| Fernando|    Alonso|1981-07-29|    Spanish|http://en.wikiped...|\n",
            "|       5|                5|    18|     4|       5|           5|   0|kovalainen|    \\N| KOV|   Heikki|Kovalainen|1981-10-19|    Finnish|http://en.wikiped...|\n",
            "|       6|                6|    18|     3|       6|           6|   0|  nakajima|    \\N| NAK|   Kazuki|  Nakajima|1985-01-11|   Japanese|http://en.wikiped...|\n",
            "|       7|                7|    18|     2|       7|           7|   0|  bourdais|    \\N| BOU|Sébastien|  Bourdais|1979-02-28|     French|http://en.wikiped...|\n",
            "|       8|                8|    18|     1|       8|           8|   0| raikkonen|     7| RAI|     Kimi| Räikkönen|1979-10-17|    Finnish|http://en.wikiped...|\n",
            "|       1|                9|    19|    14|       1|           1|   1|  hamilton|    44| HAM|    Lewis|  Hamilton|1985-01-07|    British|http://en.wikiped...|\n",
            "|       2|               10|    19|    11|       3|           3|   0|  heidfeld|    \\N| HEI|     Nick|  Heidfeld|1977-05-10|     German|http://en.wikiped...|\n",
            "|       3|               11|    19|     6|       6|           6|   0|   rosberg|     6| ROS|     Nico|   Rosberg|1985-06-27|     German|http://en.wikiped...|\n",
            "|       4|               12|    19|     6|       7|           7|   0|    alonso|    14| ALO| Fernando|    Alonso|1981-07-29|    Spanish|http://en.wikiped...|\n",
            "|       5|               13|    19|    10|       4|           4|   0|kovalainen|    \\N| KOV|   Heikki|Kovalainen|1981-10-19|    Finnish|http://en.wikiped...|\n",
            "|       6|               14|    19|     3|       9|           9|   0|  nakajima|    \\N| NAK|   Kazuki|  Nakajima|1985-01-11|   Japanese|http://en.wikiped...|\n",
            "|       7|               15|    19|     2|      10|          10|   0|  bourdais|    \\N| BOU|Sébastien|  Bourdais|1979-02-28|     French|http://en.wikiped...|\n",
            "|       8|               16|    19|    11|       2|           2|   1| raikkonen|     7| RAI|     Kimi| Räikkönen|1979-10-17|    Finnish|http://en.wikiped...|\n",
            "|       9|               17|    19|     8|       5|           5|   0|    kubica|    88| KUB|   Robert|    Kubica|1984-12-07|     Polish|http://en.wikiped...|\n",
            "|      15|               18|    19|     5|       8|           8|   0|    trulli|    \\N| TRU|    Jarno|    Trulli|1974-07-13|    Italian|http://en.wikiped...|\n",
            "|      17|               19|    19|     2|      11|          11|   0|    webber|    \\N| WEB|     Mark|    Webber|1976-08-27| Australian|http://en.wikiped...|\n",
            "|      14|               20|    19|     0|      12|          12|   0| coulthard|    \\N| COU|    David| Coulthard|1971-03-27|    British|http://en.wikiped...|\n",
            "+--------+-----------------+------+------+--------+------------+----+----------+------+----+---------+----------+----------+-----------+--------------------+\n",
            "only showing top 20 rows\n",
            "\n",
            "+--------+-----------------+------+------+--------+------------+----+---------+------+----+--------+--------+----------+-----------+--------------------+--------+------+-------------+------+----+--------+------------+-------------+------+----+---------+------------+----------+----+--------------+---------------+--------+\n",
            "|driverId|driverStandingsId|raceId|points|position|positionText|wins|driverRef|number|code|forename| surname|       dob|nationality|                 url|resultId|raceId|constructorId|number|grid|position|positionText|positionOrder|points|laps|     time|milliseconds|fastestLap|rank|fastestLapTime|fastestLapSpeed|statusId|\n",
            "+--------+-----------------+------+------+--------+------------+----+---------+------+----+--------+--------+----------+-----------+--------------------+--------+------+-------------+------+----+--------+------------+-------------+------+----+---------+------------+----------+----+--------------+---------------+--------+\n",
            "|       1|                1|    18|    10|       1|           1|   1| hamilton|    44| HAM|   Lewis|Hamilton|1985-01-07|    British|http://en.wikiped...|   26069|  1110|          131|    44|   3|       4|           4|            4|    13|  44|  +49.671|     5000121|        44|   1|      1:47.305|        234.978|       1|\n",
            "|       1|                1|    18|    10|       1|           1|   1| hamilton|    44| HAM|   Lewis|Hamilton|1985-01-07|    British|http://en.wikiped...|   26049|  1109|          131|    44|   1|       4|           4|            4|    12|  70|  +39.134|     5927768|        54|   2|      1:21.601|        193.277|       1|\n",
            "|       1|                1|    18|    10|       1|           1|   1| hamilton|    44| HAM|   Lewis|Hamilton|1985-01-07|    British|http://en.wikiped...|   26028|  1108|          131|    44|   7|       3|           3|            3|    15|  52|   +6.783|     5123721|        43|   3|      1:30.545|        234.221|       1|\n",
            "|       1|                1|    18|    10|       1|           1|   1| hamilton|    44| HAM|   Lewis|Hamilton|1985-01-07|    British|http://en.wikiped...|   26013|  1107|          131|    44|   5|       8|           8|            8|     4|  71|  +49.196|     5182803|        49|  10|      1:09.283|        224.366|       1|\n",
            "|       1|                1|    18|    10|       1|           1|   1| hamilton|    44| HAM|   Lewis|Hamilton|1985-01-07|    British|http://en.wikiped...|   25988|  1106|          131|    44|   3|       3|           3|            3|    15|  70|   +4.598|     5642946|        47|   2|      1:15.396|        208.228|       1|\n",
            "|       1|                1|    18|    10|       1|           1|   1| hamilton|    44| HAM|   Lewis|Hamilton|1985-01-07|    British|http://en.wikiped...|   25967|  1105|          131|    44|   4|       2|           2|            2|    18|  66|  +24.090|     5302030|        62|   3|      1:16.676|        218.649|       1|\n",
            "|       1|                1|    18|    10|       1|           1|   1| hamilton|    44| HAM|   Lewis|Hamilton|1985-01-07|    British|http://en.wikiped...|   25949|  1104|          131|    44|   5|       4|           4|            4|    13|  78|  +39.062|     6571042|        33|   1|      1:15.650|        158.799|       1|\n",
            "|       1|                1|    18|    10|       1|           1|   1| hamilton|    44| HAM|   Lewis|Hamilton|1985-01-07|    British|http://en.wikiped...|   25931|  1102|          131|    44|  13|       6|           6|            6|     8|  57|  +51.249|     5309490|        57|   4|      1:30.669|        214.882|       1|\n",
            "|       1|                1|    18|    10|       1|           1|   1| hamilton|    44| HAM|   Lewis|Hamilton|1985-01-07|    British|http://en.wikiped...|   25911|  1101|          131|    44|   5|       6|           6|            6|     8|  51|  +46.145|     5608581|        48|   7|      1:45.346|        205.141|       1|\n",
            "|       1|                1|    18|    10|       1|           1|   1| hamilton|    44| HAM|   Lewis|Hamilton|1985-01-07|    British|http://en.wikiped...|   25887|  1100|          131|    44|   3|       2|           2|            2|    18|  58|   +0.179|     9158550|        49|   5|      1:20.613|        235.703|       1|\n",
            "|       1|                1|    18|    10|       1|           1|   1| hamilton|    44| HAM|   Lewis|Hamilton|1985-01-07|    British|http://en.wikiped...|   25870|  1099|          131|    44|   7|       5|           5|            5|    10|  50|  +31.065|     4905959|        47|   6|      1:32.941|        239.145|       1|\n",
            "|       1|                1|    18|    10|       1|           1|   1| hamilton|    44| HAM|   Lewis|Hamilton|1985-01-07|    British|http://en.wikiped...|   25850|  1098|          131|    44|   7|       5|           5|            5|    10|  57|  +50.977|     5687713|        36|  10|      1:36.546|        201.802|       1|\n",
            "|       1|                1|    18|    10|       1|           1|   1| hamilton|    44| HAM|   Lewis|Hamilton|1985-01-07|    British|http://en.wikiped...|   25843|  1096|          131|    44|   5|      18|          18|           18|     0|  55|       \\N|          \\N|        42|  11|      1:29.788|        211.738|       9|\n",
            "|       1|                1|    18|    10|       1|           1|   1| hamilton|    44| HAM|   Lewis|Hamilton|1985-01-07|    British|http://en.wikiped...|   25807|  1095|          131|    44|   2|       2|           2|            2|    18|  71|   +1.529|     5915573|        63|   2|      1:13.942|        209.791|       1|\n",
            "|       1|                1|    18|    10|       1|           1|   1| hamilton|    44| HAM|   Lewis|Hamilton|1985-01-07|    British|http://en.wikiped...|   25787|  1094|          131|    44|   3|       2|           2|            2|    18|  71|  +15.186|     5931915|        32|   5|      1:22.062|        188.813|       1|\n",
            "|       1|                1|    18|    10|       1|           1|   1| hamilton|    44| HAM|   Lewis|Hamilton|1985-01-07|    British|http://en.wikiped...|   25767|  1093|          131|    44|   3|       2|           2|            2|    18|  56|   +5.023|     6136710|        45|   5|      1:39.830|        198.805|       1|\n",
            "|       1|                1|    18|    10|       1|           1|   1| hamilton|    44| HAM|   Lewis|Hamilton|1985-01-07|    British|http://en.wikiped...|   25750|  1092|          131|    44|   6|       5|           5|            5|    10|  28|  +40.326|    10944330|        11|   7|      1:45.530|        198.097|       1|\n",
            "|       1|                1|    18|    10|       1|           1|   1| hamilton|    44| HAM|   Lewis|Hamilton|1985-01-07|    British|http://en.wikiped...|   25734|  1091|          131|    44|   3|       9|           9|            9|     2|  59|+1:01.515|     7401753|        58|  10|      1:50.622|        164.766|       1|\n",
            "|       1|                1|    18|    10|       1|           1|   1| hamilton|    44| HAM|   Lewis|Hamilton|1985-01-07|    British|http://en.wikiped...|   25710|  1089|          131|    44|  19|       5|           5|            5|    10|  53|   +5.380|     4832891|        43|   3|      1:24.434|        246.995|       1|\n",
            "|       1|                1|    18|    10|       1|           1|   1| hamilton|    44| HAM|   Lewis|Hamilton|1985-01-07|    British|http://en.wikiped...|   25689|  1088|          131|    44|   4|       4|           4|            4|    12|  72|  +13.016|     5815789|        54|   3|      1:13.854|        207.604|       1|\n",
            "+--------+-----------------+------+------+--------+------------+----+---------+------+----+--------+--------+----------+-----------+--------------------+--------+------+-------------+------+----+--------+------------+-------------+------+----+---------+------------+----------+----+--------------+---------------+--------+\n",
            "only showing top 20 rows\n",
            "\n",
            "+--------------+--------------+-----------+\n",
            "|     driverRef|constructorRef|numero_fila|\n",
            "+--------------+--------------+-----------+\n",
            "|      frentzen|         prost|        810|\n",
            "|         comas|        ligier|       2016|\n",
            "|        gounon|       minardi|         20|\n",
            "|       ribeiro|         march|        357|\n",
            "|        binder|       surtees|        252|\n",
            "|        ahrens|        protos|         10|\n",
            "|         marsh|  lotus-climax|         63|\n",
            "|     reventlow|        scarab|         27|\n",
            "|        rosier|          lago|        728|\n",
            "|    hulkenberg|      williams|       4313|\n",
            "|          rosa|           hrt|       2720|\n",
            "|       capelli|        jordan|        202|\n",
            "|       cheever|       tyrrell|       2490|\n",
            "|      merzario|       ferrari|       1188|\n",
            "|      mcwithey|  kurtis_kraft|         16|\n",
            "|      griffith|  kurtis_kraft|         40|\n",
            "|          pian|      maserati|          6|\n",
            "|      ericsson|      caterham|       1600|\n",
            "|        berger|           ats|        860|\n",
            "|max_verstappen|      red_bull|      26600|\n",
            "+--------------+--------------+-----------+\n",
            "only showing top 20 rows\n",
            "\n",
            "+---------+--------------+-----------+\n",
            "|driverRef|constructorRef|numero_fila|\n",
            "+---------+--------------+-----------+\n",
            "|   alonso|  aston_martin|       4464|\n",
            "|   alonso|       ferrari|      35712|\n",
            "|   alonso|       mclaren|      35340|\n",
            "|   alonso|       minardi|       6324|\n",
            "|   alonso|        alpine|      16368|\n",
            "|   alonso|       renault|      39432|\n",
            "+---------+--------------+-----------+\n",
            "\n"
          ]
        }
      ],
      "source": [
        "# Unimos las tablas de drivers y drivers_standings para poder conocer los nombres de los pilotos por ID\n",
        "drivers_namesDF = driver_standingsDF.join(driversDF, 'driverId', 'inner')\n",
        "drivers_namesDF.show()\n",
        "\n",
        "# Hacemos join de tabla results para poder introducir los constructorId.\n",
        "drivers_teamsIdDF = drivers_namesDF.join(resultsDF,'driverId', 'inner')\n",
        "drivers_teamsIdDF.show()\n",
        "\n",
        "# Creamos una tabla que contiene a todos los pilotos, así como todas las escuderías para las que han trabajado.\n",
        "teams_driversDF = (drivers_teams_numberDF.groupBy('driverRef', 'constructorRef').agg(count(\"*\").alias(\"numero_fila\")))\n",
        "teams_driversDF.show()\n",
        "\n",
        "# Filtramos por un corredor único, por ejemplo Fernando Alonso, para conocer en qué escuderías ha competido.\n",
        "alonsoGodDF = teams_driversDF.filter(col(\"driverRef\") == 'alonso')\n",
        "alonsoGodDF.show()\n"
      ]
    },
    {
      "cell_type": "code",
      "execution_count": 46,
      "metadata": {
        "colab": {
          "base_uri": "https://localhost:8080/"
        },
        "id": "2H8oWTQc_y6p",
        "outputId": "3a528eef-fcf6-407e-aae8-35e01717f81a"
      },
      "outputs": [
        {
          "name": "stdout",
          "output_type": "stream",
          "text": [
            "+--------+-----------------+------+------+--------+------------+----+----------+------+----+---------+----------+----------+-----------+--------------------+\n",
            "|driverId|driverStandingsId|raceId|points|position|positionText|wins| driverRef|number|code| forename|   surname|       dob|nationality|                 url|\n",
            "+--------+-----------------+------+------+--------+------------+----+----------+------+----+---------+----------+----------+-----------+--------------------+\n",
            "|       1|                1|    18|    10|       1|           1|   1|  hamilton|    44| HAM|    Lewis|  Hamilton|1985-01-07|    British|http://en.wikiped...|\n",
            "|       2|                2|    18|     8|       2|           2|   0|  heidfeld|    \\N| HEI|     Nick|  Heidfeld|1977-05-10|     German|http://en.wikiped...|\n",
            "|       3|                3|    18|     6|       3|           3|   0|   rosberg|     6| ROS|     Nico|   Rosberg|1985-06-27|     German|http://en.wikiped...|\n",
            "|       4|                4|    18|     5|       4|           4|   0|    alonso|    14| ALO| Fernando|    Alonso|1981-07-29|    Spanish|http://en.wikiped...|\n",
            "|       5|                5|    18|     4|       5|           5|   0|kovalainen|    \\N| KOV|   Heikki|Kovalainen|1981-10-19|    Finnish|http://en.wikiped...|\n",
            "|       6|                6|    18|     3|       6|           6|   0|  nakajima|    \\N| NAK|   Kazuki|  Nakajima|1985-01-11|   Japanese|http://en.wikiped...|\n",
            "|       7|                7|    18|     2|       7|           7|   0|  bourdais|    \\N| BOU|Sébastien|  Bourdais|1979-02-28|     French|http://en.wikiped...|\n",
            "|       8|                8|    18|     1|       8|           8|   0| raikkonen|     7| RAI|     Kimi| Räikkönen|1979-10-17|    Finnish|http://en.wikiped...|\n",
            "|       1|                9|    19|    14|       1|           1|   1|  hamilton|    44| HAM|    Lewis|  Hamilton|1985-01-07|    British|http://en.wikiped...|\n",
            "|       2|               10|    19|    11|       3|           3|   0|  heidfeld|    \\N| HEI|     Nick|  Heidfeld|1977-05-10|     German|http://en.wikiped...|\n",
            "|       3|               11|    19|     6|       6|           6|   0|   rosberg|     6| ROS|     Nico|   Rosberg|1985-06-27|     German|http://en.wikiped...|\n",
            "|       4|               12|    19|     6|       7|           7|   0|    alonso|    14| ALO| Fernando|    Alonso|1981-07-29|    Spanish|http://en.wikiped...|\n",
            "|       5|               13|    19|    10|       4|           4|   0|kovalainen|    \\N| KOV|   Heikki|Kovalainen|1981-10-19|    Finnish|http://en.wikiped...|\n",
            "|       6|               14|    19|     3|       9|           9|   0|  nakajima|    \\N| NAK|   Kazuki|  Nakajima|1985-01-11|   Japanese|http://en.wikiped...|\n",
            "|       7|               15|    19|     2|      10|          10|   0|  bourdais|    \\N| BOU|Sébastien|  Bourdais|1979-02-28|     French|http://en.wikiped...|\n",
            "|       8|               16|    19|    11|       2|           2|   1| raikkonen|     7| RAI|     Kimi| Räikkönen|1979-10-17|    Finnish|http://en.wikiped...|\n",
            "|       9|               17|    19|     8|       5|           5|   0|    kubica|    88| KUB|   Robert|    Kubica|1984-12-07|     Polish|http://en.wikiped...|\n",
            "|      15|               18|    19|     5|       8|           8|   0|    trulli|    \\N| TRU|    Jarno|    Trulli|1974-07-13|    Italian|http://en.wikiped...|\n",
            "|      17|               19|    19|     2|      11|          11|   0|    webber|    \\N| WEB|     Mark|    Webber|1976-08-27| Australian|http://en.wikiped...|\n",
            "|      14|               20|    19|     0|      12|          12|   0| coulthard|    \\N| COU|    David| Coulthard|1971-03-27|    British|http://en.wikiped...|\n",
            "+--------+-----------------+------+------+--------+------------+----+----------+------+----+---------+----------+----------+-----------+--------------------+\n",
            "only showing top 20 rows\n",
            "\n",
            "+--------+--------------+-------------------+\n",
            "|driverId|     driverRef|total_started_races|\n",
            "+--------+--------------+-------------------+\n",
            "|     704|     cabantous|                 25|\n",
            "|     781|    richardson|                  2|\n",
            "|     520|       hartley|                 56|\n",
            "|     684|    whitehouse|                  5|\n",
            "|     844|       leclerc|                115|\n",
            "|       1|      hamilton|                322|\n",
            "|     109|         lehto|                 81|\n",
            "|     563|        weyant|                 27|\n",
            "|     627|        rosier|                 52|\n",
            "|     637|   scott_Brown|                  3|\n",
            "|     710|        krause|                  6|\n",
            "|     211|        keegan|                 41|\n",
            "|     273|       hoshino|                  2|\n",
            "|     567|          orey|                  6|\n",
            "|     819|           pic|                 39|\n",
            "|       2|      heidfeld|                194|\n",
            "|     174|      dumfries|                 16|\n",
            "|     207|mario_andretti|                172|\n",
            "|     339|          roig|                 35|\n",
            "|     528|      freeland|                 57|\n",
            "+--------+--------------+-------------------+\n",
            "only showing top 20 rows\n",
            "\n",
            "+--------+------------------+-------------------+\n",
            "|driverId|         driverRef|total_started_races|\n",
            "+--------+------------------+-------------------+\n",
            "|       4|            alonso|                372|\n",
            "|       8|         raikkonen|                353|\n",
            "|       1|          hamilton|                322|\n",
            "|      18|            button|                321|\n",
            "|      30|michael_schumacher|                313|\n",
            "|      22|       barrichello|                308|\n",
            "|      20|            vettel|                299|\n",
            "|      13|             massa|                275|\n",
            "|     119|           patrese|                260|\n",
            "|     815|             perez|                251|\n",
            "+--------+------------------+-------------------+\n",
            "only showing top 10 rows\n",
            "\n"
          ]
        }
      ],
      "source": [
        "# Conocer el número de carreras comenzadas por los pilotos de Formula 1.\n",
        "# Hacemos un inner join para poder juntar por ID de piloto el nombre y apellido de los mismos.\n",
        "drivers_standingsDF = driver_standingsDF.join(driversDF, 'driverId', 'inner')\n",
        "drivers_standingsDF.show()\n",
        "\n",
        "# Queremos conocer el número de carreras que han comenzado los pilotos.\n",
        "total_startedRacesDF = drivers_standingsDF.groupBy('driverId', 'driverRef').agg(count('raceId').alias('total_started_races'))\n",
        "total_startedRacesDF.show()\n",
        "\n",
        "# Ordenamos la lista para conocer qué pilotos son los que más carreras han comenzado.\n",
        "top_started_racesDF = total_startedRacesDF.orderBy(desc('total_started_races'))\n",
        "top_started_racesDF.show(10)"
      ]
    },
    {
      "cell_type": "code",
      "execution_count": 50,
      "metadata": {
        "colab": {
          "base_uri": "https://localhost:8080/"
        },
        "id": "NPgDgHlFXNKb",
        "outputId": "c1ff53d9-9463-4c4e-dd52-bfc39f45d2b9"
      },
      "outputs": [
        {
          "name": "stdout",
          "output_type": "stream",
          "text": [
            "+-------------+--------------+-----------+-----------+--------------------+----------------------+------+------+--------+------------+----+\n",
            "|constructorId|constructorRef|       name|nationality|                 url|constructorStandingsId|raceId|points|position|positionText|wins|\n",
            "+-------------+--------------+-----------+-----------+--------------------+----------------------+------+------+--------+------------+----+\n",
            "|            1|       mclaren|    McLaren|    British|http://en.wikiped...|                     1|    18|    14|       1|           1|   1|\n",
            "|            2|    bmw_sauber| BMW Sauber|     German|http://en.wikiped...|                     2|    18|     8|       3|           3|   0|\n",
            "|            3|      williams|   Williams|    British|http://en.wikiped...|                     3|    18|     9|       2|           2|   0|\n",
            "|            4|       renault|    Renault|     French|http://en.wikiped...|                     4|    18|     5|       4|           4|   0|\n",
            "|            5|    toro_rosso| Toro Rosso|    Italian|http://en.wikiped...|                     5|    18|     2|       5|           5|   0|\n",
            "|            6|       ferrari|    Ferrari|    Italian|http://en.wikiped...|                     6|    18|     1|       6|           6|   0|\n",
            "|            1|       mclaren|    McLaren|    British|http://en.wikiped...|                     7|    19|    24|       1|           1|   1|\n",
            "|            2|    bmw_sauber| BMW Sauber|     German|http://en.wikiped...|                     8|    19|    19|       2|           2|   0|\n",
            "|            3|      williams|   Williams|    British|http://en.wikiped...|                     9|    19|     9|       4|           4|   0|\n",
            "|            4|       renault|    Renault|     French|http://en.wikiped...|                    10|    19|     6|       5|           5|   0|\n",
            "|            5|    toro_rosso| Toro Rosso|    Italian|http://en.wikiped...|                    11|    19|     2|       8|           8|   0|\n",
            "|            6|       ferrari|    Ferrari|    Italian|http://en.wikiped...|                    12|    19|    11|       3|           3|   1|\n",
            "|            7|        toyota|     Toyota|   Japanese|http://en.wikiped...|                    13|    19|     5|       6|           6|   0|\n",
            "|            9|      red_bull|   Red Bull|   Austrian|http://en.wikiped...|                    14|    19|     2|       7|           7|   0|\n",
            "|           11|         honda|      Honda|   Japanese|http://en.wikiped...|                    15|    19|     0|       9|           9|   0|\n",
            "|           10|   force_india|Force India|     Indian|http://en.wikiped...|                    16|    19|     0|      10|          10|   0|\n",
            "|            8|   super_aguri|Super Aguri|   Japanese|http://en.wikiped...|                    17|    19|     0|      11|          11|   0|\n",
            "|            1|       mclaren|    McLaren|    British|http://en.wikiped...|                    18|    20|    28|       3|           3|   1|\n",
            "|            2|    bmw_sauber| BMW Sauber|     German|http://en.wikiped...|                    19|    20|    30|       1|           1|   0|\n",
            "|            3|      williams|   Williams|    British|http://en.wikiped...|                    20|    20|    10|       4|           4|   0|\n",
            "+-------------+--------------+-----------+-----------+--------------------+----------------------+------+------+--------+------------+----+\n",
            "only showing top 20 rows\n",
            "\n",
            "+-------------+------------------+-------------------+\n",
            "|constructorId|              name|total_scored_points|\n",
            "+-------------+------------------+-------------------+\n",
            "|           84|            Connew|                0.0|\n",
            "|            3|          Williams|            32147.5|\n",
            "|          204|Brabham-Alfa Romeo|              121.0|\n",
            "|          194|       McLaren-BRM|               58.0|\n",
            "|           66|               BRM|             2383.0|\n",
            "|           94|               BRP|               52.0|\n",
            "|           77|            Trojan|                0.0|\n",
            "|           87|            Cooper|              243.0|\n",
            "|           95|           Porsche|              206.0|\n",
            "|            8|       Super Aguri|               50.0|\n",
            "|          189|      Eagle-Climax|               16.0|\n",
            "|          206|          Marussia|               28.0|\n",
            "|           56|        Fittipaldi|              461.0|\n",
            "|          197|          BRM-Ford|                0.0|\n",
            "|          100|               ENB|                0.0|\n",
            "|          169|   Cooper-Borgward|                0.0|\n",
            "|           75|      Embassy Hill|               16.0|\n",
            "|           82|             Matra|              394.0|\n",
            "|          202|       Shadow-Ford|               52.5|\n",
            "|           60|          Merzario|                0.0|\n",
            "+-------------+------------------+-------------------+\n",
            "only showing top 20 rows\n",
            "\n",
            "+-------------+-----------+-------------------+\n",
            "|constructorId|       name|total_scored_points|\n",
            "+-------------+-----------+-------------------+\n",
            "|            6|    Ferrari|            91389.0|\n",
            "|          131|   Mercedes|            73379.5|\n",
            "|            9|   Red Bull|            68243.5|\n",
            "|            1|    McLaren|            57557.5|\n",
            "|            3|   Williams|            32147.5|\n",
            "|            4|    Renault|            17168.0|\n",
            "|           10|Force India|            10347.0|\n",
            "|           32| Team Lotus|             7742.0|\n",
            "|          208|   Lotus F1|             7485.0|\n",
            "|           22|   Benetton|             7349.5|\n",
            "+-------------+-----------+-------------------+\n",
            "only showing top 10 rows\n",
            "\n",
            "+------------------+----------------------+----------------+\n",
            "|ID del Constructor|Nombre del Constructor|Puntuación total|\n",
            "+------------------+----------------------+----------------+\n",
            "|                 6|               Ferrari|         91389.0|\n",
            "|               131|              Mercedes|         73379.5|\n",
            "|                 9|              Red Bull|         68243.5|\n",
            "|                 1|               McLaren|         57557.5|\n",
            "|                 3|              Williams|         32147.5|\n",
            "|                 4|               Renault|         17168.0|\n",
            "|                10|           Force India|         10347.0|\n",
            "|                32|            Team Lotus|          7742.0|\n",
            "|               208|              Lotus F1|          7485.0|\n",
            "|                22|              Benetton|          7349.5|\n",
            "+------------------+----------------------+----------------+\n",
            "only showing top 10 rows\n",
            "\n"
          ]
        }
      ],
      "source": [
        "#Conocer qué escudería ha obtenido más puntos en la historia de la Formula 1.\n",
        "# Hacemos un inner join para poder juntar por ID de escudería el nombre de la misma.\n",
        "constructors_standingDF = constructorsDF.join(cons_standingsDF, 'constructorId', 'inner')\n",
        "constructors_standingDF.show()\n",
        "\n",
        "# Queremos conocer el número de puntos totales que tiene cada escudería.\n",
        "total_pointsDF = constructors_standingDF.groupBy('constructorId', 'name').agg(sum('points').alias('total_scored_points'))\n",
        "total_pointsDF.show()\n",
        "\n",
        "# Ordenamos la lista para conocer qué escuderías son las que más puntos han conseguido en la historia de la Formula 1.\n",
        "top_escuderiasDF = total_pointsDF.orderBy(desc('total_scored_points'))\n",
        "top_escuderiasDF.show(10)\n",
        "\n",
        "# Cambiamos el nombre de las variables para una mejor visualización de los datos\n",
        "top_escuderias_renamedDF = top_escuderiasDF.withColumnRenamed('constructorId', 'ID del Constructor').withColumnRenamed('name', 'Nombre del Constructor').withColumnRenamed('total_scored_points', 'Puntuación total')\n",
        "top_escuderias_renamedDF.show(10)"
      ]
    },
    {
      "cell_type": "code",
      "execution_count": 53,
      "metadata": {
        "colab": {
          "base_uri": "https://localhost:8080/"
        },
        "id": "wHWm1-wjUg_Z",
        "outputId": "c9e34f5a-606f-4177-88d0-0b583ce0aff4"
      },
      "outputs": [
        {
          "name": "stdout",
          "output_type": "stream",
          "text": [
            "+------+---------+--------+-------------+------+--------+--------+--------+--------+----+-----+---------+--------------------+----------+--------+--------------------+--------+--------+--------+--------+--------+--------+----------+----------+-----------+-----------+\n",
            "|raceId|qualifyId|driverId|constructorId|number|position|      q1|      q2|      q3|year|round|circuitId|                name|      date|    time|                 url|fp1_date|fp1_time|fp2_date|fp2_time|fp3_date|fp3_time|quali_date|quali_time|sprint_date|sprint_time|\n",
            "+------+---------+--------+-------------+------+--------+--------+--------+--------+----+-----+---------+--------------------+----------+--------+--------------------+--------+--------+--------+--------+--------+--------+----------+----------+-----------+-----------+\n",
            "|    18|        1|       1|            1|    22|       1|1:26.572|1:25.187|1:26.714|2008|    1|        1|Australian Grand ...|2008-03-16|04:30:00|http://en.wikiped...|      \\N|      \\N|      \\N|      \\N|      \\N|      \\N|        \\N|        \\N|         \\N|         \\N|\n",
            "|    18|        2|       9|            2|     4|       2|1:26.103|1:25.315|1:26.869|2008|    1|        1|Australian Grand ...|2008-03-16|04:30:00|http://en.wikiped...|      \\N|      \\N|      \\N|      \\N|      \\N|      \\N|        \\N|        \\N|         \\N|         \\N|\n",
            "|    18|        3|       5|            1|    23|       3|1:25.664|1:25.452|1:27.079|2008|    1|        1|Australian Grand ...|2008-03-16|04:30:00|http://en.wikiped...|      \\N|      \\N|      \\N|      \\N|      \\N|      \\N|        \\N|        \\N|         \\N|         \\N|\n",
            "|    18|        4|      13|            6|     2|       4|1:25.994|1:25.691|1:27.178|2008|    1|        1|Australian Grand ...|2008-03-16|04:30:00|http://en.wikiped...|      \\N|      \\N|      \\N|      \\N|      \\N|      \\N|        \\N|        \\N|         \\N|         \\N|\n",
            "|    18|        5|       2|            2|     3|       5|1:25.960|1:25.518|1:27.236|2008|    1|        1|Australian Grand ...|2008-03-16|04:30:00|http://en.wikiped...|      \\N|      \\N|      \\N|      \\N|      \\N|      \\N|        \\N|        \\N|         \\N|         \\N|\n",
            "|    18|        6|      15|            7|    11|       6|1:26.427|1:26.101|1:28.527|2008|    1|        1|Australian Grand ...|2008-03-16|04:30:00|http://en.wikiped...|      \\N|      \\N|      \\N|      \\N|      \\N|      \\N|        \\N|        \\N|         \\N|         \\N|\n",
            "|    18|        7|       3|            3|     7|       7|1:26.295|1:26.059|1:28.687|2008|    1|        1|Australian Grand ...|2008-03-16|04:30:00|http://en.wikiped...|      \\N|      \\N|      \\N|      \\N|      \\N|      \\N|        \\N|        \\N|         \\N|         \\N|\n",
            "|    18|        8|      14|            9|     9|       8|1:26.381|1:26.063|1:29.041|2008|    1|        1|Australian Grand ...|2008-03-16|04:30:00|http://en.wikiped...|      \\N|      \\N|      \\N|      \\N|      \\N|      \\N|        \\N|        \\N|         \\N|         \\N|\n",
            "|    18|        9|      10|            7|    12|       9|1:26.919|1:26.164|1:29.593|2008|    1|        1|Australian Grand ...|2008-03-16|04:30:00|http://en.wikiped...|      \\N|      \\N|      \\N|      \\N|      \\N|      \\N|        \\N|        \\N|         \\N|         \\N|\n",
            "|    18|       10|      20|            5|    15|      10|1:26.702|1:25.842|      \\N|2008|    1|        1|Australian Grand ...|2008-03-16|04:30:00|http://en.wikiped...|      \\N|      \\N|      \\N|      \\N|      \\N|      \\N|        \\N|        \\N|         \\N|         \\N|\n",
            "|    18|       11|      22|           11|    17|      11|1:26.369|1:26.173|      \\N|2008|    1|        1|Australian Grand ...|2008-03-16|04:30:00|http://en.wikiped...|      \\N|      \\N|      \\N|      \\N|      \\N|      \\N|        \\N|        \\N|         \\N|         \\N|\n",
            "|    18|       12|       4|            4|     5|      12|1:26.907|1:26.188|      \\N|2008|    1|        1|Australian Grand ...|2008-03-16|04:30:00|http://en.wikiped...|      \\N|      \\N|      \\N|      \\N|      \\N|      \\N|        \\N|        \\N|         \\N|         \\N|\n",
            "|    18|       13|      18|           11|    16|      13|1:26.712|1:26.259|      \\N|2008|    1|        1|Australian Grand ...|2008-03-16|04:30:00|http://en.wikiped...|      \\N|      \\N|      \\N|      \\N|      \\N|      \\N|        \\N|        \\N|         \\N|         \\N|\n",
            "|    18|       14|       6|            3|     8|      14|1:26.891|1:26.413|      \\N|2008|    1|        1|Australian Grand ...|2008-03-16|04:30:00|http://en.wikiped...|      \\N|      \\N|      \\N|      \\N|      \\N|      \\N|        \\N|        \\N|         \\N|         \\N|\n",
            "|    18|       15|      17|            9|    10|      15|1:26.914|      \\N|      \\N|2008|    1|        1|Australian Grand ...|2008-03-16|04:30:00|http://en.wikiped...|      \\N|      \\N|      \\N|      \\N|      \\N|      \\N|        \\N|        \\N|         \\N|         \\N|\n",
            "|    18|       16|       8|            6|     1|      16|1:26.140|      \\N|      \\N|2008|    1|        1|Australian Grand ...|2008-03-16|04:30:00|http://en.wikiped...|      \\N|      \\N|      \\N|      \\N|      \\N|      \\N|        \\N|        \\N|         \\N|         \\N|\n",
            "|    18|       17|      21|           10|    21|      17|1:27.207|      \\N|      \\N|2008|    1|        1|Australian Grand ...|2008-03-16|04:30:00|http://en.wikiped...|      \\N|      \\N|      \\N|      \\N|      \\N|      \\N|        \\N|        \\N|         \\N|         \\N|\n",
            "|    18|       18|       7|            5|    14|      18|1:27.446|      \\N|      \\N|2008|    1|        1|Australian Grand ...|2008-03-16|04:30:00|http://en.wikiped...|      \\N|      \\N|      \\N|      \\N|      \\N|      \\N|        \\N|        \\N|         \\N|         \\N|\n",
            "|    18|       19|      16|           10|    20|      19|1:27.859|      \\N|      \\N|2008|    1|        1|Australian Grand ...|2008-03-16|04:30:00|http://en.wikiped...|      \\N|      \\N|      \\N|      \\N|      \\N|      \\N|        \\N|        \\N|         \\N|         \\N|\n",
            "|    18|       20|      11|            8|    18|      20|1:28.208|      \\N|      \\N|2008|    1|        1|Australian Grand ...|2008-03-16|04:30:00|http://en.wikiped...|      \\N|      \\N|      \\N|      \\N|      \\N|      \\N|        \\N|        \\N|         \\N|         \\N|\n",
            "+------+---------+--------+-------------+------+--------+--------+--------+--------+----+-----+---------+--------------------+----------+--------+--------------------+--------+--------+--------+--------+--------+--------+----------+----------+-----------+-----------+\n",
            "only showing top 20 rows\n",
            "\n",
            "+--------+------+---------+-------------+------+--------+--------+--------+--------+----+-----+---------+--------------------+----------+--------+--------------------+--------+--------+--------+--------+--------+--------+----------+----------+-----------+-----------+-----------+------+----+---------+-----------+----------+-----------+--------------------+\n",
            "|driverId|raceId|qualifyId|constructorId|number|position|      q1|      q2|      q3|year|round|circuitId|                name|      date|    time|                 url|fp1_date|fp1_time|fp2_date|fp2_time|fp3_date|fp3_time|quali_date|quali_time|sprint_date|sprint_time|  driverRef|number|code| forename|    surname|       dob|nationality|                 url|\n",
            "+--------+------+---------+-------------+------+--------+--------+--------+--------+----+-----+---------+--------------------+----------+--------+--------------------+--------+--------+--------+--------+--------+--------+----------+----------+-----------+-----------+-----------+------+----+---------+-----------+----------+-----------+--------------------+\n",
            "|       1|    18|        1|            1|    22|       1|1:26.572|1:25.187|1:26.714|2008|    1|        1|Australian Grand ...|2008-03-16|04:30:00|http://en.wikiped...|      \\N|      \\N|      \\N|      \\N|      \\N|      \\N|        \\N|        \\N|         \\N|         \\N|   hamilton|    44| HAM|    Lewis|   Hamilton|1985-01-07|    British|http://en.wikiped...|\n",
            "|       9|    18|        2|            2|     4|       2|1:26.103|1:25.315|1:26.869|2008|    1|        1|Australian Grand ...|2008-03-16|04:30:00|http://en.wikiped...|      \\N|      \\N|      \\N|      \\N|      \\N|      \\N|        \\N|        \\N|         \\N|         \\N|     kubica|    88| KUB|   Robert|     Kubica|1984-12-07|     Polish|http://en.wikiped...|\n",
            "|       5|    18|        3|            1|    23|       3|1:25.664|1:25.452|1:27.079|2008|    1|        1|Australian Grand ...|2008-03-16|04:30:00|http://en.wikiped...|      \\N|      \\N|      \\N|      \\N|      \\N|      \\N|        \\N|        \\N|         \\N|         \\N| kovalainen|    \\N| KOV|   Heikki| Kovalainen|1981-10-19|    Finnish|http://en.wikiped...|\n",
            "|      13|    18|        4|            6|     2|       4|1:25.994|1:25.691|1:27.178|2008|    1|        1|Australian Grand ...|2008-03-16|04:30:00|http://en.wikiped...|      \\N|      \\N|      \\N|      \\N|      \\N|      \\N|        \\N|        \\N|         \\N|         \\N|      massa|    19| MAS|   Felipe|      Massa|1981-04-25|  Brazilian|http://en.wikiped...|\n",
            "|       2|    18|        5|            2|     3|       5|1:25.960|1:25.518|1:27.236|2008|    1|        1|Australian Grand ...|2008-03-16|04:30:00|http://en.wikiped...|      \\N|      \\N|      \\N|      \\N|      \\N|      \\N|        \\N|        \\N|         \\N|         \\N|   heidfeld|    \\N| HEI|     Nick|   Heidfeld|1977-05-10|     German|http://en.wikiped...|\n",
            "|      15|    18|        6|            7|    11|       6|1:26.427|1:26.101|1:28.527|2008|    1|        1|Australian Grand ...|2008-03-16|04:30:00|http://en.wikiped...|      \\N|      \\N|      \\N|      \\N|      \\N|      \\N|        \\N|        \\N|         \\N|         \\N|     trulli|    \\N| TRU|    Jarno|     Trulli|1974-07-13|    Italian|http://en.wikiped...|\n",
            "|       3|    18|        7|            3|     7|       7|1:26.295|1:26.059|1:28.687|2008|    1|        1|Australian Grand ...|2008-03-16|04:30:00|http://en.wikiped...|      \\N|      \\N|      \\N|      \\N|      \\N|      \\N|        \\N|        \\N|         \\N|         \\N|    rosberg|     6| ROS|     Nico|    Rosberg|1985-06-27|     German|http://en.wikiped...|\n",
            "|      14|    18|        8|            9|     9|       8|1:26.381|1:26.063|1:29.041|2008|    1|        1|Australian Grand ...|2008-03-16|04:30:00|http://en.wikiped...|      \\N|      \\N|      \\N|      \\N|      \\N|      \\N|        \\N|        \\N|         \\N|         \\N|  coulthard|    \\N| COU|    David|  Coulthard|1971-03-27|    British|http://en.wikiped...|\n",
            "|      10|    18|        9|            7|    12|       9|1:26.919|1:26.164|1:29.593|2008|    1|        1|Australian Grand ...|2008-03-16|04:30:00|http://en.wikiped...|      \\N|      \\N|      \\N|      \\N|      \\N|      \\N|        \\N|        \\N|         \\N|         \\N|      glock|    \\N| GLO|     Timo|      Glock|1982-03-18|     German|http://en.wikiped...|\n",
            "|      20|    18|       10|            5|    15|      10|1:26.702|1:25.842|      \\N|2008|    1|        1|Australian Grand ...|2008-03-16|04:30:00|http://en.wikiped...|      \\N|      \\N|      \\N|      \\N|      \\N|      \\N|        \\N|        \\N|         \\N|         \\N|     vettel|     5| VET|Sebastian|     Vettel|1987-07-03|     German|http://en.wikiped...|\n",
            "|      22|    18|       11|           11|    17|      11|1:26.369|1:26.173|      \\N|2008|    1|        1|Australian Grand ...|2008-03-16|04:30:00|http://en.wikiped...|      \\N|      \\N|      \\N|      \\N|      \\N|      \\N|        \\N|        \\N|         \\N|         \\N|barrichello|    \\N| BAR|   Rubens|Barrichello|1972-05-23|  Brazilian|http://en.wikiped...|\n",
            "|       4|    18|       12|            4|     5|      12|1:26.907|1:26.188|      \\N|2008|    1|        1|Australian Grand ...|2008-03-16|04:30:00|http://en.wikiped...|      \\N|      \\N|      \\N|      \\N|      \\N|      \\N|        \\N|        \\N|         \\N|         \\N|     alonso|    14| ALO| Fernando|     Alonso|1981-07-29|    Spanish|http://en.wikiped...|\n",
            "|      18|    18|       13|           11|    16|      13|1:26.712|1:26.259|      \\N|2008|    1|        1|Australian Grand ...|2008-03-16|04:30:00|http://en.wikiped...|      \\N|      \\N|      \\N|      \\N|      \\N|      \\N|        \\N|        \\N|         \\N|         \\N|     button|    22| BUT|   Jenson|     Button|1980-01-19|    British|http://en.wikiped...|\n",
            "|       6|    18|       14|            3|     8|      14|1:26.891|1:26.413|      \\N|2008|    1|        1|Australian Grand ...|2008-03-16|04:30:00|http://en.wikiped...|      \\N|      \\N|      \\N|      \\N|      \\N|      \\N|        \\N|        \\N|         \\N|         \\N|   nakajima|    \\N| NAK|   Kazuki|   Nakajima|1985-01-11|   Japanese|http://en.wikiped...|\n",
            "|      17|    18|       15|            9|    10|      15|1:26.914|      \\N|      \\N|2008|    1|        1|Australian Grand ...|2008-03-16|04:30:00|http://en.wikiped...|      \\N|      \\N|      \\N|      \\N|      \\N|      \\N|        \\N|        \\N|         \\N|         \\N|     webber|    \\N| WEB|     Mark|     Webber|1976-08-27| Australian|http://en.wikiped...|\n",
            "|       8|    18|       16|            6|     1|      16|1:26.140|      \\N|      \\N|2008|    1|        1|Australian Grand ...|2008-03-16|04:30:00|http://en.wikiped...|      \\N|      \\N|      \\N|      \\N|      \\N|      \\N|        \\N|        \\N|         \\N|         \\N|  raikkonen|     7| RAI|     Kimi|  Räikkönen|1979-10-17|    Finnish|http://en.wikiped...|\n",
            "|      21|    18|       17|           10|    21|      17|1:27.207|      \\N|      \\N|2008|    1|        1|Australian Grand ...|2008-03-16|04:30:00|http://en.wikiped...|      \\N|      \\N|      \\N|      \\N|      \\N|      \\N|        \\N|        \\N|         \\N|         \\N| fisichella|    \\N| FIS|Giancarlo| Fisichella|1973-01-14|    Italian|http://en.wikiped...|\n",
            "|       7|    18|       18|            5|    14|      18|1:27.446|      \\N|      \\N|2008|    1|        1|Australian Grand ...|2008-03-16|04:30:00|http://en.wikiped...|      \\N|      \\N|      \\N|      \\N|      \\N|      \\N|        \\N|        \\N|         \\N|         \\N|   bourdais|    \\N| BOU|Sébastien|   Bourdais|1979-02-28|     French|http://en.wikiped...|\n",
            "|      16|    18|       19|           10|    20|      19|1:27.859|      \\N|      \\N|2008|    1|        1|Australian Grand ...|2008-03-16|04:30:00|http://en.wikiped...|      \\N|      \\N|      \\N|      \\N|      \\N|      \\N|        \\N|        \\N|         \\N|         \\N|      sutil|    99| SUT|   Adrian|      Sutil|1983-01-11|     German|http://en.wikiped...|\n",
            "|      11|    18|       20|            8|    18|      20|1:28.208|      \\N|      \\N|2008|    1|        1|Australian Grand ...|2008-03-16|04:30:00|http://en.wikiped...|      \\N|      \\N|      \\N|      \\N|      \\N|      \\N|        \\N|        \\N|         \\N|         \\N|       sato|    \\N| SAT|   Takuma|       Sato|1977-01-28|   Japanese|http://en.wikiped...|\n",
            "+--------+------+---------+-------------+------+--------+--------+--------+--------+----+-----+---------+--------------------+----------+--------+--------------------+--------+--------+--------+--------+--------+--------+----------+----------+-----------+-----------+-----------+------+----+---------+-----------+----------+-----------+--------------------+\n",
            "only showing top 20 rows\n",
            "\n",
            "+--------+--------------------+----+---------+-----+\n",
            "|      q3|                name|year|driverRef|count|\n",
            "+--------+--------------------+----+---------+-----+\n",
            "|1:28.882|  Turkish Grand Prix|2008| heidfeld|    1|\n",
            "|1:22.389|  Spanish Grand Prix|2007| heidfeld|    1|\n",
            "|1:55.885|  Bahrain Grand Prix|2010|   kubica|    1|\n",
            "|1:13.793|   German Grand Prix|2010|   alonso|    1|\n",
            "|1:22.433|  Italian Grand Prix|2010|   webber|    1|\n",
            "|1:14.583|   Monaco Grand Prix|2012| hamilton|    1|\n",
            "|1:33.327|  Bahrain Grand Prix|2013|raikkonen|    1|\n",
            "|1:39.957|Abu Dhabi Grand Prix|2013|   webber|    1|\n",
            "|1:34.317| Japanese Grand Prix|2014|   button|    1|\n",
            "|1:37.232|  Chinese Grand Prix|2015|raikkonen|    1|\n",
            "|1:33.085|  British Grand Prix|2015|    massa|    1|\n",
            "|1:14.363|   German Grand Prix|2016|  rosberg|    1|\n",
            "|1:24.443|Australian Grand ...|2017|    massa|    1|\n",
            "|1:16.818|Hungarian Grand Prix|2017|ricciardo|    1|\n",
            "|1:34.852|United States Gra...|2017|    sainz|    1|\n",
            "|1:38.550|Abu Dhabi Grand Prix|2017|    massa|    1|\n",
            "|1:37.985|Singapore Grand Prix|2018|    perez|    1|\n",
            "|1:32.237|United States Gra...|2018| hamilton|    1|\n",
            "|1:33.494|United States Gra...|2018|ricciardo|    1|\n",
            "|1:30.868|   French Grand Prix|2021|    gasly|    1|\n",
            "+--------+--------------------+----+---------+-----+\n",
            "only showing top 20 rows\n",
            "\n",
            "+--------+-------------------+----+---------+-----+\n",
            "|      q3|               name|year|driverRef|count|\n",
            "+--------+-------------------+----+---------+-----+\n",
            "|1:13.793|  German Grand Prix|2010|   alonso|    1|\n",
            "|1:34.992| Bahrain Grand Prix|2014|   alonso|    1|\n",
            "|1:25.438|Japanese Grand Prix|2007|   alonso|    1|\n",
            "+--------+-------------------+----+---------+-----+\n",
            "only showing top 3 rows\n",
            "\n"
          ]
        }
      ],
      "source": [
        "# Sacar la vuelta rápida de qualy por circuito, año y qué piloto la tiene.\n",
        "# Hacemos un inner join para poder juntar por ID de carrera el nombre de las carreras disputadas.\n",
        "qualy_racesDF = qualyDF.join(racesDF, 'raceId', 'inner')\n",
        "qualy_racesDF.show()\n",
        "\n",
        "# Queremos introducir el nombre de los pilotos en el dataframe anteriormente creado.\n",
        "drivers_qualyDF = qualy_racesDF.join(driversDF, 'driverId', 'inner')\n",
        "drivers_qualyDF.show()\n",
        "\n",
        "# Filtrar y extraer de la columna de q3 los valores \"\\N\"\n",
        "filtered_driver_qualyDF = drivers_qualyDF.filter(drivers_qualyDF['q3'] != '\\\\N')\n",
        "\n",
        "# Agrupar por las columnas \"q3\", \"nombre circuito\", \"driverRef\" y \"año\" de consecución de la vuelta rápida en Clasificación. La columna JOIN no me sirve de nada, pero si no no me dejaba enseñar el DF.\n",
        "grouped_driver_qualyDF = filtered_driver_qualyDF.groupBy('q3', 'name', 'year', 'driverRef').agg(count('*').alias('count'))\n",
        "grouped_driver_qualyDF.show()\n",
        "\n",
        "# Filtrar y sacar por pantalla \"qualys\" en las que haya ganado Fernando Alonso\n",
        "alonso_qualy = grouped_driver_qualyDF.filter(col('driverRef') == 'alonso')\n",
        "alonso_qualy.show(3)"
      ]
    }
  ],
  "metadata": {
    "colab": {
      "provenance": []
    },
    "kernelspec": {
      "display_name": "Python 3",
      "name": "python3"
    },
    "language_info": {
      "name": "python"
    }
  },
  "nbformat": 4,
  "nbformat_minor": 0
}
