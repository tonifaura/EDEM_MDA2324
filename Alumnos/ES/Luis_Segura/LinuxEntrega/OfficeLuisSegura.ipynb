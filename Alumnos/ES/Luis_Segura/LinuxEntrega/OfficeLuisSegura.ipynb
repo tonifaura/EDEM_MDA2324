{
 "cells": [
  {
   "cell_type": "code",
   "execution_count": null,
   "metadata": {},
   "outputs": [],
   "source": [
    "# Importa la librería \"pandas\" para analizar los datos, la \"matplotlib\" para creación de gráficas/tablas y carga el archivo \".csv\" con todas las líneas de la serie.\n",
    "import pandas as pd\n",
    "import matplotlib.pyplot as plt\n",
    "\n",
    "df = pd.read_csv(notebooks/the-office_lines.csv)"
   ]
  },
  {
   "cell_type": "code",
   "execution_count": null,
   "metadata": {},
   "outputs": [],
   "source": [
    "# Explora los archivos en la dirección del \".csv\" y verifica que están disponibles en esa ubicación.\n",
    "import numpy as np # linear algebra\n",
    "import pandas as pd # data processing, CSV file I/O (e.g. pd.read_csv)\n",
    "import os\n",
    "for dirname, _, filenames in os.walk('/kaggle/input'):\n",
    "    for filename in filenames:\n",
    "        print(os.path.join(dirname, filename))"
   ]
  },
  {
   "cell_type": "code",
   "execution_count": null,
   "metadata": {},
   "outputs": [],
   "source": [
    "# Proporciona una vista previa del contenido del \".csv\", en este caso, todas las líneas de la serie.\n",
    "df.head()"
   ]
  },
  {
   "cell_type": "code",
   "execution_count": null,
   "metadata": {},
   "outputs": [],
   "source": [
    "# Renombra las columnas y, posteriormente, enseña una previsualización de los mismos datos.\n",
    "df.rename(columns={\"Unnamed: 0\": \"ID\"}, inplace=True)\n",
    "print(df.head())"
   ]
  },
  {
   "cell_type": "code",
   "execution_count": null,
   "metadata": {},
   "outputs": [],
   "source": [
    "# Cuenta el número de variables de las columnas \"Season\" (temporada) y \"Episode_Number\" (número de capítulo) y suma el total de episodios.\n",
    "episodes = df.groupby(\"Season\")[\"Episode_Number\"].nunique()\n",
    "episodes = df.groupby(\"Season\").nunique()\n",
    "#print(episodes)\n",
    "total_episodes = episodes['Episode_Number'].sum()\n",
    "print(total_episodes)"
   ]
  },
  {
   "cell_type": "code",
   "execution_count": null,
   "metadata": {},
   "outputs": [],
   "source": [
    "# Enumera cuantas veces se ha dicho, en toda la serie, la frase \"That's what she said\".\n",
    "twss = df[df['Line'].str.contains(\"that’s what she said\",case=False,regex=False)]\n",
    "print(len(twss.index))"
   ]
  },
  {
   "cell_type": "code",
   "execution_count": null,
   "metadata": {},
   "outputs": [],
   "source": [
    "# Imprime las líneas exactas en las que se menciona \"That's what she said\".\n",
    "twss.head()"
   ]
  },
  {
   "cell_type": "code",
   "execution_count": null,
   "metadata": {},
   "outputs": [],
   "source": [
    "# Señala en que episodios de qué temporada se ha dicho la frase.\n",
    "count_per_episode = twss.groupby([\"Season\",\"Episode_Number\"])[\"Character\"].count().reset_index(name=\"count\")\n",
    "print(count_per_episode)\n",
    "\n",
    "print(\"\\n\\nNumber of episodes with this line:\")\n",
    "print(len(count_per_episode.index))"
   ]
  },
  {
   "cell_type": "code",
   "execution_count": null,
   "metadata": {},
   "outputs": [],
   "source": [
    "# Identifica y muestra los episodios en los que más de un personaje ha dicho la frase y cuántas veces ha sido dicha en cada episodio.\n",
    "count_per_episode = twss.groupby([\"Season\",\"Episode_Number\"])[\"Character\"].count().reset_index(name=\"count\")\n",
    "more_than_once = count_per_episode[count_per_episode['count']>0]\n",
    "print(more_than_once)"
   ]
  },
  {
   "cell_type": "code",
   "execution_count": null,
   "metadata": {},
   "outputs": [],
   "source": [
    "# Genera una gráfica que representa la cantidad de líneas de diálogo que ha dicho cada personaje que ha pronunciado la frase en la serie.\n",
    "who = twss.groupby(\"Character\")[\"Line\"].count()\n",
    "ax = who.plot.bar()"
   ]
  }
 ],
 "metadata": {
  "language_info": {
   "name": "python"
  }
 },
 "nbformat": 4,
 "nbformat_minor": 2
}
