{
  "cells": [
    {
      "cell_type": "code",
      "execution_count": 1,
      "metadata": {
        "id": "Pag5YgEirZxY"
      },
      "outputs": [],
      "source": [
        "# install Java8\n",
        "!apt-get install openjdk-8-jdk-headless -qq > /dev/null\n",
        "# download spark 3.5.0\n",
        "!wget -q https://apache.osuosl.org/spark/spark-3.5.0/spark-3.5.0-bin-hadoop3.tgz"
      ]
    },
    {
      "cell_type": "code",
      "execution_count": 2,
      "metadata": {
        "colab": {
          "base_uri": "https://localhost:8080/"
        },
        "id": "LqIyCMppre8O",
        "outputId": "163577f6-f3e2-4df6-c70f-4806c467b122"
      },
      "outputs": [
        {
          "name": "stdout",
          "output_type": "stream",
          "text": [
            "total 392496\n",
            "-rw-r--r-- 1 root root   1512362 Jan 17 08:53 healthcare_dataset.csv\n",
            "drwxr-xr-x 1 root root      4096 Jan 12 19:20 \u001b[0m\u001b[01;34msample_data\u001b[0m/\n",
            "-rw-r--r-- 1 root root 400395283 Sep  9 02:10 spark-3.5.0-bin-hadoop3.tgz\n"
          ]
        }
      ],
      "source": [
        "ls -l # check the .tgz is there"
      ]
    },
    {
      "cell_type": "code",
      "execution_count": 3,
      "metadata": {
        "id": "mEjtYihyrjJn"
      },
      "outputs": [],
      "source": [
        "# unzip it\n",
        "!tar xf spark-3.5.0-bin-hadoop3.tgz"
      ]
    },
    {
      "cell_type": "code",
      "execution_count": 4,
      "metadata": {
        "id": "0ibwICjYrlGl"
      },
      "outputs": [],
      "source": [
        "!pip install -q findspark"
      ]
    },
    {
      "cell_type": "code",
      "execution_count": 5,
      "metadata": {
        "colab": {
          "base_uri": "https://localhost:8080/"
        },
        "id": "gidixXxernHt",
        "outputId": "4c1f24e0-322d-4a19-8b8f-c93bec9ca27a"
      },
      "outputs": [
        {
          "name": "stdout",
          "output_type": "stream",
          "text": [
            "Requirement already satisfied: py4j in /usr/local/lib/python3.10/dist-packages (0.10.9.7)\n",
            "Requirement already satisfied: folium in /usr/local/lib/python3.10/dist-packages (0.14.0)\n",
            "Requirement already satisfied: branca>=0.6.0 in /usr/local/lib/python3.10/dist-packages (from folium) (0.7.0)\n",
            "Requirement already satisfied: jinja2>=2.9 in /usr/local/lib/python3.10/dist-packages (from folium) (3.1.3)\n",
            "Requirement already satisfied: numpy in /usr/local/lib/python3.10/dist-packages (from folium) (1.23.5)\n",
            "Requirement already satisfied: requests in /usr/local/lib/python3.10/dist-packages (from folium) (2.31.0)\n",
            "Requirement already satisfied: MarkupSafe>=2.0 in /usr/local/lib/python3.10/dist-packages (from jinja2>=2.9->folium) (2.1.3)\n",
            "Requirement already satisfied: charset-normalizer<4,>=2 in /usr/local/lib/python3.10/dist-packages (from requests->folium) (3.3.2)\n",
            "Requirement already satisfied: idna<4,>=2.5 in /usr/local/lib/python3.10/dist-packages (from requests->folium) (3.6)\n",
            "Requirement already satisfied: urllib3<3,>=1.21.1 in /usr/local/lib/python3.10/dist-packages (from requests->folium) (2.0.7)\n",
            "Requirement already satisfied: certifi>=2017.4.17 in /usr/local/lib/python3.10/dist-packages (from requests->folium) (2023.11.17)\n",
            "Requirement already satisfied: plotly in /usr/local/lib/python3.10/dist-packages (5.15.0)\n",
            "Requirement already satisfied: tenacity>=6.2.0 in /usr/local/lib/python3.10/dist-packages (from plotly) (8.2.3)\n",
            "Requirement already satisfied: packaging in /usr/local/lib/python3.10/dist-packages (from plotly) (23.2)\n"
          ]
        }
      ],
      "source": [
        "!pip install py4j\n",
        "\n",
        "# For maps\n",
        "!pip install folium\n",
        "!pip install plotly"
      ]
    },
    {
      "cell_type": "code",
      "execution_count": 6,
      "metadata": {
        "id": "vjBh6IWGrqjS"
      },
      "outputs": [],
      "source": [
        "import os\n",
        "os.environ[\"JAVA_HOME\"] = \"/usr/lib/jvm/java-8-openjdk-amd64\"\n",
        "os.environ[\"SPARK_HOME\"] = \"/content/spark-3.5.0-bin-hadoop3\"\n",
        "os.environ[\"PYSPARK_SUBMIT_ARGS\"] = \"--master local[*] pyspark-shell\""
      ]
    },
    {
      "cell_type": "code",
      "execution_count": 7,
      "metadata": {
        "colab": {
          "base_uri": "https://localhost:8080/",
          "height": 36
        },
        "id": "OJTu_R8krs5N",
        "outputId": "d647b354-042c-4b54-c945-041a7a2f1cd1"
      },
      "outputs": [
        {
          "data": {
            "application/vnd.google.colaboratory.intrinsic+json": {
              "type": "string"
            },
            "text/plain": [
              "'3.5.0'"
            ]
          },
          "execution_count": 7,
          "metadata": {},
          "output_type": "execute_result"
        }
      ],
      "source": [
        "import findspark\n",
        "findspark.init(\"spark-3.5.0-bin-hadoop3\")# SPARK_HOME\n",
        "\n",
        "from pyspark.sql import SparkSession\n",
        "\n",
        "# create the session\n",
        "spark = SparkSession \\\n",
        "        .builder \\\n",
        "        .appName(\"Aggregations and Grouping\") \\\n",
        "        .master(\"local[*]\") \\\n",
        "        .getOrCreate()\n",
        "\n",
        "spark.version"
      ]
    },
    {
      "cell_type": "code",
      "execution_count": 8,
      "metadata": {
        "colab": {
          "base_uri": "https://localhost:8080/",
          "height": 219
        },
        "id": "11ndxAysrvVu",
        "outputId": "0b3b0118-ffa3-4de4-dc6a-fc05e112d6fc"
      },
      "outputs": [
        {
          "data": {
            "text/html": [
              "\n",
              "            <div>\n",
              "                <p><b>SparkSession - in-memory</b></p>\n",
              "                \n",
              "        <div>\n",
              "            <p><b>SparkContext</b></p>\n",
              "\n",
              "            <p><a href=\"http://29eaddfb5cd4:4040\">Spark UI</a></p>\n",
              "\n",
              "            <dl>\n",
              "              <dt>Version</dt>\n",
              "                <dd><code>v3.5.0</code></dd>\n",
              "              <dt>Master</dt>\n",
              "                <dd><code>local[*]</code></dd>\n",
              "              <dt>AppName</dt>\n",
              "                <dd><code>Aggregations and Grouping</code></dd>\n",
              "            </dl>\n",
              "        </div>\n",
              "        \n",
              "            </div>\n",
              "        "
            ],
            "text/plain": [
              "<pyspark.sql.session.SparkSession at 0x78a29452b490>"
            ]
          },
          "execution_count": 8,
          "metadata": {},
          "output_type": "execute_result"
        }
      ],
      "source": [
        "spark"
      ]
    },
    {
      "cell_type": "code",
      "execution_count": 9,
      "metadata": {
        "id": "hCCsGTlirxwq"
      },
      "outputs": [],
      "source": [
        "# For Pandas conversion optimization\n",
        "spark.conf.set(\"spark.sql.execution.arrow.enabled\", \"true\")"
      ]
    },
    {
      "cell_type": "code",
      "execution_count": 20,
      "metadata": {
        "id": "Jom3O4yIr1rm"
      },
      "outputs": [],
      "source": [
        "# Import sql functions\n",
        "from pyspark.sql.functions import *\n",
        "from pyspark.sql.window import Window"
      ]
    },
    {
      "cell_type": "markdown",
      "metadata": {
        "id": "v3uF2hbqxA7Z"
      },
      "source": [
        "# Contexto del análisis\n",
        "\n",
        "El presente análisis de datos sobre ingresos hospitalarios en diferentes hospitales busca obtener información para la eficiencia operativa y la planificación financiera de los hospitales. Al identificar las enfermedades más costosas y comprender la demografía de los pacientes, los hospitales pueden optimizar la asignación de recursos, mejorar la atención al paciente y tomar decisiones estratégicas para adaptarse a las necesidades específicas de la comunidad atendida.\n",
        "\n",
        "Este análisis no solo se centra en aspectos económicos, sino que también aborda la dinámica demográfica y epidemiológica de los pacientes facilitando la gestión hospitalaria."
      ]
    },
    {
      "cell_type": "code",
      "execution_count": 11,
      "metadata": {
        "colab": {
          "base_uri": "https://localhost:8080/"
        },
        "id": "8KZz9rdks-1y",
        "outputId": "80844ab1-764a-4397-ed1e-1986fcf1a2e0"
      },
      "outputs": [
        {
          "name": "stdout",
          "output_type": "stream",
          "text": [
            "+-------------------+---+------+----------+-----------------+-----------------+---------------+--------------------+------------------+------------------+-----------+--------------+--------------+-----------+------------+\n",
            "|               Name|Age|Gender|Blood Type|Medical Condition|Date of Admission|         Doctor|            Hospital|Insurance Provider|    Billing Amount|Room Number|Admission Type|Discharge Date| Medication|Test Results|\n",
            "+-------------------+---+------+----------+-----------------+-----------------+---------------+--------------------+------------------+------------------+-----------+--------------+--------------+-----------+------------+\n",
            "|    Tiffany Ramirez| 81|Female|        O-|         Diabetes|       2022-11-17| Patrick Parker|    Wallace-Hamilton|          Medicare| 37490.98336352819|        146|      Elective|    2022-12-01|    Aspirin|Inconclusive|\n",
            "|        Ruben Burns| 35|  Male|        O+|           Asthma|       2023-06-01|  Diane Jackson|Burke, Griffin an...|  UnitedHealthcare| 47304.06484547511|        404|     Emergency|    2023-06-15|    Lipitor|      Normal|\n",
            "|          Chad Byrd| 61|  Male|        B-|          Obesity|       2019-01-09|     Paul Baker|          Walton LLC|          Medicare| 36874.89699661277|        292|     Emergency|    2019-02-08|    Lipitor|      Normal|\n",
            "|  Antonio Frederick| 49|  Male|        B-|           Asthma|       2020-05-02| Brian Chandler|          Garcia Ltd|          Medicare|23303.322092196904|        480|        Urgent|    2020-05-03| Penicillin|    Abnormal|\n",
            "|Mrs. Brandy Flowers| 51|  Male|        O-|        Arthritis|       2021-07-09| Dustin Griffin|Jones, Brown and ...|  UnitedHealthcare|18086.344183563877|        477|        Urgent|    2021-08-02|Paracetamol|      Normal|\n",
            "|     Patrick Parker| 41|  Male|       AB+|        Arthritis|       2020-08-20|    Robin Green|            Boyd PLC|             Aetna|22522.363384853266|        180|        Urgent|    2020-08-23|    Aspirin|    Abnormal|\n",
            "|     Charles Horton| 82|  Male|       AB+|     Hypertension|       2021-03-22|Patricia Bishop|Wheeler, Bryant a...|             Cigna|  39593.4357611308|        161|        Urgent|    2021-04-15|    Lipitor|    Abnormal|\n",
            "|       Patty Norman| 55|Female|        O-|        Arthritis|       2019-05-16|  Brian Kennedy|           Brown Inc|        Blue Cross|13546.817249364824|        384|      Elective|    2019-06-02|    Aspirin|      Normal|\n",
            "|         Ryan Hayes| 33|  Male|        A+|         Diabetes|       2020-12-17|   Kristin Dunn|Smith, Edwards an...|             Aetna| 24903.03726973869|        215|      Elective|    2020-12-22|    Aspirin|    Abnormal|\n",
            "|       Sharon Perez| 39|Female|        O-|           Asthma|       2022-12-15| Jessica Bailey|        Brown-Golden|        Blue Cross|22788.236026376766|        310|        Urgent|    2022-12-16|    Aspirin|      Normal|\n",
            "+-------------------+---+------+----------+-----------------+-----------------+---------------+--------------------+------------------+------------------+-----------+--------------+--------------+-----------+------------+\n",
            "only showing top 10 rows\n",
            "\n",
            "root\n",
            " |-- Name: string (nullable = true)\n",
            " |-- Age: string (nullable = true)\n",
            " |-- Gender: string (nullable = true)\n",
            " |-- Blood Type: string (nullable = true)\n",
            " |-- Medical Condition: string (nullable = true)\n",
            " |-- Date of Admission: string (nullable = true)\n",
            " |-- Doctor: string (nullable = true)\n",
            " |-- Hospital: string (nullable = true)\n",
            " |-- Insurance Provider: string (nullable = true)\n",
            " |-- Billing Amount: string (nullable = true)\n",
            " |-- Room Number: string (nullable = true)\n",
            " |-- Admission Type: string (nullable = true)\n",
            " |-- Discharge Date: string (nullable = true)\n",
            " |-- Medication: string (nullable = true)\n",
            " |-- Test Results: string (nullable = true)\n",
            "\n"
          ]
        }
      ],
      "source": [
        "#mostrar 10 lineas de la tabla y ver el esquema\n",
        "health= spark.read.option(\"header\",\"true\").option(\"delimiter\",\",\").csv(\"/content/healthcare_dataset.csv\")\n",
        "health.show(10)\n",
        "health.printSchema()"
      ]
    },
    {
      "cell_type": "code",
      "execution_count": 12,
      "metadata": {
        "colab": {
          "base_uri": "https://localhost:8080/"
        },
        "id": "m373Fv5Nt7Tz",
        "outputId": "0b0a740d-e365-4cb7-e021-b048a4002ae2"
      },
      "outputs": [
        {
          "name": "stdout",
          "output_type": "stream",
          "text": [
            "+--------------+------------------+------------------------------+-----------------+\n",
            "|      Hospital| facturacion total|media de faturacion por visita|numero de visitas|\n",
            "+--------------+------------------+------------------------------+-----------------+\n",
            "|Smith and Sons| 477638.8811239098|            28096.404771994694|               17|\n",
            "|     Smith PLC|  432283.548553998|            22751.765713368317|               19|\n",
            "|     Smith Ltd|428163.07306176703|            30583.076647269074|               14|\n",
            "|     Smith Inc|351463.88837185566|            25104.563455132546|               14|\n",
            "|  Williams LLC| 327522.4726443278|            27293.539387027315|               12|\n",
            "|  Thomas Group| 327045.3745053134|             29731.39768230122|               11|\n",
            "|   Johnson Ltd| 305971.1924701309|            27815.562951830085|               11|\n",
            "|Davis and Sons|293452.52035344584|            32605.835594827317|                9|\n",
            "|     Jones Inc| 290351.1938483233|             32261.24376092481|                9|\n",
            "|     Brown LLC| 284695.6744887768|            28469.567448877682|               10|\n",
            "|   Johnson PLC| 269777.5423849529|            20752.118644996375|               13|\n",
            "|     Jones LLC|  264089.796019683|            29343.310668853668|                9|\n",
            "|Williams Group|258444.92538122396|            28716.102820135995|                9|\n",
            "|  Williams Ltd|251669.72651975762|            31458.715814969702|                8|\n",
            "|   Smith Group|247635.07563718717|             20636.25630309893|               12|\n",
            "+--------------+------------------+------------------------------+-----------------+\n",
            "only showing top 15 rows\n",
            "\n"
          ]
        }
      ],
      "source": [
        "#agrupar por hospital y analizar para cada hospital: el total de lo que han facturado, por cada visita la media de facturacion y el numero de visitas que han habido\n",
        "facturacion_por_hospital = health.groupBy(health.Hospital).agg((sum(col(\"Billing Amount\")).alias(\"facturacion total\")),(avg(col(\"Billing Amount\")).alias(\"media de faturacion por visita\")),(count(col(\"Name\")).alias(\"numero de visitas\"))).orderBy((col(\"facturacion total\")),ascending=False)\n",
        "facturacion_por_hospital.show(15)"
      ]
    },
    {
      "cell_type": "code",
      "execution_count": 13,
      "metadata": {
        "colab": {
          "base_uri": "https://localhost:8080/"
        },
        "id": "Vaw3Wz9e2cnP",
        "outputId": "e3f2336a-3df6-4546-ba40-02305c19c3a9"
      },
      "outputs": [
        {
          "name": "stdout",
          "output_type": "stream",
          "text": [
            "+-----------------+------------------------------------+\n",
            "|Medical Condition|coste medio de tratar esa enfermedad|\n",
            "+-----------------+------------------------------------+\n",
            "|         Diabetes|                  26060.116129178103|\n",
            "|          Obesity|                   25720.84268283536|\n",
            "|           Cancer|                  25539.096132609557|\n",
            "|           Asthma|                   25416.86989527562|\n",
            "|     Hypertension|                      25198.03397278|\n",
            "|        Arthritis|                  25187.631255184588|\n",
            "+-----------------+------------------------------------+\n",
            "\n"
          ]
        }
      ],
      "source": [
        "#valorar que enfermedad supone mayores costes de tratar\n",
        "enfermedades_mas_costes = health.groupBy(col(\"Medical Condition\")).agg((avg(col(\"Billing Amount\"))).alias(\"coste medio de tratar esa enfermedad\")).orderBy((col(\"coste medio de tratar esa enfermedad\")),ascending=False)\n",
        "enfermedades_mas_costes.show()"
      ]
    },
    {
      "cell_type": "code",
      "execution_count": 43,
      "metadata": {
        "colab": {
          "base_uri": "https://localhost:8080/"
        },
        "id": "8Ioi3FxaEKiZ",
        "outputId": "ce9c248a-870b-4acb-fbda-48a4959e7e55"
      },
      "outputs": [
        {
          "name": "stdout",
          "output_type": "stream",
          "text": [
            "+-------------------+---+------+----------+-----------------+-----------------+--------------------+--------------------+------------------+-----------------+-----------+--------------+--------------+-----------+------------+--------------+\n",
            "|               Name|Age|Gender|Blood Type|Medical Condition|Date of Admission|              Doctor|            Hospital|Insurance Provider|   Billing Amount|Room Number|Admission Type|Discharge Date| Medication|Test Results|mayores gastos|\n",
            "+-------------------+---+------+----------+-----------------+-----------------+--------------------+--------------------+------------------+-----------------+-----------+--------------+--------------+-----------+------------+--------------+\n",
            "|      Joshua Rogers| 50|Female|        O-|          Obesity|       2022-09-17|       Thomas Hanson|      Ferguson-Smith|             Aetna|9990.811232952174|        243|        Urgent|    2022-09-18| Penicillin|Inconclusive|             1|\n",
            "|    Vanessa Johnson| 73|  Male|        A-|           Cancer|       2022-03-23|      Austin Jenkins|       Hunter-Greene|             Aetna|9941.174376382973|        394|      Elective|    2022-04-07|  Ibuprofen|Inconclusive|             2|\n",
            "|        Briana Bray| 36|  Male|       AB+|        Arthritis|       2023-06-30|         Dylan Kelly|Johnson, Harrison...|             Aetna|9900.171897495979|        405|      Elective|    2023-07-14| Penicillin|    Abnormal|             3|\n",
            "|        Chase Cooke| 43|  Male|        A-|          Obesity|       2019-02-08|    Kimberly Sanchez|Holmes, Gray and ...|        Blue Cross|9984.830480600744|        274|      Elective|    2019-03-05|Paracetamol|    Abnormal|             1|\n",
            "|       Terry Lawson| 31|Female|        O+|           Asthma|       2019-07-07|         Daniel Mack|Valencia, Rice an...|        Blue Cross|9976.235732053397|        272|      Elective|    2019-07-23|    Lipitor|      Normal|             2|\n",
            "|Matthew Ramirez Jr.| 26|Female|        O-|         Diabetes|       2022-05-24|        Emily Sawyer|     Mitchell-Horton|        Blue Cross|9936.926618897241|        171|        Urgent|    2022-06-09| Penicillin|    Abnormal|             3|\n",
            "|        Charles Ray| 68|Female|        O-|           Asthma|       2020-04-05|       Brett Johnson|      Meadows-Nguyen|             Cigna| 9973.81025986173|        106|     Emergency|    2020-04-24|  Ibuprofen|Inconclusive|             1|\n",
            "|       Dr. Ryan Lee| 35|  Male|        A+|     Hypertension|       2019-11-02|        Ruben Thomas|Brown, Sandoval a...|             Cigna|9953.065946239403|        105|     Emergency|    2019-11-16|    Lipitor|Inconclusive|             2|\n",
            "|         Lisa White| 68|Female|       AB+|        Arthritis|       2020-05-14|Christopher Herna...|            Hood LLC|             Cigna|9943.541969518485|        176|     Emergency|    2020-06-08|    Aspirin|      Normal|             3|\n",
            "|      Evan Martinez| 42|Female|        B+|          Obesity|       2021-02-07|     Robin Rodriguez|Anderson, Chase a...|          Medicare|9991.074445541253|        199|     Emergency|    2021-03-06|    Aspirin|      Normal|             1|\n",
            "|        Mary Bailey| 74|  Male|       AB+|     Hypertension|       2021-07-11|          Shane Ruiz|        Owens-Dalton|          Medicare| 9982.07424634433|        368|      Elective|    2021-07-15|    Lipitor|      Normal|             2|\n",
            "|      Glenda Cooper| 20|  Male|        B+|          Obesity|       2022-04-29|     Michelle Guzman|        Parker-Lopez|          Medicare|9964.062953370332|        375|     Emergency|    2022-04-30|    Lipitor|      Normal|             3|\n",
            "|      Samuel Knight| 40|Female|        B+|           Cancer|       2021-05-15|   Geoffrey Jacobson|     Stevens-Barrett|  UnitedHealthcare|9995.572768966307|        171|     Emergency|    2021-06-13|    Lipitor|Inconclusive|             1|\n",
            "|        Sara Miller| 64|Female|       AB+|     Hypertension|       2022-11-09|    Stephanie Garcia|          Mccall Ltd|  UnitedHealthcare|9972.098326065843|        483|     Emergency|    2022-11-13|    Lipitor|    Abnormal|             2|\n",
            "|       James Porter| 77|  Male|        A+|           Cancer|       2022-09-07|        Cynthia Pham|Shepard, Velasque...|  UnitedHealthcare|9969.772316244218|        489|     Emergency|    2022-09-17|    Lipitor|      Normal|             3|\n",
            "+-------------------+---+------+----------+-----------------+-----------------+--------------------+--------------------+------------------+-----------------+-----------+--------------+--------------+-----------+------------+--------------+\n",
            "\n"
          ]
        }
      ],
      "source": [
        "#determinar que 3 casos son los que han supuesto mayores gastos a las compañias de seguros medicos\n",
        "window_hosp_enf=Window.partitionBy(\"Insurance Provider\").orderBy((col(\"Billing Amount\")).desc())\n",
        "casos_hosp_enf = health.withColumn(\"mayores gastos\",row_number().over(window_hosp_enf)).filter(col(\"mayores gastos\") <= 3)\n",
        "casos_hosp_enf.show(30)"
      ]
    },
    {
      "cell_type": "code",
      "execution_count": 37,
      "metadata": {
        "colab": {
          "base_uri": "https://localhost:8080/"
        },
        "id": "rGRASGYktTsf",
        "outputId": "ed90c1cc-1eaa-470f-d8e0-96156871413f"
      },
      "outputs": [
        {
          "name": "stdout",
          "output_type": "stream",
          "text": [
            "+--------------+-----------------+----------+\n",
            "|      Hospital|Medical Condition|TotalCasos|\n",
            "+--------------+-----------------+----------+\n",
            "|     Smith PLC|        Arthritis|         8|\n",
            "|Smith and Sons|         Diabetes|         6|\n",
            "|     Smith PLC|     Hypertension|         5|\n",
            "| Johnson Group|           Cancer|         4|\n",
            "|Williams Group|          Obesity|         4|\n",
            "|  Thomas Group|         Diabetes|         4|\n",
            "|Robinson Group|         Diabetes|         4|\n",
            "|  Williams LLC|          Obesity|         4|\n",
            "|Davis and Sons|        Arthritis|         4|\n",
            "|  Williams Ltd|     Hypertension|         4|\n",
            "|Smith and Sons|           Cancer|         4|\n",
            "|     Allen PLC|           Cancer|         4|\n",
            "|   Jones Group|           Asthma|         4|\n",
            "| Johnson Group|        Arthritis|         4|\n",
            "| Hernandez Ltd|           Cancer|         4|\n",
            "|     Smith Ltd|          Obesity|         4|\n",
            "|   Johnson PLC|           Asthma|         4|\n",
            "|     Smith Ltd|           Cancer|         4|\n",
            "|Brown and Sons|           Cancer|         3|\n",
            "|     Brown Ltd|           Cancer|         3|\n",
            "+--------------+-----------------+----------+\n",
            "only showing top 20 rows\n",
            "\n"
          ]
        }
      ],
      "source": [
        "#determinar que enfermedades se tratan más en cada hospital\n",
        "#Calcular el total de casos por hospital y enfermedad\n",
        "casos_hosp_enf = health.groupBy(\"Hospital\", \"Medical Condition\").agg(count(\"Medical Condition\").alias(\"TotalCasos\")).orderBy((col(\"TotalCasos\")),ascending=False)\n",
        "casos_hosp_enf.show()\n"
      ]
    },
    {
      "cell_type": "code",
      "execution_count": 16,
      "metadata": {
        "colab": {
          "base_uri": "https://localhost:8080/"
        },
        "id": "8d2BwGpAvtS0",
        "outputId": "bf0ce257-bcab-4958-c289-3c7d531f652b"
      },
      "outputs": [
        {
          "name": "stdout",
          "output_type": "stream",
          "text": [
            "+-----------------+-----+\n",
            "|Medical Condition|count|\n",
            "+-----------------+-----+\n",
            "|     Hypertension|  344|\n",
            "|           Asthma|  323|\n",
            "|           Cancer|  317|\n",
            "|          Obesity|  315|\n",
            "|         Diabetes|  304|\n",
            "|        Arthritis|  300|\n",
            "+-----------------+-----+\n",
            "\n"
          ]
        }
      ],
      "source": [
        "#analizar que tipo de enfermedades son las que predominan en los jóvenes (considerando jovenes a personas menores de 30 años)\n",
        "jovenes_ingresados= health.filter(col(\"Age\") <=30).groupBy(col(\"Medical Condition\")).count().orderBy((col(\"count\")),ascending=False)\n",
        "jovenes_ingresados.show()"
      ]
    },
    {
      "cell_type": "code",
      "execution_count": 17,
      "metadata": {
        "colab": {
          "base_uri": "https://localhost:8080/"
        },
        "id": "QugKmNyTzBb_",
        "outputId": "fcf39b03-e2de-443d-9260-6ef032a29679"
      },
      "outputs": [
        {
          "name": "stdout",
          "output_type": "stream",
          "text": [
            "+-----------------+-----+\n",
            "|Medical Condition|count|\n",
            "+-----------------+-----+\n",
            "|           Cancer|  526|\n",
            "|           Asthma|  519|\n",
            "|         Diabetes|  510|\n",
            "|        Arthritis|  510|\n",
            "|          Obesity|  505|\n",
            "|     Hypertension|  501|\n",
            "+-----------------+-----+\n",
            "\n"
          ]
        }
      ],
      "source": [
        "#analizar que tipo de enfermedades son las que predominan en los mayores (considerando mayores a personas mayores de 65 años)\n",
        "jovenes_ingresados= health.filter(col(\"Age\") >=65).groupBy(col(\"Medical Condition\")).count().orderBy((col(\"count\")),ascending=False)\n",
        "jovenes_ingresados.show()"
      ]
    },
    {
      "cell_type": "code",
      "execution_count": 19,
      "metadata": {
        "colab": {
          "base_uri": "https://localhost:8080/"
        },
        "id": "CL0poXwW1ihh",
        "outputId": "69ef6385-c166-43fc-b296-c6a120e8c08e"
      },
      "outputs": [
        {
          "name": "stdout",
          "output_type": "stream",
          "text": [
            "+--------------------+---+------+----------+-----------------+-----------------+------------------+--------------------+------------------+------------------+-----------+--------------+--------------+-----------+------------+--------------+\n",
            "|                Name|Age|Gender|Blood Type|Medical Condition|Date of Admission|            Doctor|            Hospital|Insurance Provider|    Billing Amount|Room Number|Admission Type|Discharge Date| Medication|Test Results|dias ingresado|\n",
            "+--------------------+---+------+----------+-----------------+-----------------+------------------+--------------------+------------------+------------------+-----------+--------------+--------------+-----------+------------+--------------+\n",
            "|     Tiffany Ramirez| 81|Female|        O-|         Diabetes|       2022-11-17|    Patrick Parker|    Wallace-Hamilton|          Medicare| 37490.98336352819|        146|      Elective|    2022-12-01|    Aspirin|Inconclusive|            14|\n",
            "|         Ruben Burns| 35|  Male|        O+|           Asthma|       2023-06-01|     Diane Jackson|Burke, Griffin an...|  UnitedHealthcare| 47304.06484547511|        404|     Emergency|    2023-06-15|    Lipitor|      Normal|            14|\n",
            "|           Chad Byrd| 61|  Male|        B-|          Obesity|       2019-01-09|        Paul Baker|          Walton LLC|          Medicare| 36874.89699661277|        292|     Emergency|    2019-02-08|    Lipitor|      Normal|            30|\n",
            "|   Antonio Frederick| 49|  Male|        B-|           Asthma|       2020-05-02|    Brian Chandler|          Garcia Ltd|          Medicare|23303.322092196904|        480|        Urgent|    2020-05-03| Penicillin|    Abnormal|             1|\n",
            "| Mrs. Brandy Flowers| 51|  Male|        O-|        Arthritis|       2021-07-09|    Dustin Griffin|Jones, Brown and ...|  UnitedHealthcare|18086.344183563877|        477|        Urgent|    2021-08-02|Paracetamol|      Normal|            24|\n",
            "|      Patrick Parker| 41|  Male|       AB+|        Arthritis|       2020-08-20|       Robin Green|            Boyd PLC|             Aetna|22522.363384853266|        180|        Urgent|    2020-08-23|    Aspirin|    Abnormal|             3|\n",
            "|      Charles Horton| 82|  Male|       AB+|     Hypertension|       2021-03-22|   Patricia Bishop|Wheeler, Bryant a...|             Cigna|  39593.4357611308|        161|        Urgent|    2021-04-15|    Lipitor|    Abnormal|            24|\n",
            "|        Patty Norman| 55|Female|        O-|        Arthritis|       2019-05-16|     Brian Kennedy|           Brown Inc|        Blue Cross|13546.817249364824|        384|      Elective|    2019-06-02|    Aspirin|      Normal|            17|\n",
            "|          Ryan Hayes| 33|  Male|        A+|         Diabetes|       2020-12-17|      Kristin Dunn|Smith, Edwards an...|             Aetna| 24903.03726973869|        215|      Elective|    2020-12-22|    Aspirin|    Abnormal|             5|\n",
            "|        Sharon Perez| 39|Female|        O-|           Asthma|       2022-12-15|    Jessica Bailey|        Brown-Golden|        Blue Cross|22788.236026376766|        310|        Urgent|    2022-12-16|    Aspirin|      Normal|             1|\n",
            "|         Amy Roberts| 45|  Male|        B-|           Cancer|       2021-04-13|   Anthony Roberts|      Little-Spencer|             Aetna|40325.071393983046|        306|     Emergency|    2021-05-11| Penicillin|    Abnormal|            28|\n",
            "|Mrs. Caroline Far...| 23|Female|        O-|     Hypertension|       2019-06-09|    William Miller|            Rose Inc|          Medicare| 6185.903529552847|        126|     Emergency|    2019-06-26|Paracetamol|Inconclusive|            17|\n",
            "|  Christina Williams| 85|Female|        A+|         Diabetes|       2021-11-29|     Laura Roberts|Malone, Thompson ...|             Aetna| 4835.945649525413|        444|      Elective|    2021-12-14|    Aspirin|Inconclusive|            15|\n",
            "|        William Page| 72|Female|        A+|         Diabetes|       2021-07-29|      James Carney|   Richardson-Powell|             Cigna|13669.377744164889|        492|      Elective|    2021-08-14|    Aspirin|      Normal|            16|\n",
            "|    Michael Bradshaw| 65|Female|       AB+|           Cancer|       2021-06-05|    Katherine Lowe|     Castaneda-Hardy|             Cigna|10342.836123527373|        120|     Emergency|    2021-06-25|  Ibuprofen|Inconclusive|            20|\n",
            "|        Brian Dorsey| 32|Female|        O+|        Arthritis|       2021-08-07|      Curtis Smith|         Burch-White|             Aetna|27174.942906232496|        492|     Emergency|    2021-08-14|    Aspirin|Inconclusive|             7|\n",
            "|     Olivia Gonzalez| 64|  Male|       AB-|         Diabetes|       2019-11-15|  Clayton Mcknight| Cunningham and Sons|             Aetna|17394.994264453202|        315|      Elective|    2019-12-04|    Aspirin|Inconclusive|            19|\n",
            "|     Teresa Caldwell| 23|  Male|        A+|        Arthritis|       2022-03-08|      Debra Meyers|Bell, Mcknight an...|          Medicare| 45213.53762641964|        475|      Elective|    2022-03-16|  Ibuprofen|Inconclusive|             8|\n",
            "| Desiree Williams MD| 66|  Male|        O+|          Obesity|       2022-06-19|     Megan Sanders|         Pugh-Rogers|  UnitedHealthcare|  4262.91157816964|        125|      Elective|    2022-06-29|    Aspirin|Inconclusive|            10|\n",
            "|          Sally Shaw| 80|  Male|        O-|        Arthritis|       2019-07-10|Zachary Horton DDS|Rush, Owens and J...|        Blue Cross|16609.311817449878|        366|     Emergency|    2019-08-07|  Ibuprofen|Inconclusive|            28|\n",
            "+--------------------+---+------+----------+-----------------+-----------------+------------------+--------------------+------------------+------------------+-----------+--------------+--------------+-----------+------------+--------------+\n",
            "only showing top 20 rows\n",
            "\n",
            "+-----------------+---------------------+\n",
            "|Medical Condition|dias medios ingresado|\n",
            "+-----------------+---------------------+\n",
            "|        Arthritis|    15.99030303030303|\n",
            "|         Diabetes|   15.574245224892175|\n",
            "|           Asthma|   15.481264637002342|\n",
            "|           Cancer|   15.479741632413388|\n",
            "|     Hypertension|   15.430094786729859|\n",
            "|          Obesity|   15.421990171990172|\n",
            "+-----------------+---------------------+\n",
            "\n"
          ]
        }
      ],
      "source": [
        "#determinar los dias que ha estado ingresado un paciente y ver que enfermedades implica estar más dias\n",
        "from pyspark.sql.types import DateType\n",
        "from datetime import datetime\n",
        "\n",
        "#transformar el tipo de dato\n",
        "health =health.withColumn(\"Date of Admission\", col(\"Date of Admission\").cast(DateType()))\n",
        "health =health.withColumn(\"Discharge Date\", col(\"Discharge Date\").cast(DateType()))\n",
        "\n",
        "# Calcular la diferencia de dias que hay entre las fechas\n",
        "health_dias_ingresado=health.withColumn(\"dias ingresado\",datediff( col(\"Discharge Date\"),col(\"Date of Admission\")))\n",
        "health_dias_ingresado.show()\n",
        "\n",
        "#enfermedades que suponen mayores dias de ingreso\n",
        "hospital_dias_ingresado=health_dias_ingresado.groupBy(col(\"Medical Condition\")).agg((avg(col(\"dias ingresado\"))).alias(\"dias medios ingresado\")).orderBy((col(\"dias medios ingresado\")),ascending=False)\n",
        "hospital_dias_ingresado.show()\n"
      ]
    }
  ],
  "metadata": {
    "colab": {
      "provenance": []
    },
    "kernelspec": {
      "display_name": "Python 3",
      "name": "python3"
    },
    "language_info": {
      "name": "python"
    }
  },
  "nbformat": 4,
  "nbformat_minor": 0
}
