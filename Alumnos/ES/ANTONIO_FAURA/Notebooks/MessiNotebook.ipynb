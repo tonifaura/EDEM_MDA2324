{
  "cells": [
    {
      "cell_type": "markdown",
      "metadata": {
        "id": "RY9VgUPhpAvT"
      },
      "source": [
        "Bienvenidos a este pequeño Notebook con algunos datos random del futbolista argentino Leo Messi los últimos 20 años. Antes de nada NO SOY CULÉ, soy ché (por suerte o por desgracia), pero en la \"pelea\" por ser el mejor de la historia (la cabra), soy team Leo."
      ]
    },
    {
      "cell_type": "markdown",
      "metadata": {
        "id": "NH9fIPrMqcTe"
      },
      "source": [
        "Voy a empezar cargando lo necesario para la lectura y visualización de los datos, para luego cargar el dataset de Kaggle, y pasar el .zip resultante a .csv"
      ]
    },
    {
      "cell_type": "code",
      "execution_count": null,
      "metadata": {
        "id": "UGyEsFMvSXm4"
      },
      "outputs": [],
      "source": [
        "import seaborn as sns\n",
        "import numpy as np\n",
        "import matplotlib.pyplot as plt\n",
        "%matplotlib inline"
      ]
    },
    {
      "cell_type": "code",
      "execution_count": null,
      "metadata": {
        "colab": {
          "base_uri": "https://localhost:8080/"
        },
        "id": "fEuG9-1R_Bpo",
        "outputId": "2b1d1276-446a-4748-d235-2766b94ed9df"
      },
      "outputs": [
        {
          "name": "stdout",
          "output_type": "stream",
          "text": [
            "\u001b[31mERROR: Operation cancelled by user\u001b[0m\u001b[31m\n",
            "\u001b[0m"
          ]
        }
      ],
      "source": [
        "!pip install -q kaggle"
      ]
    },
    {
      "cell_type": "code",
      "execution_count": null,
      "metadata": {
        "colab": {
          "base_uri": "https://localhost:8080/",
          "height": 90
        },
        "id": "ZFwP1d-LBjuD",
        "outputId": "a0672620-4624-4e42-f0ad-db36ccb90fc5"
      },
      "outputs": [
        {
          "data": {
            "text/html": [
              "\n",
              "     <input type=\"file\" id=\"files-5efbe0ec-5bfe-40b3-b5f1-c1aa980c9b54\" name=\"files[]\" multiple disabled\n",
              "        style=\"border:none\" />\n",
              "     <output id=\"result-5efbe0ec-5bfe-40b3-b5f1-c1aa980c9b54\">\n",
              "      Upload widget is only available when the cell has been executed in the\n",
              "      current browser session. Please rerun this cell to enable.\n",
              "      </output>\n",
              "      <script>// Copyright 2017 Google LLC\n",
              "//\n",
              "// Licensed under the Apache License, Version 2.0 (the \"License\");\n",
              "// you may not use this file except in compliance with the License.\n",
              "// You may obtain a copy of the License at\n",
              "//\n",
              "//      http://www.apache.org/licenses/LICENSE-2.0\n",
              "//\n",
              "// Unless required by applicable law or agreed to in writing, software\n",
              "// distributed under the License is distributed on an \"AS IS\" BASIS,\n",
              "// WITHOUT WARRANTIES OR CONDITIONS OF ANY KIND, either express or implied.\n",
              "// See the License for the specific language governing permissions and\n",
              "// limitations under the License.\n",
              "\n",
              "/**\n",
              " * @fileoverview Helpers for google.colab Python module.\n",
              " */\n",
              "(function(scope) {\n",
              "function span(text, styleAttributes = {}) {\n",
              "  const element = document.createElement('span');\n",
              "  element.textContent = text;\n",
              "  for (const key of Object.keys(styleAttributes)) {\n",
              "    element.style[key] = styleAttributes[key];\n",
              "  }\n",
              "  return element;\n",
              "}\n",
              "\n",
              "// Max number of bytes which will be uploaded at a time.\n",
              "const MAX_PAYLOAD_SIZE = 100 * 1024;\n",
              "\n",
              "function _uploadFiles(inputId, outputId) {\n",
              "  const steps = uploadFilesStep(inputId, outputId);\n",
              "  const outputElement = document.getElementById(outputId);\n",
              "  // Cache steps on the outputElement to make it available for the next call\n",
              "  // to uploadFilesContinue from Python.\n",
              "  outputElement.steps = steps;\n",
              "\n",
              "  return _uploadFilesContinue(outputId);\n",
              "}\n",
              "\n",
              "// This is roughly an async generator (not supported in the browser yet),\n",
              "// where there are multiple asynchronous steps and the Python side is going\n",
              "// to poll for completion of each step.\n",
              "// This uses a Promise to block the python side on completion of each step,\n",
              "// then passes the result of the previous step as the input to the next step.\n",
              "function _uploadFilesContinue(outputId) {\n",
              "  const outputElement = document.getElementById(outputId);\n",
              "  const steps = outputElement.steps;\n",
              "\n",
              "  const next = steps.next(outputElement.lastPromiseValue);\n",
              "  return Promise.resolve(next.value.promise).then((value) => {\n",
              "    // Cache the last promise value to make it available to the next\n",
              "    // step of the generator.\n",
              "    outputElement.lastPromiseValue = value;\n",
              "    return next.value.response;\n",
              "  });\n",
              "}\n",
              "\n",
              "/**\n",
              " * Generator function which is called between each async step of the upload\n",
              " * process.\n",
              " * @param {string} inputId Element ID of the input file picker element.\n",
              " * @param {string} outputId Element ID of the output display.\n",
              " * @return {!Iterable<!Object>} Iterable of next steps.\n",
              " */\n",
              "function* uploadFilesStep(inputId, outputId) {\n",
              "  const inputElement = document.getElementById(inputId);\n",
              "  inputElement.disabled = false;\n",
              "\n",
              "  const outputElement = document.getElementById(outputId);\n",
              "  outputElement.innerHTML = '';\n",
              "\n",
              "  const pickedPromise = new Promise((resolve) => {\n",
              "    inputElement.addEventListener('change', (e) => {\n",
              "      resolve(e.target.files);\n",
              "    });\n",
              "  });\n",
              "\n",
              "  const cancel = document.createElement('button');\n",
              "  inputElement.parentElement.appendChild(cancel);\n",
              "  cancel.textContent = 'Cancel upload';\n",
              "  const cancelPromise = new Promise((resolve) => {\n",
              "    cancel.onclick = () => {\n",
              "      resolve(null);\n",
              "    };\n",
              "  });\n",
              "\n",
              "  // Wait for the user to pick the files.\n",
              "  const files = yield {\n",
              "    promise: Promise.race([pickedPromise, cancelPromise]),\n",
              "    response: {\n",
              "      action: 'starting',\n",
              "    }\n",
              "  };\n",
              "\n",
              "  cancel.remove();\n",
              "\n",
              "  // Disable the input element since further picks are not allowed.\n",
              "  inputElement.disabled = true;\n",
              "\n",
              "  if (!files) {\n",
              "    return {\n",
              "      response: {\n",
              "        action: 'complete',\n",
              "      }\n",
              "    };\n",
              "  }\n",
              "\n",
              "  for (const file of files) {\n",
              "    const li = document.createElement('li');\n",
              "    li.append(span(file.name, {fontWeight: 'bold'}));\n",
              "    li.append(span(\n",
              "        `(${file.type || 'n/a'}) - ${file.size} bytes, ` +\n",
              "        `last modified: ${\n",
              "            file.lastModifiedDate ? file.lastModifiedDate.toLocaleDateString() :\n",
              "                                    'n/a'} - `));\n",
              "    const percent = span('0% done');\n",
              "    li.appendChild(percent);\n",
              "\n",
              "    outputElement.appendChild(li);\n",
              "\n",
              "    const fileDataPromise = new Promise((resolve) => {\n",
              "      const reader = new FileReader();\n",
              "      reader.onload = (e) => {\n",
              "        resolve(e.target.result);\n",
              "      };\n",
              "      reader.readAsArrayBuffer(file);\n",
              "    });\n",
              "    // Wait for the data to be ready.\n",
              "    let fileData = yield {\n",
              "      promise: fileDataPromise,\n",
              "      response: {\n",
              "        action: 'continue',\n",
              "      }\n",
              "    };\n",
              "\n",
              "    // Use a chunked sending to avoid message size limits. See b/62115660.\n",
              "    let position = 0;\n",
              "    do {\n",
              "      const length = Math.min(fileData.byteLength - position, MAX_PAYLOAD_SIZE);\n",
              "      const chunk = new Uint8Array(fileData, position, length);\n",
              "      position += length;\n",
              "\n",
              "      const base64 = btoa(String.fromCharCode.apply(null, chunk));\n",
              "      yield {\n",
              "        response: {\n",
              "          action: 'append',\n",
              "          file: file.name,\n",
              "          data: base64,\n",
              "        },\n",
              "      };\n",
              "\n",
              "      let percentDone = fileData.byteLength === 0 ?\n",
              "          100 :\n",
              "          Math.round((position / fileData.byteLength) * 100);\n",
              "      percent.textContent = `${percentDone}% done`;\n",
              "\n",
              "    } while (position < fileData.byteLength);\n",
              "  }\n",
              "\n",
              "  // All done.\n",
              "  yield {\n",
              "    response: {\n",
              "      action: 'complete',\n",
              "    }\n",
              "  };\n",
              "}\n",
              "\n",
              "scope.google = scope.google || {};\n",
              "scope.google.colab = scope.google.colab || {};\n",
              "scope.google.colab._files = {\n",
              "  _uploadFiles,\n",
              "  _uploadFilesContinue,\n",
              "};\n",
              "})(self);\n",
              "</script> "
            ],
            "text/plain": [
              "<IPython.core.display.HTML object>"
            ]
          },
          "metadata": {},
          "output_type": "display_data"
        },
        {
          "name": "stdout",
          "output_type": "stream",
          "text": [
            "Saving kaggle.json to kaggle (1).json\n"
          ]
        },
        {
          "data": {
            "text/plain": [
              "{'kaggle (1).json': b'{\"username\":\"tonifauravidaurre\",\"key\":\"81fd50cfbd8e395cda11859c930e3c48\"}'}"
            ]
          },
          "execution_count": 3,
          "metadata": {},
          "output_type": "execute_result"
        }
      ],
      "source": [
        "from google.colab import files\n",
        "files.upload()"
      ]
    },
    {
      "cell_type": "code",
      "execution_count": 260,
      "metadata": {
        "colab": {
          "base_uri": "https://localhost:8080/"
        },
        "id": "MGx_4GStBrZ8",
        "outputId": "16f2fb36-3c71-4479-fb5d-2b4228294dcf"
      },
      "outputs": [
        {
          "name": "stdout",
          "output_type": "stream",
          "text": [
            "mkdir: cannot create directory ‘/root/.kaggle’: File exists\n"
          ]
        }
      ],
      "source": [
        "! mkdir ~/.kaggle\n",
        "! cp kaggle.json ~/.kaggle/\n",
        "! chmod 600 ~/.kaggle/kaggle.json"
      ]
    },
    {
      "cell_type": "code",
      "execution_count": null,
      "metadata": {
        "colab": {
          "base_uri": "https://localhost:8080/"
        },
        "id": "hGlbrq5ZbgrT",
        "outputId": "615dea56-f5b5-4229-dd82-866759dc6db3"
      },
      "outputs": [
        {
          "name": "stdout",
          "output_type": "stream",
          "text": [
            "Downloading -lionel-messi-all-club-goals.zip to /content\n",
            "\r  0% 0.00/11.4k [00:00<?, ?B/s]\n",
            "\r100% 11.4k/11.4k [00:00<00:00, 27.6MB/s]\n"
          ]
        }
      ],
      "source": [
        "!kaggle datasets download -d azminetoushikwasi/-lionel-messi-all-club-goals\n",
        "!unzip lionel-messi-all-club-goals.zip"
      ]
    },
    {
      "cell_type": "code",
      "execution_count": 282,
      "metadata": {
        "colab": {
          "base_uri": "https://localhost:8080/",
          "height": 790
        },
        "id": "Lp2OWVz_cH7s",
        "outputId": "37c1f556-e934-4347-f846-03e52ee230ed"
      },
      "outputs": [
        {
          "data": {
            "text/html": [
              "\n",
              "  <div id=\"df-96cd6706-2e5c-4bcf-8e80-26e141222040\" class=\"colab-df-container\">\n",
              "    <div>\n",
              "<style scoped>\n",
              "    .dataframe tbody tr th:only-of-type {\n",
              "        vertical-align: middle;\n",
              "    }\n",
              "\n",
              "    .dataframe tbody tr th {\n",
              "        vertical-align: top;\n",
              "    }\n",
              "\n",
              "    .dataframe thead th {\n",
              "        text-align: right;\n",
              "    }\n",
              "</style>\n",
              "<table border=\"1\" class=\"dataframe\">\n",
              "  <thead>\n",
              "    <tr style=\"text-align: right;\">\n",
              "      <th></th>\n",
              "      <th>Season</th>\n",
              "      <th>Competition</th>\n",
              "      <th>Matchday</th>\n",
              "      <th>Date</th>\n",
              "      <th>Venue</th>\n",
              "      <th>Club</th>\n",
              "      <th>Opponent</th>\n",
              "      <th>Result</th>\n",
              "      <th>Playing_Position</th>\n",
              "      <th>Minute</th>\n",
              "      <th>At_score</th>\n",
              "      <th>Type</th>\n",
              "      <th>Goal_assist</th>\n",
              "    </tr>\n",
              "  </thead>\n",
              "  <tbody>\n",
              "    <tr>\n",
              "      <th>0</th>\n",
              "      <td>04/05</td>\n",
              "      <td>LaLiga</td>\n",
              "      <td>34</td>\n",
              "      <td>05-01/05</td>\n",
              "      <td>H</td>\n",
              "      <td>FC Barcelona</td>\n",
              "      <td>Albacete Balompie</td>\n",
              "      <td>2:00</td>\n",
              "      <td>CF</td>\n",
              "      <td>90+1</td>\n",
              "      <td>2:00</td>\n",
              "      <td>Left-footed shot</td>\n",
              "      <td>Ronaldinho Gaacho</td>\n",
              "    </tr>\n",
              "    <tr>\n",
              "      <th>1</th>\n",
              "      <td>05/06</td>\n",
              "      <td>UEFA Champions League</td>\n",
              "      <td>Group Stage</td>\n",
              "      <td>11-02/05</td>\n",
              "      <td>H</td>\n",
              "      <td>FC Barcelona</td>\n",
              "      <td>Panathinaikos Athens</td>\n",
              "      <td>5:00</td>\n",
              "      <td>RW</td>\n",
              "      <td>34</td>\n",
              "      <td>3:00</td>\n",
              "      <td>Left-footed shot</td>\n",
              "      <td>NaN</td>\n",
              "    </tr>\n",
              "    <tr>\n",
              "      <th>2</th>\n",
              "      <td>05/06</td>\n",
              "      <td>LaLiga</td>\n",
              "      <td>13</td>\n",
              "      <td>11/27/05</td>\n",
              "      <td>H</td>\n",
              "      <td>FC Barcelona</td>\n",
              "      <td>Racing Santander</td>\n",
              "      <td>4:01</td>\n",
              "      <td>RW</td>\n",
              "      <td>51</td>\n",
              "      <td>2:00</td>\n",
              "      <td>Left-footed shot</td>\n",
              "      <td>Samuel Etoo</td>\n",
              "    </tr>\n",
              "    <tr>\n",
              "      <th>3</th>\n",
              "      <td>05/06</td>\n",
              "      <td>LaLiga</td>\n",
              "      <td>19</td>\n",
              "      <td>1/15/06</td>\n",
              "      <td>H</td>\n",
              "      <td>FC Barcelona</td>\n",
              "      <td>Athletic Bilbao</td>\n",
              "      <td>2:01</td>\n",
              "      <td>RW</td>\n",
              "      <td>50</td>\n",
              "      <td>2:01</td>\n",
              "      <td>Left-footed shot</td>\n",
              "      <td>Mark van Bommel</td>\n",
              "    </tr>\n",
              "    <tr>\n",
              "      <th>4</th>\n",
              "      <td>05/06</td>\n",
              "      <td>LaLiga</td>\n",
              "      <td>20</td>\n",
              "      <td>1/22/06</td>\n",
              "      <td>H</td>\n",
              "      <td>FC Barcelona</td>\n",
              "      <td>Deportivo Alaves</td>\n",
              "      <td>2:00</td>\n",
              "      <td>CF</td>\n",
              "      <td>82</td>\n",
              "      <td>2:00</td>\n",
              "      <td>Left-footed shot</td>\n",
              "      <td>Ronaldinho Gaacho</td>\n",
              "    </tr>\n",
              "    <tr>\n",
              "      <th>...</th>\n",
              "      <td>...</td>\n",
              "      <td>...</td>\n",
              "      <td>...</td>\n",
              "      <td>...</td>\n",
              "      <td>...</td>\n",
              "      <td>...</td>\n",
              "      <td>...</td>\n",
              "      <td>...</td>\n",
              "      <td>...</td>\n",
              "      <td>...</td>\n",
              "      <td>...</td>\n",
              "      <td>...</td>\n",
              "      <td>...</td>\n",
              "    </tr>\n",
              "    <tr>\n",
              "      <th>699</th>\n",
              "      <td>22/23</td>\n",
              "      <td>Ligue 1</td>\n",
              "      <td>21</td>\n",
              "      <td>2/1/23</td>\n",
              "      <td>A</td>\n",
              "      <td>Paris Saint-Germain</td>\n",
              "      <td>Montpellier HSC</td>\n",
              "      <td>1:3</td>\n",
              "      <td>SS</td>\n",
              "      <td>72</td>\n",
              "      <td>0:2</td>\n",
              "      <td>Left-footed shot</td>\n",
              "      <td>Fabián Ruiz</td>\n",
              "    </tr>\n",
              "    <tr>\n",
              "      <th>700</th>\n",
              "      <td>22/23</td>\n",
              "      <td>Ligue 1</td>\n",
              "      <td>22</td>\n",
              "      <td>2/4/23</td>\n",
              "      <td>H</td>\n",
              "      <td>Paris Saint-Germain</td>\n",
              "      <td>FC Toulouse</td>\n",
              "      <td>2:1</td>\n",
              "      <td>SS</td>\n",
              "      <td>58</td>\n",
              "      <td>2:1</td>\n",
              "      <td>Left-footed shot</td>\n",
              "      <td>Achraf Hakimi</td>\n",
              "    </tr>\n",
              "    <tr>\n",
              "      <th>701</th>\n",
              "      <td>22/23</td>\n",
              "      <td>Ligue 1</td>\n",
              "      <td>24</td>\n",
              "      <td>2/19/23</td>\n",
              "      <td>H</td>\n",
              "      <td>Paris Saint-Germain</td>\n",
              "      <td>LOSC Lille</td>\n",
              "      <td>4:3</td>\n",
              "      <td>CF</td>\n",
              "      <td>90+5</td>\n",
              "      <td>4:3</td>\n",
              "      <td>Direct free kick</td>\n",
              "      <td>\\t</td>\n",
              "    </tr>\n",
              "    <tr>\n",
              "      <th>702</th>\n",
              "      <td>22/23</td>\n",
              "      <td>Ligue 1</td>\n",
              "      <td>25</td>\n",
              "      <td>2/26/23</td>\n",
              "      <td>A</td>\n",
              "      <td>Paris Saint-Germain</td>\n",
              "      <td>Olympique Marseille</td>\n",
              "      <td>0:3</td>\n",
              "      <td>CF</td>\n",
              "      <td>29</td>\n",
              "      <td>0:2</td>\n",
              "      <td>Right-footed shot</td>\n",
              "      <td>Kylian Mbappé</td>\n",
              "    </tr>\n",
              "    <tr>\n",
              "      <th>703</th>\n",
              "      <td>22/23</td>\n",
              "      <td>Ligue 1</td>\n",
              "      <td>26</td>\n",
              "      <td>3/4/23</td>\n",
              "      <td>H</td>\n",
              "      <td>Paris Saint-Germain</td>\n",
              "      <td>FC Nantes</td>\n",
              "      <td>4:2</td>\n",
              "      <td>CF</td>\n",
              "      <td>12</td>\n",
              "      <td>1:0</td>\n",
              "      <td>Left-footed shot</td>\n",
              "      <td>NaN</td>\n",
              "    </tr>\n",
              "  </tbody>\n",
              "</table>\n",
              "<p>704 rows × 13 columns</p>\n",
              "</div>\n",
              "    <div class=\"colab-df-buttons\">\n",
              "\n",
              "  <div class=\"colab-df-container\">\n",
              "    <button class=\"colab-df-convert\" onclick=\"convertToInteractive('df-96cd6706-2e5c-4bcf-8e80-26e141222040')\"\n",
              "            title=\"Convert this dataframe to an interactive table.\"\n",
              "            style=\"display:none;\">\n",
              "\n",
              "  <svg xmlns=\"http://www.w3.org/2000/svg\" height=\"24px\" viewBox=\"0 -960 960 960\">\n",
              "    <path d=\"M120-120v-720h720v720H120Zm60-500h600v-160H180v160Zm220 220h160v-160H400v160Zm0 220h160v-160H400v160ZM180-400h160v-160H180v160Zm440 0h160v-160H620v160ZM180-180h160v-160H180v160Zm440 0h160v-160H620v160Z\"/>\n",
              "  </svg>\n",
              "    </button>\n",
              "\n",
              "  <style>\n",
              "    .colab-df-container {\n",
              "      display:flex;\n",
              "      gap: 12px;\n",
              "    }\n",
              "\n",
              "    .colab-df-convert {\n",
              "      background-color: #E8F0FE;\n",
              "      border: none;\n",
              "      border-radius: 50%;\n",
              "      cursor: pointer;\n",
              "      display: none;\n",
              "      fill: #1967D2;\n",
              "      height: 32px;\n",
              "      padding: 0 0 0 0;\n",
              "      width: 32px;\n",
              "    }\n",
              "\n",
              "    .colab-df-convert:hover {\n",
              "      background-color: #E2EBFA;\n",
              "      box-shadow: 0px 1px 2px rgba(60, 64, 67, 0.3), 0px 1px 3px 1px rgba(60, 64, 67, 0.15);\n",
              "      fill: #174EA6;\n",
              "    }\n",
              "\n",
              "    .colab-df-buttons div {\n",
              "      margin-bottom: 4px;\n",
              "    }\n",
              "\n",
              "    [theme=dark] .colab-df-convert {\n",
              "      background-color: #3B4455;\n",
              "      fill: #D2E3FC;\n",
              "    }\n",
              "\n",
              "    [theme=dark] .colab-df-convert:hover {\n",
              "      background-color: #434B5C;\n",
              "      box-shadow: 0px 1px 3px 1px rgba(0, 0, 0, 0.15);\n",
              "      filter: drop-shadow(0px 1px 2px rgba(0, 0, 0, 0.3));\n",
              "      fill: #FFFFFF;\n",
              "    }\n",
              "  </style>\n",
              "\n",
              "    <script>\n",
              "      const buttonEl =\n",
              "        document.querySelector('#df-96cd6706-2e5c-4bcf-8e80-26e141222040 button.colab-df-convert');\n",
              "      buttonEl.style.display =\n",
              "        google.colab.kernel.accessAllowed ? 'block' : 'none';\n",
              "\n",
              "      async function convertToInteractive(key) {\n",
              "        const element = document.querySelector('#df-96cd6706-2e5c-4bcf-8e80-26e141222040');\n",
              "        const dataTable =\n",
              "          await google.colab.kernel.invokeFunction('convertToInteractive',\n",
              "                                                    [key], {});\n",
              "        if (!dataTable) return;\n",
              "\n",
              "        const docLinkHtml = 'Like what you see? Visit the ' +\n",
              "          '<a target=\"_blank\" href=https://colab.research.google.com/notebooks/data_table.ipynb>data table notebook</a>'\n",
              "          + ' to learn more about interactive tables.';\n",
              "        element.innerHTML = '';\n",
              "        dataTable['output_type'] = 'display_data';\n",
              "        await google.colab.output.renderOutput(dataTable, element);\n",
              "        const docLink = document.createElement('div');\n",
              "        docLink.innerHTML = docLinkHtml;\n",
              "        element.appendChild(docLink);\n",
              "      }\n",
              "    </script>\n",
              "  </div>\n",
              "\n",
              "\n",
              "<div id=\"df-caffb281-1110-462f-bc43-2cbce59c7d4e\">\n",
              "  <button class=\"colab-df-quickchart\" onclick=\"quickchart('df-caffb281-1110-462f-bc43-2cbce59c7d4e')\"\n",
              "            title=\"Suggest charts\"\n",
              "            style=\"display:none;\">\n",
              "\n",
              "<svg xmlns=\"http://www.w3.org/2000/svg\" height=\"24px\"viewBox=\"0 0 24 24\"\n",
              "     width=\"24px\">\n",
              "    <g>\n",
              "        <path d=\"M19 3H5c-1.1 0-2 .9-2 2v14c0 1.1.9 2 2 2h14c1.1 0 2-.9 2-2V5c0-1.1-.9-2-2-2zM9 17H7v-7h2v7zm4 0h-2V7h2v10zm4 0h-2v-4h2v4z\"/>\n",
              "    </g>\n",
              "</svg>\n",
              "  </button>\n",
              "\n",
              "<style>\n",
              "  .colab-df-quickchart {\n",
              "      --bg-color: #E8F0FE;\n",
              "      --fill-color: #1967D2;\n",
              "      --hover-bg-color: #E2EBFA;\n",
              "      --hover-fill-color: #174EA6;\n",
              "      --disabled-fill-color: #AAA;\n",
              "      --disabled-bg-color: #DDD;\n",
              "  }\n",
              "\n",
              "  [theme=dark] .colab-df-quickchart {\n",
              "      --bg-color: #3B4455;\n",
              "      --fill-color: #D2E3FC;\n",
              "      --hover-bg-color: #434B5C;\n",
              "      --hover-fill-color: #FFFFFF;\n",
              "      --disabled-bg-color: #3B4455;\n",
              "      --disabled-fill-color: #666;\n",
              "  }\n",
              "\n",
              "  .colab-df-quickchart {\n",
              "    background-color: var(--bg-color);\n",
              "    border: none;\n",
              "    border-radius: 50%;\n",
              "    cursor: pointer;\n",
              "    display: none;\n",
              "    fill: var(--fill-color);\n",
              "    height: 32px;\n",
              "    padding: 0;\n",
              "    width: 32px;\n",
              "  }\n",
              "\n",
              "  .colab-df-quickchart:hover {\n",
              "    background-color: var(--hover-bg-color);\n",
              "    box-shadow: 0 1px 2px rgba(60, 64, 67, 0.3), 0 1px 3px 1px rgba(60, 64, 67, 0.15);\n",
              "    fill: var(--button-hover-fill-color);\n",
              "  }\n",
              "\n",
              "  .colab-df-quickchart-complete:disabled,\n",
              "  .colab-df-quickchart-complete:disabled:hover {\n",
              "    background-color: var(--disabled-bg-color);\n",
              "    fill: var(--disabled-fill-color);\n",
              "    box-shadow: none;\n",
              "  }\n",
              "\n",
              "  .colab-df-spinner {\n",
              "    border: 2px solid var(--fill-color);\n",
              "    border-color: transparent;\n",
              "    border-bottom-color: var(--fill-color);\n",
              "    animation:\n",
              "      spin 1s steps(1) infinite;\n",
              "  }\n",
              "\n",
              "  @keyframes spin {\n",
              "    0% {\n",
              "      border-color: transparent;\n",
              "      border-bottom-color: var(--fill-color);\n",
              "      border-left-color: var(--fill-color);\n",
              "    }\n",
              "    20% {\n",
              "      border-color: transparent;\n",
              "      border-left-color: var(--fill-color);\n",
              "      border-top-color: var(--fill-color);\n",
              "    }\n",
              "    30% {\n",
              "      border-color: transparent;\n",
              "      border-left-color: var(--fill-color);\n",
              "      border-top-color: var(--fill-color);\n",
              "      border-right-color: var(--fill-color);\n",
              "    }\n",
              "    40% {\n",
              "      border-color: transparent;\n",
              "      border-right-color: var(--fill-color);\n",
              "      border-top-color: var(--fill-color);\n",
              "    }\n",
              "    60% {\n",
              "      border-color: transparent;\n",
              "      border-right-color: var(--fill-color);\n",
              "    }\n",
              "    80% {\n",
              "      border-color: transparent;\n",
              "      border-right-color: var(--fill-color);\n",
              "      border-bottom-color: var(--fill-color);\n",
              "    }\n",
              "    90% {\n",
              "      border-color: transparent;\n",
              "      border-bottom-color: var(--fill-color);\n",
              "    }\n",
              "  }\n",
              "</style>\n",
              "\n",
              "  <script>\n",
              "    async function quickchart(key) {\n",
              "      const quickchartButtonEl =\n",
              "        document.querySelector('#' + key + ' button');\n",
              "      quickchartButtonEl.disabled = true;  // To prevent multiple clicks.\n",
              "      quickchartButtonEl.classList.add('colab-df-spinner');\n",
              "      try {\n",
              "        const charts = await google.colab.kernel.invokeFunction(\n",
              "            'suggestCharts', [key], {});\n",
              "      } catch (error) {\n",
              "        console.error('Error during call to suggestCharts:', error);\n",
              "      }\n",
              "      quickchartButtonEl.classList.remove('colab-df-spinner');\n",
              "      quickchartButtonEl.classList.add('colab-df-quickchart-complete');\n",
              "    }\n",
              "    (() => {\n",
              "      let quickchartButtonEl =\n",
              "        document.querySelector('#df-caffb281-1110-462f-bc43-2cbce59c7d4e button');\n",
              "      quickchartButtonEl.style.display =\n",
              "        google.colab.kernel.accessAllowed ? 'block' : 'none';\n",
              "    })();\n",
              "  </script>\n",
              "</div>\n",
              "    </div>\n",
              "  </div>\n"
            ],
            "text/plain": [
              "    Season            Competition     Matchday      Date Venue  \\\n",
              "0    04/05                 LaLiga           34  05-01/05     H   \n",
              "1    05/06  UEFA Champions League  Group Stage  11-02/05     H   \n",
              "2    05/06                 LaLiga           13  11/27/05     H   \n",
              "3    05/06                 LaLiga           19   1/15/06     H   \n",
              "4    05/06                 LaLiga           20   1/22/06     H   \n",
              "..     ...                    ...          ...       ...   ...   \n",
              "699  22/23                Ligue 1           21    2/1/23     A   \n",
              "700  22/23                Ligue 1           22    2/4/23     H   \n",
              "701  22/23                Ligue 1           24   2/19/23     H   \n",
              "702  22/23                Ligue 1           25   2/26/23     A   \n",
              "703  22/23                Ligue 1           26    3/4/23     H   \n",
              "\n",
              "                    Club              Opponent Result Playing_Position Minute  \\\n",
              "0           FC Barcelona     Albacete Balompie   2:00               CF   90+1   \n",
              "1           FC Barcelona  Panathinaikos Athens   5:00               RW     34   \n",
              "2           FC Barcelona      Racing Santander   4:01               RW     51   \n",
              "3           FC Barcelona       Athletic Bilbao   2:01               RW     50   \n",
              "4           FC Barcelona      Deportivo Alaves   2:00               CF     82   \n",
              "..                   ...                   ...    ...              ...    ...   \n",
              "699  Paris Saint-Germain       Montpellier HSC    1:3               SS     72   \n",
              "700  Paris Saint-Germain           FC Toulouse    2:1               SS     58   \n",
              "701  Paris Saint-Germain            LOSC Lille    4:3               CF   90+5   \n",
              "702  Paris Saint-Germain   Olympique Marseille    0:3               CF     29   \n",
              "703  Paris Saint-Germain             FC Nantes    4:2               CF     12   \n",
              "\n",
              "    At_score               Type        Goal_assist  \n",
              "0       2:00   Left-footed shot  Ronaldinho Gaacho  \n",
              "1       3:00   Left-footed shot                NaN  \n",
              "2       2:00   Left-footed shot        Samuel Etoo  \n",
              "3       2:01   Left-footed shot    Mark van Bommel  \n",
              "4       2:00   Left-footed shot  Ronaldinho Gaacho  \n",
              "..       ...                ...                ...  \n",
              "699      0:2   Left-footed shot        Fabián Ruiz  \n",
              "700      2:1   Left-footed shot      Achraf Hakimi  \n",
              "701      4:3   Direct free kick                 \\t  \n",
              "702      0:2  Right-footed shot      Kylian Mbappé  \n",
              "703      1:0   Left-footed shot                NaN  \n",
              "\n",
              "[704 rows x 13 columns]"
            ]
          },
          "execution_count": 282,
          "metadata": {},
          "output_type": "execute_result"
        }
      ],
      "source": [
        "import pandas as pd\n",
        "df = pd.read_csv('data.csv')\n",
        "df"
      ]
    },
    {
      "cell_type": "markdown",
      "metadata": {
        "id": "I4UZsvOnTmhb"
      },
      "source": [
        "Imprimo las 5 primeras y ultimas filas para observar los datos disponibles y ver como llevar a cabo nuestro analisis."
      ]
    },
    {
      "cell_type": "code",
      "execution_count": 283,
      "metadata": {
        "colab": {
          "base_uri": "https://localhost:8080/"
        },
        "id": "wQwKmem9doGy",
        "outputId": "48d2debd-03e7-4c7d-9a07-2346308d7a49"
      },
      "outputs": [
        {
          "data": {
            "text/plain": [
              "Season              object\n",
              "Competition         object\n",
              "Matchday            object\n",
              "Date                object\n",
              "Venue               object\n",
              "Club                object\n",
              "Opponent            object\n",
              "Result              object\n",
              "Playing_Position    object\n",
              "Minute              object\n",
              "At_score            object\n",
              "Type                object\n",
              "Goal_assist         object\n",
              "dtype: object"
            ]
          },
          "execution_count": 283,
          "metadata": {},
          "output_type": "execute_result"
        }
      ],
      "source": [
        "df.dtypes"
      ]
    },
    {
      "cell_type": "markdown",
      "metadata": {
        "id": "Qor17r_MT_H1"
      },
      "source": [
        "Aqui vemos el tipo de datos con los que estamos trabajando, y si hace falta realizar alguna transformación. En este caso sí, vamos a necesitar la variable \"Minute\" como float y no como object, asi que realizamos la transformación..."
      ]
    },
    {
      "cell_type": "markdown",
      "metadata": {
        "id": "xqnyPWq2URzn"
      },
      "source": [
        "...pero antes vemos que arroja valores como 90+2, 90+4; representando el tiempo de descuento de la segunda parte, por lo que vamos a transformar cualquier 90 + 'x' a 90 para poder realizar la transformación:"
      ]
    },
    {
      "cell_type": "code",
      "execution_count": null,
      "metadata": {
        "colab": {
          "base_uri": "https://localhost:8080/",
          "height": 790
        },
        "id": "5pQcOlwOj1d3",
        "outputId": "b50ddd5c-3b52-4cf0-ca01-f84ce9994e19"
      },
      "outputs": [
        {
          "data": {
            "text/html": [
              "\n",
              "  <div id=\"df-d29fee51-7cc9-4ba4-af02-a1a52c0b5d3a\" class=\"colab-df-container\">\n",
              "    <div>\n",
              "<style scoped>\n",
              "    .dataframe tbody tr th:only-of-type {\n",
              "        vertical-align: middle;\n",
              "    }\n",
              "\n",
              "    .dataframe tbody tr th {\n",
              "        vertical-align: top;\n",
              "    }\n",
              "\n",
              "    .dataframe thead th {\n",
              "        text-align: right;\n",
              "    }\n",
              "</style>\n",
              "<table border=\"1\" class=\"dataframe\">\n",
              "  <thead>\n",
              "    <tr style=\"text-align: right;\">\n",
              "      <th></th>\n",
              "      <th>Season</th>\n",
              "      <th>Competition</th>\n",
              "      <th>Matchday</th>\n",
              "      <th>Date</th>\n",
              "      <th>Venue</th>\n",
              "      <th>Club</th>\n",
              "      <th>Opponent</th>\n",
              "      <th>Result</th>\n",
              "      <th>Playing_Position</th>\n",
              "      <th>Minute</th>\n",
              "      <th>At_score</th>\n",
              "      <th>Type</th>\n",
              "      <th>Goal_assist</th>\n",
              "    </tr>\n",
              "  </thead>\n",
              "  <tbody>\n",
              "    <tr>\n",
              "      <th>0</th>\n",
              "      <td>04/05</td>\n",
              "      <td>LaLiga</td>\n",
              "      <td>34</td>\n",
              "      <td>05-01/05</td>\n",
              "      <td>H</td>\n",
              "      <td>FC Barcelona</td>\n",
              "      <td>Albacete Balompie</td>\n",
              "      <td>2:00</td>\n",
              "      <td>CF</td>\n",
              "      <td>90</td>\n",
              "      <td>2:00</td>\n",
              "      <td>Left-footed shot</td>\n",
              "      <td>Ronaldinho Gaacho</td>\n",
              "    </tr>\n",
              "    <tr>\n",
              "      <th>1</th>\n",
              "      <td>05/06</td>\n",
              "      <td>UEFA Champions League</td>\n",
              "      <td>Group Stage</td>\n",
              "      <td>11-02/05</td>\n",
              "      <td>H</td>\n",
              "      <td>FC Barcelona</td>\n",
              "      <td>Panathinaikos Athens</td>\n",
              "      <td>5:00</td>\n",
              "      <td>RW</td>\n",
              "      <td>34</td>\n",
              "      <td>3:00</td>\n",
              "      <td>Left-footed shot</td>\n",
              "      <td>NaN</td>\n",
              "    </tr>\n",
              "    <tr>\n",
              "      <th>2</th>\n",
              "      <td>05/06</td>\n",
              "      <td>LaLiga</td>\n",
              "      <td>13</td>\n",
              "      <td>11/27/05</td>\n",
              "      <td>H</td>\n",
              "      <td>FC Barcelona</td>\n",
              "      <td>Racing Santander</td>\n",
              "      <td>4:01</td>\n",
              "      <td>RW</td>\n",
              "      <td>51</td>\n",
              "      <td>2:00</td>\n",
              "      <td>Left-footed shot</td>\n",
              "      <td>Samuel Etoo</td>\n",
              "    </tr>\n",
              "    <tr>\n",
              "      <th>3</th>\n",
              "      <td>05/06</td>\n",
              "      <td>LaLiga</td>\n",
              "      <td>19</td>\n",
              "      <td>1/15/06</td>\n",
              "      <td>H</td>\n",
              "      <td>FC Barcelona</td>\n",
              "      <td>Athletic Bilbao</td>\n",
              "      <td>2:01</td>\n",
              "      <td>RW</td>\n",
              "      <td>50</td>\n",
              "      <td>2:01</td>\n",
              "      <td>Left-footed shot</td>\n",
              "      <td>Mark van Bommel</td>\n",
              "    </tr>\n",
              "    <tr>\n",
              "      <th>4</th>\n",
              "      <td>05/06</td>\n",
              "      <td>LaLiga</td>\n",
              "      <td>20</td>\n",
              "      <td>1/22/06</td>\n",
              "      <td>H</td>\n",
              "      <td>FC Barcelona</td>\n",
              "      <td>Deportivo Alaves</td>\n",
              "      <td>2:00</td>\n",
              "      <td>CF</td>\n",
              "      <td>82</td>\n",
              "      <td>2:00</td>\n",
              "      <td>Left-footed shot</td>\n",
              "      <td>Ronaldinho Gaacho</td>\n",
              "    </tr>\n",
              "    <tr>\n",
              "      <th>...</th>\n",
              "      <td>...</td>\n",
              "      <td>...</td>\n",
              "      <td>...</td>\n",
              "      <td>...</td>\n",
              "      <td>...</td>\n",
              "      <td>...</td>\n",
              "      <td>...</td>\n",
              "      <td>...</td>\n",
              "      <td>...</td>\n",
              "      <td>...</td>\n",
              "      <td>...</td>\n",
              "      <td>...</td>\n",
              "      <td>...</td>\n",
              "    </tr>\n",
              "    <tr>\n",
              "      <th>699</th>\n",
              "      <td>22/23</td>\n",
              "      <td>Ligue 1</td>\n",
              "      <td>21</td>\n",
              "      <td>2/1/23</td>\n",
              "      <td>A</td>\n",
              "      <td>Paris Saint-Germain</td>\n",
              "      <td>Montpellier HSC</td>\n",
              "      <td>1:3</td>\n",
              "      <td>SS</td>\n",
              "      <td>72</td>\n",
              "      <td>0:2</td>\n",
              "      <td>Left-footed shot</td>\n",
              "      <td>Fabián Ruiz</td>\n",
              "    </tr>\n",
              "    <tr>\n",
              "      <th>700</th>\n",
              "      <td>22/23</td>\n",
              "      <td>Ligue 1</td>\n",
              "      <td>22</td>\n",
              "      <td>2/4/23</td>\n",
              "      <td>H</td>\n",
              "      <td>Paris Saint-Germain</td>\n",
              "      <td>FC Toulouse</td>\n",
              "      <td>2:1</td>\n",
              "      <td>SS</td>\n",
              "      <td>58</td>\n",
              "      <td>2:1</td>\n",
              "      <td>Left-footed shot</td>\n",
              "      <td>Achraf Hakimi</td>\n",
              "    </tr>\n",
              "    <tr>\n",
              "      <th>701</th>\n",
              "      <td>22/23</td>\n",
              "      <td>Ligue 1</td>\n",
              "      <td>24</td>\n",
              "      <td>2/19/23</td>\n",
              "      <td>H</td>\n",
              "      <td>Paris Saint-Germain</td>\n",
              "      <td>LOSC Lille</td>\n",
              "      <td>4:3</td>\n",
              "      <td>CF</td>\n",
              "      <td>90</td>\n",
              "      <td>4:3</td>\n",
              "      <td>Direct free kick</td>\n",
              "      <td>\\t</td>\n",
              "    </tr>\n",
              "    <tr>\n",
              "      <th>702</th>\n",
              "      <td>22/23</td>\n",
              "      <td>Ligue 1</td>\n",
              "      <td>25</td>\n",
              "      <td>2/26/23</td>\n",
              "      <td>A</td>\n",
              "      <td>Paris Saint-Germain</td>\n",
              "      <td>Olympique Marseille</td>\n",
              "      <td>0:3</td>\n",
              "      <td>CF</td>\n",
              "      <td>29</td>\n",
              "      <td>0:2</td>\n",
              "      <td>Right-footed shot</td>\n",
              "      <td>Kylian Mbappé</td>\n",
              "    </tr>\n",
              "    <tr>\n",
              "      <th>703</th>\n",
              "      <td>22/23</td>\n",
              "      <td>Ligue 1</td>\n",
              "      <td>26</td>\n",
              "      <td>3/4/23</td>\n",
              "      <td>H</td>\n",
              "      <td>Paris Saint-Germain</td>\n",
              "      <td>FC Nantes</td>\n",
              "      <td>4:2</td>\n",
              "      <td>CF</td>\n",
              "      <td>12</td>\n",
              "      <td>1:0</td>\n",
              "      <td>Left-footed shot</td>\n",
              "      <td>NaN</td>\n",
              "    </tr>\n",
              "  </tbody>\n",
              "</table>\n",
              "<p>704 rows × 13 columns</p>\n",
              "</div>\n",
              "    <div class=\"colab-df-buttons\">\n",
              "\n",
              "  <div class=\"colab-df-container\">\n",
              "    <button class=\"colab-df-convert\" onclick=\"convertToInteractive('df-d29fee51-7cc9-4ba4-af02-a1a52c0b5d3a')\"\n",
              "            title=\"Convert this dataframe to an interactive table.\"\n",
              "            style=\"display:none;\">\n",
              "\n",
              "  <svg xmlns=\"http://www.w3.org/2000/svg\" height=\"24px\" viewBox=\"0 -960 960 960\">\n",
              "    <path d=\"M120-120v-720h720v720H120Zm60-500h600v-160H180v160Zm220 220h160v-160H400v160Zm0 220h160v-160H400v160ZM180-400h160v-160H180v160Zm440 0h160v-160H620v160ZM180-180h160v-160H180v160Zm440 0h160v-160H620v160Z\"/>\n",
              "  </svg>\n",
              "    </button>\n",
              "\n",
              "  <style>\n",
              "    .colab-df-container {\n",
              "      display:flex;\n",
              "      gap: 12px;\n",
              "    }\n",
              "\n",
              "    .colab-df-convert {\n",
              "      background-color: #E8F0FE;\n",
              "      border: none;\n",
              "      border-radius: 50%;\n",
              "      cursor: pointer;\n",
              "      display: none;\n",
              "      fill: #1967D2;\n",
              "      height: 32px;\n",
              "      padding: 0 0 0 0;\n",
              "      width: 32px;\n",
              "    }\n",
              "\n",
              "    .colab-df-convert:hover {\n",
              "      background-color: #E2EBFA;\n",
              "      box-shadow: 0px 1px 2px rgba(60, 64, 67, 0.3), 0px 1px 3px 1px rgba(60, 64, 67, 0.15);\n",
              "      fill: #174EA6;\n",
              "    }\n",
              "\n",
              "    .colab-df-buttons div {\n",
              "      margin-bottom: 4px;\n",
              "    }\n",
              "\n",
              "    [theme=dark] .colab-df-convert {\n",
              "      background-color: #3B4455;\n",
              "      fill: #D2E3FC;\n",
              "    }\n",
              "\n",
              "    [theme=dark] .colab-df-convert:hover {\n",
              "      background-color: #434B5C;\n",
              "      box-shadow: 0px 1px 3px 1px rgba(0, 0, 0, 0.15);\n",
              "      filter: drop-shadow(0px 1px 2px rgba(0, 0, 0, 0.3));\n",
              "      fill: #FFFFFF;\n",
              "    }\n",
              "  </style>\n",
              "\n",
              "    <script>\n",
              "      const buttonEl =\n",
              "        document.querySelector('#df-d29fee51-7cc9-4ba4-af02-a1a52c0b5d3a button.colab-df-convert');\n",
              "      buttonEl.style.display =\n",
              "        google.colab.kernel.accessAllowed ? 'block' : 'none';\n",
              "\n",
              "      async function convertToInteractive(key) {\n",
              "        const element = document.querySelector('#df-d29fee51-7cc9-4ba4-af02-a1a52c0b5d3a');\n",
              "        const dataTable =\n",
              "          await google.colab.kernel.invokeFunction('convertToInteractive',\n",
              "                                                    [key], {});\n",
              "        if (!dataTable) return;\n",
              "\n",
              "        const docLinkHtml = 'Like what you see? Visit the ' +\n",
              "          '<a target=\"_blank\" href=https://colab.research.google.com/notebooks/data_table.ipynb>data table notebook</a>'\n",
              "          + ' to learn more about interactive tables.';\n",
              "        element.innerHTML = '';\n",
              "        dataTable['output_type'] = 'display_data';\n",
              "        await google.colab.output.renderOutput(dataTable, element);\n",
              "        const docLink = document.createElement('div');\n",
              "        docLink.innerHTML = docLinkHtml;\n",
              "        element.appendChild(docLink);\n",
              "      }\n",
              "    </script>\n",
              "  </div>\n",
              "\n",
              "\n",
              "<div id=\"df-8fc278e6-041e-43c6-8149-433dfddab851\">\n",
              "  <button class=\"colab-df-quickchart\" onclick=\"quickchart('df-8fc278e6-041e-43c6-8149-433dfddab851')\"\n",
              "            title=\"Suggest charts\"\n",
              "            style=\"display:none;\">\n",
              "\n",
              "<svg xmlns=\"http://www.w3.org/2000/svg\" height=\"24px\"viewBox=\"0 0 24 24\"\n",
              "     width=\"24px\">\n",
              "    <g>\n",
              "        <path d=\"M19 3H5c-1.1 0-2 .9-2 2v14c0 1.1.9 2 2 2h14c1.1 0 2-.9 2-2V5c0-1.1-.9-2-2-2zM9 17H7v-7h2v7zm4 0h-2V7h2v10zm4 0h-2v-4h2v4z\"/>\n",
              "    </g>\n",
              "</svg>\n",
              "  </button>\n",
              "\n",
              "<style>\n",
              "  .colab-df-quickchart {\n",
              "      --bg-color: #E8F0FE;\n",
              "      --fill-color: #1967D2;\n",
              "      --hover-bg-color: #E2EBFA;\n",
              "      --hover-fill-color: #174EA6;\n",
              "      --disabled-fill-color: #AAA;\n",
              "      --disabled-bg-color: #DDD;\n",
              "  }\n",
              "\n",
              "  [theme=dark] .colab-df-quickchart {\n",
              "      --bg-color: #3B4455;\n",
              "      --fill-color: #D2E3FC;\n",
              "      --hover-bg-color: #434B5C;\n",
              "      --hover-fill-color: #FFFFFF;\n",
              "      --disabled-bg-color: #3B4455;\n",
              "      --disabled-fill-color: #666;\n",
              "  }\n",
              "\n",
              "  .colab-df-quickchart {\n",
              "    background-color: var(--bg-color);\n",
              "    border: none;\n",
              "    border-radius: 50%;\n",
              "    cursor: pointer;\n",
              "    display: none;\n",
              "    fill: var(--fill-color);\n",
              "    height: 32px;\n",
              "    padding: 0;\n",
              "    width: 32px;\n",
              "  }\n",
              "\n",
              "  .colab-df-quickchart:hover {\n",
              "    background-color: var(--hover-bg-color);\n",
              "    box-shadow: 0 1px 2px rgba(60, 64, 67, 0.3), 0 1px 3px 1px rgba(60, 64, 67, 0.15);\n",
              "    fill: var(--button-hover-fill-color);\n",
              "  }\n",
              "\n",
              "  .colab-df-quickchart-complete:disabled,\n",
              "  .colab-df-quickchart-complete:disabled:hover {\n",
              "    background-color: var(--disabled-bg-color);\n",
              "    fill: var(--disabled-fill-color);\n",
              "    box-shadow: none;\n",
              "  }\n",
              "\n",
              "  .colab-df-spinner {\n",
              "    border: 2px solid var(--fill-color);\n",
              "    border-color: transparent;\n",
              "    border-bottom-color: var(--fill-color);\n",
              "    animation:\n",
              "      spin 1s steps(1) infinite;\n",
              "  }\n",
              "\n",
              "  @keyframes spin {\n",
              "    0% {\n",
              "      border-color: transparent;\n",
              "      border-bottom-color: var(--fill-color);\n",
              "      border-left-color: var(--fill-color);\n",
              "    }\n",
              "    20% {\n",
              "      border-color: transparent;\n",
              "      border-left-color: var(--fill-color);\n",
              "      border-top-color: var(--fill-color);\n",
              "    }\n",
              "    30% {\n",
              "      border-color: transparent;\n",
              "      border-left-color: var(--fill-color);\n",
              "      border-top-color: var(--fill-color);\n",
              "      border-right-color: var(--fill-color);\n",
              "    }\n",
              "    40% {\n",
              "      border-color: transparent;\n",
              "      border-right-color: var(--fill-color);\n",
              "      border-top-color: var(--fill-color);\n",
              "    }\n",
              "    60% {\n",
              "      border-color: transparent;\n",
              "      border-right-color: var(--fill-color);\n",
              "    }\n",
              "    80% {\n",
              "      border-color: transparent;\n",
              "      border-right-color: var(--fill-color);\n",
              "      border-bottom-color: var(--fill-color);\n",
              "    }\n",
              "    90% {\n",
              "      border-color: transparent;\n",
              "      border-bottom-color: var(--fill-color);\n",
              "    }\n",
              "  }\n",
              "</style>\n",
              "\n",
              "  <script>\n",
              "    async function quickchart(key) {\n",
              "      const quickchartButtonEl =\n",
              "        document.querySelector('#' + key + ' button');\n",
              "      quickchartButtonEl.disabled = true;  // To prevent multiple clicks.\n",
              "      quickchartButtonEl.classList.add('colab-df-spinner');\n",
              "      try {\n",
              "        const charts = await google.colab.kernel.invokeFunction(\n",
              "            'suggestCharts', [key], {});\n",
              "      } catch (error) {\n",
              "        console.error('Error during call to suggestCharts:', error);\n",
              "      }\n",
              "      quickchartButtonEl.classList.remove('colab-df-spinner');\n",
              "      quickchartButtonEl.classList.add('colab-df-quickchart-complete');\n",
              "    }\n",
              "    (() => {\n",
              "      let quickchartButtonEl =\n",
              "        document.querySelector('#df-8fc278e6-041e-43c6-8149-433dfddab851 button');\n",
              "      quickchartButtonEl.style.display =\n",
              "        google.colab.kernel.accessAllowed ? 'block' : 'none';\n",
              "    })();\n",
              "  </script>\n",
              "</div>\n",
              "    </div>\n",
              "  </div>\n"
            ],
            "text/plain": [
              "    Season            Competition     Matchday      Date Venue  \\\n",
              "0    04/05                 LaLiga           34  05-01/05     H   \n",
              "1    05/06  UEFA Champions League  Group Stage  11-02/05     H   \n",
              "2    05/06                 LaLiga           13  11/27/05     H   \n",
              "3    05/06                 LaLiga           19   1/15/06     H   \n",
              "4    05/06                 LaLiga           20   1/22/06     H   \n",
              "..     ...                    ...          ...       ...   ...   \n",
              "699  22/23                Ligue 1           21    2/1/23     A   \n",
              "700  22/23                Ligue 1           22    2/4/23     H   \n",
              "701  22/23                Ligue 1           24   2/19/23     H   \n",
              "702  22/23                Ligue 1           25   2/26/23     A   \n",
              "703  22/23                Ligue 1           26    3/4/23     H   \n",
              "\n",
              "                    Club              Opponent Result Playing_Position Minute  \\\n",
              "0           FC Barcelona     Albacete Balompie   2:00               CF     90   \n",
              "1           FC Barcelona  Panathinaikos Athens   5:00               RW     34   \n",
              "2           FC Barcelona      Racing Santander   4:01               RW     51   \n",
              "3           FC Barcelona       Athletic Bilbao   2:01               RW     50   \n",
              "4           FC Barcelona      Deportivo Alaves   2:00               CF     82   \n",
              "..                   ...                   ...    ...              ...    ...   \n",
              "699  Paris Saint-Germain       Montpellier HSC    1:3               SS     72   \n",
              "700  Paris Saint-Germain           FC Toulouse    2:1               SS     58   \n",
              "701  Paris Saint-Germain            LOSC Lille    4:3               CF     90   \n",
              "702  Paris Saint-Germain   Olympique Marseille    0:3               CF     29   \n",
              "703  Paris Saint-Germain             FC Nantes    4:2               CF     12   \n",
              "\n",
              "    At_score               Type        Goal_assist  \n",
              "0       2:00   Left-footed shot  Ronaldinho Gaacho  \n",
              "1       3:00   Left-footed shot                NaN  \n",
              "2       2:00   Left-footed shot        Samuel Etoo  \n",
              "3       2:01   Left-footed shot    Mark van Bommel  \n",
              "4       2:00   Left-footed shot  Ronaldinho Gaacho  \n",
              "..       ...                ...                ...  \n",
              "699      0:2   Left-footed shot        Fabián Ruiz  \n",
              "700      2:1   Left-footed shot      Achraf Hakimi  \n",
              "701      4:3   Direct free kick                 \\t  \n",
              "702      0:2  Right-footed shot      Kylian Mbappé  \n",
              "703      1:0   Left-footed shot                NaN  \n",
              "\n",
              "[704 rows x 13 columns]"
            ]
          },
          "execution_count": 113,
          "metadata": {},
          "output_type": "execute_result"
        }
      ],
      "source": [
        "df['Minute'] = df['Minute'].apply(lambda x: x.split('+')[0] if '+' in x else x)\n",
        "df"
      ]
    },
    {
      "cell_type": "markdown",
      "metadata": {
        "id": "5EpsxzpeUn26"
      },
      "source": [
        "Ahora si, podemos llevar a cabo la transformación"
      ]
    },
    {
      "cell_type": "code",
      "execution_count": null,
      "metadata": {
        "id": "WZk9KWE_kFdZ"
      },
      "outputs": [],
      "source": [
        "df['Minute'] = df['Minute'].astype('float64')"
      ]
    },
    {
      "cell_type": "code",
      "execution_count": null,
      "metadata": {
        "colab": {
          "base_uri": "https://localhost:8080/"
        },
        "id": "29mbCZg_kMlz",
        "outputId": "2c2e103a-25f3-4574-98e0-dd44ffa36faa"
      },
      "outputs": [
        {
          "data": {
            "text/plain": [
              "Season               object\n",
              "Competition          object\n",
              "Matchday             object\n",
              "Date                 object\n",
              "Venue                object\n",
              "Club                 object\n",
              "Opponent             object\n",
              "Result               object\n",
              "Playing_Position     object\n",
              "Minute              float64\n",
              "At_score             object\n",
              "Type                 object\n",
              "Goal_assist          object\n",
              "dtype: object"
            ]
          },
          "execution_count": 115,
          "metadata": {},
          "output_type": "execute_result"
        }
      ],
      "source": [
        "df.dtypes"
      ]
    },
    {
      "cell_type": "markdown",
      "metadata": {
        "id": "8BEX0JCpS3f8"
      },
      "source": [
        "Perfecto, podemos empezar el analisis.\n",
        "Primero vamos a ver graficamente cual es el tramo de partido en el que mas goles ha anotado."
      ]
    },
    {
      "cell_type": "code",
      "execution_count": null,
      "metadata": {
        "id": "ItsmxomooS2w"
      },
      "outputs": [],
      "source": [
        "bins = [0, 15, 30, 45, 60, 75, 90]"
      ]
    },
    {
      "cell_type": "code",
      "execution_count": null,
      "metadata": {
        "id": "JLEkmQPwoUgz"
      },
      "outputs": [],
      "source": [
        "labels = ['1-15', '16-30', '31-45', '46-60', '61-75', '76-90']"
      ]
    },
    {
      "cell_type": "markdown",
      "metadata": {
        "id": "GqtMLN2rTF0G"
      },
      "source": [
        "Para esto, vamos a dividir los 90' en intervalos de 15 minutos. Tres en la 1a parte y tres en la 2a."
      ]
    },
    {
      "cell_type": "code",
      "execution_count": null,
      "metadata": {
        "colab": {
          "base_uri": "https://localhost:8080/"
        },
        "id": "6sCRfi-6oYlI",
        "outputId": "70410287-ddef-4b69-a039-224ae9875fca"
      },
      "outputs": [
        {
          "name": "stdout",
          "output_type": "stream",
          "text": [
            "76-90    143\n",
            "61-75    119\n",
            "16-30    117\n",
            "31-45    117\n",
            "46-60    110\n",
            "1-15      58\n",
            "Name: intervalo, dtype: int64\n"
          ]
        }
      ],
      "source": [
        "df['intervalo'] = pd.cut(df['Minute'], bins=bins, labels=labels, include_lowest=True, right=False)\n",
        "\n",
        "conteo_goles_por_intervalo = df['intervalo'].value_counts()\n",
        "print(conteo_goles_por_intervalo)"
      ]
    },
    {
      "cell_type": "markdown",
      "metadata": {
        "id": "aISREAReVKXB"
      },
      "source": [
        "Aqui tenemos nuestros goles por intervalo, ordenamos por minuto y no por número de goles, definimos X e Y, y graficamos:"
      ]
    },
    {
      "cell_type": "code",
      "execution_count": null,
      "metadata": {
        "id": "uuluI8N5pR2h"
      },
      "outputs": [],
      "source": [
        "# Reordena el DataFrame según el orden de las etiquetas\n",
        "conteo_goles_por_intervalo = conteo_goles_por_intervalo.reindex(labels)"
      ]
    },
    {
      "cell_type": "code",
      "execution_count": null,
      "metadata": {
        "id": "3IVoDtZBpa-0"
      },
      "outputs": [],
      "source": [
        "# Define las variables X e Y\n",
        "X = conteo_goles_por_intervalo.index  # Intervalos de tiempo\n",
        "Y = conteo_goles_por_intervalo.values  # Número de goles en cada intervalo"
      ]
    },
    {
      "cell_type": "code",
      "execution_count": null,
      "metadata": {
        "colab": {
          "base_uri": "https://localhost:8080/",
          "height": 472
        },
        "id": "1B3HBNURpc44",
        "outputId": "f5229ebf-2167-465f-d81f-a858dd3c58a7"
      },
      "outputs": [
        {
          "data": {
            "image/png": "[encoded data removed]",
            "text/plain": [
              "<Figure size 640x480 with 1 Axes>"
            ]
          },
          "metadata": {},
          "output_type": "display_data"
        }
      ],
      "source": [
        "colores_flare = sns.color_palette(\"flare\", n_colors=len(conteo_goles_por_intervalo))\n",
        "\n",
        "plt.bar(conteo_goles_por_intervalo.index, conteo_goles_por_intervalo.values, color=colores_flare)\n",
        "plt.xlabel('Intervalo de Tiempo')\n",
        "plt.ylabel('Número de Goles')\n",
        "plt.title('Número de Goles en Intervalos de 14 minutos')\n",
        "plt.show()"
      ]
    },
    {
      "cell_type": "markdown",
      "metadata": {
        "id": "w3mc4fChVaEU"
      },
      "source": [
        "Aqui podemos obervar que en todos los intervalos ha anotado el doble (o casi) de goles que en los primeros 15 minutos de juego, siendo el último cuarto su favorito para anotar con diferencia."
      ]
    },
    {
      "cell_type": "markdown",
      "metadata": {
        "id": "Jer4mX27WCn-"
      },
      "source": [
        "Vamos a otra cosa... ahora vamos a comprobar si Leo suele anotar cuando el marcador está a favor, cuando estan en tablas, o cuando su equipo va perdiendo."
      ]
    },
    {
      "cell_type": "markdown",
      "metadata": {
        "id": "f7IZPGENW5Y_"
      },
      "source": [
        "Vamos a utilizar la variable 'At_score'. Para ello tenemos que separar los valores en dos (2:0), delante y detras del ':'"
      ]
    },
    {
      "cell_type": "code",
      "execution_count": 262,
      "metadata": {
        "id": "_IRl94bziWbx"
      },
      "outputs": [],
      "source": [
        "def clasificar_resultado(row):\n",
        "    resultado_cuando_anota = row['At_score']\n",
        "    goles_local, goles_visitante = map(int, resultado_cuando_anota.split(':'))\n",
        "\n",
        "    if goles_local > goles_visitante:\n",
        "        return 'Ganando'\n",
        "    elif goles_local < goles_visitante:\n",
        "        return 'Perdiendo'\n",
        "    else:\n",
        "        return 'Empatando'"
      ]
    },
    {
      "cell_type": "code",
      "execution_count": 263,
      "metadata": {
        "id": "sqzaRF01NKS0"
      },
      "outputs": [],
      "source": [
        "df['resultado_cuando_anota'] = df.apply(clasificar_resultado, axis=1)\n",
        "conteo_resultados = df['resultado_cuando_anota'].value_counts()"
      ]
    },
    {
      "cell_type": "code",
      "execution_count": 264,
      "metadata": {
        "colab": {
          "base_uri": "https://localhost:8080/",
          "height": 475
        },
        "id": "edfU3jtvONG1",
        "outputId": "d4a28511-8c98-4fef-8f77-7cbc11c4e16d"
      },
      "outputs": [
        {
          "data": {
            "text/plain": [
              "(-1.099999128928934,\n",
              " 1.0999993596182316,\n",
              " -1.099999846648749,\n",
              " 1.0999999926975594)"
            ]
          },
          "execution_count": 264,
          "metadata": {},
          "output_type": "execute_result"
        },
        {
          "data": {
            "image/png": "[encoded data removed]",
            "text/plain": [
              "<Figure size 640x480 with 1 Axes>"
            ]
          },
          "metadata": {},
          "output_type": "display_data"
        }
      ],
      "source": [
        "colores = ['#99ff99', '#ff9999', '#ffcc99']\n",
        "fig, ax = plt.subplots()\n",
        "ax.pie(conteo_resultados, labels=conteo_resultados.index, autopct='%1.1f%%', startangle=90, wedgeprops=dict(width=0.4), colors=colores)\n",
        "ax.axis('equal')  # Equal aspect ratio ensures that pie is drawn as a circle."
      ]
    },
    {
      "cell_type": "markdown",
      "metadata": {
        "id": "vQUimMr3ix4E"
      },
      "source": [
        "Aqui podemos ver en una grafica 'donut' que poco mas de 1/3 de sus goles vienen en situaciones en las que su equipo se encuentra por debajo en el marcador, mientras que más de la mitad cuando el resultado le sirve para conseguir la victoria, (posible argumento para los pechofriistas)"
      ]
    },
    {
      "cell_type": "markdown",
      "metadata": {
        "id": "ihaMzjV4Q3vd"
      },
      "source": [
        "A continuación vamos a comparar los goles anotados en Liga y en Champions desde la temporada 2004-05 a la 2020-21."
      ]
    },
    {
      "cell_type": "code",
      "execution_count": 279,
      "metadata": {
        "id": "bbMoR3ksv9R3"
      },
      "outputs": [],
      "source": [
        "valores_unicos_competition = df['Competition'].unique()"
      ]
    },
    {
      "cell_type": "code",
      "execution_count": 280,
      "metadata": {
        "id": "BlrqmAEZyTaN"
      },
      "outputs": [],
      "source": [
        "df = df.iloc[:-32]\n",
        "df_filtrado = df[df['Competition'].isin(['LaLiga', 'UEFA Champions League'])]"
      ]
    },
    {
      "cell_type": "markdown",
      "metadata": {
        "id": "TGHo4cIrsL4I"
      },
      "source": [
        "Aqui excluyo las últimas 32 filas ya que ya no son datos de Leo en el FC Barcelona, ya que contar con su etapa en el club Parisino podría distrsionar el resultado."
      ]
    },
    {
      "cell_type": "code",
      "execution_count": 281,
      "metadata": {
        "colab": {
          "base_uri": "https://localhost:8080/",
          "height": 457
        },
        "id": "pzV1XzTJRTb-",
        "outputId": "f2ea9c03-003b-47a6-c055-846ae72736c0"
      },
      "outputs": [
        {
          "data": {
            "text/plain": [
              "<Axes: xlabel='Season'>"
            ]
          },
          "execution_count": 281,
          "metadata": {},
          "output_type": "execute_result"
        },
        {
          "data": {
            "image/png": "[encoded data removed]",
            "text/plain": [
              "<Figure size 1000x600 with 1 Axes>"
            ]
          },
          "metadata": {},
          "output_type": "display_data"
        }
      ],
      "source": [
        "colores_dual = sns.color_palette(\"Paired\", len(df_contado.columns))\n",
        "fig, ax = plt.subplots(figsize=(10, 6))\n",
        "df_contado.plot(kind='bar', ax=ax, stacked=True, width=0.8, color=colores_dual)"
      ]
    },
    {
      "cell_type": "markdown",
      "metadata": {
        "id": "FvGgiaFHjzUF"
      },
      "source": [
        "Los datos arrojados desde la temporada 2007-08 hasta la 2020-21 para la UEFA Champions League serían válidos en este caso ya que en estos años su equipo el FC Barcelona, quedó siempre entre cuartos de final, semis, y final por lo que la diferencia en el numero de partidos entre temporada no es grande. Respecto a la liga, se ve la alta tendencia goleadora de Leo, exceptuando temporadas como la 2013/14, cuando se le acusaba (con razón) de no rendir al 100% por \"cuidarse\" para el mundial de Brasil 2014."
      ]
    },
    {
      "cell_type": "markdown",
      "metadata": {
        "id": "iVhw8IOun0NB"
      },
      "source": [
        "Por último, vamos a ver gráficamente cuales son las porterías favoritas de Leo; a que equipos les ha marcado más goles (esperemos que el Valencia no esté en el top3 aunque me da que sí)..."
      ]
    },
    {
      "cell_type": "code",
      "execution_count": 277,
      "metadata": {
        "colab": {
          "base_uri": "https://localhost:8080/"
        },
        "id": "-sm78w-13j6S",
        "outputId": "137c0d33-8f42-4736-95c1-1d0de2814d98"
      },
      "outputs": [
        {
          "name": "stderr",
          "output_type": "stream",
          "text": [
            "<ipython-input-277-6df9fb6a19af>:1: SettingWithCopyWarning: \n",
            "A value is trying to be set on a copy of a slice from a DataFrame.\n",
            "Try using .loc[row_indexer,col_indexer] = value instead\n",
            "\n",
            "See the caveats in the documentation: https://pandas.pydata.org/pandas-docs/stable/user_guide/indexing.html#returning-a-view-versus-a-copy\n",
            "  df['Goles'] = 1\n"
          ]
        }
      ],
      "source": [
        "df['Goles'] = 1\n",
        "goles_por_oponente = df.groupby('Opponent')['Goles'].sum()\n",
        "top_20_oponentes = goles_por_oponente.nlargest(20)"
      ]
    },
    {
      "cell_type": "code",
      "execution_count": 284,
      "metadata": {
        "colab": {
          "base_uri": "https://localhost:8080/",
          "height": 534
        },
        "id": "CcnQOcMX4zmX",
        "outputId": "106e3d8f-bf3d-49a1-fcc1-b508cf973fb5"
      },
      "outputs": [
        {
          "data": {
            "image/png": "[encoded data removed]",
            "text/plain": [
              "<Figure size 1200x800 with 1 Axes>"
            ]
          },
          "metadata": {},
          "output_type": "display_data"
        }
      ],
      "source": [
        "colores = sns.color_palette(\"inferno\", n_colors=len(top_20_oponentes))\n",
        "fig, ax = plt.subplots(figsize=(12, 8))\n",
        "top_20_oponentes.plot(kind='bar', ax=ax, color=colores)\n",
        "\n",
        "plt.title('Equipos a los que Messi les ha marcado más goles')\n",
        "plt.xlabel('Equipos')\n",
        "plt.ylabel('Número de Goles')\n",
        "plt.xticks(rotation=45, ha='right')\n",
        "\n",
        "plt.show()"
      ]
    },
    {
      "cell_type": "markdown",
      "metadata": {
        "id": "DTqD3NgeoEZc"
      },
      "source": [
        "...bueno, por lo menos no es el top1. Aqui vemos que el equipo que más goles a recibido del argentino es el Sevilla, seguido por el Atlético, el Valencia, Athletic, Betis y Real Madrid, que ocupa la 6a posición con más de 10 goles menos que el conjunto de Nervión."
      ]
    }
  ],
  "metadata": {
    "colab": {
      "provenance": []
    },
    "kernelspec": {
      "display_name": "Python 3",
      "name": "python3"
    },
    "language_info": {
      "name": "python"
    }
  },
  "nbformat": 4,
  "nbformat_minor": 0
}
