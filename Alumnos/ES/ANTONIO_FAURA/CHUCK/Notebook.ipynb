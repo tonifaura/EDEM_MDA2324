{
 "cells": [
  {
   "cell_type": "code",
   "execution_count": 1,
   "id": "51829ce9-bcea-4575-a8be-cffa25e363fe",
   "metadata": {},
   "outputs": [
    {
     "name": "stdout",
     "output_type": "stream",
     "text": [
      "Hello World\n"
     ]
    }
   ],
   "source": [
    "import time\n",
    "import requests\n",
    "print(\"Hello World\")\n",
    "\n",
    "\n",
    "# Crea un archivo TXT para guardar los chistes´\n",
    "with open(\"joke.txt\", \"a\") as f:\n",
    "\n",
    "    # Bucles para obtener X chistes de la API\n",
    "\n",
    "    for i in range(200):\n",
    "        # Cada 1 segundos\n",
    "        time.sleep(1)\n",
    "        \n",
    "        # Crer solicitud a la API\n",
    "        response = requests.get(\"https://api.chucknorris.io/jokes/random\")\n",
    "\n",
    "        # \"Value\", porque es la parte que necesitamos, el chiste.\n",
    "        joke = response.json()[\"value\"]\n",
    "\n",
    "        # Escribe el articulo en el archivo TXT\n",
    "        f.write(joke + \"\\n\")"
   ]
  },
  {
   "cell_type": "code",
   "execution_count": 5,
   "id": "16f5912b-0683-499b-a50a-f9a47e5ea42e",
   "metadata": {},
   "outputs": [
    {
     "name": "stderr",
     "output_type": "stream",
     "text": [
      "/tmp/ipykernel_765/1906566642.py:2: ParserWarning: Falling back to the 'python' engine because the 'c' engine does not support regex separators (separators > 1 char and different from '\\s+' are interpreted as regex); you can avoid this warning by specifying engine='python'.\n",
      "  df = pd.read_csv('joke.txt', sep=\" ;54hgghhj \", header=None)\n"
     ]
    }
   ],
   "source": [
    "import pandas as pd\n",
    "df = pd.read_csv('joke.txt', sep=\" ;54hgghhj \", header=None)\n"
   ]
  },
  {
   "cell_type": "code",
   "execution_count": 6,
   "id": "81bb9e7f-9013-4c9c-98a3-1bca56546d9d",
   "metadata": {},
   "outputs": [
    {
     "data": {
      "text/html": [
       "<div>\n",
       "<style scoped>\n",
       "    .dataframe tbody tr th:only-of-type {\n",
       "        vertical-align: middle;\n",
       "    }\n",
       "\n",
       "    .dataframe tbody tr th {\n",
       "        vertical-align: top;\n",
       "    }\n",
       "\n",
       "    .dataframe thead th {\n",
       "        text-align: right;\n",
       "    }\n",
       "</style>\n",
       "<table border=\"1\" class=\"dataframe\">\n",
       "  <thead>\n",
       "    <tr style=\"text-align: right;\">\n",
       "      <th></th>\n",
       "      <th>0</th>\n",
       "    </tr>\n",
       "  </thead>\n",
       "  <tbody>\n",
       "    <tr>\n",
       "      <th>0</th>\n",
       "      <td>Chuck Norris once played a game of Russian rou...</td>\n",
       "    </tr>\n",
       "    <tr>\n",
       "      <th>1</th>\n",
       "      <td>Chuck Norris names ships by pissing into the s...</td>\n",
       "    </tr>\n",
       "    <tr>\n",
       "      <th>2</th>\n",
       "      <td>Chuck Norris could land a whale with his weddi...</td>\n",
       "    </tr>\n",
       "    <tr>\n",
       "      <th>3</th>\n",
       "      <td>You have no idea just how many hemorrhoids one...</td>\n",
       "    </tr>\n",
       "    <tr>\n",
       "      <th>4</th>\n",
       "      <td>A pair of Chuck Norris' jeans was recently put...</td>\n",
       "    </tr>\n",
       "    <tr>\n",
       "      <th>...</th>\n",
       "      <td>...</td>\n",
       "    </tr>\n",
       "    <tr>\n",
       "      <th>195</th>\n",
       "      <td>There are no such things as tornados. Chuck No...</td>\n",
       "    </tr>\n",
       "    <tr>\n",
       "      <th>196</th>\n",
       "      <td>Once Freddy Kreuger went to Texas, Chuck Norri...</td>\n",
       "    </tr>\n",
       "    <tr>\n",
       "      <th>197</th>\n",
       "      <td>when women r having sex with god they all scre...</td>\n",
       "    </tr>\n",
       "    <tr>\n",
       "      <th>198</th>\n",
       "      <td>On Storage Wars, Chuck Norris is allowed go in...</td>\n",
       "    </tr>\n",
       "    <tr>\n",
       "      <th>199</th>\n",
       "      <td>Chuck Norris can make a virgin go ass-to-mouth...</td>\n",
       "    </tr>\n",
       "  </tbody>\n",
       "</table>\n",
       "<p>200 rows × 1 columns</p>\n",
       "</div>"
      ],
      "text/plain": [
       "                                                     0\n",
       "0    Chuck Norris once played a game of Russian rou...\n",
       "1    Chuck Norris names ships by pissing into the s...\n",
       "2    Chuck Norris could land a whale with his weddi...\n",
       "3    You have no idea just how many hemorrhoids one...\n",
       "4    A pair of Chuck Norris' jeans was recently put...\n",
       "..                                                 ...\n",
       "195  There are no such things as tornados. Chuck No...\n",
       "196  Once Freddy Kreuger went to Texas, Chuck Norri...\n",
       "197  when women r having sex with god they all scre...\n",
       "198  On Storage Wars, Chuck Norris is allowed go in...\n",
       "199  Chuck Norris can make a virgin go ass-to-mouth...\n",
       "\n",
       "[200 rows x 1 columns]"
      ]
     },
     "execution_count": 6,
     "metadata": {},
     "output_type": "execute_result"
    }
   ],
   "source": [
    "df"
   ]
  },
  {
   "cell_type": "code",
   "execution_count": null,
   "id": "a415bbb6-8519-4be3-8a2e-cf5d0b00fcfd",
   "metadata": {},
   "outputs": [],
   "source": []
  }
 ],
 "metadata": {
  "kernelspec": {
   "display_name": "Python 3 (ipykernel)",
   "language": "python",
   "name": "python3"
  },
  "language_info": {
   "codemirror_mode": {
    "name": "ipython",
    "version": 3
   },
   "file_extension": ".py",
   "mimetype": "text/x-python",
   "name": "python",
   "nbconvert_exporter": "python",
   "pygments_lexer": "ipython3",
   "version": "3.11.6"
  }
 },
 "nbformat": 4,
 "nbformat_minor": 5
}
