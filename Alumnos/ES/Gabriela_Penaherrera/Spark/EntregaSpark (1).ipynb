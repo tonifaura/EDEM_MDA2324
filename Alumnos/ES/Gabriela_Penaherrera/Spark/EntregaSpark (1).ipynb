{
  "nbformat": 4,
  "nbformat_minor": 0,
  "metadata": {
    "colab": {
      "provenance": []
    },
    "kernelspec": {
      "name": "python3",
      "display_name": "Python 3"
    },
    "language_info": {
      "name": "python"
    }
  },
  "cells": [
    {
      "cell_type": "code",
      "execution_count": 85,
      "metadata": {
        "id": "NjYdUk0bq5dW"
      },
      "outputs": [],
      "source": [
        "# install Java8\n",
        "!apt-get install openjdk-8-jdk-headless -qq > /dev/null\n",
        "# download spark 3.5.0\n",
        "!wget -q https://apache.osuosl.org/spark/spark-3.5.0/spark-3.5.0-bin-hadoop3.tgz"
      ]
    },
    {
      "cell_type": "code",
      "source": [
        "ls -l # check the .tgz is there"
      ],
      "metadata": {
        "colab": {
          "base_uri": "https://localhost:8080/"
        },
        "id": "2GGUApNirDod",
        "outputId": "725aa6bb-9c00-46e3-81b2-2d7618656206"
      },
      "execution_count": 86,
      "outputs": [
        {
          "output_type": "stream",
          "name": "stdout",
          "text": [
            "total 782060\n",
            "drwxr-xr-x  1 root root      4096 Jan 11 17:02 \u001b[0m\u001b[01;34msample_data\u001b[0m/\n",
            "drwxr-xr-x 13 1000 1000      4096 Sep  9 02:08 \u001b[01;34mspark-3.5.0-bin-hadoop3\u001b[0m/\n",
            "-rw-r--r--  1 root root 400395283 Sep  9 02:10 spark-3.5.0-bin-hadoop3.tgz\n",
            "-rw-r--r--  1 root root 400395283 Sep  9 02:10 spark-3.5.0-bin-hadoop3.tgz.1\n",
            "-rw-r--r--  1 root root     26898 Jan 12 22:18 starbucks.csv\n"
          ]
        }
      ]
    },
    {
      "cell_type": "code",
      "source": [
        "# unzip it\n",
        "!tar xf spark-3.5.0-bin-hadoop3.tgz"
      ],
      "metadata": {
        "id": "cPorgUZ6rHG8"
      },
      "execution_count": 87,
      "outputs": []
    },
    {
      "cell_type": "code",
      "source": [
        "!pip install -q findspark"
      ],
      "metadata": {
        "id": "BAeG1w6qrYUG"
      },
      "execution_count": 88,
      "outputs": []
    },
    {
      "cell_type": "code",
      "source": [
        "import os\n",
        "os.environ[\"JAVA_HOME\"] = \"/usr/lib/jvm/java-8-openjdk-amd64\"\n",
        "os.environ[\"SPARK_HOME\"] = \"/content/spark-3.5.0-bin-hadoop3\"\n",
        "os.environ[\"PYSPARK_SUBMIT_ARGS\"] = \"--master local[*] pyspark-shell\""
      ],
      "metadata": {
        "id": "W38OY0hurZaw"
      },
      "execution_count": 89,
      "outputs": []
    },
    {
      "cell_type": "markdown",
      "source": [
        "Start Spark Session"
      ],
      "metadata": {
        "id": "nObNKEsCrgTn"
      }
    },
    {
      "cell_type": "code",
      "source": [
        "import findspark\n",
        "findspark.init(\"spark-3.5.0-bin-hadoop3\")# SPARK_HOME\n",
        "\n",
        "from pyspark.sql import SparkSession\n",
        "\n",
        "# create the session\n",
        "spark = SparkSession \\\n",
        "        .builder \\\n",
        "        .appName(\"Window Partitioning\") \\\n",
        "        .master(\"local[*]\") \\\n",
        "        .getOrCreate()\n",
        "\n",
        "spark.version"
      ],
      "metadata": {
        "colab": {
          "base_uri": "https://localhost:8080/",
          "height": 35
        },
        "id": "7Gm_LWS_rfmP",
        "outputId": "945a0f2d-c956-483c-96ca-d3f9eb4ab34f"
      },
      "execution_count": 90,
      "outputs": [
        {
          "output_type": "execute_result",
          "data": {
            "text/plain": [
              "'3.5.0'"
            ],
            "application/vnd.google.colaboratory.intrinsic+json": {
              "type": "string"
            }
          },
          "metadata": {},
          "execution_count": 90
        }
      ]
    },
    {
      "cell_type": "code",
      "source": [
        "spark"
      ],
      "metadata": {
        "colab": {
          "base_uri": "https://localhost:8080/",
          "height": 219
        },
        "id": "KFCKwzrgrcrT",
        "outputId": "34638e1a-0ad8-433e-bd63-f0fc67463a8d"
      },
      "execution_count": 91,
      "outputs": [
        {
          "output_type": "execute_result",
          "data": {
            "text/plain": [
              "<pyspark.sql.session.SparkSession at 0x7cb75827b190>"
            ],
            "text/html": [
              "\n",
              "            <div>\n",
              "                <p><b>SparkSession - in-memory</b></p>\n",
              "                \n",
              "        <div>\n",
              "            <p><b>SparkContext</b></p>\n",
              "\n",
              "            <p><a href=\"http://bfa5600980bd:4040\">Spark UI</a></p>\n",
              "\n",
              "            <dl>\n",
              "              <dt>Version</dt>\n",
              "                <dd><code>v3.5.0</code></dd>\n",
              "              <dt>Master</dt>\n",
              "                <dd><code>local[*]</code></dd>\n",
              "              <dt>AppName</dt>\n",
              "                <dd><code>Window Partitioning</code></dd>\n",
              "            </dl>\n",
              "        </div>\n",
              "        \n",
              "            </div>\n",
              "        "
            ]
          },
          "metadata": {},
          "execution_count": 91
        }
      ]
    },
    {
      "cell_type": "code",
      "source": [
        "# For Pandas conversion optimization\n",
        "spark.conf.set(\"spark.sql.execution.arrow.enabled\", \"true\")"
      ],
      "metadata": {
        "id": "8dfg-bNcrnSy"
      },
      "execution_count": 92,
      "outputs": []
    },
    {
      "cell_type": "code",
      "source": [
        "# Import sql functions\n",
        "from pyspark.sql.functions import *\n",
        "from pyspark.sql.window import Window\n",
        "from pyspark.sql.functions import col, row_number"
      ],
      "metadata": {
        "id": "q5gWzIbarpr5"
      },
      "execution_count": 93,
      "outputs": []
    },
    {
      "cell_type": "code",
      "source": [
        "starbucksDF = spark.read.option(\"header\", \"true\").csv(\"/content/starbucks.csv\")\n",
        "starbucksDF.show(30)\n"
      ],
      "metadata": {
        "colab": {
          "base_uri": "https://localhost:8080/"
        },
        "id": "qIYhn4mitNxH",
        "outputId": "d861bae3-33ec-4724-e9d3-744abd2939d6"
      },
      "execution_count": 94,
      "outputs": [
        {
          "output_type": "stream",
          "name": "stdout",
          "text": [
            "+--------------------+--------------------+------------------+--------+--------------+--------------+-----------------+------------+-------------------------+----------------+------------------+-----------+-------------+-----------------+----------------+----------------+------------+-------------+\n",
            "|   Beverage_category|            Beverage|     Beverage_prep|Calories| Total Fat (g)|Trans Fat (g) |Saturated Fat (g)| Sodium (mg)| Total Carbohydrates (g) |Cholesterol (mg)| Dietary Fibre (g)| Sugars (g)| Protein (g) |Vitamin A (% DV) |Vitamin C (% DV)| Calcium (% DV) |Iron (% DV) |Caffeine (mg)|\n",
            "+--------------------+--------------------+------------------+--------+--------------+--------------+-----------------+------------+-------------------------+----------------+------------------+-----------+-------------+-----------------+----------------+----------------+------------+-------------+\n",
            "|              Coffee|       Brewed Coffee|             Short|       3|           0.1|             0|                0|           0|                        5|               0|                 0|          0|          0.3|               0%|              0%|              0%|          0%|          175|\n",
            "|              Coffee|       Brewed Coffee|              Tall|       4|           0.1|             0|                0|           0|                       10|               0|                 0|          0|          0.5|               0%|              0%|              0%|          0%|          260|\n",
            "|              Coffee|       Brewed Coffee|            Grande|       5|           0.1|             0|                0|           0|                       10|               0|                 0|          0|            1|               0%|              0%|              0%|          0%|          330|\n",
            "|              Coffee|       Brewed Coffee|             Venti|       5|           0.1|             0|                0|           0|                       10|               0|                 0|          0|            1|               0%|              0%|              2%|          0%|          410|\n",
            "|Classic Espresso ...|         Caffè Latte| Short Nonfat Milk|      70|           0.1|           0.1|                0|           5|                       75|              10|                 0|          9|            6|              10%|              0%|             20%|          0%|           75|\n",
            "|Classic Espresso ...|         Caffè Latte|           2% Milk|     100|           3.5|             2|              0.1|          15|                       85|              10|                 0|          9|            6|              10%|              0%|             20%|          0%|           75|\n",
            "|Classic Espresso ...|         Caffè Latte|           Soymilk|      70|           2.5|           0.4|                0|           0|                       65|               6|                 1|          4|            5|               6%|              0%|             20%|          8%|           75|\n",
            "|Classic Espresso ...|         Caffè Latte|  Tall Nonfat Milk|     100|           0.2|           0.2|                0|           5|                      120|              15|                 0|         14|           10|              15%|              0%|             30%|          0%|           75|\n",
            "|Classic Espresso ...|         Caffè Latte|           2% Milk|     150|             6|             3|              0.2|          25|                      135|              15|                 0|         14|           10|              15%|              0%|             30%|          0%|           75|\n",
            "|Classic Espresso ...|         Caffè Latte|           Soymilk|     110|           4.5|           0.5|                0|           0|                      105|              10|                 1|          6|            8|              10%|              0%|             30%|         15%|           75|\n",
            "|Classic Espresso ...|         Caffè Latte|Grande Nonfat Milk|     130|           0.3|           0.2|                0|           5|                      150|              19|                 0|         18|           13|              20%|              0%|             40%|          0%|          150|\n",
            "|Classic Espresso ...|         Caffè Latte|           2% Milk|     190|             7|           3.5|              0.2|          30|                      170|              19|                 0|         17|           12|              20%|              2%|             40%|          0%|          150|\n",
            "|Classic Espresso ...|         Caffè Latte|           Soymilk|     150|             5|           0.5|                0|           0|                      130|              13|                 1|          8|           10|              15%|              0%|             40%|         15%|          150|\n",
            "|Classic Espresso ...|         Caffè Latte| Venti Nonfat Milk|     170|           0.4|           0.3|                0|          10|                      190|              25|                 0|         23|           16|              30%|              0%|             50%|          0%|          150|\n",
            "|Classic Espresso ...|         Caffè Latte|           2% Milk|     240|             9|           4.5|              0.3|          35|                      220|              24|                 0|         22|           16|              25%|              2%|             50%|          0%|          150|\n",
            "|Classic Espresso ...|         Caffè Latte|           Soymilk|     190|             7|             1|                0|           0|                      170|              16|                 2|         11|           13|              20%|              0%|             50%|         25%|          150|\n",
            "|Classic Espresso ...|Caffè Mocha (With...| Short Nonfat Milk|     110|           1.5|             1|                0|           5|                       60|              21|                 1|         17|            7|               8%|              0%|             15%|         10%|           85|\n",
            "|Classic Espresso ...|Caffè Mocha (With...|           2% Milk|     130|             4|             2|              0.1|          10|                       70|              21|                 1|         17|            6|               8%|              0%|             15%|         10%|           85|\n",
            "|Classic Espresso ...|Caffè Mocha (With...|           Soymilk|     110|           3.5|             1|                0|           0|                       55|              19|                 2|         13|            6|               6%|              0%|             15%|         20%|           85|\n",
            "|Classic Espresso ...|Caffè Mocha (With...|  Tall Nonfat Milk|     170|             2|             1|                0|           5|                      100|              32|                 1|         27|           10|              15%|              0%|             25%|         20%|           95|\n",
            "|Classic Espresso ...|Caffè Mocha (With...|           2% Milk|     200|             6|           3.5|              0.1|          20|                      115|              32|                 1|         26|           10|              15%|              0%|             25%|         20%|           95|\n",
            "|Classic Espresso ...|Caffè Mocha (With...|           Soymilk|     180|             5|           1.5|                0|           0|                       85|              28|                 2|         20|            9|              10%|              0%|             25%|         30%|           95|\n",
            "|Classic Espresso ...|Caffè Mocha (With...|Grande Nonfat Milk|     220|           2.5|           1.5|                0|           5|                      125|              43|                 2|         34|           13|              20%|              0%|             35%|         25%|          175|\n",
            "|Classic Espresso ...|Caffè Mocha (With...|           2% Milk|     260|             8|           4.5|              0.2|          25|                      140|              42|                 2|         34|           13|              15%|              2%|             35%|         25%|          175|\n",
            "|Classic Espresso ...|Caffè Mocha (With...|           Soymilk|     230|             7|             2|                0|           0|                      105|              37|                 3|         26|           11|              10%|              0%|             35%|         40%|          175|\n",
            "|Classic Espresso ...|Caffè Mocha (With...| Venti Nonfat Milk|     280|             3|             2|                0|          10|                      160|              54|                 2|         44|           17|              25%|              0%|             45%|         30%|          180|\n",
            "|Classic Espresso ...|Caffè Mocha (With...|           2% Milk|     340|            11|             6|              0.2|          30|                      180|              53|                 2|         43|           17|              20%|              2%|             45%|         30%|          180|\n",
            "|Classic Espresso ...|Caffè Mocha (With...|           Soymilk|     290|             9|           2.5|                0|           0|                      140|              47|                 4|         33|           14|              15%|              0%|             45%|         50%|          180|\n",
            "|Classic Espresso ...|Vanilla Latte (Or...| Short Nonfat Milk|     100|           0.1|           0.1|                0|           5|                       70|              19|                 0|         18|            6|              10%|              0%|             20%|          0%|           75|\n",
            "|Classic Espresso ...|Vanilla Latte (Or...|           2% Milk|     130|           3.5|           1.5|              0.1|          15|                       80|              18|                 0|         17|            6|              10%|              0%|             20%|          0%|           75|\n",
            "+--------------------+--------------------+------------------+--------+--------------+--------------+-----------------+------------+-------------------------+----------------+------------------+-----------+-------------+-----------------+----------------+----------------+------------+-------------+\n",
            "only showing top 30 rows\n",
            "\n"
          ]
        }
      ]
    },
    {
      "cell_type": "code",
      "source": [
        "starbucksDF.printSchema()"
      ],
      "metadata": {
        "colab": {
          "base_uri": "https://localhost:8080/"
        },
        "id": "CAMwe40duCv5",
        "outputId": "ac5d7e2a-7c12-4307-d86b-60803374d9c9"
      },
      "execution_count": 95,
      "outputs": [
        {
          "output_type": "stream",
          "name": "stdout",
          "text": [
            "root\n",
            " |-- Beverage_category: string (nullable = true)\n",
            " |-- Beverage: string (nullable = true)\n",
            " |-- Beverage_prep: string (nullable = true)\n",
            " |-- Calories: string (nullable = true)\n",
            " |--  Total Fat (g): string (nullable = true)\n",
            " |-- Trans Fat (g) : string (nullable = true)\n",
            " |-- Saturated Fat (g): string (nullable = true)\n",
            " |--  Sodium (mg): string (nullable = true)\n",
            " |--  Total Carbohydrates (g) : string (nullable = true)\n",
            " |-- Cholesterol (mg): string (nullable = true)\n",
            " |--  Dietary Fibre (g): string (nullable = true)\n",
            " |--  Sugars (g): string (nullable = true)\n",
            " |--  Protein (g) : string (nullable = true)\n",
            " |-- Vitamin A (% DV) : string (nullable = true)\n",
            " |-- Vitamin C (% DV): string (nullable = true)\n",
            " |--  Calcium (% DV) : string (nullable = true)\n",
            " |-- Iron (% DV) : string (nullable = true)\n",
            " |-- Caffeine (mg): string (nullable = true)\n",
            "\n"
          ]
        }
      ]
    },
    {
      "cell_type": "code",
      "source": [
        "starbucksDF.count()"
      ],
      "metadata": {
        "colab": {
          "base_uri": "https://localhost:8080/"
        },
        "id": "zl8Vy0EwuSKx",
        "outputId": "160068ca-f8fa-4756-c534-448d20eb9091"
      },
      "execution_count": 96,
      "outputs": [
        {
          "output_type": "execute_result",
          "data": {
            "text/plain": [
              "242"
            ]
          },
          "metadata": {},
          "execution_count": 96
        }
      ]
    },
    {
      "cell_type": "code",
      "source": [
        "#Cuantas bebidas hay por categoria de bebida\n",
        "bebidasDF = starbucksDF.groupBy(\"Beverage_category\").agg(count(\"Beverage\"))\n",
        "bebidasDF.show()"
      ],
      "metadata": {
        "colab": {
          "base_uri": "https://localhost:8080/"
        },
        "id": "ssBO1cs5uqiK",
        "outputId": "a89ab5e1-accc-40d8-a28a-9c6224bf8d8c"
      },
      "execution_count": 97,
      "outputs": [
        {
          "output_type": "stream",
          "name": "stdout",
          "text": [
            "+--------------------+---------------+\n",
            "|   Beverage_category|count(Beverage)|\n",
            "+--------------------+---------------+\n",
            "|           Smoothies|              9|\n",
            "|Frappuccino® Blen...|             13|\n",
            "|Frappuccino® Ligh...|             12|\n",
            "|Frappuccino® Blen...|             36|\n",
            "|    Tazo® Tea Drinks|             52|\n",
            "|              Coffee|              4|\n",
            "|Shaken Iced Bever...|             18|\n",
            "|Signature Espress...|             40|\n",
            "|Classic Espresso ...|             58|\n",
            "+--------------------+---------------+\n",
            "\n"
          ]
        }
      ]
    },
    {
      "cell_type": "code",
      "source": [
        "#Cuantas preparaciones de bebidas hay por bebidas\n",
        "preparacionDF = starbucksDF.groupBy(\"Beverage\").agg(countDistinct(\"Beverage_prep\"))\n",
        "preparacionDF.show()"
      ],
      "metadata": {
        "colab": {
          "base_uri": "https://localhost:8080/"
        },
        "id": "IKWVPVX81eR0",
        "outputId": "930f9584-979c-4a4f-ac9a-4bd6ebc46f71"
      },
      "execution_count": 98,
      "outputs": [
        {
          "output_type": "stream",
          "name": "stdout",
          "text": [
            "+--------------------+-----------------------------+\n",
            "|            Beverage|count(DISTINCT Beverage_prep)|\n",
            "+--------------------+-----------------------------+\n",
            "|         Caffè Latte|                            6|\n",
            "|   Caramel Macchiato|                            6|\n",
            "|       Brewed Coffee|                            4|\n",
            "|            Espresso|                            2|\n",
            "|Mocha (Without Wh...|                            5|\n",
            "|Caffè Mocha (With...|                            6|\n",
            "|             Caramel|                            3|\n",
            "|Iced Brewed Coffe...|                            5|\n",
            "|     Caffè Americano|                            4|\n",
            "|Shaken Iced Tazo®...|                            3|\n",
            "|Tazo® Full-Leaf R...|                            6|\n",
            "|               Mocha|                            3|\n",
            "|Java Chip (Withou...|                            5|\n",
            "|Strawberries & Cr...|                            5|\n",
            "|Vanilla Bean (Wit...|                            4|\n",
            "|Tazo® Green Tea L...|                            6|\n",
            "|              Coffee|                            5|\n",
            "|Hot Chocolate (Wi...|                            6|\n",
            "|           Java Chip|                            3|\n",
            "|Tazo® Chai Tea Latte|                            6|\n",
            "+--------------------+-----------------------------+\n",
            "only showing top 20 rows\n",
            "\n"
          ]
        }
      ]
    },
    {
      "cell_type": "code",
      "source": [
        "# Cuantas calorias promedio tienen las bebidas\n",
        "caloriasDF = starbucksDF.groupBy(\"Beverage\").agg(round(avg(\"Calories\"),2).alias(\"Calorias promedio\"))\n",
        "caloriasDF.show()"
      ],
      "metadata": {
        "colab": {
          "base_uri": "https://localhost:8080/"
        },
        "id": "nA01okye4qJ8",
        "outputId": "9777b4d1-83ad-42b7-8977-e8dcc8f1bab0"
      },
      "execution_count": 99,
      "outputs": [
        {
          "output_type": "stream",
          "name": "stdout",
          "text": [
            "+--------------------+-----------------+\n",
            "|            Beverage|Calorias promedio|\n",
            "+--------------------+-----------------+\n",
            "|         Caffè Latte|           139.17|\n",
            "|   Caramel Macchiato|           184.17|\n",
            "|       Brewed Coffee|             4.25|\n",
            "|            Espresso|              7.5|\n",
            "|Mocha (Without Wh...|           272.22|\n",
            "|Caffè Mocha (With...|            210.0|\n",
            "|             Caramel|            150.0|\n",
            "|Iced Brewed Coffe...|           122.22|\n",
            "|     Caffè Americano|            13.75|\n",
            "|Shaken Iced Tazo®...|            140.0|\n",
            "|Tazo® Full-Leaf R...|           148.33|\n",
            "|               Mocha|           156.67|\n",
            "|Java Chip (Withou...|           327.78|\n",
            "|Strawberries & Cr...|           248.89|\n",
            "|Vanilla Bean (Wit...|            197.5|\n",
            "|Tazo® Green Tea L...|            275.0|\n",
            "|              Coffee|            210.0|\n",
            "|Hot Chocolate (Wi...|           236.67|\n",
            "|           Java Chip|            220.0|\n",
            "|Tazo® Chai Tea Latte|           196.67|\n",
            "+--------------------+-----------------+\n",
            "only showing top 20 rows\n",
            "\n"
          ]
        }
      ]
    },
    {
      "cell_type": "code",
      "source": [
        "#Cual es la cantidad maxima y minima de las bebidas\n",
        "bmascaloriasDF = starbucksDF.agg(max(\"Calories\").alias(\"Calorias maximas\"),min(\"Calories\").alias(\"Calorias minimas\"))\n",
        "bmascaloriasDF.show()"
      ],
      "metadata": {
        "colab": {
          "base_uri": "https://localhost:8080/"
        },
        "id": "V2YWYhT247Ps",
        "outputId": "1b31a018-87d1-4fd6-bded-c2707dc13f33"
      },
      "execution_count": 100,
      "outputs": [
        {
          "output_type": "stream",
          "name": "stdout",
          "text": [
            "+----------------+----------------+\n",
            "|Calorias maximas|Calorias minimas|\n",
            "+----------------+----------------+\n",
            "|              90|               0|\n",
            "+----------------+----------------+\n",
            "\n"
          ]
        }
      ]
    },
    {
      "cell_type": "code",
      "source": [
        "#Cual es la suma total de carbohidratos y grasas\n",
        "totalDF2 = starbucksDF.select(col(\"Beverage\"), col(\"Beverage_prep\"), col(\" Total Fat (g)\"), col(\" Total Carbohydrates (g) \")).withColumn(\"Total\", col(\" Total Fat (g)\")+ col(\" Total Carbohydrates (g) \"))\n",
        "totalDF2.show()\n"
      ],
      "metadata": {
        "colab": {
          "base_uri": "https://localhost:8080/"
        },
        "id": "_LcoFnHG-u90",
        "outputId": "03c06c47-6d11-4863-c530-d58c6442b0dd"
      },
      "execution_count": 116,
      "outputs": [
        {
          "output_type": "stream",
          "name": "stdout",
          "text": [
            "+--------------------+------------------+--------------+-------------------------+-----+\n",
            "|            Beverage|     Beverage_prep| Total Fat (g)| Total Carbohydrates (g) |Total|\n",
            "+--------------------+------------------+--------------+-------------------------+-----+\n",
            "|       Brewed Coffee|             Short|           0.1|                        5|  5.1|\n",
            "|       Brewed Coffee|              Tall|           0.1|                       10| 10.1|\n",
            "|       Brewed Coffee|            Grande|           0.1|                       10| 10.1|\n",
            "|       Brewed Coffee|             Venti|           0.1|                       10| 10.1|\n",
            "|         Caffè Latte| Short Nonfat Milk|           0.1|                       75| 75.1|\n",
            "|         Caffè Latte|           2% Milk|           3.5|                       85| 88.5|\n",
            "|         Caffè Latte|           Soymilk|           2.5|                       65| 67.5|\n",
            "|         Caffè Latte|  Tall Nonfat Milk|           0.2|                      120|120.2|\n",
            "|         Caffè Latte|           2% Milk|             6|                      135|141.0|\n",
            "|         Caffè Latte|           Soymilk|           4.5|                      105|109.5|\n",
            "|         Caffè Latte|Grande Nonfat Milk|           0.3|                      150|150.3|\n",
            "|         Caffè Latte|           2% Milk|             7|                      170|177.0|\n",
            "|         Caffè Latte|           Soymilk|             5|                      130|135.0|\n",
            "|         Caffè Latte| Venti Nonfat Milk|           0.4|                      190|190.4|\n",
            "|         Caffè Latte|           2% Milk|             9|                      220|229.0|\n",
            "|         Caffè Latte|           Soymilk|             7|                      170|177.0|\n",
            "|Caffè Mocha (With...| Short Nonfat Milk|           1.5|                       60| 61.5|\n",
            "|Caffè Mocha (With...|           2% Milk|             4|                       70| 74.0|\n",
            "|Caffè Mocha (With...|           Soymilk|           3.5|                       55| 58.5|\n",
            "|Caffè Mocha (With...|  Tall Nonfat Milk|             2|                      100|102.0|\n",
            "+--------------------+------------------+--------------+-------------------------+-----+\n",
            "only showing top 20 rows\n",
            "\n"
          ]
        }
      ]
    },
    {
      "cell_type": "code",
      "source": [
        "#Seleccionar las cuatro bebidas que mas tienen por azucar y cafeina"
      ],
      "metadata": {
        "id": "VXn3mDGEHBoZ"
      },
      "execution_count": 102,
      "outputs": []
    },
    {
      "cell_type": "code",
      "source": [
        "azucar = Window.partitionBy(\"Beverage\").orderBy(col(\" Sugars (g)\").desc())\n",
        "azucarDF = starbucksDF.withColumn(\"rank_azucar\", row_number().over(azucar)).filter(col(\"rank_azucar\")<=4)\n",
        "azucarDF.show(20)\n",
        "\n",
        "cafeina = Window.partitionBy(\"Beverage\").orderBy(col(\"Caffeine (mg)\").desc())\n",
        "cafeinaDF = starbucksDF.withColumn(\"rank_cafeina\", row_number().over(cafeina)).filter(col(\"rank_cafeina\")<=4)\n",
        "cafeinaDF.show(20)\n",
        "\n",
        "\n"
      ],
      "metadata": {
        "colab": {
          "base_uri": "https://localhost:8080/"
        },
        "id": "FHvnnHDqIa23",
        "outputId": "a1732c5c-f9e4-4566-d907-13f33b77b113"
      },
      "execution_count": 113,
      "outputs": [
        {
          "output_type": "stream",
          "name": "stdout",
          "text": [
            "+--------------------+--------------------+------------------+--------+--------------+--------------+-----------------+------------+-------------------------+----------------+------------------+-----------+-------------+-----------------+----------------+----------------+------------+-------------+-----------+\n",
            "|   Beverage_category|            Beverage|     Beverage_prep|Calories| Total Fat (g)|Trans Fat (g) |Saturated Fat (g)| Sodium (mg)| Total Carbohydrates (g) |Cholesterol (mg)| Dietary Fibre (g)| Sugars (g)| Protein (g) |Vitamin A (% DV) |Vitamin C (% DV)| Calcium (% DV) |Iron (% DV) |Caffeine (mg)|rank_azucar|\n",
            "+--------------------+--------------------+------------------+--------+--------------+--------------+-----------------+------------+-------------------------+----------------+------------------+-----------+-------------+-----------------+----------------+----------------+------------+-------------+-----------+\n",
            "|           Smoothies|Banana Chocolate ...|Grande Nonfat Milk|     280|           2.5|           1.5|                0|           5|                      150|              53|                 7|         34|           20|              10%|             15%|             20%|          0%|       Varies|          1|\n",
            "|           Smoothies|Banana Chocolate ...|           2% Milk|     300|             5|           2.5|              0.1|          15|                      160|              53|                 7|         34|           20|               8%|             15%|             20%|         20%|           15|          2|\n",
            "|           Smoothies|Banana Chocolate ...|           Soymilk|     290|           4.5|           1.5|                0|           5|                      150|              51|                 7|         31|           19|               6%|             15%|             20%|         20%|           15|          3|\n",
            "|              Coffee|       Brewed Coffee|             Short|       3|           0.1|             0|                0|           0|                        5|               0|                 0|          0|          0.3|               0%|              0%|              0%|          0%|          175|          1|\n",
            "|              Coffee|       Brewed Coffee|              Tall|       4|           0.1|             0|                0|           0|                       10|               0|                 0|          0|          0.5|               0%|              0%|              0%|          0%|          260|          2|\n",
            "|              Coffee|       Brewed Coffee|            Grande|       5|           0.1|             0|                0|           0|                       10|               0|                 0|          0|            1|               0%|              0%|              0%|          0%|          330|          3|\n",
            "|              Coffee|       Brewed Coffee|             Venti|       5|           0.1|             0|                0|           0|                       10|               0|                 0|          0|            1|               0%|              0%|              2%|          0%|          410|          4|\n",
            "|Classic Espresso ...|     Caffè Americano|             Short|       5|             0|             0|                0|           0|                        5|               1|                 0|          0|          0.4|               0%|              0%|              0%|          0%|           75|          1|\n",
            "|Classic Espresso ...|     Caffè Americano|              Tall|      10|             0|             0|                0|           0|                       10|               2|                 0|          0|            1|               0%|              0%|              2%|          0%|          150|          2|\n",
            "|Classic Espresso ...|     Caffè Americano|            Grande|      15|             0|             0|                0|           0|                       15|               3|                 0|          0|            1|               0%|              0%|              2%|          0%|          225|          3|\n",
            "|Classic Espresso ...|     Caffè Americano|             Venti|      25|             0|             0|                0|           0|                       15|               4|                 0|          0|            1|               0%|              0%|              2%|          0%|          300|          4|\n",
            "|Classic Espresso ...|         Caffè Latte| Short Nonfat Milk|      70|           0.1|           0.1|                0|           5|                       75|              10|                 0|          9|            6|              10%|              0%|             20%|          0%|           75|          1|\n",
            "|Classic Espresso ...|         Caffè Latte|           2% Milk|     100|           3.5|             2|              0.1|          15|                       85|              10|                 0|          9|            6|              10%|              0%|             20%|          0%|           75|          2|\n",
            "|Classic Espresso ...|         Caffè Latte|           Soymilk|     150|             5|           0.5|                0|           0|                      130|              13|                 1|          8|           10|              15%|              0%|             40%|         15%|          150|          3|\n",
            "|Classic Espresso ...|         Caffè Latte|           Soymilk|     110|           4.5|           0.5|                0|           0|                      105|              10|                 1|          6|            8|              10%|              0%|             30%|         15%|           75|          4|\n",
            "|Classic Espresso ...|Caffè Mocha (With...| Venti Nonfat Milk|     280|             3|             2|                0|          10|                      160|              54|                 2|         44|           17|              25%|              0%|             45%|         30%|          180|          1|\n",
            "|Classic Espresso ...|Caffè Mocha (With...|           2% Milk|     340|            11|             6|              0.2|          30|                      180|              53|                 2|         43|           17|              20%|              2%|             45%|         30%|          180|          2|\n",
            "|Classic Espresso ...|Caffè Mocha (With...|Grande Nonfat Milk|     220|           2.5|           1.5|                0|           5|                      125|              43|                 2|         34|           13|              20%|              0%|             35%|         25%|          175|          3|\n",
            "|Classic Espresso ...|Caffè Mocha (With...|           2% Milk|     260|             8|           4.5|              0.2|          25|                      140|              42|                 2|         34|           13|              15%|              2%|             35%|         25%|          175|          4|\n",
            "|Classic Espresso ...|          Cappuccino|  Tall Nonfat Milk|      60|           0.1|           0.1|                0|           5|                       70|               9|                 0|          8|            6|              10%|              0%|             20%|          0%|           75|          1|\n",
            "+--------------------+--------------------+------------------+--------+--------------+--------------+-----------------+------------+-------------------------+----------------+------------------+-----------+-------------+-----------------+----------------+----------------+------------+-------------+-----------+\n",
            "only showing top 20 rows\n",
            "\n",
            "+--------------------+--------------------+------------------+--------+--------------+--------------+-----------------+------------+-------------------------+----------------+------------------+-----------+-------------+-----------------+----------------+----------------+------------+-------------+------------+\n",
            "|   Beverage_category|            Beverage|     Beverage_prep|Calories| Total Fat (g)|Trans Fat (g) |Saturated Fat (g)| Sodium (mg)| Total Carbohydrates (g) |Cholesterol (mg)| Dietary Fibre (g)| Sugars (g)| Protein (g) |Vitamin A (% DV) |Vitamin C (% DV)| Calcium (% DV) |Iron (% DV) |Caffeine (mg)|rank_cafeina|\n",
            "+--------------------+--------------------+------------------+--------+--------------+--------------+-----------------+------------+-------------------------+----------------+------------------+-----------+-------------+-----------------+----------------+----------------+------------+-------------+------------+\n",
            "|           Smoothies|Banana Chocolate ...|Grande Nonfat Milk|     280|           2.5|           1.5|                0|           5|                      150|              53|                 7|         34|           20|              10%|             15%|             20%|          0%|       Varies|           1|\n",
            "|           Smoothies|Banana Chocolate ...|           2% Milk|     300|             5|           2.5|              0.1|          15|                      160|              53|                 7|         34|           20|               8%|             15%|             20%|         20%|           15|           2|\n",
            "|           Smoothies|Banana Chocolate ...|           Soymilk|     290|           4.5|           1.5|                0|           5|                      150|              51|                 7|         31|           19|               6%|             15%|             20%|         20%|           15|           3|\n",
            "|              Coffee|       Brewed Coffee|             Venti|       5|           0.1|             0|                0|           0|                       10|               0|                 0|          0|            1|               0%|              0%|              2%|          0%|          410|           1|\n",
            "|              Coffee|       Brewed Coffee|            Grande|       5|           0.1|             0|                0|           0|                       10|               0|                 0|          0|            1|               0%|              0%|              0%|          0%|          330|           2|\n",
            "|              Coffee|       Brewed Coffee|              Tall|       4|           0.1|             0|                0|           0|                       10|               0|                 0|          0|          0.5|               0%|              0%|              0%|          0%|          260|           3|\n",
            "|              Coffee|       Brewed Coffee|             Short|       3|           0.1|             0|                0|           0|                        5|               0|                 0|          0|          0.3|               0%|              0%|              0%|          0%|          175|           4|\n",
            "|Classic Espresso ...|     Caffè Americano|             Short|       5|             0|             0|                0|           0|                        5|               1|                 0|          0|          0.4|               0%|              0%|              0%|          0%|           75|           1|\n",
            "|Classic Espresso ...|     Caffè Americano|             Venti|      25|             0|             0|                0|           0|                       15|               4|                 0|          0|            1|               0%|              0%|              2%|          0%|          300|           2|\n",
            "|Classic Espresso ...|     Caffè Americano|            Grande|      15|             0|             0|                0|           0|                       15|               3|                 0|          0|            1|               0%|              0%|              2%|          0%|          225|           3|\n",
            "|Classic Espresso ...|     Caffè Americano|              Tall|      10|             0|             0|                0|           0|                       10|               2|                 0|          0|            1|               0%|              0%|              2%|          0%|          150|           4|\n",
            "|Classic Espresso ...|         Caffè Latte| Short Nonfat Milk|      70|           0.1|           0.1|                0|           5|                       75|              10|                 0|          9|            6|              10%|              0%|             20%|          0%|           75|           1|\n",
            "|Classic Espresso ...|         Caffè Latte|           2% Milk|     100|           3.5|             2|              0.1|          15|                       85|              10|                 0|          9|            6|              10%|              0%|             20%|          0%|           75|           2|\n",
            "|Classic Espresso ...|         Caffè Latte|           Soymilk|      70|           2.5|           0.4|                0|           0|                       65|               6|                 1|          4|            5|               6%|              0%|             20%|          8%|           75|           3|\n",
            "|Classic Espresso ...|         Caffè Latte|  Tall Nonfat Milk|     100|           0.2|           0.2|                0|           5|                      120|              15|                 0|         14|           10|              15%|              0%|             30%|          0%|           75|           4|\n",
            "|Classic Espresso ...|Caffè Mocha (With...|  Tall Nonfat Milk|     170|             2|             1|                0|           5|                      100|              32|                 1|         27|           10|              15%|              0%|             25%|         20%|           95|           1|\n",
            "|Classic Espresso ...|Caffè Mocha (With...|           2% Milk|     200|             6|           3.5|              0.1|          20|                      115|              32|                 1|         26|           10|              15%|              0%|             25%|         20%|           95|           2|\n",
            "|Classic Espresso ...|Caffè Mocha (With...|           Soymilk|     180|             5|           1.5|                0|           0|                       85|              28|                 2|         20|            9|              10%|              0%|             25%|         30%|           95|           3|\n",
            "|Classic Espresso ...|Caffè Mocha (With...| Short Nonfat Milk|     110|           1.5|             1|                0|           5|                       60|              21|                 1|         17|            7|               8%|              0%|             15%|         10%|           85|           4|\n",
            "|Classic Espresso ...|          Cappuccino| Short Nonfat Milk|      50|           0.1|           0.1|                0|           5|                       60|               8|                 0|          7|            5|               8%|              0%|             15%|          0%|           75|           1|\n",
            "+--------------------+--------------------+------------------+--------+--------------+--------------+-----------------+------------+-------------------------+----------------+------------------+-----------+-------------+-----------------+----------------+----------------+------------+-------------+------------+\n",
            "only showing top 20 rows\n",
            "\n"
          ]
        }
      ]
    }
  ]
}