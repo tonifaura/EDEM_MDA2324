{
  "cells": [
    {
      "cell_type": "markdown",
      "metadata": {
        "id": "u3WKxUMvQ9JW"
      },
      "source": [
        "# DataFrames Basics"
      ]
    },
    {
      "cell_type": "markdown",
      "metadata": {
        "id": "IBsRl4yARA3x"
      },
      "source": [
        "## Prerrequisites"
      ]
    },
    {
      "cell_type": "markdown",
      "metadata": {
        "id": "0KID1ObYRDA4"
      },
      "source": [
        "Install Spark and Java in VM"
      ]
    },
    {
      "cell_type": "code",
      "execution_count": null,
      "metadata": {
        "id": "-9EjQzqhRJSZ"
      },
      "outputs": [],
      "source": [
        "# install Java8\n",
        "!apt-get install openjdk-8-jdk-headless -qq > /dev/null\n",
        "# download spark 3.5.0\n",
        "!wget -q https://apache.osuosl.org/spark/spark-3.5.0/spark-3.5.0-bin-hadoop3.tgz"
      ]
    },
    {
      "cell_type": "code",
      "execution_count": null,
      "metadata": {
        "id": "E4s6wcUsSPHQ",
        "colab": {
          "base_uri": "https://localhost:8080/"
        },
        "outputId": "801b11d3-41f2-454c-f039-2c89b7c1053e"
      },
      "outputs": [
        {
          "output_type": "stream",
          "name": "stdout",
          "text": [
            "total 391016\n",
            "drwxr-xr-x 1 root root      4096 Jan 10 14:23 \u001b[0m\u001b[01;34msample_data\u001b[0m/\n",
            "-rw-r--r-- 1 root root 400395283 Sep  9 02:10 spark-3.5.0-bin-hadoop3.tgz\n"
          ]
        }
      ],
      "source": [
        "ls -l # check the .tgz is there"
      ]
    },
    {
      "cell_type": "code",
      "execution_count": null,
      "metadata": {
        "id": "hSA_T2q7SEt_"
      },
      "outputs": [],
      "source": [
        "# unzip it\n",
        "!tar xf spark-3.5.0-bin-hadoop3.tgz"
      ]
    },
    {
      "cell_type": "code",
      "execution_count": null,
      "metadata": {
        "id": "HpKEfJTeii2Y"
      },
      "outputs": [],
      "source": [
        "!pip install -q findspark"
      ]
    },
    {
      "cell_type": "code",
      "execution_count": null,
      "metadata": {
        "id": "zwH-zC17SGnP",
        "colab": {
          "base_uri": "https://localhost:8080/"
        },
        "outputId": "0cd757af-be59-468d-b88d-b75915be9671"
      },
      "outputs": [
        {
          "output_type": "stream",
          "name": "stdout",
          "text": [
            "Requirement already satisfied: py4j in /usr/local/lib/python3.10/dist-packages (0.10.9.7)\n",
            "Requirement already satisfied: folium in /usr/local/lib/python3.10/dist-packages (0.14.0)\n",
            "Requirement already satisfied: branca>=0.6.0 in /usr/local/lib/python3.10/dist-packages (from folium) (0.7.0)\n",
            "Requirement already satisfied: jinja2>=2.9 in /usr/local/lib/python3.10/dist-packages (from folium) (3.1.2)\n",
            "Requirement already satisfied: numpy in /usr/local/lib/python3.10/dist-packages (from folium) (1.23.5)\n",
            "Requirement already satisfied: requests in /usr/local/lib/python3.10/dist-packages (from folium) (2.31.0)\n",
            "Requirement already satisfied: MarkupSafe>=2.0 in /usr/local/lib/python3.10/dist-packages (from jinja2>=2.9->folium) (2.1.3)\n",
            "Requirement already satisfied: charset-normalizer<4,>=2 in /usr/local/lib/python3.10/dist-packages (from requests->folium) (3.3.2)\n",
            "Requirement already satisfied: idna<4,>=2.5 in /usr/local/lib/python3.10/dist-packages (from requests->folium) (3.6)\n",
            "Requirement already satisfied: urllib3<3,>=1.21.1 in /usr/local/lib/python3.10/dist-packages (from requests->folium) (2.0.7)\n",
            "Requirement already satisfied: certifi>=2017.4.17 in /usr/local/lib/python3.10/dist-packages (from requests->folium) (2023.11.17)\n",
            "Requirement already satisfied: plotly in /usr/local/lib/python3.10/dist-packages (5.15.0)\n",
            "Requirement already satisfied: tenacity>=6.2.0 in /usr/local/lib/python3.10/dist-packages (from plotly) (8.2.3)\n",
            "Requirement already satisfied: packaging in /usr/local/lib/python3.10/dist-packages (from plotly) (23.2)\n"
          ]
        }
      ],
      "source": [
        "\n",
        "!pip install py4j\n",
        "\n",
        "# For maps\n",
        "!pip install folium\n",
        "!pip install plotly"
      ]
    },
    {
      "cell_type": "markdown",
      "metadata": {
        "id": "y1tk452JRjuY"
      },
      "source": [
        "Define the environment"
      ]
    },
    {
      "cell_type": "code",
      "execution_count": null,
      "metadata": {
        "id": "vrMxCiuZRl7h"
      },
      "outputs": [],
      "source": [
        "import os\n",
        "os.environ[\"JAVA_HOME\"] = \"/usr/lib/jvm/java-8-openjdk-amd64\"\n",
        "os.environ[\"SPARK_HOME\"] = \"/content/spark-3.5.0-bin-hadoop3\"\n",
        "os.environ[\"PYSPARK_SUBMIT_ARGS\"] = \"--master local[*] pyspark-shell\""
      ]
    },
    {
      "cell_type": "markdown",
      "metadata": {
        "id": "vk_3rL02Q9JZ"
      },
      "source": [
        "Start Spark Session\n",
        "\n",
        "---"
      ]
    },
    {
      "cell_type": "code",
      "execution_count": null,
      "metadata": {
        "id": "-HtQz6mfQ9JZ",
        "colab": {
          "base_uri": "https://localhost:8080/",
          "height": 35
        },
        "outputId": "17be0a86-8773-422e-a98c-a2bd6b382ec8"
      },
      "outputs": [
        {
          "output_type": "execute_result",
          "data": {
            "text/plain": [
              "'3.5.0'"
            ],
            "application/vnd.google.colaboratory.intrinsic+json": {
              "type": "string"
            }
          },
          "metadata": {},
          "execution_count": 7
        }
      ],
      "source": [
        "import findspark\n",
        "findspark.init(\"spark-3.5.0-bin-hadoop3\")# SPARK_HOME\n",
        "\n",
        "from pyspark.sql import SparkSession\n",
        "\n",
        "# create the session\n",
        "spark = SparkSession \\\n",
        "        .builder \\\n",
        "        .appName(\"DataFrames Basics\") \\\n",
        "        .master(\"local[*]\") \\\n",
        "        .getOrCreate()\n",
        "\n",
        "spark.version"
      ]
    },
    {
      "cell_type": "code",
      "execution_count": null,
      "metadata": {
        "id": "DrOjmfL9Q9Ja",
        "colab": {
          "base_uri": "https://localhost:8080/",
          "height": 219
        },
        "outputId": "24811449-1887-4ddd-dbed-67cece013684"
      },
      "outputs": [
        {
          "output_type": "execute_result",
          "data": {
            "text/plain": [
              "<pyspark.sql.session.SparkSession at 0x7e7488d06e00>"
            ],
            "text/html": [
              "\n",
              "            <div>\n",
              "                <p><b>SparkSession - in-memory</b></p>\n",
              "                \n",
              "        <div>\n",
              "            <p><b>SparkContext</b></p>\n",
              "\n",
              "            <p><a href=\"http://1ee12654bd59:4040\">Spark UI</a></p>\n",
              "\n",
              "            <dl>\n",
              "              <dt>Version</dt>\n",
              "                <dd><code>v3.5.0</code></dd>\n",
              "              <dt>Master</dt>\n",
              "                <dd><code>local[*]</code></dd>\n",
              "              <dt>AppName</dt>\n",
              "                <dd><code>DataFrames Basics</code></dd>\n",
              "            </dl>\n",
              "        </div>\n",
              "        \n",
              "            </div>\n",
              "        "
            ]
          },
          "metadata": {},
          "execution_count": 8
        }
      ],
      "source": [
        "spark"
      ]
    },
    {
      "cell_type": "code",
      "execution_count": null,
      "metadata": {
        "id": "IBZ8ufPAQ9Jb"
      },
      "outputs": [],
      "source": [
        "# For Pandas conversion optimization\n",
        "spark.conf.set(\"spark.sql.execution.arrow.enabled\", \"true\")"
      ]
    },
    {
      "cell_type": "code",
      "execution_count": null,
      "metadata": {
        "id": "nJ-cdrAlQ9Jb"
      },
      "outputs": [],
      "source": [
        "# Import sql functions\n",
        "from pyspark.sql.functions import *"
      ]
    },
    {
      "cell_type": "markdown",
      "metadata": {
        "id": "AIP7U3YYTDbw"
      },
      "source": [
        "Download datasets"
      ]
    },
    {
      "cell_type": "code",
      "execution_count": null,
      "metadata": {
        "id": "d63cazZLTKTv",
        "colab": {
          "base_uri": "https://localhost:8080/"
        },
        "outputId": "75dafddd-b898-46e8-da93-c2de3ee7ebf5"
      },
      "outputs": [
        {
          "output_type": "stream",
          "name": "stdout",
          "text": [
            "bank.csv  cars.json  movies.json  vehicles.csv\n"
          ]
        }
      ],
      "source": [
        "!mkdir -p dataset\n",
        "!wget -q https://raw.githubusercontent.com/paponsro/spark_edem_2324/master/dataset/cars.json -P /dataset\n",
        "!wget -q https://raw.githubusercontent.com/paponsro/spark_edem_2324/master/dataset/movies.json -P /dataset\n",
        "!wget -q https://github.com/masfworld/datahack_docker/raw/master/zeppelin/data/bank.csv -P /dataset\n",
        "!wget -q https://github.com/masfworld/datahack_docker/raw/master/zeppelin/data/vehicles.csv -P /dataset\n",
        "!ls /dataset"
      ]
    },
    {
      "cell_type": "code",
      "execution_count": null,
      "metadata": {
        "id": "ml1O2OiQU6ah",
        "colab": {
          "base_uri": "https://localhost:8080/"
        },
        "outputId": "c7a57273-999d-4575-cd89-32b33de30ad4"
      },
      "outputs": [
        {
          "output_type": "stream",
          "name": "stdout",
          "text": [
            "total 1784\n",
            "-rw-r--r-- 1 root root  461474 Jan 12 16:41 bank.csv\n",
            "-rw-r--r-- 1 root root   74910 Jan 12 16:41 cars.json\n",
            "-rw-r--r-- 1 root root 1274347 Jan 12 16:41 movies.json\n",
            "-rw-r--r-- 1 root root    4370 Jan 12 16:41 vehicles.csv\n"
          ]
        }
      ],
      "source": [
        "ls -l /dataset"
      ]
    },
    {
      "cell_type": "markdown",
      "source": [
        "**LEEMOS EL CSV**"
      ],
      "metadata": {
        "id": "d7pFRmp2jg2b"
      }
    },
    {
      "cell_type": "code",
      "source": [
        "drugDeathsDF = spark.read.option('header', 'true').option('delimitter', ',').option('inferSchema', 'true').csv('dataset/drug_deaths.csv')"
      ],
      "metadata": {
        "id": "RqdmMRz9o40y"
      },
      "execution_count": null,
      "outputs": []
    },
    {
      "cell_type": "code",
      "source": [
        "drugDeathsDF.show()"
      ],
      "metadata": {
        "colab": {
          "base_uri": "https://localhost:8080/"
        },
        "id": "Modv1un6qZKQ",
        "outputId": "c2848b0b-0fd7-4be3-fd4b-043097f01225"
      },
      "execution_count": null,
      "outputs": [
        {
          "output_type": "stream",
          "name": "stdout",
          "text": [
            "+----------+-------------+--------------------+--------+----+------+------------+-------------+---------------+--------------+---------+-----------+---------+---------------+--------------------+-----------+----------+------------+-----------+--------------------+---------------+------+-------+--------+-----------------+---------+-----------+-------+-----------+--------------+---------+------+------+------------------+-------------+-----+---------+---------+-------------+-------------+----------------+-------------+\n",
            "|       _c0|           ID|                Date|DateType| Age|   Sex|        Race|ResidenceCity|ResidenceCounty|ResidenceState|DeathCity|DeathCounty| Location|LocationifOther| DescriptionofInjury|InjuryPlace|InjuryCity|InjuryCounty|InjuryState|                 COD|OtherSignifican|Heroin|Cocaine|Fentanyl|Fentanyl_Analogue|Oxycodone|Oxymorphone|Ethanol|Hydrocodone|Benzodiazepine|Methadone|Amphet|Tramad|Morphine_NotHeroin|Hydromorphone|Other|OpiateNOS|AnyOpioid|MannerofDeath| DeathCityGeo|ResidenceCityGeo|InjuryCityGeo|\n",
            "+----------+-------------+--------------------+--------+----+------+------------+-------------+---------------+--------------+---------+-----------+---------+---------------+--------------------+-----------+----------+------------+-----------+--------------------+---------------+------+-------+--------+-----------------+---------+-----------+-------+-----------+--------------+---------+------+------+------------------+-------------+-----+---------+---------+-------------+-------------+----------------+-------------+\n",
            "|         0|      14-0273|06/28/2014 12:00:...|     1.0|NULL|  NULL|        NULL|         NULL|           NULL|          NULL|     NULL|       NULL|     NULL|           NULL|           substance|       NULL|      NULL|        NULL|       NULL|Acute fent, hydro...|           NULL|     0|      0|       1|              0.0|        0|          0|      0|          1|             1|        0|     0|     0|                 0|            0| NULL|        0|        0|     Accident|           CT|            NULL|         NULL|\n",
            "|(41.575155| -72.738288)\"|                  CT|    NULL|NULL|  NULL|        NULL|         NULL|           NULL|          NULL|     NULL|       NULL|     NULL|           NULL|                NULL|       NULL|      NULL|        NULL|       NULL|                NULL|           NULL|  NULL|   NULL|    NULL|             NULL|     NULL|       NULL|   NULL|       NULL|          NULL|     NULL|  NULL|  NULL|              NULL|         NULL| NULL|     NULL|     NULL|         NULL|         NULL|            NULL|         NULL|\n",
            "|(41.575155| -72.738288)\"|                  CT|    NULL|NULL|  NULL|        NULL|         NULL|           NULL|          NULL|     NULL|       NULL|     NULL|           NULL|                NULL|       NULL|      NULL|        NULL|       NULL|                NULL|           NULL|  NULL|   NULL|    NULL|             NULL|     NULL|       NULL|   NULL|       NULL|          NULL|     NULL|  NULL|  NULL|              NULL|         NULL| NULL|     NULL|     NULL|         NULL|         NULL|            NULL|         NULL|\n",
            "|(41.575155| -72.738288)\"|                NULL|    NULL|NULL|  NULL|        NULL|         NULL|           NULL|          NULL|     NULL|       NULL|     NULL|           NULL|                NULL|       NULL|      NULL|        NULL|       NULL|                NULL|           NULL|  NULL|   NULL|    NULL|             NULL|     NULL|       NULL|   NULL|       NULL|          NULL|     NULL|  NULL|  NULL|              NULL|         NULL| NULL|     NULL|     NULL|         NULL|         NULL|            NULL|         NULL|\n",
            "|         1|      13-0102|03/21/2013 12:00:...|     0.0|48.0|  Male|       Black|      NORWALK|           NULL|          NULL|  NORWALK|  FAIRFIELD| Hospital|           NULL|                NULL|       NULL|      NULL|        NULL|       NULL|Cocaine Intoxication|           NULL|     0|      1|       0|              0.0|        0|          0|      0|          0|             0|        0|     0|     0|                 0|            0| NULL|        0|        0|     Accident|  Norwalk, CT|            NULL|         NULL|\n",
            "| (41.11805| -73.412906)\"|         NORWALK, CT|    NULL|NULL|  NULL|        NULL|         NULL|           NULL|          NULL|     NULL|       NULL|     NULL|           NULL|                NULL|       NULL|      NULL|        NULL|       NULL|                NULL|           NULL|  NULL|   NULL|    NULL|             NULL|     NULL|       NULL|   NULL|       NULL|          NULL|     NULL|  NULL|  NULL|              NULL|         NULL| NULL|     NULL|     NULL|         NULL|         NULL|            NULL|         NULL|\n",
            "| (41.11805| -73.412906)\"|                  CT|    NULL|NULL|  NULL|        NULL|         NULL|           NULL|          NULL|     NULL|       NULL|     NULL|           NULL|                NULL|       NULL|      NULL|        NULL|       NULL|                NULL|           NULL|  NULL|   NULL|    NULL|             NULL|     NULL|       NULL|   NULL|       NULL|          NULL|     NULL|  NULL|  NULL|              NULL|         NULL| NULL|     NULL|     NULL|         NULL|         NULL|            NULL|         NULL|\n",
            "|(41.575155| -72.738288)\"|                NULL|    NULL|NULL|  NULL|        NULL|         NULL|           NULL|          NULL|     NULL|       NULL|     NULL|           NULL|                NULL|       NULL|      NULL|        NULL|       NULL|                NULL|           NULL|  NULL|   NULL|    NULL|             NULL|     NULL|       NULL|   NULL|       NULL|          NULL|     NULL|  NULL|  NULL|              NULL|         NULL| NULL|     NULL|     NULL|         NULL|         NULL|            NULL|         NULL|\n",
            "|         2|      16-0165|03/13/2016 12:00:...|     0.0|30.0|Female|       White|   SANDY HOOK|      FAIRFIELD|            CT|  DANBURY|       NULL| Hospital|           NULL|     Substance Abuse|    Unknown|   UNKNOWN|        NULL|       NULL|Acute Heroin and ...|           NULL|     1|      1|       0|              0.0|        0|          0|      0|          0|             0|        0|     0|     0|                 0|            0| NULL|        0|        1|     Accident|  Danbury, CT|            NULL|         NULL|\n",
            "|(41.393666| -73.451539)\"|      SANDY HOOK, CT|    NULL|NULL|  NULL|        NULL|         NULL|           NULL|          NULL|     NULL|       NULL|     NULL|           NULL|                NULL|       NULL|      NULL|        NULL|       NULL|                NULL|           NULL|  NULL|   NULL|    NULL|             NULL|     NULL|       NULL|   NULL|       NULL|          NULL|     NULL|  NULL|  NULL|              NULL|         NULL| NULL|     NULL|     NULL|         NULL|         NULL|            NULL|         NULL|\n",
            "|(41.419998| -73.282501)\"|                NULL|    NULL|NULL|  NULL|        NULL|         NULL|           NULL|          NULL|     NULL|       NULL|     NULL|           NULL|                NULL|       NULL|      NULL|        NULL|       NULL|                NULL|           NULL|  NULL|   NULL|    NULL|             NULL|     NULL|       NULL|   NULL|       NULL|          NULL|     NULL|  NULL|  NULL|              NULL|         NULL| NULL|     NULL|     NULL|         NULL|         NULL|            NULL|         NULL|\n",
            "|         3|      16-0208|03/31/2016 12:00:...|     0.0|23.0|  Male|       White|          RYE|    WESTCHESTER|            NY|GREENWICH|       NULL| Hospital|           NULL|     substance abuse|  Residence|       RYE|        NULL|       NULL|Acute Fentanyl an...|           NULL|     1|      0|       1|              0.0|        0|          0|      0|          0|             0|        0|     0|     0|                 0|            0| NULL|        0|        1|     Accident|Greenwich, CT|            NULL|         NULL|\n",
            "|(41.026526| -73.628549)\"|                NULL|    NULL|NULL|  NULL|        NULL|         NULL|           NULL|          NULL|     NULL|       NULL|     NULL|           NULL|                NULL|       NULL|      NULL|        NULL|       NULL|                NULL|           NULL|  NULL|   NULL|    NULL|             NULL|     NULL|       NULL|   NULL|       NULL|          NULL|     NULL|  NULL|  NULL|              NULL|         NULL| NULL|     NULL|     NULL|         NULL|         NULL|            NULL|         NULL|\n",
            "|         4|      13-0052|02/13/2013 12:00:...|     0.0|22.0|  Male|Asian, Other|     FLUSHING|         QUEENS|          NULL|GREENWICH|  FAIRFIELD| Hospital|           NULL|Transdermal Absor...|      Other|      NULL|        NULL|       NULL|Fentanyl Intoxica...|           NULL|     0|      0|       1|              0.0|        0|          0|      0|          0|             0|        0|     0|     0|                 0|            0| NULL|        0|        0|     Accident|Greenwich, CT|            NULL|         NULL|\n",
            "|(41.026526| -73.628549)\"|                NULL|      CT|NULL|  NULL|        NULL|         NULL|           NULL|          NULL|     NULL|       NULL|     NULL|           NULL|                NULL|       NULL|      NULL|        NULL|       NULL|                NULL|           NULL|  NULL|   NULL|    NULL|             NULL|     NULL|       NULL|   NULL|       NULL|          NULL|     NULL|  NULL|  NULL|              NULL|         NULL| NULL|     NULL|     NULL|         NULL|         NULL|            NULL|         NULL|\n",
            "|(41.575155| -72.738288)\"|                NULL|    NULL|NULL|  NULL|        NULL|         NULL|           NULL|          NULL|     NULL|       NULL|     NULL|           NULL|                NULL|       NULL|      NULL|        NULL|       NULL|                NULL|           NULL|  NULL|   NULL|    NULL|             NULL|     NULL|       NULL|   NULL|       NULL|          NULL|     NULL|  NULL|  NULL|              NULL|         NULL| NULL|     NULL|     NULL|         NULL|         NULL|            NULL|         NULL|\n",
            "|         5|      14-0277|06/29/2014 12:00:...|     0.0|23.0|  Male|       White|      BRISTOL|           NULL|          NULL|  BRISTOL|   HARTFORD|Residence|           NULL|          Inhalation|  Residence|      NULL|        NULL|       NULL| Heroin Intoxication|           NULL|     1|      0|       0|              0.0|        0|          0|      0|          0|             0|        0|     0|     0|                 0|            0| NULL|        0|        0|     Accident|  BRISTOL, CT|            NULL|         NULL|\n",
            "|(41.673037| -72.945791)\"|         BRISTOL, CT|    NULL|NULL|  NULL|        NULL|         NULL|           NULL|          NULL|     NULL|       NULL|     NULL|           NULL|                NULL|       NULL|      NULL|        NULL|       NULL|                NULL|           NULL|  NULL|   NULL|    NULL|             NULL|     NULL|       NULL|   NULL|       NULL|          NULL|     NULL|  NULL|  NULL|              NULL|         NULL| NULL|     NULL|     NULL|         NULL|         NULL|            NULL|         NULL|\n",
            "|(41.673037| -72.945791)\"|                  CT|    NULL|NULL|  NULL|        NULL|         NULL|           NULL|          NULL|     NULL|       NULL|     NULL|           NULL|                NULL|       NULL|      NULL|        NULL|       NULL|                NULL|           NULL|  NULL|   NULL|    NULL|             NULL|     NULL|       NULL|   NULL|       NULL|          NULL|     NULL|  NULL|  NULL|              NULL|         NULL| NULL|     NULL|     NULL|         NULL|         NULL|            NULL|         NULL|\n",
            "|(41.575155| -72.738288)\"|                NULL|    NULL|NULL|  NULL|        NULL|         NULL|           NULL|          NULL|     NULL|       NULL|     NULL|           NULL|                NULL|       NULL|      NULL|        NULL|       NULL|                NULL|           NULL|  NULL|   NULL|    NULL|             NULL|     NULL|       NULL|   NULL|       NULL|          NULL|     NULL|  NULL|  NULL|              NULL|         NULL| NULL|     NULL|     NULL|         NULL|         NULL|            NULL|         NULL|\n",
            "+----------+-------------+--------------------+--------+----+------+------------+-------------+---------------+--------------+---------+-----------+---------+---------------+--------------------+-----------+----------+------------+-----------+--------------------+---------------+------+-------+--------+-----------------+---------+-----------+-------+-----------+--------------+---------+------+------+------------------+-------------+-----+---------+---------+-------------+-------------+----------------+-------------+\n",
            "only showing top 20 rows\n",
            "\n"
          ]
        }
      ]
    },
    {
      "cell_type": "markdown",
      "source": [
        "**GROUP BY POR RAZA Y MOSTRAMOS UN CONTEO DE LOS FALLECIMIENTOS DE CADA GRUPO Y ORDENADOS DE MAYOR A MENOR**"
      ],
      "metadata": {
        "id": "XhvZmm5pjoRL"
      }
    },
    {
      "cell_type": "code",
      "source": [
        "DF1 = drugDeathsDF.groupBy('Race').agg(count('Sex').alias('Cantidad')).orderBy(desc('Cantidad'))\n",
        "DF1.show()"
      ],
      "metadata": {
        "colab": {
          "base_uri": "https://localhost:8080/"
        },
        "id": "jN71lEKWqwIw",
        "outputId": "ba44400b-c66f-4a95-a835-9b7d22f4ffd0"
      },
      "execution_count": null,
      "outputs": [
        {
          "output_type": "stream",
          "name": "stdout",
          "text": [
            "+--------------------+--------+\n",
            "|                Race|Cantidad|\n",
            "+--------------------+--------+\n",
            "|               White|    4002|\n",
            "|     Hispanic, White|     560|\n",
            "|               Black|     433|\n",
            "|     Hispanic, Black|      24|\n",
            "|             Unknown|      23|\n",
            "|        Asian, Other|      18|\n",
            "|        Asian Indian|      14|\n",
            "|               Other|      11|\n",
            "|                NULL|      10|\n",
            "|             Chinese|       2|\n",
            "|            Hawaiian|       1|\n",
            "|Native American, ...|       1|\n",
            "+--------------------+--------+\n",
            "\n"
          ]
        }
      ]
    },
    {
      "cell_type": "markdown",
      "source": [
        "**AHORA HACEMOS UNA AGRUPACIÓN POR CIUDAD DE RESIDENCIA Y LA MEDIA DE LAS EDADES POR CADA CIUDAD**"
      ],
      "metadata": {
        "id": "GztwFfVCkhrt"
      }
    },
    {
      "cell_type": "code",
      "source": [
        "DF2 = drugDeathsDF.select('Age', 'ResidenceCity')\n",
        "EdadDF = DF2.groupBy('ResidenceCity').agg(avg('Age').alias('media_edad')).orderBy(desc(avg('Age')))\n",
        "\n",
        "EdadDF.show()\n"
      ],
      "metadata": {
        "colab": {
          "base_uri": "https://localhost:8080/"
        },
        "id": "2lFBtI80rBvB",
        "outputId": "5fdc142b-baa0-4d95-fc87-e620581280fb"
      },
      "execution_count": null,
      "outputs": [
        {
          "output_type": "stream",
          "name": "stdout",
          "text": [
            "+-----------------+----------+\n",
            "|    ResidenceCity|media_edad|\n",
            "+-----------------+----------+\n",
            "|ARLINGTON HEIGHTS|      72.0|\n",
            "|   ALFRED STATION|      65.0|\n",
            "|        WELLESLEY|      64.0|\n",
            "|     NORTH WINDAM|      64.0|\n",
            "|            SAKEM|      63.0|\n",
            "|          SEBRING|      62.0|\n",
            "|    OLD GREENWICH|      59.0|\n",
            "|           NAPLES|      59.0|\n",
            "|       SOUTH LYME|      59.0|\n",
            "|          JACKSON|      59.0|\n",
            "|   EAST WOODSTOCK|      58.0|\n",
            "|           ROSCOE|      58.0|\n",
            "|        CHEPACHET|      58.0|\n",
            "|       WASHINGTON|      57.5|\n",
            "|        SOUTHPORT|      57.0|\n",
            "|           NUTLEY|      57.0|\n",
            "|          CHELSEA|      57.0|\n",
            "|        BLANDFORD|      57.0|\n",
            "|         ROCKFALL|      57.0|\n",
            "|            CHASE|      56.0|\n",
            "+-----------------+----------+\n",
            "only showing top 20 rows\n",
            "\n"
          ]
        }
      ]
    },
    {
      "cell_type": "markdown",
      "source": [
        "**POR ÚLTIMO EN LOS GROUPBY, HACEMOS UNA AGRUPACIÓN POR SEXO Y CALCULAMOS LA CANTIDAD DE FALLECIMIENTOS POR GRUPO**"
      ],
      "metadata": {
        "id": "1nUSratMk3-U"
      }
    },
    {
      "cell_type": "code",
      "source": [
        "personaDF = drugDeathsDF.groupBy('Sex').agg(count('ID').alias('Sex_count')).orderBy(desc(count('ID')))\n",
        "personaDF.show()"
      ],
      "metadata": {
        "colab": {
          "base_uri": "https://localhost:8080/"
        },
        "id": "SrWzRIupuABw",
        "outputId": "274a070e-9822-4fc1-e686-cf18f7999129"
      },
      "execution_count": null,
      "outputs": [
        {
          "output_type": "stream",
          "name": "stdout",
          "text": [
            "+-------+---------+\n",
            "|    Sex|Sex_count|\n",
            "+-------+---------+\n",
            "|   NULL|    15150|\n",
            "|   Male|     3773|\n",
            "| Female|     1325|\n",
            "|Unknown|        1|\n",
            "+-------+---------+\n",
            "\n"
          ]
        }
      ]
    },
    {
      "cell_type": "code",
      "source": [
        "personaDF2 = drugDeathsDF.groupBy('Location').agg(count('ID'))\n",
        "personaDF2.show()\n",
        "\n",
        "byLocation = Window.partitionBy('Location')"
      ],
      "metadata": {
        "colab": {
          "base_uri": "https://localhost:8080/"
        },
        "id": "oHJ8gQYjlHEZ",
        "outputId": "12baa57e-861d-443f-d565-e49f0c85d234"
      },
      "execution_count": 22,
      "outputs": [
        {
          "output_type": "stream",
          "name": "stdout",
          "text": [
            "+-----------------+---------+\n",
            "|         Location|count(ID)|\n",
            "+-----------------+---------+\n",
            "|             NULL|    15168|\n",
            "|            Other|      773|\n",
            "|Convalescent Home|        3|\n",
            "|          Hospice|        1|\n",
            "|         Hospital|     1626|\n",
            "|     Nursing Home|        1|\n",
            "|        Residence|     2677|\n",
            "+-----------------+---------+\n",
            "\n"
          ]
        }
      ]
    },
    {
      "cell_type": "markdown",
      "source": [
        "**NO PODEMOS HACER MUCHAS MAS CONVERSIONES CON ESTE CSV ASI QUE HEMOS DECIDIDO IMPORTAR DOS MAS XD**"
      ],
      "metadata": {
        "id": "G5tV6y3kmcgW"
      }
    },
    {
      "cell_type": "code",
      "source": [
        "organizationsDF = spark.read.option('header', 'true').option('delimitter', ',').csv('dataset/organizations-100.csv')\n",
        "organizationsDF.show()"
      ],
      "metadata": {
        "colab": {
          "base_uri": "https://localhost:8080/"
        },
        "id": "lMIjJPSFmiLW",
        "outputId": "8067c808-a0aa-4a47-9e43-6ed98959f61e"
      },
      "execution_count": 24,
      "outputs": [
        {
          "output_type": "stream",
          "name": "stdout",
          "text": [
            "+-----+---------------+--------------------+--------------------+--------------------+--------------------+-------+--------------------+-------------------+\n",
            "|Index|Organization Id|                Name|             Website|             Country|         Description|Founded|            Industry|Number of employees|\n",
            "+-----+---------------+--------------------+--------------------+--------------------+--------------------+-------+--------------------+-------------------+\n",
            "|    1|FAB0d41d5b5d22c|         Ferrell LLC|  https://price.net/|    Papua New Guinea|Horizontal empowe...|   1990|            Plastics|               3498|\n",
            "|    2|6A7EdDEA9FaDC52|Mckinney, Riley a...|http://www.hall-b...|             Finland|User-centric syst...|   2015|Glass / Ceramics ...|               4952|\n",
            "|    3|0bFED1ADAE4bcC1|          Hester Ltd|http://sullivan-r...|               China|Switchable scalab...|   1971|       Public Safety|               5287|\n",
            "|    4|2bFC1Be8a4ce42f|      Holder-Sellers| https://becker.com/|        Turkmenistan|De-engineered sys...|   2004|          Automotive|                921|\n",
            "|    5|9eE8A6a4Eb96C24|         Mayer Group|http://www.brewer...|           Mauritius|Synchronized need...|   1991|      Transportation|               7870|\n",
            "|    6|cC757116fe1C085|      Henry-Thompson|   http://morse.net/|             Bahamas|Face-to-face well...|   1992|Primary / Seconda...|               4914|\n",
            "|    7|219233e8aFF1BC3|      Hansen-Everett|https://www.kidd....|            Pakistan|Seamless disinter...|   2018| Publishing Industry|               7832|\n",
            "|    8|ccc93DCF81a31CD|       Mcintosh-Mora|https://www.brook...|Heard Island and ...|Centralized attit...|   1970|     Import / Export|               4389|\n",
            "|    9|0B4F93aA06ED03e|            Carr Inc|    http://ross.com/|              Kuwait|Distributed impac...|   1996|            Plastics|               8167|\n",
            "|   10|738b5aDe6B1C6A5|          Gaines Inc|http://sandoval-h...|          Uzbekistan|Multi-lateral sca...|   1997|Outsourcing / Off...|               9698|\n",
            "|   11|AE61b8Ffebbc476|          Kidd Group|http://www.lyons....|Bouvet Island (Bo...|Proactive foregro...|   2001|Primary / Seconda...|               7473|\n",
            "|   12|eb3B7D06cCdD609|        Crane-Clarke|https://www.sando...|             Denmark|Front-line clear-...|   2014|    Food / Beverages|               9011|\n",
            "|   13|8D0c29189C9798B|Keller, Campos an...|https://www.garne...|             Liberia|Ameliorated direc...|   2020|Museums / Institu...|               2862|\n",
            "|   14|D2c91cc03CA394c|         Glover-Pope|http://www.silva....|United Arab Emirates|Persevering conte...|   2013|    Medical Practice|               9079|\n",
            "|   15|C8AC1eaf9C036F4|      Pacheco-Spears|https://aguilar.com/|              Sweden|Secured logistica...|   1984|            Maritime|                769|\n",
            "|   16|b5D10A14f7a8AfE|         Hodge-Ayers|http://www.archer...|            Honduras|Future-proofed ra...|   1990| Facilities Services|               8508|\n",
            "|   17|68139b5C4De03B4|Bowers, Guerra an...|http://www.carril...|              Uganda|De-engineered tra...|   1972|Primary / Seconda...|               6986|\n",
            "|   18|5c2EffEfdba2BdF|     Mckenzie-Melton|http://montoya-th...|           Hong Kong|Reverse-engineere...|   1998|Investment Manage...|               4589|\n",
            "|   19|ba179F19F7925f5|         Branch-Mann|http://www.lozano...|            Botswana|Adaptive intangib...|   1999|Architecture / Pl...|               7961|\n",
            "|   20|c1Ce9B350BAc66b|      Weiss and Sons|https://barrett.com/|               Korea|Sharable optimal ...|   2011|            Plastics|               5984|\n",
            "+-----+---------------+--------------------+--------------------+--------------------+--------------------+-------+--------------------+-------------------+\n",
            "only showing top 20 rows\n",
            "\n"
          ]
        }
      ]
    },
    {
      "cell_type": "markdown",
      "source": [
        "**HACEMOS UNA VENTANA PARA AGRUPAR POR AÑO DE FUNDACIÓN Y QUEDARNOS CON LAS TRES OBSERVACIONES CON MAYOR NUMERO DE EMPLEADOS**"
      ],
      "metadata": {
        "id": "xv3CbmGRpkD4"
      }
    },
    {
      "cell_type": "code",
      "source": [
        "from pyspark.sql.window import Window\n",
        "byFounded = Window.partitionBy('Founded').orderBy(col('Number of employees').desc())\n",
        "countryEmployeesDF = organizationsDF.withColumn(\"rank_employees\", row_number().over(byFounded)).filter(col(\"rank_employees\") <= 3)\n",
        "countryEmployeesDF.show()"
      ],
      "metadata": {
        "colab": {
          "base_uri": "https://localhost:8080/"
        },
        "id": "CUQmM-ipnKIY",
        "outputId": "207b27b8-ecb6-4de8-d7d4-9e5af061f418"
      },
      "execution_count": 32,
      "outputs": [
        {
          "output_type": "stream",
          "name": "stdout",
          "text": [
            "+-----+---------------+--------------------+--------------------+--------------------+--------------------+-------+--------------------+-------------------+--------------+\n",
            "|Index|Organization Id|                Name|             Website|             Country|         Description|Founded|            Industry|Number of employees|rank_employees|\n",
            "+-----+---------------+--------------------+--------------------+--------------------+--------------------+-------+--------------------+-------------------+--------------+\n",
            "|   75|f3C365f0c1A0623|           Hicks LLC| http://alvarez.biz/|            Pakistan|Quality-focused c...|   1970|Computer Software...|               8480|             1|\n",
            "|    8|ccc93DCF81a31CD|       Mcintosh-Mora|https://www.brook...|Heard Island and ...|Centralized attit...|   1970|     Import / Export|               4389|             2|\n",
            "|   28|88b1f1cDcf59a37|        Prince-David|http://thompson.com/|    Christmas Island|Virtual holistic ...|   1970|  Banking / Mortgage|               1046|             3|\n",
            "|    3|0bFED1ADAE4bcC1|          Hester Ltd|http://sullivan-r...|               China|Switchable scalab...|   1971|       Public Safety|               5287|             1|\n",
            "|   55|e24D21BFd3bF1E5|         Richard PLC|https://holden-co...|             Mayotte|Object-based opti...|   1971|     Broadcast Media|               4942|             2|\n",
            "|   97|BA6Cd9Dae2Efd62|            Good Ltd|   http://duffy.com/|            Anguilla|Reverse-engineere...|   1971|   Consumer Services|               4292|             3|\n",
            "|   17|68139b5C4De03B4|Bowers, Guerra an...|http://www.carril...|              Uganda|De-engineered tra...|   1972|Primary / Seconda...|               6986|             1|\n",
            "|   79|A0B9d56e61070e3|Beasley, Sims and...|  http://burke.info/|              Latvia|Secured zero tole...|   1972| Facilities Services|               6182|             2|\n",
            "|   69|5aaD187dc929371|      Frazier-Butler|https://www.daugh...|Northern Mariana ...|Persistent intera...|   1972|Outsourcing / Off...|               5130|             3|\n",
            "|   61|bD1bc6bB6d1FeD3|        Freeman-Chen| https://mathis.com/|         Timor-Leste|Phased next gener...|   1973|International Tra...|                346|             1|\n",
            "|   90|F4Dc1417BC6cb8f|       Gilbert-Simon|https://www.bradf...|             Burundi|Grass-roots radic...|   1973|Newspapers / Jour...|               1927|             2|\n",
            "|   49|7b3fe6e7E72bFa4|         Berg-Sparks|https://cisneros-...|              Canada|Stand-alone stati...|   1974|       Arts / Crafts|               2073|             1|\n",
            "|   96|0a0bfFbBbB8eC7c|        Holmes Group|https://mcdowell....|            Ethiopia|Right-sized zero ...|   1975|         Photography|               2988|             1|\n",
            "|   78|dd6CA3d0bc3cAfc|Beasley, Greene a...|http://www.peters...|                Togo|Extended content-...|   1976|Religious Institu...|                869|             1|\n",
            "|   70|902D7Ac8b6d476b|          Newton Inc|https://www.richm...|Netherlands Antilles|Fundamental stabl...|   1976|   Military Industry|                563|             2|\n",
            "|   47|CbBbFcdd0eaE2cF|     Bartlett-Arroyo|   https://cruz.com/|Northern Mariana ...|Realigned didacti...|   1976|Civic / Social Or...|               3987|             3|\n",
            "|   93|dEbDAAeDfaed00A|       Rowe and Sons|https://www.simps...|         El Salvador|Balanced multimed...|   1978| Facilities Services|               8172|             1|\n",
            "|   63|Dfef38C51D8DAe3|Poole, Cruz and W...|  https://reed.info/|             Reunion|Balanced analyzin...|   1978|Marketing / Adver...|               2992|             2|\n",
            "|   58|Bf3F3f62c8aBC33|          Cherry PLC|https://www.avila...|    Marshall Islands|Persistent tertia...|   1980|            Plastics|               8245|             1|\n",
            "|   27|4B217cC5a0674C5|Dickson, Richmond...| http://everett.com/|      Czech Republic|Team-oriented tan...|   1980|Real Estate / Mor...|               3122|             2|\n",
            "+-----+---------------+--------------------+--------------------+--------------------+--------------------+-------+--------------------+-------------------+--------------+\n",
            "only showing top 20 rows\n",
            "\n"
          ]
        }
      ]
    },
    {
      "cell_type": "markdown",
      "source": [
        "**PARA TERMINAR Y NO HACERNOS MAS PESADOS, HACEMOS UN JOIN CON OTRA TABLA DE ORGANIZACIONES**"
      ],
      "metadata": {
        "id": "tCAfXD2Mqerk"
      }
    },
    {
      "cell_type": "code",
      "source": [
        "organizationsDF2 = spark.read.option('header', 'true').option('delimitter', ',').csv('dataset/organizations-1000.csv')\n",
        "organizationsDF2.show()"
      ],
      "metadata": {
        "colab": {
          "base_uri": "https://localhost:8080/"
        },
        "id": "sLnkQLHipdMo",
        "outputId": "31e43e91-7556-4018-f6ef-8dd3b9bf6f3a"
      },
      "execution_count": 33,
      "outputs": [
        {
          "output_type": "stream",
          "name": "stdout",
          "text": [
            "+-----+---------------+--------------------+--------------------+--------------------+--------------------+-------+--------------------+-------------------+\n",
            "|Index|Organization Id|                Name|             Website|             Country|         Description|Founded|            Industry|Number of employees|\n",
            "+-----+---------------+--------------------+--------------------+--------------------+--------------------+-------+--------------------+-------------------+\n",
            "|    1|E84A904909dF528|          Liu-Hoover|http://www.day-ha...|      Western Sahara|Ergonomic zero ad...|   1980|   Online Publishing|               6852|\n",
            "|    2|AAC4f9aBF86EAeF|       Orr-Armstrong|https://www.chapm...|             Algeria|Ergonomic radical...|   1970|     Import / Export|               7994|\n",
            "|    3|ad2eb3C8C24DB87|           Gill-Lamb|     http://lin.com/|       Cote d'Ivoire|Programmable inte...|   2005|   Apparel / Fashion|               5105|\n",
            "|    4|D76BB12E5eE165B|         Bauer-Weiss|https://gillespie...|United States of ...|Synergistic maxim...|   2015|               Dairy|               9069|\n",
            "|    5|2F31EddF2Db9aAE|         Love-Palmer| https://kramer.com/|             Denmark|Optimized optimiz...|   2010|Management Consul...|               6991|\n",
            "|    6|6774DC1dB00BD11|Farmer, Edwards a...|http://wolfe-boyd...|      Norfolk Island|Virtual leadinged...|   2003|  Mental Health Care|               3503|\n",
            "|    7|116B5cD4eE1fAAc|Bass, Hester and ...|https://meza-smit...|          Uzbekistan|Multi-tiered syst...|   1994|   Computer Hardware|               2762|\n",
            "|    8|AB2eA15d98b6BD4|Strickland, Gray ...|   http://kerr.info/|              Israel|Team-oriented fre...|   1987|     Performing Arts|               7020|\n",
            "|    9|0c6D831e8DceCfE|Sparks, Decker an...|https://www.howe....|              Israel|Down-sized conten...|   1977|Marketing / Adver...|               2709|\n",
            "|   10|9ABE0c8aee135d6|Osborn, Ford and ...|http://www.mcdona...|Syrian Arab Republic|Optional coherent...|   1990|Investment Bankin...|               5731|\n",
            "|   11|C494aBe0CDB9c70|        Gonzales Inc|    http://lara.org/|              Angola|Enterprise-wide a...|   2019|Capital Markets /...|               2252|\n",
            "|   12|9FBF69aa2D9AAF1|Ballard, Goodman ...|http://berger-che...|                Iran|Multi-layered zer...|   2019|Logistics / Procu...|               6165|\n",
            "|   13|4EB9d3E5cF79b91|Bernard, Payne an...|http://williamson...|         Afghanistan|Polarized dynamic...|   1990|      Transportation|                730|\n",
            "|   14|e5CA6529DCD4030| Mcpherson-Blanchard|http://www.ward.com/|            Bulgaria|Integrated didact...|   1972|     Law Enforcement|               9890|\n",
            "|   15|b0BBeBB36bAbb35|Koch, Gomez and Hays|http://ewing-rosa...|French Southern T...|Operative nationa...|   1997|  Financial Services|               8497|\n",
            "|   16|CDa7Ec784D5A8Bd|Meza, Ramirez and...|  https://hardy.biz/|         Timor-Leste|Customer-focused ...|   2012|Public Relations ...|               5205|\n",
            "|   17|b7cBE6A9E79A56F|Morales, Hinton a...| https://hudson.com/|              Serbia|Seamless global u...|   2014|Museums / Institu...|               6706|\n",
            "|   18|e5cab57FFF6f4bd|       Abbott-Arroyo| http://delgado.net/|             Hungary|Visionary holisti...|   1994|Architecture / Pl...|                117|\n",
            "|   19|3851f381Ea54d70|       Trevino-Foley| https://baxter.com/|              Canada|Enterprise-wide 6...|   1973|      Wine / Spirits|               6765|\n",
            "|   20|2FaDD3Ac0fB4052|Bowman, Walters a...|https://www.drake...|               Yemen|Exclusive client-...|   1988|         Think Tanks|               5926|\n",
            "+-----+---------------+--------------------+--------------------+--------------------+--------------------+-------+--------------------+-------------------+\n",
            "only showing top 20 rows\n",
            "\n"
          ]
        }
      ]
    },
    {
      "cell_type": "markdown",
      "source": [
        "**NO TIENE MUCHO SIGNIFICADO EL JOIN PERO ERA POR PROBAR A HACER UNO**"
      ],
      "metadata": {
        "id": "SQkayhjzr1UE"
      }
    },
    {
      "cell_type": "code",
      "source": [
        "joinedDF = organizationsDF2.join(organizationsDF, 'Country', 'left').filter(col('Country') == 'Pakistan').select(organizationsDF2.Index, 'Country', organizationsDF2.Name)\n",
        "joinedDF.show()"
      ],
      "metadata": {
        "colab": {
          "base_uri": "https://localhost:8080/"
        },
        "id": "wfQ_T5IGqx8D",
        "outputId": "884d8b32-3d25-4872-e576-e31bb88b6d6c"
      },
      "execution_count": 39,
      "outputs": [
        {
          "output_type": "stream",
          "name": "stdout",
          "text": [
            "+-----+--------+--------------+\n",
            "|Index| Country|          Name|\n",
            "+-----+--------+--------------+\n",
            "|  192|Pakistan|   Harding Inc|\n",
            "|  192|Pakistan|   Harding Inc|\n",
            "|  217|Pakistan|    Morrow Inc|\n",
            "|  217|Pakistan|    Morrow Inc|\n",
            "|  323|Pakistan|Donovan-Carson|\n",
            "|  323|Pakistan|Donovan-Carson|\n",
            "|  495|Pakistan|Cisneros-Parks|\n",
            "|  495|Pakistan|Cisneros-Parks|\n",
            "+-----+--------+--------------+\n",
            "\n"
          ]
        }
      ]
    }
  ],
  "metadata": {
    "colab": {
      "provenance": []
    },
    "kernelspec": {
      "display_name": "Python 3.10.0 64-bit",
      "language": "python",
      "name": "python3"
    },
    "language_info": {
      "codemirror_mode": {
        "name": "ipython",
        "version": 3
      },
      "file_extension": ".py",
      "mimetype": "text/x-python",
      "name": "python",
      "nbconvert_exporter": "python",
      "pygments_lexer": "ipython3",
      "version": "3.10.0"
    },
    "orig_nbformat": 4,
    "vscode": {
      "interpreter": {
        "hash": "ff1af5cda0bea4fe5c4ebc1f94ab9f13d8998f98d08e16d8aba48673b9d00116"
      }
    }
  },
  "nbformat": 4,
  "nbformat_minor": 0
}