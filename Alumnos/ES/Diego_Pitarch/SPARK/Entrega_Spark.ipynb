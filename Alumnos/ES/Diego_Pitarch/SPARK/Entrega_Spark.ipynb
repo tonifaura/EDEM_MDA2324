{
  "nbformat": 4,
  "nbformat_minor": 0,
  "metadata": {
    "colab": {
      "provenance": []
    },
    "kernelspec": {
      "name": "python3",
      "display_name": "Python 3"
    },
    "language_info": {
      "name": "python"
    }
  },
  "cells": [
    {
      "cell_type": "code",
      "execution_count": null,
      "metadata": {
        "id": "KnK1tZkIxE2S"
      },
      "outputs": [],
      "source": [
        "# install Java8\n",
        "!apt-get install openjdk-8-jdk-headless -qq > /dev/null\n",
        "# download spark 3.5.0\n",
        "!wget -q https://apache.osuosl.org/spark/spark-3.5.0/spark-3.5.0-bin-hadoop3.tgz"
      ]
    },
    {
      "cell_type": "code",
      "source": [
        "ls -l # check the .tgz is there"
      ],
      "metadata": {
        "colab": {
          "base_uri": "https://localhost:8080/"
        },
        "id": "mgDeGgl9xlOy",
        "outputId": "6d2f09a5-68a8-47ac-8b09-a1f69a73f978"
      },
      "execution_count": null,
      "outputs": [
        {
          "output_type": "stream",
          "name": "stdout",
          "text": [
            "total 1184108\n",
            "-rw-r--r--  1 root root     17362 Jan 24 10:54 2021_population.csv\n",
            "-rw-r--r--  1 root root     15541 Jan 24 10:54 2022_population.csv\n",
            "-rw-r--r--  1 root root     15303 Jan 24 10:54 2023_population.csv\n",
            "-rw-r--r--  1 root root     15286 Jan 24 10:54 2024_population.csv\n",
            "drwxr-xr-x  2 root root      4096 Jan 24 10:49 \u001b[0m\u001b[01;34mdataset\u001b[0m/\n",
            "drwxr-xr-x  1 root root      4096 Jan 19 14:20 \u001b[01;34msample_data\u001b[0m/\n",
            "drwxr-xr-x 13 1000 1000      4096 Sep  9 02:08 \u001b[01;34mspark-3.5.0-bin-hadoop3\u001b[0m/\n",
            "-rw-r--r--  1 root root 400395283 Sep  9 02:10 spark-3.5.0-bin-hadoop3.tgz\n",
            "-rw-r--r--  1 root root 400395283 Sep  9 02:10 spark-3.5.0-bin-hadoop3.tgz.1\n",
            "-rw-r--r--  1 root root 400395283 Sep  9 02:10 spark-3.5.0-bin-hadoop3.tgz.2\n",
            "-rw-r--r--  1 root root  11245981 Jan 24 10:55 timeseries_population_count.csv\n"
          ]
        }
      ]
    },
    {
      "cell_type": "code",
      "source": [
        "# unzip it\n",
        "!tar xf spark-3.5.0-bin-hadoop3.tgz"
      ],
      "metadata": {
        "id": "IWU5lqhBxoJC"
      },
      "execution_count": null,
      "outputs": []
    },
    {
      "cell_type": "code",
      "source": [
        "!pip install -q findspark"
      ],
      "metadata": {
        "id": "fs8Aw-pGxqOy"
      },
      "execution_count": null,
      "outputs": []
    },
    {
      "cell_type": "code",
      "source": [
        "!pip install py4j\n",
        "\n",
        "# For maps\n",
        "!pip install folium\n",
        "!pip install plotly"
      ],
      "metadata": {
        "colab": {
          "base_uri": "https://localhost:8080/"
        },
        "id": "zy0wyY3HxsQG",
        "outputId": "bbfb17ab-a339-4fd6-c8c9-60dffd879f29"
      },
      "execution_count": null,
      "outputs": [
        {
          "output_type": "stream",
          "name": "stdout",
          "text": [
            "Requirement already satisfied: py4j in /usr/local/lib/python3.10/dist-packages (0.10.9.7)\n",
            "Requirement already satisfied: folium in /usr/local/lib/python3.10/dist-packages (0.14.0)\n",
            "Requirement already satisfied: branca>=0.6.0 in /usr/local/lib/python3.10/dist-packages (from folium) (0.7.0)\n",
            "Requirement already satisfied: jinja2>=2.9 in /usr/local/lib/python3.10/dist-packages (from folium) (3.1.3)\n",
            "Requirement already satisfied: numpy in /usr/local/lib/python3.10/dist-packages (from folium) (1.23.5)\n",
            "Requirement already satisfied: requests in /usr/local/lib/python3.10/dist-packages (from folium) (2.31.0)\n",
            "Requirement already satisfied: MarkupSafe>=2.0 in /usr/local/lib/python3.10/dist-packages (from jinja2>=2.9->folium) (2.1.3)\n",
            "Requirement already satisfied: charset-normalizer<4,>=2 in /usr/local/lib/python3.10/dist-packages (from requests->folium) (3.3.2)\n",
            "Requirement already satisfied: idna<4,>=2.5 in /usr/local/lib/python3.10/dist-packages (from requests->folium) (3.6)\n",
            "Requirement already satisfied: urllib3<3,>=1.21.1 in /usr/local/lib/python3.10/dist-packages (from requests->folium) (2.0.7)\n",
            "Requirement already satisfied: certifi>=2017.4.17 in /usr/local/lib/python3.10/dist-packages (from requests->folium) (2023.11.17)\n",
            "Requirement already satisfied: plotly in /usr/local/lib/python3.10/dist-packages (5.15.0)\n",
            "Requirement already satisfied: tenacity>=6.2.0 in /usr/local/lib/python3.10/dist-packages (from plotly) (8.2.3)\n",
            "Requirement already satisfied: packaging in /usr/local/lib/python3.10/dist-packages (from plotly) (23.2)\n"
          ]
        }
      ]
    },
    {
      "cell_type": "code",
      "source": [
        "import os\n",
        "os.environ[\"JAVA_HOME\"] = \"/usr/lib/jvm/java-8-openjdk-amd64\"\n",
        "os.environ[\"SPARK_HOME\"] = \"/content/spark-3.5.0-bin-hadoop3\"\n",
        "os.environ[\"PYSPARK_SUBMIT_ARGS\"] = \"--master local[*] pyspark-shell\""
      ],
      "metadata": {
        "id": "8BCphcj_xuO7"
      },
      "execution_count": null,
      "outputs": []
    },
    {
      "cell_type": "code",
      "source": [
        "import findspark\n",
        "findspark.init(\"spark-3.5.0-bin-hadoop3\")# SPARK_HOME\n",
        "\n",
        "from pyspark.sql import SparkSession\n",
        "\n",
        "# create the session\n",
        "spark = SparkSession \\\n",
        "        .builder \\\n",
        "        .appName(\"Columns and Expressions\") \\\n",
        "        .master(\"local[*]\") \\\n",
        "        .getOrCreate()\n",
        "\n",
        "spark.version"
      ],
      "metadata": {
        "id": "OTBz7MzNxwtd",
        "colab": {
          "base_uri": "https://localhost:8080/",
          "height": 35
        },
        "outputId": "54cb8ac7-9309-4483-8701-72f229fddc6b"
      },
      "execution_count": null,
      "outputs": [
        {
          "output_type": "execute_result",
          "data": {
            "text/plain": [
              "'3.5.0'"
            ],
            "application/vnd.google.colaboratory.intrinsic+json": {
              "type": "string"
            }
          },
          "metadata": {},
          "execution_count": 31
        }
      ]
    },
    {
      "cell_type": "code",
      "source": [
        "spark"
      ],
      "metadata": {
        "id": "BkTRgrZcx3--",
        "colab": {
          "base_uri": "https://localhost:8080/",
          "height": 216
        },
        "outputId": "f9d1f08d-1f0d-4a79-f7eb-eddac161ebe0"
      },
      "execution_count": null,
      "outputs": [
        {
          "output_type": "execute_result",
          "data": {
            "text/plain": [
              "<pyspark.sql.session.SparkSession at 0x7ea4d206f310>"
            ],
            "text/html": [
              "\n",
              "            <div>\n",
              "                <p><b>SparkSession - in-memory</b></p>\n",
              "                \n",
              "        <div>\n",
              "            <p><b>SparkContext</b></p>\n",
              "\n",
              "            <p><a href=\"http://02fb21a0d225:4040\">Spark UI</a></p>\n",
              "\n",
              "            <dl>\n",
              "              <dt>Version</dt>\n",
              "                <dd><code>v3.5.0</code></dd>\n",
              "              <dt>Master</dt>\n",
              "                <dd><code>local[*]</code></dd>\n",
              "              <dt>AppName</dt>\n",
              "                <dd><code>Columns and Expressions</code></dd>\n",
              "            </dl>\n",
              "        </div>\n",
              "        \n",
              "            </div>\n",
              "        "
            ]
          },
          "metadata": {},
          "execution_count": 32
        }
      ]
    },
    {
      "cell_type": "code",
      "source": [
        "# For Pandas conversion optimization\n",
        "spark.conf.set(\"spark.sql.execution.arrow.enabled\", \"true\")"
      ],
      "metadata": {
        "id": "Q0j14T0Wx6il"
      },
      "execution_count": null,
      "outputs": []
    },
    {
      "cell_type": "code",
      "source": [
        "# Import sql functions\n",
        "from pyspark.sql.functions import *"
      ],
      "metadata": {
        "id": "1utgc___x8ni"
      },
      "execution_count": null,
      "outputs": []
    },
    {
      "cell_type": "code",
      "source": [
        "!mkdir -p dataset\n",
        "!wget -q /content/artists.csv. -P /dataset\n"
      ],
      "metadata": {
        "id": "HLTXkIoCx-UH"
      },
      "execution_count": null,
      "outputs": []
    },
    {
      "cell_type": "code",
      "source": [
        "pop21DF = spark.read \\\n",
        "    .option(\"header\", True) \\\n",
        "    .csv(\"/content/2021_population.csv\")\n",
        "pop21DF.show()\n",
        "pop22DF = spark.read \\\n",
        "    .option(\"header\", True) \\\n",
        "    .csv(\"/content/2022_population.csv\")\n",
        "pop22DF.show()\n",
        "pop23DF = spark.read \\\n",
        "    .option(\"header\", True) \\\n",
        "    .csv(\"/content/2023_population.csv\")\n",
        "pop23DF.show()\n",
        "pop24DF = spark.read \\\n",
        "    .option(\"header\", True) \\\n",
        "    .csv(\"/content/2024_population.csv\")\n",
        "pop24DF.show()\n",
        "timeseriespopDF = spark.read \\\n",
        "    .option(\"header\", True) \\\n",
        "    .csv(\"/content/timeseries_population_count.csv\")\n",
        "timeseriespopDF.show()"
      ],
      "metadata": {
        "id": "1iaeS_uMyDDm",
        "colab": {
          "base_uri": "https://localhost:8080/"
        },
        "outputId": "e8de225e-5be2-4959-99e2-c516b3222055"
      },
      "execution_count": null,
      "outputs": [
        {
          "output_type": "stream",
          "name": "stdout",
          "text": [
            "+--------+--------------+-----------------+---------------+----------------+-------------+-----------+-------+----+\n",
            "|iso_code|       country|2021_last_updated|2020_population|            area|density_sq_km|growth_rate|world_%|rank|\n",
            "+--------+--------------+-----------------+---------------+----------------+-------------+-----------+-------+----+\n",
            "|     CHN|         China|    1,447,065,329|  1,439,323,776| 9,706,961 sq_km|    149/sq_km|      0.34%| 18.34%|   1|\n",
            "|     IND|         India|    1,401,310,563|  1,380,004,385| 3,287,590 sq_km|    424/sq_km|      0.97%| 17.69%|   2|\n",
            "|     USA| United States|      334,058,426|    331,002,651| 9,372,610 sq_km|     36/sq_km|      0.58%|  4.23%|   3|\n",
            "|     IDN|     Indonesia|      278,037,263|    273,523,615| 1,904,569 sq_km|    145/sq_km|      1.04%|  3.51%|   4|\n",
            "|     PAK|      Pakistan|      227,724,796|    220,892,340|   881,912 sq_km|    255/sq_km|      1.95%|  2.86%|   5|\n",
            "|     BRA|        Brazil|      214,832,901|    212,559,417| 8,515,767 sq_km|     25/sq_km|      0.67%|  2.72%|   6|\n",
            "|     NGA|       Nigeria|      214,507,696|    206,139,589|   923,768 sq_km|    229/sq_km|      2.55%|  2.68%|   7|\n",
            "|     BGD|    Bangladesh|      167,247,491|    164,689,383|   147,570 sq_km|  1,127/sq_km|      0.98%|  2.11%|   8|\n",
            "|     RUS|        Russia|      145,899,956|    145,934,462|17,098,242 sq_km|      9/sq_km|     -0.02%|  1.85%|   9|\n",
            "|     MEX|        Mexico|      131,046,075|    128,932,753| 1,964,375 sq_km|     66/sq_km|      1.03%|  1.65%|  10|\n",
            "|     JPN|         Japan|      125,802,521|    126,476,461|   377,930 sq_km|    334/sq_km|     -0.34%|  1.60%|  11|\n",
            "|     ETH|      Ethiopia|      119,590,501|    114,963,588| 1,104,300 sq_km|    107/sq_km|      2.53%|  1.50%|  12|\n",
            "|     PHL|   Philippines|      111,913,102|    109,581,078|   342,353 sq_km|    324/sq_km|      1.34%|  1.41%|  13|\n",
            "|     EGY|         Egypt|      105,390,688|    102,334,404| 1,002,450 sq_km|    104/sq_km|      1.88%|  1.32%|  14|\n",
            "|     VNM|       Vietnam|       98,655,916|     97,338,579|   331,212 sq_km|    296/sq_km|      0.85%|  1.25%|  15|\n",
            "|     TUR|        Turkey|       85,484,777|     84,339,067|   783,562 sq_km|    109/sq_km|      0.83%|  1.08%|  17|\n",
            "|     IRN|          Iran|       85,627,052|     83,992,949| 1,648,195 sq_km|     52/sq_km|      1.23%|  1.08%|  18|\n",
            "|     DEU|       Germany|       83,975,691|     83,783,942|   357,114 sq_km|    235/sq_km|      0.14%|  1.07%|  19|\n",
            "|     THA|      Thailand|       70,039,646|     69,799,978|   513,120 sq_km|    136/sq_km|      0.22%|  0.89%|  20|\n",
            "|     GBR|United Kingdom|       68,401,087|     67,886,011|   242,900 sq_km|    281/sq_km|      0.47%|  0.87%|  21|\n",
            "+--------+--------------+-----------------+---------------+----------------+-------------+-----------+-------+----+\n",
            "only showing top 20 rows\n",
            "\n",
            "+--------+-------------+-----------------+---------------+----------+---------------+--------------+-----------+-------+----+\n",
            "|iso_code|      country|2022_last_updated|2021_population|area_sq_km|land_area_sq_km|density_/sq_km|growth_rate|world_%|rank|\n",
            "+--------+-------------+-----------------+---------------+----------+---------------+--------------+-----------+-------+----+\n",
            "|     CHN|        China|    1,425,849,077|  1,425,893,465|      9.7M|           9.4M|           151|      0.00%| 17.88%|   1|\n",
            "|     IND|        India|    1,422,076,805|  1,407,563,842|      3.3M|             3M|           477|      0.68%| 17.77%|   2|\n",
            "|     USA|United States|      339,088,530|    336,997,624|      9.4M|           9.1M|            37|      0.38%|  4.24%|   3|\n",
            "|     IDN|    Indonesia|      276,395,662|    273,753,191|      1.9M|           1.9M|           147|      0.64%|  3.45%|   4|\n",
            "|     PAK|     Pakistan|      238,149,145|    231,402,117|    881.9K|         770.9K|           306|      1.91%|  2.96%|   5|\n",
            "|     NGA|      Nigeria|      221,181,138|    213,401,323|    923.8K|         910.8K|           240|      2.41%|  2.74%|   6|\n",
            "|     BRA|       Brazil|      215,807,687|    214,326,223|      8.5M|           8.4M|            26|      0.46%|  2.70%|   7|\n",
            "|     BGD|   Bangladesh|      172,083,883|    169,356,251|    147.6K|         130.2K|         1,315|      1.08%|  2.15%|   8|\n",
            "|     RUS|       Russia|      144,694,184|    145,102,755|     17.1M|          16.4M|             9|     -0.27%|  1.81%|   9|\n",
            "|     MEX|       Mexico|      127,988,749|    126,705,138|        2M|           1.9M|            66|      0.63%|  1.60%|  10|\n",
            "|     JPN|        Japan|      123,621,701|    124,612,530|    377.9K|         364.5K|           340|     -0.53%|  1.55%|  11|\n",
            "|     ETH|     Ethiopia|      124,953,358|    120,283,026|      1.1M|           1.1M|           109|      2.57%|  1.55%|  12|\n",
            "|     PHL|  Philippines|      116,461,303|    113,880,328|    342.4K|         298.2K|           388|      1.47%|  1.45%|  13|\n",
            "|     EGY|        Egypt|      111,855,731|    109,262,178|        1M|             1M|           111|      1.58%|  1.39%|  14|\n",
            "|     COD|     Dr Congo|      100,623,500|     95,894,118|      2.3M|           2.3M|            44|      3.25%|  1.24%|  15|\n",
            "|     VNM|      Vietnam|       98,534,383|     97,468,029|    331.2K|         313.4K|           313|      0.74%|  1.23%|  16|\n",
            "|     IRN|         Iran|       88,847,083|     87,923,432|      1.6M|           1.6M|            55|      0.71%|  1.11%|  17|\n",
            "|     TUR|       Turkey|       85,593,118|     84,775,404|    783.6K|         783.6K|           109|      0.67%|  1.07%|  18|\n",
            "|     DEU|      Germany|       83,312,453|     83,408,554|    357.1K|         349.4K|           239|     -0.05%|  1.05%|  19|\n",
            "|     THA|     Thailand|       71,754,420|     71,601,103|    513.1K|         510.9K|           140|      0.13%|  0.90%|  20|\n",
            "+--------+-------------+-----------------+---------------+----------+---------------+--------------+-----------+-------+----+\n",
            "only showing top 20 rows\n",
            "\n",
            "+--------+--------------+-----------------+---------------+----------+---------------+--------------+-----------+-------+----+---------+\n",
            "|iso_code|       country|2023_last_updated|2022_population|area_sq_km|land_area_sq_km|density_/sq_km|growth_rate|world_%|rank|un_member|\n",
            "+--------+--------------+-----------------+---------------+----------+---------------+--------------+-----------+-------+----+---------+\n",
            "|     IND|         India|    1,435,297,914|  1,417,173,173|      3.3M|             3M|           481|      0.81%| 17.85%|   1|      IND|\n",
            "|     CHN|         China|    1,425,491,204|  1,425,887,337|      9.7M|           9.4M|           151|     -0.02%| 17.81%|   2|      CHN|\n",
            "|     USA| United States|      340,922,810|    338,289,857|      9.4M|           9.1M|            37|       0.5%|  4.25%|   3|      USA|\n",
            "|     IDN|     Indonesia|      278,693,126|    275,501,339|      1.9M|           1.9M|           148|      0.74%|  3.47%|   4|      IDN|\n",
            "|     PAK|      Pakistan|      242,869,029|    235,824,862|    881.9K|         770.9K|           312|      1.98%|     3%|   5|      PAK|\n",
            "|     NGA|       Nigeria|      226,482,935|    218,541,212|    923.8K|         910.8K|           246|      2.41%|   2.8%|   6|      NGA|\n",
            "|     BRA|        Brazil|      217,048,978|    215,313,498|      8.5M|           8.4M|            26|      0.52%|   2.7%|   7|      BRA|\n",
            "|     BGD|    Bangladesh|      173,842,304|    171,186,372|    147.6K|         130.2K|         1,329|      1.03%|  2.16%|   8|      BGD|\n",
            "|     RUS|        Russia|      144,192,471|    144,713,314|     17.1M|          16.4M|             9|     -0.19%|   1.8%|   9|      RUS|\n",
            "|     MEX|        Mexico|      128,932,241|    127,504,125|        2M|           1.9M|            66|      0.75%|   1.6%|  10|      MEX|\n",
            "|     ETH|      Ethiopia|      128,134,042|    123,379,924|      1.1M|           1.1M|           112|      2.55%|  1.58%|  11|      ETH|\n",
            "|     JPN|         Japan|      122,961,319|    123,951,692|    377.9K|         364.5K|           338|     -0.53%|  1.54%|  12|      JPN|\n",
            "|     PHL|   Philippines|      118,231,730|    115,559,009|    342.4K|         298.2K|           394|      1.54%|  1.47%|  13|      PHL|\n",
            "|     EGY|         Egypt|      113,595,018|    110,990,103|        1M|             1M|           113|      1.56%|  1.41%|  14|      EGY|\n",
            "|     VNM|       Vietnam|       99,190,549|     98,186,856|    331.2K|         313.4K|           315|      0.68%|  1.23%|  16|      VNM|\n",
            "|     IRN|          Iran|       89,504,366|     88,550,570|      1.6M|           1.6M|            55|       0.7%|  1.11%|  17|      IRN|\n",
            "|     TUR|        Turkey|       86,044,174|     85,341,241|    783.6K|         783.6K|           110|      0.56%|  1.07%|  18|      TUR|\n",
            "|     DEU|       Germany|       83,275,502|     83,369,843|    357.1K|         349.4K|           238|     -0.09%|  1.04%|  19|      DEU|\n",
            "|     THA|      Thailand|       71,849,106|     71,697,030|    513.1K|         510.9K|           141|      0.15%|   0.9%|  20|      THA|\n",
            "|     GBR|United Kingdom|       67,851,586|     67,508,936|    242.9K|         241.9K|           280|      0.34%|  0.85%|  21|      GBR|\n",
            "+--------+--------------+-----------------+---------------+----------+---------------+--------------+-----------+-------+----+---------+\n",
            "only showing top 20 rows\n",
            "\n",
            "+--------+-------------+-----------------+---------------+----------+---------------+--------------+-----------+-------+----+---------+\n",
            "|iso_code|      country|2024_last_updated|2023_population|area_sq_km|land_area_sq_km|density_/sq_km|growth_rate|world_%|rank|un_member|\n",
            "+--------+-------------+-----------------+---------------+----------+---------------+--------------+-----------+-------+----+---------+\n",
            "|     IND|        India|    1,436,015,555|  1,428,627,663|      3.3M|             3M|           485|      0.92%| 18.01%|   1|      IND|\n",
            "|     CHN|        China|    1,425,454,707|  1,425,671,352|      9.7M|           9.4M|           151|     -0.03%|  17.8%|   2|      CHN|\n",
            "|     USA|United States|      341,022,696|    339,996,563|      9.4M|           9.1M|            37|      0.53%|  4.27%|   3|      USA|\n",
            "|     IDN|    Indonesia|      278,817,753|    277,534,122|      1.9M|           1.9M|           149|      0.82%|   3.5%|   4|      IDN|\n",
            "|     PAK|     Pakistan|      243,131,366|    240,485,658|    881.9K|         770.9K|           318|      1.96%|  3.06%|   5|      PAK|\n",
            "|     NGA|      Nigeria|      226,782,591|    223,804,632|    923.8K|         910.8K|           252|      2.39%|  2.86%|   6|      NGA|\n",
            "|     BRA|       Brazil|      217,114,565|    216,422,446|      8.5M|           8.4M|            26|      0.56%|  2.72%|   7|      BRA|\n",
            "|     BGD|   Bangladesh|      173,938,604|    172,954,319|    147.6K|         130.2K|         1,342|      1.01%|  2.18%|   8|      BGD|\n",
            "|     RUS|       Russia|      144,166,449|    144,444,359|     17.1M|          16.4M|             9|     -0.34%|   1.8%|   9|      RUS|\n",
            "|     ETH|     Ethiopia|      128,310,977|    126,527,060|      1.1M|           1.1M|           115|      2.52%|  1.62%|  10|      ETH|\n",
            "|     MEX|       Mexico|      128,983,592|    128,455,567|        2M|           1.9M|            67|      0.73%|  1.62%|  11|      MEX|\n",
            "|     JPN|        Japan|      122,923,996|    123,294,513|    377.9K|         364.5K|           336|     -0.54%|  1.53%|  12|      JPN|\n",
            "|     PHL|  Philippines|      118,329,752|    117,337,368|    342.4K|         298.2K|           399|      1.51%|  1.49%|  13|      PHL|\n",
            "|     EGY|        Egypt|      113,695,301|    112,716,598|        1M|             1M|           115|      1.57%|  1.43%|  14|      EGY|\n",
            "|     VNM|      Vietnam|       99,224,528|     98,858,950|    331.2K|         313.4K|           317|      0.65%|  1.24%|  16|      VNM|\n",
            "|     IRN|         Iran|       89,538,016|     89,172,767|      1.6M|           1.6M|            55|      0.71%|  1.12%|  17|      IRN|\n",
            "|     TUR|       Turkey|       86,067,686|     85,816,199|    783.6K|         783.6K|           110|      0.52%|  1.08%|  18|      TUR|\n",
            "|     DEU|      Germany|       83,273,272|     83,294,633|    357.1K|         349.4K|           238|     -0.05%|  1.04%|  19|      DEU|\n",
            "|     THA|     Thailand|       71,853,908|     71,801,279|    513.1K|         510.9K|           141|      0.12%|   0.9%|  20|      THA|\n",
            "|     TZA|     Tanzania|       68,541,382|     67,438,106|    945.1K|         885.8K|            78|      2.94%|  0.87%|  21|      TZA|\n",
            "+--------+-------------+-----------------+---------------+----------+---------------+--------------+-----------+-------+----+---------+\n",
            "only showing top 20 rows\n",
            "\n",
            "+--------+-------------+------------------+--------------------+\n",
            "|iso_code|      country|current_population|    updated_datetime|\n",
            "+--------+-------------+------------------+--------------------+\n",
            "|     CHN|        China|     1,443,839,846|2021-06-02 12:55:...|\n",
            "|     IND|        India|     1,392,365,583|2021-06-02 12:55:...|\n",
            "|     USA|United States|       332,764,085|2021-06-02 12:55:...|\n",
            "|     IDN|    Indonesia|       276,140,523|2021-06-02 12:55:...|\n",
            "|     PAK|     Pakistan|       224,866,511|2021-06-02 12:55:...|\n",
            "|     BRA|       Brazil|       213,882,580|2021-06-02 12:55:...|\n",
            "|     NGA|      Nigeria|       210,990,407|2021-06-02 12:55:...|\n",
            "|     BGD|   Bangladesh|       166,178,837|2021-06-02 12:55:...|\n",
            "|     RUS|       Russia|       145,913,619|2021-06-02 12:55:...|\n",
            "|     MEX|       Mexico|       130,158,702|2021-06-02 12:55:...|\n",
            "|     JPN|        Japan|       126,083,592|2021-06-02 12:55:...|\n",
            "|     ETH|     Ethiopia|       117,649,844|2021-06-02 12:55:...|\n",
            "|     PHL|  Philippines|       110,932,526|2021-06-02 12:55:...|\n",
            "|     EGY|        Egypt|       104,108,790|2021-06-02 12:55:...|\n",
            "|     VNM|      Vietnam|        98,104,510|2021-06-02 12:55:...|\n",
            "|     COD|     Dr Congo|        92,158,697|2021-06-02 12:55:...|\n",
            "|     TUR|       Turkey|        84,984,364|2021-06-02 12:55:...|\n",
            "|     IRN|         Iran|        84,949,750|2021-06-02 12:55:...|\n",
            "|     DEU|      Germany|        83,890,540|2021-06-02 12:55:...|\n",
            "|     THA|     Thailand|        69,939,124|2021-06-02 12:55:...|\n",
            "+--------+-------------+------------------+--------------------+\n",
            "only showing top 20 rows\n",
            "\n"
          ]
        }
      ]
    },
    {
      "cell_type": "code",
      "source": [
        "# various select methods\n",
        "pop21DF.select(\n",
        "    pop21DF.country,\n",
        "    col(\"2021_last_updated\"),\n",
        "    \"iso_code\"\n",
        ").show()"
      ],
      "metadata": {
        "id": "eQsOIE_ky0up",
        "colab": {
          "base_uri": "https://localhost:8080/"
        },
        "outputId": "20237478-be18-4584-cbbd-852c39676cfd"
      },
      "execution_count": null,
      "outputs": [
        {
          "output_type": "stream",
          "name": "stdout",
          "text": [
            "+--------------+-----------------+--------+\n",
            "|       country|2021_last_updated|iso_code|\n",
            "+--------------+-----------------+--------+\n",
            "|         China|    1,447,065,329|     CHN|\n",
            "|         India|    1,401,310,563|     IND|\n",
            "| United States|      334,058,426|     USA|\n",
            "|     Indonesia|      278,037,263|     IDN|\n",
            "|      Pakistan|      227,724,796|     PAK|\n",
            "|        Brazil|      214,832,901|     BRA|\n",
            "|       Nigeria|      214,507,696|     NGA|\n",
            "|    Bangladesh|      167,247,491|     BGD|\n",
            "|        Russia|      145,899,956|     RUS|\n",
            "|        Mexico|      131,046,075|     MEX|\n",
            "|         Japan|      125,802,521|     JPN|\n",
            "|      Ethiopia|      119,590,501|     ETH|\n",
            "|   Philippines|      111,913,102|     PHL|\n",
            "|         Egypt|      105,390,688|     EGY|\n",
            "|       Vietnam|       98,655,916|     VNM|\n",
            "|        Turkey|       85,484,777|     TUR|\n",
            "|          Iran|       85,627,052|     IRN|\n",
            "|       Germany|       83,975,691|     DEU|\n",
            "|      Thailand|       70,039,646|     THA|\n",
            "|United Kingdom|       68,401,087|     GBR|\n",
            "+--------------+-----------------+--------+\n",
            "only showing top 20 rows\n",
            "\n"
          ]
        }
      ]
    },
    {
      "cell_type": "code",
      "source": [
        "pop23DF.select(sum(pop23DF['2022_population']).alias(\"WW22population\")).show()\n",
        "\n",
        "\n",
        "\n"
      ],
      "metadata": {
        "id": "Q8Hhtd1t0Rtb",
        "colab": {
          "base_uri": "https://localhost:8080/"
        },
        "outputId": "e4289c86-fae2-4931-f636-ca471a5be022"
      },
      "execution_count": null,
      "outputs": [
        {
          "output_type": "stream",
          "name": "stdout",
          "text": [
            "+--------------+\n",
            "|WW22population|\n",
            "+--------------+\n",
            "|         510.0|\n",
            "+--------------+\n",
            "\n"
          ]
        }
      ]
    },
    {
      "cell_type": "code",
      "source": [
        "pop23DF2 = pop23DF.filter(pop23DF['density_/sq_km'] > 350)\n",
        "pop23DF2.show()\n",
        "\n",
        "\n",
        "\n",
        "\n"
      ],
      "metadata": {
        "id": "yZgp4aMW5WOO",
        "colab": {
          "base_uri": "https://localhost:8080/"
        },
        "outputId": "fab57509-e820-4f04-8a87-3041e1409834"
      },
      "execution_count": null,
      "outputs": [
        {
          "output_type": "stream",
          "name": "stdout",
          "text": [
            "+--------+-----------+-----------------+---------------+----------+---------------+--------------+-----------+-------+----+---------+\n",
            "|iso_code|    country|2023_last_updated|2022_population|area_sq_km|land_area_sq_km|density_/sq_km|growth_rate|world_%|rank|un_member|\n",
            "+--------+-----------+-----------------+---------------+----------+---------------+--------------+-----------+-------+----+---------+\n",
            "|     IND|      India|    1,435,297,914|  1,417,173,173|      3.3M|             3M|           481|      0.81%| 17.85%|   1|      IND|\n",
            "|     PHL|Philippines|      118,231,730|    115,559,009|    342.4K|         298.2K|           394|      1.54%|  1.47%|  13|      PHL|\n",
            "|     KOR|South Korea|       51,764,928|     51,815,810|    100.2K|          97.6K|           531|     -0.06%|  0.65%|  29|      KOR|\n",
            "|     TWN|     Taiwan|       23,937,624|     23,893,394|     36.2K|          36.2K|           661|      0.13%|   0.3%|  57|      TWN|\n",
            "|     LKA|  Sri Lanka|       21,922,275|     21,832,143|     65.6K|          61.9K|           354|      0.28%|  0.27%|  61|      LKA|\n",
            "|     NLD|Netherlands|       17,645,401|     17,564,014|     41.9K|          33.7K|           523|      0.31%|  0.22%|  72|      NLD|\n",
            "|     RWA|     Rwanda|       14,255,700|     13,776,698|     26.3K|          24.7K|           571|      2.31%|  0.18%|  76|      RWA|\n",
            "|     BDI|    Burundi|       13,415,518|     12,889,576|     27.8K|          25.7K|           516|      2.71%|  0.17%|  78|      BDI|\n",
            "|     HTI|      Haiti|       11,796,503|     11,584,996|     27.8K|          27.6K|           425|      1.21%|  0.15%|  81|      HTI|\n",
            "|     BEL|    Belgium|       11,700,488|     11,655,930|     30.5K|          30.3K|           386|      0.26%|  0.15%|  82|      BEL|\n",
            "|     ISR|     Israel|        9,243,072|      9,038,309|     20.8K|          21.6K|           424|      1.51%|  0.11%|  98|      ISR|\n",
            "|     PSE|  Palestine|        5,433,405|      5,250,072|      6.2K|             6K|           892|      2.31%|  0.07%| 121|      PSE|\n",
            "|     LBN|    Lebanon|        5,282,190|      5,489,739|     10.5K|          10.2K|           523|     -2.47%|  0.07%| 122|      LBN|\n",
            "|     PRI|Puerto Rico|        3,265,097|      3,252,407|      8.9K|           8.9K|           368|      0.24%|  0.04%| 136|      PRI|\n",
            "|     MUS|  Mauritius|        1,300,557|      1,299,469|        2K|             2K|           641|      0.08%|  0.02%| 157|      MUS|\n",
            "|      RU|    Reunion|          984,984|        974,052|      2.5K|           2.5K|           391|       0.8%|  0.01%| 161|       RU|\n",
            "|     COM|    Comoros|          860,046|        836,774|      1.9K|           1.9K|           458|      1.83%|  0.01%| 163|      COM|\n",
            "|     MYT|    Mayotte|          340,778|        326,101|       374|            374|           898|      3.03%|       | 181|      MYT|\n",
            "|     BRB|   Barbados|          281,995|        281,635|       430|            430|           656|      0.13%|       | 186|      BRB|\n",
            "|     CUW|    Curacao|          192,077|        191,163|       444|            444|           433|      0.48%|       | 189|      CUW|\n",
            "+--------+-----------+-----------------+---------------+----------+---------------+--------------+-----------+-------+----+---------+\n",
            "only showing top 20 rows\n",
            "\n"
          ]
        }
      ]
    },
    {
      "cell_type": "code",
      "source": [
        "# Verificar tipos de datos\n",
        "pop22DF.printSchema()\n"
      ],
      "metadata": {
        "colab": {
          "base_uri": "https://localhost:8080/"
        },
        "id": "w_bmksTFJAHb",
        "outputId": "93c2af1a-4b3c-432e-d990-ff8e37bd8931"
      },
      "execution_count": null,
      "outputs": [
        {
          "output_type": "stream",
          "name": "stdout",
          "text": [
            "root\n",
            " |-- iso_code: string (nullable = true)\n",
            " |-- country: string (nullable = true)\n",
            " |-- 2022_last_updated: string (nullable = true)\n",
            " |-- 2021_population: string (nullable = true)\n",
            " |-- area_sq_km: string (nullable = true)\n",
            " |-- land_area_sq_km: string (nullable = true)\n",
            " |-- density_/sq_km: string (nullable = true)\n",
            " |-- growth_rate: string (nullable = true)\n",
            " |-- world_%: string (nullable = true)\n",
            " |-- rank: string (nullable = true)\n",
            "\n"
          ]
        }
      ]
    },
    {
      "cell_type": "code",
      "source": [
        "difference2122DF = pop22DF.withColumn(\"difference\", col(\"2022_last_updated\")-col(\"2021_population\").cast(\"int\"))\n"
      ],
      "metadata": {
        "id": "A-7iva5i9y9I"
      },
      "execution_count": null,
      "outputs": []
    },
    {
      "cell_type": "code",
      "source": [
        "# Ejemplo de consulta con groupBy y agregación\n",
        "result = pop23DF.groupBy('iso_code').agg(avg('density_/sq_km').alias('avg_density'))\n",
        "result.show()\n"
      ],
      "metadata": {
        "id": "bKAoDG_LA2Yf",
        "colab": {
          "base_uri": "https://localhost:8080/"
        },
        "outputId": "565866ce-bd4b-4fe6-cb32-78bc257754aa"
      },
      "execution_count": null,
      "outputs": [
        {
          "output_type": "stream",
          "name": "stdout",
          "text": [
            "+--------+-----------+\n",
            "|iso_code|avg_density|\n",
            "+--------+-----------+\n",
            "|     NIU|        7.0|\n",
            "|     HTI|      425.0|\n",
            "|     PSE|      892.0|\n",
            "|     POL|      134.0|\n",
            "|     LVA|       29.0|\n",
            "|     BRB|      656.0|\n",
            "|     ZMB|       28.0|\n",
            "|     JAM|      261.0|\n",
            "|     BRA|       26.0|\n",
            "|     ARM|       98.0|\n",
            "|     MOZ|       43.0|\n",
            "|     JOR|      128.0|\n",
            "|     CUB|      108.0|\n",
            "|     FRA|      118.0|\n",
            "|     SOM|       29.0|\n",
            "|     ABW|      590.0|\n",
            "|     BRN|       86.0|\n",
            "|     FSM|      165.0|\n",
            "|     BOL|       11.0|\n",
            "|     URY|       20.0|\n",
            "+--------+-----------+\n",
            "only showing top 20 rows\n",
            "\n"
          ]
        }
      ]
    },
    {
      "cell_type": "code",
      "source": [
        "joinCondition = pop23DF.country == pop24DF.country\n",
        "joined2324DF = pop23DF.join(pop24DF, 'country', 'inner')\n",
        "joined2324DF.show()"
      ],
      "metadata": {
        "id": "HDpt7KioC5bk",
        "colab": {
          "base_uri": "https://localhost:8080/"
        },
        "outputId": "3f844610-cd39-47ef-dcff-26d365b67731"
      },
      "execution_count": null,
      "outputs": [
        {
          "output_type": "stream",
          "name": "stdout",
          "text": [
            "+--------------+--------+-----------------+---------------+----------+---------------+--------------+-----------+-------+----+---------+--------+-----------------+---------------+----------+---------------+--------------+-----------+-------+----+---------+\n",
            "|       country|iso_code|2023_last_updated|2022_population|area_sq_km|land_area_sq_km|density_/sq_km|growth_rate|world_%|rank|un_member|iso_code|2024_last_updated|2023_population|area_sq_km|land_area_sq_km|density_/sq_km|growth_rate|world_%|rank|un_member|\n",
            "+--------------+--------+-----------------+---------------+----------+---------------+--------------+-----------+-------+----+---------+--------+-----------------+---------------+----------+---------------+--------------+-----------+-------+----+---------+\n",
            "|         India|     IND|    1,435,297,914|  1,417,173,173|      3.3M|             3M|           481|      0.81%| 17.85%|   1|      IND|     IND|    1,436,015,555|  1,428,627,663|      3.3M|             3M|           485|      0.92%| 18.01%|   1|      IND|\n",
            "|         China|     CHN|    1,425,491,204|  1,425,887,337|      9.7M|           9.4M|           151|     -0.02%| 17.81%|   2|      CHN|     CHN|    1,425,454,707|  1,425,671,352|      9.7M|           9.4M|           151|     -0.03%|  17.8%|   2|      CHN|\n",
            "| United States|     USA|      340,922,810|    338,289,857|      9.4M|           9.1M|            37|       0.5%|  4.25%|   3|      USA|     USA|      341,022,696|    339,996,563|      9.4M|           9.1M|            37|      0.53%|  4.27%|   3|      USA|\n",
            "|     Indonesia|     IDN|      278,693,126|    275,501,339|      1.9M|           1.9M|           148|      0.74%|  3.47%|   4|      IDN|     IDN|      278,817,753|    277,534,122|      1.9M|           1.9M|           149|      0.82%|   3.5%|   4|      IDN|\n",
            "|      Pakistan|     PAK|      242,869,029|    235,824,862|    881.9K|         770.9K|           312|      1.98%|     3%|   5|      PAK|     PAK|      243,131,366|    240,485,658|    881.9K|         770.9K|           318|      1.96%|  3.06%|   5|      PAK|\n",
            "|       Nigeria|     NGA|      226,482,935|    218,541,212|    923.8K|         910.8K|           246|      2.41%|   2.8%|   6|      NGA|     NGA|      226,782,591|    223,804,632|    923.8K|         910.8K|           252|      2.39%|  2.86%|   6|      NGA|\n",
            "|        Brazil|     BRA|      217,048,978|    215,313,498|      8.5M|           8.4M|            26|      0.52%|   2.7%|   7|      BRA|     BRA|      217,114,565|    216,422,446|      8.5M|           8.4M|            26|      0.56%|  2.72%|   7|      BRA|\n",
            "|    Bangladesh|     BGD|      173,842,304|    171,186,372|    147.6K|         130.2K|         1,329|      1.03%|  2.16%|   8|      BGD|     BGD|      173,938,604|    172,954,319|    147.6K|         130.2K|         1,342|      1.01%|  2.18%|   8|      BGD|\n",
            "|        Russia|     RUS|      144,192,471|    144,713,314|     17.1M|          16.4M|             9|     -0.19%|   1.8%|   9|      RUS|     RUS|      144,166,449|    144,444,359|     17.1M|          16.4M|             9|     -0.34%|   1.8%|   9|      RUS|\n",
            "|        Mexico|     MEX|      128,932,241|    127,504,125|        2M|           1.9M|            66|      0.75%|   1.6%|  10|      MEX|     MEX|      128,983,592|    128,455,567|        2M|           1.9M|            67|      0.73%|  1.62%|  11|      MEX|\n",
            "|      Ethiopia|     ETH|      128,134,042|    123,379,924|      1.1M|           1.1M|           112|      2.55%|  1.58%|  11|      ETH|     ETH|      128,310,977|    126,527,060|      1.1M|           1.1M|           115|      2.52%|  1.62%|  10|      ETH|\n",
            "|         Japan|     JPN|      122,961,319|    123,951,692|    377.9K|         364.5K|           338|     -0.53%|  1.54%|  12|      JPN|     JPN|      122,923,996|    123,294,513|    377.9K|         364.5K|           336|     -0.54%|  1.53%|  12|      JPN|\n",
            "|   Philippines|     PHL|      118,231,730|    115,559,009|    342.4K|         298.2K|           394|      1.54%|  1.47%|  13|      PHL|     PHL|      118,329,752|    117,337,368|    342.4K|         298.2K|           399|      1.51%|  1.49%|  13|      PHL|\n",
            "|         Egypt|     EGY|      113,595,018|    110,990,103|        1M|             1M|           113|      1.56%|  1.41%|  14|      EGY|     EGY|      113,695,301|    112,716,598|        1M|             1M|           115|      1.57%|  1.43%|  14|      EGY|\n",
            "|       Vietnam|     VNM|       99,190,549|     98,186,856|    331.2K|         313.4K|           315|      0.68%|  1.23%|  16|      VNM|     VNM|       99,224,528|     98,858,950|    331.2K|         313.4K|           317|      0.65%|  1.24%|  16|      VNM|\n",
            "|          Iran|     IRN|       89,504,366|     88,550,570|      1.6M|           1.6M|            55|       0.7%|  1.11%|  17|      IRN|     IRN|       89,538,016|     89,172,767|      1.6M|           1.6M|            55|      0.71%|  1.12%|  17|      IRN|\n",
            "|        Turkey|     TUR|       86,044,174|     85,341,241|    783.6K|         783.6K|           110|      0.56%|  1.07%|  18|      TUR|     TUR|       86,067,686|     85,816,199|    783.6K|         783.6K|           110|      0.52%|  1.08%|  18|      TUR|\n",
            "|       Germany|     DEU|       83,275,502|     83,369,843|    357.1K|         349.4K|           238|     -0.09%|  1.04%|  19|      DEU|     DEU|       83,273,272|     83,294,633|    357.1K|         349.4K|           238|     -0.05%|  1.04%|  19|      DEU|\n",
            "|      Thailand|     THA|       71,849,106|     71,697,030|    513.1K|         510.9K|           141|      0.15%|   0.9%|  20|      THA|     THA|       71,853,908|     71,801,279|    513.1K|         510.9K|           141|      0.12%|   0.9%|  20|      THA|\n",
            "|United Kingdom|     GBR|       67,851,586|     67,508,936|    242.9K|         241.9K|           280|      0.34%|  0.85%|  21|      GBR|     GBR|       67,862,993|     67,736,802|    242.9K|         241.9K|           281|      0.33%|  0.85%|  22|      GBR|\n",
            "+--------------+--------+-----------------+---------------+----------+---------------+--------------+-----------+-------+----+---------+--------+-----------------+---------------+----------+---------------+--------------+-----------+-------+----+---------+\n",
            "only showing top 20 rows\n",
            "\n"
          ]
        }
      ]
    }
  ]
}