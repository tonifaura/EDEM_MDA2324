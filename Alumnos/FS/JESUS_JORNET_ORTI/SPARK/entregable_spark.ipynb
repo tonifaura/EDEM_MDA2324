{
  "cells": [
    {
      "cell_type": "markdown",
      "metadata": {
        "id": "P0VSNugGxYj4"
      },
      "source": [
        "# Entregable e2e"
      ]
    },
    {
      "cell_type": "markdown",
      "metadata": {
        "id": "fhqHAQWiyLZA"
      },
      "source": [
        "## Prerrequisites"
      ]
    },
    {
      "cell_type": "markdown",
      "metadata": {
        "id": "O-nP6sc6xgbg"
      },
      "source": [
        "Install Java and Spark in VM"
      ]
    },
    {
      "cell_type": "code",
      "execution_count": 1,
      "metadata": {
        "id": "JRywFs7DxgOQ"
      },
      "outputs": [],
      "source": [
        "# install Java8\n",
        "!apt-get install openjdk-8-jdk-headless -qq > /dev/null\n",
        "# download spark 3.5.1\n",
        "!wget -q https://apache.osuosl.org/spark/spark-3.5.1/spark-3.5.1-bin-hadoop3.tgz"
      ]
    },
    {
      "cell_type": "code",
      "execution_count": 2,
      "metadata": {
        "id": "w8zwZ4GWxtMI"
      },
      "outputs": [],
      "source": [
        "# unzip it\n",
        "!tar xf spark-3.5.1-bin-hadoop3.tgz"
      ]
    },
    {
      "cell_type": "code",
      "execution_count": 3,
      "metadata": {
        "id": "PAG_MdchxuxI"
      },
      "outputs": [],
      "source": [
        "!pip install -q findspark"
      ]
    },
    {
      "cell_type": "code",
      "execution_count": 4,
      "metadata": {
        "id": "BM0GAnLCxwkP"
      },
      "outputs": [],
      "source": [
        "import os\n",
        "os.environ[\"JAVA_HOME\"] = \"/usr/lib/jvm/java-8-openjdk-amd64\"\n",
        "os.environ[\"SPARK_HOME\"] = \"/content/spark-3.5.1-bin-hadoop3\"\n",
        "os.environ[\"PYSPARK_SUBMIT_ARGS\"] = \"--master local[*] pyspark-shell\""
      ]
    },
    {
      "cell_type": "markdown",
      "metadata": {
        "id": "6AnypwdzxYj7"
      },
      "source": [
        "Start Spark Session\n",
        "\n",
        "---"
      ]
    },
    {
      "cell_type": "code",
      "execution_count": 5,
      "metadata": {
        "colab": {
          "base_uri": "https://localhost:8080/",
          "height": 35
        },
        "id": "CIJ4mkL-xYj7",
        "outputId": "a352ef67-579f-4912-c4c3-2e0a066cc841"
      },
      "outputs": [
        {
          "output_type": "execute_result",
          "data": {
            "text/plain": [
              "'3.5.1'"
            ],
            "application/vnd.google.colaboratory.intrinsic+json": {
              "type": "string"
            }
          },
          "metadata": {},
          "execution_count": 5
        }
      ],
      "source": [
        "import findspark\n",
        "findspark.init(\"spark-3.5.1-bin-hadoop3\")# SPARK_HOME\n",
        "\n",
        "from pyspark.sql import SparkSession\n",
        "\n",
        "# create the session\n",
        "spark = SparkSession \\\n",
        "        .builder \\\n",
        "        .appName(\"Joins\") \\\n",
        "        .master(\"local[*]\") \\\n",
        "        .config(\"spark.ui.port\", \"4500\") \\\n",
        "        .getOrCreate()\n",
        "\n",
        "spark.version"
      ]
    },
    {
      "cell_type": "code",
      "execution_count": 6,
      "metadata": {
        "colab": {
          "base_uri": "https://localhost:8080/",
          "height": 221
        },
        "id": "L2BsUYftxYj8",
        "outputId": "50074003-a04e-449c-d8f1-63d488dafb10"
      },
      "outputs": [
        {
          "output_type": "execute_result",
          "data": {
            "text/plain": [
              "<pyspark.sql.session.SparkSession at 0x7a415ca1d7b0>"
            ],
            "text/html": [
              "\n",
              "            <div>\n",
              "                <p><b>SparkSession - in-memory</b></p>\n",
              "                \n",
              "        <div>\n",
              "            <p><b>SparkContext</b></p>\n",
              "\n",
              "            <p><a href=\"http://3105abe3fe5f:4500\">Spark UI</a></p>\n",
              "\n",
              "            <dl>\n",
              "              <dt>Version</dt>\n",
              "                <dd><code>v3.5.1</code></dd>\n",
              "              <dt>Master</dt>\n",
              "                <dd><code>local[*]</code></dd>\n",
              "              <dt>AppName</dt>\n",
              "                <dd><code>Joins</code></dd>\n",
              "            </dl>\n",
              "        </div>\n",
              "        \n",
              "            </div>\n",
              "        "
            ]
          },
          "metadata": {},
          "execution_count": 6
        }
      ],
      "source": [
        "spark"
      ]
    },
    {
      "cell_type": "code",
      "execution_count": 7,
      "metadata": {
        "id": "R6uQC9cJxYj9"
      },
      "outputs": [],
      "source": [
        "# Import sql functions\n",
        "from pyspark.sql.functions import *"
      ]
    },
    {
      "cell_type": "markdown",
      "metadata": {
        "id": "Jsnl4Q2NxYj9"
      },
      "source": [
        "Load the datasets"
      ]
    },
    {
      "cell_type": "code",
      "execution_count": 15,
      "metadata": {
        "colab": {
          "base_uri": "https://localhost:8080/"
        },
        "id": "KBbu7DMqxYj9",
        "outputId": "9f859b8b-71c3-47fb-8f78-0fc5053949dc"
      },
      "outputs": [
        {
          "output_type": "stream",
          "name": "stdout",
          "text": [
            "root\n",
            " |-- Car_id: string (nullable = true)\n",
            " |-- Date: string (nullable = true)\n",
            " |-- Customer Name: string (nullable = true)\n",
            " |-- Gender: string (nullable = true)\n",
            " |-- Annual Income: integer (nullable = true)\n",
            " |-- Dealer_Name: string (nullable = true)\n",
            " |-- Company: string (nullable = true)\n",
            " |-- Model: string (nullable = true)\n",
            " |-- Engine: string (nullable = true)\n",
            " |-- Transmission: string (nullable = true)\n",
            " |-- Color: string (nullable = true)\n",
            " |-- Price ($): integer (nullable = true)\n",
            " |-- Dealer_No : string (nullable = true)\n",
            " |-- Body Style: string (nullable = true)\n",
            " |-- Phone: integer (nullable = true)\n",
            " |-- Dealer_Region: string (nullable = true)\n",
            "\n"
          ]
        }
      ],
      "source": [
        "carsDF = spark.read \\\n",
        "    .option(\"header\", \"true\") \\\n",
        "    .option(\"inferSchema\", \"true\") \\\n",
        "    .csv(\"/content/car_data.csv\")\n",
        "\n",
        "carsDF.printSchema()"
      ]
    },
    {
      "cell_type": "code",
      "execution_count": 16,
      "metadata": {
        "colab": {
          "base_uri": "https://localhost:8080/"
        },
        "id": "yOnQ1DjhxYj-",
        "outputId": "a8b36444-9bc7-4be2-ae8e-d9a492ae9e4a"
      },
      "outputs": [
        {
          "output_type": "stream",
          "name": "stdout",
          "text": [
            "+------------+--------+-------------+------+-------------+--------------------+-------+----------+--------------------+------------+-----+---------+----------+----------+-------+-------------+\n",
            "|      Car_id|    Date|Customer Name|Gender|Annual Income|         Dealer_Name|Company|     Model|              Engine|Transmission|Color|Price ($)|Dealer_No |Body Style|  Phone|Dealer_Region|\n",
            "+------------+--------+-------------+------+-------------+--------------------+-------+----------+--------------------+------------+-----+---------+----------+----------+-------+-------------+\n",
            "|C_CND_000001|1/2/2022|    Geraldine|  Male|        13500|Buddy Storbeck's ...|   Ford|Expedition|DoubleÂ Overhead ...|        Auto|Black|    26000|06457-3834|       SUV|8264678|   Middletown|\n",
            "|C_CND_000002|1/2/2022|          Gia|  Male|      1480000|    C & M Motors Inc|  Dodge|   Durango|DoubleÂ Overhead ...|        Auto|Black|    19000|60504-7114|       SUV|6848189|       Aurora|\n",
            "+------------+--------+-------------+------+-------------+--------------------+-------+----------+--------------------+------------+-----+---------+----------+----------+-------+-------------+\n",
            "only showing top 2 rows\n",
            "\n"
          ]
        }
      ],
      "source": [
        "carsDF.show(2)"
      ]
    },
    {
      "cell_type": "markdown",
      "metadata": {
        "id": "EjGzj1Rsx3Ns"
      },
      "source": [
        "## Llamadas"
      ]
    },
    {
      "cell_type": "code",
      "source": [
        "#Ventas por género\n",
        "\n",
        "carsDF.groupBy(\"Gender\").count().show()"
      ],
      "metadata": {
        "colab": {
          "base_uri": "https://localhost:8080/"
        },
        "id": "-VlLlRfEcgQX",
        "outputId": "b732155c-b91a-4f81-dd32-df7b9e25152a"
      },
      "execution_count": 17,
      "outputs": [
        {
          "output_type": "stream",
          "name": "stdout",
          "text": [
            "+------+-----+\n",
            "|Gender|count|\n",
            "+------+-----+\n",
            "|Female| 5108|\n",
            "|  Male|18798|\n",
            "+------+-----+\n",
            "\n"
          ]
        }
      ]
    },
    {
      "cell_type": "code",
      "source": [
        "#Renta media anual por cliente\n",
        "\n",
        "carsDF.groupBy(\"Annual Income\").avg().show()"
      ],
      "metadata": {
        "colab": {
          "base_uri": "https://localhost:8080/"
        },
        "id": "cq_oD93OdPj9",
        "outputId": "f68bb7e2-cb28-451c-a481-045c1bb96ec4"
      },
      "execution_count": 18,
      "outputs": [
        {
          "output_type": "stream",
          "name": "stdout",
          "text": [
            "+-------------+------------------+------------------+-----------------+\n",
            "|Annual Income|avg(Annual Income)|    avg(Price ($))|       avg(Phone)|\n",
            "+-------------+------------------+------------------+-----------------+\n",
            "|      1078000|         1078000.0|           31800.0|        7125989.0|\n",
            "|       499000|          499000.0|          34000.25|        7781931.5|\n",
            "|      1263500|         1263500.0|           36350.0|        7945770.0|\n",
            "|       702000|          702000.0|          24250.25|7953040.416666667|\n",
            "|       586500|          586500.0|           26500.0|        7877487.0|\n",
            "|       745500|          745500.0|30833.333333333332|6999182.333333333|\n",
            "|       419000|          419000.0|           24000.0|        7936461.5|\n",
            "|      1662500|         1662500.0|           28250.0|        8363704.0|\n",
            "|       488000|          488000.0|21167.166666666668|        7012831.5|\n",
            "|      1265500|         1265500.0|           23551.0|        7761314.0|\n",
            "|       441000|          441000.0|           33600.6|        6882467.4|\n",
            "|       450000|          450000.0|27727.545454545456|7483478.166666667|\n",
            "|       552000|          552000.0|           42167.0|        7607203.5|\n",
            "|       870000|          870000.0|26333.537037037036|7667980.740740741|\n",
            "|      2365000|         2365000.0|28166.666666666668|7327419.333333333|\n",
            "|       809000|          809000.0|           16000.0|        8461153.0|\n",
            "|      1205000|         1205000.0|27543.869565217392|7610835.391304348|\n",
            "|      2228000|         2228000.0|            9800.0|        6291492.0|\n",
            "|       733500|          733500.0|           75500.0|        6154972.0|\n",
            "|      1022000|         1022000.0|27200.333333333332|7810419.666666667|\n",
            "+-------------+------------------+------------------+-----------------+\n",
            "only showing top 20 rows\n",
            "\n"
          ]
        }
      ]
    },
    {
      "cell_type": "code",
      "source": [
        "#Top 10 modelos más vendidos\n",
        "\n",
        "carsDF.groupBy(\"Model\").count().orderBy(\"count\", ascending=False).show(10)"
      ],
      "metadata": {
        "colab": {
          "base_uri": "https://localhost:8080/"
        },
        "id": "mmRpGr93dWjQ",
        "outputId": "22701679-979f-4149-eeee-d26059033dad"
      },
      "execution_count": 20,
      "outputs": [
        {
          "output_type": "stream",
          "name": "stdout",
          "text": [
            "+----------+-----+\n",
            "|     Model|count|\n",
            "+----------+-----+\n",
            "|  Diamante|  418|\n",
            "|Silhouette|  411|\n",
            "|     Prizm|  411|\n",
            "|    Passat|  391|\n",
            "|Ram Pickup|  383|\n",
            "|     Jetta|  382|\n",
            "|        RL|  372|\n",
            "|     LS400|  354|\n",
            "|       LHS|  330|\n",
            "|        A6|  329|\n",
            "+----------+-----+\n",
            "only showing top 10 rows\n",
            "\n"
          ]
        }
      ]
    },
    {
      "cell_type": "code",
      "source": [
        "#Precio medio por fabricante\n",
        "\n",
        "carsDF.groupBy(\"Company\").avg(\"Price ($)\").orderBy(\"avg(Price ($))\", ascending=False).show()"
      ],
      "metadata": {
        "colab": {
          "base_uri": "https://localhost:8080/"
        },
        "id": "G0r62-v0dkuU",
        "outputId": "b925739a-12ee-4a69-fc8e-12e66fe46857"
      },
      "execution_count": 21,
      "outputs": [
        {
          "output_type": "stream",
          "name": "stdout",
          "text": [
            "+----------+------------------+\n",
            "|   Company|    avg(Price ($))|\n",
            "+----------+------------------+\n",
            "|  Cadillac|40972.093558282206|\n",
            "|      Saab|  36516.3380952381|\n",
            "|     Lexus| 34024.56733167082|\n",
            "|     Buick| 33634.36218678815|\n",
            "|Oldsmobile|  31894.2502250225|\n",
            "|   Lincoln|31407.036585365855|\n",
            "|    Saturn|31092.609215017066|\n",
            "|    Toyota| 29513.12072072072|\n",
            "|  Plymouth|29404.980551053486|\n",
            "|   Pontiac| 29358.30025125628|\n",
            "|  Infiniti|29318.153846153848|\n",
            "|      Ford| 29263.68215613383|\n",
            "|   Mercury| 28535.16361556064|\n",
            "|     Honda|28082.959039548023|\n",
            "|    Subaru| 27931.34074074074|\n",
            "|     Volvo|27788.593155893537|\n",
            "|    Nissan|27047.511286681714|\n",
            "|Mercedes-B| 26944.84280155642|\n",
            "|Mitsubishi| 26673.81832419734|\n",
            "|     Dodge|26406.341113105926|\n",
            "+----------+------------------+\n",
            "only showing top 20 rows\n",
            "\n"
          ]
        }
      ]
    },
    {
      "cell_type": "code",
      "source": [
        "#Ventas por región\n",
        "\n",
        "carsDF.groupBy(\"Dealer_Region\").count().orderBy(\"count\", ascending=False).show()"
      ],
      "metadata": {
        "colab": {
          "base_uri": "https://localhost:8080/"
        },
        "id": "sPANzZsgeF6a",
        "outputId": "dbec4ee2-73b3-4873-f2f2-62aa11633d7f"
      },
      "execution_count": 22,
      "outputs": [
        {
          "output_type": "stream",
          "name": "stdout",
          "text": [
            "+-------------+-----+\n",
            "|Dealer_Region|count|\n",
            "+-------------+-----+\n",
            "|       Austin| 4135|\n",
            "|   Janesville| 3821|\n",
            "|   Scottsdale| 3433|\n",
            "|        Pasco| 3131|\n",
            "|       Aurora| 3130|\n",
            "|   Middletown| 3128|\n",
            "|   Greenville| 3128|\n",
            "+-------------+-----+\n",
            "\n"
          ]
        }
      ]
    },
    {
      "cell_type": "code",
      "source": [
        "# Ventas mensuales\n",
        "\n",
        "spark.conf.set(\"spark.sql.legacy.timeParserPolicy\", \"LEGACY\")\n",
        "\n",
        "from pyspark.sql.functions import to_date, month\n",
        "\n",
        "df_with_month = carsDF.withColumn(\"Sale_Month\", month(to_date(\"Date\", \"M/d/yyyy\")))\n",
        "df_with_month.groupBy(\"Sale_Month\").count().orderBy(\"Sale_Month\").show()\n"
      ],
      "metadata": {
        "colab": {
          "base_uri": "https://localhost:8080/"
        },
        "id": "8afw3T5vePp9",
        "outputId": "50cfe1cf-6edc-4ccd-fc5b-c3727129d349"
      },
      "execution_count": 33,
      "outputs": [
        {
          "output_type": "stream",
          "name": "stdout",
          "text": [
            "+----------+-----+\n",
            "|Sale_Month|count|\n",
            "+----------+-----+\n",
            "|         1|  790|\n",
            "|         2|  735|\n",
            "|         3| 1535|\n",
            "|         4| 1655|\n",
            "|         5| 1895|\n",
            "|         6| 1715|\n",
            "|         7| 1725|\n",
            "|         8| 1705|\n",
            "|         9| 3305|\n",
            "|        10| 1830|\n",
            "|        11| 3470|\n",
            "|        12| 3546|\n",
            "+----------+-----+\n",
            "\n"
          ]
        }
      ]
    }
  ],
  "metadata": {
    "colab": {
      "provenance": []
    },
    "kernelspec": {
      "display_name": "Python 3",
      "language": "python",
      "name": "python3"
    },
    "language_info": {
      "codemirror_mode": {
        "name": "ipython",
        "version": 3
      },
      "file_extension": ".py",
      "mimetype": "text/x-python",
      "name": "python",
      "nbconvert_exporter": "python",
      "pygments_lexer": "ipython3",
      "version": "3.10.0"
    },
    "orig_nbformat": 4,
    "vscode": {
      "interpreter": {
        "hash": "ff1af5cda0bea4fe5c4ebc1f94ab9f13d8998f98d08e16d8aba48673b9d00116"
      }
    }
  },
  "nbformat": 4,
  "nbformat_minor": 0
}