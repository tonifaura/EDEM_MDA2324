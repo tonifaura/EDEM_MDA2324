{
  "cells": [
    {
      "cell_type": "markdown",
      "metadata": {
        "id": "u3WKxUMvQ9JW"
      },
      "source": [
        "# DataFrames Basics"
      ]
    },
    {
      "cell_type": "markdown",
      "metadata": {
        "id": "IBsRl4yARA3x"
      },
      "source": [
        "## Prerrequisites"
      ]
    },
    {
      "cell_type": "markdown",
      "metadata": {
        "id": "0KID1ObYRDA4"
      },
      "source": [
        "Install Spark and Java in VM"
      ]
    },
    {
      "cell_type": "code",
      "execution_count": 1,
      "metadata": {
        "id": "-9EjQzqhRJSZ"
      },
      "outputs": [],
      "source": [
        "# install Java8\n",
        "!apt-get install openjdk-8-jdk-headless -qq > /dev/null\n",
        "# download spark 3.5.0\n",
        "!wget -q https://apache.osuosl.org/spark/spark-3.5.0/spark-3.5.0-bin-hadoop3.tgz"
      ]
    },
    {
      "cell_type": "code",
      "execution_count": 2,
      "metadata": {
        "colab": {
          "base_uri": "https://localhost:8080/"
        },
        "id": "E4s6wcUsSPHQ",
        "outputId": "c2a6ad7c-75f9-41c0-9320-bf1df9ae0554"
      },
      "outputs": [
        {
          "output_type": "stream",
          "name": "stdout",
          "text": [
            "total 391016\n",
            "drwxr-xr-x 1 root root      4096 Jan 11 17:02 \u001b[0m\u001b[01;34msample_data\u001b[0m/\n",
            "-rw-r--r-- 1 root root 400395283 Sep  9 02:10 spark-3.5.0-bin-hadoop3.tgz\n"
          ]
        }
      ],
      "source": [
        "ls -l # check the .tgz is there"
      ]
    },
    {
      "cell_type": "code",
      "execution_count": 3,
      "metadata": {
        "id": "hSA_T2q7SEt_"
      },
      "outputs": [],
      "source": [
        "# unzip it\n",
        "!tar xf spark-3.5.0-bin-hadoop3.tgz"
      ]
    },
    {
      "cell_type": "code",
      "execution_count": 4,
      "metadata": {
        "id": "HpKEfJTeii2Y"
      },
      "outputs": [],
      "source": [
        "!pip install -q findspark"
      ]
    },
    {
      "cell_type": "code",
      "execution_count": 5,
      "metadata": {
        "colab": {
          "base_uri": "https://localhost:8080/"
        },
        "id": "zwH-zC17SGnP",
        "outputId": "ed95ca32-d04a-4254-ca29-6dcdd32dd475"
      },
      "outputs": [
        {
          "output_type": "stream",
          "name": "stdout",
          "text": [
            "Requirement already satisfied: py4j in /usr/local/lib/python3.10/dist-packages (0.10.9.7)\n",
            "Requirement already satisfied: folium in /usr/local/lib/python3.10/dist-packages (0.14.0)\n",
            "Requirement already satisfied: branca>=0.6.0 in /usr/local/lib/python3.10/dist-packages (from folium) (0.7.0)\n",
            "Requirement already satisfied: jinja2>=2.9 in /usr/local/lib/python3.10/dist-packages (from folium) (3.1.2)\n",
            "Requirement already satisfied: numpy in /usr/local/lib/python3.10/dist-packages (from folium) (1.23.5)\n",
            "Requirement already satisfied: requests in /usr/local/lib/python3.10/dist-packages (from folium) (2.31.0)\n",
            "Requirement already satisfied: MarkupSafe>=2.0 in /usr/local/lib/python3.10/dist-packages (from jinja2>=2.9->folium) (2.1.3)\n",
            "Requirement already satisfied: charset-normalizer<4,>=2 in /usr/local/lib/python3.10/dist-packages (from requests->folium) (3.3.2)\n",
            "Requirement already satisfied: idna<4,>=2.5 in /usr/local/lib/python3.10/dist-packages (from requests->folium) (3.6)\n",
            "Requirement already satisfied: urllib3<3,>=1.21.1 in /usr/local/lib/python3.10/dist-packages (from requests->folium) (2.0.7)\n",
            "Requirement already satisfied: certifi>=2017.4.17 in /usr/local/lib/python3.10/dist-packages (from requests->folium) (2023.11.17)\n",
            "Requirement already satisfied: plotly in /usr/local/lib/python3.10/dist-packages (5.15.0)\n",
            "Requirement already satisfied: tenacity>=6.2.0 in /usr/local/lib/python3.10/dist-packages (from plotly) (8.2.3)\n",
            "Requirement already satisfied: packaging in /usr/local/lib/python3.10/dist-packages (from plotly) (23.2)\n"
          ]
        }
      ],
      "source": [
        "\n",
        "!pip install py4j\n",
        "\n",
        "# For maps\n",
        "!pip install folium\n",
        "!pip install plotly"
      ]
    },
    {
      "cell_type": "markdown",
      "metadata": {
        "id": "y1tk452JRjuY"
      },
      "source": [
        "Define the environment"
      ]
    },
    {
      "cell_type": "code",
      "execution_count": 6,
      "metadata": {
        "id": "vrMxCiuZRl7h"
      },
      "outputs": [],
      "source": [
        "import os\n",
        "os.environ[\"JAVA_HOME\"] = \"/usr/lib/jvm/java-8-openjdk-amd64\"\n",
        "os.environ[\"SPARK_HOME\"] = \"/content/spark-3.5.0-bin-hadoop3\"\n",
        "os.environ[\"PYSPARK_SUBMIT_ARGS\"] = \"--master local[*] pyspark-shell\""
      ]
    },
    {
      "cell_type": "markdown",
      "metadata": {
        "id": "vk_3rL02Q9JZ"
      },
      "source": [
        "Start Spark Session\n",
        "\n",
        "---"
      ]
    },
    {
      "cell_type": "code",
      "execution_count": 7,
      "metadata": {
        "colab": {
          "base_uri": "https://localhost:8080/",
          "height": 36
        },
        "id": "-HtQz6mfQ9JZ",
        "outputId": "d26b1f45-df82-480e-e311-f1367bd3cfe4"
      },
      "outputs": [
        {
          "output_type": "execute_result",
          "data": {
            "text/plain": [
              "'3.5.0'"
            ],
            "application/vnd.google.colaboratory.intrinsic+json": {
              "type": "string"
            }
          },
          "metadata": {},
          "execution_count": 7
        }
      ],
      "source": [
        "import findspark\n",
        "findspark.init(\"spark-3.5.0-bin-hadoop3\")# SPARK_HOME\n",
        "\n",
        "from pyspark.sql import SparkSession\n",
        "\n",
        "# create the session\n",
        "spark = SparkSession \\\n",
        "        .builder \\\n",
        "        .appName(\"DataFrames Basics\") \\\n",
        "        .master(\"local[*]\") \\\n",
        "        .getOrCreate()\n",
        "\n",
        "spark.version"
      ]
    },
    {
      "cell_type": "code",
      "execution_count": 8,
      "metadata": {
        "colab": {
          "base_uri": "https://localhost:8080/",
          "height": 219
        },
        "id": "DrOjmfL9Q9Ja",
        "outputId": "d5f11a93-c1f4-4e0d-ae69-4c2b2d293f1e"
      },
      "outputs": [
        {
          "output_type": "execute_result",
          "data": {
            "text/plain": [
              "<pyspark.sql.session.SparkSession at 0x7f4c627d3460>"
            ],
            "text/html": [
              "\n",
              "            <div>\n",
              "                <p><b>SparkSession - in-memory</b></p>\n",
              "                \n",
              "        <div>\n",
              "            <p><b>SparkContext</b></p>\n",
              "\n",
              "            <p><a href=\"http://ed7d171d8bf3:4040\">Spark UI</a></p>\n",
              "\n",
              "            <dl>\n",
              "              <dt>Version</dt>\n",
              "                <dd><code>v3.5.0</code></dd>\n",
              "              <dt>Master</dt>\n",
              "                <dd><code>local[*]</code></dd>\n",
              "              <dt>AppName</dt>\n",
              "                <dd><code>DataFrames Basics</code></dd>\n",
              "            </dl>\n",
              "        </div>\n",
              "        \n",
              "            </div>\n",
              "        "
            ]
          },
          "metadata": {},
          "execution_count": 8
        }
      ],
      "source": [
        "spark"
      ]
    },
    {
      "cell_type": "code",
      "execution_count": 9,
      "metadata": {
        "id": "IBZ8ufPAQ9Jb"
      },
      "outputs": [],
      "source": [
        "# For Pandas conversion optimization\n",
        "spark.conf.set(\"spark.sql.execution.arrow.enabled\", \"true\")"
      ]
    },
    {
      "cell_type": "code",
      "execution_count": 10,
      "metadata": {
        "id": "nJ-cdrAlQ9Jb"
      },
      "outputs": [],
      "source": [
        "# Import sql functions\n",
        "from pyspark.sql.functions import *"
      ]
    },
    {
      "cell_type": "markdown",
      "source": [
        "El dataset escogido muestra: Cada partido incluye el torneo, fecha, tipo de torneo, si el partido se jugó bajo techo o no, tipo de superficie de cancha, ronda del partido, número máximo de sets en el partido, participantes en el partido, ganador, rangos de los participantes. , probabilidades de ganar y puntuación del partido."
      ],
      "metadata": {
        "id": "de9ws0I9eWVg"
      }
    },
    {
      "cell_type": "markdown",
      "metadata": {
        "id": "AIP7U3YYTDbw"
      },
      "source": [
        "EJERCICIOS"
      ]
    },
    {
      "cell_type": "markdown",
      "source": [
        "1.Leemos el dataset atp_tennis.csv y seleccionamos dos columnas a nuestra elección."
      ],
      "metadata": {
        "id": "p52cpWZSz5HP"
      }
    },
    {
      "cell_type": "code",
      "source": [
        " TennisDF = spark.read.option(\"header\", \"true\").option(\"delimiter\", \",\").csv(\"/content/atp_tennis.csv\")\n",
        "TennisDF.show(20)"
      ],
      "metadata": {
        "colab": {
          "base_uri": "https://localhost:8080/"
        },
        "id": "4ndCPdYo0K0J",
        "outputId": "56bedf3f-2b23-4750-9887-93238361e098"
      },
      "execution_count": 13,
      "outputs": [
        {
          "output_type": "stream",
          "name": "stdout",
          "text": [
            "+--------------------+----------+------+-------+-------+---------+-------+------------+-------------+-------------+------+------+-----+-----+-----+-----+-------------+\n",
            "|          Tournament|      Date|Series|  Court|Surface|    Round|Best of|    Player_1|     Player_2|       Winner|Rank_1|Rank_2|Pts_1|Pts_2|Odd_1|Odd_2|        score|\n",
            "+--------------------+----------+------+-------+-------+---------+-------+------------+-------------+-------------+------+------+-----+-----+-----+-----+-------------+\n",
            "|Brisbane Internat...|2012-12-31|ATP250|Outdoor|   Hard|1st Round|      3|    Mayer F.|   Giraldo S.|     Mayer F.|    28|    57| 1215|  778| 1.36|  3.0|   6-4 6-4   |\n",
            "|Brisbane Internat...|2012-12-31|ATP250|Outdoor|   Hard|1st Round|      3|Benneteau J.|  Nieminen J.|  Nieminen J.|    35|    41| 1075|  927|  2.2| 1.61|3-6 6-2 1-6  |\n",
            "|Brisbane Internat...|2012-12-31|ATP250|Outdoor|   Hard|1st Round|      3|Nishikori K.| Matosevic M.| Nishikori K.|    19|    49| 1830|  845| 1.25| 3.75|   7-5 6-2   |\n",
            "|Brisbane Internat...|2012-12-31|ATP250|Outdoor|   Hard|1st Round|      3| Mitchell B.| Baghdatis M.| Baghdatis M.|   326|    36|  137| 1070|  9.0| 1.07|   4-6 4-6   |\n",
            "|Brisbane Internat...|2013-01-01|ATP250|Outdoor|   Hard|1st Round|      3|  Istomin D.|    Klizan M.|   Istomin D.|    43|    30|  897| 1175|  1.9|  1.8|   6-1 6-2   |\n",
            "|Brisbane Internat...|2013-01-01|ATP250|Outdoor|   Hard|1st Round|      3|      Ito T.|   Millman J.|   Millman J.|    79|   199|  655|  239|  2.2| 1.61|   4-6 1-6   |\n",
            "|Brisbane Internat...|2013-01-01|ATP250|Outdoor|   Hard|1st Round|      3|    Falla A.|    Levine J.|     Falla A.|    54|   104|  809|  530|  2.2| 1.61|   6-1 7-6   |\n",
            "|Brisbane Internat...|2013-01-01|ATP250|Outdoor|   Hard|1st Round|      3|    Kudla D.|    Melzer J.|    Melzer J.|   137|    29|  402| 1177| 2.62| 1.44|6-2 4-6 4-6  |\n",
            "|Brisbane Internat...|2013-01-01|ATP250|Outdoor|   Hard|1st Round|      3|  Robredo T.|  Harrison R.|   Robredo T.|   114|    69|  495|  710|  3.0| 1.36|   6-4 7-6   |\n",
            "|Brisbane Internat...|2013-01-01|ATP250|Outdoor|   Hard|1st Round|      3|    Baker B.|  Dimitrov G.|  Dimitrov G.|    61|    48|  756|  866|  3.0| 1.36|   3-6 6-7   |\n",
            "|Brisbane Internat...|2013-01-01|ATP250|Outdoor|   Hard|1st Round|      3|   Goffin D.|     Ebden M.|    Goffin D.|    46|   105|  868|  529| 1.57| 2.25|   6-2 6-2   |\n",
            "|Brisbane Internat...|2013-01-01|ATP250|Outdoor|   Hard|1st Round|      3| Kunitsyn I.|    Hewitt L.|    Hewitt L.|   162|    83|  339|  625| 4.33|  1.2|3-6 6-4 2-6  |\n",
            "|Brisbane Internat...|2013-01-02|ATP250|Outdoor|   Hard|2nd Round|      3|    Simon G.|     Falla A.|     Simon G.|    16|    54| 2165|  809| 1.22|  4.0|   7-6 7-6   |\n",
            "|Brisbane Internat...|2013-01-02|ATP250|Outdoor|   Hard|2nd Round|      3|    Mayer F.| Baghdatis M.| Baghdatis M.|    28|    36| 1215| 1070| 2.62| 1.44|   4-6 2-6   |\n",
            "|Brisbane Internat...|2013-01-02|ATP250|Outdoor|   Hard|2nd Round|      3|Nishikori K.|   Robredo T.| Nishikori K.|    19|   114| 1830|  495| 1.22|  4.0|   6-3 6-3   |\n",
            "|Brisbane Internat...|2013-01-02|ATP250|Outdoor|   Hard|2nd Round|      3| Nieminen J.|Dolgopolov O.|Dolgopolov O.|    41|    18|  927| 1855| 2.62| 1.44|   2-6 1-4   |\n",
            "|Brisbane Internat...|2013-01-03|ATP250|Outdoor|   Hard|2nd Round|      3| Dimitrov G.|    Raonic M.|  Dimitrov G.|    48|    13|  866| 2380| 2.75|  1.4|   6-3 6-4   |\n",
            "|Brisbane Internat...|2013-01-03|ATP250|Outdoor|   Hard|2nd Round|      3|   Goffin D.|    Melzer J.|    Melzer J.|    46|    29|  868| 1177| 1.57| 2.25|   4-6 6-7   |\n",
            "|Brisbane Internat...|2013-01-03|ATP250|Outdoor|   Hard|2nd Round|      3|  Istomin D.|    Hewitt L.|   Istomin D.|    43|    83|  897|  625| 1.83| 1.83|   7-5 7-5   |\n",
            "|Brisbane Internat...|2013-01-03|ATP250|Outdoor|   Hard|2nd Round|      3|  Millman J.|    Murray A.|    Murray A.|   199|     3|  239| 8000| 17.0| 1.02|1-6 7-5 3-6  |\n",
            "+--------------------+----------+------+-------+-------+---------+-------+------------+-------------+-------------+------+------+-----+-----+-----+-----+-------------+\n",
            "only showing top 20 rows\n",
            "\n"
          ]
        }
      ]
    },
    {
      "cell_type": "markdown",
      "source": [],
      "metadata": {
        "id": "FFnyQE5O1hw2"
      }
    },
    {
      "cell_type": "code",
      "source": [
        "TennisDF.select(\n",
        "    TennisDF.Tournament,\n",
        "    col(\"Surface\"),\n",
        ").show(3)"
      ],
      "metadata": {
        "colab": {
          "base_uri": "https://localhost:8080/"
        },
        "id": "X3P5VlaT2Ihb",
        "outputId": "3613bfec-ae22-4048-8861-0c07dcfa365b"
      },
      "execution_count": 14,
      "outputs": [
        {
          "output_type": "stream",
          "name": "stdout",
          "text": [
            "+--------------------+-------+\n",
            "|          Tournament|Surface|\n",
            "+--------------------+-------+\n",
            "|Brisbane Internat...|   Hard|\n",
            "|Brisbane Internat...|   Hard|\n",
            "|Brisbane Internat...|   Hard|\n",
            "+--------------------+-------+\n",
            "only showing top 3 rows\n",
            "\n"
          ]
        }
      ]
    },
    {
      "cell_type": "markdown",
      "source": [
        "Mostramos las distintas superfícies que hay en el tenis.\n"
      ],
      "metadata": {
        "id": "vCj8LnwT2_Sg"
      }
    },
    {
      "cell_type": "code",
      "source": [
        "TennisDF.select(countDistinct(TennisDF.Surface)).show()"
      ],
      "metadata": {
        "colab": {
          "base_uri": "https://localhost:8080/"
        },
        "id": "wB13KTc3a6CE",
        "outputId": "4ef833a8-263d-4dd7-869a-1fe3687c6b6c"
      },
      "execution_count": 30,
      "outputs": [
        {
          "output_type": "stream",
          "name": "stdout",
          "text": [
            "+-----------------------+\n",
            "|count(DISTINCT Surface)|\n",
            "+-----------------------+\n",
            "|                      3|\n",
            "+-----------------------+\n",
            "\n"
          ]
        }
      ]
    },
    {
      "cell_type": "markdown",
      "source": [],
      "metadata": {
        "id": "gf6sgIkodhW7"
      }
    },
    {
      "cell_type": "markdown",
      "source": [
        "Mostramos el número máximo de sets por jugador"
      ],
      "metadata": {
        "id": "pL2l9loejcgr"
      }
    },
    {
      "cell_type": "code",
      "source": [
        "max_sets_by_player = TennisDF.groupBy(\"Player_1\").agg(max(\"Best of\").alias(\"max_sets_player_1\"))\n",
        "max_sets_by_player.show()\n",
        "\n",
        "max_sets_by_player = TennisDF.groupBy(\"Player_2\").agg(max(\"Best of\").alias(\"max_sets_player_2\"))\n",
        "max_sets_by_player.show()"
      ],
      "metadata": {
        "colab": {
          "base_uri": "https://localhost:8080/"
        },
        "id": "EMBU2GZojRuj",
        "outputId": "ba54771d-672b-4f2c-9aee-9bf1e43c130a"
      },
      "execution_count": 39,
      "outputs": [
        {
          "output_type": "stream",
          "name": "stdout",
          "text": [
            "+-----------------+-----------------+\n",
            "|         Player_1|max_sets_player_1|\n",
            "+-----------------+-----------------+\n",
            "|     Agamenone F.|                5|\n",
            "|       Aguilar J.|                3|\n",
            "|        Ahouda A.|                3|\n",
            "|     Ajdukovic D.|                3|\n",
            "|         Albot R.|                5|\n",
            "|       Alcaraz C.|                5|\n",
            "|       Almagro N.|                5|\n",
            "|    Altamirano C.|                5|\n",
            "|      Altmaier D.|                5|\n",
            "|         Alund M.|                5|\n",
            "|Alvarez Varona N.|                3|\n",
            "|      Amritraj P.|                3|\n",
            "|      Anderson K.|                5|\n",
            "|       Andreev A.|                3|\n",
            "|     Andreozzi G.|                5|\n",
            "|       Andujar P.|                5|\n",
            "|       Aragone J.|                5|\n",
            "|      Arguello F.|                5|\n",
            "|     Arnaboldi A.|                5|\n",
            "|       Arnaldi M.|                3|\n",
            "+-----------------+-----------------+\n",
            "only showing top 20 rows\n",
            "\n",
            "+------------+-----------------+\n",
            "|    Player_2|max_sets_player_2|\n",
            "+------------+-----------------+\n",
            "|Agamenone F.|                3|\n",
            "|   Ahouda A.|                3|\n",
            "|Ajdukovic D.|                3|\n",
            "|    Albot R.|                5|\n",
            "|  Alcaraz C.|                5|\n",
            "|  Almagro N.|                5|\n",
            "| Altmaier D.|                5|\n",
            "|    Alund M.|                5|\n",
            "|    Alves M.|                3|\n",
            "| Amritraj P.|                3|\n",
            "| Anderson K.|                5|\n",
            "| Anderson O.|                3|\n",
            "|  Andreev A.|                3|\n",
            "|  Andreev I.|                5|\n",
            "|Andreozzi G.|                5|\n",
            "|  Androic T.|                3|\n",
            "|  Andujar P.|                5|\n",
            "|Aragone J.C.|                3|\n",
            "|  Aragone JC|                3|\n",
            "|  Arevalo M.|                3|\n",
            "+------------+-----------------+\n",
            "only showing top 20 rows\n",
            "\n"
          ]
        }
      ]
    },
    {
      "cell_type": "markdown",
      "source": [
        "Número máximo de victorias por superfície y jugador"
      ],
      "metadata": {
        "id": "fVNE6uaij4dy"
      }
    },
    {
      "cell_type": "code",
      "source": [
        "victories_df = TennisDF.filter(col(\"Winner\") == col(\"Player_1\"))\n",
        "\n",
        "# Agrupar por superficie y jugador y contar el número de victorias\n",
        "victories_by_surface_and_player = victories_df.groupBy(\"Surface\", \"Player_1\").agg(count(\"Winner\").alias(\"num_victories\"))\n",
        "\n",
        "# Mostrar el resultado\n",
        "victories_by_surface_and_player.show()"
      ],
      "metadata": {
        "colab": {
          "base_uri": "https://localhost:8080/"
        },
        "id": "5-Stv01Kj_fS",
        "outputId": "b7a6041f-d7b9-4bef-ec61-ca489f886a32"
      },
      "execution_count": 40,
      "outputs": [
        {
          "output_type": "stream",
          "name": "stdout",
          "text": [
            "+-------+----------------+-------------+\n",
            "|Surface|        Player_1|num_victories|\n",
            "+-------+----------------+-------------+\n",
            "|   Clay|     Janowicz J.|            7|\n",
            "|   Hard|   Gabashvili T.|           10|\n",
            "|   Clay|       Quinzi G.|            1|\n",
            "|   Hard|      Krueger M.|            4|\n",
            "|   Clay|    Tsitsipas S.|           46|\n",
            "|   Clay|      Galovic V.|            1|\n",
            "|   Hard|      Bhambri Y.|            5|\n",
            "|  Grass|        Falla A.|            4|\n",
            "|   Clay|       Ahouda A.|            1|\n",
            "|   Hard|      Almagro N.|           15|\n",
            "|   Clay|     Delbonis F.|           64|\n",
            "|   Hard|       Quiroz R.|            1|\n",
            "|  Grass|       Sugita Y.|           10|\n",
            "|   Hard|        Fritz T.|           64|\n",
            "|  Grass|Bautista Agut R.|           20|\n",
            "|   Hard|  Gunneswaran P.|            1|\n",
            "|   Clay|   Kecmanovic M.|           13|\n",
            "|   Hard|      Bolelli S.|           13|\n",
            "|   Hard|       Broady L.|            3|\n",
            "|   Hard|     Tsonga J.W.|           75|\n",
            "+-------+----------------+-------------+\n",
            "only showing top 20 rows\n",
            "\n"
          ]
        }
      ]
    },
    {
      "cell_type": "markdown",
      "source": [
        "Mostramos si los partidos ganados por jugador se jugaron bajo techo o no."
      ],
      "metadata": {
        "id": "noSMpn3pmufs"
      }
    },
    {
      "cell_type": "code",
      "source": [
        "victories_df = TennisDF.filter(col(\"Winner\") == col(\"Player_1\"))\n",
        "\n",
        "# Creamos una nueva columna indicando si el partido se jugó bajo techo o no\n",
        "victories_df = victories_df.withColumn(\"Indoor\", when(col(\"Court\") == \"Indoor\", True).otherwise(False))\n",
        "\n",
        "# Agrupamos por jugador y contamos el número de victorias bajo techo y al aire libre\n",
        "victories_by_indoor = victories_df.groupBy(\"Player_1\", \"Indoor\").agg(count(\"Winner\").alias(\"num_victories\"))\n",
        "\n",
        "# Mostrar el resultado\n",
        "victories_by_indoor.show()"
      ],
      "metadata": {
        "colab": {
          "base_uri": "https://localhost:8080/"
        },
        "id": "ov5pNcnvm2U5",
        "outputId": "640b425b-27d6-4bfa-93f6-771b01913904"
      },
      "execution_count": 41,
      "outputs": [
        {
          "output_type": "stream",
          "name": "stdout",
          "text": [
            "+--------------+------+-------------+\n",
            "|      Player_1|Indoor|num_victories|\n",
            "+--------------+------+-------------+\n",
            "|   Karlovic I.| false|           66|\n",
            "|    Pouille L.| false|           45|\n",
            "|   Forejtek J.|  true|            1|\n",
            "|      Lacko L.|  true|            4|\n",
            "|Trungelliti M.|  true|            1|\n",
            "|  De Minaur A.|  true|           16|\n",
            "|    Millman J.|  true|           13|\n",
            "|   Harrison R.| false|           35|\n",
            "|      Hajek J.| false|            3|\n",
            "|   Marterer M.| false|           14|\n",
            "|  Khachanov K.|  true|           21|\n",
            "|      Souza J.| false|            2|\n",
            "|    Galovic V.| false|            1|\n",
            "|         Wu Y.| false|            2|\n",
            "|      Evans D.|  true|           13|\n",
            "|      Marti Y.| false|            1|\n",
            "|     Tabilo A.|  true|            2|\n",
            "|       Sock J.| false|           71|\n",
            "|     Berrer M.|  true|            2|\n",
            "|   Berankis R.|  true|           12|\n",
            "+--------------+------+-------------+\n",
            "only showing top 20 rows\n",
            "\n"
          ]
        }
      ]
    },
    {
      "cell_type": "markdown",
      "source": [
        "Contamos cuántas victorias tiene cada jugador y las ordenamos por torneo\n"
      ],
      "metadata": {
        "id": "y4u5f0vyoJ-H"
      }
    },
    {
      "cell_type": "code",
      "source": [
        "victories_df = TennisDF.filter(col(\"Winner\") == col(\"Player_1\"))\n",
        "\n",
        "# Agrupamos por torneo y jugador y contamos el número de victorias\n",
        "victories_by_tournament_and_player = victories_df.groupBy(\"Tournament\", \"Player_1\").agg(count(\"Winner\").alias(\"num_victories\"))\n",
        "\n",
        "# Ordenamos por torneo y jugador\n",
        "victories_by_tournament_and_player = victories_by_tournament_and_player.orderBy(\"Tournament\", \"Player_1\")\n",
        "\n",
        "# Mostramos el resultado\n",
        "victories_by_tournament_and_player.show()"
      ],
      "metadata": {
        "colab": {
          "base_uri": "https://localhost:8080/"
        },
        "id": "FS8Zn0O4n1c8",
        "outputId": "56175618-b534-4b54-e2d4-fdeb52d9a517"
      },
      "execution_count": 43,
      "outputs": [
        {
          "output_type": "stream",
          "name": "stdout",
          "text": [
            "+--------------------+--------------------+-------------+\n",
            "|          Tournament|            Player_1|num_victories|\n",
            "+--------------------+--------------------+-------------+\n",
            "|ABN AMRO World Te...|  Auger-Aliassime F.|            4|\n",
            "|ABN AMRO World Te...|        Bachinger M.|            1|\n",
            "|ABN AMRO World Te...|        Baghdatis M.|            2|\n",
            "|ABN AMRO World Te...|          Barrere G.|            1|\n",
            "|ABN AMRO World Te...|    Bautista Agut R.|            1|\n",
            "|ABN AMRO World Te...|         Bautista R.|            3|\n",
            "|ABN AMRO World Te...|           Bedene A.|            1|\n",
            "|ABN AMRO World Te...|        Benneteau J.|            2|\n",
            "|ABN AMRO World Te...|          Berdych T.|            3|\n",
            "|ABN AMRO World Te...|           Berrer M.|            1|\n",
            "|ABN AMRO World Te...|          Brouwer G.|            1|\n",
            "|ABN AMRO World Te...|           Bublik A.|            2|\n",
            "|ABN AMRO World Te...|           Chardy J.|            2|\n",
            "|ABN AMRO World Te...|            Chung H.|            1|\n",
            "|ABN AMRO World Te...|            Cilic M.|            4|\n",
            "|ABN AMRO World Te...|            Coric B.|            1|\n",
            "|ABN AMRO World Te...|           Cressy M.|            1|\n",
            "|ABN AMRO World Te...|Davidovich Fokina A.|            1|\n",
            "|ABN AMRO World Te...|        Davydenko N.|            1|\n",
            "|ABN AMRO World Te...|        De Minaur A.|            3|\n",
            "+--------------------+--------------------+-------------+\n",
            "only showing top 20 rows\n",
            "\n"
          ]
        }
      ]
    }
  ],
  "metadata": {
    "colab": {
      "collapsed_sections": [
        "94aRTBiPQ9Jc"
      ],
      "provenance": [],
      "toc_visible": true
    },
    "kernelspec": {
      "display_name": "Python 3.10.0 64-bit",
      "language": "python",
      "name": "python3"
    },
    "language_info": {
      "codemirror_mode": {
        "name": "ipython",
        "version": 3
      },
      "file_extension": ".py",
      "mimetype": "text/x-python",
      "name": "python",
      "nbconvert_exporter": "python",
      "pygments_lexer": "ipython3",
      "version": "3.10.0"
    },
    "orig_nbformat": 4,
    "vscode": {
      "interpreter": {
        "hash": "ff1af5cda0bea4fe5c4ebc1f94ab9f13d8998f98d08e16d8aba48673b9d00116"
      }
    }
  },
  "nbformat": 4,
  "nbformat_minor": 0
}