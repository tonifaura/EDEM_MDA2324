{
  "nbformat": 4,
  "nbformat_minor": 0,
  "metadata": {
    "colab": {
      "provenance": [],
      "collapsed_sections": [
        "fLpm230Sy_3t"
      ]
    },
    "kernelspec": {
      "name": "python3",
      "display_name": "Python 3"
    },
    "language_info": {
      "name": "python"
    }
  },
  "cells": [
    {
      "cell_type": "markdown",
      "source": [
        "##Setup"
      ],
      "metadata": {
        "id": "fLpm230Sy_3t"
      }
    },
    {
      "cell_type": "code",
      "execution_count": 50,
      "metadata": {
        "colab": {
          "base_uri": "https://localhost:8080/"
        },
        "id": "EVJVRhUhrp42",
        "outputId": "664e0232-add0-421f-aaaa-09c85e55fe6d"
      },
      "outputs": [
        {
          "output_type": "stream",
          "name": "stdout",
          "text": [
            "Requirement already satisfied: py4j in /usr/local/lib/python3.10/dist-packages (0.10.9.7)\n"
          ]
        }
      ],
      "source": [
        "# install Java8\n",
        "!apt-get install openjdk-8-jdk-headless -qq > /dev/null\n",
        "# download spark 3.5.0\n",
        "!wget -q https://apache.osuosl.org/spark/spark-3.5.0/spark-3.5.0-bin-hadoop3.tgz\n",
        "\n",
        "# unzip it\n",
        "!tar xf spark-3.5.0-bin-hadoop3.tgz\n",
        "\n",
        "!pip install -q findspark\n",
        "\n",
        "!pip install py4j\n",
        "\n",
        "import os\n",
        "os.environ[\"JAVA_HOME\"] = \"/usr/lib/jvm/java-8-openjdk-amd64\"\n",
        "os.environ[\"SPARK_HOME\"] = \"/content/spark-3.5.0-bin-hadoop3\"\n",
        "os.environ[\"PYSPARK_SUBMIT_ARGS\"] = \"--master local[*] pyspark-shell\"\n",
        "\n",
        "import findspark\n",
        "findspark.init(\"spark-3.5.0-bin-hadoop3\")# SPARK_HOME\n",
        "\n",
        "from pyspark.sql import SparkSession\n",
        "\n",
        "# create the session\n",
        "spark = SparkSession \\\n",
        "        .builder \\\n",
        "        .appName(\"Aggregations and Grouping\") \\\n",
        "        .master(\"local[*]\") \\\n",
        "        .getOrCreate()\n",
        "\n",
        "spark.version\n",
        "\n",
        "\n",
        "# For Pandas conversion optimization\n",
        "spark.conf.set(\"spark.sql.execution.arrow.enabled\", \"true\")\n",
        "\n",
        "# Import sql functions\n",
        "from pyspark.sql.functions import *"
      ]
    },
    {
      "cell_type": "markdown",
      "source": [
        "##Ingesta de datos"
      ],
      "metadata": {
        "id": "ytdd5Ywmy5Im"
      }
    },
    {
      "cell_type": "code",
      "source": [
        "!mkdir -p dataset\n",
        "!wget -q https://raw.githubusercontent.com/cmarty02/EDEM_MDA2324/spark/Alumnos/FS/CRISTIAN_MARTY/SPARK/NBA-BoxScores-2023-2024.csv -P /dataset\n",
        "\n",
        "!ls /dataset"
      ],
      "metadata": {
        "colab": {
          "base_uri": "https://localhost:8080/"
        },
        "id": "bz0tAb9zsyOY",
        "outputId": "2e758524-0687-40fd-d3c5-8b7c5048846b"
      },
      "execution_count": 59,
      "outputs": [
        {
          "output_type": "stream",
          "name": "stdout",
          "text": [
            "NBA-BoxScores-2023-2024.csv    NBA-BoxScores-2023-2024.csv.2\n",
            "NBA-BoxScores-2023-2024.csv.1  NBA-BoxScores-2023-2024.csv.3\n"
          ]
        }
      ]
    },
    {
      "cell_type": "code",
      "source": [
        "df_nba = spark.read.option(\"header\", \"true\").csv(\"/dataset/NBA-BoxScores-2023-2024.csv\")\n",
        "\n",
        "df_nba = df_nba.withColumn(\"MIN\", col(\"MIN\").substr(1, 4))\n",
        "df_nba = df_nba.withColumn(\"MIN\", col(\"MIN\").cast(\"float\"))\n",
        "\n",
        "# Esquema y df\n",
        "df_nba.printSchema()\n",
        "df_nba.show()"
      ],
      "metadata": {
        "colab": {
          "base_uri": "https://localhost:8080/"
        },
        "id": "AMtkAgO0uH_2",
        "outputId": "f7e4d0c7-1576-4be3-9a73-a390ae81ea33"
      },
      "execution_count": 66,
      "outputs": [
        {
          "output_type": "stream",
          "name": "stdout",
          "text": [
            "root\n",
            " |-- _c0: string (nullable = true)\n",
            " |-- GAME_ID: string (nullable = true)\n",
            " |-- TEAM_ID: string (nullable = true)\n",
            " |-- TEAM_ABBREVIATION: string (nullable = true)\n",
            " |-- TEAM_CITY: string (nullable = true)\n",
            " |-- PLAYER_ID: string (nullable = true)\n",
            " |-- PLAYER_NAME: string (nullable = true)\n",
            " |-- NICKNAME: string (nullable = true)\n",
            " |-- START_POSITION: string (nullable = true)\n",
            " |-- COMMENT: string (nullable = true)\n",
            " |-- MIN: float (nullable = true)\n",
            " |-- FGM: string (nullable = true)\n",
            " |-- FGA: string (nullable = true)\n",
            " |-- FG_PCT: string (nullable = true)\n",
            " |-- FG3M: string (nullable = true)\n",
            " |-- FG3A: string (nullable = true)\n",
            " |-- FG3_PCT: string (nullable = true)\n",
            " |-- FTM: string (nullable = true)\n",
            " |-- FTA: string (nullable = true)\n",
            " |-- FT_PCT: string (nullable = true)\n",
            " |-- OREB: string (nullable = true)\n",
            " |-- DREB: string (nullable = true)\n",
            " |-- REB: string (nullable = true)\n",
            " |-- AST: string (nullable = true)\n",
            " |-- STL: string (nullable = true)\n",
            " |-- BLK: string (nullable = true)\n",
            " |-- TO: string (nullable = true)\n",
            " |-- PF: string (nullable = true)\n",
            " |-- PTS: string (nullable = true)\n",
            " |-- PLUS_MINUS: string (nullable = true)\n",
            "\n",
            "+---+----------+----------+-----------------+-----------+---------+--------------------+----------+--------------+-------+----+----+----+------+----+----+-------+---+---+------+----+----+----+----+---+---+---+---+----+----------+\n",
            "|_c0|   GAME_ID|   TEAM_ID|TEAM_ABBREVIATION|  TEAM_CITY|PLAYER_ID|         PLAYER_NAME|  NICKNAME|START_POSITION|COMMENT| MIN| FGM| FGA|FG_PCT|FG3M|FG3A|FG3_PCT|FTM|FTA|FT_PCT|OREB|DREB| REB| AST|STL|BLK| TO| PF| PTS|PLUS_MINUS|\n",
            "+---+----------+----------+-----------------+-----------+---------+--------------------+----------+--------------+-------+----+----+----+------+----+----+-------+---+---+------+----+----+----+----+---+---+---+---+----+----------+\n",
            "|  0|0022300061|1610612747|              LAL|Los Angeles|  1627752|      Taurean Prince|   Taurean|             F|   NULL|29.0| 6.0| 8.0|  0.75| 4.0| 6.0|  0.667|2.0|2.0|   1.0| 1.0| 2.0| 3.0| 1.0|0.0|1.0|1.0|0.0|18.0|     -14.0|\n",
            "|  1|0022300061|1610612747|              LAL|Los Angeles|     2544|        LeBron James|    LeBron|             F|   NULL|29.0|10.0|16.0| 0.625| 1.0| 4.0|   0.25|0.0|1.0|   0.0| 1.0| 7.0| 8.0| 5.0|1.0|0.0|0.0|1.0|21.0|       7.0|\n",
            "|  2|0022300061|1610612747|              LAL|Los Angeles|   203076|       Anthony Davis|   Anthony|             C|   NULL|34.0| 6.0|17.0| 0.353| 1.0| 2.0|    0.5|4.0|4.0|   1.0| 1.0| 7.0| 8.0| 4.0|0.0|2.0|2.0|3.0|17.0|     -17.0|\n",
            "|  3|0022300061|1610612747|              LAL|Los Angeles|  1630559|       Austin Reaves|    Austin|             G|   NULL|31.0| 4.0|11.0| 0.364| 1.0| 2.0|    0.5|5.0|7.0| 0.714| 4.0| 4.0| 8.0| 4.0|2.0|0.0|2.0|2.0|14.0|     -14.0|\n",
            "|  4|0022300061|1610612747|              LAL|Los Angeles|  1626156|    D'Angelo Russell|  D'Angelo|             G|   NULL|36.0| 4.0|12.0| 0.333| 2.0| 5.0|    0.4|1.0|2.0|   0.5| 0.0| 4.0| 4.0| 7.0|1.0|0.0|3.0|3.0|11.0|       1.0|\n",
            "|  5|0022300061|1610612747|              LAL|Los Angeles|  1629060|       Rui Hachimura|       Rui|          NULL|   NULL|14.0| 3.0|10.0|   0.3| 0.0| 3.0|    0.0|0.0|0.0|   0.0| 2.0| 1.0| 3.0| 0.0|0.0|0.0|0.0|2.0| 6.0|      -8.0|\n",
            "|  6|0022300061|1610612747|              LAL|Los Angeles|  1629216|        Gabe Vincent|      Gabe|          NULL|   NULL|22.0| 3.0| 8.0| 0.375| 0.0| 4.0|    0.0|0.0|0.0|   0.0| 1.0| 0.0| 1.0| 2.0|1.0|0.0|2.0|3.0| 6.0|     -17.0|\n",
            "|  7|0022300061|1610612747|              LAL|Los Angeles|  1629637|        Jaxson Hayes|    Jaxson|          NULL|   NULL| 6.0| 0.0| 0.0|   0.0| 0.0| 0.0|    0.0|0.0|0.0|   0.0| 0.0| 1.0| 1.0| 0.0|0.0|0.0|0.0|1.0| 0.0|      -7.0|\n",
            "|  8|0022300061|1610612747|              LAL|Los Angeles|  1629629|         Cam Reddish|       Cam|          NULL|   NULL|17.0| 2.0| 4.0|   0.5| 1.0| 2.0|    0.5|2.0|2.0|   1.0| 2.0| 2.0| 4.0| 0.0|0.0|1.0|0.0|2.0| 7.0|       7.0|\n",
            "|  9|0022300061|1610612747|              LAL|Los Angeles|  1626174|      Christian Wood| Christian|          NULL|   NULL|15.0| 3.0| 4.0|  0.75| 0.0| 1.0|    0.0|1.0|2.0|   0.5| 1.0| 3.0| 4.0| 0.0|0.0|0.0|1.0|1.0| 7.0|       2.0|\n",
            "| 10|0022300061|1610612747|              LAL|Los Angeles|  1631108|        Max Christie|       Max|          NULL|   NULL| 1.0| 0.0| 0.0|   0.0| 0.0| 0.0|    0.0|0.0|0.0|   0.0| 0.0| 0.0| 0.0| 0.0|0.0|0.0|0.0|0.0| 0.0|       0.0|\n",
            "| 11|0022300061|1610612747|              LAL|Los Angeles|  1641721|       Maxwell Lewis|   Maxwell|          NULL|   NULL| 1.0| 0.0| 0.0|   0.0| 0.0| 0.0|    0.0|0.0|0.0|   0.0| 0.0| 0.0| 0.0| 0.0|0.0|0.0|0.0|0.0| 0.0|       0.0|\n",
            "| 12|0022300061|1610612743|              DEN|     Denver|  1629008|  Michael Porter Jr.|   Michael|             F|   NULL|30.0| 5.0|13.0| 0.385| 2.0| 9.0|  0.222|0.0|0.0|   0.0| 2.0|10.0|12.0| 2.0|2.0|0.0|0.0|1.0|12.0|      12.0|\n",
            "| 13|0022300061|1610612743|              DEN|     Denver|   203932|        Aaron Gordon|     Aaron|             F|   NULL|34.0| 7.0|11.0| 0.636| 1.0| 2.0|    0.5|0.0|0.0|   0.0| 2.0| 5.0| 7.0| 5.0|2.0|1.0|0.0|0.0|15.0|       6.0|\n",
            "| 14|0022300061|1610612743|              DEN|     Denver|   203999|        Nikola Jokic|    Nikola|             C|   NULL|36.0|12.0|22.0| 0.545| 3.0| 5.0|    0.6|2.0|4.0|   0.5| 3.0|10.0|13.0|11.0|1.0|1.0|2.0|2.0|29.0|      15.0|\n",
            "| 15|0022300061|1610612743|              DEN|     Denver|   203484|Kentavious Caldwe...|Kentavious|             G|   NULL|36.0| 8.0|12.0| 0.667| 2.0| 3.0|  0.667|2.0|2.0|   1.0| 1.0| 1.0| 2.0| 1.0|3.0|1.0|3.0|5.0|20.0|      10.0|\n",
            "| 16|0022300061|1610612743|              DEN|     Denver|  1627750|        Jamal Murray|     Jamal|             G|   NULL|34.0| 8.0|13.0| 0.615| 3.0| 5.0|    0.6|2.0|2.0|   1.0| 0.0| 2.0| 2.0| 6.0|0.0|1.0|1.0|3.0|21.0|       3.0|\n",
            "| 17|0022300061|1610612743|              DEN|     Denver|   202704|      Reggie Jackson|    Reggie|          NULL|   NULL|24.0| 3.0| 8.0| 0.375| 2.0| 5.0|    0.4|0.0|0.0|   0.0| 0.0| 3.0| 3.0| 1.0|1.0|0.0|2.0|0.0| 8.0|      11.0|\n",
            "| 18|0022300061|1610612743|              DEN|     Denver|  1631212|       Peyton Watson|    Peyton|          NULL|   NULL|10.0| 1.0| 3.0| 0.333| 1.0| 3.0|  0.333|0.0|0.0|   0.0| 0.0| 0.0| 0.0| 0.0|0.0|1.0|1.0|1.0| 3.0|       1.0|\n",
            "| 19|0022300061|1610612743|              DEN|     Denver|  1630192|          Zeke Nnaji|      Zeke|          NULL|   NULL|11.0| 1.0| 3.0| 0.333| 0.0| 1.0|    0.0|2.0|2.0|   1.0| 0.0| 0.0| 0.0| 1.0|0.0|0.0|1.0|2.0| 4.0|      -3.0|\n",
            "+---+----------+----------+-----------------+-----------+---------+--------------------+----------+--------------+-------+----+----+----+------+----+----+-------+---+---+------+----+----+----+----+---+---+---+---+----+----------+\n",
            "only showing top 20 rows\n",
            "\n"
          ]
        }
      ]
    },
    {
      "cell_type": "markdown",
      "source": [
        "##Seleccion de los jugadores de Denver"
      ],
      "metadata": {
        "id": "Tc2Y4Ydi2mmV"
      }
    },
    {
      "cell_type": "code",
      "source": [
        "filter_denver = df_nba.filter(\"TEAM_CITY = 'Denver'\")\n",
        "filter_denver.show()"
      ],
      "metadata": {
        "colab": {
          "base_uri": "https://localhost:8080/"
        },
        "id": "299vMmkG0s7X",
        "outputId": "972966b8-e3cf-461f-c1d2-1b757f8bfd58"
      },
      "execution_count": 58,
      "outputs": [
        {
          "output_type": "stream",
          "name": "stdout",
          "text": [
            "+---+----------+----------+-----------------+---------+---------+--------------------+----------+--------------+--------------------+------------+----+----+------+----+----+-------+----+----+------+----+----+----+----+----+----+----+----+----+----------+\n",
            "|_c0|   GAME_ID|   TEAM_ID|TEAM_ABBREVIATION|TEAM_CITY|PLAYER_ID|         PLAYER_NAME|  NICKNAME|START_POSITION|             COMMENT|         MIN| FGM| FGA|FG_PCT|FG3M|FG3A|FG3_PCT| FTM| FTA|FT_PCT|OREB|DREB| REB| AST| STL| BLK|  TO|  PF| PTS|PLUS_MINUS|\n",
            "+---+----------+----------+-----------------+---------+---------+--------------------+----------+--------------+--------------------+------------+----+----+------+----+----+-------+----+----+------+----+----+----+----+----+----+----+----+----+----------+\n",
            "| 12|0022300061|1610612743|              DEN|   Denver|  1629008|  Michael Porter Jr.|   Michael|             F|                NULL|30.000000:07| 5.0|13.0| 0.385| 2.0| 9.0|  0.222| 0.0| 0.0|   0.0| 2.0|10.0|12.0| 2.0| 2.0| 0.0| 0.0| 1.0|12.0|      12.0|\n",
            "| 13|0022300061|1610612743|              DEN|   Denver|   203932|        Aaron Gordon|     Aaron|             F|                NULL|34.000000:58| 7.0|11.0| 0.636| 1.0| 2.0|    0.5| 0.0| 0.0|   0.0| 2.0| 5.0| 7.0| 5.0| 2.0| 1.0| 0.0| 0.0|15.0|       6.0|\n",
            "| 14|0022300061|1610612743|              DEN|   Denver|   203999|        Nikola Jokic|    Nikola|             C|                NULL|36.000000:15|12.0|22.0| 0.545| 3.0| 5.0|    0.6| 2.0| 4.0|   0.5| 3.0|10.0|13.0|11.0| 1.0| 1.0| 2.0| 2.0|29.0|      15.0|\n",
            "| 15|0022300061|1610612743|              DEN|   Denver|   203484|Kentavious Caldwe...|Kentavious|             G|                NULL|36.000000:14| 8.0|12.0| 0.667| 2.0| 3.0|  0.667| 2.0| 2.0|   1.0| 1.0| 1.0| 2.0| 1.0| 3.0| 1.0| 3.0| 5.0|20.0|      10.0|\n",
            "| 16|0022300061|1610612743|              DEN|   Denver|  1627750|        Jamal Murray|     Jamal|             G|                NULL|34.000000:14| 8.0|13.0| 0.615| 3.0| 5.0|    0.6| 2.0| 2.0|   1.0| 0.0| 2.0| 2.0| 6.0| 0.0| 1.0| 1.0| 3.0|21.0|       3.0|\n",
            "| 17|0022300061|1610612743|              DEN|   Denver|   202704|      Reggie Jackson|    Reggie|          NULL|                NULL|24.000000:04| 3.0| 8.0| 0.375| 2.0| 5.0|    0.4| 0.0| 0.0|   0.0| 0.0| 3.0| 3.0| 1.0| 1.0| 0.0| 2.0| 0.0| 8.0|      11.0|\n",
            "| 18|0022300061|1610612743|              DEN|   Denver|  1631212|       Peyton Watson|    Peyton|          NULL|                NULL|10.000000:51| 1.0| 3.0| 0.333| 1.0| 3.0|  0.333| 0.0| 0.0|   0.0| 0.0| 0.0| 0.0| 0.0| 0.0| 1.0| 1.0| 1.0| 3.0|       1.0|\n",
            "| 19|0022300061|1610612743|              DEN|   Denver|  1630192|          Zeke Nnaji|      Zeke|          NULL|                NULL|11.000000:45| 1.0| 3.0| 0.333| 0.0| 1.0|    0.0| 2.0| 2.0|   1.0| 0.0| 0.0| 0.0| 1.0| 0.0| 0.0| 1.0| 2.0| 4.0|      -3.0|\n",
            "| 20|0022300061|1610612743|              DEN|   Denver|  1631128|     Christian Braun| Christian|          NULL|                NULL|19.000000:20| 2.0| 5.0|   0.4| 0.0| 1.0|    0.0| 1.0| 2.0|   0.5| 1.0| 2.0| 3.0| 2.0| 0.0| 1.0| 1.0| 1.0| 5.0|       5.0|\n",
            "| 21|0022300061|1610612743|              DEN|   Denver|  1631221|    Collin Gillespie|    Collin|          NULL|                NULL| 0.000000:44| 0.0| 0.0|   0.0| 0.0| 0.0|    0.0| 0.0| 0.0|   0.0| 0.0| 0.0| 0.0| 0.0| 0.0| 0.0| 0.0| 0.0| 0.0|       0.0|\n",
            "| 22|0022300061|1610612743|              DEN|   Denver|  1630296|         Braxton Key|   Braxton|          NULL|                NULL| 0.000000:44| 0.0| 0.0|   0.0| 0.0| 0.0|    0.0| 0.0| 0.0|   0.0| 0.0| 0.0| 0.0| 0.0| 0.0| 0.0| 0.0| 0.0| 0.0|       0.0|\n",
            "| 23|0022300061|1610612743|              DEN|   Denver|  1629618|       Jalen Pickett|     Jalen|          NULL|                NULL| 0.000000:44| 1.0| 1.0|   1.0| 0.0| 0.0|    0.0| 0.0| 0.0|   0.0| 0.0| 0.0| 0.0| 0.0| 0.0| 0.0| 0.0| 0.0| 2.0|       0.0|\n",
            "| 24|0022300061|1610612743|              DEN|   Denver|   203200|      Justin Holiday|    Justin|          NULL|DNP - Coach's Dec...|        NULL|NULL|NULL|  NULL|NULL|NULL|   NULL|NULL|NULL|  NULL|NULL|NULL|NULL|NULL|NULL|NULL|NULL|NULL|NULL|      NULL|\n",
            "| 25|0022300061|1610612743|              DEN|   Denver|   201599|      DeAndre Jordan|   DeAndre|          NULL|DNP - Coach's Dec...|        NULL|NULL|NULL|  NULL|NULL|NULL|   NULL|NULL|NULL|  NULL|NULL|NULL|NULL|NULL|NULL|NULL|NULL|NULL|NULL|      NULL|\n",
            "| 26|0022300061|1610612743|              DEN|   Denver|  1631124|    Julian Strawther|    Julian|          NULL|DNP - Coach's Dec...|        NULL|NULL|NULL|  NULL|NULL|NULL|   NULL|NULL|NULL|  NULL|NULL|NULL|NULL|NULL|NULL|NULL|NULL|NULL|NULL|      NULL|\n",
            "|  0|0022300078|1610612743|              DEN|   Denver|  1629008|  Michael Porter Jr.|   Michael|             F|                NULL|28.000000:52| 3.0| 7.0| 0.429| 2.0| 5.0|    0.4| 1.0| 1.0|   1.0| 1.0|12.0|13.0| 3.0| 0.0| 0.0| 1.0| 4.0| 9.0|       4.0|\n",
            "|  1|0022300078|1610612743|              DEN|   Denver|   203932|        Aaron Gordon|     Aaron|             F|                NULL|30.000000:20| 5.0|11.0| 0.455| 0.0| 1.0|    0.0| 0.0| 1.0|   0.0| 1.0| 1.0| 2.0| 3.0| 3.0| 1.0| 1.0| 3.0|10.0|       8.0|\n",
            "|  2|0022300078|1610612743|              DEN|   Denver|   203999|        Nikola Jokic|    Nikola|             C|                NULL|34.000000:58| 8.0|14.0| 0.571| 1.0| 4.0|   0.25| 5.0| 6.0| 0.833| 3.0| 9.0|12.0| 7.0| 1.0| 1.0| 9.0| 1.0|22.0|       6.0|\n",
            "|  3|0022300078|1610612743|              DEN|   Denver|   203484|Kentavious Caldwe...|Kentavious|             G|                NULL|34.000000:58| 3.0|10.0|   0.3| 2.0| 6.0|  0.333| 0.0| 0.0|   0.0| 0.0| 2.0| 2.0| 1.0| 5.0| 1.0| 0.0| 1.0| 8.0|       6.0|\n",
            "|  4|0022300078|1610612743|              DEN|   Denver|  1627750|        Jamal Murray|     Jamal|             G|                NULL|33.000000:54| 7.0|17.0| 0.412| 4.0| 9.0|  0.444| 4.0| 4.0|   1.0| 0.0| 1.0| 1.0| 5.0| 0.0| 1.0| 3.0| 2.0|22.0|       8.0|\n",
            "+---+----------+----------+-----------------+---------+---------+--------------------+----------+--------------+--------------------+------------+----+----+------+----+----+-------+----+----+------+----+----+----+----+----+----+----+----+----+----------+\n",
            "only showing top 20 rows\n",
            "\n"
          ]
        }
      ]
    },
    {
      "cell_type": "markdown",
      "source": [
        "##Estadisticas de la temporada"
      ],
      "metadata": {
        "id": "C72DgfKn3o09"
      }
    },
    {
      "cell_type": "code",
      "source": [
        "puntos = filter_denver.withColumn(\"PTS\", col(\"PTS\").cast(\"double\"))\n",
        "\n",
        "# Suma total de puntos\n",
        "suma_total_pts = filter_denver.select(sum(\"PTS\").alias(\"Suma_Total_Puntos\"))\n",
        "suma_total_pts.show()"
      ],
      "metadata": {
        "colab": {
          "base_uri": "https://localhost:8080/"
        },
        "id": "RnF8jcv60s4U",
        "outputId": "70cfc1ab-ecda-4442-9b7d-1f841f92c480"
      },
      "execution_count": 74,
      "outputs": [
        {
          "output_type": "stream",
          "name": "stdout",
          "text": [
            "+-----------------+\n",
            "|Suma_Total_Puntos|\n",
            "+-----------------+\n",
            "|           4280.0|\n",
            "+-----------------+\n",
            "\n"
          ]
        }
      ]
    },
    {
      "cell_type": "code",
      "source": [
        "# Total de puntos por jugador\n",
        "total_pts_por_jugador = puntos.groupBy(\"PLAYER_ID\", \"PLAYER_NAME\").agg(sum(\"PTS\").alias(\"Total_Puntos\"))\n",
        "total_pts_por_jugador = total_pts_por_jugador.orderBy(\"Total_Puntos\", ascending=False)\n",
        "total_pts_por_jugador.show()"
      ],
      "metadata": {
        "colab": {
          "base_uri": "https://localhost:8080/"
        },
        "id": "b5HgYRBM0s1D",
        "outputId": "8ba22b17-7919-45c6-c463-08632be5c71b"
      },
      "execution_count": 73,
      "outputs": [
        {
          "output_type": "stream",
          "name": "stdout",
          "text": [
            "+---------+--------------------+------------+\n",
            "|PLAYER_ID|         PLAYER_NAME|Total_Puntos|\n",
            "+---------+--------------------+------------+\n",
            "|   203999|        Nikola Jokic|       938.0|\n",
            "|  1629008|  Michael Porter Jr.|       601.0|\n",
            "|  1627750|        Jamal Murray|       458.0|\n",
            "|   202704|      Reggie Jackson|       445.0|\n",
            "|   203932|        Aaron Gordon|       436.0|\n",
            "|   203484|Kentavious Caldwe...|       344.0|\n",
            "|  1631128|     Christian Braun|       300.0|\n",
            "|  1631212|       Peyton Watson|       241.0|\n",
            "|  1631124|    Julian Strawther|       195.0|\n",
            "|  1630192|          Zeke Nnaji|       105.0|\n",
            "|   203200|      Justin Holiday|        84.0|\n",
            "|   201599|      DeAndre Jordan|        67.0|\n",
            "|  1629618|       Jalen Pickett|        31.0|\n",
            "|  1631221|    Collin Gillespie|        20.0|\n",
            "|  1630296|         Braxton Key|        11.0|\n",
            "|  1630643|            Jay Huff|         2.0|\n",
            "|  1641816|        Hunter Tyson|         2.0|\n",
            "+---------+--------------------+------------+\n",
            "\n"
          ]
        }
      ]
    },
    {
      "cell_type": "code",
      "source": [
        "#Premedio de puntos por partido\n",
        "promedio_pts_por_jugador_por_partido = puntos.groupBy(\"PLAYER_ID\", \"PLAYER_NAME\").agg(avg(\"PTS\").alias(\"Promedio_Puntos_Por_Partido\"))\n",
        "promedio_pts_por_jugador_por_partido = promedio_pts_por_jugador_por_partido.orderBy(\"Promedio_Puntos_Por_Partido\", ascending=False)\n",
        "promedio_pts_por_jugador_por_partido.show()"
      ],
      "metadata": {
        "colab": {
          "base_uri": "https://localhost:8080/"
        },
        "id": "ZA7ZUkzw0sxz",
        "outputId": "9a9581b3-f6e1-42a8-84e9-74b885cad813"
      },
      "execution_count": 72,
      "outputs": [
        {
          "output_type": "stream",
          "name": "stdout",
          "text": [
            "+---------+--------------------+---------------------------+\n",
            "|PLAYER_ID|         PLAYER_NAME|Promedio_Puntos_Por_Partido|\n",
            "+---------+--------------------+---------------------------+\n",
            "|   203999|        Nikola Jokic|         26.055555555555557|\n",
            "|  1627750|        Jamal Murray|          19.91304347826087|\n",
            "|  1629008|  Michael Porter Jr.|         16.243243243243242|\n",
            "|   203932|        Aaron Gordon|         14.064516129032258|\n",
            "|   202704|      Reggie Jackson|         12.027027027027026|\n",
            "|   203484|Kentavious Caldwe...|           9.82857142857143|\n",
            "|  1631128|     Christian Braun|          8.108108108108109|\n",
            "|  1631212|       Peyton Watson|          6.885714285714286|\n",
            "|  1631124|    Julian Strawther|          5.909090909090909|\n",
            "|   201599|      DeAndre Jordan|          4.785714285714286|\n",
            "|   203200|      Justin Holiday|                        4.2|\n",
            "|  1630192|          Zeke Nnaji|         3.3870967741935485|\n",
            "|  1629618|       Jalen Pickett|          2.066666666666667|\n",
            "|  1631221|    Collin Gillespie|         1.8181818181818181|\n",
            "|  1630296|         Braxton Key|                        1.1|\n",
            "|  1630643|            Jay Huff|                        1.0|\n",
            "|  1641816|        Hunter Tyson|                       0.25|\n",
            "+---------+--------------------+---------------------------+\n",
            "\n"
          ]
        }
      ]
    },
    {
      "cell_type": "code",
      "source": [
        "minutos = filter_denver.withColumn(\"MIN\", col(\"MIN\").cast(\"double\"))\n",
        "\n",
        "# Cantidad de partidos jugados y el tiempo total jugado por jugador\n",
        "estadisticas_jugador = df.groupBy(\"PLAYER_ID\", \"PLAYER_NAME\").agg(\n",
        "    count(\"GAME_ID\").alias(\"Partidos_Jugados\"),\n",
        "    sum(\"MIN\").alias(\"Minutos_Jugados\"))\n",
        "\n",
        "estadisticas_jugador = estadisticas_jugador.orderBy(\"Minutos_Jugados\", ascending=False)\n",
        "\n",
        "estadisticas_jugador.show()"
      ],
      "metadata": {
        "colab": {
          "base_uri": "https://localhost:8080/"
        },
        "id": "dFuV80ZyQh-E",
        "outputId": "8b9845d4-30a9-4343-a794-cc6bde964a54"
      },
      "execution_count": 69,
      "outputs": [
        {
          "output_type": "stream",
          "name": "stdout",
          "text": [
            "+---------+--------------------+----------------+---------------+\n",
            "|PLAYER_ID|         PLAYER_NAME|Partidos_Jugados|Minutos_Jugados|\n",
            "+---------+--------------------+----------------+---------------+\n",
            "|   203999|        Nikola Jokic|              36|         1194.0|\n",
            "|  1629008|  Michael Porter Jr.|              37|         1133.0|\n",
            "|   203484|Kentavious Caldwe...|              35|         1108.0|\n",
            "|   203932|        Aaron Gordon|              31|          978.0|\n",
            "|   202704|      Reggie Jackson|              37|          849.0|\n",
            "|  1631128|     Christian Braun|              37|          712.0|\n",
            "|  1627750|        Jamal Murray|              23|          677.0|\n",
            "|  1631212|       Peyton Watson|              37|          600.0|\n",
            "|  1631124|    Julian Strawther|              36|          440.0|\n",
            "|  1630192|          Zeke Nnaji|              37|          303.0|\n",
            "|   203200|      Justin Holiday|              37|          294.0|\n",
            "|   201599|      DeAndre Jordan|              37|          179.0|\n",
            "|  1629618|       Jalen Pickett|              27|           83.0|\n",
            "|  1631221|    Collin Gillespie|              26|           81.0|\n",
            "|  1630296|         Braxton Key|              28|           31.0|\n",
            "|  1641816|        Hunter Tyson|              20|           16.0|\n",
            "|  1630643|            Jay Huff|               5|            1.0|\n",
            "+---------+--------------------+----------------+---------------+\n",
            "\n"
          ]
        }
      ]
    },
    {
      "cell_type": "code",
      "source": [
        "df = df.withColumn(\"FG3M\", col(\"FG3M\").cast(\"double\"))\n",
        "df = df.withColumn(\"FTA\", col(\"FTA\").cast(\"double\"))\n",
        "df = df.withColumn(\"PF\", col(\"PF\").cast(\"double\"))\n",
        "\n",
        "# Calcula la suma total de puntos en triple, dobles y simples.\n",
        "puntos_totales_por_jugador = df.groupBy(\"PLAYER_ID\", \"PLAYER_NAME\").agg(\n",
        "    sum(\"FG3M\").alias(\"Total_tirod_3\"),\n",
        "    sum(\"FTA\").alias(\"Total_tiros_2\"),\n",
        "    sum(\"PF\").alias(\"Totla_Tiros_1\")\n",
        ")\n",
        "\n",
        "\n",
        "puntos_totales_por_jugador = puntos_totales_por_jugador.orderBy(\"Total_tirod_3\", ascending=False)\n",
        "puntos_totales_por_jugador.show()"
      ],
      "metadata": {
        "colab": {
          "base_uri": "https://localhost:8080/"
        },
        "id": "xJPT777EWbe3",
        "outputId": "f9571ab2-e668-40a8-e8ed-e233c25e3efe"
      },
      "execution_count": 79,
      "outputs": [
        {
          "output_type": "stream",
          "name": "stdout",
          "text": [
            "+---------+--------------------+-------------+-------------+-------------+\n",
            "|PLAYER_ID|         PLAYER_NAME|Total_tirod_3|Total_tiros_2|Totla_Tiros_1|\n",
            "+---------+--------------------+-------------+-------------+-------------+\n",
            "|  1629008|  Michael Porter Jr.|        104.0|         46.0|         73.0|\n",
            "|  1627750|        Jamal Murray|         55.0|         73.0|         45.0|\n",
            "|   202704|      Reggie Jackson|         54.0|         48.0|         70.0|\n",
            "|   203484|Kentavious Caldwe...|         49.0|         57.0|         67.0|\n",
            "|   203999|        Nikola Jokic|         39.0|        209.0|         93.0|\n",
            "|  1631124|    Julian Strawther|         37.0|         23.0|         47.0|\n",
            "|  1631128|     Christian Braun|         27.0|         69.0|         60.0|\n",
            "|  1631212|       Peyton Watson|         22.0|         49.0|         62.0|\n",
            "|   203200|      Justin Holiday|         20.0|          0.0|         26.0|\n",
            "|   203932|        Aaron Gordon|         18.0|        108.0|         52.0|\n",
            "|  1629618|       Jalen Pickett|          7.0|          2.0|          8.0|\n",
            "|  1630192|          Zeke Nnaji|          4.0|         37.0|         50.0|\n",
            "|  1631221|    Collin Gillespie|          3.0|          1.0|         10.0|\n",
            "|  1630296|         Braxton Key|          1.0|          3.0|          4.0|\n",
            "|  1630643|            Jay Huff|          0.0|          0.0|          0.0|\n",
            "|   201599|      DeAndre Jordan|          0.0|         31.0|         23.0|\n",
            "|  1641816|        Hunter Tyson|          0.0|          0.0|          5.0|\n",
            "+---------+--------------------+-------------+-------------+-------------+\n",
            "\n"
          ]
        }
      ]
    },
    {
      "cell_type": "code",
      "source": [],
      "metadata": {
        "id": "Odl0XQrhYepA"
      },
      "execution_count": null,
      "outputs": []
    }
  ]
}