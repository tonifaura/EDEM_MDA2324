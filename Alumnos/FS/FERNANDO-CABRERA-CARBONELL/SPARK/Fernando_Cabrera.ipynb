{
  "cells": [
    {
      "cell_type": "markdown",
      "metadata": {
        "id": "u3WKxUMvQ9JW"
      },
      "source": [
        "# Entregables Fernando Cabrera\n",
        "\n",
        "\n"
      ]
    },
    {
      "cell_type": "markdown",
      "metadata": {
        "id": "IBsRl4yARA3x"
      },
      "source": [
        "## Prerrequisites"
      ]
    },
    {
      "cell_type": "markdown",
      "metadata": {
        "id": "0KID1ObYRDA4"
      },
      "source": [
        "Install Spark and Java in VM"
      ]
    },
    {
      "cell_type": "code",
      "execution_count": null,
      "metadata": {
        "id": "-9EjQzqhRJSZ"
      },
      "outputs": [],
      "source": [
        "# install Java8\n",
        "!apt-get install openjdk-8-jdk-headless -qq > /dev/null\n",
        "# download spark 3.5.0\n",
        "!wget -q https://apache.osuosl.org/spark/spark-3.5.0/spark-3.5.0-bin-hadoop3.tgz"
      ]
    },
    {
      "cell_type": "code",
      "execution_count": null,
      "metadata": {
        "colab": {
          "base_uri": "https://localhost:8080/"
        },
        "id": "E4s6wcUsSPHQ",
        "outputId": "fa0f996e-6f95-4e19-be22-212882b5891e"
      },
      "outputs": [
        {
          "name": "stdout",
          "output_type": "stream",
          "text": [
            "total 391020\n",
            "drwxr-xr-x  1 root root      4096 Jan 25 14:23 \u001b[0m\u001b[01;34msample_data\u001b[0m/\n",
            "drwxr-xr-x 13 1000 1000      4096 Sep  9 02:08 \u001b[01;34mspark-3.5.0-bin-hadoop3\u001b[0m/\n",
            "-rw-r--r--  1 root root 400395283 Sep  9 02:10 spark-3.5.0-bin-hadoop3.tgz\n"
          ]
        }
      ],
      "source": [
        "ls -l # check the .tgz is there"
      ]
    },
    {
      "cell_type": "code",
      "execution_count": null,
      "metadata": {
        "id": "hSA_T2q7SEt_"
      },
      "outputs": [],
      "source": [
        "# unzip it\n",
        "!tar xf spark-3.5.0-bin-hadoop3.tgz"
      ]
    },
    {
      "cell_type": "code",
      "execution_count": null,
      "metadata": {
        "id": "HpKEfJTeii2Y"
      },
      "outputs": [],
      "source": [
        "!pip install -q findspark"
      ]
    },
    {
      "cell_type": "code",
      "execution_count": null,
      "metadata": {
        "colab": {
          "base_uri": "https://localhost:8080/"
        },
        "id": "zwH-zC17SGnP",
        "outputId": "2d989b4e-b7f8-4ea3-d67c-11cbd720ff3a"
      },
      "outputs": [
        {
          "name": "stdout",
          "output_type": "stream",
          "text": [
            "Requirement already satisfied: py4j in /usr/local/lib/python3.10/dist-packages (0.10.9.7)\n",
            "Requirement already satisfied: folium in /usr/local/lib/python3.10/dist-packages (0.14.0)\n",
            "Requirement already satisfied: branca>=0.6.0 in /usr/local/lib/python3.10/dist-packages (from folium) (0.7.0)\n",
            "Requirement already satisfied: jinja2>=2.9 in /usr/local/lib/python3.10/dist-packages (from folium) (3.1.3)\n",
            "Requirement already satisfied: numpy in /usr/local/lib/python3.10/dist-packages (from folium) (1.23.5)\n",
            "Requirement already satisfied: requests in /usr/local/lib/python3.10/dist-packages (from folium) (2.31.0)\n",
            "Requirement already satisfied: MarkupSafe>=2.0 in /usr/local/lib/python3.10/dist-packages (from jinja2>=2.9->folium) (2.1.4)\n",
            "Requirement already satisfied: charset-normalizer<4,>=2 in /usr/local/lib/python3.10/dist-packages (from requests->folium) (3.3.2)\n",
            "Requirement already satisfied: idna<4,>=2.5 in /usr/local/lib/python3.10/dist-packages (from requests->folium) (3.6)\n",
            "Requirement already satisfied: urllib3<3,>=1.21.1 in /usr/local/lib/python3.10/dist-packages (from requests->folium) (2.0.7)\n",
            "Requirement already satisfied: certifi>=2017.4.17 in /usr/local/lib/python3.10/dist-packages (from requests->folium) (2023.11.17)\n",
            "Requirement already satisfied: plotly in /usr/local/lib/python3.10/dist-packages (5.15.0)\n",
            "Requirement already satisfied: tenacity>=6.2.0 in /usr/local/lib/python3.10/dist-packages (from plotly) (8.2.3)\n",
            "Requirement already satisfied: packaging in /usr/local/lib/python3.10/dist-packages (from plotly) (23.2)\n"
          ]
        }
      ],
      "source": [
        "\n",
        "!pip install py4j\n",
        "\n",
        "# For maps\n",
        "!pip install folium\n",
        "!pip install plotly"
      ]
    },
    {
      "cell_type": "markdown",
      "metadata": {
        "id": "y1tk452JRjuY"
      },
      "source": [
        "Define the environment"
      ]
    },
    {
      "cell_type": "code",
      "execution_count": null,
      "metadata": {
        "id": "vrMxCiuZRl7h"
      },
      "outputs": [],
      "source": [
        "import os\n",
        "os.environ[\"JAVA_HOME\"] = \"/usr/lib/jvm/java-8-openjdk-amd64\"\n",
        "os.environ[\"SPARK_HOME\"] = \"/content/spark-3.5.0-bin-hadoop3\"\n",
        "os.environ[\"PYSPARK_SUBMIT_ARGS\"] = \"--master local[*] pyspark-shell\""
      ]
    },
    {
      "cell_type": "markdown",
      "metadata": {
        "id": "vk_3rL02Q9JZ"
      },
      "source": [
        "Start Spark Session\n",
        "\n",
        "---"
      ]
    },
    {
      "cell_type": "code",
      "execution_count": null,
      "metadata": {
        "colab": {
          "base_uri": "https://localhost:8080/",
          "height": 35
        },
        "id": "-HtQz6mfQ9JZ",
        "outputId": "efb05bc8-9a9c-4766-e70a-d564695b6518"
      },
      "outputs": [
        {
          "data": {
            "application/vnd.google.colaboratory.intrinsic+json": {
              "type": "string"
            },
            "text/plain": [
              "'3.5.0'"
            ]
          },
          "execution_count": 8,
          "metadata": {},
          "output_type": "execute_result"
        }
      ],
      "source": [
        "import findspark\n",
        "findspark.init(\"spark-3.5.0-bin-hadoop3\")# SPARK_HOME\n",
        "\n",
        "from pyspark.sql import SparkSession\n",
        "\n",
        "# create the session\n",
        "spark = SparkSession \\\n",
        "        .builder \\\n",
        "        .appName(\"DataFrames Basics\") \\\n",
        "        .master(\"local[*]\") \\\n",
        "        .getOrCreate()\n",
        "\n",
        "spark.version"
      ]
    },
    {
      "cell_type": "code",
      "execution_count": null,
      "metadata": {
        "colab": {
          "base_uri": "https://localhost:8080/",
          "height": 219
        },
        "id": "DrOjmfL9Q9Ja",
        "outputId": "189a64ac-4eb0-46a9-af8b-e0d6ff443bd9"
      },
      "outputs": [
        {
          "data": {
            "text/html": [
              "\n",
              "            <div>\n",
              "                <p><b>SparkSession - in-memory</b></p>\n",
              "                \n",
              "        <div>\n",
              "            <p><b>SparkContext</b></p>\n",
              "\n",
              "            <p><a href=\"http://028d6f74dc2e:4040\">Spark UI</a></p>\n",
              "\n",
              "            <dl>\n",
              "              <dt>Version</dt>\n",
              "                <dd><code>v3.5.0</code></dd>\n",
              "              <dt>Master</dt>\n",
              "                <dd><code>local[*]</code></dd>\n",
              "              <dt>AppName</dt>\n",
              "                <dd><code>DataFrames Basics</code></dd>\n",
              "            </dl>\n",
              "        </div>\n",
              "        \n",
              "            </div>\n",
              "        "
            ],
            "text/plain": [
              "<pyspark.sql.session.SparkSession at 0x7d57740d04f0>"
            ]
          },
          "execution_count": 9,
          "metadata": {},
          "output_type": "execute_result"
        }
      ],
      "source": [
        "spark"
      ]
    },
    {
      "cell_type": "code",
      "execution_count": null,
      "metadata": {
        "id": "IBZ8ufPAQ9Jb"
      },
      "outputs": [],
      "source": [
        "# For Pandas conversion optimization\n",
        "spark.conf.set(\"spark.sql.execution.arrow.enabled\", \"true\")"
      ]
    },
    {
      "cell_type": "code",
      "execution_count": 60,
      "metadata": {
        "id": "nJ-cdrAlQ9Jb"
      },
      "outputs": [],
      "source": [
        "# Import sql functions\n",
        "from pyspark.sql.functions import *\n",
        "\n",
        "# Import matplotlib para los análisis visuales posteriores\n",
        "import matplotlib.pyplot as plt\n"
      ]
    },
    {
      "cell_type": "markdown",
      "metadata": {
        "id": "AIP7U3YYTDbw"
      },
      "source": [
        "Download datasets"
      ]
    },
    {
      "cell_type": "markdown",
      "metadata": {
        "id": "PSNHc7Zl08u2"
      },
      "source": []
    },
    {
      "cell_type": "code",
      "execution_count": 21,
      "metadata": {
        "colab": {
          "base_uri": "https://localhost:8080/"
        },
        "id": "OK8eYPQX0ONW",
        "outputId": "08e406f3-c541-4974-f033-753420e4a3b0"
      },
      "outputs": [
        {
          "name": "stdout",
          "output_type": "stream",
          "text": [
            "+---------+----+-----+-------+----------+-----+------+--------+\n",
            "|     name|wins|kills|kdRatio|killstreak|level|losses|prestige|\n",
            "+---------+----+-----+-------+----------+-----+------+--------+\n",
            "|Player_01|   0|    0|    0.0|         0|    1|     0|       0|\n",
            "|Player_02|   0|    0|    0.0|         0|    1|     0|     110|\n",
            "|Player_03|   0|   66|103.125|         0|    9|     0|     110|\n",
            "+---------+----+-----+-------+----------+-----+------+--------+\n",
            "only showing top 3 rows\n",
            "\n",
            "+---------+----+----------+---------+-----------+-----------+-------+------+-----+--------------+-----+------+\n",
            "|     name|hits|timePlayed|headshots|averageTime|gamesPlayed|assists|misses|   xp|scorePerMinute|shots|deaths|\n",
            "+---------+----+----------+---------+-----------+-----------+-------+------+-----+--------------+-----+------+\n",
            "|Player_01|   0|         0|        0|        0.0|          0|      0|     0|    0|           0.0|    0|     0|\n",
            "|Player_02|   0|         7|        0|        7.0|          0|      0|     0|  700|           0.0|    0|    16|\n",
            "|Player_03|   0|        32|       16|       32.0|          0|      1|     0|48300|           0.0|    0|    64|\n",
            "+---------+----+----------+---------+-----------+-----------+-------+------+-----+--------------+-----+------+\n",
            "only showing top 3 rows\n",
            "\n"
          ]
        }
      ],
      "source": [
        "COD1_DF = spark.read.option(\"header\", \"true\").option(\"delimiter\", \",\").csv(\"/content/COD1.csv\")\n",
        "COD2_DF = spark.read.option(\"header\", \"true\").option(\"delimiter\", \",\").csv(\"/content/COD2.csv\")\n",
        "COD1_DF.show(3)\n",
        "COD2_DF.show(3)"
      ]
    },
    {
      "cell_type": "markdown",
      "metadata": {
        "id": "4-18NkjA1ZIB"
      },
      "source": [
        "**ESTUDIO JUGADORES CALL OF DUTY: MULTIPLAYER**\n",
        "\n",
        "> Bloque con sangría\n",
        "\n"
      ]
    },
    {
      "cell_type": "markdown",
      "metadata": {
        "id": "rMj1mrNw1ZIF"
      },
      "source": [
        "Vamos a centrar nuestro análisis en el videojuego Call of Duty y en su modo de juego: multiplayer.\n",
        "\n",
        "Disponemos de un CSV original en el que conocemos la información de los jugadores siguiente:\n",
        "\n",
        "* name: nombre del jugador\n",
        "* wins : número de victorias en todas sus partidas\n",
        "* kills : número de muertes en todas sus partidas\n",
        "* kdRatio : kill/deaths ratio\n",
        "* killstreak : racha de muertes\n",
        "* level : nivel\n",
        "* losses : número total de derrotas\n",
        "* prestige: modo especial que los jugadores pueden decidir si activar o no\n",
        "* hits : número de veces que un jugador ha alcanzado a otro\n",
        "* timePlayed : tiempo de juego en horas\n",
        "* headshots : número de tiros en la cabeza\n",
        "* averageTime : tiempo de juego medio\n",
        "* gamesPlayed : número de partidas jugadas por jugador\n",
        "* assists : asistencias\n",
        "* misses : número de veces que un jugador falla un disparo\n",
        "* xp : puntos de experiencia\n",
        "* scorePerMinute : puntos conseguidos por minuto\n",
        "* shots : número de disparos de cada jugador\n",
        "* deaths : número de veces que ha muerto un jugador\n",
        "\n",
        "Tenemos un **CSV original** con 1558 jugadores:\n",
        "\n",
        "- Como los nombres de usuario son un poco extraños, le hemos cambiado el nombre de usuario para que cada jugador tenga el nombre Jugador_XX donde 'XX' es el número jugador. Por ejemplo, Jugador_01\n",
        "\n",
        "**Dos archivos .csv**\n",
        "- Hemos separado el CSV en dos csv independientes para poder poner en práctica lo aprendido y \"jugar\" con dos fuentes de datos diferentes pero la información 'name' en común.\n",
        "\n",
        "**COD1.csv** con la siguiente información:\n",
        "* name: nombre del jugador\n",
        "* wins : número de victorias en todas sus partidas\n",
        "* kills : número de muertes en todas sus partidas\n",
        "* kdRatio : kill/deaths ratio\n",
        "* killstreak : racha de muertes\n",
        "* level : nivel\n",
        "* losses : número total de derrotas\n",
        "* prestige: modo especial que los jugadores pueden decidir si activar o no\n",
        "\n",
        "**COD2.csv** con la siguiente información:\n",
        "* name: nombre del jugador\n",
        "* hits : número de veces que un jugador ha alcanzado a otro\n",
        "* timePlayed : tiempo de juego en horas\n",
        "* headshots : número de tiros en la cabeza\n",
        "* averageTime : tiempo de juego medio\n",
        "* gamesPlayed : número de partidas jugadas por jugador\n",
        "* assists : asistencias\n",
        "* misses : número de veces que un jugador falla un disparo\n",
        "* xp : puntos de experiencia\n",
        "* scorePerMinute : puntos conseguidos por minuto\n",
        "* shots : número de disparos de cada jugador\n",
        "* deaths : número de veces que ha muerto un jugador\n",
        "\n",
        "\n",
        "\n",
        "El objetivo de este estudio es conocer los mejores jugadores en función de una puntuación que dependa de kills y asistencias; y además conocer la relación entre las muertes y las wins."
      ]
    },
    {
      "cell_type": "markdown",
      "metadata": {
        "id": "xsAbMa3M4y_p"
      },
      "source": [
        "**Leemos los dos conseguidos del CSV original descargado de Kaggle: [COD.csv](https://www.kaggle.com/datasets/aishahakami/call-of-duty-players)**\n",
        "\n",
        "* COD1.csv\n",
        "* COD2.csv\n",
        "\n"
      ]
    },
    {
      "cell_type": "code",
      "execution_count": 23,
      "metadata": {
        "colab": {
          "base_uri": "https://localhost:8080/"
        },
        "id": "ptoRBbfx1ZIF",
        "outputId": "c40fb622-6d2c-48e2-f755-6ca120efb7b4"
      },
      "outputs": [
        {
          "name": "stdout",
          "output_type": "stream",
          "text": [
            "+---------+----+-----+--------------------+----------+-----+------+--------+\n",
            "|     name|wins|kills|             kdRatio|killstreak|level|losses|prestige|\n",
            "+---------+----+-----+--------------------+----------+-----+------+--------+\n",
            "|Player_01|   0|    0|                 0.0|         0|    1|     0|       0|\n",
            "|Player_02|   0|    0|                 0.0|         0|    1|     0|     110|\n",
            "|Player_03|   0|   66|             103.125|         0|    9|     0|     110|\n",
            "|Player_04|   3|    2|                 0.4|         0|    1|     0|       0|\n",
            "|Player_05|   0|    2|                 0.2|         0|    1|     0|     110|\n",
            "|Player_06| 684|27011|10.667.430.196.27...|        18|  177|    10|     110|\n",
            "|Player_07|   4|  162|           6.328.125|         4|    6|     2|       0|\n",
            "|Player_08| 186| 1898|5.696.278.511.404...|        13|   37|     7|       2|\n",
            "|Player_09| 741|21803|10.366.584.252.56...|        26|  185|    29|     111|\n",
            "|Player_10|  26|  349|4.440.203.562.340...|         7|   12|     4|       0|\n",
            "+---------+----+-----+--------------------+----------+-----+------+--------+\n",
            "only showing top 10 rows\n",
            "\n",
            "+---------+-----+----------+---------+--------------------+-----------+-------+------+-------+--------------------+------+------+\n",
            "|     name| hits|timePlayed|headshots|         averageTime|gamesPlayed|assists|misses|     xp|      scorePerMinute| shots|deaths|\n",
            "+---------+-----+----------+---------+--------------------+-----------+-------+------+-------+--------------------+------+------+\n",
            "|Player_01|    0|         0|        0|                 0.0|          0|      0|     0|      0|                 0.0|     0|     0|\n",
            "|Player_02|    0|         7|        0|                 7.0|          0|      0|     0|    700|                 0.0|     0|    16|\n",
            "|Player_03|    0|        32|       16|                32.0|          0|      1|     0|  48300|                 0.0|     0|    64|\n",
            "|Player_04|    0|         3|        0|                 3.0|          0|      0|     0|   1150|                 0.0|     0|     5|\n",
            "|Player_05|    0|         5|        1|                 5.0|          0|      0|     0|   1000|                 0.0|     0|    10|\n",
            "|Player_06|98332|      1366|     5113| 232.312.925.170.068|        588|   6063|305319|3932335|25.567.203.513.90...|403651| 25321|\n",
            "|Player_07|  568|         8|       35|                 2.0|          4|     68|  4836|  24485|               265.5|  5404|   256|\n",
            "|Player_08| 5111|       550|      485|36.666.666.666.66...|        150|    488| 39978| 458269|1.803.796.363.636...| 45089|  3332|\n",
            "|Player_09|81361|      2442|     3894|2.826.388.888.888...|        864|   4029|327230|4269370|19.884.422.604.42...|408591| 21032|\n",
            "|Player_10|  996|        44|       40|2.933.333.333.333...|         15|    138|  4844|  72765|25.367.727.272.72...|  5840|   786|\n",
            "+---------+-----+----------+---------+--------------------+-----------+-------+------+-------+--------------------+------+------+\n",
            "only showing top 10 rows\n",
            "\n"
          ]
        }
      ],
      "source": [
        "COD1_DF = spark.read.option(\"header\", \"true\").option(\"delimiter\", \",\").csv(\"/content/COD1.csv\")\n",
        "COD2_DF = spark.read.option(\"header\", \"true\").option(\"delimiter\", \",\").csv(\"/content/COD2.csv\")\n",
        "\n",
        "COD1_DF.show(10)\n",
        "COD2_DF.show(10)"
      ]
    },
    {
      "cell_type": "code",
      "execution_count": null,
      "metadata": {
        "id": "Mt8sUo5Jseqz"
      },
      "outputs": [],
      "source": []
    },
    {
      "cell_type": "markdown",
      "metadata": {
        "id": "gqSgGV7EkML5"
      },
      "source": [
        "**Seleccionamos columnas relevantes de cada DF (mostramos los 10)\n",
        "\n",
        "```\n",
        "COD1: 'name', 'wins' y 'kills'\n",
        "COD2: 'name', 'assists' y 'deaths'\n",
        "```\n",
        "\n"
      ]
    },
    {
      "cell_type": "code",
      "execution_count": 31,
      "metadata": {
        "colab": {
          "base_uri": "https://localhost:8080/"
        },
        "id": "eOBC64iS1ZIF",
        "outputId": "30b63c8e-c91f-4dcb-9040-fd472f0e51d2"
      },
      "outputs": [
        {
          "name": "stdout",
          "output_type": "stream",
          "text": [
            "+---------+----+-----+\n",
            "|     name|wins|kills|\n",
            "+---------+----+-----+\n",
            "|Player_01|   0|    0|\n",
            "|Player_02|   0|    0|\n",
            "|Player_03|   0|   66|\n",
            "|Player_04|   3|    2|\n",
            "|Player_05|   0|    2|\n",
            "|Player_06| 684|27011|\n",
            "|Player_07|   4|  162|\n",
            "|Player_08| 186| 1898|\n",
            "|Player_09| 741|21803|\n",
            "|Player_10|  26|  349|\n",
            "+---------+----+-----+\n",
            "only showing top 10 rows\n",
            "\n",
            "+---------+-------+------+\n",
            "|     name|assists|deaths|\n",
            "+---------+-------+------+\n",
            "|Player_01|      0|     0|\n",
            "|Player_02|      0|    16|\n",
            "|Player_03|      1|    64|\n",
            "|Player_04|      0|     5|\n",
            "|Player_05|      0|    10|\n",
            "|Player_06|   6063| 25321|\n",
            "|Player_07|     68|   256|\n",
            "|Player_08|    488|  3332|\n",
            "|Player_09|   4029| 21032|\n",
            "|Player_10|    138|   786|\n",
            "+---------+-------+------+\n",
            "only showing top 10 rows\n",
            "\n"
          ]
        }
      ],
      "source": [
        "selected_columns_cod1 = COD1_DF.select(\"name\", \"wins\", \"kills\")\n",
        "selected_columns_cod1.show(10)\n",
        "\n",
        "selected_columns_cod2 = COD2_DF.select(\"name\", \"assists\", \"deaths\")\n",
        "selected_columns_cod2.show(10)\n",
        "\n",
        "\n"
      ]
    },
    {
      "cell_type": "markdown",
      "metadata": {
        "id": "m6N5-fOssH-o"
      },
      "source": [
        "Asumiendo que la puntuación total de un jugador depende de las kills y las assists, creamos un nuevo DF con cada usuario y una nueva columna 'total_score' que sea la suma de ambas.\n",
        "\n",
        "\n"
      ]
    },
    {
      "cell_type": "code",
      "execution_count": 36,
      "metadata": {
        "colab": {
          "base_uri": "https://localhost:8080/"
        },
        "id": "G84-fwWFsIZs",
        "outputId": "a9af2c03-ed44-4ed7-8ca2-9598d642a58b"
      },
      "outputs": [
        {
          "name": "stdout",
          "output_type": "stream",
          "text": [
            "+---------+-----+-------+-----------+\n",
            "|     name|kills|assists|total_score|\n",
            "+---------+-----+-------+-----------+\n",
            "|Player_01|    0|      0|        0.0|\n",
            "|Player_02|    0|      0|        0.0|\n",
            "|Player_03|   66|      1|       67.0|\n",
            "|Player_04|    2|      0|        2.0|\n",
            "|Player_05|    2|      0|        2.0|\n",
            "|Player_06|27011|   6063|    33074.0|\n",
            "|Player_07|  162|     68|      230.0|\n",
            "|Player_08| 1898|    488|     2386.0|\n",
            "|Player_09|21803|   4029|    25832.0|\n",
            "|Player_10|  349|    138|      487.0|\n",
            "+---------+-----+-------+-----------+\n",
            "only showing top 10 rows\n",
            "\n"
          ]
        }
      ],
      "source": [
        "# Seleccionar las columnas relevantes de COD1 y COD2\n",
        "selected_columns_cod1 = COD1_DF.select(\"name\", \"kills\")\n",
        "selected_columns_cod2 = COD2_DF.select(\"name\", \"assists\")\n",
        "\n",
        "# Realizar un inner join en la columna 'name' para combinar la información\n",
        "total_score_df = selected_columns_cod1.join(selected_columns_cod2, \"name\")\n",
        "\n",
        "# Calcular la nueva columna 'total_score' como la suma de 'kills' y 'assists'\n",
        "total_score_df = total_score_df.withColumn(\"total_score\", col(\"kills\") + col(\"assists\"))\n",
        "\n",
        "# Mostrar el DataFrame resultante\n",
        "total_score_df.show(10)\n"
      ]
    },
    {
      "cell_type": "markdown",
      "metadata": {
        "id": "y2MSKUV0uXmc"
      },
      "source": [
        "Ordenamos por total_score"
      ]
    },
    {
      "cell_type": "code",
      "execution_count": 37,
      "metadata": {
        "colab": {
          "base_uri": "https://localhost:8080/"
        },
        "id": "nnH-6Yi3uWhD",
        "outputId": "cc426994-a3f3-4237-ee93-81894d43d471"
      },
      "outputs": [
        {
          "name": "stdout",
          "output_type": "stream",
          "text": [
            "+-----------+-----+-------+-----------+\n",
            "|       name|kills|assists|total_score|\n",
            "+-----------+-----+-------+-----------+\n",
            "|Player_1121|66935|  10441|    77376.0|\n",
            "| Player_236|59563|  12300|    71863.0|\n",
            "|Player_1096|55368|  14531|    69899.0|\n",
            "|Player_1287|57116|   9650|    66766.0|\n",
            "|Player_1314|51595|  10472|    62067.0|\n",
            "|Player_1527|50302|   8242|    58544.0|\n",
            "|Player_1264|50600|   7371|    57971.0|\n",
            "|Player_1022|45125|   9534|    54659.0|\n",
            "| Player_506|44067|   9598|    53665.0|\n",
            "|Player_1552|45764|   7133|    52897.0|\n",
            "+-----------+-----+-------+-----------+\n",
            "only showing top 10 rows\n",
            "\n"
          ]
        }
      ],
      "source": [
        "# Ordenar el DataFrame por 'total_score' en orden descendente\n",
        "sorted_merged_df = merged_df.orderBy(col(\"total_score\").desc())\n",
        "\n",
        "# Mostrar el DataFrame ordenado\n",
        "sorted_merged_df.show(10)"
      ]
    },
    {
      "cell_type": "markdown",
      "metadata": {
        "id": "SVl8SsH0uj78"
      },
      "source": [
        "Calculamos la media del total_score de la muestra"
      ]
    },
    {
      "cell_type": "code",
      "execution_count": 38,
      "metadata": {
        "colab": {
          "base_uri": "https://localhost:8080/"
        },
        "id": "cndWieZfungN",
        "outputId": "c7a604fa-0b8d-4f17-9468-c21e922de31f"
      },
      "outputs": [
        {
          "name": "stdout",
          "output_type": "stream",
          "text": [
            "La media de total_score es: 4438.799101412067\n"
          ]
        }
      ],
      "source": [
        "# Calcular la media de 'total_score'\n",
        "average_total_score = sorted_merged_df.agg({\"total_score\": \"avg\"}).collect()[0][0]\n",
        "\n",
        "# Mostrar la media\n",
        "print(f\"La media de total_score es: {average_total_score}\")\n"
      ]
    },
    {
      "cell_type": "markdown",
      "metadata": {
        "id": "eWIQj1ivusDT"
      },
      "source": [
        "En función de la media calculada, vamos a seleccionar a todos los jugadores que tengan una puntuación mayor que la media, por ejemplo 4500 pts y mostrar el número total de usuarios"
      ]
    },
    {
      "cell_type": "code",
      "execution_count": 41,
      "metadata": {
        "colab": {
          "base_uri": "https://localhost:8080/"
        },
        "id": "UQRGY5pyu59C",
        "outputId": "f07dcc32-69ba-4ac8-e03c-a044b3505a73"
      },
      "outputs": [
        {
          "name": "stdout",
          "output_type": "stream",
          "text": [
            "El número total de usuarios con más de 4500 puntos es: 371\n",
            "+-----------+-----+-------+-----------+\n",
            "|       name|kills|assists|total_score|\n",
            "+-----------+-----+-------+-----------+\n",
            "|Player_1121|66935|  10441|    77376.0|\n",
            "| Player_236|59563|  12300|    71863.0|\n",
            "|Player_1096|55368|  14531|    69899.0|\n",
            "|Player_1287|57116|   9650|    66766.0|\n",
            "|Player_1314|51595|  10472|    62067.0|\n",
            "|Player_1527|50302|   8242|    58544.0|\n",
            "|Player_1264|50600|   7371|    57971.0|\n",
            "|Player_1022|45125|   9534|    54659.0|\n",
            "| Player_506|44067|   9598|    53665.0|\n",
            "|Player_1552|45764|   7133|    52897.0|\n",
            "|Player_1434|42762|   7550|    50312.0|\n",
            "| Player_136|38924|  11229|    50153.0|\n",
            "|Player_1517|39064|  10008|    49072.0|\n",
            "|Player_1074|38917|   8523|    47440.0|\n",
            "| Player_720|38502|   7916|    46418.0|\n",
            "| Player_177|40392|   5979|    46371.0|\n",
            "|Player_1058|38357|   7287|    45644.0|\n",
            "| Player_187|38200|   6259|    44459.0|\n",
            "| Player_994|35196|   7049|    42245.0|\n",
            "| Player_624|35285|   6081|    41366.0|\n",
            "+-----------+-----+-------+-----------+\n",
            "only showing top 20 rows\n",
            "\n"
          ]
        }
      ],
      "source": [
        "# Filtrar jugadores con más de 4500 puntos en 'total_score'\n",
        "filtered_df = sorted_merged_df.filter(col(\"total_score\") > 4500)\n",
        "\n",
        "total_users = filtered_df.count()\n",
        "print(f\"El número total de usuarios con más de 4500 puntos es: {total_users}\")\n",
        "filtered_df.show()\n",
        "\n"
      ]
    },
    {
      "cell_type": "markdown",
      "metadata": {
        "id": "ud4zpksHvJXM"
      },
      "source": [
        "Como tenemos más de 300 jugadores, queremos solamente el top100 de jugadores en función del total_score (kills + assists)"
      ]
    },
    {
      "cell_type": "code",
      "execution_count": 42,
      "metadata": {
        "colab": {
          "base_uri": "https://localhost:8080/"
        },
        "id": "5hbieFIpvV5s",
        "outputId": "2a8d8a9f-0a66-4796-c1b1-4d8836b938ae"
      },
      "outputs": [
        {
          "name": "stdout",
          "output_type": "stream",
          "text": [
            "+-----------+-----+-------+-----------+\n",
            "|       name|kills|assists|total_score|\n",
            "+-----------+-----+-------+-----------+\n",
            "|Player_1121|66935|  10441|    77376.0|\n",
            "| Player_236|59563|  12300|    71863.0|\n",
            "|Player_1096|55368|  14531|    69899.0|\n",
            "|Player_1287|57116|   9650|    66766.0|\n",
            "|Player_1314|51595|  10472|    62067.0|\n",
            "|Player_1527|50302|   8242|    58544.0|\n",
            "|Player_1264|50600|   7371|    57971.0|\n",
            "|Player_1022|45125|   9534|    54659.0|\n",
            "| Player_506|44067|   9598|    53665.0|\n",
            "|Player_1552|45764|   7133|    52897.0|\n",
            "|Player_1434|42762|   7550|    50312.0|\n",
            "| Player_136|38924|  11229|    50153.0|\n",
            "|Player_1517|39064|  10008|    49072.0|\n",
            "|Player_1074|38917|   8523|    47440.0|\n",
            "| Player_720|38502|   7916|    46418.0|\n",
            "| Player_177|40392|   5979|    46371.0|\n",
            "|Player_1058|38357|   7287|    45644.0|\n",
            "| Player_187|38200|   6259|    44459.0|\n",
            "| Player_994|35196|   7049|    42245.0|\n",
            "| Player_624|35285|   6081|    41366.0|\n",
            "+-----------+-----+-------+-----------+\n",
            "only showing top 20 rows\n",
            "\n"
          ]
        }
      ],
      "source": [
        "top_100_players = sorted_merged_df.limit(100)\n",
        "top_100_players.show()\n"
      ]
    },
    {
      "cell_type": "markdown",
      "metadata": {
        "id": "rFAFcfs2wjCI"
      },
      "source": [
        "A nuestro df con kills, assists y total score, vamos a añadirle: wins, level, prestige, xp, misses y deaths; para poder hacer un análisis más profundo."
      ]
    },
    {
      "cell_type": "code",
      "execution_count": 67,
      "metadata": {
        "colab": {
          "base_uri": "https://localhost:8080/"
        },
        "id": "PWzbCtKyv2s1",
        "outputId": "1facbf87-9a9a-495b-d8cc-9f370d8abdc2"
      },
      "outputs": [
        {
          "name": "stdout",
          "output_type": "stream",
          "text": [
            "+---------+-------+-------+-----------+----+-----+--------+-------+------+------+-----------+\n",
            "|     name|  kills|assists|total_score|wins|level|prestige|     xp|misses|deaths|gamesPlayed|\n",
            "+---------+-------+-------+-----------+----+-----+--------+-------+------+------+-----------+\n",
            "|Player_01|    0.0|    0.0|        0.0|   0|    1|       0|      0|     0|     0|          0|\n",
            "|Player_02|    0.0|    0.0|        0.0|   0|    1|     110|    700|     0|    16|          0|\n",
            "|Player_03|   66.0|    1.0|       67.0|   0|    9|     110|  48300|     0|    64|          0|\n",
            "|Player_04|    2.0|    0.0|        2.0|   3|    1|       0|   1150|     0|     5|          0|\n",
            "|Player_05|    2.0|    0.0|        2.0|   0|    1|     110|   1000|     0|    10|          0|\n",
            "|Player_06|27011.0| 6063.0|    33074.0| 684|  177|     110|3932335|305319| 25321|        588|\n",
            "|Player_07|  162.0|   68.0|      230.0|   4|    6|       0|  24485|  4836|   256|          4|\n",
            "|Player_08| 1898.0|  488.0|     2386.0| 186|   37|       2| 458269| 39978|  3332|        150|\n",
            "|Player_09|21803.0| 4029.0|    25832.0| 741|  185|     111|4269370|327230| 21032|        864|\n",
            "|Player_10|  349.0|  138.0|      487.0|  26|   12|       0|  72765|  4844|   786|         15|\n",
            "+---------+-------+-------+-----------+----+-----+--------+-------+------+------+-----------+\n",
            "only showing top 10 rows\n",
            "\n"
          ]
        }
      ],
      "source": [
        "additional_columns_cod1 = COD1_DF.select(\"name\", \"wins\", \"level\", \"prestige\")\n",
        "\n",
        "additional_columns_cod2 = COD2_DF.select(\"name\", \"xp\", \"misses\", \"deaths\", \"gamesPlayed\")\n",
        "\n",
        "# Hacemos un inner join\n",
        "final_df = sorted_merged_df \\\n",
        "    .join(additional_columns_cod1, \"name\") \\\n",
        "    .join(additional_columns_cod2, \"name\")\n",
        "\n",
        "final_df.show(10)\n"
      ]
    },
    {
      "cell_type": "code",
      "execution_count": 68,
      "metadata": {
        "colab": {
          "base_uri": "https://localhost:8080/"
        },
        "id": "9N31x4_IywLL",
        "outputId": "84dad878-a9d5-436c-d39d-4bb0c72a6b30"
      },
      "outputs": [
        {
          "name": "stdout",
          "output_type": "stream",
          "text": [
            "+---------+-------+-------+-----------+-----+-----+--------+---------+--------+-------+-----------+\n",
            "|     name|  kills|assists|total_score| wins|level|prestige|       xp|  misses| deaths|gamesPlayed|\n",
            "+---------+-------+-------+-----------+-----+-----+--------+---------+--------+-------+-----------+\n",
            "|Player_01|    0.0|    0.0|        0.0|  0.0|  1.0|     0.0|      0.0|     0.0|    0.0|        0.0|\n",
            "|Player_02|    0.0|    0.0|        0.0|  0.0|  1.0|   110.0|    700.0|     0.0|   16.0|        0.0|\n",
            "|Player_03|   66.0|    1.0|       67.0|  0.0|  9.0|   110.0|  48300.0|     0.0|   64.0|        0.0|\n",
            "|Player_04|    2.0|    0.0|        2.0|  3.0|  1.0|     0.0|   1150.0|     0.0|    5.0|        0.0|\n",
            "|Player_05|    2.0|    0.0|        2.0|  0.0|  1.0|   110.0|   1000.0|     0.0|   10.0|        0.0|\n",
            "|Player_06|27011.0| 6063.0|    33074.0|684.0|177.0|   110.0|3932335.0|305319.0|25321.0|      588.0|\n",
            "|Player_07|  162.0|   68.0|      230.0|  4.0|  6.0|     0.0|  24485.0|  4836.0|  256.0|        4.0|\n",
            "|Player_08| 1898.0|  488.0|     2386.0|186.0| 37.0|     2.0| 458269.0| 39978.0| 3332.0|      150.0|\n",
            "|Player_09|21803.0| 4029.0|    25832.0|741.0|185.0|   111.0|4269370.0|327230.0|21032.0|      864.0|\n",
            "|Player_10|  349.0|  138.0|      487.0| 26.0| 12.0|     0.0|  72765.0|  4844.0|  786.0|       15.0|\n",
            "+---------+-------+-------+-----------+-----+-----+--------+---------+--------+-------+-----------+\n",
            "only showing top 10 rows\n",
            "\n"
          ]
        }
      ],
      "source": [
        "# Para poder análisis numéricos necesitamos convertir las columnas a tipo numérico\n",
        "def convert_to_numeric_columns(df):\n",
        "    numeric_columns = [col_name for col_name, col_type in df.dtypes if col_name != 'name']\n",
        "    for col_name in numeric_columns:\n",
        "        df = df.withColumn(col_name, col(col_name).cast('double'))  # Puedes cambiar 'double' según tus necesidades\n",
        "    return df\n",
        "\n",
        "additional_columns_cod1 = convert_to_numeric_columns(additional_columns_cod1)\n",
        "additional_columns_cod2 = convert_to_numeric_columns(additional_columns_cod2)\n",
        "sorted_merged_df = convert_to_numeric_columns(sorted_merged_df)\n",
        "\n",
        "final_df = sorted_merged_df.join(additional_columns_cod1, \"name\").join(additional_columns_cod2, \"name\")\n",
        "\n",
        "final_df.show(10)\n",
        "\n"
      ]
    },
    {
      "cell_type": "code",
      "execution_count": 69,
      "metadata": {
        "colab": {
          "base_uri": "https://localhost:8080/"
        },
        "id": "eMFMie8yzgQI",
        "outputId": "5c05ab03-912d-40b7-9956-603f9d2946d9"
      },
      "outputs": [
        {
          "name": "stdout",
          "output_type": "stream",
          "text": [
            "Correlación entre 'wins' y 'kills': 0.9002012044525194\n"
          ]
        }
      ],
      "source": [
        "# Calcular la correlación entre \"wins\" y \"kills\"\n",
        "correlation_wins_kills = final_df.select(corr(\"wins\", \"kills\")).collect()[0][0]\n",
        "\n",
        "print(f\"Correlación entre 'wins' y 'kills': {correlation_wins_kills}\")\n"
      ]
    },
    {
      "cell_type": "markdown",
      "metadata": {
        "id": "XCOJwELo0ygh"
      },
      "source": [
        "La correlación entre wins y kills es de 0,9.\n",
        "Este resultado significa que hay una relación clara de que a medida que el númer de kills aumenta, también aumenta el número de victorias."
      ]
    },
    {
      "cell_type": "code",
      "execution_count": 70,
      "metadata": {
        "colab": {
          "base_uri": "https://localhost:8080/",
          "height": 564
        },
        "id": "O-eKkP_c0z7P",
        "outputId": "1b1fef3d-4625-43b1-c256-5449d3a3bf7e"
      },
      "outputs": [
        {
          "data": {
            "image/png": "[encoded data removed]",
            "text/plain": [
              "<Figure size 1000x600 with 1 Axes>"
            ]
          },
          "metadata": {},
          "output_type": "display_data"
        }
      ],
      "source": [
        "# Convierte el DataFrame de PySpark a un DataFrame de Pandas para visualización\n",
        "pd_final_df = final_df.select(\"wins\", \"kills\").toPandas()\n",
        "\n",
        "plt.figure(figsize=(10, 6))\n",
        "plt.scatter(pd_final_df['kills'], pd_final_df['wins'], alpha=0.5)\n",
        "plt.title('Scatter Plot: Wins vs Kills')\n",
        "plt.xlabel('Kills')\n",
        "plt.ylabel('Wins')\n",
        "plt.grid(True)\n",
        "plt.show()\n"
      ]
    }
  ],
  "metadata": {
    "colab": {
      "provenance": []
    },
    "kernelspec": {
      "display_name": "Python 3.10.0 64-bit",
      "language": "python",
      "name": "python3"
    },
    "language_info": {
      "codemirror_mode": {
        "name": "ipython",
        "version": 3
      },
      "file_extension": ".py",
      "mimetype": "text/x-python",
      "name": "python",
      "nbconvert_exporter": "python",
      "pygments_lexer": "ipython3",
      "version": "3.10.0"
    },
    "orig_nbformat": 4,
    "vscode": {
      "interpreter": {
        "hash": "ff1af5cda0bea4fe5c4ebc1f94ab9f13d8998f98d08e16d8aba48673b9d00116"
      }
    }
  },
  "nbformat": 4,
  "nbformat_minor": 0
}
