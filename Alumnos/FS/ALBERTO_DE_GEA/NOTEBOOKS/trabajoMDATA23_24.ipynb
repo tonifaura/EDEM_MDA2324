{
  "cells": [
    {
      "cell_type": "markdown",
      "metadata": {
        "id": "v9bUCJMMuaPN"
      },
      "source": [
        "**HIPÓTESIS: Los mejores jugadores juegan en la Premier League.**"
      ]
    },
    {
      "cell_type": "markdown",
      "metadata": {
        "id": "npMpbhu_ukNf"
      },
      "source": [
        "*A continuación, se va a realizar un análisis a través de gráficas para demostrar que los mejores jugadores están jugando en la liga inglesa, que no jugadores ingleses. Para ello, se tendrán en cuenta los parámetros de la valoración (overall) y la liga (obtenida a través de los clubes).*"
      ]
    },
    {
      "cell_type": "code",
      "execution_count": 18,
      "metadata": {
        "id": "u9ITxTIb2QGD"
      },
      "outputs": [],
      "source": [
        "import pandas as pd\n",
        "import matplotlib.pyplot as plt"
      ]
    },
    {
      "cell_type": "code",
      "execution_count": null,
      "metadata": {
        "id": "1Qp5rBqH3TI8"
      },
      "outputs": [],
      "source": [
        "df = pd.read_csv(\"/content/fifa_players.csv\")\n",
        "print(df)"
      ]
    },
    {
      "cell_type": "code",
      "execution_count": null,
      "metadata": {
        "id": "qejjZ8HY3f3z"
      },
      "outputs": [],
      "source": [
        "df.columns\n"
      ]
    },
    {
      "cell_type": "markdown",
      "metadata": {
        "id": "yChRWsy06oPA"
      },
      "source": [
        "A continuación, comenzamos con un análisis de los mejores 50 jugadores. Para ello requerimos un desglose que nos muestre la valoración del jugador acompañado de a que club pertenece."
      ]
    },
    {
      "cell_type": "code",
      "execution_count": null,
      "metadata": {
        "id": "ZwlS3PmX4xDx"
      },
      "outputs": [],
      "source": [
        "print(df[[\"short_name\", \"overall\", \"club\"]].head(50))"
      ]
    },
    {
      "cell_type": "markdown",
      "metadata": {
        "id": "TjxjT-fKwFEd"
      },
      "source": [
        "En el próximo paso, veremos que equipos poseen algún jugador dentro de este top 50 de una manera más visual y sencilla."
      ]
    },
    {
      "cell_type": "code",
      "execution_count": null,
      "metadata": {
        "id": "L79W0gv3_gkU"
      },
      "outputs": [],
      "source": [
        "pf = df.head(50)\n",
        "mytable = pf.groupby([\"club\"]).size()\n",
        "print(mytable)\n"
      ]
    },
    {
      "cell_type": "code",
      "execution_count": null,
      "metadata": {
        "id": "eajMqDXXAv5o"
      },
      "outputs": [],
      "source": [
        "pf[\"club\"].value_counts().plot(kind=\"bar\",\n",
        "                               title=\"Donde juegan los mejores\", color ='maroon')"
      ]
    },
    {
      "cell_type": "markdown",
      "metadata": {
        "id": "ASUSbbvLzVLn"
      },
      "source": [
        "Como se observa en el anterior gráfico, 8 jugadores de dentro del top 50 juegan en el Manchester City. El Real Madrid, con 7 jugadores, es el segundo equipo con más jugadores dentro de esta lista, seguido con 6 jugadores por el Fútbol Club Barcelona. En este listado, aparecen equipos de la Premier League, LaLiga, la Ligue1, la SerieA y la Bundesliga."
      ]
    },
    {
      "cell_type": "code",
      "execution_count": null,
      "metadata": {
        "id": "_f0yVA9DydZD"
      },
      "outputs": [],
      "source": [
        "from tabulate import tabulate\n",
        "pf = df.head(50)\n",
        "mytable = pf.groupby(\"club\")[\"short_name\"].agg(list)\n",
        "pd.set_option(\"display.max_colwidth\", None)\n",
        "print(tabulate(mytable.reset_index(), headers=[\"Club\", \"Nombres\"], tablefmt=\"pretty\"))\n"
      ]
    },
    {
      "cell_type": "markdown",
      "metadata": {
        "id": "jwzw9OHf_Yjy"
      },
      "source": [
        "En el anterior análisis, observamos que jugadores juegan dentro de cada club de una manera mas sencilla y visual."
      ]
    },
    {
      "cell_type": "markdown",
      "metadata": {
        "id": "YJvVqu_1zJMn"
      },
      "source": [
        "A raíz del anterior gráfico, observamos también que la hipotesis planteada es \"relativamente\" cierta, debido a que del top 50 de la fifa, 21 jugadores juegan en la premier league (Manchester City, Liverpool, Chelsea, Arsenal, Tottenham Hotspur y Manchester United) mientras que el resto juega en Laliga, Serie A, Ligue One y la Bundesliga."
      ]
    },
    {
      "cell_type": "code",
      "execution_count": null,
      "metadata": {
        "id": "EpvdFFXI10Ro"
      },
      "outputs": [],
      "source": [
        "clubes_premier = [\"Manchester City\", \"Manchester United\", \"Tottenham Hotspur\", \"Arsenal\", \"Chelsea\", \"Liverpool\"]\n",
        "mejores_50_premier = df[df['club'].isin(clubes_premier)].head(50)\n",
        "print(mejores_50_premier[[\"short_name\", \"overall\"]])\n",
        "mejores_50_otras_ligas = df[~df['club'].isin(clubes_premier)].head(50)\n",
        "print(\"Mejores 50 jugadores de otras ligas:\")\n",
        "print(mejores_50_otras_ligas[[\"short_name\", \"overall\"]])"
      ]
    },
    {
      "cell_type": "markdown",
      "metadata": {
        "id": "Kgjszyo-ABe0"
      },
      "source": [
        "Aquí vemos una comparativa entre los jugadores que poseen a esos clubes de la premier league y los jugadores del resto de ligas."
      ]
    },
    {
      "cell_type": "code",
      "execution_count": null,
      "metadata": {
        "colab": {
          "base_uri": "https://localhost:8080/"
        },
        "id": "lTtWT7cv5FU9",
        "outputId": "2884d2cd-7340-4b87-e0a3-54e7dc163539"
      },
      "outputs": [
        {
          "name": "stdout",
          "output_type": "stream",
          "text": [
            "Promedio del overall en la Premier League (top 50): 85.84\n",
            "Promedio del overall en otras ligas (top 50): 87.76\n"
          ]
        }
      ],
      "source": [
        "promedio_overall_premier = mejores_50_premier[\"overall\"].mean()\n",
        "promedio_overall_otras_ligas = mejores_50_otras_ligas[\"overall\"].mean()\n",
        "print(\"Promedio del overall en la Premier League (top 50):\", promedio_overall_premier)\n",
        "print(\"Promedio del overall en otras ligas (top 50):\", promedio_overall_otras_ligas)"
      ]
    },
    {
      "cell_type": "markdown",
      "metadata": {
        "id": "w2qqZ6jw42iJ"
      },
      "source": [
        "En el anterior código, observamos como la media de los jugadores de la premier es inferior al promedio del overall de las otras ligas, pero se estan incluyendo 4 ligas vs 1. Por lo tanto, si se analiza en su conjunto una a una, se demostraría que la Premier posee mejores jugadores como se va a demostrar a continuación."
      ]
    },
    {
      "cell_type": "code",
      "execution_count": null,
      "metadata": {
        "id": "8MEMZ_lS5xdc"
      },
      "outputs": [],
      "source": [
        "clubes_premier = [\"Manchester City\", \"Manchester United\", \"Tottenham Hotspur\", \"Arsenal\", \"Chelsea\", \"Liverpool\"]\n",
        "mejores_50_premier = df[df['club'].isin(clubes_premier)].head(50)\n",
        "print(mejores_50_premier[[\"short_name\", \"overall\"]])\n",
        "\n",
        "clubes_LaLiga = [\"FC Barcelona\", \"Real Madrid\", \"Atlético Madrid\"]\n",
        "mejores_50_LaLiga = df[df['club'].isin(clubes_LaLiga)].head(50)\n",
        "print(mejores_50_LaLiga[[\"short_name\", \"overall\"]])"
      ]
    },
    {
      "cell_type": "code",
      "execution_count": null,
      "metadata": {
        "colab": {
          "base_uri": "https://localhost:8080/"
        },
        "id": "MGASXCLt7ijO",
        "outputId": "52a186f4-e993-4078-982b-6fb8dfdc749f"
      },
      "outputs": [
        {
          "name": "stdout",
          "output_type": "stream",
          "text": [
            "Promedio del overall en la Premier League (top 50): 85.84\n",
            "Promedio del overall en LaLiga ligas (top 50): 85.32\n"
          ]
        }
      ],
      "source": [
        "promedio_overall_premier = mejores_50_premier[\"overall\"].mean()\n",
        "promedio_overall_LaLiga = mejores_50_LaLiga[\"overall\"].mean()\n",
        "print(\"Promedio del overall en la Premier League (top 50):\", promedio_overall_premier)\n",
        "print(\"Promedio del overall en LaLiga ligas (top 50):\", promedio_overall_LaLiga)"
      ]
    },
    {
      "cell_type": "markdown",
      "metadata": {
        "id": "poLoAFua7yZ3"
      },
      "source": [
        "Aquí se demuestra como en comparación con LaLiga, la Premier sigue teniendo una mejor cantidad de jugadores que LaLiga, a pesar de que LaLiga, posee a uno de los tres mejores jugadores, mientras que los otros dos poseen a la Serie A y la Ligue 1. Por así decirlo, LaLiga posee a los 5"
      ]
    },
    {
      "cell_type": "markdown",
      "metadata": {
        "id": "U0KLw-NS9pVy"
      },
      "source": [
        "Si hacemos la comparativa con otra liga, por ejemplo la SerieA, que posee al segundo jugador de todo el DataFrame con mayor overall obtendriamos lo siguiente:"
      ]
    },
    {
      "cell_type": "code",
      "execution_count": null,
      "metadata": {
        "id": "_SBXYy2B9n53"
      },
      "outputs": [],
      "source": [
        "clubes_premier = [\"Manchester City\", \"Manchester United\", \"Tottenham Hotspur\", \"Arsenal\", \"Chelsea\", \"Liverpool\"]\n",
        "mejores_50_premier = df[df['club'].isin(clubes_premier)].head(50)\n",
        "print(mejores_50_premier[[\"short_name\", \"overall\"]])\n",
        "\n",
        "clubes_SerieA = [\"Juventus\", \"Napoli\", \"Inter\"]\n",
        "mejores_50_SerieA = df[df['club'].isin(clubes_SerieA)].head(50)\n",
        "print(mejores_50_SerieA[[\"short_name\", \"overall\"]])"
      ]
    },
    {
      "cell_type": "code",
      "execution_count": null,
      "metadata": {
        "id": "mfh18Qpo93B_"
      },
      "outputs": [],
      "source": [
        "promedio_overall_premier = mejores_50_premier[\"overall\"].mean()\n",
        "promedio_overall_SerieA = mejores_50_SerieA[\"overall\"].mean()\n",
        "print(\"Promedio del overall en la Premier League (top 50):\", promedio_overall_premier)\n",
        "print(\"Promedio del overall en SerieA (top 50):\", promedio_overall_SerieA)"
      ]
    },
    {
      "cell_type": "markdown",
      "metadata": {
        "id": "yQwbu3eN9-ft"
      },
      "source": [
        "Aquí podemos observar incluso una mayor diferencia con respeto a LaLiga. Esto indica que el nivel de la premier es mas de dos puntos superior al de la SerieA."
      ]
    },
    {
      "cell_type": "markdown",
      "metadata": {
        "id": "SE3Szuk4Af1E"
      },
      "source": [
        "Si volvemos a comparar la Premier League, en esta ocasión, con la Ligue1, el resultado es el siguiente."
      ]
    },
    {
      "cell_type": "code",
      "execution_count": null,
      "metadata": {
        "id": "M-pjC-pN-Iry"
      },
      "outputs": [],
      "source": [
        "clubes_premier = [\"Manchester City\", \"Manchester United\", \"Tottenham Hotspur\", \"Arsenal\", \"Chelsea\", \"Liverpool\"]\n",
        "mejores_50_premier = df[df['club'].isin(clubes_premier)].head(50)\n",
        "print(mejores_50_premier[[\"short_name\", \"overall\"]])\n",
        "\n",
        "clubes_Ligue1 = [\"Paris Saint-Germain\", \"AS Monaco\", \"Olympique Marsella\"]\n",
        "mejores_50_Ligue1 = df[df['club'].isin(clubes_Ligue1)].head(50)\n",
        "print(mejores_50_Ligue1[[\"short_name\", \"overall\"]])"
      ]
    },
    {
      "cell_type": "code",
      "execution_count": null,
      "metadata": {
        "id": "v7IBnBb7ApvK"
      },
      "outputs": [],
      "source": [
        "promedio_overall_premier = mejores_50_premier[\"overall\"].mean()\n",
        "promedio_overall_Ligue1 = mejores_50_Ligue1[\"overall\"].mean()\n",
        "print(\"Promedio del overall en la Premier League (top 50):\", promedio_overall_premier)\n",
        "print(\"Promedio del overall en Ligue1 (top 50):\", promedio_overall_Ligue1)"
      ]
    },
    {
      "cell_type": "markdown",
      "metadata": {
        "id": "IPLrwUY7BOD_"
      },
      "source": [
        "En esta ocasión observamos una mayor diferencia con respecto a las ligas anteriores debido al bajo overall de los jugadores pertenecientes a esta liga."
      ]
    },
    {
      "cell_type": "markdown",
      "metadata": {
        "id": "8SAIvHZeBaIH"
      },
      "source": [
        "***Para concluir, cerrar con que la hipotésis de que el mayor nivel se encuentra en la premier league es cierta, pero eso no significa que posea a los mejores jugadores ya que en el dataframe, tenemos que bajar hasta la sexta posición para encontrar al primer jugador de dicha liga. Esta liga, por lo tanto, destaca más en su conjunto que LaLiga, la SerieA o la Ligue1, que las 3 poseen a un jugador dentro del top 3 con mayor overall pero tienen un nivel inferior de jugadores en conjunto.***"
      ]
    }
  ],
  "metadata": {
    "colab": {
      "provenance": []
    },
    "kernelspec": {
      "display_name": "Python 3",
      "name": "python3"
    },
    "language_info": {
      "name": "python"
    }
  },
  "nbformat": 4,
  "nbformat_minor": 0
}
