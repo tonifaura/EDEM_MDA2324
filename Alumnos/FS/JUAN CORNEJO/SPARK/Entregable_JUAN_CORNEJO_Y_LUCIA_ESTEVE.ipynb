{
  "cells": [
    {
      "cell_type": "markdown",
      "metadata": {
        "id": "u3WKxUMvQ9JW"
      },
      "source": [
        "# DataFrames Basics"
      ]
    },
    {
      "cell_type": "markdown",
      "metadata": {
        "id": "IBsRl4yARA3x"
      },
      "source": [
        "## Prerrequisites"
      ]
    },
    {
      "cell_type": "markdown",
      "metadata": {
        "id": "0KID1ObYRDA4"
      },
      "source": [
        "Install Spark and Java in VM"
      ]
    },
    {
      "cell_type": "code",
      "execution_count": 11,
      "metadata": {
        "id": "-9EjQzqhRJSZ"
      },
      "outputs": [],
      "source": [
        "# install Java8\n",
        "!apt-get install openjdk-8-jdk-headless -qq > /dev/null\n",
        "# download spark 3.5.0\n",
        "!wget -q https://apache.osuosl.org/spark/spark-3.5.0/spark-3.5.0-bin-hadoop3.tgz"
      ]
    },
    {
      "cell_type": "code",
      "execution_count": 12,
      "metadata": {
        "colab": {
          "base_uri": "https://localhost:8080/"
        },
        "id": "E4s6wcUsSPHQ",
        "outputId": "df5ea96c-1954-42cc-f59c-13424a0a0bae"
      },
      "outputs": [
        {
          "name": "stdout",
          "output_type": "stream",
          "text": [
            "total 782032\n",
            "drwxr-xr-x  1 root root      4096 Feb 14 14:28 \u001b[0m\u001b[01;34msample_data\u001b[0m/\n",
            "drwxr-xr-x 13 1000 1000      4096 Sep  9 02:08 \u001b[01;34mspark-3.5.0-bin-hadoop3\u001b[0m/\n",
            "-rw-r--r--  1 root root 400395283 Sep  9 02:10 spark-3.5.0-bin-hadoop3.tgz\n",
            "-rw-r--r--  1 root root 400395283 Sep  9 02:10 spark-3.5.0-bin-hadoop3.tgz.1\n"
          ]
        }
      ],
      "source": [
        "ls -l # check the .tgz is there"
      ]
    },
    {
      "cell_type": "code",
      "execution_count": 13,
      "metadata": {
        "id": "hSA_T2q7SEt_"
      },
      "outputs": [],
      "source": [
        "# unzip it\n",
        "!tar xf spark-3.5.0-bin-hadoop3.tgz"
      ]
    },
    {
      "cell_type": "code",
      "execution_count": 14,
      "metadata": {
        "id": "HpKEfJTeii2Y"
      },
      "outputs": [],
      "source": [
        "!pip install -q findspark"
      ]
    },
    {
      "cell_type": "code",
      "execution_count": 15,
      "metadata": {
        "colab": {
          "base_uri": "https://localhost:8080/"
        },
        "id": "zwH-zC17SGnP",
        "outputId": "2ecc0345-5f84-4741-ab1f-00d84f2bca88"
      },
      "outputs": [
        {
          "name": "stdout",
          "output_type": "stream",
          "text": [
            "Requirement already satisfied: py4j in /usr/local/lib/python3.10/dist-packages (0.10.9.7)\n",
            "Requirement already satisfied: folium in /usr/local/lib/python3.10/dist-packages (0.14.0)\n",
            "Requirement already satisfied: branca>=0.6.0 in /usr/local/lib/python3.10/dist-packages (from folium) (0.7.1)\n",
            "Requirement already satisfied: jinja2>=2.9 in /usr/local/lib/python3.10/dist-packages (from folium) (3.1.3)\n",
            "Requirement already satisfied: numpy in /usr/local/lib/python3.10/dist-packages (from folium) (1.25.2)\n",
            "Requirement already satisfied: requests in /usr/local/lib/python3.10/dist-packages (from folium) (2.31.0)\n",
            "Requirement already satisfied: MarkupSafe>=2.0 in /usr/local/lib/python3.10/dist-packages (from jinja2>=2.9->folium) (2.1.5)\n",
            "Requirement already satisfied: charset-normalizer<4,>=2 in /usr/local/lib/python3.10/dist-packages (from requests->folium) (3.3.2)\n",
            "Requirement already satisfied: idna<4,>=2.5 in /usr/local/lib/python3.10/dist-packages (from requests->folium) (3.6)\n",
            "Requirement already satisfied: urllib3<3,>=1.21.1 in /usr/local/lib/python3.10/dist-packages (from requests->folium) (2.0.7)\n",
            "Requirement already satisfied: certifi>=2017.4.17 in /usr/local/lib/python3.10/dist-packages (from requests->folium) (2024.2.2)\n",
            "Requirement already satisfied: plotly in /usr/local/lib/python3.10/dist-packages (5.15.0)\n",
            "Requirement already satisfied: tenacity>=6.2.0 in /usr/local/lib/python3.10/dist-packages (from plotly) (8.2.3)\n",
            "Requirement already satisfied: packaging in /usr/local/lib/python3.10/dist-packages (from plotly) (23.2)\n"
          ]
        }
      ],
      "source": [
        "\n",
        "!pip install py4j\n",
        "\n",
        "# For maps\n",
        "!pip install folium\n",
        "!pip install plotly"
      ]
    },
    {
      "cell_type": "markdown",
      "metadata": {
        "id": "y1tk452JRjuY"
      },
      "source": [
        "Define the environment"
      ]
    },
    {
      "cell_type": "code",
      "execution_count": 16,
      "metadata": {
        "id": "vrMxCiuZRl7h"
      },
      "outputs": [],
      "source": [
        "import os\n",
        "os.environ[\"JAVA_HOME\"] = \"/usr/lib/jvm/java-8-openjdk-amd64\"\n",
        "os.environ[\"SPARK_HOME\"] = \"/content/spark-3.5.0-bin-hadoop3\"\n",
        "os.environ[\"PYSPARK_SUBMIT_ARGS\"] = \"--master local[*] pyspark-shell\""
      ]
    },
    {
      "cell_type": "markdown",
      "metadata": {
        "id": "vk_3rL02Q9JZ"
      },
      "source": [
        "Start Spark Session\n",
        "\n",
        "---"
      ]
    },
    {
      "cell_type": "code",
      "execution_count": 17,
      "metadata": {
        "colab": {
          "base_uri": "https://localhost:8080/",
          "height": 0
        },
        "id": "-HtQz6mfQ9JZ",
        "outputId": "e13a1f1a-7db8-4ac9-b2bd-ef12933154cf"
      },
      "outputs": [
        {
          "data": {
            "application/vnd.google.colaboratory.intrinsic+json": {
              "type": "string"
            },
            "text/plain": [
              "'3.5.0'"
            ]
          },
          "execution_count": 17,
          "metadata": {},
          "output_type": "execute_result"
        }
      ],
      "source": [
        "import findspark\n",
        "findspark.init(\"spark-3.5.0-bin-hadoop3\")# SPARK_HOME\n",
        "\n",
        "from pyspark.sql import SparkSession\n",
        "\n",
        "# create the session\n",
        "spark = SparkSession \\\n",
        "        .builder \\\n",
        "        .appName(\"DataFrames Basics\") \\\n",
        "        .master(\"local[*]\") \\\n",
        "        .getOrCreate()\n",
        "\n",
        "spark.version"
      ]
    },
    {
      "cell_type": "code",
      "execution_count": 18,
      "metadata": {
        "colab": {
          "base_uri": "https://localhost:8080/",
          "height": 0
        },
        "id": "DrOjmfL9Q9Ja",
        "outputId": "7e5c3f84-396d-485b-a1cc-1a53ebbebd89"
      },
      "outputs": [
        {
          "data": {
            "text/html": [
              "\n",
              "            <div>\n",
              "                <p><b>SparkSession - in-memory</b></p>\n",
              "                \n",
              "        <div>\n",
              "            <p><b>SparkContext</b></p>\n",
              "\n",
              "            <p><a href=\"http://fecd6a08550c:4040\">Spark UI</a></p>\n",
              "\n",
              "            <dl>\n",
              "              <dt>Version</dt>\n",
              "                <dd><code>v3.5.0</code></dd>\n",
              "              <dt>Master</dt>\n",
              "                <dd><code>local[*]</code></dd>\n",
              "              <dt>AppName</dt>\n",
              "                <dd><code>DataFrames Basics</code></dd>\n",
              "            </dl>\n",
              "        </div>\n",
              "        \n",
              "            </div>\n",
              "        "
            ],
            "text/plain": [
              "<pyspark.sql.session.SparkSession at 0x7e99101300a0>"
            ]
          },
          "execution_count": 18,
          "metadata": {},
          "output_type": "execute_result"
        }
      ],
      "source": [
        "spark"
      ]
    },
    {
      "cell_type": "code",
      "execution_count": 19,
      "metadata": {
        "id": "IBZ8ufPAQ9Jb"
      },
      "outputs": [],
      "source": [
        "# For Pandas conversion optimization\n",
        "spark.conf.set(\"spark.sql.execution.arrow.enabled\", \"true\")"
      ]
    },
    {
      "cell_type": "code",
      "execution_count": 20,
      "metadata": {
        "id": "nJ-cdrAlQ9Jb"
      },
      "outputs": [],
      "source": [
        "# Import sql functions\n",
        "from pyspark.sql.functions import *"
      ]
    },
    {
      "cell_type": "markdown",
      "metadata": {
        "id": "94aRTBiPQ9Jc"
      },
      "source": [
        "## Examples"
      ]
    },
    {
      "cell_type": "markdown",
      "metadata": {
        "id": "ZcaXp7L_y9Cy"
      },
      "source": [
        "# Creamos los datasets de los CSV."
      ]
    },
    {
      "cell_type": "code",
      "execution_count": 22,
      "metadata": {
        "id": "nQME1cpVyU-L"
      },
      "outputs": [],
      "source": [
        "info_episodesDF = spark.read.option(\"header\", \"true\").option(\"delimiter\", \",\").csv(\"/content/friends_info.csv\")\n",
        "info_emotionsDF = spark.read.option(\"header\", \"true\").option(\"delimiter\", \",\").csv(\"/content/Friends_emotions.csv\")"
      ]
    },
    {
      "cell_type": "markdown",
      "metadata": {
        "id": "ultlL-pS0P_k"
      },
      "source": [
        "# Mostramos los datasets"
      ]
    },
    {
      "cell_type": "code",
      "execution_count": 23,
      "metadata": {
        "colab": {
          "base_uri": "https://localhost:8080/"
        },
        "id": "5lAVMr-e0WkZ",
        "outputId": "c53aa428-4cb2-4a56-9326-f4a9b927ea56"
      },
      "outputs": [
        {
          "name": "stdout",
          "output_type": "stream",
          "text": [
            "+------+-------+--------------------+---------------+--------------------+----------+-----------------+-----------+\n",
            "|season|episode|               title|    directed_by|          written_by|  air_date|us_views_millions|imdb_rating|\n",
            "+------+-------+--------------------+---------------+--------------------+----------+-----------------+-----------+\n",
            "|     1|      1|           The Pilot|  James Burrows|David Crane & Mar...|1994-09-22|             21.5|        8.3|\n",
            "|     1|      2|The One with the ...|  James Burrows|David Crane & Mar...|1994-09-29|             20.2|        8.1|\n",
            "|     1|      3|The One with the ...|  James Burrows|Jeffrey Astrof & ...|1994-10-06|             19.5|        8.2|\n",
            "|     1|      4|The One with Geor...|  James Burrows|         Alexa Junge|1994-10-13|             19.7|        8.1|\n",
            "|     1|      5|The One with the ...|  Pamela Fryman|Jeff Greenstein &...|1994-10-20|             18.6|        8.5|\n",
            "|     1|      6|The One with the ...| Arlene Sanford|Adam Chase & Ira ...|1994-10-27|             18.2|        8.1|\n",
            "|     1|      7|The One with the ...|  James Burrows|Jeffrey Astrof & ...|1994-11-03|             23.5|          9|\n",
            "|     1|      8|The One Where Nan...|  James Burrows|Marta Kauffman & ...|1994-11-10|             21.1|        8.1|\n",
            "|     1|      9|The One Where Und...|  James Burrows|Jeff Greenstein &...|1994-11-17|             23.1|        8.2|\n",
            "|     1|     10|The One with the ...|   Peter Bonerz|Adam Chase & Ira ...|1994-12-15|             19.9|        8.1|\n",
            "|     1|     11|The One with Mrs....|  James Burrows|         Alexa Junge|1995-01-05|             26.6|        8.2|\n",
            "|     1|     12|The One with the ...|   Paul Lazarus|Jeffrey Astrof & ...|1995-01-12|               24|        8.2|\n",
            "|     1|     13|The One with the ...|   Alan Myerson|         Alexa Junge|1995-01-19|             25.8|        8.7|\n",
            "|     1|     14|The One with the ...|  James Burrows|       Bill Lawrence|1995-02-09|             23.8|        8.3|\n",
            "|     1|     15|The One with the ...|   Alan Myerson|Jeff Greenstein &...|1995-02-16|             24.8|        8.2|\n",
            "|     1|     16|The One with Two ...|Michael Lembeck|Marta Kauffman & ...|1995-02-23|             26.1|        8.2|\n",
            "|     1|     17|The One with Two ...|Michael Lembeck|Marta Kauffman & ...|1995-02-23|             30.5|        8.5|\n",
            "|     1|     18|The One with All ...|  James Burrows|Jeffrey Astrof & ...|1995-03-02|             30.4|        8.8|\n",
            "|     1|     19|The One Where the...|   Peter Bonerz|Jeffrey Astrof & ...|1995-03-09|             29.4|        8.1|\n",
            "|     1|     20|The One with the ...|   Peter Bonerz|         Doty Abrams|1995-04-06|               30|        7.9|\n",
            "+------+-------+--------------------+---------------+--------------------+----------+-----------------+-----------+\n",
            "only showing top 20 rows\n",
            "\n",
            "+------+-------+-----+---------+-------+\n",
            "|Season|Episode|Scene|Utterance|Emotion|\n",
            "+------+-------+-----+---------+-------+\n",
            "|     1|      1|    4|        1|    Mad|\n",
            "|     1|      1|    4|        3|Neutral|\n",
            "|     1|      1|    4|        4| Joyful|\n",
            "|     1|      1|    4|        5|Neutral|\n",
            "|     1|      1|    4|        6|Neutral|\n",
            "|     1|      1|    4|        7|Neutral|\n",
            "|     1|      1|    4|        8| Scared|\n",
            "|     1|      1|    4|       10| Joyful|\n",
            "|     1|      1|    4|       11| Joyful|\n",
            "|     1|      1|    4|       12|    Sad|\n",
            "|     1|      1|    4|       13|    Mad|\n",
            "|     1|      1|    4|       14| Scared|\n",
            "|     1|      1|    4|       15|Neutral|\n",
            "|     1|      1|    4|       16|    Sad|\n",
            "|     1|      1|    4|       17|    Sad|\n",
            "|     1|      1|    4|       18|    Mad|\n",
            "|     1|      1|    4|       19|    Mad|\n",
            "|     1|      1|    5|        1|    Mad|\n",
            "|     1|      1|    5|        2|    Sad|\n",
            "|     1|      1|    5|        3|    Sad|\n",
            "+------+-------+-----+---------+-------+\n",
            "only showing top 20 rows\n",
            "\n"
          ]
        }
      ],
      "source": [
        "info_episodesDF.show()\n",
        "info_emotionsDF.show()"
      ]
    },
    {
      "cell_type": "markdown",
      "metadata": {
        "id": "fjNuYyVzLAr2"
      },
      "source": [
        "# ¿Qué esquema tienen los datasets?"
      ]
    },
    {
      "cell_type": "code",
      "execution_count": 27,
      "metadata": {
        "colab": {
          "base_uri": "https://localhost:8080/"
        },
        "id": "bjGxCkKaLGl9",
        "outputId": "31eff8e5-0a87-4523-ba8e-01ac2e872b7b"
      },
      "outputs": [
        {
          "name": "stdout",
          "output_type": "stream",
          "text": [
            "root\n",
            " |-- season: string (nullable = true)\n",
            " |-- episode: string (nullable = true)\n",
            " |-- title: string (nullable = true)\n",
            " |-- directed_by: string (nullable = true)\n",
            " |-- written_by: string (nullable = true)\n",
            " |-- air_date: string (nullable = true)\n",
            " |-- us_views_millions: string (nullable = true)\n",
            " |-- imdb_rating: string (nullable = true)\n",
            "\n",
            "root\n",
            " |-- Season: string (nullable = true)\n",
            " |-- Episode: string (nullable = true)\n",
            " |-- Scene: string (nullable = true)\n",
            " |-- Utterance: string (nullable = true)\n",
            " |-- Emotion: string (nullable = true)\n",
            "\n"
          ]
        }
      ],
      "source": [
        "info_episodesDF.printSchema()\n",
        "info_emotionsDF.printSchema()"
      ]
    },
    {
      "cell_type": "markdown",
      "metadata": {
        "id": "DnCG9XHsTUfe"
      },
      "source": [
        "# ¿Qué temporada tuvo más espectadores?\n",
        "Para ello sumaremos el campo us_views_milions y agruparemos por temporada."
      ]
    },
    {
      "cell_type": "code",
      "execution_count": 24,
      "metadata": {
        "colab": {
          "base_uri": "https://localhost:8080/"
        },
        "id": "iBWBcsLDTYuF",
        "outputId": "e36ad413-829f-40c6-cf0c-3fe70799a1cd"
      },
      "outputs": [
        {
          "name": "stdout",
          "output_type": "stream",
          "text": [
            "+------+---------------+\n",
            "|Season|Total_Temporada|\n",
            "+------+---------------+\n",
            "|     2|         761.30|\n",
            "|     3|         657.70|\n",
            "|     8|         641.29|\n",
            "|     1|         595.00|\n",
            "|     5|         593.90|\n",
            "|     9|         574.33|\n",
            "|     4|         573.30|\n",
            "|     6|         565.40|\n",
            "|     7|         529.23|\n",
            "|    10|         470.33|\n",
            "+------+---------------+\n",
            "\n"
          ]
        }
      ],
      "source": [
        "viewers_per_seasonDF = (info_episodesDF.groupBy(\"Season\")\n",
        "                          .agg(format_number(sum(\"us_views_millions\"), 2).alias(\"Total_Temporada\"))\n",
        "                          .orderBy(desc(\"Total_Temporada\"))\n",
        "                       )\n",
        "#Ahora eliminamos los NULL para limpiar el resultado\n",
        "viewers_per_seasonDF2= viewers_per_seasonDF.na.drop()\n",
        "viewers_per_seasonDF2.show()"
      ]
    },
    {
      "cell_type": "markdown",
      "metadata": {
        "id": "OOt52pbaQ9Jc"
      },
      "source": [
        "# ¿Qué director ha dirigido más episodios?\n",
        "\n",
        "Para ello, haremos un conteo por director y agruparemos por director para mostrar resultados. También excluiremos los valores nulos para limpiar el resultado final."
      ]
    },
    {
      "cell_type": "code",
      "execution_count": 26,
      "metadata": {
        "colab": {
          "base_uri": "https://localhost:8080/"
        },
        "id": "PmmsrRxaQ9Jd",
        "outputId": "4c84cedf-7273-4f29-b064-a20e9fb54763"
      },
      "outputs": [
        {
          "name": "stdout",
          "output_type": "stream",
          "text": [
            "+--------------------+---------------+\n",
            "|         directed_by|Total_Episodios|\n",
            "+--------------------+---------------+\n",
            "|      Gary Halvorson|             54|\n",
            "|     Kevin S. Bright|             53|\n",
            "|     Michael Lembeck|             24|\n",
            "|       James Burrows|             15|\n",
            "|        Gail Mancuso|             14|\n",
            "|        Peter Bonerz|             12|\n",
            "|           Ben Weiss|             10|\n",
            "|     David Schwimmer|             10|\n",
            "|        Robby Benson|              6|\n",
            "|        Terry Hughes|              5|\n",
            "|      Shelley Jensen|              5|\n",
            "|        Sheldon Epps|              3|\n",
            "|       Pamela Fryman|              2|\n",
            "|     Thomas Schlamme|              2|\n",
            "|     Steve Zuckerman|              2|\n",
            "|  Roger Christiansen|              2|\n",
            "|Dana DeValley Piazza|              2|\n",
            "|        Alan Myerson|              2|\n",
            "|Kevin S. Bright &...|              1|\n",
            "|      Arlene Sanford|              1|\n",
            "+--------------------+---------------+\n",
            "only showing top 20 rows\n",
            "\n"
          ]
        }
      ],
      "source": [
        "directors_episode_countDF = info_episodesDF.groupBy(\"directed_by\").agg(count(\"episode\").alias(\"Total_Episodios\")).orderBy(desc(\"Total_Episodios\"))\n",
        "\n",
        "#Ahora eliminamos los NULL para limpiar el resultado\n",
        "directors_episode_countDF2= directors_episode_countDF.na.drop()\n",
        "directors_episode_countDF2.show()"
      ]
    },
    {
      "cell_type": "markdown",
      "metadata": {
        "id": "doYHBt8nMmBl"
      },
      "source": [
        "# ¿Cuál es el tono de cada temporada?\n",
        "\n",
        "Se han contado cada estado de \"Emotion\" y después se ha agrupado y ordenado por temporada."
      ]
    },
    {
      "cell_type": "code",
      "execution_count": 32,
      "metadata": {
        "colab": {
          "base_uri": "https://localhost:8080/"
        },
        "id": "vzqCVLKwNN5k",
        "outputId": "635eda23-6eb1-4334-cf29-4c50f79431eb"
      },
      "outputs": [
        {
          "name": "stdout",
          "output_type": "stream",
          "text": [
            "+------+------+---+-------+--------+--------+---+------+\n",
            "|Season|Joyful|Mad|Neutral|Peaceful|Powerful|Sad|Scared|\n",
            "+------+------+---+-------+--------+--------+---+------+\n",
            "|     1|   599|309|   1241|     112|     125|155|   357|\n",
            "|     2|   567|317|    985|     249|     189|207|   386|\n",
            "|     3|   810|426|    896|     386|     259|276|   443|\n",
            "|     4|   779|280|    654|     444|     490|206|   459|\n",
            "+------+------+---+-------+--------+--------+---+------+\n",
            "\n"
          ]
        }
      ],
      "source": [
        "emotions_count_per_seasonDF = info_emotionsDF.groupBy(\"Season\").pivot(\"Emotion\").count()\n",
        "ordered_emotions_count_per_seasonDF = emotions_count_per_seasonDF.orderBy(\"Season\")\n",
        "ordered_emotions_count_per_seasonDF.show()"
      ]
    },
    {
      "cell_type": "markdown",
      "metadata": {
        "id": "UZQVTSlGPNiM"
      },
      "source": [
        "**Distribución en %**"
      ]
    },
    {
      "cell_type": "code",
      "execution_count": 42,
      "metadata": {
        "colab": {
          "base_uri": "https://localhost:8080/"
        },
        "id": "dV208hR-QJYt",
        "outputId": "ec7d0c93-2871-4fa5-fd4b-6aada5350dd9"
      },
      "outputs": [
        {
          "name": "stdout",
          "output_type": "stream",
          "text": [
            "+------+------+---+-------+--------+--------+---+------+\n",
            "|Season|Joyful|Mad|Neutral|Peaceful|Powerful|Sad|Scared|\n",
            "+------+------+---+-------+--------+--------+---+------+\n",
            "|     1|    21| 11|     43|       4|       4|  5|    12|\n",
            "|     2|    20| 11|     34|       9|       7|  7|    13|\n",
            "|     3|    23| 12|     26|      11|       7|  8|    13|\n",
            "|     4|    24|  8|     20|      13|      15|  6|    14|\n",
            "+------+------+---+-------+--------+--------+---+------+\n",
            "\n"
          ]
        }
      ],
      "source": [
        "emotions_count_per_seasonDF = emotions_count_per_seasonDF.withColumn('Total', lit(0))\n",
        "for emotion in [c for c in emotions_count_per_seasonDF.columns if c not in ['Season', 'Total']]:\n",
        "    emotions_count_per_seasonDF = emotions_count_per_seasonDF.withColumn('Total', col('Total') + col(emotion))\n",
        "for emotion in [c for c in emotions_count_per_seasonDF.columns if c not in ['Season', 'Total']]:\n",
        "    emotions_count_per_seasonDF = emotions_count_per_seasonDF.withColumn(emotion, format_number((col(emotion) / col('Total')) * 100, 0))\n",
        "emotions_count_per_seasonDF = emotions_count_per_seasonDF.orderBy(col('Season'))\n",
        "columns_to_show = [c for c in emotions_count_per_seasonDF.columns if c != 'Total']\n",
        "emotions_count_per_seasonDF.select(*columns_to_show).orderBy(col('Season')).show()"
      ]
    },
    {
      "cell_type": "markdown",
      "metadata": {
        "id": "yI4W8IKpSRHk"
      },
      "source": [
        "# Relación tono con director\n",
        "Para este caso, haremos un join de la tabla anterior con la de información general, a fin de relacionar tono de la serie con el director que más episodios haya dirigido en cada temporada."
      ]
    },
    {
      "cell_type": "code",
      "execution_count": 46,
      "metadata": {
        "colab": {
          "base_uri": "https://localhost:8080/"
        },
        "id": "BD2CicJjSQBN",
        "outputId": "e3b7f4e8-f284-42bf-9e62-0fe5255a2361"
      },
      "outputs": [
        {
          "name": "stdout",
          "output_type": "stream",
          "text": [
            "+------+---------------+------+---+-------+--------+--------+---+------+\n",
            "|Season|   Top_Director|Joyful|Mad|Neutral|Peaceful|Powerful|Sad|Scared|\n",
            "+------+---------------+------+---+-------+--------+--------+---+------+\n",
            "|     1|  James Burrows|    21| 11|     43|       4|       4|  5|    12|\n",
            "|     2|Michael Lembeck|    20| 11|     34|       9|       7|  7|    13|\n",
            "|     3|   Robby Benson|    23| 12|     26|      11|       7|  8|    13|\n",
            "|     4|   Peter Bonerz|    24|  8|     20|      13|      15|  6|    14|\n",
            "+------+---------------+------+---+-------+--------+--------+---+------+\n",
            "\n"
          ]
        }
      ],
      "source": [
        "director_counts = info_episodesDF.groupBy(\"Season\", \"directed_by\").agg(count(\"episode\").alias(\"episodes_count\"))\n",
        "windowSpec = Window.partitionBy(\"Season\").orderBy(col(\"episodes_count\").desc())\n",
        "top_director_per_season = director_counts.withColumn(\"rank\", row_number().over(windowSpec)) \\\n",
        "                                          .filter(col(\"rank\") == 1).drop(\"rank\")\n",
        "top_director_per_season = top_director_per_season.withColumnRenamed(\"directed_by\", \"Top_Director\")\n",
        "final_df = emotions_count_per_seasonDF.join(top_director_per_season, \"Season\")\n",
        "columns_to_show = ['Season', 'Top_Director'] + [col for col in emotions_count_per_seasonDF.columns if col not in ['Season', 'Total']]\n",
        "final_df = final_df.select(*columns_to_show)\n",
        "final_df = final_df.orderBy(\"Season\")\n",
        "final_df.show()"
      ]
    }
  ],
  "metadata": {
    "colab": {
      "provenance": []
    },
    "kernelspec": {
      "display_name": "Python 3.10.0 64-bit",
      "language": "python",
      "name": "python3"
    },
    "language_info": {
      "codemirror_mode": {
        "name": "ipython",
        "version": 3
      },
      "file_extension": ".py",
      "mimetype": "text/x-python",
      "name": "python",
      "nbconvert_exporter": "python",
      "pygments_lexer": "ipython3",
      "version": "3.10.0"
    },
    "orig_nbformat": 4,
    "vscode": {
      "interpreter": {
        "hash": "ff1af5cda0bea4fe5c4ebc1f94ab9f13d8998f98d08e16d8aba48673b9d00116"
      }
    }
  },
  "nbformat": 4,
  "nbformat_minor": 0
}
