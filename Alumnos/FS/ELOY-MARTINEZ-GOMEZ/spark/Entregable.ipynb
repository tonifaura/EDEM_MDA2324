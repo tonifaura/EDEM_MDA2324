{
  "cells": [
    {
      "cell_type": "markdown",
      "metadata": {
        "id": "BNkZfzfxGZ0z"
      },
      "source": [
        "# Windows Partitioning"
      ]
    },
    {
      "cell_type": "markdown",
      "metadata": {
        "id": "AQieQ5pkGfNm"
      },
      "source": [
        "## Prerrequisites"
      ]
    },
    {
      "cell_type": "markdown",
      "metadata": {
        "id": "HelxRmCPGpql"
      },
      "source": [
        "Install Spark and Java in VM"
      ]
    },
    {
      "cell_type": "code",
      "execution_count": 2,
      "metadata": {
        "id": "9Cn3c-ywGtDV"
      },
      "outputs": [],
      "source": [
        "# install Java8\n",
        "!apt-get install openjdk-8-jdk-headless -qq > /dev/null\n",
        "# download spark 3.5.0\n",
        "!wget -q https://apache.osuosl.org/spark/spark-3.5.0/spark-3.5.0-bin-hadoop3.tgz"
      ]
    },
    {
      "cell_type": "code",
      "execution_count": 3,
      "metadata": {
        "colab": {
          "base_uri": "https://localhost:8080/"
        },
        "id": "D95sNcJfGvyV",
        "outputId": "fe9cdac9-0188-43c7-907d-2f6d0cde45b8"
      },
      "outputs": [
        {
          "output_type": "stream",
          "name": "stdout",
          "text": [
            "total 391016\n",
            "drwxr-xr-x 1 root root      4096 Jan 11 17:02 \u001b[0m\u001b[01;34msample_data\u001b[0m/\n",
            "-rw-r--r-- 1 root root 400395283 Sep  9 02:10 spark-3.5.0-bin-hadoop3.tgz\n"
          ]
        }
      ],
      "source": [
        "ls -l # check the .tgz is there"
      ]
    },
    {
      "cell_type": "code",
      "execution_count": 4,
      "metadata": {
        "id": "qtBMGi7EGvwN"
      },
      "outputs": [],
      "source": [
        "# unzip it\n",
        "!tar xf spark-3.5.0-bin-hadoop3.tgz"
      ]
    },
    {
      "cell_type": "code",
      "execution_count": 5,
      "metadata": {
        "id": "6JO331NrGvtt"
      },
      "outputs": [],
      "source": [
        "!pip install -q findspark"
      ]
    },
    {
      "cell_type": "markdown",
      "metadata": {
        "id": "02epIDkbG24d"
      },
      "source": [
        "Defining the environment"
      ]
    },
    {
      "cell_type": "code",
      "execution_count": 6,
      "metadata": {
        "id": "qmON5zHJG4-m"
      },
      "outputs": [],
      "source": [
        "import os\n",
        "os.environ[\"JAVA_HOME\"] = \"/usr/lib/jvm/java-8-openjdk-amd64\"\n",
        "os.environ[\"SPARK_HOME\"] = \"/content/spark-3.5.0-bin-hadoop3\"\n",
        "os.environ[\"PYSPARK_SUBMIT_ARGS\"] = \"--master local[*] pyspark-shell\""
      ]
    },
    {
      "cell_type": "markdown",
      "metadata": {
        "id": "WgvNJQOAGZ00"
      },
      "source": [
        "Start Spark Session\n",
        "\n",
        "---"
      ]
    },
    {
      "cell_type": "code",
      "execution_count": 7,
      "metadata": {
        "colab": {
          "base_uri": "https://localhost:8080/",
          "height": 35
        },
        "id": "siaPZq4XGZ00",
        "outputId": "3f7c5d20-fc0c-45f9-b678-52d697389a6b"
      },
      "outputs": [
        {
          "output_type": "execute_result",
          "data": {
            "text/plain": [
              "'3.5.0'"
            ],
            "application/vnd.google.colaboratory.intrinsic+json": {
              "type": "string"
            }
          },
          "metadata": {},
          "execution_count": 7
        }
      ],
      "source": [
        "import findspark\n",
        "findspark.init(\"spark-3.5.0-bin-hadoop3\")# SPARK_HOME\n",
        "\n",
        "from pyspark.sql import SparkSession\n",
        "\n",
        "# create the session\n",
        "spark = SparkSession \\\n",
        "        .builder \\\n",
        "        .appName(\"Entregable\") \\\n",
        "        .master(\"local[*]\") \\\n",
        "        .getOrCreate()\n",
        "\n",
        "spark.version"
      ]
    },
    {
      "cell_type": "code",
      "execution_count": 8,
      "metadata": {
        "colab": {
          "base_uri": "https://localhost:8080/",
          "height": 221
        },
        "id": "nsBkpLh6GZ01",
        "outputId": "247d0940-6e5d-4b53-bdb9-f575b299803e"
      },
      "outputs": [
        {
          "output_type": "execute_result",
          "data": {
            "text/plain": [
              "<pyspark.sql.session.SparkSession at 0x7b7935b7a3b0>"
            ],
            "text/html": [
              "\n",
              "            <div>\n",
              "                <p><b>SparkSession - in-memory</b></p>\n",
              "                \n",
              "        <div>\n",
              "            <p><b>SparkContext</b></p>\n",
              "\n",
              "            <p><a href=\"http://394170e61c2a:4040\">Spark UI</a></p>\n",
              "\n",
              "            <dl>\n",
              "              <dt>Version</dt>\n",
              "                <dd><code>v3.5.0</code></dd>\n",
              "              <dt>Master</dt>\n",
              "                <dd><code>local[*]</code></dd>\n",
              "              <dt>AppName</dt>\n",
              "                <dd><code>Entregable</code></dd>\n",
              "            </dl>\n",
              "        </div>\n",
              "        \n",
              "            </div>\n",
              "        "
            ]
          },
          "metadata": {},
          "execution_count": 8
        }
      ],
      "source": [
        "spark"
      ]
    },
    {
      "cell_type": "code",
      "execution_count": 12,
      "metadata": {
        "id": "Bqu4fQnNGZ02"
      },
      "outputs": [],
      "source": [
        "# For Pandas conversion optimization\n",
        "spark.conf.set(\"spark.sql.execution.arrow.enabled\", \"true\")"
      ]
    },
    {
      "cell_type": "code",
      "execution_count": 13,
      "metadata": {
        "id": "-9DDmYQKGZ02"
      },
      "outputs": [],
      "source": [
        "# Import sql functions\n",
        "from pyspark.sql.functions import *"
      ]
    },
    {
      "cell_type": "code",
      "source": [
        "temperatureDF = spark.read.option(\"header\", \"true\").csv(\"temperatures.csv\")\n",
        "temperatureDF.show()"
      ],
      "metadata": {
        "colab": {
          "base_uri": "https://localhost:8080/"
        },
        "id": "UPDcCiaZhfEw",
        "outputId": "c5964137-31f2-4ece-9d31-33ba86b937e1"
      },
      "execution_count": 16,
      "outputs": [
        {
          "output_type": "stream",
          "name": "stdout",
          "text": [
            "+----------+------------------+-----------------------------+-------+-------------+--------+---------+\n",
            "|        dt|AverageTemperature|AverageTemperatureUncertainty|   City|      Country|Latitude|Longitude|\n",
            "+----------+------------------+-----------------------------+-------+-------------+--------+---------+\n",
            "|1849-01-01|            26.704|                        1.435|Abidjan|Côte D'Ivoire|   5.63N|    3.23W|\n",
            "|1849-02-01|            27.434|                        1.362|Abidjan|Côte D'Ivoire|   5.63N|    3.23W|\n",
            "|1849-03-01|            28.101|                        1.612|Abidjan|Côte D'Ivoire|   5.63N|    3.23W|\n",
            "|1849-04-01|             26.14|           1.3869999999999998|Abidjan|Côte D'Ivoire|   5.63N|    3.23W|\n",
            "|1849-05-01|            25.427|                          1.2|Abidjan|Côte D'Ivoire|   5.63N|    3.23W|\n",
            "|1849-06-01|            24.844|                        1.402|Abidjan|Côte D'Ivoire|   5.63N|    3.23W|\n",
            "|1849-07-01|24.058000000000003|                        1.254|Abidjan|Côte D'Ivoire|   5.63N|    3.23W|\n",
            "|1849-08-01|            23.576|                        1.265|Abidjan|Côte D'Ivoire|   5.63N|    3.23W|\n",
            "|1849-09-01|            23.662|                        1.226|Abidjan|Côte D'Ivoire|   5.63N|    3.23W|\n",
            "|1849-10-01|            25.263|                        1.175|Abidjan|Côte D'Ivoire|   5.63N|    3.23W|\n",
            "|1849-11-01|26.331999999999997|                        1.507|Abidjan|Côte D'Ivoire|   5.63N|    3.23W|\n",
            "|1849-12-01|             25.45|                        1.838|Abidjan|Côte D'Ivoire|   5.63N|    3.23W|\n",
            "|1850-01-01|            25.803|                        1.943|Abidjan|Côte D'Ivoire|   5.63N|    3.23W|\n",
            "|1850-02-01|             27.89|                         1.43|Abidjan|Côte D'Ivoire|   5.63N|    3.23W|\n",
            "|1850-03-01|            27.852|                        2.173|Abidjan|Côte D'Ivoire|   5.63N|    3.23W|\n",
            "|1850-04-01|26.546999999999997|                        1.662|Abidjan|Côte D'Ivoire|   5.63N|    3.23W|\n",
            "|1850-05-01|            25.379|                        1.355|Abidjan|Côte D'Ivoire|   5.63N|    3.23W|\n",
            "|1850-06-01|24.903000000000002|                        1.178|Abidjan|Côte D'Ivoire|   5.63N|    3.23W|\n",
            "|1850-07-01|24.040000000000006|                        1.301|Abidjan|Côte D'Ivoire|   5.63N|    3.23W|\n",
            "|1850-08-01|23.758000000000003|           1.2819999999999998|Abidjan|Côte D'Ivoire|   5.63N|    3.23W|\n",
            "+----------+------------------+-----------------------------+-------+-------------+--------+---------+\n",
            "only showing top 20 rows\n",
            "\n"
          ]
        }
      ]
    },
    {
      "cell_type": "code",
      "source": [
        "from pyspark.sql.functions import year, mean, first, col, avg\n",
        "from pyspark.sql import Window\n",
        "\n",
        "\n",
        "temperatureDF = temperatureDF.withColumn(\"Year\", year(\"dt\"))\n",
        "temperatureDF = temperatureDF.filter(temperatureDF[\"Year\"] > 1850)\n",
        "annualMeanDF = temperatureDF.groupBy(\"Country\", \"City\", \"Latitude\", \"Longitude\", \"Year\").agg(mean(\"AverageTemperature\").alias(\"AnnualMeanTemp\"))\n",
        "\n",
        "\n",
        "windowSpec = Window.partitionBy(\"Country\", \"City\", \"Latitude\", \"Longitude\").orderBy(\"Year\")\n",
        "firstAnnualMeanDF = annualMeanDF.withColumn(\"FirstYearMeanTemp\", first(\"AnnualMeanTemp\").over(windowSpec))\n",
        "firstAnnualMeanDF = firstAnnualMeanDF.withColumn(\"FirstYear\", first(\"Year\").over(windowSpec))\n",
        "\n",
        "\n",
        "resultDF = firstAnnualMeanDF.withColumn(\"TempVariation\",\n",
        "                                        (col(\"AnnualMeanTemp\") - col(\"FirstYearMeanTemp\")) / col(\"FirstYearMeanTemp\") * 100)\n",
        "\n",
        "\n",
        "resultDF = resultDF.dropna(subset=[\"AnnualMeanTemp\", \"FirstYearMeanTemp\", \"TempVariation\"])\n",
        "\n",
        "\n",
        "resultDF.select(\"Country\", \"City\", \"Year\", \"AnnualMeanTemp\", \"FirstYearMeanTemp\", \"FirstYear\", \"TempVariation\", \"Latitude\", \"Longitude\").show()\n"
      ],
      "metadata": {
        "colab": {
          "base_uri": "https://localhost:8080/"
        },
        "id": "FV-GLD5gie3Y",
        "outputId": "8a95ed16-2640-4076-c6dc-dd50a0255825"
      },
      "execution_count": 53,
      "outputs": [
        {
          "output_type": "stream",
          "name": "stdout",
          "text": [
            "+-----------+-----+----+------------------+------------------+---------+--------------------+--------+---------+\n",
            "|    Country| City|Year|    AnnualMeanTemp| FirstYearMeanTemp|FirstYear|       TempVariation|Latitude|Longitude|\n",
            "+-----------+-----+----+------------------+------------------+---------+--------------------+--------+---------+\n",
            "|Afghanistan|Kabul|1943|             13.07|             13.07|     1943|                 0.0|  34.56N|    70.05|\n",
            "|Afghanistan|Kabul|1851|13.828916666666665|13.828916666666665|     1851|                 0.0|  34.56N|   70.05E|\n",
            "|Afghanistan|Kabul|1852|          13.78325|13.828916666666665|     1851| -0.3302259155031223|  34.56N|   70.05E|\n",
            "|Afghanistan|Kabul|1853|13.730166666666662|13.828916666666665|     1851| -0.7140834121737849|  34.56N|   70.05E|\n",
            "|Afghanistan|Kabul|1854|13.994499999999997|13.828916666666665|     1851|  1.1973702447166794|  34.56N|   70.05E|\n",
            "|Afghanistan|Kabul|1855|14.227000000000002|13.828916666666665|     1851|  2.8786299240119146|  34.56N|   70.05E|\n",
            "|Afghanistan|Kabul|1856|13.801583333333333|13.828916666666665|     1851|-0.19765346767339848|  34.56N|   70.05E|\n",
            "|Afghanistan|Kabul|1857|13.392916666666663|13.828916666666665|     1851| -3.1528138502051988|  34.56N|   70.05E|\n",
            "|Afghanistan|Kabul|1858| 14.00141666666667|13.828916666666665|     1851|  1.2473862136706644|  34.56N|   70.05E|\n",
            "|Afghanistan|Kabul|1859|14.240666666666662|13.828916666666665|     1851|  2.9774566578485753|  34.56N|   70.05E|\n",
            "|Afghanistan|Kabul|1860|          13.61925|13.828916666666665|     1851|  -1.516146721543616|  34.56N|   70.05E|\n",
            "|Afghanistan|Kabul|1861|13.632750000000003|13.828916666666665|     1851|  -1.418525191778059|  34.56N|   70.05E|\n",
            "|Afghanistan|Kabul|1862|13.273166666666668|13.828916666666665|     1851|  -4.018752975347524|  34.56N|   70.05E|\n",
            "|Afghanistan|Kabul|1863|14.039666666666669|13.828916666666665|     1851|  1.5239805480063233|  34.56N|   70.05E|\n",
            "|Afghanistan|Kabul|1864|13.493833333333333|13.828916666666665|     1851|  -2.423062785106076|  34.56N|   70.05E|\n",
            "|Afghanistan|Kabul|1865|13.778416666666665|13.828916666666665|     1851|-0.36517683356734054|  34.56N|   70.05E|\n",
            "|Afghanistan|Kabul|1866|13.726750000000001|13.828916666666665|     1851| -0.7387900956329212|  34.56N|   70.05E|\n",
            "|Afghanistan|Kabul|1867|14.336999999999998|13.828916666666665|     1851|  3.6740646109902575|  34.56N|   70.05E|\n",
            "|Afghanistan|Kabul|1868|13.955083333333333|13.828916666666665|     1851|  0.9123394818827802|  34.56N|   70.05E|\n",
            "|Afghanistan|Kabul|1869|14.019249999999994|13.828916666666665|     1851|  1.3763430492867945|  34.56N|   70.05E|\n",
            "+-----------+-----+----+------------------+------------------+---------+--------------------+--------+---------+\n",
            "only showing top 20 rows\n",
            "\n"
          ]
        }
      ]
    },
    {
      "cell_type": "code",
      "source": [
        "resultDF.orderBy(\"Country\", \"City\", \"Year\").where(resultDF[\"Country\"] == \"Spain\").show(30)"
      ],
      "metadata": {
        "colab": {
          "base_uri": "https://localhost:8080/"
        },
        "id": "b7IaPlg4rSga",
        "outputId": "174d6b71-91dd-4f61-ec21-74dd4a9e1ffb"
      },
      "execution_count": 54,
      "outputs": [
        {
          "output_type": "stream",
          "name": "stdout",
          "text": [
            "+-------+------+--------+---------+----+------------------+------------------+---------+--------------------+\n",
            "|Country|  City|Latitude|Longitude|Year|    AnnualMeanTemp| FirstYearMeanTemp|FirstYear|       TempVariation|\n",
            "+-------+------+--------+---------+----+------------------+------------------+---------+--------------------+\n",
            "|  Spain|Madrid|  40.99N|    4.26W|1851|11.014916666666666|11.014916666666666|     1851|                 0.0|\n",
            "|  Spain|Madrid|  40.99N|    4.26W|1852|11.837083333333332|11.014916666666666|     1851|   7.464120624304915|\n",
            "|  Spain|Madrid|  40.99N|    4.26W|1853|10.415000000000001|11.014916666666666|     1851|  -5.446402227282688|\n",
            "|  Spain|Madrid|  40.99N|    4.26W|1854|11.189916666666667|11.014916666666666|     1851|   1.588754643324589|\n",
            "|  Spain|Madrid|  40.99N|    4.26W|1855|             10.61|11.014916666666666|     1851|  -3.676075624721024|\n",
            "|  Spain|Madrid|  40.99N|    4.26W|1856|11.868083333333331|11.014916666666666|     1851|  7.7455571611224014|\n",
            "|  Spain|Madrid|  40.99N|    4.26W|1857|11.343666666666666|11.014916666666666|     1851|  2.9845890799597465|\n",
            "|  Spain|Madrid|  40.99N|    4.26W|1858|11.738750000000001|11.014916666666666|     1851|   6.571391824722552|\n",
            "|  Spain|Madrid|  40.99N|    4.26W|1859|11.248083333333335|11.014916666666666|     1851|  2.1168264247724906|\n",
            "|  Spain|Madrid|  40.99N|    4.26W|1860|10.571333333333332|11.014916666666666|     1851|   -4.02711474591275|\n",
            "|  Spain|Madrid|  40.99N|    4.26W|1861| 11.26591666666667|11.014916666666666|     1851|  2.2787280884255714|\n",
            "|  Spain|Madrid|  40.99N|    4.26W|1862|11.291416666666665|11.014916666666666|     1851|   2.510232336452828|\n",
            "|  Spain|Madrid|  40.99N|    4.26W|1863|11.189416666666666|11.014916666666666|     1851|  1.5842153443436562|\n",
            "|  Spain|Madrid|  40.99N|    4.26W|1864|          11.49125|11.014916666666666|     1851|   4.324438829163495|\n",
            "|  Spain|Madrid|  40.99N|    4.26W|1865|11.396916666666668|11.014916666666666|     1851|  3.4680244214285305|\n",
            "|  Spain|Madrid|  40.99N|    4.26W|1866|           11.4065|11.014916666666666|     1851|  3.5550276518962907|\n",
            "|  Spain|Madrid|  40.99N|    4.26W|1867| 11.60566666666667|11.014916666666666|     1851|    5.36318174596573|\n",
            "|  Spain|Madrid|  40.99N|    4.26W|1868|11.835833333333333|11.014916666666666|     1851|   7.452772376852606|\n",
            "|  Spain|Madrid|  40.99N|    4.26W|1869|11.341166666666668|11.014916666666666|     1851|  2.9618925850551303|\n",
            "|  Spain|Madrid|  40.99N|    4.26W|1870|11.704916666666664|11.014916666666666|     1851|   6.264232593679762|\n",
            "|  Spain|Madrid|  40.99N|    4.26W|1871|11.097916666666668|11.014916666666666|     1851|  0.7535236308339627|\n",
            "|  Spain|Madrid|  40.99N|    4.26W|1872|11.310583333333335|11.014916666666666|     1851|  2.6842387973884128|\n",
            "|  Spain|Madrid|  40.99N|    4.26W|1873| 11.24858333333333|11.014916666666666|     1851|   2.121365723753375|\n",
            "|  Spain|Madrid|  40.99N|    4.26W|1874|            11.604|11.014916666666666|     1851|   5.348050749362603|\n",
            "|  Spain|Madrid|  40.99N|    4.26W|1875|11.631499999999997|11.014916666666666|     1851|   5.597712193313592|\n",
            "|  Spain|Madrid|  40.99N|    4.26W|1876|11.691166666666668|11.014916666666666|     1851|   6.139401871704292|\n",
            "|  Spain|Madrid|  40.99N|    4.26W|1877|11.514000000000001|11.014916666666666|     1851|   4.530976932795692|\n",
            "|  Spain|Madrid|  40.99N|    4.26W|1878|11.565833333333336|11.014916666666666|     1851|  5.0015509271518415|\n",
            "|  Spain|Madrid|  40.99N|    4.26W|1879|10.984499999999997|11.014916666666666|     1851|-0.27614068800643854|\n",
            "|  Spain|Madrid|  40.99N|    4.26W|1880|11.117583333333334|11.014916666666666|     1851|  0.9320693907504319|\n",
            "+-------+------+--------+---------+----+------------------+------------------+---------+--------------------+\n",
            "only showing top 30 rows\n",
            "\n"
          ]
        }
      ]
    },
    {
      "cell_type": "code",
      "source": [
        "resultDF_avg = resultDF.groupBy(\"Country\", \"City\").agg(avg(\"TempVariation\"))\n",
        "resultDF_avg.show()"
      ],
      "metadata": {
        "colab": {
          "base_uri": "https://localhost:8080/"
        },
        "id": "R6ZlfEUdotyU",
        "outputId": "049ba95f-df9a-4f4d-dcb4-577447cc19c5"
      },
      "execution_count": 55,
      "outputs": [
        {
          "output_type": "stream",
          "name": "stdout",
          "text": [
            "+-------------+----------------+-------------------+\n",
            "|      Country|            City| avg(TempVariation)|\n",
            "+-------------+----------------+-------------------+\n",
            "|        Egypt|      Alexandria| 1.1910732469400016|\n",
            "|      Ukraine|            Kiev| -7.480695520019671|\n",
            "|Côte D'Ivoire|         Abidjan| 1.9407124111953624|\n",
            "|        India|       Ahmadabad| 2.2886399786041283|\n",
            "|      Vietnam|Ho Chi Minh City| 1.4936165094433473|\n",
            "|        India|         Lakhnau|  2.183648258566714|\n",
            "|     Pakistan|      Faisalabad| 2.5569649278686937|\n",
            "|     Pakistan|         Karachi|  2.052650421810301|\n",
            "|        India|          Jaipur| 2.1483952466083363|\n",
            "|        India|          Madras| 1.7910512641139211|\n",
            "|        China|       Guangzhou| 1.5165098909364851|\n",
            "|       Turkey|           Izmir|  1.545534330321618|\n",
            "|        Spain|          Madrid|  4.941391291424531|\n",
            "|       Turkey|        Istanbul|-0.7763388484512458|\n",
            "|        China|          Dalian| 17.490177294210472|\n",
            "|        Syria|          Aleppo|-0.5215378073246277|\n",
            "|         Peru|            Lima| 6.4576614122029925|\n",
            "|        India|       Hyderabad|  2.050808863407063|\n",
            "| South Africa|       Cape Town|  5.413511364112434|\n",
            "|        India|       Bangalore| 2.1564150289931896|\n",
            "+-------------+----------------+-------------------+\n",
            "only showing top 20 rows\n",
            "\n"
          ]
        }
      ]
    },
    {
      "cell_type": "markdown",
      "source": [
        "Ya tenemos el dataset filtrado, ordenado y con los datos que buscamos. Ahora pasamos a responder a preguntas"
      ],
      "metadata": {
        "id": "ATVoxpL_sksi"
      }
    },
    {
      "cell_type": "markdown",
      "source": [
        "Cuanto ha aumentado la temperatura globalmente desde el comienzo del registro de este dataset? (1850)"
      ],
      "metadata": {
        "id": "DsTrK-JVsrRc"
      }
    },
    {
      "cell_type": "code",
      "source": [
        "globalAvgTempVariation = resultDF.agg(avg(\"TempVariation\").alias(\"GlobalAvgTempVariation\"))\n",
        "globalAvgTempVariation.show()"
      ],
      "metadata": {
        "colab": {
          "base_uri": "https://localhost:8080/"
        },
        "id": "k7EO66OQsqpg",
        "outputId": "b791f043-6e70-4386-d21e-1eb086578517"
      },
      "execution_count": 56,
      "outputs": [
        {
          "output_type": "stream",
          "name": "stdout",
          "text": [
            "+----------------------+\n",
            "|GlobalAvgTempVariation|\n",
            "+----------------------+\n",
            "|     5.037011919370402|\n",
            "+----------------------+\n",
            "\n"
          ]
        }
      ]
    },
    {
      "cell_type": "markdown",
      "source": [
        "Desde 1850, la temperatura global a aumentado un 5%."
      ],
      "metadata": {
        "id": "5yUtdnaJtRVR"
      }
    },
    {
      "cell_type": "code",
      "source": [
        "spainAvgTempVariation = resultDF.where(resultDF[\"Country\"] == \"Spain\").agg(avg(\"TempVariation\")).alias(\"SpanishVariation\")\n",
        "spainAvgTempVariation.show()"
      ],
      "metadata": {
        "colab": {
          "base_uri": "https://localhost:8080/"
        },
        "id": "vFMk-yBGuZYx",
        "outputId": "1b6266d6-ab6d-43c0-a2df-e25b7779d2e5"
      },
      "execution_count": 59,
      "outputs": [
        {
          "output_type": "stream",
          "name": "stdout",
          "text": [
            "+------------------+\n",
            "|avg(TempVariation)|\n",
            "+------------------+\n",
            "| 4.941391291424531|\n",
            "+------------------+\n",
            "\n"
          ]
        }
      ]
    },
    {
      "cell_type": "markdown",
      "source": [
        "Lo mismo para España."
      ],
      "metadata": {
        "id": "0lFsZ_nrupH7"
      }
    },
    {
      "cell_type": "code",
      "source": [
        "result_minus = resultDF_avg.where(resultDF_avg[\"avg(TempVariation)\"] < 0).orderBy(\"avg(TempVariation)\")\n",
        "result_minus.show()"
      ],
      "metadata": {
        "colab": {
          "base_uri": "https://localhost:8080/"
        },
        "id": "YXDdIUPDuqNo",
        "outputId": "191ddbc1-e0af-419b-d244-17a58732c718"
      },
      "execution_count": 65,
      "outputs": [
        {
          "output_type": "stream",
          "name": "stdout",
          "text": [
            "+--------------------+----------+--------------------+\n",
            "|             Country|      City|  avg(TempVariation)|\n",
            "+--------------------+----------+--------------------+\n",
            "|             Ukraine|      Kiev|  -7.480695520019671|\n",
            "|              Angola|    Luanda| -3.2161431798758517|\n",
            "|             Nigeria|    Ibadan|  -2.007116452293587|\n",
            "|              Turkey|    Ankara| -1.5527979359053066|\n",
            "|             Nigeria|      Kano| -0.7799475107423038|\n",
            "|              Turkey|  Istanbul| -0.7763388484512458|\n",
            "|             Morocco|Casablanca| -0.7432251546868214|\n",
            "|               Syria|    Aleppo| -0.5215378073246277|\n",
            "|Congo (Democratic...|  Kinshasa|-0.49118113468184943|\n",
            "|         Philippines|    Manila| -0.1442126100487592|\n",
            "|                Iraq|   Baghdad|-0.01291547648297...|\n",
            "+--------------------+----------+--------------------+\n",
            "\n"
          ]
        }
      ]
    },
    {
      "cell_type": "code",
      "source": [
        "result_minus.count()"
      ],
      "metadata": {
        "colab": {
          "base_uri": "https://localhost:8080/"
        },
        "id": "mzcbFmSavBw6",
        "outputId": "864fb160-6982-4c0c-fa68-30fccea08599"
      },
      "execution_count": 66,
      "outputs": [
        {
          "output_type": "execute_result",
          "data": {
            "text/plain": [
              "11"
            ]
          },
          "metadata": {},
          "execution_count": 66
        }
      ]
    },
    {
      "cell_type": "markdown",
      "source": [
        "Solo 11 ciudades en todo el mundo registran temperaturas medias en el país con una variación negativa."
      ],
      "metadata": {
        "id": "Pelkxwz8vOrd"
      }
    },
    {
      "cell_type": "code",
      "source": [],
      "metadata": {
        "id": "tT2atxAGvXnw"
      },
      "execution_count": null,
      "outputs": []
    }
  ],
  "metadata": {
    "colab": {
      "provenance": []
    },
    "kernelspec": {
      "display_name": "Python 3.10.0 64-bit",
      "language": "python",
      "name": "python3"
    },
    "language_info": {
      "codemirror_mode": {
        "name": "ipython",
        "version": 3
      },
      "file_extension": ".py",
      "mimetype": "text/x-python",
      "name": "python",
      "nbconvert_exporter": "python",
      "pygments_lexer": "ipython3",
      "version": "3.10.0"
    },
    "orig_nbformat": 4,
    "vscode": {
      "interpreter": {
        "hash": "ff1af5cda0bea4fe5c4ebc1f94ab9f13d8998f98d08e16d8aba48673b9d00116"
      }
    }
  },
  "nbformat": 4,
  "nbformat_minor": 0
}