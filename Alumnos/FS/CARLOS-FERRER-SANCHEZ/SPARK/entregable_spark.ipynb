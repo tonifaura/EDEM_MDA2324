{
  "nbformat": 4,
  "nbformat_minor": 0,
  "metadata": {
    "colab": {
      "provenance": []
    },
    "kernelspec": {
      "name": "python3",
      "display_name": "Python 3"
    },
    "language_info": {
      "name": "python"
    }
  },
  "cells": [
    {
      "cell_type": "markdown",
      "source": [
        "# Entregable Spark"
      ],
      "metadata": {
        "id": "AT3PBsWPLni9"
      }
    },
    {
      "cell_type": "markdown",
      "source": [
        "## Caso de Uso"
      ],
      "metadata": {
        "id": "1uClcfsBNMXT"
      }
    },
    {
      "cell_type": "markdown",
      "source": [
        "El objetivo principal de este caso de uso es realizar un análisis comparativo de la percepción de la felicidad en diferentes países a lo largo del tiempo utilizando datos del World Happiness Report. En particular, se busca identificar y comprender las variaciones en la puntuación de felicidad entre dos informes anuales consecutivos. Esto permite detectar tendencias, cambios significativos y posibles factores que influyen en la felicidad de las poblaciones a nivel mundial.\n",
        "\n"
      ],
      "metadata": {
        "id": "6Uuq8u0MNRer"
      }
    },
    {
      "cell_type": "markdown",
      "source": [
        "**Objetivos Específicos**\n",
        "1. Evaluar cómo ha evolucionado la puntuación de felicidad de los países entre dos informes anuales consecutivos del World Happiness Report.\n",
        "\n",
        "2. Identificar los países que han experimentado las mayores mejoras y los mayores declives en su percepción de felicidad\n",
        "\n",
        "3. Proporcionar información visual y clara sobre las tendencias de felicidad a lo largo del tiempo, utilizando gráficos y tablas descriptivas\n",
        "\n",
        "4. Extraer conclusiones sobre los cambios en la percepción de la felicidad y su posible impacto en la calidad de vida de las poblaciones estudiadas"
      ],
      "metadata": {
        "id": "Lu0qK74MOJ-L"
      }
    },
    {
      "cell_type": "markdown",
      "source": [
        "### Prerequisitos, Instalamos Spark y Java"
      ],
      "metadata": {
        "id": "r4hemGVKLrTB"
      }
    },
    {
      "cell_type": "code",
      "execution_count": 1,
      "metadata": {
        "id": "i-p4IuGReZOR"
      },
      "outputs": [],
      "source": [
        "# install Java8\n",
        "!apt-get install openjdk-8-jdk-headless -qq > /dev/null\n",
        "# download spark 3.5.0\n",
        "!wget -q https://archive.apache.org/dist/spark/spark-3.5.0//spark-3.5.0-bin-hadoop3.tgz"
      ]
    },
    {
      "cell_type": "code",
      "source": [
        "ls -l # check the .tgz is there\n"
      ],
      "metadata": {
        "colab": {
          "base_uri": "https://localhost:8080/"
        },
        "id": "7Dg4F5mwef-1",
        "outputId": "1f47f5be-591f-4c53-857c-29434350d54f"
      },
      "execution_count": 2,
      "outputs": [
        {
          "output_type": "stream",
          "name": "stdout",
          "text": [
            "total 782032\n",
            "drwxr-xr-x  1 root root      4096 Feb 27 14:34 \u001b[0m\u001b[01;34msample_data\u001b[0m/\n",
            "drwxr-xr-x 13 1000 1000      4096 Sep  9 02:08 \u001b[01;34mspark-3.5.0-bin-hadoop3\u001b[0m/\n",
            "-rw-r--r--  1 root root 400395283 Sep  9 02:10 spark-3.5.0-bin-hadoop3.tgz\n",
            "-rw-r--r--  1 root root 400395283 Sep  9 02:10 spark-3.5.0-bin-hadoop3.tgz.1\n"
          ]
        }
      ]
    },
    {
      "cell_type": "code",
      "source": [
        "# unzip it\n",
        "!tar xf spark-3.5.0-bin-hadoop3.tgz"
      ],
      "metadata": {
        "id": "idaXxgi5el1X"
      },
      "execution_count": 3,
      "outputs": []
    },
    {
      "cell_type": "code",
      "source": [
        "!pip install -q findspark\n"
      ],
      "metadata": {
        "id": "AxrPQRYGenbM"
      },
      "execution_count": 4,
      "outputs": []
    },
    {
      "cell_type": "code",
      "source": [
        "import os\n",
        "os.environ[\"JAVA_HOME\"] = \"/usr/lib/jvm/java-8-openjdk-amd64\"\n",
        "os.environ[\"SPARK_HOME\"] = \"/content/spark-3.5.0-bin-hadoop3\"\n",
        "os.environ[\"PYSPARK_SUBMIT_ARGS\"] = \"--master local[*] pyspark-shell\""
      ],
      "metadata": {
        "id": "KnFTKShBLmUM"
      },
      "execution_count": 5,
      "outputs": []
    },
    {
      "cell_type": "markdown",
      "source": [
        "### Iniciamos la sesión de Spark y leemos y declaramos los Dataframes"
      ],
      "metadata": {
        "id": "8pmoOQJXM1CQ"
      }
    },
    {
      "cell_type": "code",
      "source": [
        "import findspark\n",
        "findspark.init(\"spark-3.5.0-bin-hadoop3\")# SPARK_HOME\n",
        "\n",
        "from pyspark.sql import SparkSession\n",
        "\n",
        "# create the session\n",
        "spark = SparkSession \\\n",
        "        .builder \\\n",
        "        .appName(\"Joins\") \\\n",
        "        .master(\"local[*]\") \\\n",
        "        .config(\"spark.ui.port\", \"4500\") \\\n",
        "        .getOrCreate()\n",
        "\n",
        "spark.version"
      ],
      "metadata": {
        "colab": {
          "base_uri": "https://localhost:8080/",
          "height": 35
        },
        "id": "4vP7FGgRL6Pp",
        "outputId": "eb3f66d2-7ea0-4838-f42d-6c798ab085ba"
      },
      "execution_count": 6,
      "outputs": [
        {
          "output_type": "execute_result",
          "data": {
            "text/plain": [
              "'3.5.0'"
            ],
            "application/vnd.google.colaboratory.intrinsic+json": {
              "type": "string"
            }
          },
          "metadata": {},
          "execution_count": 6
        }
      ]
    },
    {
      "cell_type": "code",
      "source": [
        "spark"
      ],
      "metadata": {
        "colab": {
          "base_uri": "https://localhost:8080/",
          "height": 219
        },
        "id": "t2Tz8uCBMASQ",
        "outputId": "f6237310-d887-4f33-854c-d342a0082cd2"
      },
      "execution_count": 7,
      "outputs": [
        {
          "output_type": "execute_result",
          "data": {
            "text/plain": [
              "<pyspark.sql.session.SparkSession at 0x7c9128f42e60>"
            ],
            "text/html": [
              "\n",
              "            <div>\n",
              "                <p><b>SparkSession - in-memory</b></p>\n",
              "                \n",
              "        <div>\n",
              "            <p><b>SparkContext</b></p>\n",
              "\n",
              "            <p><a href=\"http://7d50099ed5cf:4500\">Spark UI</a></p>\n",
              "\n",
              "            <dl>\n",
              "              <dt>Version</dt>\n",
              "                <dd><code>v3.5.0</code></dd>\n",
              "              <dt>Master</dt>\n",
              "                <dd><code>local[*]</code></dd>\n",
              "              <dt>AppName</dt>\n",
              "                <dd><code>Joins</code></dd>\n",
              "            </dl>\n",
              "        </div>\n",
              "        \n",
              "            </div>\n",
              "        "
            ]
          },
          "metadata": {},
          "execution_count": 7
        }
      ]
    },
    {
      "cell_type": "code",
      "source": [
        "from pyspark.sql.functions import *\n",
        "from pyspark.sql import SparkSession\n",
        "from pyspark.sql.functions import col, avg, round, row_number\n",
        "from pyspark.sql.window import Window\n",
        "import matplotlib.pyplot as plt\n",
        "from pyspark.sql.types import FloatType\n",
        "\n"
      ],
      "metadata": {
        "id": "a05tBWaVMDAc"
      },
      "execution_count": 8,
      "outputs": []
    },
    {
      "cell_type": "code",
      "source": [
        "from google.colab import drive\n",
        "drive.mount('/gdrive')\n",
        "%cd /gdrive"
      ],
      "metadata": {
        "colab": {
          "base_uri": "https://localhost:8080/"
        },
        "id": "M3X0ntxAMEZ3",
        "outputId": "d521bc58-9949-4839-f243-d88cdb2ce8ed"
      },
      "execution_count": 9,
      "outputs": [
        {
          "output_type": "stream",
          "name": "stdout",
          "text": [
            "Drive already mounted at /gdrive; to attempt to forcibly remount, call drive.mount(\"/gdrive\", force_remount=True).\n",
            "/gdrive\n"
          ]
        }
      ]
    },
    {
      "cell_type": "code",
      "source": [
        "csv_file_path_2019 = '/gdrive/MyDrive/MDATA/2019.csv'\n",
        "csv_file_path_2018 = '/gdrive/MyDrive/MDATA/2018.csv'\n",
        "\n",
        "df_2019 = spark.read.csv(csv_file_path_2019, header=True, inferSchema=True)\n",
        "df_2018 = spark.read.csv(csv_file_path_2018, header=True, inferSchema=True)\n",
        "\n",
        "df_2019.show(3)"
      ],
      "metadata": {
        "colab": {
          "base_uri": "https://localhost:8080/"
        },
        "id": "QJxN7uetMIIF",
        "outputId": "cd2b2c76-c61b-40f8-d39a-192d805b4920"
      },
      "execution_count": 10,
      "outputs": [
        {
          "output_type": "stream",
          "name": "stdout",
          "text": [
            "+------------+-----------------+-----+--------------+--------------+-----------------------+----------------------------+----------+-------------------------+\n",
            "|Overall rank|Country or region|Score|GDP per capita|Social support|Healthy life expectancy|Freedom to make life choices|Generosity|Perceptions of corruption|\n",
            "+------------+-----------------+-----+--------------+--------------+-----------------------+----------------------------+----------+-------------------------+\n",
            "|           1|          Finland|7.769|          1.34|         1.587|                  0.986|                       0.596|     0.153|                    0.393|\n",
            "|           2|          Denmark|  7.6|         1.383|         1.573|                  0.996|                       0.592|     0.252|                     0.41|\n",
            "|           3|           Norway|7.554|         1.488|         1.582|                  1.028|                       0.603|     0.271|                    0.341|\n",
            "+------------+-----------------+-----+--------------+--------------+-----------------------+----------------------------+----------+-------------------------+\n",
            "only showing top 3 rows\n",
            "\n"
          ]
        }
      ]
    },
    {
      "cell_type": "code",
      "source": [
        "csv_file_path_freedom = '/gdrive/MyDrive/MDATA/economic_freedom.csv'\n",
        "\n",
        "df_freedom = spark.read.csv(csv_file_path_freedom, header=True, inferSchema=True)\n",
        "df_freedom.show(4)"
      ],
      "metadata": {
        "colab": {
          "base_uri": "https://localhost:8080/"
        },
        "id": "5GLf0xRAaeCB",
        "outputId": "33a45bcb-16ec-4ac9-b569-5b9de5dad537"
      },
      "execution_count": 11,
      "outputs": [
        {
          "output_type": "stream",
          "name": "stdout",
          "text": [
            "+---------+------------+-----------+--------------------+----------+-----------+----------+---------------+---------------------+--------------------+----------+--------------+-------------+----------------+-------------+----------------+-------------+-------------------+-----------------+---------------+-------------------+----------------------+-------------------+---------------------------+-----------+---------------------+-------------------+-------------------+--------------------------+--------------------+----------------+-------------+---------------------+----------------------+\n",
            "|CountryID|Country Name|    WEBNAME|              Region|World Rank|Region Rank|2019 Score|Property Rights|Judical Effectiveness|Government Integrity|Tax Burden|Gov't Spending|Fiscal Health|Business Freedom|Labor Freedom|Monetary Freedom|Trade Freedom|Investment Freedom |Financial Freedom|Tariff Rate (%)|Income Tax Rate (%)|Corporate Tax Rate (%)|Tax Burden % of GDP|Gov't Expenditure % of GDP |    Country|Population (Millions)|GDP (Billions, PPP)|GDP Growth Rate (%)|5 Year GDP Growth Rate (%)|GDP per Capita (PPP)|Unemployment (%)|Inflation (%)|FDI Inflow (Millions)|Public Debt (% of GDP)|\n",
            "+---------+------------+-----------+--------------------+----------+-----------+----------+---------------+---------------------+--------------------+----------+--------------+-------------+----------------+-------------+----------------+-------------+-------------------+-----------------+---------------+-------------------+----------------------+-------------------+---------------------------+-----------+---------------------+-------------------+-------------------+--------------------------+--------------------+----------------+-------------+---------------------+----------------------+\n",
            "|        1| Afghanistan|Afghanistan|        Asia-Pacific|       152|         39|      51.5|           19.6|                 29.6|                25.2|      91.7|          80.3|         99.3|            49.2|         60.4|            76.7|         66.0|                 10|               10|            7.0|               20.0|                  20.0|                5.0|                       25.6|Afghanistan|                 35.5|             $69.6 |                2.5|                       2.9|              $1,958|             8.8|          5.0|                 53.9|                   7.3|\n",
            "|        2|     Albania|    Albania|              Europe|        52|         27|      66.5|           54.8|                 30.6|                40.4|      86.3|          73.9|         80.6|            69.3|         52.7|            81.5|         87.8|                 70|               70|            1.1|               23.0|                  15.0|               24.9|                       29.5|    Albania|                  2.9|             $36.0 |                3.9|                       2.5|             $12,507|            13.9|          2.0|              1,119.1|                  71.2|\n",
            "|        3|     Algeria|    Algeria|Middle East and N...|       171|         14|      46.2|           31.6|                 36.2|                28.9|      76.4|          48.7|         18.7|            61.6|         49.9|            74.9|         67.4|                 30|               30|            8.8|               35.0|                  23.0|               24.5|                       41.4|    Algeria|                 41.5|            $632.9 |                2.0|                       3.1|             $15,237|            10.0|          5.6|              1,203.0|                  25.8|\n",
            "|        4|      Angola|     Angola|  Sub-Saharan Africa|       156|         33|      50.6|           35.9|                 26.6|                20.5|      83.9|          80.7|         58.2|            55.7|         58.8|            55.4|         61.2|                 30|               40|            9.4|               17.0|                  30.0|               20.6|                       25.3|     Angola|                 28.2|            $190.3 |                0.7|                       2.9|              $6,753|             8.2|         31.7|             -2,254.5|                  65.3|\n",
            "+---------+------------+-----------+--------------------+----------+-----------+----------+---------------+---------------------+--------------------+----------+--------------+-------------+----------------+-------------+----------------+-------------+-------------------+-----------------+---------------+-------------------+----------------------+-------------------+---------------------------+-----------+---------------------+-------------------+-------------------+--------------------------+--------------------+----------------+-------------+---------------------+----------------------+\n",
            "only showing top 4 rows\n",
            "\n"
          ]
        }
      ]
    },
    {
      "cell_type": "markdown",
      "source": [
        "## Pruebas y conclusiones"
      ],
      "metadata": {
        "id": "twGPEsOHQuP_"
      }
    },
    {
      "cell_type": "markdown",
      "source": [
        "### Primeros resultados\n",
        "En la siguiente tabla creada podremos ver una comparativa de los dos años y ver la evolución de los países.\n",
        "\n",
        "Además de un ranking con los países con mejor performance durante el periodo estudiado."
      ],
      "metadata": {
        "id": "Ddr2txF_Xr4c"
      }
    },
    {
      "cell_type": "code",
      "source": [
        "df_2019_selected = df_2019.select(\"Country or region\", \"Score\").withColumnRenamed(\"Country or region\", \"Country\").withColumnRenamed(\"Score\", \"Score_2019\")\n",
        "df_2018_selected = df_2018.select(\"Country or region\", \"Score\").withColumnRenamed(\"Country or region\", \"Country\").withColumnRenamed(\"Score\", \"Score_2018\")\n",
        "\n",
        "df_objetivo_1 = df_2019_selected.join(df_2018_selected, \"Country\")\n",
        "\n",
        "df_objetivo_1 = df_objetivo_1.withColumn(\"Variation\", col(\"Score_2019\") - col(\"Score_2018\"))\n",
        "df_objetivo_1 = df_objetivo_1.withColumn(\"Average Score\", (col(\"Score_2018\") + col(\"Score_2019\")) / lit(2))\n",
        "df_objetivo_1 = df_objetivo_1.orderBy(\"Average Score\", ascending=False)\n",
        "\n",
        "window_spec = Window.orderBy(col(\"Average Score\").desc())\n",
        "df_objetivo_1 = df_objetivo_1.withColumn(\"Ranking\", rank().over(window_spec))\n",
        "\n",
        "for column in [\"Average Score\", \"Variation\", \"Score_2019\", \"Score_2018\"]:\n",
        "    df_objetivo_1 = df_objetivo_1.withColumn(column, round(col(column), 4))\n",
        "\n",
        "df_objetivo_1 = df_objetivo_1.select(\"Ranking\", \"Country\", \"Average Score\", \"Variation\", \"Score_2019\", \"Score_2018\") \\\n",
        "    .orderBy(\"Ranking\")\n",
        "\n",
        "df_objetivo_1.show()"
      ],
      "metadata": {
        "colab": {
          "base_uri": "https://localhost:8080/"
        },
        "id": "ZUZr5YxuR84B",
        "outputId": "8a09d218-e5e6-4947-d139-f3094ecfeecb"
      },
      "execution_count": 12,
      "outputs": [
        {
          "output_type": "stream",
          "name": "stdout",
          "text": [
            "+-------+--------------------+-------------+---------+----------+----------+\n",
            "|Ranking|             Country|Average Score|Variation|Score_2019|Score_2018|\n",
            "+-------+--------------------+-------------+---------+----------+----------+\n",
            "|      1|             Finland|       7.7005|    0.137|     7.769|     7.632|\n",
            "|      2|             Denmark|       7.5775|    0.045|       7.6|     7.555|\n",
            "|      3|              Norway|        7.574|    -0.04|     7.554|     7.594|\n",
            "|      4|             Iceland|       7.4945|   -0.001|     7.494|     7.495|\n",
            "|      5|         Switzerland|       7.4835|   -0.007|      7.48|     7.487|\n",
            "|      6|         Netherlands|       7.4645|    0.047|     7.488|     7.441|\n",
            "|      7|              Sweden|       7.3285|    0.029|     7.343|     7.314|\n",
            "|      8|         New Zealand|       7.3155|   -0.017|     7.307|     7.324|\n",
            "|      9|              Canada|        7.303|    -0.05|     7.278|     7.328|\n",
            "|     10|           Australia|         7.25|   -0.044|     7.228|     7.272|\n",
            "|     11|             Austria|       7.1925|    0.107|     7.246|     7.139|\n",
            "|     12|      United Kingdom|        7.122|   -0.136|     7.054|      7.19|\n",
            "|     13|          Costa Rica|       7.1195|    0.095|     7.167|     7.072|\n",
            "|     14|          Luxembourg|          7.0|     0.18|      7.09|      6.91|\n",
            "|     15|             Ireland|        6.999|    0.044|     7.021|     6.977|\n",
            "|     16|              Israel|       6.9765|    0.325|     7.139|     6.814|\n",
            "|     17|             Germany|        6.975|     0.02|     6.985|     6.965|\n",
            "|     18|             Belgium|        6.925|   -0.004|     6.923|     6.927|\n",
            "|     19|       United States|        6.889|    0.006|     6.892|     6.886|\n",
            "|     20|United Arab Emirates|       6.7995|    0.051|     6.825|     6.774|\n",
            "+-------+--------------------+-------------+---------+----------+----------+\n",
            "only showing top 20 rows\n",
            "\n"
          ]
        }
      ]
    },
    {
      "cell_type": "markdown",
      "source": [
        "### Aquí podremos observar los mejores países durante estos años y los peores en cuanto a evolución de su Score de Felicidad"
      ],
      "metadata": {
        "id": "yJKWPU4RX8fX"
      }
    },
    {
      "cell_type": "code",
      "source": [
        "df_objetivo_1 = df_objetivo_1.orderBy(\"Variation\")\n",
        "df_objetivo_1.show()"
      ],
      "metadata": {
        "colab": {
          "base_uri": "https://localhost:8080/"
        },
        "id": "8Cq1Yrq7Rtup",
        "outputId": "411dd53c-980a-4384-ffe6-3c0fca1669b7"
      },
      "execution_count": 13,
      "outputs": [
        {
          "output_type": "stream",
          "name": "stdout",
          "text": [
            "+-------+--------------+-------------+---------+----------+----------+\n",
            "|Ranking|       Country|Average Score|Variation|Score_2019|Score_2018|\n",
            "+-------+--------------+-------------+---------+----------+----------+\n",
            "|     58|      Malaysia|       5.8305|   -0.983|     5.339|     6.322|\n",
            "|    146|   Afghanistan|       3.4175|   -0.429|     3.203|     3.632|\n",
            "|    152|   South Sudan|       3.0535|   -0.401|     2.853|     3.254|\n",
            "|     74|  Turkmenistan|       5.4415|   -0.389|     5.247|     5.636|\n",
            "|    100|       Somalia|        4.825|   -0.314|     4.668|     4.982|\n",
            "|     35|     Argentina|        6.237|   -0.302|     6.086|     6.388|\n",
            "|    133|        Zambia|        4.242|    -0.27|     4.107|     4.377|\n",
            "|     95|        Jordan|       5.0335|   -0.255|     4.906|     5.161|\n",
            "|    131|         Egypt|       4.2925|   -0.253|     4.166|     4.419|\n",
            "|    117|  Sierra Leone|       4.4725|   -0.197|     4.374|     4.571|\n",
            "|    144|        Malawi|       3.4985|   -0.177|      3.41|     3.587|\n",
            "|    136|         India|       4.1025|   -0.175|     4.015|      4.19|\n",
            "|     63|        Russia|        5.729|   -0.162|     5.648|      5.81|\n",
            "|     83|       Lebanon|       5.2775|   -0.161|     5.197|     5.358|\n",
            "|     78|       Belarus|        5.403|    -0.16|     5.323|     5.483|\n",
            "|    110|          Iran|       4.6275|   -0.159|     4.548|     4.707|\n",
            "|     12|United Kingdom|        7.122|   -0.136|     7.054|      7.19|\n",
            "|     37|      Colombia|       6.1925|   -0.135|     6.125|      6.26|\n",
            "|    113|       Tunisia|       4.5265|   -0.131|     4.461|     4.592|\n",
            "|     31|        Brazil|       6.3595|   -0.119|       6.3|     6.419|\n",
            "+-------+--------------+-------------+---------+----------+----------+\n",
            "only showing top 20 rows\n",
            "\n"
          ]
        }
      ]
    },
    {
      "cell_type": "code",
      "source": [
        "df_objetivo_1 = df_objetivo_1.orderBy(\"Variation\", ascending=False)\n",
        "df_objetivo_1.show()"
      ],
      "metadata": {
        "colab": {
          "base_uri": "https://localhost:8080/"
        },
        "id": "fzsITEE-Tmi_",
        "outputId": "e4cb2f2d-8147-451d-a527-987260ea593a"
      },
      "execution_count": 14,
      "outputs": [
        {
          "output_type": "stream",
          "name": "stdout",
          "text": [
            "+-------+--------------------+-------------+---------+----------+----------+\n",
            "|Ranking|             Country|Average Score|Variation|Score_2019|Score_2018|\n",
            "+-------+--------------------+-------------+---------+----------+----------+\n",
            "|    149|             Burundi|         3.34|     0.87|     3.775|     2.905|\n",
            "|    114|               Benin|        4.512|    0.742|     4.883|     4.141|\n",
            "|    132|              Guinea|        4.249|     0.57|     4.534|     3.964|\n",
            "|    140|             Liberia|        3.735|     0.48|     3.975|     3.495|\n",
            "|    126|               Niger|        4.397|    0.462|     4.628|     4.166|\n",
            "|     57|              Kosovo|        5.881|    0.438|       6.1|     5.662|\n",
            "|     66|            Honduras|        5.682|    0.356|      5.86|     5.504|\n",
            "|     99|               Ghana|       4.8265|    0.339|     4.996|     4.657|\n",
            "|     16|              Israel|       6.9765|    0.325|     7.139|     6.814|\n",
            "|     52|              Cyprus|        5.904|    0.284|     6.046|     5.762|\n",
            "|     71|            Portugal|       5.5515|    0.283|     5.693|      5.41|\n",
            "|    101|         Ivory Coast|       4.8075|    0.273|     4.944|     4.671|\n",
            "|     81|          Tajikistan|        5.333|    0.268|     5.467|     5.199|\n",
            "|    111|            Cambodia|       4.5665|    0.267|       4.7|     4.433|\n",
            "|     84|Bosnia and Herzeg...|       5.2575|    0.257|     5.386|     5.129|\n",
            "|    107| Congo (Brazzaville)|       4.6855|    0.253|     4.812|     4.559|\n",
            "|    121|             Armenia|         4.44|    0.238|     4.559|     4.321|\n",
            "|    134|             Ukraine|       4.2175|    0.229|     4.332|     4.103|\n",
            "|     44|               Italy|       6.1115|    0.223|     6.223|       6.0|\n",
            "|     73|              Serbia|       5.5005|    0.205|     5.603|     5.398|\n",
            "+-------+--------------------+-------------+---------+----------+----------+\n",
            "only showing top 20 rows\n",
            "\n"
          ]
        }
      ]
    },
    {
      "cell_type": "markdown",
      "source": [
        "### Gráfico de Variaciones\n",
        "\n",
        "Aquí podremos observar un histograma que representa la variación en las puntuaciones de felicidad de los países entre los años 2018 y 2019, presumiblemente basado en datos del World Happiness Report"
      ],
      "metadata": {
        "id": "FQJMY22VYjL6"
      }
    },
    {
      "cell_type": "code",
      "source": [
        "variations = df_objetivo_1.select(\"Variation\").collect()\n",
        "\n",
        "score_variations = [row[\"Variation\"] for row in variations]\n",
        "\n",
        "plt.figure(figsize=(10, 6))\n",
        "plt.barh(range(len(score_variations)), score_variations, color='skyblue')\n",
        "plt.xlabel('Variation in Score')\n",
        "plt.title('Score Variation between 2018 and 2019')\n",
        "plt.gca().invert_yaxis()\n",
        "plt.yticks([])\n",
        "plt.grid(axis='x', linestyle='--', alpha=0.7)\n",
        "\n",
        "plt.show()"
      ],
      "metadata": {
        "colab": {
          "base_uri": "https://localhost:8080/",
          "height": 564
        },
        "id": "ooZcyX08UE3a",
        "outputId": "fdccd792-08af-4677-ef90-a65eb79f6ad4"
      },
      "execution_count": 15,
      "outputs": [
        {
          "output_type": "display_data",
          "data": {
            "text/plain": [
              "<Figure size 1000x600 with 1 Axes>"
            ],
            "image/png": "[encoded data removed]"
          },
          "metadata": {}
        }
      ]
    },
    {
      "cell_type": "markdown",
      "source": [
        "**Una interpretación más detallada del gráfico podria ser que:**\n",
        "\n",
        "1. Mayoría de Incrementos: La concentración de barras hacia el lado derecho del histograma indica que la mayoría de los países experimentaron un aumento en su índice de felicidad de un año al otro.\n",
        "\n",
        "2. Mejoras Significativas: Existen varias barras extensas hacia la derecha, lo que sugiere que algunos países tuvieron mejoras notables en su puntuación de felicidad.\n",
        "\n",
        "3. Menoría de Disminuciones: Hay un número relativamente pequeño de barras que se extienden hacia la izquierda del eje cero, mostrando que pocos países vieron una disminución en su puntuación de felicidad.\n",
        "\n",
        "4. Tendencia General Positiva: La distribución de las barras refleja una tendencia general positiva en la variación de las puntuaciones, lo cual es un indicativo de que, en términos globales, la percepción de felicidad podría estar mejorando"
      ],
      "metadata": {
        "id": "UrzzIYs2YxsY"
      }
    },
    {
      "cell_type": "markdown",
      "source": [
        "## Ahora comenzaremos a analizar correlaciones de las columnas, para ver como afectan diferentes indices al Score de Felicidad de los países.\n",
        "\n",
        "Estudiaremos tanto los del propio dataset como uno externo de libertad."
      ],
      "metadata": {
        "id": "vd3b9oAlgVnB"
      }
    },
    {
      "cell_type": "code",
      "source": [
        "correlation_scores = {\n",
        "    column: df_2019.select(corr(column, \"Score\")).collect()[0][0]\n",
        "    for column in df_2019.columns\n",
        "    if column != \"Score\" and column != \"Country or region\" and column != \"Overall rank\"\n",
        "}\n",
        "\n",
        "print(\"Correlaciones con el puntaje de felicidad:\")\n",
        "for column, correlation in correlation_scores.items():\n",
        "    print(f\"{column}: {correlation}\")\n"
      ],
      "metadata": {
        "colab": {
          "base_uri": "https://localhost:8080/"
        },
        "id": "QCOxUaBfU-Qh",
        "outputId": "c5b55995-6d95-4b69-b07f-eb3f4c280b25"
      },
      "execution_count": 16,
      "outputs": [
        {
          "output_type": "stream",
          "name": "stdout",
          "text": [
            "Correlaciones con el puntaje de felicidad:\n",
            "GDP per capita: 0.7938828678781278\n",
            "Social support: 0.7770577880638648\n",
            "Healthy life expectancy: 0.7798831492425832\n",
            "Freedom to make life choices: 0.5667418257199904\n",
            "Generosity: 0.07582369490389741\n",
            "Perceptions of corruption: 0.3856130708664786\n"
          ]
        }
      ]
    },
    {
      "cell_type": "markdown",
      "source": [
        "### Estos resultados muestran cómo diversas variables se relacionan con el puntaje de felicidad:\n",
        "\n",
        "1. GDP per capita, Social support y Healthy life expectancy: Tienen correlaciones positivas fuertes, indicando que mejores condiciones económicas, apoyo social y salud están asociadas con mayor felicidad.\n",
        "\n",
        "3. Freedom to make life choices: Tiene una correlación moderada y positiva, resaltando la importancia de la autonomía en la percepción de felicidad.\n",
        "\n",
        "4. Generosity: Tiene una correlación muy baja, lo que sugiere que la generosidad del país tiene poco impacto en la felicidad percibida.\n",
        "\n",
        "5. Perceptions of corruption: Tiene una correlación moderada y negativa, indicando que mayor corrupción está asociada con menor felicidad percibida."
      ],
      "metadata": {
        "id": "-9MMiHlpV-dJ"
      }
    },
    {
      "cell_type": "code",
      "source": [
        "columns_to_convert = [\n",
        "    \"World Rank\", \"2019 Score\", \"Business Freedom\", \"Labor Freedom\", \"Monetary Freedom\",\n",
        "    \"Trade Freedom\", \"Financial Freedom\"\n",
        "]\n",
        "\n",
        "for column in columns_to_convert:\n",
        "    df_freedom = df_freedom.withColumn(column, col(column).cast(FloatType()))\n",
        "\n",
        "df_2019 = df_2019.withColumn(\"Country or region\", trim(col(\"Country or region\")))\n",
        "df_freedom = df_freedom.withColumn(\"Country Name\", trim(col(\"Country Name\")))\n",
        "\n",
        "df_joined = df_2019.join(df_freedom, df_2019[\"Country or region\"] == df_freedom[\"Country Name\"])\n",
        "\n",
        "columns_to_correlate = [\n",
        "    \"World Rank\", \"2019 Score\", \"Business Freedom\", \"Labor Freedom\",\n",
        "]\n",
        "\n",
        "for column in columns_to_correlate:\n",
        "    correlation = df_joined.stat.corr(\"Score\", column)\n",
        "    print(f\"Correlación entre el Score Hapyness y {column}: {correlation}\")\n"
      ],
      "metadata": {
        "colab": {
          "base_uri": "https://localhost:8080/"
        },
        "id": "479vhIj4c2si",
        "outputId": "e9dea801-0541-4926-ed47-efe9a9fbd810"
      },
      "execution_count": 17,
      "outputs": [
        {
          "output_type": "stream",
          "name": "stdout",
          "text": [
            "Correlación entre el Score Hapyness y World Rank: -0.5748985165217124\n",
            "Correlación entre el Score Hapyness y 2019 Score: 0.5674392431474475\n",
            "Correlación entre el Score Hapyness y Business Freedom: 0.6675093279446097\n",
            "Correlación entre el Score Hapyness y Labor Freedom: 0.24877581068827342\n"
          ]
        }
      ]
    },
    {
      "cell_type": "markdown",
      "source": [
        "Los resultados de las correlaciones entre el Score de Felicidad y diversas variables económicas y de libertad proporcionan insights valiosos sobre cómo diferentes aspectos de la gobernanza y la economía pueden influir en la felicidad de los países:\n",
        "\n",
        "1. World Rank (-0.57): Los países con mejores posiciones en el ranking mundial tienden a tener mayores niveles de felicidad, reflejando la importancia de una gestión gubernamental sólida y un entorno socioeconómico estable.\n",
        "\n",
        "2. 2019 Score (0.57): El progreso económico y social se relaciona positivamente con la felicidad, indicando que un mayor desarrollo está asociado con una mayor percepción de bienestar.\n",
        "\n",
        "3. Business Freedom (0.67): La libertad empresarial está fuertemente vinculada a la felicidad, sugiriendo que menos restricciones gubernamentales y más apertura al mercado se traducen en mayor satisfacción general.\n",
        "\n",
        "4. Labor Freedom (0.25): Aunque la libertad laboral influye en la felicidad, su impacto es relativamente menor en comparación con otras variables como la libertad empresarial y el desarrollo económico."
      ],
      "metadata": {
        "id": "1wUObVJRgBTx"
      }
    }
  ]
}