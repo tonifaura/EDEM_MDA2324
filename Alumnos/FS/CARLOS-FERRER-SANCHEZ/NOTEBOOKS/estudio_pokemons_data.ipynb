{
  "nbformat": 4,
  "nbformat_minor": 0,
  "metadata": {
    "colab": {
      "provenance": []
    },
    "kernelspec": {
      "name": "python3",
      "display_name": "Python 3"
    },
    "language_info": {
      "name": "python"
    }
  },
  "cells": [
    {
      "cell_type": "markdown",
      "source": [
        "# Estudio sobre Pokémons\n",
        "\n",
        "Tenemos una base de datos que recoge todos los pokémons existentes, durante este estudio veremos y analizaremos diferentes hipótesis sobre los 721 pokémons existentes.\n",
        "\n",
        "> Veremos los tipos de pokémons más habítuales y comunes\n",
        "- ¿Será el tipo \"Normal\" el más común?\n",
        "\n",
        "\n",
        "> Veremos la diferencia de estadísticas entre Pokémon legendarios y no legendarios\n",
        "- ¿Los Pokémons tienen mejores stats?\n",
        "\n",
        "\n",
        "> Hipótesis sobre la frecuencia de Pokémon legendarios por generación\n",
        "- ¿Hay más Pokémons legendarios en las generaciónes más antiguas?\n",
        "\n",
        "\n",
        "\n",
        "> Hipótesis sobre la influencia de la generación en la estadística total\n",
        "- ¿Son mejores las generaciones antiguas?\n"
      ],
      "metadata": {
        "id": "qGUVmjlA7glO"
      }
    },
    {
      "cell_type": "code",
      "source": [
        "import pandas as pd\n",
        "import altair as alt"
      ],
      "metadata": {
        "id": "J0DfwvyG_UEa"
      },
      "execution_count": 1,
      "outputs": []
    },
    {
      "cell_type": "markdown",
      "source": [
        "Primero importaremos los datos desde DRIVE"
      ],
      "metadata": {
        "id": "7JQ_Mvio-uIo"
      }
    },
    {
      "cell_type": "code",
      "source": [
        "from google.colab import drive\n",
        "drive.mount('/gdrive')\n",
        "%cd /gdrive"
      ],
      "metadata": {
        "colab": {
          "base_uri": "https://localhost:8080/"
        },
        "id": "JICqdxsr-sHZ",
        "outputId": "4ad9286f-6725-4642-c610-34d311707f46"
      },
      "execution_count": 2,
      "outputs": [
        {
          "output_type": "stream",
          "name": "stdout",
          "text": [
            "Drive already mounted at /gdrive; to attempt to forcibly remount, call drive.mount(\"/gdrive\", force_remount=True).\n",
            "/gdrive\n"
          ]
        }
      ]
    },
    {
      "cell_type": "code",
      "source": [
        "ls /gdrive/MyDrive/MDATA"
      ],
      "metadata": {
        "colab": {
          "base_uri": "https://localhost:8080/"
        },
        "id": "XBLoiat2-4Sy",
        "outputId": "e898b840-adc1-49b6-9a48-854266015e5b"
      },
      "execution_count": 3,
      "outputs": [
        {
          "output_type": "stream",
          "name": "stdout",
          "text": [
            "Pokemon.csv\n"
          ]
        }
      ]
    },
    {
      "cell_type": "code",
      "source": [
        "pokemon_df = pd.read_csv('/gdrive/MyDrive/MDATA/Pokemon.csv')\n"
      ],
      "metadata": {
        "id": "7yUEjLOH_Hko"
      },
      "execution_count": 4,
      "outputs": []
    },
    {
      "cell_type": "markdown",
      "source": [
        "Con los datos localizados e importados ya tenemos el DataFrame guardado y localizado como pokemon_df"
      ],
      "metadata": {
        "id": "u_3xxTynKrzB"
      }
    },
    {
      "cell_type": "markdown",
      "source": [
        "# ¿Que tipología de Pokémon es más común?\n"
      ],
      "metadata": {
        "id": "FmIxyAs-KrW6"
      }
    },
    {
      "cell_type": "code",
      "source": [
        "type_1_recuento = pokemon_df['Type 1'].value_counts().reset_index()\n",
        "type_1_recuento.columns = ['Tipo', 'Recuento']\n",
        "\n",
        "chart = alt.Chart(type_1_recuento).mark_bar().encode(\n",
        "    x='Recuento:Q',\n",
        "    y=alt.Y('Tipo:N', sort='-x')\n",
        ")\n",
        "\n",
        "text = chart.mark_text(\n",
        "    align='left',\n",
        "    baseline='middle',\n",
        "    dx=3,\n",
        ").encode(\n",
        "    text='Recuento:Q'\n",
        ")\n",
        "\n",
        "chart = (chart + text).properties(\n",
        "    title='Frecuencia de tipos de Pokémon'\n",
        ")\n",
        "\n",
        "chart\n"
      ],
      "metadata": {
        "colab": {
          "base_uri": "https://localhost:8080/",
          "height": 440
        },
        "id": "YyGeERp1AWFk",
        "outputId": "f5427247-f64f-491a-b6f6-739999c92e7a"
      },
      "execution_count": 5,
      "outputs": [
        {
          "output_type": "execute_result",
          "data": {
            "text/html": [
              "\n",
              "<div id=\"altair-viz-e380a49af74e48b3b1024604ce7b83ca\"></div>\n",
              "<script type=\"text/javascript\">\n",
              "  var VEGA_DEBUG = (typeof VEGA_DEBUG == \"undefined\") ? {} : VEGA_DEBUG;\n",
              "  (function(spec, embedOpt){\n",
              "    let outputDiv = document.currentScript.previousElementSibling;\n",
              "    if (outputDiv.id !== \"altair-viz-e380a49af74e48b3b1024604ce7b83ca\") {\n",
              "      outputDiv = document.getElementById(\"altair-viz-e380a49af74e48b3b1024604ce7b83ca\");\n",
              "    }\n",
              "    const paths = {\n",
              "      \"vega\": \"https://cdn.jsdelivr.net/npm//vega@5?noext\",\n",
              "      \"vega-lib\": \"https://cdn.jsdelivr.net/npm//vega-lib?noext\",\n",
              "      \"vega-lite\": \"https://cdn.jsdelivr.net/npm//vega-lite@4.17.0?noext\",\n",
              "      \"vega-embed\": \"https://cdn.jsdelivr.net/npm//vega-embed@6?noext\",\n",
              "    };\n",
              "\n",
              "    function maybeLoadScript(lib, version) {\n",
              "      var key = `${lib.replace(\"-\", \"\")}_version`;\n",
              "      return (VEGA_DEBUG[key] == version) ?\n",
              "        Promise.resolve(paths[lib]) :\n",
              "        new Promise(function(resolve, reject) {\n",
              "          var s = document.createElement('script');\n",
              "          document.getElementsByTagName(\"head\")[0].appendChild(s);\n",
              "          s.async = true;\n",
              "          s.onload = () => {\n",
              "            VEGA_DEBUG[key] = version;\n",
              "            return resolve(paths[lib]);\n",
              "          };\n",
              "          s.onerror = () => reject(`Error loading script: ${paths[lib]}`);\n",
              "          s.src = paths[lib];\n",
              "        });\n",
              "    }\n",
              "\n",
              "    function showError(err) {\n",
              "      outputDiv.innerHTML = `<div class=\"error\" style=\"color:red;\">${err}</div>`;\n",
              "      throw err;\n",
              "    }\n",
              "\n",
              "    function displayChart(vegaEmbed) {\n",
              "      vegaEmbed(outputDiv, spec, embedOpt)\n",
              "        .catch(err => showError(`Javascript Error: ${err.message}<br>This usually means there's a typo in your chart specification. See the javascript console for the full traceback.`));\n",
              "    }\n",
              "\n",
              "    if(typeof define === \"function\" && define.amd) {\n",
              "      requirejs.config({paths});\n",
              "      require([\"vega-embed\"], displayChart, err => showError(`Error loading script: ${err.message}`));\n",
              "    } else {\n",
              "      maybeLoadScript(\"vega\", \"5\")\n",
              "        .then(() => maybeLoadScript(\"vega-lite\", \"4.17.0\"))\n",
              "        .then(() => maybeLoadScript(\"vega-embed\", \"6\"))\n",
              "        .catch(showError)\n",
              "        .then(() => displayChart(vegaEmbed));\n",
              "    }\n",
              "  })({\"config\": {\"view\": {\"continuousWidth\": 400, \"continuousHeight\": 300}}, \"layer\": [{\"mark\": \"bar\", \"encoding\": {\"x\": {\"field\": \"Recuento\", \"type\": \"quantitative\"}, \"y\": {\"field\": \"Tipo\", \"sort\": \"-x\", \"type\": \"nominal\"}}}, {\"mark\": {\"type\": \"text\", \"align\": \"left\", \"baseline\": \"middle\", \"dx\": 3}, \"encoding\": {\"text\": {\"field\": \"Recuento\", \"type\": \"quantitative\"}, \"x\": {\"field\": \"Recuento\", \"type\": \"quantitative\"}, \"y\": {\"field\": \"Tipo\", \"sort\": \"-x\", \"type\": \"nominal\"}}}], \"data\": {\"name\": \"data-dd2ac826f46cd8ad4bec62c2efd0ee76\"}, \"title\": \"Frecuencia de tipos de Pok\\u00e9mon\", \"$schema\": \"https://vega.github.io/schema/vega-lite/v4.17.0.json\", \"datasets\": {\"data-dd2ac826f46cd8ad4bec62c2efd0ee76\": [{\"Tipo\": \"Water\", \"Recuento\": 112}, {\"Tipo\": \"Normal\", \"Recuento\": 98}, {\"Tipo\": \"Grass\", \"Recuento\": 70}, {\"Tipo\": \"Bug\", \"Recuento\": 69}, {\"Tipo\": \"Psychic\", \"Recuento\": 57}, {\"Tipo\": \"Fire\", \"Recuento\": 52}, {\"Tipo\": \"Electric\", \"Recuento\": 44}, {\"Tipo\": \"Rock\", \"Recuento\": 44}, {\"Tipo\": \"Dragon\", \"Recuento\": 32}, {\"Tipo\": \"Ground\", \"Recuento\": 32}, {\"Tipo\": \"Ghost\", \"Recuento\": 32}, {\"Tipo\": \"Dark\", \"Recuento\": 31}, {\"Tipo\": \"Poison\", \"Recuento\": 28}, {\"Tipo\": \"Steel\", \"Recuento\": 27}, {\"Tipo\": \"Fighting\", \"Recuento\": 27}, {\"Tipo\": \"Ice\", \"Recuento\": 24}, {\"Tipo\": \"Fairy\", \"Recuento\": 17}, {\"Tipo\": \"Flying\", \"Recuento\": 4}]}}, {\"mode\": \"vega-lite\"});\n",
              "</script>"
            ],
            "text/plain": [
              "alt.LayerChart(...)"
            ]
          },
          "metadata": {},
          "execution_count": 5
        }
      ]
    },
    {
      "cell_type": "markdown",
      "source": [
        "Como podemos observar, el tipo más común es el Pokémon tipo AGUA, pero cabe a destacar la poca presencia de pokémons de tipo volador, para asegurarnos de que el DF es correcto revisaremos los siguientes pokémons con VOLADOR como principal Tipo."
      ],
      "metadata": {
        "id": "EyqrOq0tKpak"
      }
    },
    {
      "cell_type": "code",
      "source": [
        "pokemon_flying = pokemon_df[pokemon_df['Type 1'] == 'Flying']\n",
        "print(pokemon_flying.head())"
      ],
      "metadata": {
        "colab": {
          "base_uri": "https://localhost:8080/"
        },
        "id": "6A1HLPenErCR",
        "outputId": "6288fcf1-623c-47a7-d686-17615b182785"
      },
      "execution_count": 6,
      "outputs": [
        {
          "output_type": "stream",
          "name": "stdout",
          "text": [
            "       #                     Name  Type 1  Type 2  Total  HP  Attack  Defense  \\\n",
            "702  641  TornadusIncarnate Forme  Flying     NaN    580  79     115       70   \n",
            "703  641    TornadusTherian Forme  Flying     NaN    580  79     100       80   \n",
            "790  714                   Noibat  Flying  Dragon    245  40      30       35   \n",
            "791  715                  Noivern  Flying  Dragon    535  85      70       80   \n",
            "\n",
            "     Sp. Atk  Sp. Def  Speed  Generation  Legendary  \n",
            "702      125       80    111           5       True  \n",
            "703      110       90    121           5       True  \n",
            "790       45       40     55           6      False  \n",
            "791       97       80    123           6      False  \n"
          ]
        }
      ]
    },
    {
      "cell_type": "markdown",
      "source": [
        "Solo existen (al menos hasta 6º generación) 4 Pokémons coon Volador como su Tipo Princiapl, ahora a continuación sumaremos el Primer y el Segundo tipo para ver el TOTAL de los pokémons y ver realmente cual está más presente."
      ],
      "metadata": {
        "id": "9xtClgtzXVvl"
      }
    },
    {
      "cell_type": "code",
      "source": [
        "types = pd.concat([pokemon_df['Type 1'], pokemon_df['Type 2']])\n",
        "type_counts = types.value_counts().reset_index()\n",
        "type_counts.columns = ['Tipo', 'Número de Pokémons']\n",
        "\n",
        "chart = alt.Chart(type_counts).mark_bar().encode(\n",
        "    x='Número de Pokémons:Q',\n",
        "    y=alt.Y('Tipo:N', sort='-x')\n",
        ")\n",
        "\n",
        "text = chart.mark_text(\n",
        "    align='left',\n",
        "    baseline='middle',\n",
        "    dx=3,\n",
        ").encode(\n",
        "    text='Número de Pokémons:Q'\n",
        ")\n",
        "\n",
        "chart = (chart + text).properties(\n",
        "    title='Frecuencia de tipos de Pokémon'\n",
        ")\n",
        "\n",
        "chart"
      ],
      "metadata": {
        "colab": {
          "base_uri": "https://localhost:8080/",
          "height": 440
        },
        "id": "6li5OcouFL--",
        "outputId": "49d2b1b3-0834-4630-9075-2e89a245fe35"
      },
      "execution_count": 7,
      "outputs": [
        {
          "output_type": "execute_result",
          "data": {
            "text/html": [
              "\n",
              "<div id=\"altair-viz-bf94a70283ca42e6a9d1d4d21c8d4ab2\"></div>\n",
              "<script type=\"text/javascript\">\n",
              "  var VEGA_DEBUG = (typeof VEGA_DEBUG == \"undefined\") ? {} : VEGA_DEBUG;\n",
              "  (function(spec, embedOpt){\n",
              "    let outputDiv = document.currentScript.previousElementSibling;\n",
              "    if (outputDiv.id !== \"altair-viz-bf94a70283ca42e6a9d1d4d21c8d4ab2\") {\n",
              "      outputDiv = document.getElementById(\"altair-viz-bf94a70283ca42e6a9d1d4d21c8d4ab2\");\n",
              "    }\n",
              "    const paths = {\n",
              "      \"vega\": \"https://cdn.jsdelivr.net/npm//vega@5?noext\",\n",
              "      \"vega-lib\": \"https://cdn.jsdelivr.net/npm//vega-lib?noext\",\n",
              "      \"vega-lite\": \"https://cdn.jsdelivr.net/npm//vega-lite@4.17.0?noext\",\n",
              "      \"vega-embed\": \"https://cdn.jsdelivr.net/npm//vega-embed@6?noext\",\n",
              "    };\n",
              "\n",
              "    function maybeLoadScript(lib, version) {\n",
              "      var key = `${lib.replace(\"-\", \"\")}_version`;\n",
              "      return (VEGA_DEBUG[key] == version) ?\n",
              "        Promise.resolve(paths[lib]) :\n",
              "        new Promise(function(resolve, reject) {\n",
              "          var s = document.createElement('script');\n",
              "          document.getElementsByTagName(\"head\")[0].appendChild(s);\n",
              "          s.async = true;\n",
              "          s.onload = () => {\n",
              "            VEGA_DEBUG[key] = version;\n",
              "            return resolve(paths[lib]);\n",
              "          };\n",
              "          s.onerror = () => reject(`Error loading script: ${paths[lib]}`);\n",
              "          s.src = paths[lib];\n",
              "        });\n",
              "    }\n",
              "\n",
              "    function showError(err) {\n",
              "      outputDiv.innerHTML = `<div class=\"error\" style=\"color:red;\">${err}</div>`;\n",
              "      throw err;\n",
              "    }\n",
              "\n",
              "    function displayChart(vegaEmbed) {\n",
              "      vegaEmbed(outputDiv, spec, embedOpt)\n",
              "        .catch(err => showError(`Javascript Error: ${err.message}<br>This usually means there's a typo in your chart specification. See the javascript console for the full traceback.`));\n",
              "    }\n",
              "\n",
              "    if(typeof define === \"function\" && define.amd) {\n",
              "      requirejs.config({paths});\n",
              "      require([\"vega-embed\"], displayChart, err => showError(`Error loading script: ${err.message}`));\n",
              "    } else {\n",
              "      maybeLoadScript(\"vega\", \"5\")\n",
              "        .then(() => maybeLoadScript(\"vega-lite\", \"4.17.0\"))\n",
              "        .then(() => maybeLoadScript(\"vega-embed\", \"6\"))\n",
              "        .catch(showError)\n",
              "        .then(() => displayChart(vegaEmbed));\n",
              "    }\n",
              "  })({\"config\": {\"view\": {\"continuousWidth\": 400, \"continuousHeight\": 300}}, \"layer\": [{\"mark\": \"bar\", \"encoding\": {\"x\": {\"field\": \"N\\u00famero de Pok\\u00e9mons\", \"type\": \"quantitative\"}, \"y\": {\"field\": \"Tipo\", \"sort\": \"-x\", \"type\": \"nominal\"}}}, {\"mark\": {\"type\": \"text\", \"align\": \"left\", \"baseline\": \"middle\", \"dx\": 3}, \"encoding\": {\"text\": {\"field\": \"N\\u00famero de Pok\\u00e9mons\", \"type\": \"quantitative\"}, \"x\": {\"field\": \"N\\u00famero de Pok\\u00e9mons\", \"type\": \"quantitative\"}, \"y\": {\"field\": \"Tipo\", \"sort\": \"-x\", \"type\": \"nominal\"}}}], \"data\": {\"name\": \"data-8665776220e681546978e4c57920b6e9\"}, \"title\": \"Frecuencia de tipos de Pok\\u00e9mon\", \"$schema\": \"https://vega.github.io/schema/vega-lite/v4.17.0.json\", \"datasets\": {\"data-8665776220e681546978e4c57920b6e9\": [{\"Tipo\": \"Water\", \"N\\u00famero de Pok\\u00e9mons\": 126}, {\"Tipo\": \"Normal\", \"N\\u00famero de Pok\\u00e9mons\": 102}, {\"Tipo\": \"Flying\", \"N\\u00famero de Pok\\u00e9mons\": 101}, {\"Tipo\": \"Grass\", \"N\\u00famero de Pok\\u00e9mons\": 95}, {\"Tipo\": \"Psychic\", \"N\\u00famero de Pok\\u00e9mons\": 90}, {\"Tipo\": \"Bug\", \"N\\u00famero de Pok\\u00e9mons\": 72}, {\"Tipo\": \"Ground\", \"N\\u00famero de Pok\\u00e9mons\": 67}, {\"Tipo\": \"Fire\", \"N\\u00famero de Pok\\u00e9mons\": 64}, {\"Tipo\": \"Poison\", \"N\\u00famero de Pok\\u00e9mons\": 62}, {\"Tipo\": \"Rock\", \"N\\u00famero de Pok\\u00e9mons\": 58}, {\"Tipo\": \"Fighting\", \"N\\u00famero de Pok\\u00e9mons\": 53}, {\"Tipo\": \"Dark\", \"N\\u00famero de Pok\\u00e9mons\": 51}, {\"Tipo\": \"Electric\", \"N\\u00famero de Pok\\u00e9mons\": 50}, {\"Tipo\": \"Dragon\", \"N\\u00famero de Pok\\u00e9mons\": 50}, {\"Tipo\": \"Steel\", \"N\\u00famero de Pok\\u00e9mons\": 49}, {\"Tipo\": \"Ghost\", \"N\\u00famero de Pok\\u00e9mons\": 46}, {\"Tipo\": \"Fairy\", \"N\\u00famero de Pok\\u00e9mons\": 40}, {\"Tipo\": \"Ice\", \"N\\u00famero de Pok\\u00e9mons\": 38}]}}, {\"mode\": \"vega-lite\"});\n",
              "</script>"
            ],
            "text/plain": [
              "alt.LayerChart(...)"
            ]
          },
          "metadata": {},
          "execution_count": 7
        }
      ]
    },
    {
      "cell_type": "markdown",
      "source": [
        "Vemos como han aumentado todos los tipos contados, cabiendo a destacar el tipo volador, ya que casi el  95% de todos los pokémons voladores tienen ese Tipo como secundario, no como su principal.\n",
        "\n",
        "Sigue siendo el tipo Agua el más común, por lo que podemos afirmar que **el tipo agua es el tipo pokémon más común**\n",
        "\n",
        "Por lo que **la hipótesis es falsa**"
      ],
      "metadata": {
        "id": "ougW7WnXXmG5"
      }
    },
    {
      "cell_type": "markdown",
      "source": [
        "# ¿Son mejores los Pokémons legendarios?\n",
        "\n"
      ],
      "metadata": {
        "id": "vhhqlNMXYI3C"
      }
    },
    {
      "cell_type": "code",
      "source": [
        "columnas = ['Total', 'HP', 'Attack', 'Defense', 'Sp. Atk', 'Sp. Def', 'Speed']\n",
        "\n",
        "legendario_stats = pokemon_df[pokemon_df['Legendary'] == True][columnas].mean()\n",
        "no_legendario_stats = pokemon_df[pokemon_df['Legendary'] == False][columnas].mean()\n",
        "\n",
        "legendario_stats_df = legendario_stats.reset_index()\n",
        "legendario_stats_df.columns = ['Estadísticas', 'Media']\n",
        "legendario_stats_df['Tipo'] = 'Legendarios'\n",
        "\n",
        "no_legendario_stats_df = no_legendario_stats.reset_index()\n",
        "no_legendario_stats_df.columns = ['Estadísticas', 'Media']\n",
        "no_legendario_stats_df['Tipo'] = 'No Legendarios'\n",
        "\n",
        "combined_stats = pd.concat([legendario_stats_df, no_legendario_stats_df])\n",
        "\n",
        "line_chart = alt.Chart(combined_stats).mark_line().encode(\n",
        "    x='Estadísticas:N',\n",
        "    y='Media:Q',\n",
        "    color='Tipo:N'\n",
        ").properties(\n",
        "    width=500,\n",
        "    height=300,\n",
        "    title='Evolución de medias de estadísticas de Pokémon legendarios y no legendarios'\n",
        ")\n",
        "\n",
        "line_chart"
      ],
      "metadata": {
        "colab": {
          "base_uri": "https://localhost:8080/",
          "height": 408
        },
        "id": "EsCNGZB4KoPb",
        "outputId": "59b6dc85-040d-443f-df76-349ca9a43958"
      },
      "execution_count": 8,
      "outputs": [
        {
          "output_type": "execute_result",
          "data": {
            "text/html": [
              "\n",
              "<div id=\"altair-viz-eb5c92a663bd4ceaa68a26e288aeebc0\"></div>\n",
              "<script type=\"text/javascript\">\n",
              "  var VEGA_DEBUG = (typeof VEGA_DEBUG == \"undefined\") ? {} : VEGA_DEBUG;\n",
              "  (function(spec, embedOpt){\n",
              "    let outputDiv = document.currentScript.previousElementSibling;\n",
              "    if (outputDiv.id !== \"altair-viz-eb5c92a663bd4ceaa68a26e288aeebc0\") {\n",
              "      outputDiv = document.getElementById(\"altair-viz-eb5c92a663bd4ceaa68a26e288aeebc0\");\n",
              "    }\n",
              "    const paths = {\n",
              "      \"vega\": \"https://cdn.jsdelivr.net/npm//vega@5?noext\",\n",
              "      \"vega-lib\": \"https://cdn.jsdelivr.net/npm//vega-lib?noext\",\n",
              "      \"vega-lite\": \"https://cdn.jsdelivr.net/npm//vega-lite@4.17.0?noext\",\n",
              "      \"vega-embed\": \"https://cdn.jsdelivr.net/npm//vega-embed@6?noext\",\n",
              "    };\n",
              "\n",
              "    function maybeLoadScript(lib, version) {\n",
              "      var key = `${lib.replace(\"-\", \"\")}_version`;\n",
              "      return (VEGA_DEBUG[key] == version) ?\n",
              "        Promise.resolve(paths[lib]) :\n",
              "        new Promise(function(resolve, reject) {\n",
              "          var s = document.createElement('script');\n",
              "          document.getElementsByTagName(\"head\")[0].appendChild(s);\n",
              "          s.async = true;\n",
              "          s.onload = () => {\n",
              "            VEGA_DEBUG[key] = version;\n",
              "            return resolve(paths[lib]);\n",
              "          };\n",
              "          s.onerror = () => reject(`Error loading script: ${paths[lib]}`);\n",
              "          s.src = paths[lib];\n",
              "        });\n",
              "    }\n",
              "\n",
              "    function showError(err) {\n",
              "      outputDiv.innerHTML = `<div class=\"error\" style=\"color:red;\">${err}</div>`;\n",
              "      throw err;\n",
              "    }\n",
              "\n",
              "    function displayChart(vegaEmbed) {\n",
              "      vegaEmbed(outputDiv, spec, embedOpt)\n",
              "        .catch(err => showError(`Javascript Error: ${err.message}<br>This usually means there's a typo in your chart specification. See the javascript console for the full traceback.`));\n",
              "    }\n",
              "\n",
              "    if(typeof define === \"function\" && define.amd) {\n",
              "      requirejs.config({paths});\n",
              "      require([\"vega-embed\"], displayChart, err => showError(`Error loading script: ${err.message}`));\n",
              "    } else {\n",
              "      maybeLoadScript(\"vega\", \"5\")\n",
              "        .then(() => maybeLoadScript(\"vega-lite\", \"4.17.0\"))\n",
              "        .then(() => maybeLoadScript(\"vega-embed\", \"6\"))\n",
              "        .catch(showError)\n",
              "        .then(() => displayChart(vegaEmbed));\n",
              "    }\n",
              "  })({\"config\": {\"view\": {\"continuousWidth\": 400, \"continuousHeight\": 300}}, \"data\": {\"name\": \"data-1e0516b4a67967c9ebf5a209bf9fc233\"}, \"mark\": \"line\", \"encoding\": {\"color\": {\"field\": \"Tipo\", \"type\": \"nominal\"}, \"x\": {\"field\": \"Estad\\u00edsticas\", \"type\": \"nominal\"}, \"y\": {\"field\": \"Media\", \"type\": \"quantitative\"}}, \"height\": 300, \"title\": \"Evoluci\\u00f3n de medias de estad\\u00edsticas de Pok\\u00e9mon legendarios y no legendarios\", \"width\": 500, \"$schema\": \"https://vega.github.io/schema/vega-lite/v4.17.0.json\", \"datasets\": {\"data-1e0516b4a67967c9ebf5a209bf9fc233\": [{\"Estad\\u00edsticas\": \"Total\", \"Media\": 637.3846153846154, \"Tipo\": \"Legendarios\"}, {\"Estad\\u00edsticas\": \"HP\", \"Media\": 92.73846153846154, \"Tipo\": \"Legendarios\"}, {\"Estad\\u00edsticas\": \"Attack\", \"Media\": 116.67692307692307, \"Tipo\": \"Legendarios\"}, {\"Estad\\u00edsticas\": \"Defense\", \"Media\": 99.66153846153846, \"Tipo\": \"Legendarios\"}, {\"Estad\\u00edsticas\": \"Sp. Atk\", \"Media\": 122.18461538461538, \"Tipo\": \"Legendarios\"}, {\"Estad\\u00edsticas\": \"Sp. Def\", \"Media\": 105.93846153846154, \"Tipo\": \"Legendarios\"}, {\"Estad\\u00edsticas\": \"Speed\", \"Media\": 100.18461538461538, \"Tipo\": \"Legendarios\"}, {\"Estad\\u00edsticas\": \"Total\", \"Media\": 417.21360544217686, \"Tipo\": \"No Legendarios\"}, {\"Estad\\u00edsticas\": \"HP\", \"Media\": 67.18231292517007, \"Tipo\": \"No Legendarios\"}, {\"Estad\\u00edsticas\": \"Attack\", \"Media\": 75.66938775510204, \"Tipo\": \"No Legendarios\"}, {\"Estad\\u00edsticas\": \"Defense\", \"Media\": 71.55918367346939, \"Tipo\": \"No Legendarios\"}, {\"Estad\\u00edsticas\": \"Sp. Atk\", \"Media\": 68.45442176870748, \"Tipo\": \"No Legendarios\"}, {\"Estad\\u00edsticas\": \"Sp. Def\", \"Media\": 68.89251700680272, \"Tipo\": \"No Legendarios\"}, {\"Estad\\u00edsticas\": \"Speed\", \"Media\": 65.45578231292517, \"Tipo\": \"No Legendarios\"}]}}, {\"mode\": \"vega-lite\"});\n",
              "</script>"
            ],
            "text/plain": [
              "alt.Chart(...)"
            ]
          },
          "metadata": {},
          "execution_count": 8
        }
      ]
    },
    {
      "cell_type": "markdown",
      "source": [
        "\n",
        "Como hemos podido observar, **la hipótesis se ha cumplido**, puesto que todas las estadísticas son mayores en los Legendarios que en los no Legendarios.\n",
        "\n",
        "Teniendo **especial importancia en los stats de ataque** que son mucho más superiores en los pokémons legendarios."
      ],
      "metadata": {
        "id": "OMz7Iu0_Kn2h"
      }
    },
    {
      "cell_type": "markdown",
      "source": [
        "# ¿Había más lengedarios antes?\n",
        "\n",
        "A continuación, veremos cuantos legendarios hay por cada generación pokémon para ver si es correcta nuestra hipótesis."
      ],
      "metadata": {
        "id": "EQZHpwgmZbv7"
      }
    },
    {
      "cell_type": "code",
      "source": [
        "generacion_column = 'Generation'\n",
        "legendario_column = 'Legendary'\n",
        "\n",
        "legendario_pokemon = pokemon_df[pokemon_df[legendario_column] == True]\n",
        "\n",
        "legendario_por_generacion = legendario_pokemon[generacion_column].value_counts().reset_index()\n",
        "legendario_por_generacion.columns = ['Generacion', 'Número Legendarios']\n",
        "\n",
        "chart = alt.Chart(legendario_por_generacion).mark_bar().encode(\n",
        "    x='Generacion:N',\n",
        "    y='Número Legendarios:Q',\n",
        "    color='Generacion:N'\n",
        ").properties(\n",
        "    width=600,\n",
        "    height=400,\n",
        "    title='Número de Pokémon legendarios por generación'\n",
        ")\n",
        "\n",
        "chart"
      ],
      "metadata": {
        "colab": {
          "base_uri": "https://localhost:8080/",
          "height": 481
        },
        "id": "YLn13E0sQQ6D",
        "outputId": "e230ae50-33d8-4d4a-fc5d-ad0f43a5884a"
      },
      "execution_count": 9,
      "outputs": [
        {
          "output_type": "execute_result",
          "data": {
            "text/html": [
              "\n",
              "<div id=\"altair-viz-0cf4d36460244979b8403cc61ff21d13\"></div>\n",
              "<script type=\"text/javascript\">\n",
              "  var VEGA_DEBUG = (typeof VEGA_DEBUG == \"undefined\") ? {} : VEGA_DEBUG;\n",
              "  (function(spec, embedOpt){\n",
              "    let outputDiv = document.currentScript.previousElementSibling;\n",
              "    if (outputDiv.id !== \"altair-viz-0cf4d36460244979b8403cc61ff21d13\") {\n",
              "      outputDiv = document.getElementById(\"altair-viz-0cf4d36460244979b8403cc61ff21d13\");\n",
              "    }\n",
              "    const paths = {\n",
              "      \"vega\": \"https://cdn.jsdelivr.net/npm//vega@5?noext\",\n",
              "      \"vega-lib\": \"https://cdn.jsdelivr.net/npm//vega-lib?noext\",\n",
              "      \"vega-lite\": \"https://cdn.jsdelivr.net/npm//vega-lite@4.17.0?noext\",\n",
              "      \"vega-embed\": \"https://cdn.jsdelivr.net/npm//vega-embed@6?noext\",\n",
              "    };\n",
              "\n",
              "    function maybeLoadScript(lib, version) {\n",
              "      var key = `${lib.replace(\"-\", \"\")}_version`;\n",
              "      return (VEGA_DEBUG[key] == version) ?\n",
              "        Promise.resolve(paths[lib]) :\n",
              "        new Promise(function(resolve, reject) {\n",
              "          var s = document.createElement('script');\n",
              "          document.getElementsByTagName(\"head\")[0].appendChild(s);\n",
              "          s.async = true;\n",
              "          s.onload = () => {\n",
              "            VEGA_DEBUG[key] = version;\n",
              "            return resolve(paths[lib]);\n",
              "          };\n",
              "          s.onerror = () => reject(`Error loading script: ${paths[lib]}`);\n",
              "          s.src = paths[lib];\n",
              "        });\n",
              "    }\n",
              "\n",
              "    function showError(err) {\n",
              "      outputDiv.innerHTML = `<div class=\"error\" style=\"color:red;\">${err}</div>`;\n",
              "      throw err;\n",
              "    }\n",
              "\n",
              "    function displayChart(vegaEmbed) {\n",
              "      vegaEmbed(outputDiv, spec, embedOpt)\n",
              "        .catch(err => showError(`Javascript Error: ${err.message}<br>This usually means there's a typo in your chart specification. See the javascript console for the full traceback.`));\n",
              "    }\n",
              "\n",
              "    if(typeof define === \"function\" && define.amd) {\n",
              "      requirejs.config({paths});\n",
              "      require([\"vega-embed\"], displayChart, err => showError(`Error loading script: ${err.message}`));\n",
              "    } else {\n",
              "      maybeLoadScript(\"vega\", \"5\")\n",
              "        .then(() => maybeLoadScript(\"vega-lite\", \"4.17.0\"))\n",
              "        .then(() => maybeLoadScript(\"vega-embed\", \"6\"))\n",
              "        .catch(showError)\n",
              "        .then(() => displayChart(vegaEmbed));\n",
              "    }\n",
              "  })({\"config\": {\"view\": {\"continuousWidth\": 400, \"continuousHeight\": 300}}, \"data\": {\"name\": \"data-506bbcbeeb5829bd57369254f419fee2\"}, \"mark\": \"bar\", \"encoding\": {\"color\": {\"field\": \"Generacion\", \"type\": \"nominal\"}, \"x\": {\"field\": \"Generacion\", \"type\": \"nominal\"}, \"y\": {\"field\": \"N\\u00famero Legendarios\", \"type\": \"quantitative\"}}, \"height\": 400, \"title\": \"N\\u00famero de Pok\\u00e9mon legendarios por generaci\\u00f3n\", \"width\": 600, \"$schema\": \"https://vega.github.io/schema/vega-lite/v4.17.0.json\", \"datasets\": {\"data-506bbcbeeb5829bd57369254f419fee2\": [{\"Generacion\": 3, \"N\\u00famero Legendarios\": 18}, {\"Generacion\": 5, \"N\\u00famero Legendarios\": 15}, {\"Generacion\": 4, \"N\\u00famero Legendarios\": 13}, {\"Generacion\": 6, \"N\\u00famero Legendarios\": 8}, {\"Generacion\": 1, \"N\\u00famero Legendarios\": 6}, {\"Generacion\": 2, \"N\\u00famero Legendarios\": 5}]}}, {\"mode\": \"vega-lite\"});\n",
              "</script>"
            ],
            "text/plain": [
              "alt.Chart(...)"
            ]
          },
          "metadata": {},
          "execution_count": 9
        }
      ]
    },
    {
      "cell_type": "markdown",
      "source": [
        "Como podemos observar, el número de legendarios aumenta considerablemente de la Segunda a la Tercera Generación, pasando de 3 a 18 pokémons legendarios, un gran salto considerable.\n",
        "\n",
        "Durante las últimas generaciones hay más legendaros que durante las primeras, por lo que **la hipótesis es errónea**"
      ],
      "metadata": {
        "id": "MMlafUp5alMI"
      }
    },
    {
      "cell_type": "markdown",
      "source": [
        "# ¿Son mejores las generaciones antiguas en cuanto a Estadísticas?"
      ],
      "metadata": {
        "id": "Z_W0OIlafDE6"
      }
    },
    {
      "cell_type": "code",
      "source": [
        "generacion_columna = 'Generation'\n",
        "total_columna = 'Total'\n",
        "\n",
        "stats_por_generacion = pokemon_df.groupby(generacion_columna)[total_columna].mean().reset_index()\n",
        "\n",
        "chart = alt.Chart(stats_por_generacion).mark_bar().encode(\n",
        "    x=alt.X(generacion_columna + ':N', title='Generación'),\n",
        "    y=alt.Y(total_columna + ':Q', title='Media de Totales'),\n",
        "    color=alt.Color(generacion_columna + ':N', title='Generación')\n",
        ").properties(\n",
        "    width=600,\n",
        "    height=400,\n",
        "    title='Media de Atributos por Generación'\n",
        ")\n",
        "\n",
        "chart"
      ],
      "metadata": {
        "colab": {
          "base_uri": "https://localhost:8080/",
          "height": 481
        },
        "id": "dh4NcBm2R9Qm",
        "outputId": "6a072b5e-318d-45cb-c1ea-a727584291e2"
      },
      "execution_count": 10,
      "outputs": [
        {
          "output_type": "execute_result",
          "data": {
            "text/html": [
              "\n",
              "<div id=\"altair-viz-222dfc0b068e4b5c97ff85728e6a7285\"></div>\n",
              "<script type=\"text/javascript\">\n",
              "  var VEGA_DEBUG = (typeof VEGA_DEBUG == \"undefined\") ? {} : VEGA_DEBUG;\n",
              "  (function(spec, embedOpt){\n",
              "    let outputDiv = document.currentScript.previousElementSibling;\n",
              "    if (outputDiv.id !== \"altair-viz-222dfc0b068e4b5c97ff85728e6a7285\") {\n",
              "      outputDiv = document.getElementById(\"altair-viz-222dfc0b068e4b5c97ff85728e6a7285\");\n",
              "    }\n",
              "    const paths = {\n",
              "      \"vega\": \"https://cdn.jsdelivr.net/npm//vega@5?noext\",\n",
              "      \"vega-lib\": \"https://cdn.jsdelivr.net/npm//vega-lib?noext\",\n",
              "      \"vega-lite\": \"https://cdn.jsdelivr.net/npm//vega-lite@4.17.0?noext\",\n",
              "      \"vega-embed\": \"https://cdn.jsdelivr.net/npm//vega-embed@6?noext\",\n",
              "    };\n",
              "\n",
              "    function maybeLoadScript(lib, version) {\n",
              "      var key = `${lib.replace(\"-\", \"\")}_version`;\n",
              "      return (VEGA_DEBUG[key] == version) ?\n",
              "        Promise.resolve(paths[lib]) :\n",
              "        new Promise(function(resolve, reject) {\n",
              "          var s = document.createElement('script');\n",
              "          document.getElementsByTagName(\"head\")[0].appendChild(s);\n",
              "          s.async = true;\n",
              "          s.onload = () => {\n",
              "            VEGA_DEBUG[key] = version;\n",
              "            return resolve(paths[lib]);\n",
              "          };\n",
              "          s.onerror = () => reject(`Error loading script: ${paths[lib]}`);\n",
              "          s.src = paths[lib];\n",
              "        });\n",
              "    }\n",
              "\n",
              "    function showError(err) {\n",
              "      outputDiv.innerHTML = `<div class=\"error\" style=\"color:red;\">${err}</div>`;\n",
              "      throw err;\n",
              "    }\n",
              "\n",
              "    function displayChart(vegaEmbed) {\n",
              "      vegaEmbed(outputDiv, spec, embedOpt)\n",
              "        .catch(err => showError(`Javascript Error: ${err.message}<br>This usually means there's a typo in your chart specification. See the javascript console for the full traceback.`));\n",
              "    }\n",
              "\n",
              "    if(typeof define === \"function\" && define.amd) {\n",
              "      requirejs.config({paths});\n",
              "      require([\"vega-embed\"], displayChart, err => showError(`Error loading script: ${err.message}`));\n",
              "    } else {\n",
              "      maybeLoadScript(\"vega\", \"5\")\n",
              "        .then(() => maybeLoadScript(\"vega-lite\", \"4.17.0\"))\n",
              "        .then(() => maybeLoadScript(\"vega-embed\", \"6\"))\n",
              "        .catch(showError)\n",
              "        .then(() => displayChart(vegaEmbed));\n",
              "    }\n",
              "  })({\"config\": {\"view\": {\"continuousWidth\": 400, \"continuousHeight\": 300}}, \"data\": {\"name\": \"data-590098501a30dbc4369e5f451ef71369\"}, \"mark\": \"bar\", \"encoding\": {\"color\": {\"field\": \"Generation\", \"title\": \"Generaci\\u00f3n\", \"type\": \"nominal\"}, \"x\": {\"field\": \"Generation\", \"title\": \"Generaci\\u00f3n\", \"type\": \"nominal\"}, \"y\": {\"field\": \"Total\", \"title\": \"Media de Totales\", \"type\": \"quantitative\"}}, \"height\": 400, \"title\": \"Media de Atributos por Generaci\\u00f3n\", \"width\": 600, \"$schema\": \"https://vega.github.io/schema/vega-lite/v4.17.0.json\", \"datasets\": {\"data-590098501a30dbc4369e5f451ef71369\": [{\"Generation\": 1, \"Total\": 426.81325301204816}, {\"Generation\": 2, \"Total\": 418.2830188679245}, {\"Generation\": 3, \"Total\": 436.225}, {\"Generation\": 4, \"Total\": 459.0165289256198}, {\"Generation\": 5, \"Total\": 434.9878787878788}, {\"Generation\": 6, \"Total\": 436.3780487804878}]}}, {\"mode\": \"vega-lite\"});\n",
              "</script>"
            ],
            "text/plain": [
              "alt.Chart(...)"
            ]
          },
          "metadata": {},
          "execution_count": 10
        }
      ]
    },
    {
      "cell_type": "markdown",
      "source": [
        "Por último, como podemos observar, las medias son muy parecidas en todas las generaciones, no hay ninguna que destaque muchísimo, si una ligera subida en las últimas generqaciones, posiblemente por el aumento de Pokémons Legendarios que tienen más stats.\n",
        "\n",
        "Por lo que **esta hipótesis tambien es falsa**"
      ],
      "metadata": {
        "id": "-pZulCL6f_S9"
      }
    }
  ]
}