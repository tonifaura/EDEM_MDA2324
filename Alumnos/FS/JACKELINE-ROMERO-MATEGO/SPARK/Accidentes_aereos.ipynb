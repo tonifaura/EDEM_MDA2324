{
  "cells": [
    {
      "cell_type": "markdown",
      "metadata": {
        "id": "u3WKxUMvQ9JW"
      },
      "source": [
        "# **Análisis de accidentes aéreos**"
      ]
    },
    {
      "cell_type": "markdown",
      "metadata": {
        "id": "IBsRl4yARA3x"
      },
      "source": [
        "## Prerrequisites"
      ]
    },
    {
      "cell_type": "markdown",
      "metadata": {
        "id": "0KID1ObYRDA4"
      },
      "source": [
        "Install Spark and Java in VM"
      ]
    },
    {
      "cell_type": "code",
      "execution_count": 4,
      "metadata": {
        "id": "-9EjQzqhRJSZ"
      },
      "outputs": [],
      "source": [
        "# install Java8\n",
        "!apt-get install openjdk-8-jdk-headless -qq > /dev/null\n",
        "# download spark 3.5.1\n",
        "!wget -q https://apache.osuosl.org/spark/spark-3.5.1/spark-3.5.1-bin-hadoop3.tgz"
      ]
    },
    {
      "cell_type": "code",
      "execution_count": 5,
      "metadata": {
        "colab": {
          "base_uri": "https://localhost:8080/"
        },
        "id": "E4s6wcUsSPHQ",
        "outputId": "bf0cb651-b338-4993-d392-070747577c86"
      },
      "outputs": [
        {
          "output_type": "stream",
          "name": "stdout",
          "text": [
            "total 391068\n",
            "drwxr-xr-x 1 root root      4096 Feb 22 14:24 \u001b[0m\u001b[01;34msample_data\u001b[0m/\n",
            "-rw-r--r-- 1 root root 400446614 Feb 15 11:39 spark-3.5.1-bin-hadoop3.tgz\n"
          ]
        }
      ],
      "source": [
        "ls -l # check the .tgz is there"
      ]
    },
    {
      "cell_type": "code",
      "execution_count": 6,
      "metadata": {
        "id": "hSA_T2q7SEt_"
      },
      "outputs": [],
      "source": [
        "# unzip it\n",
        "!tar xf spark-3.5.1-bin-hadoop3.tgz"
      ]
    },
    {
      "cell_type": "code",
      "execution_count": 7,
      "metadata": {
        "id": "HpKEfJTeii2Y"
      },
      "outputs": [],
      "source": [
        "!pip install -q findspark"
      ]
    },
    {
      "cell_type": "code",
      "execution_count": 8,
      "metadata": {
        "colab": {
          "base_uri": "https://localhost:8080/"
        },
        "id": "zwH-zC17SGnP",
        "outputId": "3baa96b0-8c88-4ee5-b87e-a68654cc045b"
      },
      "outputs": [
        {
          "output_type": "stream",
          "name": "stdout",
          "text": [
            "Requirement already satisfied: py4j in /usr/local/lib/python3.10/dist-packages (0.10.9.7)\n",
            "Requirement already satisfied: folium in /usr/local/lib/python3.10/dist-packages (0.14.0)\n",
            "Requirement already satisfied: branca>=0.6.0 in /usr/local/lib/python3.10/dist-packages (from folium) (0.7.1)\n",
            "Requirement already satisfied: jinja2>=2.9 in /usr/local/lib/python3.10/dist-packages (from folium) (3.1.3)\n",
            "Requirement already satisfied: numpy in /usr/local/lib/python3.10/dist-packages (from folium) (1.25.2)\n",
            "Requirement already satisfied: requests in /usr/local/lib/python3.10/dist-packages (from folium) (2.31.0)\n",
            "Requirement already satisfied: MarkupSafe>=2.0 in /usr/local/lib/python3.10/dist-packages (from jinja2>=2.9->folium) (2.1.5)\n",
            "Requirement already satisfied: charset-normalizer<4,>=2 in /usr/local/lib/python3.10/dist-packages (from requests->folium) (3.3.2)\n",
            "Requirement already satisfied: idna<4,>=2.5 in /usr/local/lib/python3.10/dist-packages (from requests->folium) (3.6)\n",
            "Requirement already satisfied: urllib3<3,>=1.21.1 in /usr/local/lib/python3.10/dist-packages (from requests->folium) (2.0.7)\n",
            "Requirement already satisfied: certifi>=2017.4.17 in /usr/local/lib/python3.10/dist-packages (from requests->folium) (2024.2.2)\n",
            "Requirement already satisfied: plotly in /usr/local/lib/python3.10/dist-packages (5.15.0)\n",
            "Requirement already satisfied: tenacity>=6.2.0 in /usr/local/lib/python3.10/dist-packages (from plotly) (8.2.3)\n",
            "Requirement already satisfied: packaging in /usr/local/lib/python3.10/dist-packages (from plotly) (23.2)\n"
          ]
        }
      ],
      "source": [
        "\n",
        "!pip install py4j\n",
        "\n",
        "# For maps\n",
        "!pip install folium\n",
        "!pip install plotly"
      ]
    },
    {
      "cell_type": "markdown",
      "metadata": {
        "id": "y1tk452JRjuY"
      },
      "source": [
        "Define the environment"
      ]
    },
    {
      "cell_type": "code",
      "execution_count": 9,
      "metadata": {
        "id": "vrMxCiuZRl7h"
      },
      "outputs": [],
      "source": [
        "import os\n",
        "os.environ[\"JAVA_HOME\"] = \"/usr/lib/jvm/java-8-openjdk-amd64\"\n",
        "os.environ[\"SPARK_HOME\"] = \"/content/spark-3.5.1-bin-hadoop3\"\n",
        "os.environ[\"PYSPARK_SUBMIT_ARGS\"] = \"--master local[*] pyspark-shell\""
      ]
    },
    {
      "cell_type": "markdown",
      "metadata": {
        "id": "vk_3rL02Q9JZ"
      },
      "source": [
        "Start Spark Session\n",
        "\n",
        "---"
      ]
    },
    {
      "cell_type": "code",
      "execution_count": 10,
      "metadata": {
        "colab": {
          "base_uri": "https://localhost:8080/",
          "height": 35
        },
        "id": "-HtQz6mfQ9JZ",
        "outputId": "f84b6aee-81dc-4545-e58a-9e7a5f58624c"
      },
      "outputs": [
        {
          "output_type": "execute_result",
          "data": {
            "text/plain": [
              "'3.5.1'"
            ],
            "application/vnd.google.colaboratory.intrinsic+json": {
              "type": "string"
            }
          },
          "metadata": {},
          "execution_count": 10
        }
      ],
      "source": [
        "import findspark\n",
        "findspark.init(\"spark-3.5.1-bin-hadoop3\")# SPARK_HOME\n",
        "\n",
        "from pyspark.sql import SparkSession\n",
        "\n",
        "# create the session\n",
        "spark = SparkSession \\\n",
        "        .builder \\\n",
        "        .appName(\"DataFrames Basics\") \\\n",
        "        .master(\"local[*]\") \\\n",
        "        .getOrCreate()\n",
        "\n",
        "spark.version"
      ]
    },
    {
      "cell_type": "code",
      "execution_count": 11,
      "metadata": {
        "colab": {
          "base_uri": "https://localhost:8080/",
          "height": 219
        },
        "id": "DrOjmfL9Q9Ja",
        "outputId": "6fdb2876-cfec-4253-afe4-2cb77addae25"
      },
      "outputs": [
        {
          "output_type": "execute_result",
          "data": {
            "text/plain": [
              "<pyspark.sql.session.SparkSession at 0x78c0c8482ec0>"
            ],
            "text/html": [
              "\n",
              "            <div>\n",
              "                <p><b>SparkSession - in-memory</b></p>\n",
              "                \n",
              "        <div>\n",
              "            <p><b>SparkContext</b></p>\n",
              "\n",
              "            <p><a href=\"http://858cd4897151:4040\">Spark UI</a></p>\n",
              "\n",
              "            <dl>\n",
              "              <dt>Version</dt>\n",
              "                <dd><code>v3.5.1</code></dd>\n",
              "              <dt>Master</dt>\n",
              "                <dd><code>local[*]</code></dd>\n",
              "              <dt>AppName</dt>\n",
              "                <dd><code>DataFrames Basics</code></dd>\n",
              "            </dl>\n",
              "        </div>\n",
              "        \n",
              "            </div>\n",
              "        "
            ]
          },
          "metadata": {},
          "execution_count": 11
        }
      ],
      "source": [
        "spark"
      ]
    },
    {
      "cell_type": "code",
      "execution_count": 12,
      "metadata": {
        "id": "IBZ8ufPAQ9Jb"
      },
      "outputs": [],
      "source": [
        "# For Pandas conversion optimization\n",
        "spark.conf.set(\"spark.sql.execution.arrow.enabled\", \"true\")"
      ]
    },
    {
      "cell_type": "code",
      "execution_count": 40,
      "metadata": {
        "id": "nJ-cdrAlQ9Jb"
      },
      "outputs": [],
      "source": [
        "# Import sql functions\n",
        "from pyspark.sql.functions import *\n",
        "from pyspark.sql.types import DateType\n",
        "from pyspark.sql.functions import year\n",
        "from pyspark.sql.functions import to_date, year\n",
        "from pyspark.sql.functions import desc\n",
        "from pyspark.sql.functions import col"
      ]
    },
    {
      "cell_type": "markdown",
      "metadata": {
        "id": "AIP7U3YYTDbw"
      },
      "source": [
        "**Download datasets**"
      ]
    },
    {
      "cell_type": "markdown",
      "source": [
        "El siguiente conjunto de datos que proporcionamos contiene información sobre un histórico de accidentes aéreos. Tenemos información relevante como la fecha y la hora, ubicación, operador, tipo de operación, tipo de aeronave, número de personas a bordo, número de sobrevivientes, número de fallecidos y una pequeña descripción."
      ],
      "metadata": {
        "id": "UiNJYxM5fRuQ"
      }
    },
    {
      "cell_type": "code",
      "execution_count": 19,
      "metadata": {
        "id": "d63cazZLTKTv",
        "colab": {
          "base_uri": "https://localhost:8080/"
        },
        "outputId": "9dd691f5-e894-4ff0-cb45-df9089dc8ec1"
      },
      "outputs": [
        {
          "output_type": "stream",
          "name": "stdout",
          "text": [
            "+----------+-----+--------------------+--------------------+--------+-------------+--------------------+------------+-----+------+----------+------+--------------------+\n",
            "|      Date| Time|            Location|            Operator|Flight #|        Route|                Type|Registration|cn/In|Aboard|Fatalities|Ground|             Summary|\n",
            "+----------+-----+--------------------+--------------------+--------+-------------+--------------------+------------+-----+------+----------+------+--------------------+\n",
            "|09/17/1908|17:18| Fort Myer, Virginia|Military - U.S. Army|    NULL|Demonstration|    Wright Flyer III|        NULL|    1|     2|         1|     0|During a demonstr...|\n",
            "|07/12/1912|06:30|AtlantiCity, New ...|Military - U.S. Navy|    NULL|  Test flight|           Dirigible|        NULL| NULL|     5|         5|     0|First U.S. dirigi...|\n",
            "|08/06/1913| NULL|Victoria, British...|             Private|       -|         NULL|    Curtiss seaplane|        NULL| NULL|     1|         1|     0|The first fatal a...|\n",
            "|09/09/1913|18:30|  Over the North Sea|Military - German...|    NULL|         NULL|Zeppelin L-1 (air...|        NULL| NULL|    20|        14|     0|The airship flew ...|\n",
            "|10/17/1913|10:30|Near Johannisthal...|Military - German...|    NULL|         NULL|Zeppelin L-2 (air...|        NULL| NULL|    30|        30|     0|Hydrogen gas whic...|\n",
            "|03/05/1915|01:00|     Tienen, Belgium|Military - German...|    NULL|         NULL|Zeppelin L-8 (air...|        NULL| NULL|    41|        21|     0|Crashed into tree...|\n",
            "|09/03/1915|15:20|Off Cuxhaven, Ger...|Military - German...|    NULL|         NULL|Zeppelin L-10 (ai...|        NULL| NULL|    19|        19|     0|Exploded and burn...|\n",
            "|07/28/1916| NULL|Near Jambol, Bulg...|Military - German...|    NULL|         NULL|Schutte-Lanz S-L-...|        NULL| NULL|    20|        20|     0|Crashed near the ...|\n",
            "|09/24/1916|01:00| Billericay, England|Military - German...|    NULL|         NULL|Zeppelin L-32 (ai...|        NULL| NULL|    22|        22|     0|Shot down by Brit...|\n",
            "|10/01/1916|23:45|Potters Bar, England|Military - German...|    NULL|         NULL|Zeppelin L-31 (ai...|        NULL| NULL|    19|        19|     0|Shot down in flam...|\n",
            "|11/21/1916| NULL|      Mainz, Germany|Military - German...|    NULL|         NULL|Super Zeppelin (a...|        NULL| NULL|    28|        27|     0| Crashed in a storm.|\n",
            "|11/28/1916|23:45|Off West Hartlepo...|Military - German...|    NULL|         NULL|Zeppelin L-34 (ai...|        NULL| NULL|    20|        20|     0|Shot down by Brit...|\n",
            "|03/04/1917| NULL|  Near Gent, Belgium|Military - German...|    NULL|         NULL|             Airship|        NULL| NULL|    20|        20|     0|Caught fire and c...|\n",
            "|03/30/1917| NULL|Off Northern Germany|Military - German...|    NULL|         NULL|Schutte-Lanz S-L-...|        NULL| NULL|    23|        23|     0|Struck by lightni...|\n",
            "|05/14/1917|05:15|Near Texel Island...|Military - German...|    NULL|         NULL|Zeppelin L-22 (ai...|        NULL| NULL|    21|        21|     0|Crashed into the ...|\n",
            "|06/14/1917|08:45|Off Vlieland Isla...|Military - German...|    NULL|         NULL|Zeppelin L-43 (ai...|        NULL| NULL|    24|        24|     0|Shot down by Brit...|\n",
            "|08/21/1917|07:00| Off western Denmark|Military - German...|    NULL|         NULL|Zeppelin L-23 (ai...|        NULL| NULL|    18|        18|     0|Shot down by Brit...|\n",
            "|10/20/1917|07:45|Near Luneville, F...|Military - German...|    NULL|         NULL|Zeppelin L-44 (ai...|        NULL| NULL|    18|        18|     0|Shot down by Fren...|\n",
            "|04/07/1918|21:30|Over the Mediterr...|Military - German...|    NULL|         NULL|Zeppelin L-59 (ai...|        NULL| NULL|    23|        23|     0|Exploded and cras...|\n",
            "|05/10/1918| NULL|Off Helgoland Isl...|Military - German...|    NULL|         NULL|Zeppelin L-70 (ai...|        NULL| NULL|    22|        22|     0|Shot down by Brit...|\n",
            "+----------+-----+--------------------+--------------------+--------+-------------+--------------------+------------+-----+------+----------+------+--------------------+\n",
            "only showing top 20 rows\n",
            "\n"
          ]
        }
      ],
      "source": [
        "AirplaneDF = spark.read.option(\"header\", \"true\").option(\"delimiter\", \",\").csv(\"/content/Airplane_crashes.csv\")\n",
        "\n",
        "AirplaneDF.show(20)"
      ]
    },
    {
      "cell_type": "markdown",
      "source": [
        " *¿Cómo ha variado la frecuencia de accidentes aéreos a lo largo de los años? ¿Cuáles son los años con más accidentes?*"
      ],
      "metadata": {
        "id": "yZ6CR0GqjnB7"
      }
    },
    {
      "cell_type": "code",
      "source": [
        "AirplaneDF2 = AirplaneDF.withColumn(\"Date\", to_date(AirplaneDF[\"Date\"], \"MM/dd/yyyy\"))\n",
        "\n",
        "AirplaneDF3 = AirplaneDF2.withColumn(\"Year\", year(\"Date\"))\n",
        "\n",
        "#AirplaneDF3.show(20)\n",
        "\n",
        "Frecuencia = AirplaneDF3.groupBy(\"Year\").count().orderBy(\"Year\")\n",
        "\n",
        "Frecuencia.show()"
      ],
      "metadata": {
        "colab": {
          "base_uri": "https://localhost:8080/"
        },
        "id": "sgGCBshBk8OC",
        "outputId": "9ffded04-9706-4ed5-8b58-8b0f9af21fa0"
      },
      "execution_count": 26,
      "outputs": [
        {
          "output_type": "stream",
          "name": "stdout",
          "text": [
            "+----+-----+\n",
            "|Year|count|\n",
            "+----+-----+\n",
            "|1908|    1|\n",
            "|1912|    1|\n",
            "|1913|    3|\n",
            "|1915|    2|\n",
            "|1916|    5|\n",
            "|1917|    6|\n",
            "|1918|    4|\n",
            "|1919|    6|\n",
            "|1920|   17|\n",
            "|1921|   13|\n",
            "|1922|   11|\n",
            "|1923|   12|\n",
            "|1924|    7|\n",
            "|1925|   11|\n",
            "|1926|   12|\n",
            "|1927|   21|\n",
            "|1928|   37|\n",
            "|1929|   37|\n",
            "|1930|   24|\n",
            "|1931|   32|\n",
            "+----+-----+\n",
            "only showing top 20 rows\n",
            "\n"
          ]
        }
      ]
    },
    {
      "cell_type": "code",
      "source": [
        "topfive = Frecuencia.orderBy(desc(\"count\")).limit(5)\n",
        "\n",
        "topfive.show()"
      ],
      "metadata": {
        "colab": {
          "base_uri": "https://localhost:8080/"
        },
        "id": "h0OgBhQGsht2",
        "outputId": "14a0bc01-60d0-4b74-aa23-beb04efa4a1e"
      },
      "execution_count": 32,
      "outputs": [
        {
          "output_type": "stream",
          "name": "stdout",
          "text": [
            "+----+-----+\n",
            "|Year|count|\n",
            "+----+-----+\n",
            "|1972|  104|\n",
            "|1968|   96|\n",
            "|1989|   95|\n",
            "|1967|   91|\n",
            "|1979|   89|\n",
            "+----+-----+\n",
            "\n"
          ]
        }
      ]
    },
    {
      "cell_type": "markdown",
      "source": [
        "*¿Hay áreas geográficas que experimentan más accidentes que otras?*"
      ],
      "metadata": {
        "id": "WdWBjucwt9Fn"
      }
    },
    {
      "cell_type": "code",
      "source": [
        "AirplaneDF_sin_nulos = AirplaneDF3.na.drop(subset=[\"Location\"])\n",
        "\n",
        "accidentes_location = AirplaneDF_sin_nulos.groupBy(\"Location\").count().orderBy(desc(\"count\"))\n",
        "\n",
        "accidentes_location.show()\n"
      ],
      "metadata": {
        "colab": {
          "base_uri": "https://localhost:8080/"
        },
        "id": "6CQRmrqHuUHo",
        "outputId": "ffc59ef7-4e1c-40e4-e212-881f068148d1"
      },
      "execution_count": 34,
      "outputs": [
        {
          "output_type": "stream",
          "name": "stdout",
          "text": [
            "+--------------------+-----+\n",
            "|            Location|count|\n",
            "+--------------------+-----+\n",
            "|      Moscow, Russia|   15|\n",
            "|   Sao Paulo, Brazil|   15|\n",
            "|Rio de Janeiro, B...|   14|\n",
            "| Manila, Philippines|   13|\n",
            "|   Anchorage, Alaska|   13|\n",
            "|    Bogota, Colombia|   13|\n",
            "|  New York, New York|   12|\n",
            "|        Cairo, Egypt|   12|\n",
            "|   Chicago, Illinois|   11|\n",
            "|        Tehran, Iran|    9|\n",
            "| Near Moscow, Russia|    9|\n",
            "|        AtlantiOcean|    9|\n",
            "|      Ankara, Turkey|    8|\n",
            "|Amsterdam, Nether...|    8|\n",
            "|    Denver, Colorado|    8|\n",
            "|         Rome, Italy|    8|\n",
            "|       Paris, France|    8|\n",
            "|Near Medellin, Co...|    7|\n",
            "|  Bucharest, Romania|    7|\n",
            "|     London, England|    7|\n",
            "+--------------------+-----+\n",
            "only showing top 20 rows\n",
            "\n"
          ]
        }
      ]
    },
    {
      "cell_type": "markdown",
      "source": [
        "*¿Qué tipo de aeronaves están más involucradas en la mayoría de accidentes?*"
      ],
      "metadata": {
        "id": "Mh_zTQuVwwbX"
      }
    },
    {
      "cell_type": "code",
      "source": [
        "aeronaves = AirplaneDF3.groupBy(\"Operator\").count().orderBy(desc(\"count\"))\n",
        "\n",
        "aeronaves.show()"
      ],
      "metadata": {
        "colab": {
          "base_uri": "https://localhost:8080/"
        },
        "id": "IAyVDSqSw83r",
        "outputId": "5a4b1c05-700d-44b1-9c10-d778f63bdb9c"
      },
      "execution_count": 35,
      "outputs": [
        {
          "output_type": "stream",
          "name": "stdout",
          "text": [
            "+--------------------+-----+\n",
            "|            Operator|count|\n",
            "+--------------------+-----+\n",
            "|            Aeroflot|  179|\n",
            "|Military - U.S. A...|  176|\n",
            "|          Air France|   70|\n",
            "|  Deutsche Lufthansa|   65|\n",
            "|    United Air Lines|   44|\n",
            "|            Air Taxi|   44|\n",
            "|China National Av...|   44|\n",
            "|Military - U.S. A...|   43|\n",
            "|Pan American Worl...|   41|\n",
            "|Military - U.S. Navy|   36|\n",
            "|Military - Royal ...|   36|\n",
            "|US Aerial Mail Se...|   36|\n",
            "|   American Airlines|   36|\n",
            "|     Indian Airlines|   34|\n",
            "|KLM Royal Dutch A...|   33|\n",
            "|Philippine Air Lines|   33|\n",
            "|             Private|   31|\n",
            "|         Aeropostale|   26|\n",
            "|Northwest Orient ...|   25|\n",
            "|British Overseas ...|   25|\n",
            "+--------------------+-----+\n",
            "only showing top 20 rows\n",
            "\n"
          ]
        }
      ]
    },
    {
      "cell_type": "markdown",
      "source": [
        "Siguiendo con ello, podríamos indagar si ciertos tipos de aeronaves tienen una tasa de accidentes más alta en ubicaciones específicas."
      ],
      "metadata": {
        "id": "RTvFVodZyYDl"
      }
    },
    {
      "cell_type": "code",
      "source": [
        "accidentes_tipo_location = AirplaneDF3.groupBy(\"Type\", \"Location\").count()\n",
        "\n",
        "accidentes_tipo = AirplaneDF3.groupBy(\"Type\").count()\n",
        "\n",
        "accidentes_tipo_location = accidentes_tipo_location.withColumnRenamed(\"count\", \"count_location\")\n",
        "accidentes_tipo = accidentes_tipo.withColumnRenamed(\"count\", \"count_total\")\n",
        "\n",
        "tasa_accidentes_tipo_location = accidentes_tipo_location.join(accidentes_tipo, \"Type\") \\\n",
        "    .withColumn(\"Tasa de Accidentes\", col(\"count_location\") / col(\"count_total\"))\n",
        "\n",
        "\n",
        "tasa_accidentes_tipo_location.show()\n"
      ],
      "metadata": {
        "colab": {
          "base_uri": "https://localhost:8080/"
        },
        "id": "4PI7eurDzDNt",
        "outputId": "c0c477f6-a811-4673-a60b-7bff8858d046"
      },
      "execution_count": 44,
      "outputs": [
        {
          "output_type": "stream",
          "name": "stdout",
          "text": [
            "+--------------------+--------------------+--------------+-----------+--------------------+\n",
            "|                Type|            Location|count_location|count_total|  Tasa de Accidentes|\n",
            "+--------------------+--------------------+--------------+-----------+--------------------+\n",
            "|   De Havilland DH-4|  New Paris, Indiana|             1|         28| 0.03571428571428571|\n",
            "|            Potez IX|   Budapest, Hungary|             1|          2|                 0.5|\n",
            "|Liore et Olivier 190| Off Corsica, France|             1|          1|                 1.0|\n",
            "|Curtiss-Wright C-...|   Near Osaka, Japan|             1|          2|                 0.5|\n",
            "|       Douglas C-54B|La Guardia Airpor...|             1|          5|                 0.2|\n",
            "|        Canadair C-4|        Idris, Libya|             1|          1|                 1.0|\n",
            "|       Douglas DC-6B|       Paris, France|             1|         27|0.037037037037037035|\n",
            "|Goodyear ZPG-3W (...|Off Barnegat City...|             1|          1|                 1.0|\n",
            "|Sikorsky S-58C he...|Forest Park, Illi...|             1|          1|                 1.0|\n",
            "|        Douglas DC-3|Chiang Mai, Thailand|             1|        334|0.002994011976047...|\n",
            "|             LTVF-8J|Near San Diego, C...|             1|          1|                 1.0|\n",
            "|Fairchild-Hiller ...|   Belem Bay, Brazil|             1|          4|                0.25|\n",
            "|Britten-Norman BN...|Haringvreter, Net...|             1|         15| 0.06666666666666667|\n",
            "|MDonnell Douglas ...|  Near Adana, Turkey|             1|          1|                 1.0|\n",
            "|Hawker Siddeley H...|Near Khartoum, Sudan|             1|          1|                 1.0|\n",
            "|              CH-53D|Off Tanegashima, ...|             1|          1|                 1.0|\n",
            "|    Boeing B-737-266|         Luqa, Malta|             1|          1|                 1.0|\n",
            "|de Havilland Cana...|Near Ross River, ...|             1|          4|                0.25|\n",
            "|de Havilland Cana...|   Nabire, Indonesia|             1|         81|0.012345679012345678|\n",
            "|     Antonov AN-24RV|Near Moron, Mongolia|             1|          8|               0.125|\n",
            "+--------------------+--------------------+--------------+-----------+--------------------+\n",
            "only showing top 20 rows\n",
            "\n"
          ]
        }
      ]
    },
    {
      "cell_type": "markdown",
      "source": [
        "*¿Cuál es el tipo de aeronave con mayor índice de supervivencia?*"
      ],
      "metadata": {
        "id": "O-Po0dcO4RYM"
      }
    },
    {
      "cell_type": "code",
      "source": [
        "AirplaneDF4 = AirplaneDF3.withColumn(\"Survivors\", col(\"Aboard\") - col(\"Fatalities\"))\n",
        "\n",
        "#AirplaneDF4.show()\n",
        "\n",
        "from pyspark.sql.functions import sum\n",
        "\n",
        "survivors_by_type = AirplaneDF4.groupBy(\"Type\").agg(sum(\"Survivors\").alias(\"TotalSurvivors\"))\n",
        "\n",
        "survivors_by_type = survivors_by_type.orderBy(\"TotalSurvivors\", ascending=False)\n",
        "\n",
        "survivors_by_type.show()"
      ],
      "metadata": {
        "colab": {
          "base_uri": "https://localhost:8080/"
        },
        "id": "k9WkZyGd441H",
        "outputId": "2dac341d-ba46-412d-fd05-4bda6dbcb14b"
      },
      "execution_count": 47,
      "outputs": [
        {
          "output_type": "stream",
          "name": "stdout",
          "text": [
            "+--------------------+--------------+\n",
            "|                Type|TotalSurvivors|\n",
            "+--------------------+--------------+\n",
            "|        Douglas DC-3|        1336.0|\n",
            "|        Boeing B-747|        1070.0|\n",
            "|McDonnell Douglas...|        1033.0|\n",
            "|McDonnell Douglas...|         838.0|\n",
            "|    Boeing B-747-122|         739.0|\n",
            "|    Boeing B-747-121|         586.0|\n",
            "|McDonnell Douglas...|         574.0|\n",
            "|McDonnell Douglas...|         527.0|\n",
            "|   Boeing B-707-321B|         498.0|\n",
            "|McDonnell Douglas...|         477.0|\n",
            "|     Lockheed L-1011|         464.0|\n",
            "|    Boeing B-747-200|         402.0|\n",
            "|     Tupolev TU-134A|         401.0|\n",
            "|McDonnell Douglas...|         338.0|\n",
            "|de Havilland Cana...|         337.0|\n",
            "|   Tupolev TU-154B-1|         335.0|\n",
            "|McDonnell Douglas...|         332.0|\n",
            "|        Airbus A-340|         309.0|\n",
            "|    Airbus A-330-243|         304.0|\n",
            "|    Airbus A.330-301|         297.0|\n",
            "+--------------------+--------------+\n",
            "only showing top 20 rows\n",
            "\n"
          ]
        }
      ]
    }
  ],
  "metadata": {
    "colab": {
      "collapsed_sections": [
        "94aRTBiPQ9Jc"
      ],
      "provenance": []
    },
    "kernelspec": {
      "display_name": "Python 3.10.0 64-bit",
      "language": "python",
      "name": "python3"
    },
    "language_info": {
      "codemirror_mode": {
        "name": "ipython",
        "version": 3
      },
      "file_extension": ".py",
      "mimetype": "text/x-python",
      "name": "python",
      "nbconvert_exporter": "python",
      "pygments_lexer": "ipython3",
      "version": "3.10.0"
    },
    "orig_nbformat": 4,
    "vscode": {
      "interpreter": {
        "hash": "ff1af5cda0bea4fe5c4ebc1f94ab9f13d8998f98d08e16d8aba48673b9d00116"
      }
    }
  },
  "nbformat": 4,
  "nbformat_minor": 0
}