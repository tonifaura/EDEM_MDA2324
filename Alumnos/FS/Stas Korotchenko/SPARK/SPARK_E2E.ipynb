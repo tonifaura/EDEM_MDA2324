{
  "cells": [
    {
      "cell_type": "markdown",
      "metadata": {
        "id": "0KID1ObYRDA4"
      },
      "source": [
        "Install Spark and Java in VM"
      ]
    },
    {
      "cell_type": "code",
      "execution_count": 56,
      "metadata": {
        "id": "-9EjQzqhRJSZ"
      },
      "outputs": [],
      "source": [
        "# install Java8\n",
        "!apt-get install openjdk-8-jdk-headless -qq > /dev/null\n",
        "# download spark 3.5.0\n",
        "!wget -q https://apache.osuosl.org/spark/spark-3.5.0/spark-3.5.0-bin-hadoop3.tgz"
      ]
    },
    {
      "cell_type": "code",
      "execution_count": 57,
      "metadata": {
        "colab": {
          "base_uri": "https://localhost:8080/"
        },
        "id": "E4s6wcUsSPHQ",
        "outputId": "ffd28e73-24de-4ba1-bff0-c8adbce59798"
      },
      "outputs": [
        {
          "output_type": "stream",
          "name": "stdout",
          "text": [
            "total 795840\n",
            "-rw-r--r--  1 root root  14138385 Jan 15 10:04 GlobalLandTemperatures_GlobalLandTemperaturesByMajorCity.csv\n",
            "drwxr-xr-x  1 root root      4096 Jan 11 17:02 \u001b[0m\u001b[01;34msample_data\u001b[0m/\n",
            "drwxr-xr-x 13 1000 1000      4096 Sep  9 02:08 \u001b[01;34mspark-3.5.0-bin-hadoop3\u001b[0m/\n",
            "-rw-r--r--  1 root root 400395283 Sep  9 02:10 spark-3.5.0-bin-hadoop3.tgz\n",
            "-rw-r--r--  1 root root 400395283 Sep  9 02:10 spark-3.5.0-bin-hadoop3.tgz.1\n"
          ]
        }
      ],
      "source": [
        "ls -l # check the .tgz is there"
      ]
    },
    {
      "cell_type": "code",
      "execution_count": 58,
      "metadata": {
        "id": "hSA_T2q7SEt_"
      },
      "outputs": [],
      "source": [
        "# unzip it\n",
        "!tar xf spark-3.5.0-bin-hadoop3.tgz"
      ]
    },
    {
      "cell_type": "code",
      "execution_count": 59,
      "metadata": {
        "id": "HpKEfJTeii2Y"
      },
      "outputs": [],
      "source": [
        "!pip install -q findspark"
      ]
    },
    {
      "cell_type": "code",
      "execution_count": 60,
      "metadata": {
        "colab": {
          "base_uri": "https://localhost:8080/"
        },
        "id": "zwH-zC17SGnP",
        "outputId": "9a8cfacc-7392-4f81-d883-bfba1cfa6a78"
      },
      "outputs": [
        {
          "output_type": "stream",
          "name": "stdout",
          "text": [
            "Requirement already satisfied: py4j in /usr/local/lib/python3.10/dist-packages (0.10.9.7)\n",
            "Requirement already satisfied: folium in /usr/local/lib/python3.10/dist-packages (0.14.0)\n",
            "Requirement already satisfied: branca>=0.6.0 in /usr/local/lib/python3.10/dist-packages (from folium) (0.7.0)\n",
            "Requirement already satisfied: jinja2>=2.9 in /usr/local/lib/python3.10/dist-packages (from folium) (3.1.2)\n",
            "Requirement already satisfied: numpy in /usr/local/lib/python3.10/dist-packages (from folium) (1.23.5)\n",
            "Requirement already satisfied: requests in /usr/local/lib/python3.10/dist-packages (from folium) (2.31.0)\n",
            "Requirement already satisfied: MarkupSafe>=2.0 in /usr/local/lib/python3.10/dist-packages (from jinja2>=2.9->folium) (2.1.3)\n",
            "Requirement already satisfied: charset-normalizer<4,>=2 in /usr/local/lib/python3.10/dist-packages (from requests->folium) (3.3.2)\n",
            "Requirement already satisfied: idna<4,>=2.5 in /usr/local/lib/python3.10/dist-packages (from requests->folium) (3.6)\n",
            "Requirement already satisfied: urllib3<3,>=1.21.1 in /usr/local/lib/python3.10/dist-packages (from requests->folium) (2.0.7)\n",
            "Requirement already satisfied: certifi>=2017.4.17 in /usr/local/lib/python3.10/dist-packages (from requests->folium) (2023.11.17)\n",
            "Requirement already satisfied: plotly in /usr/local/lib/python3.10/dist-packages (5.15.0)\n",
            "Requirement already satisfied: tenacity>=6.2.0 in /usr/local/lib/python3.10/dist-packages (from plotly) (8.2.3)\n",
            "Requirement already satisfied: packaging in /usr/local/lib/python3.10/dist-packages (from plotly) (23.2)\n"
          ]
        }
      ],
      "source": [
        "\n",
        "!pip install py4j\n",
        "\n",
        "# For maps\n",
        "!pip install folium\n",
        "!pip install plotly"
      ]
    },
    {
      "cell_type": "markdown",
      "metadata": {
        "id": "y1tk452JRjuY"
      },
      "source": [
        "Define the environment"
      ]
    },
    {
      "cell_type": "code",
      "execution_count": 61,
      "metadata": {
        "id": "vrMxCiuZRl7h"
      },
      "outputs": [],
      "source": [
        "import os\n",
        "os.environ[\"JAVA_HOME\"] = \"/usr/lib/jvm/java-8-openjdk-amd64\"\n",
        "os.environ[\"SPARK_HOME\"] = \"/content/spark-3.5.0-bin-hadoop3\"\n",
        "os.environ[\"PYSPARK_SUBMIT_ARGS\"] = \"--master local[*] pyspark-shell\""
      ]
    },
    {
      "cell_type": "markdown",
      "metadata": {
        "id": "vk_3rL02Q9JZ"
      },
      "source": [
        "Start Spark Session\n",
        "\n",
        "---"
      ]
    },
    {
      "cell_type": "code",
      "execution_count": 62,
      "metadata": {
        "colab": {
          "base_uri": "https://localhost:8080/",
          "height": 36
        },
        "id": "-HtQz6mfQ9JZ",
        "outputId": "151056ef-c9b1-4a54-93dc-8e1fbdca3835"
      },
      "outputs": [
        {
          "output_type": "execute_result",
          "data": {
            "text/plain": [
              "'3.5.0'"
            ],
            "application/vnd.google.colaboratory.intrinsic+json": {
              "type": "string"
            }
          },
          "metadata": {},
          "execution_count": 62
        }
      ],
      "source": [
        "import findspark\n",
        "findspark.init(\"spark-3.5.0-bin-hadoop3\")# SPARK_HOME\n",
        "\n",
        "from pyspark.sql import SparkSession\n",
        "\n",
        "# create the session\n",
        "spark = SparkSession \\\n",
        "        .builder \\\n",
        "        .appName(\"DataFrames Basics\") \\\n",
        "        .master(\"local[*]\") \\\n",
        "        .getOrCreate()\n",
        "\n",
        "spark.version"
      ]
    },
    {
      "cell_type": "code",
      "execution_count": 63,
      "metadata": {
        "colab": {
          "base_uri": "https://localhost:8080/",
          "height": 222
        },
        "id": "DrOjmfL9Q9Ja",
        "outputId": "09b513cf-449b-429e-cad1-aa9aef02c2bb"
      },
      "outputs": [
        {
          "output_type": "execute_result",
          "data": {
            "text/plain": [
              "<pyspark.sql.session.SparkSession at 0x7b66541c33a0>"
            ],
            "text/html": [
              "\n",
              "            <div>\n",
              "                <p><b>SparkSession - in-memory</b></p>\n",
              "                \n",
              "        <div>\n",
              "            <p><b>SparkContext</b></p>\n",
              "\n",
              "            <p><a href=\"http://a95d5e37c6ed:4040\">Spark UI</a></p>\n",
              "\n",
              "            <dl>\n",
              "              <dt>Version</dt>\n",
              "                <dd><code>v3.5.0</code></dd>\n",
              "              <dt>Master</dt>\n",
              "                <dd><code>local[*]</code></dd>\n",
              "              <dt>AppName</dt>\n",
              "                <dd><code>DataFrames Basics</code></dd>\n",
              "            </dl>\n",
              "        </div>\n",
              "        \n",
              "            </div>\n",
              "        "
            ]
          },
          "metadata": {},
          "execution_count": 63
        }
      ],
      "source": [
        "spark"
      ]
    },
    {
      "cell_type": "code",
      "execution_count": 64,
      "metadata": {
        "id": "IBZ8ufPAQ9Jb"
      },
      "outputs": [],
      "source": [
        "# For Pandas conversion optimization\n",
        "spark.conf.set(\"spark.sql.execution.arrow.enabled\", \"true\")"
      ]
    },
    {
      "cell_type": "code",
      "execution_count": 65,
      "metadata": {
        "id": "nJ-cdrAlQ9Jb"
      },
      "outputs": [],
      "source": [
        "# Import sql functions\n",
        "from pyspark.sql.functions import *"
      ]
    },
    {
      "cell_type": "markdown",
      "source": [
        "# Global Temperature Records by Major City (1849-2022)\n",
        "\n",
        "\n",
        "## Dataset Overview\n",
        "This comprehensive dataset provides historical records of average temperatures by major city from 1849 to 2022. It's an invaluable resource for climate researchers, historians, and data scientists interested in analyzing long-term temperature trends and their impacts on different parts of the world.\n",
        "\n",
        "## Data Description\n",
        "The dataset contains the following columns:\n",
        "\n",
        "dt: Date of the record.\n",
        "\n",
        "AverageTemperature: Average temperature of the city for the given date.\n",
        "\n",
        "AverageTemperatureUncertainty: The uncertainty of the average temperature.\n",
        "\n",
        "City: Name of the city.\n",
        "\n",
        "Country: Country in which the city is located.\n",
        "\n",
        "Latitude: Latitude of the city.\n",
        "\n",
        "Longitude: Longitude of the city."
      ],
      "metadata": {
        "id": "MRZEhsOMK7uE"
      }
    },
    {
      "cell_type": "markdown",
      "metadata": {
        "id": "AIP7U3YYTDbw"
      },
      "source": [
        "## Download datasets"
      ]
    },
    {
      "cell_type": "code",
      "source": [
        "Temperatures_GlobalDF = spark.read.option(\"header\", \"true\").option(\"delimiter\", \",\").csv(\"/content/GlobalLandTemperatures_GlobalLandTemperaturesByMajorCity.csv\")\n"
      ],
      "metadata": {
        "id": "Hm6j_8E1Jvm_"
      },
      "execution_count": 66,
      "outputs": []
    },
    {
      "cell_type": "code",
      "source": [
        "Temperatures_GlobalDF.printSchema()\n",
        "Temperatures_GlobalDF.show(10)"
      ],
      "metadata": {
        "colab": {
          "base_uri": "https://localhost:8080/"
        },
        "id": "FI74owfKL_YC",
        "outputId": "8e341e4a-4706-48b6-af7b-bd33e158f2ec"
      },
      "execution_count": 67,
      "outputs": [
        {
          "output_type": "stream",
          "name": "stdout",
          "text": [
            "root\n",
            " |-- dt: string (nullable = true)\n",
            " |-- AverageTemperature: string (nullable = true)\n",
            " |-- AverageTemperatureUncertainty: string (nullable = true)\n",
            " |-- City: string (nullable = true)\n",
            " |-- Country: string (nullable = true)\n",
            " |-- Latitude: string (nullable = true)\n",
            " |-- Longitude: string (nullable = true)\n",
            "\n",
            "+----------+------------------+-----------------------------+-------+-------------+--------+---------+\n",
            "|        dt|AverageTemperature|AverageTemperatureUncertainty|   City|      Country|Latitude|Longitude|\n",
            "+----------+------------------+-----------------------------+-------+-------------+--------+---------+\n",
            "|1849-01-01|            26.704|                        1.435|Abidjan|Côte D'Ivoire|   5.63N|    3.23W|\n",
            "|1849-02-01|            27.434|                        1.362|Abidjan|Côte D'Ivoire|   5.63N|    3.23W|\n",
            "|1849-03-01|            28.101|                        1.612|Abidjan|Côte D'Ivoire|   5.63N|    3.23W|\n",
            "|1849-04-01|             26.14|           1.3869999999999998|Abidjan|Côte D'Ivoire|   5.63N|    3.23W|\n",
            "|1849-05-01|            25.427|                          1.2|Abidjan|Côte D'Ivoire|   5.63N|    3.23W|\n",
            "|1849-06-01|            24.844|                        1.402|Abidjan|Côte D'Ivoire|   5.63N|    3.23W|\n",
            "|1849-07-01|24.058000000000003|                        1.254|Abidjan|Côte D'Ivoire|   5.63N|    3.23W|\n",
            "|1849-08-01|            23.576|                        1.265|Abidjan|Côte D'Ivoire|   5.63N|    3.23W|\n",
            "|1849-09-01|            23.662|                        1.226|Abidjan|Côte D'Ivoire|   5.63N|    3.23W|\n",
            "|1849-10-01|            25.263|                        1.175|Abidjan|Côte D'Ivoire|   5.63N|    3.23W|\n",
            "+----------+------------------+-----------------------------+-------+-------------+--------+---------+\n",
            "only showing top 10 rows\n",
            "\n"
          ]
        }
      ]
    },
    {
      "cell_type": "markdown",
      "source": [
        "### Distinct cuidades"
      ],
      "metadata": {
        "id": "53gGGPlqOdpj"
      }
    },
    {
      "cell_type": "code",
      "source": [
        "unique_values_list = Temperatures_GlobalDF.select(\"City\").distinct().rdd.flatMap(lambda x: x).collect()\n",
        "print(unique_values_list)"
      ],
      "metadata": {
        "colab": {
          "base_uri": "https://localhost:8080/"
        },
        "id": "E_Dqt7d4Obbi",
        "outputId": "253c37c2-1ad5-4b11-a36c-72b7bdb55d47"
      },
      "execution_count": 68,
      "outputs": [
        {
          "output_type": "stream",
          "name": "stdout",
          "text": [
            "['Bangalore', 'Cairo', 'Casablanca', 'Guangzhou', 'Fortaleza', 'Ho Chi Minh City', 'Lima', 'Madrid', 'Mashhad', 'Dalian', 'Jakarta', 'Jinan', 'Alexandria', 'Baghdad', 'Los Angeles', 'Moscow', 'Harare', 'Dar Es Salaam', 'Berlin', 'Chengdu', 'Ankara', 'Karachi', 'Luanda', 'Lagos', 'London', 'Addis Abeba', 'Montreal', 'Harbin', 'Jiddah', 'Durban', 'Cape Town', 'Mogadishu', 'Ibadan', 'Kano', 'Chongqing', 'Chicago', 'Istanbul', 'Belo Horizonte', 'Abidjan', 'Lahore', 'Kabul', 'Mexico', 'Manila', 'Cali', 'Faisalabad', 'Dakar', 'Delhi', 'Changchun', 'Aleppo', 'Bombay', 'Melbourne', 'Gizeh', 'Calcutta', 'Brasília', 'Kanpur', 'Kiev', 'Kinshasa', 'Bangkok', 'Hyderabad', 'Lakhnau', 'Madras', 'Ahmadabad', 'Jaipur', 'Dhaka', 'Bogotá', 'Izmir', 'Singapore', 'Tianjin', 'Wuhan', 'Tangshan', 'Santo Domingo', 'Nanjing', 'Taiyuan', 'Xian', 'Sydney', 'Tokyo', 'Nagoya', 'Shenyang', 'Paris', 'Riyadh', 'Toronto', 'Rangoon', 'Salvador', 'Surat', 'Peking', 'São Paulo', 'Pune', 'Taipei', 'Surabaya', 'Nagpur', 'Rome', 'Umm Durman', 'Saint Petersburg', 'Nairobi', 'Seoul', 'New Delhi', 'Santiago', 'New York', 'Rio De Janeiro', 'Shanghai']\n"
          ]
        }
      ]
    },
    {
      "cell_type": "code",
      "source": [
        "\n",
        "filter_spb = Temperatures_GlobalDF.filter((col(\"City\") == \"Saint Petersburg\")& (col(\"dt\") > \"1900-01-01\"))\n",
        "filter_spb.show()"
      ],
      "metadata": {
        "colab": {
          "base_uri": "https://localhost:8080/"
        },
        "id": "zPH8Lz2sOKNJ",
        "outputId": "57bbdc9c-f865-4963-b268-82a16f3cb62d"
      },
      "execution_count": 69,
      "outputs": [
        {
          "output_type": "stream",
          "name": "stdout",
          "text": [
            "+----------+--------------------+-----------------------------+----------------+-------+--------+---------+\n",
            "|        dt|  AverageTemperature|AverageTemperatureUncertainty|            City|Country|Latitude|Longitude|\n",
            "+----------+--------------------+-----------------------------+----------------+-------+--------+---------+\n",
            "|1900-02-01|              -9.852|                        0.684|Saint Petersburg| Russia|  60.27N|   29.19E|\n",
            "|1900-03-01|  -5.502000000000002|                        0.474|Saint Petersburg| Russia|  60.27N|   29.19E|\n",
            "|1900-04-01|  0.4630000000000001|                        0.403|Saint Petersburg| Russia|  60.27N|   29.19E|\n",
            "|1900-05-01|   6.448999999999999|                         0.31|Saint Petersburg| Russia|  60.27N|   29.19E|\n",
            "|1900-06-01|              12.377|                        0.753|Saint Petersburg| Russia|  60.27N|   29.19E|\n",
            "|1900-07-01|              15.317|                         0.73|Saint Petersburg| Russia|  60.27N|   29.19E|\n",
            "|1900-08-01|              16.433|                         0.48|Saint Petersburg| Russia|  60.27N|   29.19E|\n",
            "|1900-09-01|               9.302|                        0.491|Saint Petersburg| Russia|  60.27N|   29.19E|\n",
            "|1900-10-01|   6.167000000000001|                        0.578|Saint Petersburg| Russia|  60.27N|   29.19E|\n",
            "|1900-11-01|-0.01000000000000...|                        0.441|Saint Petersburg| Russia|  60.27N|   29.19E|\n",
            "|1900-12-01|              -3.948|                        0.461|Saint Petersburg| Russia|  60.27N|   29.19E|\n",
            "|1901-01-01|              -2.957|                        0.481|Saint Petersburg| Russia|  60.27N|   29.19E|\n",
            "|1901-02-01|             -10.388|                        0.693|Saint Petersburg| Russia|  60.27N|   29.19E|\n",
            "|1901-03-01|              -5.812|                        0.361|Saint Petersburg| Russia|  60.27N|   29.19E|\n",
            "|1901-04-01|               2.197|          0.34700000000000003|Saint Petersburg| Russia|  60.27N|   29.19E|\n",
            "|1901-05-01|   8.052999999999999|                        0.386|Saint Petersburg| Russia|  60.27N|   29.19E|\n",
            "|1901-06-01|  15.880999999999998|                        0.482|Saint Petersburg| Russia|  60.27N|   29.19E|\n",
            "|1901-07-01|              18.433|                         0.56|Saint Petersburg| Russia|  60.27N|   29.19E|\n",
            "|1901-08-01|  17.025000000000002|                        0.319|Saint Petersburg| Russia|  60.27N|   29.19E|\n",
            "|1901-09-01|  11.754000000000001|                        0.534|Saint Petersburg| Russia|  60.27N|   29.19E|\n",
            "+----------+--------------------+-----------------------------+----------------+-------+--------+---------+\n",
            "only showing top 20 rows\n",
            "\n"
          ]
        }
      ]
    },
    {
      "cell_type": "code",
      "source": [
        "# Avg/Min/Max temperature\n",
        "\n",
        "stat_temp = filter_spb.select(\n",
        "    avg(\"AverageTemperature\").alias(\"Avg_temperature\"),\n",
        "    min(\"AverageTemperature\").alias(\"Min_temperature\"),\n",
        "    max(\"AverageTemperature\").alias(\"Max_temperature\")\n",
        "    )\n",
        "stat_temp.show()"
      ],
      "metadata": {
        "colab": {
          "base_uri": "https://localhost:8080/"
        },
        "id": "h1ZoSL9vPCN9",
        "outputId": "cfad1297-32ad-4840-aeb1-482724c20c97"
      },
      "execution_count": 70,
      "outputs": [
        {
          "output_type": "stream",
          "name": "stdout",
          "text": [
            "+-----------------+--------------------+-----------------+\n",
            "|  Avg_temperature|     Min_temperature|  Max_temperature|\n",
            "+-----------------+--------------------+-----------------+\n",
            "|4.344805575935429|-0.00100000000000...|9.966000000000001|\n",
            "+-----------------+--------------------+-----------------+\n",
            "\n"
          ]
        }
      ]
    },
    {
      "cell_type": "code",
      "source": [
        "# filter julio 1991 - 2012\n",
        "filter_spb_1991_2012 = filter_spb.filter((col(\"dt\") >= \"1991-01-01\") & (col(\"dt\") <= \"2012-12-01\"))\n",
        "filtered_spb_julio = filter_spb_1991_2012.filter(month(\"dt\") == 7)\n",
        "filtered_spb_julio.show(22)"
      ],
      "metadata": {
        "colab": {
          "base_uri": "https://localhost:8080/"
        },
        "id": "2X05OFCTR8Tc",
        "outputId": "3b131ec2-dc94-46f1-87b6-9274370cf0f8"
      },
      "execution_count": 71,
      "outputs": [
        {
          "output_type": "stream",
          "name": "stdout",
          "text": [
            "+----------+------------------+-----------------------------+----------------+-------+--------+---------+\n",
            "|        dt|AverageTemperature|AverageTemperatureUncertainty|            City|Country|Latitude|Longitude|\n",
            "+----------+------------------+-----------------------------+----------------+-------+--------+---------+\n",
            "|1991-07-01|            16.968|          0.32299999999999995|Saint Petersburg| Russia|  60.27N|   29.19E|\n",
            "|1992-07-01|            16.348|                        0.262|Saint Petersburg| Russia|  60.27N|   29.19E|\n",
            "|1993-07-01|            15.581|                        0.168|Saint Petersburg| Russia|  60.27N|   29.19E|\n",
            "|1994-07-01|             18.48|          0.28800000000000003|Saint Petersburg| Russia|  60.27N|   29.19E|\n",
            "|1995-07-01|            15.148|                        0.311|Saint Petersburg| Russia|  60.27N|   29.19E|\n",
            "|1996-07-01|            14.755|                        0.279|Saint Petersburg| Russia|  60.27N|   29.19E|\n",
            "|1997-07-01|            17.977|           0.4920000000000001|Saint Petersburg| Russia|  60.27N|   29.19E|\n",
            "|1998-07-01|            16.549|                         0.25|Saint Petersburg| Russia|  60.27N|   29.19E|\n",
            "|1999-07-01|18.505000000000006|                        0.322|Saint Petersburg| Russia|  60.27N|   29.19E|\n",
            "|2000-07-01|            16.887|                         0.27|Saint Petersburg| Russia|  60.27N|   29.19E|\n",
            "|2001-07-01|            20.199|                        0.221|Saint Petersburg| Russia|  60.27N|   29.19E|\n",
            "|2002-07-01|18.944000000000003|                        0.267|Saint Petersburg| Russia|  60.27N|   29.19E|\n",
            "|2003-07-01|            19.782|                        0.319|Saint Petersburg| Russia|  60.27N|   29.19E|\n",
            "|2004-07-01|16.845000000000002|                        0.246|Saint Petersburg| Russia|  60.27N|   29.19E|\n",
            "|2005-07-01|            18.366|                        0.248|Saint Petersburg| Russia|  60.27N|   29.19E|\n",
            "|2006-07-01|            17.581|                        0.232|Saint Petersburg| Russia|  60.27N|   29.19E|\n",
            "|2007-07-01|16.868000000000002|                        0.179|Saint Petersburg| Russia|  60.27N|   29.19E|\n",
            "|2008-07-01|            16.221|                        0.269|Saint Petersburg| Russia|  60.27N|   29.19E|\n",
            "|2009-07-01|            16.663|                        0.308|Saint Petersburg| Russia|  60.27N|   29.19E|\n",
            "|2010-07-01|            21.921|                        0.265|Saint Petersburg| Russia|  60.27N|   29.19E|\n",
            "|2011-07-01|            20.389|                        0.211|Saint Petersburg| Russia|  60.27N|   29.19E|\n",
            "|2012-07-01|            17.733|                        0.261|Saint Petersburg| Russia|  60.27N|   29.19E|\n",
            "+----------+------------------+-----------------------------+----------------+-------+--------+---------+\n",
            "\n"
          ]
        }
      ]
    },
    {
      "cell_type": "markdown",
      "source": [
        "### Statistics Avg Temperature en San-Petersburg en julio de 1991 a 2012"
      ],
      "metadata": {
        "id": "HdOPk-mNZfSB"
      }
    },
    {
      "cell_type": "code",
      "source": [
        "# falta solo columnas que me interesa\n",
        "filtered_spb_julio = filtered_spb_julio.select(\"dt\",\"AverageTemperature\",\"City\")\n",
        "filtered_spb_julio.show(23)"
      ],
      "metadata": {
        "colab": {
          "base_uri": "https://localhost:8080/"
        },
        "id": "i6aAfQtmQoMM",
        "outputId": "c1ced73b-beb3-4ca6-c9a4-73e4a3096a24"
      },
      "execution_count": 72,
      "outputs": [
        {
          "output_type": "stream",
          "name": "stdout",
          "text": [
            "+----------+------------------+----------------+\n",
            "|        dt|AverageTemperature|            City|\n",
            "+----------+------------------+----------------+\n",
            "|1991-07-01|            16.968|Saint Petersburg|\n",
            "|1992-07-01|            16.348|Saint Petersburg|\n",
            "|1993-07-01|            15.581|Saint Petersburg|\n",
            "|1994-07-01|             18.48|Saint Petersburg|\n",
            "|1995-07-01|            15.148|Saint Petersburg|\n",
            "|1996-07-01|            14.755|Saint Petersburg|\n",
            "|1997-07-01|            17.977|Saint Petersburg|\n",
            "|1998-07-01|            16.549|Saint Petersburg|\n",
            "|1999-07-01|18.505000000000006|Saint Petersburg|\n",
            "|2000-07-01|            16.887|Saint Petersburg|\n",
            "|2001-07-01|            20.199|Saint Petersburg|\n",
            "|2002-07-01|18.944000000000003|Saint Petersburg|\n",
            "|2003-07-01|            19.782|Saint Petersburg|\n",
            "|2004-07-01|16.845000000000002|Saint Petersburg|\n",
            "|2005-07-01|            18.366|Saint Petersburg|\n",
            "|2006-07-01|            17.581|Saint Petersburg|\n",
            "|2007-07-01|16.868000000000002|Saint Petersburg|\n",
            "|2008-07-01|            16.221|Saint Petersburg|\n",
            "|2009-07-01|            16.663|Saint Petersburg|\n",
            "|2010-07-01|            21.921|Saint Petersburg|\n",
            "|2011-07-01|            20.389|Saint Petersburg|\n",
            "|2012-07-01|            17.733|Saint Petersburg|\n",
            "+----------+------------------+----------------+\n",
            "\n"
          ]
        }
      ]
    },
    {
      "cell_type": "markdown",
      "source": [
        "### Min y Max avg temp por cuidad"
      ],
      "metadata": {
        "id": "eUbhS8zMa0XS"
      }
    },
    {
      "cell_type": "code",
      "source": [
        "min_max_temp_cuidad = Temperatures_GlobalDF.groupBy(\"City\") \\\n",
        "  .agg(\n",
        "      max(\"AverageTemperature\").alias(\"max_temp\"),\n",
        "      min(\"AverageTemperature\").alias(\"min_temp\")\n",
        "  ) \\\n",
        "  .show()"
      ],
      "metadata": {
        "colab": {
          "base_uri": "https://localhost:8080/"
        },
        "id": "FTQ3YSMCaXCG",
        "outputId": "e3b6d9fc-2c44-4490-eefb-d3b3b518a9fd"
      },
      "execution_count": 73,
      "outputs": [
        {
          "output_type": "stream",
          "name": "stdout",
          "text": [
            "+--------------+------------------+--------------------+\n",
            "|          City|          max_temp|            min_temp|\n",
            "+--------------+------------------+--------------------+\n",
            "|       Abidjan|29.923000000000002|  22.363000000000003|\n",
            "|   Addis Abeba|21.223000000000003|              14.528|\n",
            "|     Ahmadabad| 35.41900000000001|              16.792|\n",
            "|        Aleppo|              9.98|  0.6699999999999999|\n",
            "|    Alexandria|            28.806|              10.227|\n",
            "|        Ankara| 9.988999999999999|-0.01400000000000...|\n",
            "|       Baghdad|             9.992|              10.024|\n",
            "|     Bangalore|            29.688|              20.257|\n",
            "|       Bangkok|            31.115|  21.894000000000002|\n",
            "|Belo Horizonte|25.226000000000006|               15.92|\n",
            "|        Berlin|             9.971|-0.01700000000000...|\n",
            "|        Bogotá|22.508000000000006|  17.932000000000002|\n",
            "|        Bombay|            30.682|               21.01|\n",
            "|      Brasília|25.933000000000003|  17.208000000000002|\n",
            "|         Cairo|             9.137|  10.325999999999999|\n",
            "|      Calcutta|            32.815|  15.253000000000002|\n",
            "|          Cali|            24.475|              19.808|\n",
            "|     Cape Town|             9.997|              10.091|\n",
            "|    Casablanca|             9.998|  10.002999999999998|\n",
            "|     Changchun|             9.853|-0.02300000000000013|\n",
            "+--------------+------------------+--------------------+\n",
            "only showing top 20 rows\n",
            "\n"
          ]
        }
      ]
    },
    {
      "cell_type": "code",
      "source": [
        "# import library\n",
        "from pyspark.sql.window import Window"
      ],
      "metadata": {
        "id": "aN7jdMYhTZoL"
      },
      "execution_count": 74,
      "outputs": []
    },
    {
      "cell_type": "markdown",
      "source": [
        "### Most hot date for each city"
      ],
      "metadata": {
        "id": "IM2FZXNYZLXj"
      }
    },
    {
      "cell_type": "code",
      "source": [
        "# now we apply the window partitioning\n",
        "byAvgTemp = Window.partitionBy(\"City\").orderBy(col(\"AverageTemperature\").desc())\n",
        "\n",
        "byAvgTempDF = Temperatures_GlobalDF.withColumn(\"rank_temp\", row_number().over(byAvgTemp)).filter(col(\"rank_temp\") <= 1)\n",
        "byAvgTempDF = byAvgTempDF.select(\"dt\",\"AverageTemperature\",\"City\", \"Country\")\n",
        "byAvgTempDF.show()"
      ],
      "metadata": {
        "colab": {
          "base_uri": "https://localhost:8080/"
        },
        "id": "3zUXqtzqVznp",
        "outputId": "9f10b10b-86c7-4e32-870c-cea8a08397e2"
      },
      "execution_count": 75,
      "outputs": [
        {
          "output_type": "stream",
          "name": "stdout",
          "text": [
            "+----------+------------------+--------------+-------------+\n",
            "|        dt|AverageTemperature|          City|      Country|\n",
            "+----------+------------------+--------------+-------------+\n",
            "|1998-03-01|29.923000000000002|       Abidjan|Côte D'Ivoire|\n",
            "|2011-04-01|21.223000000000003|   Addis Abeba|     Ethiopia|\n",
            "|2010-05-01| 35.41900000000001|     Ahmadabad|        India|\n",
            "|1846-11-01|              9.98|        Aleppo|        Syria|\n",
            "|2010-08-01|            28.806|    Alexandria|        Egypt|\n",
            "|1897-04-01| 9.988999999999999|        Ankara|       Turkey|\n",
            "|1839-01-01|             9.992|       Baghdad|         Iraq|\n",
            "|1998-04-01|            29.688|     Bangalore|        India|\n",
            "|2010-05-01|            31.115|       Bangkok|     Thailand|\n",
            "|1984-02-01|25.226000000000006|Belo Horizonte|       Brazil|\n",
            "|1962-04-01|             9.971|        Berlin|      Germany|\n",
            "|2010-02-01|22.508000000000006|        Bogotá|     Colombia|\n",
            "|2010-05-01|            30.682|        Bombay|        India|\n",
            "|2005-10-01|25.933000000000003|      Brasília|       Brazil|\n",
            "|1813-01-01|             9.137|         Cairo|        Egypt|\n",
            "|1957-05-01|            32.815|      Calcutta|        India|\n",
            "|1998-01-01|            24.475|          Cali|     Colombia|\n",
            "|1915-07-01|             9.997|     Cape Town| South Africa|\n",
            "|1903-01-01|             9.998|    Casablanca|      Morocco|\n",
            "|1981-04-01|             9.853|     Changchun|        China|\n",
            "+----------+------------------+--------------+-------------+\n",
            "only showing top 20 rows\n",
            "\n"
          ]
        }
      ]
    }
  ],
  "metadata": {
    "colab": {
      "collapsed_sections": [
        "94aRTBiPQ9Jc"
      ],
      "provenance": []
    },
    "kernelspec": {
      "display_name": "Python 3.10.0 64-bit",
      "language": "python",
      "name": "python3"
    },
    "language_info": {
      "codemirror_mode": {
        "name": "ipython",
        "version": 3
      },
      "file_extension": ".py",
      "mimetype": "text/x-python",
      "name": "python",
      "nbconvert_exporter": "python",
      "pygments_lexer": "ipython3",
      "version": "3.10.0"
    },
    "orig_nbformat": 4,
    "vscode": {
      "interpreter": {
        "hash": "ff1af5cda0bea4fe5c4ebc1f94ab9f13d8998f98d08e16d8aba48673b9d00116"
      }
    }
  },
  "nbformat": 4,
  "nbformat_minor": 0
}