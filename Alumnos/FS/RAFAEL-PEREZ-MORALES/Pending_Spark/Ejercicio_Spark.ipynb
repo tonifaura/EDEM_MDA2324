{
  "nbformat": 4,
  "nbformat_minor": 0,
  "metadata": {
    "colab": {
      "provenance": []
    },
    "kernelspec": {
      "name": "python3",
      "display_name": "Python 3"
    },
    "language_info": {
      "name": "python"
    }
  },
  "cells": [
    {
      "cell_type": "code",
      "execution_count": null,
      "metadata": {
        "id": "JZ-KFZZWd0ks"
      },
      "outputs": [],
      "source": [
        "# install Java8\n",
        "!apt-get install openjdk-8-jdk-headless -qq > /dev/null\n",
        "# download spark 3.5.0\n",
        "!wget -q https://apache.osuosl.org/spark/spark-3.5.0/spark-3.5.0-bin-hadoop3.tgz"
      ]
    },
    {
      "cell_type": "code",
      "source": [
        "ls -l # check the .tgz is there"
      ],
      "metadata": {
        "colab": {
          "base_uri": "https://localhost:8080/"
        },
        "id": "J8WQE3o_d7NY",
        "outputId": "a77f219c-f9d3-4724-e7af-98b0c8485f1b"
      },
      "execution_count": null,
      "outputs": [
        {
          "output_type": "stream",
          "name": "stdout",
          "text": [
            "total 782040\n",
            "drwxr-xr-x  2 root root      4096 Jan 13 10:59 \u001b[0m\u001b[01;34mdataset\u001b[0m/\n",
            "drwx------  5 root root      4096 Jan 13 11:59 \u001b[01;34mdrive\u001b[0m/\n",
            "drwxr-xr-x  1 root root      4096 Jan 11 17:02 \u001b[01;34msample_data\u001b[0m/\n",
            "drwxr-xr-x 13 1000 1000      4096 Sep  9 02:08 \u001b[01;34mspark-3.5.0-bin-hadoop3\u001b[0m/\n",
            "-rw-r--r--  1 root root 400395283 Sep  9 02:10 spark-3.5.0-bin-hadoop3.tgz\n",
            "-rw-r--r--  1 root root 400395283 Sep  9 02:10 spark-3.5.0-bin-hadoop3.tgz.1\n"
          ]
        }
      ]
    },
    {
      "cell_type": "code",
      "source": [
        "# unzip it\n",
        "!tar xf spark-3.5.0-bin-hadoop3.tgz"
      ],
      "metadata": {
        "id": "Tsn8q66Vd94I"
      },
      "execution_count": null,
      "outputs": []
    },
    {
      "cell_type": "code",
      "source": [
        "!pip install -q findspark"
      ],
      "metadata": {
        "id": "-wWSwocFd_Pe"
      },
      "execution_count": null,
      "outputs": []
    },
    {
      "cell_type": "code",
      "source": [
        "!pip install py4j\n",
        "\n",
        "# For maps\n",
        "!pip install folium\n",
        "!pip install plotly"
      ],
      "metadata": {
        "colab": {
          "base_uri": "https://localhost:8080/"
        },
        "id": "IjuuKuIheBOG",
        "outputId": "5833fab7-f9d7-4ca3-e1ef-3301baaee23e"
      },
      "execution_count": null,
      "outputs": [
        {
          "output_type": "stream",
          "name": "stdout",
          "text": [
            "Requirement already satisfied: py4j in /usr/local/lib/python3.10/dist-packages (0.10.9.7)\n",
            "Requirement already satisfied: folium in /usr/local/lib/python3.10/dist-packages (0.14.0)\n",
            "Requirement already satisfied: branca>=0.6.0 in /usr/local/lib/python3.10/dist-packages (from folium) (0.7.0)\n",
            "Requirement already satisfied: jinja2>=2.9 in /usr/local/lib/python3.10/dist-packages (from folium) (3.1.2)\n",
            "Requirement already satisfied: numpy in /usr/local/lib/python3.10/dist-packages (from folium) (1.23.5)\n",
            "Requirement already satisfied: requests in /usr/local/lib/python3.10/dist-packages (from folium) (2.31.0)\n",
            "Requirement already satisfied: MarkupSafe>=2.0 in /usr/local/lib/python3.10/dist-packages (from jinja2>=2.9->folium) (2.1.3)\n",
            "Requirement already satisfied: charset-normalizer<4,>=2 in /usr/local/lib/python3.10/dist-packages (from requests->folium) (3.3.2)\n",
            "Requirement already satisfied: idna<4,>=2.5 in /usr/local/lib/python3.10/dist-packages (from requests->folium) (3.6)\n",
            "Requirement already satisfied: urllib3<3,>=1.21.1 in /usr/local/lib/python3.10/dist-packages (from requests->folium) (2.0.7)\n",
            "Requirement already satisfied: certifi>=2017.4.17 in /usr/local/lib/python3.10/dist-packages (from requests->folium) (2023.11.17)\n",
            "Requirement already satisfied: plotly in /usr/local/lib/python3.10/dist-packages (5.15.0)\n",
            "Requirement already satisfied: tenacity>=6.2.0 in /usr/local/lib/python3.10/dist-packages (from plotly) (8.2.3)\n",
            "Requirement already satisfied: packaging in /usr/local/lib/python3.10/dist-packages (from plotly) (23.2)\n"
          ]
        }
      ]
    },
    {
      "cell_type": "code",
      "source": [
        "import os\n",
        "os.environ[\"JAVA_HOME\"] = \"/usr/lib/jvm/java-8-openjdk-amd64\"\n",
        "os.environ[\"SPARK_HOME\"] = \"/content/spark-3.5.0-bin-hadoop3\"\n",
        "os.environ[\"PYSPARK_SUBMIT_ARGS\"] = \"--master local[*] pyspark-shell\""
      ],
      "metadata": {
        "id": "vIN7yNDKeDEF"
      },
      "execution_count": null,
      "outputs": []
    },
    {
      "cell_type": "code",
      "source": [
        "import findspark\n",
        "findspark.init(\"spark-3.5.0-bin-hadoop3\")# SPARK_HOME\n",
        "\n",
        "from pyspark.sql import SparkSession\n",
        "\n",
        "# create the session\n",
        "spark = SparkSession \\\n",
        "        .builder \\\n",
        "        .appName(\"Joins\") \\\n",
        "        .master(\"local[*]\") \\\n",
        "        .getOrCreate()\n",
        "\n",
        "spark.version"
      ],
      "metadata": {
        "colab": {
          "base_uri": "https://localhost:8080/",
          "height": 36
        },
        "id": "CKiCsbVYeFHU",
        "outputId": "cbf80a17-57ed-4f44-e01b-27724f9ad73a"
      },
      "execution_count": null,
      "outputs": [
        {
          "output_type": "execute_result",
          "data": {
            "text/plain": [
              "'3.5.0'"
            ],
            "application/vnd.google.colaboratory.intrinsic+json": {
              "type": "string"
            }
          },
          "metadata": {},
          "execution_count": 7
        }
      ]
    },
    {
      "cell_type": "code",
      "source": [
        "spark"
      ],
      "metadata": {
        "colab": {
          "base_uri": "https://localhost:8080/",
          "height": 219
        },
        "id": "OAtclMHqeGL5",
        "outputId": "499779aa-e0a8-4897-bfec-772c19787d38"
      },
      "execution_count": null,
      "outputs": [
        {
          "output_type": "execute_result",
          "data": {
            "text/plain": [
              "<pyspark.sql.session.SparkSession at 0x786dbc0edea0>"
            ],
            "text/html": [
              "\n",
              "            <div>\n",
              "                <p><b>SparkSession - in-memory</b></p>\n",
              "                \n",
              "        <div>\n",
              "            <p><b>SparkContext</b></p>\n",
              "\n",
              "            <p><a href=\"http://eb7ff3c87aed:4040\">Spark UI</a></p>\n",
              "\n",
              "            <dl>\n",
              "              <dt>Version</dt>\n",
              "                <dd><code>v3.5.0</code></dd>\n",
              "              <dt>Master</dt>\n",
              "                <dd><code>local[*]</code></dd>\n",
              "              <dt>AppName</dt>\n",
              "                <dd><code>Joins</code></dd>\n",
              "            </dl>\n",
              "        </div>\n",
              "        \n",
              "            </div>\n",
              "        "
            ]
          },
          "metadata": {},
          "execution_count": 8
        }
      ]
    },
    {
      "cell_type": "code",
      "source": [
        "# Import sql functions\n",
        "from pyspark.sql.functions import *"
      ],
      "metadata": {
        "id": "pTJAV6bLeIUC"
      },
      "execution_count": null,
      "outputs": []
    },
    {
      "cell_type": "code",
      "source": [
        "!mkdir -p dataset\n",
        "!wget -q https://raw.githubusercontent.com/paponsro/spark_edem_2324/master/dataset/guitars.json -P /dataset\n",
        "!wget -q https://raw.githubusercontent.com/paponsro/spark_edem_2324/master/dataset/guitarPlayers.json -P /dataset\n",
        "!wget -q https://raw.githubusercontent.com/paponsro/spark_edem_2324/master/dataset/bands.json -P /dataset\n",
        "!wget -q https://raw.githubusercontent.com/paponsro/spark_edem_2324/master/dataset/employees.csv -P /dataset\n",
        "!wget -q https://raw.githubusercontent.com/paponsro/spark_edem_2324/master/dataset/salaries.csv -P /dataset\n",
        "!wget -q https://raw.githubusercontent.com/paponsro/spark_edem_2324/master/dataset/deptmanagers.csv -P /dataset\n",
        "!wget -q https://raw.githubusercontent.com/paponsro/spark_edem_2324/master/dataset/titles.csv -P /dataset\n",
        "!ls /dataset"
      ],
      "metadata": {
        "colab": {
          "base_uri": "https://localhost:8080/"
        },
        "id": "bRS7Cn8KeKWc",
        "outputId": "74b3c56a-3f6e-4561-81b1-c9768557f9cc"
      },
      "execution_count": null,
      "outputs": [
        {
          "output_type": "stream",
          "name": "stdout",
          "text": [
            "bands.json\t  deptmanagers.csv.1  guitarPlayers.json    guitars.json.1  titles.csv\n",
            "bands.json.1\t  employees.csv       guitarPlayers.json.1  salaries.csv    titles.csv.1\n",
            "deptmanagers.csv  employees.csv.1     guitars.json\t    salaries.csv.1\n"
          ]
        }
      ]
    },
    {
      "cell_type": "code",
      "source": [
        "from google.colab import drive\n",
        "drive.mount('/content/drive')\n",
        "\n",
        "file_path = '/content/drive/MyDrive/imdb_top_1000.csv'\n",
        "\n",
        "df = spark.read.csv(file_path, header=True, inferSchema=True)\n",
        "\n",
        "df.printSchema()\n",
        "\n",
        "df.show()"
      ],
      "metadata": {
        "colab": {
          "base_uri": "https://localhost:8080/"
        },
        "id": "Tg3n0aJVi7wd",
        "outputId": "9dfbd1c0-2ad5-4b77-d72c-0e947e6171b3"
      },
      "execution_count": null,
      "outputs": [
        {
          "output_type": "stream",
          "name": "stdout",
          "text": [
            "Drive already mounted at /content/drive; to attempt to forcibly remount, call drive.mount(\"/content/drive\", force_remount=True).\n",
            "root\n",
            " |-- Poster_Link: string (nullable = true)\n",
            " |-- Series_Title: string (nullable = true)\n",
            " |-- Released_Year: string (nullable = true)\n",
            " |-- Certificate: string (nullable = true)\n",
            " |-- Runtime: string (nullable = true)\n",
            " |-- Genre: string (nullable = true)\n",
            " |-- IMDB_Rating: double (nullable = true)\n",
            " |-- Overview: string (nullable = true)\n",
            " |-- Meta_score: string (nullable = true)\n",
            " |-- Director: string (nullable = true)\n",
            " |-- Star1: string (nullable = true)\n",
            " |-- Star2: string (nullable = true)\n",
            " |-- Star3: string (nullable = true)\n",
            " |-- Star4: string (nullable = true)\n",
            " |-- No_of_Votes: string (nullable = true)\n",
            " |-- Gross: string (nullable = true)\n",
            "\n",
            "+--------------------+--------------------+-------------+-----------+-------+--------------------+-----------+--------------------+----------+--------------------+------------------+--------------------+------------------+--------------------+-----------+-----------+\n",
            "|         Poster_Link|        Series_Title|Released_Year|Certificate|Runtime|               Genre|IMDB_Rating|            Overview|Meta_score|            Director|             Star1|               Star2|             Star3|               Star4|No_of_Votes|      Gross|\n",
            "+--------------------+--------------------+-------------+-----------+-------+--------------------+-----------+--------------------+----------+--------------------+------------------+--------------------+------------------+--------------------+-----------+-----------+\n",
            "|https://m.media-a...|The Shawshank Red...|         1994|          A|142 min|               Drama|        9.3|Two imprisoned me...|        80|      Frank Darabont|       Tim Robbins|      Morgan Freeman|        Bob Gunton|      William Sadler|    2343110| 28,341,469|\n",
            "|https://m.media-a...|       The Godfather|         1972|          A|175 min|        Crime, Drama|        9.2|An organized crim...|       100|Francis Ford Coppola|     Marlon Brando|           Al Pacino|        James Caan|        Diane Keaton|    1620367|134,966,411|\n",
            "|https://m.media-a...|     The Dark Knight|         2008|         UA|152 min|Action, Crime, Drama|        9.0|When the menace k...|        84|   Christopher Nolan|    Christian Bale|        Heath Ledger|     Aaron Eckhart|       Michael Caine|    2303232|534,858,444|\n",
            "|https://m.media-a...|The Godfather: Pa...|         1974|          A|202 min|        Crime, Drama|        9.0|The early life an...|        90|Francis Ford Coppola|         Al Pacino|      Robert De Niro|     Robert Duvall|        Diane Keaton|    1129952| 57,300,000|\n",
            "|https://m.media-a...|        12 Angry Men|         1957|          U| 96 min|        Crime, Drama|        9.0|A jury holdout at...|        96|        Sidney Lumet|       Henry Fonda|         Lee J. Cobb|     Martin Balsam|        John Fiedler|     689845|  4,360,000|\n",
            "|https://m.media-a...|The Lord of the R...|         2003|          U|201 min|Action, Adventure...|        8.9|Gandalf and Arago...|        94|       Peter Jackson|       Elijah Wood|     Viggo Mortensen|      Ian McKellen|       Orlando Bloom|    1642758|377,845,905|\n",
            "|https://m.media-a...|        Pulp Fiction|         1994|          A|154 min|        Crime, Drama|        8.9|The lives of two ...|        94|   Quentin Tarantino|     John Travolta|         Uma Thurman| Samuel L. Jackson|        Bruce Willis|    1826188|107,928,762|\n",
            "|https://m.media-a...|    Schindler's List|         1993|          A|195 min|Biography, Drama,...|        8.9|In German-occupie...|        94|    Steven Spielberg|       Liam Neeson|       Ralph Fiennes|      Ben Kingsley|    Caroline Goodall|    1213505| 96,898,818|\n",
            "|https://m.media-a...|           Inception|         2010|         UA|148 min|Action, Adventure...|        8.8|A thief who steal...|        74|   Christopher Nolan| Leonardo DiCaprio|Joseph Gordon-Levitt|       Elliot Page|        Ken Watanabe|    2067042|292,576,195|\n",
            "|https://m.media-a...|          Fight Club|         1999|          A|139 min|               Drama|        8.8|An insomniac offi...|        66|       David Fincher|         Brad Pitt|       Edward Norton|         Meat Loaf|        Zach Grenier|    1854740| 37,030,102|\n",
            "|https://m.media-a...|The Lord of the R...|         2001|          U|178 min|Action, Adventure...|        8.8|A meek Hobbit fro...|        92|       Peter Jackson|       Elijah Wood|        Ian McKellen|     Orlando Bloom|           Sean Bean|    1661481|315,544,750|\n",
            "|https://m.media-a...|        Forrest Gump|         1994|         UA|142 min|      Drama, Romance|        8.8|The presidencies ...|        82|     Robert Zemeckis|         Tom Hanks|        Robin Wright|       Gary Sinise|         Sally Field|    1809221|330,252,182|\n",
            "|https://m.media-a...|Il buono, il brut...|         1966|          A|161 min|             Western|        8.8|A bounty hunting ...|        90|        Sergio Leone|    Clint Eastwood|         Eli Wallach|     Lee Van Cleef|        Aldo Giuffrè|     688390|  6,100,000|\n",
            "|https://m.media-a...|The Lord of the R...|         2002|         UA|179 min|Action, Adventure...|        8.7|While Frodo and S...|        87|       Peter Jackson|       Elijah Wood|        Ian McKellen|   Viggo Mortensen|       Orlando Bloom|    1485555|342,551,365|\n",
            "|https://m.media-a...|          The Matrix|         1999|          A|136 min|      Action, Sci-Fi|        8.7|When a beautiful ...|        73|      Lana Wachowski|   Lilly Wachowski|        Keanu Reeves|Laurence Fishburne|    Carrie-Anne Moss|    1676426|171,479,930|\n",
            "|https://m.media-a...|          Goodfellas|         1990|          A|146 min|Biography, Crime,...|        8.7|The story of Henr...|        90|     Martin Scorsese|    Robert De Niro|          Ray Liotta|         Joe Pesci|     Lorraine Bracco|    1020727| 46,836,394|\n",
            "|https://m.media-a...|Star Wars: Episod...|         1980|         UA|124 min|Action, Adventure...|        8.7|After the Rebels ...|        82|      Irvin Kershner|       Mark Hamill|       Harrison Ford|     Carrie Fisher|  Billy Dee Williams|    1159315|290,475,067|\n",
            "|https://m.media-a...|One Flew Over the...|         1975|          A|133 min|               Drama|        8.7|A criminal pleads...|        83|        Milos Forman|    Jack Nicholson|     Louise Fletcher|  Michael Berryman|        Peter Brocco|     918088|112,000,000|\n",
            "|https://m.media-a...|            Hamilton|         2020|      PG-13|160 min|Biography, Drama,...|        8.6|The real life of ...|        90|         Thomas Kail|Lin-Manuel Miranda|        Phillipa Soo|   Leslie Odom Jr.|Renée Elise Golds...|      55291|       NULL|\n",
            "|https://m.media-a...|        Gisaengchung|         2019|          A|132 min|Comedy, Drama, Th...|        8.6|Greed and class d...|        96|        Bong Joon Ho|      Kang-ho Song|        Lee Sun-kyun|     Cho Yeo-jeong|        Choi Woo-sik|     552778| 53,367,844|\n",
            "+--------------------+--------------------+-------------+-----------+-------+--------------------+-----------+--------------------+----------+--------------------+------------------+--------------------+------------------+--------------------+-----------+-----------+\n",
            "only showing top 20 rows\n",
            "\n"
          ]
        }
      ]
    },
    {
      "cell_type": "code",
      "source": [
        "threshold = 8.0\n",
        "high_rated_movies = df.filter(col(\"IMDB_Rating\") > threshold).count()\n",
        "print(f\"Número de películas con calificación IMDB superior a {threshold}: {high_rated_movies}\")"
      ],
      "metadata": {
        "colab": {
          "base_uri": "https://localhost:8080/"
        },
        "id": "J9a_Zveks8AD",
        "outputId": "29bb6a45-a933-4152-c67c-c4be404d3925"
      },
      "execution_count": null,
      "outputs": [
        {
          "output_type": "stream",
          "name": "stdout",
          "text": [
            "Número de películas con calificación IMDB superior a 8.0: 322\n"
          ]
        }
      ]
    },
    {
      "cell_type": "code",
      "source": [
        "df = df.withColumn(\"Genre\", explode(split(col(\"Genre\"), \", \")))\n",
        "\n",
        "genre_counts = df.groupBy(\"Genre\").count().orderBy(\"count\", ascending=False)\n",
        "genre_counts.show()"
      ],
      "metadata": {
        "colab": {
          "base_uri": "https://localhost:8080/"
        },
        "id": "6D6x5hVEs-wW",
        "outputId": "7010e247-cfd3-4eea-e3a5-bda95a724379"
      },
      "execution_count": null,
      "outputs": [
        {
          "output_type": "stream",
          "name": "stdout",
          "text": [
            "+---------+-----+\n",
            "|    Genre|count|\n",
            "+---------+-----+\n",
            "|    Drama|  724|\n",
            "|   Comedy|  233|\n",
            "|    Crime|  209|\n",
            "|Adventure|  196|\n",
            "|   Action|  189|\n",
            "| Thriller|  137|\n",
            "|  Romance|  125|\n",
            "|Biography|  109|\n",
            "|  Mystery|   99|\n",
            "|Animation|   82|\n",
            "|   Sci-Fi|   67|\n",
            "|  Fantasy|   66|\n",
            "|   Family|   56|\n",
            "|  History|   56|\n",
            "|      War|   51|\n",
            "|    Music|   35|\n",
            "|   Horror|   32|\n",
            "|  Western|   20|\n",
            "|Film-Noir|   19|\n",
            "|    Sport|   19|\n",
            "+---------+-----+\n",
            "only showing top 20 rows\n",
            "\n"
          ]
        }
      ]
    },
    {
      "cell_type": "code",
      "source": [
        "year_counts = df.groupBy(\"Released_Year\").count().orderBy(\"Released_Year\")\n",
        "year_counts.show()"
      ],
      "metadata": {
        "colab": {
          "base_uri": "https://localhost:8080/"
        },
        "id": "broUlm4QtZFA",
        "outputId": "54c82259-7544-4204-f80b-57f9c609dd0b"
      },
      "execution_count": null,
      "outputs": [
        {
          "output_type": "stream",
          "name": "stdout",
          "text": [
            "+-------------+-----+\n",
            "|Released_Year|count|\n",
            "+-------------+-----+\n",
            "|         1920|    3|\n",
            "|         1921|    3|\n",
            "|         1922|    2|\n",
            "|         1924|    3|\n",
            "|         1925|    6|\n",
            "|         1926|    3|\n",
            "|         1927|    4|\n",
            "|         1928|    5|\n",
            "|         1930|    2|\n",
            "|         1931|    9|\n",
            "|         1932|    5|\n",
            "|         1933|    8|\n",
            "|         1934|    5|\n",
            "|         1935|    9|\n",
            "|         1936|    3|\n",
            "|         1937|    2|\n",
            "|         1938|    8|\n",
            "|         1939|   13|\n",
            "|         1940|   19|\n",
            "|         1941|    4|\n",
            "+-------------+-----+\n",
            "only showing top 20 rows\n",
            "\n"
          ]
        }
      ]
    },
    {
      "cell_type": "code",
      "source": [
        "certificate_counts = df.groupBy(\"Certificate\").count().orderBy(\"count\", ascending=False)\n",
        "certificate_counts.show()"
      ],
      "metadata": {
        "colab": {
          "base_uri": "https://localhost:8080/"
        },
        "id": "aVFBOjXvtdpp",
        "outputId": "f662a406-1d48-4aa7-b423-dd833b4a9cb4"
      },
      "execution_count": null,
      "outputs": [
        {
          "output_type": "stream",
          "name": "stdout",
          "text": [
            "+-----------+-----+\n",
            "|Certificate|count|\n",
            "+-----------+-----+\n",
            "|          U|  618|\n",
            "|          A|  489|\n",
            "|         UA|  457|\n",
            "|          R|  361|\n",
            "|       NULL|  235|\n",
            "|         PG|  101|\n",
            "|      PG-13|  100|\n",
            "|     Passed|   92|\n",
            "|          G|   32|\n",
            "|   Approved|   30|\n",
            "|      TV-PG|    7|\n",
            "|         GP|    6|\n",
            "|    Unrated|    3|\n",
            "|         16|    3|\n",
            "|      TV-MA|    3|\n",
            "|        U/A|    3|\n",
            "|      TV-14|    1|\n",
            "+-----------+-----+\n",
            "\n"
          ]
        }
      ]
    },
    {
      "cell_type": "code",
      "source": [
        "director_counts = df.groupBy(\"Director\").count().orderBy(\"count\", ascending=False)\n",
        "director_counts.show()"
      ],
      "metadata": {
        "colab": {
          "base_uri": "https://localhost:8080/"
        },
        "id": "nNueOxdjt9Kb",
        "outputId": "51c2d2a9-708f-48c3-dc94-a3460a54baa2"
      },
      "execution_count": null,
      "outputs": [
        {
          "output_type": "stream",
          "name": "stdout",
          "text": [
            "+-----------------+-----+\n",
            "|         Director|count|\n",
            "+-----------------+-----+\n",
            "| Alfred Hitchcock|   37|\n",
            "|   Hayao Miyazaki|   33|\n",
            "| Steven Spielberg|   29|\n",
            "|  Martin Scorsese|   27|\n",
            "|   Akira Kurosawa|   26|\n",
            "|     Billy Wilder|   24|\n",
            "|  Stanley Kubrick|   21|\n",
            "|Christopher Nolan|   21|\n",
            "|     Howard Hawks|   21|\n",
            "|    David Fincher|   21|\n",
            "|Quentin Tarantino|   21|\n",
            "|      Woody Allen|   20|\n",
            "|       Rob Reiner|   17|\n",
            "|   Clint Eastwood|   17|\n",
            "|  Charles Chaplin|   17|\n",
            "|     Ridley Scott|   17|\n",
            "|     Wes Anderson|   17|\n",
            "|        Joel Coen|   15|\n",
            "|   Alfonso Cuarón|   14|\n",
            "|      John Huston|   14|\n",
            "+-----------------+-----+\n",
            "only showing top 20 rows\n",
            "\n"
          ]
        }
      ]
    },
    {
      "cell_type": "code",
      "source": [
        "from pyspark.sql.window import Window\n",
        "\n",
        "df = df.withColumn(\"Gross\", df[\"Gross\"].cast(\"double\"))\n",
        "\n",
        "window_spec = Window.partitionBy(\"Genre\").orderBy(desc(\"Gross\"))\n",
        "\n",
        "df = df.withColumn(\"rank\", row_number().over(window_spec))\n",
        "\n",
        "result_df = df.filter(\"rank <= 2\")\n",
        "\n",
        "result_df.show()"
      ],
      "metadata": {
        "colab": {
          "base_uri": "https://localhost:8080/"
        },
        "id": "mLC5yYgMved6",
        "outputId": "16c6b370-8603-403d-97cb-1deb08b21aa4"
      },
      "execution_count": 25,
      "outputs": [
        {
          "output_type": "stream",
          "name": "stdout",
          "text": [
            "+--------------------+--------------------+-------------+-----------+-------+---------+-----------+--------------------+--------------------+----------------+------------------+--------------------+------------------+------------------+---------------+---------+----+\n",
            "|         Poster_Link|        Series_Title|Released_Year|Certificate|Runtime|    Genre|IMDB_Rating|            Overview|          Meta_score|        Director|             Star1|               Star2|             Star3|             Star4|    No_of_Votes|    Gross|rank|\n",
            "+--------------------+--------------------+-------------+-----------+-------+---------+-----------+--------------------+--------------------+----------------+------------------+--------------------+------------------+------------------+---------------+---------+----+\n",
            "|https://m.media-a...|      V for Vendetta|         2005|          A|132 min|   Action|        8.2|\"In a future Brit...| plots to overthr...|              62|    James McTeigue|        Hugo Weaving|   Natalie Portman|     Rupert Graves|    Stephen Rea|1032749.0|   1|\n",
            "|https://m.media-a...|Indiana Jones and...|         1989|          U|127 min|   Action|        8.2|\"In 1938, after h...| Jr. finds himsel...|              65|  Steven Spielberg|       Harrison Ford|      Sean Connery|      Alison Doody|Denholm Elliott| 692366.0|   2|\n",
            "|https://m.media-a...|Indiana Jones and...|         1989|          U|127 min|Adventure|        8.2|\"In 1938, after h...| Jr. finds himsel...|              65|  Steven Spielberg|       Harrison Ford|      Sean Connery|      Alison Doody|Denholm Elliott| 692366.0|   1|\n",
            "|https://m.media-a...|      The Lego Movie|         2014|          U|100 min|Adventure|        7.7|\"An ordinary LEGO...| is recruited to ...|              83|Christopher Miller|           Phil Lord|       Chris Pratt|      Will Ferrell|Elizabeth Banks| 323982.0|   2|\n",
            "|https://m.media-a...|      The Lego Movie|         2014|          U|100 min|Animation|        7.7|\"An ordinary LEGO...| is recruited to ...|              83|Christopher Miller|           Phil Lord|       Chris Pratt|      Will Ferrell|Elizabeth Banks| 323982.0|   1|\n",
            "|https://m.media-a...|         Toy Story 4|         2019|          U|100 min|Animation|        7.8|\"When a new toy c...| a road trip alon...|              84|       Josh Cooley|           Tom Hanks|         Tim Allen|       Annie Potts|      Tony Hale| 203177.0|   2|\n",
            "|https://m.media-a...|    Schindler's List|         1993|          A|195 min|Biography|        8.9|In German-occupie...|                  94|Steven Spielberg|       Liam Neeson|       Ralph Fiennes|      Ben Kingsley|  Caroline Goodall|        1213505|     NULL|   1|\n",
            "|https://m.media-a...|          Goodfellas|         1990|          A|146 min|Biography|        8.7|The story of Henr...|                  90| Martin Scorsese|    Robert De Niro|          Ray Liotta|         Joe Pesci|   Lorraine Bracco|        1020727|     NULL|   2|\n",
            "|https://m.media-a...|         Toy Story 4|         2019|          U|100 min|   Comedy|        7.8|\"When a new toy c...| a road trip alon...|              84|       Josh Cooley|           Tom Hanks|         Tim Allen|       Annie Potts|      Tony Hale| 203177.0|   1|\n",
            "|https://m.media-a...|  A Hard Day's Night|         1964|          U| 87 min|   Comedy|        7.6|\"Over two \"\"typic...| the boys struggl...|              96|    Richard Lester|         John Lennon|    Paul McCartney|   George Harrison|    Ringo Starr|  40351.0|   2|\n",
            "|https://m.media-a...|         Dirty Harry|         1971|          A|102 min|    Crime|        7.7|\"When a madman ca...| tough-as-nails S...|              90|        Don Siegel|      Clint Eastwood|   Andrew Robinson|    Harry Guardino|   Reni Santoni| 143292.0|   1|\n",
            "|https://m.media-a...|The Day of the Ja...|         1973|          A|143 min|    Crime|        7.8|\"A professional a...| the President of...|              80|    Fred Zinnemann|          Edward Fox| Terence Alexander|    Michel Auclair|     Alan Badel|  37445.0|   2|\n",
            "|https://m.media-a...|      V for Vendetta|         2005|          A|132 min|    Drama|        8.2|\"In a future Brit...| plots to overthr...|              62|    James McTeigue|        Hugo Weaving|   Natalie Portman|     Rupert Graves|    Stephen Rea|1032749.0|   1|\n",
            "|https://m.media-a...|    Scent of a Woman|         1992|         UA|156 min|    Drama|        8.0|\"A prep school st...| but the job is n...|              59|      Martin Brest|           Al Pacino|   Chris O'Donnell|     James Rebhorn|Gabrielle Anwar| 263918.0|   2|\n",
            "|https://m.media-a...|Sen to Chihiro no...|         2001|          U|125 min|   Family|        8.6|During her family...|                  96|  Hayao Miyazaki|     Daveigh Chase|   Suzanne Pleshette|        Miyu Irino|      Rumi Hiiragi|         651376|     NULL|   1|\n",
            "|https://m.media-a...|It's a Wonderful ...|         1946|         PG|130 min|   Family|        8.6|An angel is sent ...|                  89|     Frank Capra|     James Stewart|          Donna Reed|  Lionel Barrymore|   Thomas Mitchell|         405801|     NULL|   2|\n",
            "|https://m.media-a...|Star Wars: Episod...|         1980|         UA|124 min|  Fantasy|        8.7|After the Rebels ...|                  82|  Irvin Kershner|       Mark Hamill|       Harrison Ford|     Carrie Fisher|Billy Dee Williams|        1159315|     NULL|   1|\n",
            "|https://m.media-a...|      The Green Mile|         1999|          A|189 min|  Fantasy|        8.6|The lives of guar...|                  61|  Frank Darabont|         Tom Hanks|Michael Clarke Du...|       David Morse|       Bonnie Hunt|        1147794|     NULL|   2|\n",
            "|https://m.media-a...|        Sunset Blvd.|         1950|     Passed|110 min|Film-Noir|        8.4|A screenwriter de...|                NULL|    Billy Wilder|    William Holden|      Gloria Swanson|Erich von Stroheim|       Nancy Olson|         201632|     NULL|   1|\n",
            "|https://m.media-a...|    Double Indemnity|         1944|     Passed|107 min|Film-Noir|        8.3|An insurance repr...|                  95|    Billy Wilder|    Fred MacMurray|    Barbara Stanwyck|Edward G. Robinson|        Byron Barr|         143525|     NULL|   2|\n",
            "+--------------------+--------------------+-------------+-----------+-------+---------+-----------+--------------------+--------------------+----------------+------------------+--------------------+------------------+------------------+---------------+---------+----+\n",
            "only showing top 20 rows\n",
            "\n"
          ]
        }
      ]
    }
  ]
}