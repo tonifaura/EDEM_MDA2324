{
  "cells": [
    {
      "cell_type": "markdown",
      "metadata": {
        "id": "view-in-github",
        "colab_type": "text"
      },
      "source": [
        "<a href=\"https://colab.research.google.com/github/pepe54aguilar/EDEM_MDA2324/blob/Spark/school_shootings.ipynb\" target=\"_parent\"><img src=\"https://colab.research.google.com/assets/colab-badge.svg\" alt=\"Open In Colab\"/></a>"
      ]
    },
    {
      "cell_type": "markdown",
      "metadata": {
        "id": "u3WKxUMvQ9JW"
      },
      "source": [
        "# DataFrames Basics"
      ]
    },
    {
      "cell_type": "markdown",
      "metadata": {
        "id": "IBsRl4yARA3x"
      },
      "source": [
        "## Prerrequisites"
      ]
    },
    {
      "cell_type": "markdown",
      "metadata": {
        "id": "0KID1ObYRDA4"
      },
      "source": [
        "Install Spark and Java in VM"
      ]
    },
    {
      "cell_type": "code",
      "execution_count": 4,
      "metadata": {
        "id": "-9EjQzqhRJSZ"
      },
      "outputs": [],
      "source": [
        "# install Java8\n",
        "!apt-get install openjdk-8-jdk-headless -qq > /dev/null\n",
        "# download spark 3.5.0\n",
        "!wget -q https://apache.osuosl.org/spark/spark-3.5.0/spark-3.5.0-bin-hadoop3.tgz"
      ]
    },
    {
      "cell_type": "code",
      "execution_count": 5,
      "metadata": {
        "colab": {
          "base_uri": "https://localhost:8080/"
        },
        "id": "E4s6wcUsSPHQ",
        "outputId": "396ad0d5-e32d-43be-d031-9f0a9dcda3c2"
      },
      "outputs": [
        {
          "output_type": "stream",
          "name": "stdout",
          "text": [
            "total 392824\n",
            "-rw-r--r-- 1 root root   1432942 Jan 15 18:14 INCIDENT.csv\n",
            "drwxr-xr-x 1 root root      4096 Jan 11 17:02 \u001b[0m\u001b[01;34msample_data\u001b[0m/\n",
            "-rw-r--r-- 1 root root    215204 Jan 15 18:14 SHOOTER.csv\n",
            "-rw-r--r-- 1 root root 400395283 Sep  9 02:10 spark-3.5.0-bin-hadoop3.tgz\n",
            "-rw-r--r-- 1 root root    131060 Jan 15 18:14 VICTIM.csv\n",
            "-rw-r--r-- 1 root root     68620 Jan 15 18:14 WEAPON.csv\n"
          ]
        }
      ],
      "source": [
        "ls -l # check the .tgz is there"
      ]
    },
    {
      "cell_type": "code",
      "execution_count": 6,
      "metadata": {
        "id": "hSA_T2q7SEt_"
      },
      "outputs": [],
      "source": [
        "# unzip it\n",
        "!tar xf spark-3.5.0-bin-hadoop3.tgz"
      ]
    },
    {
      "cell_type": "code",
      "execution_count": 7,
      "metadata": {
        "id": "HpKEfJTeii2Y"
      },
      "outputs": [],
      "source": [
        "!pip install -q findspark"
      ]
    },
    {
      "cell_type": "code",
      "execution_count": 8,
      "metadata": {
        "colab": {
          "base_uri": "https://localhost:8080/"
        },
        "id": "zwH-zC17SGnP",
        "outputId": "81bc7b0a-3960-4feb-be3c-3a44b97877e6"
      },
      "outputs": [
        {
          "output_type": "stream",
          "name": "stdout",
          "text": [
            "Requirement already satisfied: py4j in /usr/local/lib/python3.10/dist-packages (0.10.9.7)\n",
            "Requirement already satisfied: folium in /usr/local/lib/python3.10/dist-packages (0.14.0)\n",
            "Requirement already satisfied: branca>=0.6.0 in /usr/local/lib/python3.10/dist-packages (from folium) (0.7.0)\n",
            "Requirement already satisfied: jinja2>=2.9 in /usr/local/lib/python3.10/dist-packages (from folium) (3.1.2)\n",
            "Requirement already satisfied: numpy in /usr/local/lib/python3.10/dist-packages (from folium) (1.23.5)\n",
            "Requirement already satisfied: requests in /usr/local/lib/python3.10/dist-packages (from folium) (2.31.0)\n",
            "Requirement already satisfied: MarkupSafe>=2.0 in /usr/local/lib/python3.10/dist-packages (from jinja2>=2.9->folium) (2.1.3)\n",
            "Requirement already satisfied: charset-normalizer<4,>=2 in /usr/local/lib/python3.10/dist-packages (from requests->folium) (3.3.2)\n",
            "Requirement already satisfied: idna<4,>=2.5 in /usr/local/lib/python3.10/dist-packages (from requests->folium) (3.6)\n",
            "Requirement already satisfied: urllib3<3,>=1.21.1 in /usr/local/lib/python3.10/dist-packages (from requests->folium) (2.0.7)\n",
            "Requirement already satisfied: certifi>=2017.4.17 in /usr/local/lib/python3.10/dist-packages (from requests->folium) (2023.11.17)\n",
            "Requirement already satisfied: plotly in /usr/local/lib/python3.10/dist-packages (5.15.0)\n",
            "Requirement already satisfied: tenacity>=6.2.0 in /usr/local/lib/python3.10/dist-packages (from plotly) (8.2.3)\n",
            "Requirement already satisfied: packaging in /usr/local/lib/python3.10/dist-packages (from plotly) (23.2)\n"
          ]
        }
      ],
      "source": [
        "\n",
        "!pip install py4j\n",
        "\n",
        "# For maps\n",
        "!pip install folium\n",
        "!pip install plotly"
      ]
    },
    {
      "cell_type": "markdown",
      "metadata": {
        "id": "y1tk452JRjuY"
      },
      "source": [
        "Define the environment"
      ]
    },
    {
      "cell_type": "code",
      "execution_count": 9,
      "metadata": {
        "id": "vrMxCiuZRl7h"
      },
      "outputs": [],
      "source": [
        "import os\n",
        "os.environ[\"JAVA_HOME\"] = \"/usr/lib/jvm/java-8-openjdk-amd64\"\n",
        "os.environ[\"SPARK_HOME\"] = \"/content/spark-3.5.0-bin-hadoop3\"\n",
        "os.environ[\"PYSPARK_SUBMIT_ARGS\"] = \"--master local[*] pyspark-shell\""
      ]
    },
    {
      "cell_type": "markdown",
      "metadata": {
        "id": "vk_3rL02Q9JZ"
      },
      "source": [
        "Start Spark Session\n",
        "\n",
        "---"
      ]
    },
    {
      "cell_type": "code",
      "execution_count": 10,
      "metadata": {
        "colab": {
          "base_uri": "https://localhost:8080/",
          "height": 35
        },
        "id": "-HtQz6mfQ9JZ",
        "outputId": "007bac95-f4b0-4bd9-a196-d96440b611f3"
      },
      "outputs": [
        {
          "output_type": "execute_result",
          "data": {
            "text/plain": [
              "'3.5.0'"
            ],
            "application/vnd.google.colaboratory.intrinsic+json": {
              "type": "string"
            }
          },
          "metadata": {},
          "execution_count": 10
        }
      ],
      "source": [
        "import findspark\n",
        "findspark.init(\"spark-3.5.0-bin-hadoop3\")# SPARK_HOME\n",
        "\n",
        "from pyspark.sql import SparkSession\n",
        "\n",
        "# create the session\n",
        "spark = SparkSession \\\n",
        "        .builder \\\n",
        "        .appName(\"DataFrames Basics\") \\\n",
        "        .master(\"local[*]\") \\\n",
        "        .getOrCreate()\n",
        "\n",
        "spark.version"
      ]
    },
    {
      "cell_type": "code",
      "execution_count": 11,
      "metadata": {
        "colab": {
          "base_uri": "https://localhost:8080/",
          "height": 219
        },
        "id": "DrOjmfL9Q9Ja",
        "outputId": "fb0a0a4f-3697-4fb2-a777-9891d1a81741"
      },
      "outputs": [
        {
          "output_type": "execute_result",
          "data": {
            "text/plain": [
              "<pyspark.sql.session.SparkSession at 0x7848d86c3760>"
            ],
            "text/html": [
              "\n",
              "            <div>\n",
              "                <p><b>SparkSession - in-memory</b></p>\n",
              "                \n",
              "        <div>\n",
              "            <p><b>SparkContext</b></p>\n",
              "\n",
              "            <p><a href=\"http://aaa6bf13d56b:4040\">Spark UI</a></p>\n",
              "\n",
              "            <dl>\n",
              "              <dt>Version</dt>\n",
              "                <dd><code>v3.5.0</code></dd>\n",
              "              <dt>Master</dt>\n",
              "                <dd><code>local[*]</code></dd>\n",
              "              <dt>AppName</dt>\n",
              "                <dd><code>DataFrames Basics</code></dd>\n",
              "            </dl>\n",
              "        </div>\n",
              "        \n",
              "            </div>\n",
              "        "
            ]
          },
          "metadata": {},
          "execution_count": 11
        }
      ],
      "source": [
        "spark"
      ]
    },
    {
      "cell_type": "code",
      "execution_count": 12,
      "metadata": {
        "id": "IBZ8ufPAQ9Jb"
      },
      "outputs": [],
      "source": [
        "# For Pandas conversion optimization\n",
        "spark.conf.set(\"spark.sql.execution.arrow.enabled\", \"true\")"
      ]
    },
    {
      "cell_type": "code",
      "execution_count": 13,
      "metadata": {
        "id": "nJ-cdrAlQ9Jb"
      },
      "outputs": [],
      "source": [
        "# Import sql functions\n",
        "from pyspark.sql.functions import *"
      ]
    },
    {
      "cell_type": "markdown",
      "metadata": {
        "id": "AIP7U3YYTDbw"
      },
      "source": [
        "Download datasets"
      ]
    },
    {
      "cell_type": "code",
      "execution_count": 14,
      "metadata": {
        "id": "d63cazZLTKTv",
        "colab": {
          "base_uri": "https://localhost:8080/"
        },
        "outputId": "564de817-b286-4423-bb99-879c5c7c0f08"
      },
      "outputs": [
        {
          "output_type": "stream",
          "name": "stdout",
          "text": [
            "bank.csv  cars.json  movies.json  vehicles.csv\n"
          ]
        }
      ],
      "source": [
        "!mkdir -p dataset\n",
        "!wget -q https://raw.githubusercontent.com/paponsro/spark_edem_2324/master/dataset/cars.json -P /dataset\n",
        "!wget -q https://raw.githubusercontent.com/paponsro/spark_edem_2324/master/dataset/movies.json -P /dataset\n",
        "!wget -q https://github.com/masfworld/datahack_docker/raw/master/zeppelin/data/bank.csv -P /dataset\n",
        "!wget -q https://github.com/masfworld/datahack_docker/raw/master/zeppelin/data/vehicles.csv -P /dataset\n",
        "!ls /dataset"
      ]
    },
    {
      "cell_type": "code",
      "execution_count": 15,
      "metadata": {
        "colab": {
          "base_uri": "https://localhost:8080/"
        },
        "id": "ml1O2OiQU6ah",
        "outputId": "80ed6cd6-7aa7-4535-9d08-44edf905e4ae"
      },
      "outputs": [
        {
          "output_type": "stream",
          "name": "stdout",
          "text": [
            "total 1784\n",
            "-rw-r--r-- 1 root root  461474 Jan 15 18:18 bank.csv\n",
            "-rw-r--r-- 1 root root   74910 Jan 15 18:18 cars.json\n",
            "-rw-r--r-- 1 root root 1274347 Jan 15 18:18 movies.json\n",
            "-rw-r--r-- 1 root root    4370 Jan 15 18:18 vehicles.csv\n"
          ]
        }
      ],
      "source": [
        "ls -l /dataset"
      ]
    },
    {
      "cell_type": "code",
      "execution_count": 16,
      "metadata": {
        "id": "XxXiDT4XUgjl"
      },
      "outputs": [],
      "source": [
        "from pyspark.sql.types import Row\n",
        "from pyspark.sql.functions import *"
      ]
    },
    {
      "cell_type": "markdown",
      "source": [
        "Import databases"
      ],
      "metadata": {
        "id": "t5BMHiPqydyD"
      }
    },
    {
      "cell_type": "code",
      "source": [
        "IncidentDF = spark.read.option(\"header\", \"true\").option(\"delimiter\", \",\").csv(\"/content/INCIDENT.csv\")\n",
        "ShooterDF = spark.read.option(\"header\", \"true\").option(\"delimiter\", \",\").csv(\"/content/SHOOTER.csv\")\n",
        "VictimDF = spark.read.option(\"header\", \"true\").option(\"delimiter\", \",\").csv(\"/content/VICTIM.csv\")\n",
        "WeaponDF = spark.read.option(\"header\", \"true\").option(\"delimiter\", \",\").csv(\"/content/WEAPON.csv\")\n",
        "\n",
        "IncidentDF.show(1)\n",
        "ShooterDF.show(1)\n",
        "VictimDF.show(1)\n",
        "WeaponDF.show(1)\n"
      ],
      "metadata": {
        "colab": {
          "base_uri": "https://localhost:8080/"
        },
        "id": "KG8gpFRiydY8",
        "outputId": "c1a4bc92-a003-4256-9a75-d1ead35d464d"
      },
      "execution_count": 77,
      "outputs": [
        {
          "output_type": "stream",
          "name": "stdout",
          "text": [
            "+-------------+--------------------+-----------+---------------+-----------+--------+-------+--------------------+-----------+-----+------------+---------------+--------------------+-------------+-----------+----------+--------------------+--------------------+--------------------+----------------+----------+--------+---------+----------------+-------+-----------------+------------+----------+-----------+------------------+\n",
            "|  Incident_ID|             Sources|Number_News|Media_Attention|Reliability|    Date|Quarter|              School|       City|State|School_Level|       Location|       Location_Type|During_School|Time_Period|First_Shot|             Summary|           Narrative|           Situation|         Targets|Accomplice|Hostages|Barricade|Officer_Involved|Bullied|Domestic_Violence|Gang_Related|Preplanned|Shots_Fired|Active_Shooter_FBI|\n",
            "+-------------+--------------------+-----------+---------------+-----------+--------+-------+--------------------+-----------+-----+------------+---------------+--------------------+-------------+-----------+----------+--------------------+--------------------+--------------------+----------------+----------+--------+---------+----------------+-------+-----------------+------------+----------+-----------+------------------+\n",
            "|20220601CAULL|https://www.foxla...|         10|       Regional|          4|2022/6/1| Summer|Ulysses S. Grant ...|Los Angeles|   CA|        High|Front of School|Outside on School...|          Yes|  Dismissal|  15:25:00|Student shot in f...|16-year-olds stud...|Escalation of Dis...|Victims Targeted|        No|      No|       No|              No|     No|               No|         Yes|        No|       null|                No|\n",
            "+-------------+--------------------+-----------+---------------+-----------+--------+-------+--------------------+-----------+-----+------------+---------------+--------------------+-------------+-----------+----------+--------------------+--------------------+--------------------+----------------+----------+--------+---------+----------------+-------+-----------------+------------+----------+-----------+------------------+\n",
            "only showing top 1 row\n",
            "\n",
            "+-------------+---+------+----+-----------------+--------------+-----------+------+------------+-------+-----------------+---------------+\n",
            "|   incidentid|age|gender|race|schoolaffiliation|shooteroutcome|shooterdied|injury|chargesfiled|verdict|minorchargedadult|criminalhistory|\n",
            "+-------------+---+------+----+-----------------+--------------+-----------+------+------------+-------+-----------------+---------------+\n",
            "|19700105DCHIW| 15|  Male|NULL|          Student|       Unknown|         No|  None|        NULL|   NULL|             NULL|           NULL|\n",
            "+-------------+---+------+----+-----------------+--------------+-----------+------+------------+-------+-----------------+---------------+\n",
            "only showing top 1 row\n",
            "\n",
            "+-------------+----+------+------+-----------------+---+\n",
            "|   incidentid|race|injury|gender|schoolaffiliation|age|\n",
            "+-------------+----+------+------+-----------------+---+\n",
            "|19700105DCHIW|NULL| Fatal|  Male|          Student| 15|\n",
            "+-------------+----+------+------+-----------------+---+\n",
            "only showing top 1 row\n",
            "\n",
            "+-------------+-------------+-------------+----------+\n",
            "|   incidentid|weaponcaliber|weapondetails|weapontype|\n",
            "+-------------+-------------+-------------+----------+\n",
            "|19700105DCHIW|      Unknown|         NULL|   Handgun|\n",
            "+-------------+-------------+-------------+----------+\n",
            "only showing top 1 row\n",
            "\n"
          ]
        }
      ]
    },
    {
      "cell_type": "markdown",
      "source": [
        "We are going to study US School Shootings (1970-2022)"
      ],
      "metadata": {
        "id": "WpPiTFjUWQDL"
      }
    },
    {
      "cell_type": "markdown",
      "source": [
        "##Exercise 1."
      ],
      "metadata": {
        "id": "yux9ZXEBdo3G"
      }
    },
    {
      "cell_type": "markdown",
      "source": [
        "Number of incidents in 52 years."
      ],
      "metadata": {
        "id": "yRePAXmy1X3E"
      }
    },
    {
      "cell_type": "code",
      "source": [
        "IncidentDF.select(countDistinct(IncidentDF.Incident_ID)).show()"
      ],
      "metadata": {
        "colab": {
          "base_uri": "https://localhost:8080/"
        },
        "id": "gJFJrWo01nhq",
        "outputId": "3c9410c0-3c32-419f-f1bc-29bd8e1dc255"
      },
      "execution_count": 78,
      "outputs": [
        {
          "output_type": "stream",
          "name": "stdout",
          "text": [
            "+---------------------------+\n",
            "|count(DISTINCT Incident_ID)|\n",
            "+---------------------------+\n",
            "|                       2088|\n",
            "+---------------------------+\n",
            "\n"
          ]
        }
      ]
    },
    {
      "cell_type": "markdown",
      "source": [
        "Number of incidents per year."
      ],
      "metadata": {
        "id": "HiR_yAplawic"
      }
    },
    {
      "cell_type": "code",
      "source": [
        "IncidentDF = IncidentDF.withColumn(\"year\", substring(col(\"Date\"), 1, 4))"
      ],
      "metadata": {
        "id": "N9TEyA4dWx2q"
      },
      "execution_count": 79,
      "outputs": []
    },
    {
      "cell_type": "code",
      "source": [
        "shootings_per_year = IncidentDF.groupBy(\"year\").agg(\n",
        "    count(\"Incident_ID\").alias(\"total_shootings\"))\n",
        "shootings_per_year.orderBy(\"total_shootings\", ascending=False).show(15)"
      ],
      "metadata": {
        "colab": {
          "base_uri": "https://localhost:8080/"
        },
        "id": "dXs694-0ZwgK",
        "outputId": "4e9580ab-05a6-4a35-cc9e-4d31fb3c7694"
      },
      "execution_count": 80,
      "outputs": [
        {
          "output_type": "stream",
          "name": "stdout",
          "text": [
            "+----+---------------+\n",
            "|year|total_shootings|\n",
            "+----+---------------+\n",
            "|2021|            251|\n",
            "|2022|            147|\n",
            "|2019|            119|\n",
            "|2018|            118|\n",
            "|2020|            113|\n",
            "|2006|             59|\n",
            "|2017|             58|\n",
            "|2016|             49|\n",
            "|2005|             47|\n",
            "|1993|             47|\n",
            "|2014|             46|\n",
            "|2007|             44|\n",
            "|2015|             40|\n",
            "|1994|             39|\n",
            "|1988|             38|\n",
            "+----+---------------+\n",
            "only showing top 15 rows\n",
            "\n"
          ]
        }
      ]
    },
    {
      "cell_type": "markdown",
      "source": [
        "##Exercise 2."
      ],
      "metadata": {
        "id": "0JYVEpOnduKq"
      }
    },
    {
      "cell_type": "markdown",
      "source": [
        "Incident with the most deaths"
      ],
      "metadata": {
        "id": "KQEEVwEh2jff"
      }
    },
    {
      "cell_type": "code",
      "source": [
        "totVictimsDF = VictimDF.groupBy(\"incidentid\").agg(\n",
        "    sum(when(col(\"injury\") == \"Fatal\", 1).otherwise(0)).alias(\"total_fatalities\"))\n",
        "\n",
        "joinCondition = IncidentDF.Incident_ID == totVictimsDF.incidentid\n",
        "deathsDF = IncidentDF.join(totVictimsDF, joinCondition, \"inner\")\n",
        "\n",
        "selected_columns = [\"Incident_ID\", \"total_fatalities\", \"Media_Attention\", \"State\", \"year\", \"Preplanned\"]\n",
        "select_deathsDF = deathsDF.select(*selected_columns)\n",
        "\n",
        "select_deathsDF.orderBy(\"total_fatalities\", ascending=False).show(10)\n"
      ],
      "metadata": {
        "colab": {
          "base_uri": "https://localhost:8080/"
        },
        "id": "y-ILFbA33R2_",
        "outputId": "886dc53d-17a8-4d88-cb87-99c48ad2b609"
      },
      "execution_count": 81,
      "outputs": [
        {
          "output_type": "stream",
          "name": "stdout",
          "text": [
            "+-------------+----------------+---------------+-----+----+----------+\n",
            "|  Incident_ID|total_fatalities|Media_Attention|State|year|Preplanned|\n",
            "+-------------+----------------+---------------+-----+----+----------+\n",
            "|20121214CTSAN|              26|  International|   CT|2012|        No|\n",
            "|20220524TXROU|              20|  International|   TX|2022|       Yes|\n",
            "|20180214FLMAP|              17|           NULL|   FL|2018|       Yes|\n",
            "|19990420COCOL|              13|           NULL|   CO|1999|       Yes|\n",
            "|20180518TXSAS|              10|       National|   TX|2018|       Yes|\n",
            "|20050321MNRER|               8|           NULL|   MN|2005|       Yes|\n",
            "|20061002PAWEN|               5|           NULL|   PA|2006|       Yes|\n",
            "|19980324ARWEJ|               5|           NULL|   AR|1998|        No|\n",
            "|19890117CACLS|               5|       National|   CA|1989|        No|\n",
            "|20141024WAMAM|               4|       National|   WA|2014|        No|\n",
            "+-------------+----------------+---------------+-----+----+----------+\n",
            "only showing top 10 rows\n",
            "\n"
          ]
        }
      ]
    },
    {
      "cell_type": "markdown",
      "source": [
        "Characteristics of the perpetrator of the attack with the most deaths."
      ],
      "metadata": {
        "id": "abEyO_3VdZIp"
      }
    },
    {
      "cell_type": "code",
      "source": [
        "joinCondition = deathsDF.Incident_ID == ShooterDF.incidentid\n",
        "deaths_authorDF = ShooterDF.join(deathsDF, joinCondition, \"inner\")\n",
        "\n",
        "deaths_authorDF.orderBy(\"total_fatalities\", ascending=False).show(10)"
      ],
      "metadata": {
        "colab": {
          "base_uri": "https://localhost:8080/"
        },
        "id": "mt1grXdJdiBm",
        "outputId": "54f298f7-5e77-4b00-8850-b36302b5c927"
      },
      "execution_count": 82,
      "outputs": [
        {
          "output_type": "stream",
          "name": "stdout",
          "text": [
            "+-------------+---+------+--------------------+-----------------+--------------------+-----------+-------+--------------------+--------------------+-----------------+--------------------+-------------+--------------------+-----------+---------------+-----------+----------+-------+--------------------+------------+-----+------------+--------------------+--------------------+-------------+-----------------+----------+--------------------+--------------------+--------------------+--------------------+--------------------+--------------------+--------------------+--------------------+--------------------+--------------------+---------------+----------+-----------+------------------+----+-------------+----------------+\n",
            "|   incidentid|age|gender|                race|schoolaffiliation|      shooteroutcome|shooterdied| injury|        chargesfiled|             verdict|minorchargedadult|     criminalhistory|  Incident_ID|             Sources|Number_News|Media_Attention|Reliability|      Date|Quarter|              School|        City|State|School_Level|            Location|       Location_Type|During_School|      Time_Period|First_Shot|             Summary|           Narrative|           Situation|             Targets|          Accomplice|            Hostages|           Barricade|    Officer_Involved|             Bullied|   Domestic_Violence|   Gang_Related|Preplanned|Shots_Fired|Active_Shooter_FBI|year|   incidentid|total_fatalities|\n",
            "+-------------+---+------+--------------------+-----------------+--------------------+-----------+-------+--------------------+--------------------+-----------------+--------------------+-------------+--------------------+-----------+---------------+-----------+----------+-------+--------------------+------------+-----+------------+--------------------+--------------------+-------------+-----------------+----------+--------------------+--------------------+--------------------+--------------------+--------------------+--------------------+--------------------+--------------------+--------------------+--------------------+---------------+----------+-----------+------------------+----+-------------+----------------+\n",
            "|20121214CTSAN| 20|  Male|               White|   Former Student|             Suicide|        Yes|Suicide|                 N/A|                NULL|             NULL|Hacked into a gov...|20121214CTSAN|http://www.nydail...|        100|  International|          5|2012/12/14| Winter|Sandy Hook Elemen...|     Newtown|   CT|  Elementary|           Classroom|Inside School Bui...|          Yes|  Morning Classes|   9:35:00|Shooter though so...|\"On Dec 14, 2012,...| encouraging his ...|    multiple weapons|     NRA certificate| and a photograph...| who lived in the...| only by email. H...| took medication ...|Indiscriminate Sh...|Random Shooting|        No|         No|                No|2012|20121214CTSAN|              26|\n",
            "|20220524TXROU| 18|  Male|                null|             null|Apprehended/Kille...|        Yes|  Fatal|                null|                null|             null|                null|20220524TXROU|https://www.abc.n...|        999|  International|          4| 2022/5/24| Spring|Robb Elementary S...|      Uvalde|   TX|  Elementary|Inside School Bui...|Inside School Bui...|          Yes|  Morning Classes|  11:30:00|Indiscriminate at...|             Pending|Indiscriminate Sh...|     Random Shooting|                  No|                  No|                 Yes|                  No|                null|                null|             No|       Yes|        250|               Yes|2022|20220524TXROU|              20|\n",
            "|20180214FLMAP| 19|  Male|               White|   Former Student|    Fled/Apprehended|         No|   None|                NULL|                NULL|             NULL|        Yes, Unknown|20180214FLMAP|https://www.cnn.c...|       NULL|           NULL|          4| 2018/2/14| Winter|Marjory Stoneman ...|    Parkland|   FL|        High|             Hallway|Inside School Bui...|          Yes|Afternoon Classes|  14:21:00|Planned attack by...|Former student. P...|Indiscriminate Sh...|     Random Shooting|                NULL|                  No|                  No|                  No|                  No|                  No|             No|       Yes|       NULL|               Yes|2018|20180214FLMAP|              17|\n",
            "|19990420COCOL| 18|  Male|               White|          Student|             Suicide|        Yes|Suicide|                 N/A|                NULL|             NULL|                  No|19990420COCOL|https://www.histo...|       NULL|           NULL|          5| 1999/4/20| Spring|Columbine High Sc...|   Littleton|   CO|        High|           Cafeteria|Inside School Bui...|          Yes|  Morning Classes|  11:19:00|Planned attack an...|Shooter planned a...|Indiscriminate Sh...|                Both|                 Yes|                  No|                  No|                  No|                 Yes|                  No|             No|       Yes|        188|               Yes|1999|19990420COCOL|              13|\n",
            "|19990420COCOL| 17|  Male|               White|          Student|             Suicide|        Yes|Suicide|                 N/A|                NULL|             NULL|                  No|19990420COCOL|https://www.histo...|       NULL|           NULL|          5| 1999/4/20| Spring|Columbine High Sc...|   Littleton|   CO|        High|           Cafeteria|Inside School Bui...|          Yes|  Morning Classes|  11:19:00|Planned attack an...|Shooter planned a...|Indiscriminate Sh...|                Both|                 Yes|                  No|                  No|                  No|                 Yes|                  No|             No|       Yes|        188|               Yes|1999|19990420COCOL|              13|\n",
            "|20180518TXSAS| 17|  Male|               White|          Student|         Surrendered|         No|   None|charged as an adu...|not competent to ...|              Yes|                  No|20180518TXSAS|https://www.wsj.c...|       NULL|       National|          5| 2018/5/18| Spring|Santa Fe High School|    Santa Fe|   TX|        High|           Classroom|Inside School Bui...|          Yes|  Morning Classes|   7:45:00|Planned attack af...|\"Shooter wore a b...|Indiscriminate Sh...|                Both|                  No|                  No|                 Yes|                  No|                 Yes|                  No|             No|       Yes|       NULL|               Yes|2018|20180518TXSAS|              10|\n",
            "|20050321MNRER| 16|  Male|Native American/A...|   Former Student|             Suicide|        Yes|Suicide|                NULL|                NULL|             NULL|                NULL|20050321MNRER|https://www.mprne...|       NULL|           NULL|          5| 2005/3/21| Spring|Red Lake Senior H...|    Red Lake|   MN|        High|             Hallway|Inside School Bui...|          Yes|Afternoon Classes|  14:49:00|Planned attack on...|Shooter killed hi...|Indiscriminate Sh...|     Random Shooting|                  No|                  No|                  No|                  No|                 Yes|                  No|             No|       Yes|       NULL|               Yes|2005|20050321MNRER|               8|\n",
            "|19980324ARWEJ| 13|  Male|               White|          Student|    Fled/Apprehended|         No|   None|  Murder and Assault|Confinement until...|               No|                NULL|19980324ARWEJ|http://abcnews.go...|       NULL|           NULL|          2| 1998/3/24| Spring|Westside Middle S...|   Jonesboro|   AR|      Middle|     Field (General)|Outside on School...|          Yes|Afternoon Classes|  12:41:00|Planned attack by...|\"Johnson (13 year...| unregistered han...| and theft. All v...|Indiscriminate Sh...|     Random Shooting|                 Yes|                  No|                  No|                  No|             No|        No|         No|               Yes|1998|19980324ARWEJ|               5|\n",
            "|20061002PAWEN| 32|  Male|               White|      No Relation|             Suicide|        Yes|Suicide|                NULL|                NULL|             NULL|                NULL|20061002PAWEN|https://www.nytim...|       NULL|           NULL|          5| 2006/10/2|   Fall|West Nickel Mines...|Nickel Mines|   PA|        K-12|           Classroom|Inside School Bui...|          Yes|  Morning Classes|  11:07:00|Shot girls in Ami...|\"Shooter barricad...|             shotgun|        30.06 rifle\"|Indiscriminate Sh...|     Random Shooting|                  No|                  No|                 Yes|                  No|             No|       Yes|         No|               Yes|2006|20061002PAWEN|               5|\n",
            "|19980324ARWEJ| 11|  Male|               White|          Student|    Fled/Apprehended|         No|   None|  Murder and Assault|Confinement until...|               No|                NULL|19980324ARWEJ|http://abcnews.go...|       NULL|           NULL|          2| 1998/3/24| Spring|Westside Middle S...|   Jonesboro|   AR|      Middle|     Field (General)|Outside on School...|          Yes|Afternoon Classes|  12:41:00|Planned attack by...|\"Johnson (13 year...| unregistered han...| and theft. All v...|Indiscriminate Sh...|     Random Shooting|                 Yes|                  No|                  No|                  No|             No|        No|         No|               Yes|1998|19980324ARWEJ|               5|\n",
            "+-------------+---+------+--------------------+-----------------+--------------------+-----------+-------+--------------------+--------------------+-----------------+--------------------+-------------+--------------------+-----------+---------------+-----------+----------+-------+--------------------+------------+-----+------------+--------------------+--------------------+-------------+-----------------+----------+--------------------+--------------------+--------------------+--------------------+--------------------+--------------------+--------------------+--------------------+--------------------+--------------------+---------------+----------+-----------+------------------+----+-------------+----------------+\n",
            "only showing top 10 rows\n",
            "\n"
          ]
        }
      ]
    },
    {
      "cell_type": "markdown",
      "source": [
        "The average age of the victims per incident."
      ],
      "metadata": {
        "id": "6tp1gJYPjRpq"
      }
    },
    {
      "cell_type": "code",
      "source": [
        "totVictims_ageDF = VictimDF.groupBy(\"incidentid\").agg(\n",
        "    sum(when(col(\"injury\") == \"Fatal\", 1).otherwise(0)).alias(\"total_fatalities\"),\n",
        "    avg(round(col(\"age\"), 2)).alias(\"avg_age\")\n",
        ")\n",
        "\n",
        "totVictims_ageDF.orderBy(\"total_fatalities\", ascending=False).show(10)"
      ],
      "metadata": {
        "colab": {
          "base_uri": "https://localhost:8080/"
        },
        "id": "ZKb-TuICjW_J",
        "outputId": "fdf6a2ed-ab3d-42b5-8c06-6f4f750ffc03"
      },
      "execution_count": 83,
      "outputs": [
        {
          "output_type": "stream",
          "name": "stdout",
          "text": [
            "+-------------+----------------+------------------+\n",
            "|   incidentid|total_fatalities|           avg_age|\n",
            "+-------------+----------------+------------------+\n",
            "|20121214CTSAN|              26|14.038461538461538|\n",
            "|20220524TXROU|              20|              NULL|\n",
            "|20180214FLMAP|              17|             19.92|\n",
            "|19990420COCOL|              13|18.852941176470587|\n",
            "|20180518TXSAS|              10|              25.3|\n",
            "|20050321MNRER|               8|19.692307692307693|\n",
            "|20061002PAWEN|               5|               9.4|\n",
            "|19980324ARWEJ|               5|              15.4|\n",
            "|19890117CACLS|               5|             7.125|\n",
            "|20141024WAMAM|               4|              14.2|\n",
            "+-------------+----------------+------------------+\n",
            "only showing top 10 rows\n",
            "\n"
          ]
        }
      ]
    },
    {
      "cell_type": "markdown",
      "source": [
        "The weapon used in the attack with the most deaths"
      ],
      "metadata": {
        "id": "9Soa3BVQg0Sp"
      }
    },
    {
      "cell_type": "code",
      "source": [
        "joinCondition = deathsDF.Incident_ID == WeaponDF.incidentid\n",
        "deaths_weaponDF = WeaponDF.join(deathsDF, joinCondition, \"inner\")\n",
        "\n",
        "deaths_weaponDF.orderBy(\"total_fatalities\", ascending=False).show(10)"
      ],
      "metadata": {
        "colab": {
          "base_uri": "https://localhost:8080/"
        },
        "id": "pa58qs8Pg64A",
        "outputId": "fa76d685-1366-475b-849d-59d98067ecfe"
      },
      "execution_count": 84,
      "outputs": [
        {
          "output_type": "stream",
          "name": "stdout",
          "text": [
            "+-------------+-------------+--------------------+---------------+-------------+--------------------+-----------+---------------+-----------+----------+-------+--------------------+---------+-----+------------+--------------------+--------------------+-------------+-----------------+----------+--------------------+--------------------+--------------------+-----------------+----------------+--------------------+--------------------+--------------------+--------------------+--------------------+---------------+----------+-----------+------------------+----+-------------+----------------+\n",
            "|   incidentid|weaponcaliber|       weapondetails|     weapontype|  Incident_ID|             Sources|Number_News|Media_Attention|Reliability|      Date|Quarter|              School|     City|State|School_Level|            Location|       Location_Type|During_School|      Time_Period|First_Shot|             Summary|           Narrative|           Situation|          Targets|      Accomplice|            Hostages|           Barricade|    Officer_Involved|             Bullied|   Domestic_Violence|   Gang_Related|Preplanned|Shots_Fired|Active_Shooter_FBI|year|   incidentid|total_fatalities|\n",
            "+-------------+-------------+--------------------+---------------+-------------+--------------------+-----------+---------------+-----------+----------+-------+--------------------+---------+-----+------------+--------------------+--------------------+-------------+-----------------+----------+--------------------+--------------------+--------------------+-----------------+----------------+--------------------+--------------------+--------------------+--------------------+--------------------+---------------+----------+-----------+------------------+----+-------------+----------------+\n",
            "|20121214CTSAN|        AR-15|                NULL|          Rifle|20121214CTSAN|http://www.nydail...|        100|  International|          5|2012/12/14| Winter|Sandy Hook Elemen...|  Newtown|   CT|  Elementary|           Classroom|Inside School Bui...|          Yes|  Morning Classes|   9:35:00|Shooter though so...|\"On Dec 14, 2012,...| encouraging his ...| multiple weapons| NRA certificate| and a photograph...| who lived in the...| only by email. H...| took medication ...|Indiscriminate Sh...|Random Shooting|        No|         No|                No|2012|20121214CTSAN|              26|\n",
            "|20121214CTSAN|     12 gauge|                NULL|        Shotgun|20121214CTSAN|http://www.nydail...|        100|  International|          5|2012/12/14| Winter|Sandy Hook Elemen...|  Newtown|   CT|  Elementary|           Classroom|Inside School Bui...|          Yes|  Morning Classes|   9:35:00|Shooter though so...|\"On Dec 14, 2012,...| encouraging his ...| multiple weapons| NRA certificate| and a photograph...| who lived in the...| only by email. H...| took medication ...|Indiscriminate Sh...|Random Shooting|        No|         No|                No|2012|20121214CTSAN|              26|\n",
            "|20121214CTSAN|          9mm|                NULL|        Handgun|20121214CTSAN|http://www.nydail...|        100|  International|          5|2012/12/14| Winter|Sandy Hook Elemen...|  Newtown|   CT|  Elementary|           Classroom|Inside School Bui...|          Yes|  Morning Classes|   9:35:00|Shooter though so...|\"On Dec 14, 2012,...| encouraging his ...| multiple weapons| NRA certificate| and a photograph...| who lived in the...| only by email. H...| took medication ...|Indiscriminate Sh...|Random Shooting|        No|         No|                No|2012|20121214CTSAN|              26|\n",
            "|20121214CTSAN|         10mm|                NULL|        Handgun|20121214CTSAN|http://www.nydail...|        100|  International|          5|2012/12/14| Winter|Sandy Hook Elemen...|  Newtown|   CT|  Elementary|           Classroom|Inside School Bui...|          Yes|  Morning Classes|   9:35:00|Shooter though so...|\"On Dec 14, 2012,...| encouraging his ...| multiple weapons| NRA certificate| and a photograph...| who lived in the...| only by email. H...| took medication ...|Indiscriminate Sh...|Random Shooting|        No|         No|                No|2012|20121214CTSAN|              26|\n",
            "|20220524TXROU|         null|                null|Multiple Rifles|20220524TXROU|https://www.abc.n...|        999|  International|          4| 2022/5/24| Spring|Robb Elementary S...|   Uvalde|   TX|  Elementary|Inside School Bui...|Inside School Bui...|          Yes|  Morning Classes|  11:30:00|Indiscriminate at...|             Pending|Indiscriminate Sh...|  Random Shooting|              No|                  No|                 Yes|                  No|                null|                null|             No|       Yes|        250|               Yes|2022|20220524TXROU|              20|\n",
            "|20180214FLMAP|        AR-15|                NULL|          Rifle|20180214FLMAP|https://www.cnn.c...|       NULL|           NULL|          4| 2018/2/14| Winter|Marjory Stoneman ...| Parkland|   FL|        High|             Hallway|Inside School Bui...|          Yes|Afternoon Classes|  14:21:00|Planned attack by...|Former student. P...|Indiscriminate Sh...|  Random Shooting|            NULL|                  No|                  No|                  No|                  No|                  No|             No|       Yes|       NULL|               Yes|2018|20180214FLMAP|              17|\n",
            "|19990420COCOL|     12 gauge|Double Barrel (sa...|        Shotgun|19990420COCOL|https://www.histo...|       NULL|           NULL|          5| 1999/4/20| Spring|Columbine High Sc...|Littleton|   CO|        High|           Cafeteria|Inside School Bui...|          Yes|  Morning Classes|  11:19:00|Planned attack an...|Shooter planned a...|Indiscriminate Sh...|             Both|             Yes|                  No|                  No|                  No|                 Yes|                  No|             No|       Yes|        188|               Yes|1999|19990420COCOL|              13|\n",
            "|19990420COCOL|     12 gauge|         Pump Action|        Shotgun|19990420COCOL|https://www.histo...|       NULL|           NULL|          5| 1999/4/20| Spring|Columbine High Sc...|Littleton|   CO|        High|           Cafeteria|Inside School Bui...|          Yes|  Morning Classes|  11:19:00|Planned attack an...|Shooter planned a...|Indiscriminate Sh...|             Both|             Yes|                  No|                  No|                  No|                 Yes|                  No|             No|       Yes|        188|               Yes|1999|19990420COCOL|              13|\n",
            "|19990420COCOL|          9mm|Hi-Point 995 Carbine|          Rifle|19990420COCOL|https://www.histo...|       NULL|           NULL|          5| 1999/4/20| Spring|Columbine High Sc...|Littleton|   CO|        High|           Cafeteria|Inside School Bui...|          Yes|  Morning Classes|  11:19:00|Planned attack an...|Shooter planned a...|Indiscriminate Sh...|             Both|             Yes|                  No|                  No|                  No|                 Yes|                  No|             No|       Yes|        188|               Yes|1999|19990420COCOL|              13|\n",
            "|19990420COCOL|          9mm|         TECH 9 Mini|        Handgun|19990420COCOL|https://www.histo...|       NULL|           NULL|          5| 1999/4/20| Spring|Columbine High Sc...|Littleton|   CO|        High|           Cafeteria|Inside School Bui...|          Yes|  Morning Classes|  11:19:00|Planned attack an...|Shooter planned a...|Indiscriminate Sh...|             Both|             Yes|                  No|                  No|                  No|                 Yes|                  No|             No|       Yes|        188|               Yes|1999|19990420COCOL|              13|\n",
            "+-------------+-------------+--------------------+---------------+-------------+--------------------+-----------+---------------+-----------+----------+-------+--------------------+---------+-----+------------+--------------------+--------------------+-------------+-----------------+----------+--------------------+--------------------+--------------------+-----------------+----------------+--------------------+--------------------+--------------------+--------------------+--------------------+---------------+----------+-----------+------------------+----+-------------+----------------+\n",
            "only showing top 10 rows\n",
            "\n"
          ]
        }
      ]
    },
    {
      "cell_type": "markdown",
      "source": [
        "##Exercise 3."
      ],
      "metadata": {
        "id": "2ap0lkCCfUhm"
      }
    },
    {
      "cell_type": "markdown",
      "source": [
        "Incidents per state"
      ],
      "metadata": {
        "id": "mteoFYjei0Qv"
      }
    },
    {
      "cell_type": "code",
      "source": [
        "stateDF = IncidentDF.groupBy(\"State\").agg(\n",
        "    count(\"Incident_ID\").alias(\"Incident_per_state\"))\n",
        "\n",
        "stateDF.orderBy(\"Incident_per_state\", ascending=False).show(10)"
      ],
      "metadata": {
        "colab": {
          "base_uri": "https://localhost:8080/"
        },
        "id": "dHl04hogjgHl",
        "outputId": "59566da0-0eef-4bf2-bf13-43e493e77120"
      },
      "execution_count": 66,
      "outputs": [
        {
          "output_type": "stream",
          "name": "stdout",
          "text": [
            "+-----+------------------+\n",
            "|State|Incident_per_state|\n",
            "+-----+------------------+\n",
            "|   CA|               216|\n",
            "|   TX|               176|\n",
            "|   FL|               119|\n",
            "|   IL|               111|\n",
            "|   PA|                87|\n",
            "|   MI|                86|\n",
            "|   OH|                86|\n",
            "|   NY|                76|\n",
            "|   GA|                71|\n",
            "|   NC|                69|\n",
            "+-----+------------------+\n",
            "only showing top 10 rows\n",
            "\n"
          ]
        }
      ]
    },
    {
      "cell_type": "markdown",
      "source": [
        "Comparation between incidents and deaths per state"
      ],
      "metadata": {
        "id": "8ElVCSW9mHG5"
      }
    },
    {
      "cell_type": "code",
      "source": [
        "deaths_stateDF = deathsDF.groupBy(\"State\").agg(\n",
        "    sum(\"total_fatalities\").alias(\"deaths_per_state\"))\n",
        "\n",
        "deaths_stateDF = deaths_stateDF.withColumnRenamed(\"State\", \"id\")\n",
        "\n",
        "joinCondition = stateDF.State == deaths_stateDF.id\n",
        "total_stateDF = stateDF.join(deaths_stateDF, joinCondition, \"inner\")\n",
        "\n",
        "total_stateDF = total_stateDF.drop(col(\"id\"))\n",
        "\n",
        "total_stateDF = total_stateDF.withColumn(\n",
        "    \"death_per_incident\", round(col(\"deaths_per_state\") / col(\"Incident_per_state\"), 2))\n",
        "\n",
        "total_stateDF.orderBy(\"Incident_per_state\", ascending=False).show(11)"
      ],
      "metadata": {
        "colab": {
          "base_uri": "https://localhost:8080/"
        },
        "id": "bUfdkrgFmVVu",
        "outputId": "435632cd-6a86-438c-f42c-4836daff7996"
      },
      "execution_count": 76,
      "outputs": [
        {
          "output_type": "stream",
          "name": "stdout",
          "text": [
            "+-----+------------------+----------------+------------------+\n",
            "|State|Incident_per_state|deaths_per_state|death_per_incident|\n",
            "+-----+------------------+----------------+------------------+\n",
            "|   CA|               216|              85|              0.39|\n",
            "|   TX|               176|              73|              0.41|\n",
            "|   FL|               119|              48|               0.4|\n",
            "|   IL|               111|              33|               0.3|\n",
            "|   PA|                87|              29|              0.33|\n",
            "|   MI|                86|              19|              0.22|\n",
            "|   OH|                86|              20|              0.23|\n",
            "|   NY|                76|              21|              0.28|\n",
            "|   GA|                71|              16|              0.23|\n",
            "|   NC|                69|               8|              0.12|\n",
            "|   TN|                67|              22|              0.33|\n",
            "+-----+------------------+----------------+------------------+\n",
            "only showing top 11 rows\n",
            "\n"
          ]
        }
      ]
    }
  ],
  "metadata": {
    "colab": {
      "collapsed_sections": [
        "94aRTBiPQ9Jc"
      ],
      "provenance": [],
      "include_colab_link": true
    },
    "kernelspec": {
      "display_name": "Python 3.10.0 64-bit",
      "language": "python",
      "name": "python3"
    },
    "language_info": {
      "codemirror_mode": {
        "name": "ipython",
        "version": 3
      },
      "file_extension": ".py",
      "mimetype": "text/x-python",
      "name": "python",
      "nbconvert_exporter": "python",
      "pygments_lexer": "ipython3",
      "version": "3.10.0"
    },
    "orig_nbformat": 4,
    "vscode": {
      "interpreter": {
        "hash": "ff1af5cda0bea4fe5c4ebc1f94ab9f13d8998f98d08e16d8aba48673b9d00116"
      }
    }
  },
  "nbformat": 4,
  "nbformat_minor": 0
}