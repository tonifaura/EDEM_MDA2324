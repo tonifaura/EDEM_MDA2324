{
  "nbformat": 4,
  "nbformat_minor": 0,
  "metadata": {
    "colab": {
      "provenance": []
    },
    "kernelspec": {
      "name": "python3",
      "display_name": "Python 3"
    },
    "language_info": {
      "name": "python"
    }
  },
  "cells": [
    {
      "cell_type": "markdown",
      "source": [
        "# ENTREGABLE 5"
      ],
      "metadata": {
        "id": "xr0fIzfVX-m2"
      }
    },
    {
      "cell_type": "markdown",
      "source": [
        "# INSTRUCCIONES"
      ],
      "metadata": {
        "id": "XkFBXXIeYBul"
      }
    },
    {
      "cell_type": "markdown",
      "source": [
        "Entrenar un perceptrón para que sea capaz de simular el comportamiento de una puerta AND.\n",
        "\n",
        "- Generar 5000 muestras aleatorias de entrenamiento, 500 de validación y 500 de test.\n",
        "\n",
        "\n",
        "*Pistas*\n",
        "\n",
        " * w es un vector que corresponde al valor de los pesos de cada neurona de entrada\n",
        " * b es un valor que corresponde al bias del modelo\n",
        " * El valor de la suma ponderada será el valor resultante de: *(pesos x entradas) + bias*. Para ello utilizar el producto escalar (*np.dot*)\n"
      ],
      "metadata": {
        "id": "Qy5ok3zYYDsU"
      }
    },
    {
      "cell_type": "code",
      "source": [
        "import numpy as np\n",
        "from tqdm import tqdm\n",
        "import matplotlib.pyplot as plt\n",
        "from sklearn.metrics import confusion_matrix"
      ],
      "metadata": {
        "id": "E94bkgYT0jcE"
      },
      "execution_count": null,
      "outputs": []
    },
    {
      "cell_type": "code",
      "execution_count": null,
      "metadata": {
        "id": "7-EvIbuU0hW3"
      },
      "outputs": [],
      "source": [
        "class Perceptron:\n",
        "    def __init__(self, input_size):\n",
        "        # Inicializamos los pesos y el sesgo de manera aleatoria\n",
        "        self.weights = ## a completar\n",
        "        self.bias = ## a completar\n",
        "\n",
        "    def sigmoid(self, x):\n",
        "        # Función de activación: sigmoide\n",
        "        return 1 / (1 + np.exp(-x))\n",
        "\n",
        "    def sigmoid_derivative(self, x):\n",
        "        # Derivada de la función sigmoide\n",
        "        return self.sigmoid(x) * (1 - self.sigmoid(x))\n",
        "\n",
        "    def predict(self, inputs):\n",
        "        # Calculamos la suma ponderada de las entradas\n",
        "        weighted_sum = ## a completar\n",
        "        # Aplicamos la función de activación y devolvemos la predicción\n",
        "        return self.sigmoid(weighted_sum)\n",
        "\n",
        "    def train(self, X_train, Y_train, X_validation, Y_validation, learning_rate=0.1, epochs=100):\n",
        "\n",
        "        train_error_by_epoch = []\n",
        "        val_error_by_epoch = []\n",
        "\n",
        "        for epoch in range(epochs):\n",
        "            train_error_acum = 0\n",
        "            for i in range(X_train.shape[0]):\n",
        "\n",
        "                inputs = X_train[i]\n",
        "\n",
        "                # Calcular la predicción del perceptrón\n",
        "                prediction = ## a completar\n",
        "\n",
        "                # Calcular el error\n",
        "                diferencia = ## a completar con etiqueta - prediccion\n",
        "                error = ## a completar con el error cuadratico medio\n",
        "                train_error_acum += error # Aquí se acumula el error\n",
        "\n",
        "                # Actualizar pesos y sesgo mediante el descenso del gradiente\n",
        "                weights_derivative = -2 * diferencia * self.sigmoid_derivative(prediction) * inputs\n",
        "                bias_derivative = -2 * diferencia * self.sigmoid_derivative(prediction)\n",
        "                self.weights = self.weights - learning_rate * weights_derivative\n",
        "                self.bias = self.bias - learning_rate * bias_derivative\n",
        "\n",
        "            # Calcular el error promedio por epoch\n",
        "            train_error_acum = ## a completar\n",
        "\n",
        "\n",
        "            val_error_acum = 0\n",
        "            for i in range(X_validation.shape[0]):\n",
        "                inputs = X_validation[i]\n",
        "                prediction =  ## a completar\n",
        "\n",
        "                diferencia = ## a completar con etiqueta - prediccion\n",
        "                error = ## a completar con el error cuadratico medio\n",
        "                train_error_acum += error # Aquí se acumula el error\n",
        "\n",
        "            # Calcular el error promedio de validación por epoch\n",
        "            val_error_acum = ## a completar\n",
        "\n",
        "\n",
        "            # Visualización del progreso\n",
        "            if epoch % 10 == 0:\n",
        "                print('epoch:', epoch, '| train error:', train_error_acum, '| val error:', val_error_acum)\n",
        "\n",
        "        # Visualización del error de entrenamiento por epoch\n",
        "        plt.figure()\n",
        "        plt.plot(range(epochs), train_error_by_epoch, '-b')\n",
        "        plt.xlabel('Epoch')\n",
        "        plt.ylabel('Error cuadrático promedio')\n",
        "        plt.title('Error de Entrenamiento por Epoch')\n",
        "        plt.show()\n",
        "\n",
        "        # Visualización del error de validación por epoch\n",
        "        plt.figure()\n",
        "        plt.plot(range(epochs), val_error_by_epoch, '-b')\n",
        "        plt.xlabel('Epoch')\n",
        "        plt.ylabel('Error cuadrático promedio')\n",
        "        plt.title('Error de Validación por Epoch')\n",
        "        plt.show()"
      ]
    },
    {
      "cell_type": "code",
      "source": [
        "# Datos de entrenamiento y validación para la puerta AND\n",
        "N_samples = ## a completar\n",
        "N_inputs = ## a completar\n",
        "train_size = ## a completar\n",
        "N_validation = int((1 - train_size) * N_samples)\n",
        "\n",
        "X_train = ## a completar\n",
        "Y_train = ## a completar\n",
        "\n",
        "X_validation = ## a completar\n",
        "Y_validation = ## a completar\n",
        "\n",
        "# Visualizar algunas muestras\n",
        "print(\"X_data (first 5 samples):\")\n",
        "print(X_train[:5])\n",
        "\n",
        "print(\"Y_data (first 5 samples):\")\n",
        "print(Y_train[:5])"
      ],
      "metadata": {
        "id": "Qv73YJdB2cxR"
      },
      "execution_count": null,
      "outputs": []
    },
    {
      "cell_type": "code",
      "source": [
        "# Crear y entrenar el perceptrón para la puerta AND\n",
        "perceptron_and = Perceptron(input_size=N_inputs)"
      ],
      "metadata": {
        "id": "YZ9O9kZr2e1m"
      },
      "execution_count": null,
      "outputs": []
    },
    {
      "cell_type": "code",
      "source": [
        "# Comprobar predicción del modelo sin entrenar\n",
        "index = 4\n",
        "\n",
        "th = 0.5\n",
        "print('Input:', X_validation[index])\n",
        "inputs = X_validation[index]\n",
        "prob = perceptron_and.predict(inputs)\n",
        "print('Probabilidad:', prob)\n",
        "print('Prediction:', (prob>th).astype('int'))"
      ],
      "metadata": {
        "id": "OATvOY6rZAA-"
      },
      "execution_count": null,
      "outputs": []
    },
    {
      "cell_type": "code",
      "source": [
        "# Obtenemos un overview de como funciona el modelo sin entrenar de forma aleatoria\n",
        "predictions = []\n",
        "\n",
        "## itera por cada muestra de validación y genera la matriz de confusion\n",
        "\n",
        "# Calcula la matriz de confusión\n",
        "conf_matrix = confusion_matrix(Y_validation, predictions)\n",
        "\n",
        "# Visualiza la matriz de confusión\n",
        "print(\"Matriz de Confusión:\")\n",
        "print(conf_matrix)"
      ],
      "metadata": {
        "id": "sNClS_hgZDa_"
      },
      "execution_count": null,
      "outputs": []
    },
    {
      "cell_type": "code",
      "source": [
        "# Entrenar el perceptrón\n",
        "perceptron_and.train(X_train, Y_train, X_validation, Y_validation)"
      ],
      "metadata": {
        "id": "cyDSfwTx2hLW"
      },
      "execution_count": null,
      "outputs": []
    },
    {
      "cell_type": "code",
      "source": [
        "# Comprobar ahora la predicción del modelo entrenado en el set de validacion\n",
        "index = 4\n",
        "\n",
        "th = 0.5\n",
        "print('Input:', X_validation[index])\n",
        "inputs = X_validation[index]\n",
        "prob = perceptron_and.predict(inputs)\n",
        "print('Probabilidad:', prob)\n",
        "print('Prediction:', (prob>th).astype('int'))"
      ],
      "metadata": {
        "id": "i7x_ASxyZaue"
      },
      "execution_count": null,
      "outputs": []
    },
    {
      "cell_type": "code",
      "source": [
        "# Evaluamos cómo funciona el modelo en el set de validación\n",
        "\n",
        "## itera por cada muestra de validación guardando las predicciones en una lista y genera la matriz de confusion\n",
        "\n",
        "# Calcula la matriz de confusión\n",
        "conf_matrix = confusion_matrix(Y_validation, predictions)\n",
        "\n",
        "# Visualiza la matriz de confusión\n",
        "print(\"Matriz de Confusión:\")\n",
        "print(conf_matrix)"
      ],
      "metadata": {
        "id": "3f1Qjl0GeXqF"
      },
      "execution_count": null,
      "outputs": []
    },
    {
      "cell_type": "code",
      "source": [
        "# Evaluamos cómo funciona el modelo en el set de test\n",
        "\n",
        "## Generar el set de test (de forma similar al de validación)\n",
        "X_test = ## a completar\n",
        "Y_test = ## a completar\n",
        "## itera por cada muestra de test guardando las predicciones en una lista y genera la matriz de confusion\n",
        "\n",
        "## Calcula la matriz de confusión\n",
        "## a completar\n",
        "\n",
        "## Visualiza la matriz de confusión\n",
        "## a completar"
      ],
      "metadata": {
        "id": "1vcJGytH2uqj"
      },
      "execution_count": null,
      "outputs": []
    },
    {
      "cell_type": "code",
      "source": [],
      "metadata": {
        "id": "YbBk-pR1ZWWE"
      },
      "execution_count": null,
      "outputs": []
    }
  ]
}