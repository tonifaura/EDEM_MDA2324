{
  "cells": [
    {
      "cell_type": "markdown",
      "metadata": {
        "id": "b2tH9iXfzljb"
      },
      "source": [
        "<font color=\"#CA3532\"><h1 align=\"left\">Master Data Analytics. EDEM.</h1></font>\n",
        "<font color=\"#6E6E6E\"><h2 align=\"left\">Herramientas MLOps.</h2></font> \n",
        "<font color=\"#6E6E6E\"><h2 align=\"left\">Tarea 3. MLServer - scikit learn deployment.</h2></font> \n",
        "\n",
        "#### Daniel Ruiz Riquelme"
      ]
    },
    {
      "cell_type": "code",
      "execution_count": null,
      "metadata": {
        "colab": {
          "base_uri": "https://localhost:8080/"
        },
        "id": "nhy0of4Uznaa",
        "outputId": "556fda30-1e05-4f45-f0c0-854c7b199f39"
      },
      "outputs": [],
      "source": [
        "# !pip install mlserver\n",
        "# !pip install mlserver-sklearn\n",
        "# !pip install jupyter"
      ]
    },
    {
      "cell_type": "code",
      "execution_count": null,
      "metadata": {
        "colab": {
          "base_uri": "https://localhost:8080/"
        },
        "id": "2q6TUf4Jzljc",
        "outputId": "8d300122-52ae-47ed-d33e-cb6d2a1b6513"
      },
      "outputs": [],
      "source": [
        "%%writefile settings.json\n",
        "{\n",
        "    \"debug\": \"true\",\n",
        "    \"http_port\": 8000\n",
        "}"
      ]
    },
    {
      "cell_type": "code",
      "execution_count": null,
      "metadata": {
        "colab": {
          "base_uri": "https://localhost:8080/"
        },
        "id": "hYjbOTa8zlje",
        "outputId": "27597af5-30f2-4953-a4c3-dc6a6132273a"
      },
      "outputs": [],
      "source": [
        "%%writefile model-settings.json\n",
        "{\n",
        "    \"name\": \"iris-rf\",\n",
        "    \"implementation\": \"mlserver_sklearn.SKLearnModel\",\n",
        "    \"parameters\": {\n",
        "        \"uri\": \"model.pkl\",\n",
        "        \"version\": \"v0.1.0\"\n",
        "    }\n",
        "}"
      ]
    },
    {
      "cell_type": "code",
      "execution_count": null,
      "metadata": {
        "colab": {
          "base_uri": "https://localhost:8080/"
        },
        "id": "BpqkM7DKzlje",
        "outputId": "72fd96c8-9581-4ba2-9502-6fbebcba7ec1"
      },
      "outputs": [],
      "source": [
        "# Execute the following command to start the server in the background\n",
        "# ! nohup mlserver start . &"
      ]
    },
    {
      "cell_type": "code",
      "execution_count": null,
      "metadata": {
        "colab": {
          "base_uri": "https://localhost:8080/"
        },
        "id": "Z5iGg2aS1QEg",
        "outputId": "59a2ff69-584c-49da-a1f7-9eaaf417d46e"
      },
      "outputs": [],
      "source": [
        "# Check if the process is running\n",
        "! ps | grep mlserver"
      ]
    },
    {
      "cell_type": "code",
      "execution_count": null,
      "metadata": {
        "colab": {
          "base_uri": "https://localhost:8080/"
        },
        "id": "yvEQ-vDEzlje",
        "outputId": "3bb09cf7-98db-4fca-ef75-eda493657065"
      },
      "outputs": [],
      "source": [
        "from sklearn.datasets import load_iris\n",
        "iris = load_iris()\n",
        "X = iris.data\n",
        "X[:5]"
      ]
    },
    {
      "cell_type": "code",
      "execution_count": null,
      "metadata": {
        "colab": {
          "base_uri": "https://localhost:8080/"
        },
        "id": "qdCDEYPizlje",
        "outputId": "597b66db-bdef-44e8-a3cf-770d839ed389"
      },
      "outputs": [],
      "source": [
        "import requests\n",
        "import numpy as np\n",
        "\n",
        "x_0 = np.asarray([[5.9, 3. , 5.1, 1.8]])\n",
        "inference_request = {\n",
        "    \"inputs\": [\n",
        "        {\n",
        "          \"name\": \"predict\",\n",
        "          \"shape\": x_0.shape,\n",
        "          \"datatype\": \"FP32\",\n",
        "          \"data\": x_0.tolist()\n",
        "        }\n",
        "    ]\n",
        "}\n",
        "\n",
        "endpoint = \"http://localhost:8000/v2/models/iris-rf/versions/v0.1.0/infer\"\n",
        "response = requests.post(endpoint, json=inference_request)\n",
        "\n",
        "response.json()"
      ]
    }
  ],
  "metadata": {
    "colab": {
      "provenance": []
    },
    "kernelspec": {
      "display_name": "productionalization",
      "language": "python",
      "name": "python3"
    },
    "language_info": {
      "codemirror_mode": {
        "name": "ipython",
        "version": 3
      },
      "file_extension": ".py",
      "mimetype": "text/x-python",
      "name": "python",
      "nbconvert_exporter": "python",
      "pygments_lexer": "ipython3",
      "version": "3.10.14"
    },
    "orig_nbformat": 4,
    "vscode": {
      "interpreter": {
        "hash": "5ed29f95de7cc8ac0f18a32ccae5fbddd3dba9010e060d505f2ebe31fc64f080"
      }
    }
  },
  "nbformat": 4,
  "nbformat_minor": 0
}
